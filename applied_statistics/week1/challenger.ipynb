{
  "nbformat": 4,
  "nbformat_minor": 0,
  "metadata": {
    "colab": {
      "name": "Untitled1.ipynb",
      "provenance": []
    },
    "kernelspec": {
      "name": "python3",
      "display_name": "Python 3"
    }
  },
  "cells": [
    {
      "cell_type": "code",
      "metadata": {
        "id": "FX0BiMXUN3nt",
        "outputId": "c3fede3b-c7f3-4523-d2e0-824633de8d97",
        "colab": {
          "base_uri": "https://localhost:8080/"
        }
      },
      "source": [
        "data = pd.read_csv('challenger.txt', sep = '\\t', index_col =0)\n",
        "norm = data[data['Incident'] == 0].Temperature.values\n",
        "fail  = data[data['Incident'] == 1].Temperature.values\n",
        "norm.mean() - fail.mean()"
      ],
      "execution_count": 15,
      "outputs": [
        {
          "output_type": "execute_result",
          "data": {
            "text/plain": [
              "4.666964285714283"
            ]
          },
          "metadata": {
            "tags": []
          },
          "execution_count": 15
        }
      ]
    }
  ]
}