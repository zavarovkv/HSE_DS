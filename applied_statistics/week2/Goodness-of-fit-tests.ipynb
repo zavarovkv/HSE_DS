{
 "cells": [
  {
   "cell_type": "code",
   "execution_count": 1,
   "metadata": {},
   "outputs": [
    {
     "name": "stdout",
     "output_type": "stream",
     "text": [
      "Populating the interactive namespace from numpy and matplotlib\n"
     ]
    }
   ],
   "source": [
    "import numpy as np\n",
    "import pandas as pd\n",
    "from scipy import stats\n",
    "\n",
    "%pylab inline"
   ]
  },
  {
   "cell_type": "markdown",
   "metadata": {},
   "source": [
    "# Data: speed of light\n",
    "The following dataset consists of the results of a classic Michelson experiment (1880) - speed of light was measured with a rotating mirror. Could the measurements be well aproximated by normal distribution?"
   ]
  },
  {
   "cell_type": "code",
   "execution_count": 2,
   "metadata": {},
   "outputs": [
    {
     "data": {
      "text/html": [
       "<div>\n",
       "<style scoped>\n",
       "    .dataframe tbody tr th:only-of-type {\n",
       "        vertical-align: middle;\n",
       "    }\n",
       "\n",
       "    .dataframe tbody tr th {\n",
       "        vertical-align: top;\n",
       "    }\n",
       "\n",
       "    .dataframe thead th {\n",
       "        text-align: right;\n",
       "    }\n",
       "</style>\n",
       "<table border=\"1\" class=\"dataframe\">\n",
       "  <thead>\n",
       "    <tr style=\"text-align: right;\">\n",
       "      <th></th>\n",
       "      <th>speed</th>\n",
       "    </tr>\n",
       "  </thead>\n",
       "  <tbody>\n",
       "    <tr>\n",
       "      <th>0</th>\n",
       "      <td>299850</td>\n",
       "    </tr>\n",
       "    <tr>\n",
       "      <th>1</th>\n",
       "      <td>299740</td>\n",
       "    </tr>\n",
       "    <tr>\n",
       "      <th>2</th>\n",
       "      <td>299900</td>\n",
       "    </tr>\n",
       "    <tr>\n",
       "      <th>3</th>\n",
       "      <td>300070</td>\n",
       "    </tr>\n",
       "    <tr>\n",
       "      <th>4</th>\n",
       "      <td>299930</td>\n",
       "    </tr>\n",
       "  </tbody>\n",
       "</table>\n",
       "</div>"
      ],
      "text/plain": [
       "    speed\n",
       "0  299850\n",
       "1  299740\n",
       "2  299900\n",
       "3  300070\n",
       "4  299930"
      ]
     },
     "execution_count": 2,
     "metadata": {},
     "output_type": "execute_result"
    }
   ],
   "source": [
    "light_data = pd.read_csv('light speed.txt', sep='\\t', header=None)\n",
    "light_data.columns = ['speed']\n",
    "light_data.head()"
   ]
  },
  {
   "cell_type": "code",
   "execution_count": 3,
   "metadata": {},
   "outputs": [
    {
     "data": {
      "image/png": "[encoded data removed]",
      "text/plain": [
       "<Figure size 432x288 with 1 Axes>"
      ]
     },
     "metadata": {
      "needs_background": "light"
     },
     "output_type": "display_data"
    }
   ],
   "source": [
    "pylab.hist(light_data.speed);"
   ]
  },
  {
   "cell_type": "markdown",
   "metadata": {},
   "source": [
    "q-q plot for our sample:"
   ]
  },
  {
   "cell_type": "code",
   "execution_count": 4,
   "metadata": {},
   "outputs": [
    {
     "data": {
      "image/png": "[encoded data removed]",
      "text/plain": [
       "<Figure size 432x288 with 1 Axes>"
      ]
     },
     "metadata": {
      "needs_background": "light"
     },
     "output_type": "display_data"
    }
   ],
   "source": [
    "stats.probplot(light_data.speed, dist = \"norm\", plot = pylab);"
   ]
  },
  {
   "cell_type": "markdown",
   "metadata": {},
   "source": [
    "You can see that the points lie quite close to the line, which means that the sample is quite well approximated by normal distribution. But let's use statistical tests to check the ormality more formally."
   ]
  },
  {
   "cell_type": "markdown",
   "metadata": {},
   "source": [
    "# Chi-squared goodness-of-fit test\n",
    "$H_0$: speed of light measurements come from normal distibution\n",
    "\n",
    "$H_1$: $H_0$ is false\n",
    "\n",
    "To run chi-squared test, we need to:\n",
    "1. create bins over the sample's range\n",
    "2. count the number of observations in each bin\n",
    "3. estimate parameters of the distribution we assume in $H_0$ (in this case, $H_0$ states normal distribution, se we need to estimate its mean and variance)\n",
    "4. calculate expected counts in all bins under that distribution\n",
    "5. compare observed and expected counts with chi-squared test\n",
    "\n",
    "Let's take 1 and 2 from the standard histogram we just plotted:"
   ]
  },
  {
   "cell_type": "code",
   "execution_count": 5,
   "metadata": {},
   "outputs": [
    {
     "data": {
      "image/png": "[encoded data removed]",
      "text/plain": [
       "<Figure size 432x288 with 1 Axes>"
      ]
     },
     "metadata": {
      "needs_background": "light"
     },
     "output_type": "display_data"
    }
   ],
   "source": [
    "tmp = pylab.hist(light_data.speed)\n",
    "bins = tmp[1]\n",
    "observed_counts = tmp[0]"
   ]
  },
  {
   "cell_type": "markdown",
   "metadata": {},
   "source": [
    "3 – to fit normal distribution to the data, we need to estimate its mean and variance. We'll use sample mean and variance:"
   ]
  },
  {
   "cell_type": "code",
   "execution_count": 6,
   "metadata": {},
   "outputs": [],
   "source": [
    "h0_dist = stats.norm(loc = light_data.speed.mean(), scale = light_data.speed.std(ddof=1))"
   ]
  },
  {
   "cell_type": "markdown",
   "metadata": {},
   "source": [
    "4 – expected counts:"
   ]
  },
  {
   "cell_type": "code",
   "execution_count": 7,
   "metadata": {},
   "outputs": [],
   "source": [
    "cdf_at_bin_boundaries = h0_dist.cdf(bins)\n",
    "expected_counts = [len(light_data) * (t - s) for s, t in zip(cdf_at_bin_boundaries, cdf_at_bin_boundaries[1:])]"
   ]
  },
  {
   "cell_type": "markdown",
   "metadata": {},
   "source": [
    "5 – finally, let's compare the counts:"
   ]
  },
  {
   "cell_type": "code",
   "execution_count": 8,
   "metadata": {},
   "outputs": [
    {
     "data": {
      "text/plain": [
       "Power_divergenceResult(statistic=12.24548630525224, pvalue=0.09276947469231883)"
      ]
     },
     "execution_count": 8,
     "metadata": {},
     "output_type": "execute_result"
    }
   ],
   "source": [
    "stats.chisquare(f_obs = observed_counts, f_exp = expected_counts,\n",
    "                ddof = 2) # because we estimated two parameters of the distribution from the sample\n"
   ]
  },
  {
   "cell_type": "markdown",
   "metadata": {},
   "source": [
    "# Anderson-Darling test\n",
    "There's a finction is scipy for Anderson-Darling test! For some reason it only allows to test if the sample comes from one of these distributions: ‘norm’, ‘expon’, ‘logistic’, ‘gumbel’, ‘gumbel_l’, ‘gumbel_r’, ‘extreme1’. Luckily, normal distribution is one of them, so we can use the function for our problem:"
   ]
  },
  {
   "cell_type": "code",
   "execution_count": 9,
   "metadata": {},
   "outputs": [
    {
     "data": {
      "text/plain": [
       "AndersonResult(statistic=0.46076385565218914, critical_values=array([0.555, 0.632, 0.759, 0.885, 1.053]), significance_level=array([15. , 10. ,  5. ,  2.5,  1. ]))"
      ]
     },
     "execution_count": 9,
     "metadata": {},
     "output_type": "execute_result"
    }
   ],
   "source": [
    "stats.anderson(light_data.speed, dist='norm')"
   ]
  },
  {
   "cell_type": "markdown",
   "metadata": {},
   "source": [
    "Wow, the function does not actually calculate p-value - instead it returns something very oldschool: value fo the statistic and a table of critical values it should be compared with. Critical values are precomputed for significance_level=array([15. , 10. ,  5. ,  2.5,  1. ]), which means $\\alpha$ = [0.15, 0.1, 0.05, 0.025, 0.01]. \n",
    "\n",
    "In our case the value of the statistic 0.46 is smaller than the largest critical value corresponding to $\\alpha=0.15$, which means that for our data $p>0.15$ and null hypothesis is not rejected at 0.05.\n",
    "\n",
    "Just to make sure you understand how to work with critical values: assume you had observed value of the statistic equal to 0.8. It lies between critical values for $\\alpha=0.05$ and $\\alpha=0.025$, which means that the p-value is between 0.025 and 0.05.\n",
    "\n",
    "R is so much better at this!"
   ]
  },
  {
   "cell_type": "markdown",
   "metadata": {},
   "source": [
    "# Shapiro-Wilk test\n",
    "If you need to test normality, the best choice is Shapiro-Wilk test: it is designed specifically to test the hypothesis of normality, and has higher power than more general chi-squared and Anderson-Darling tests (which in theory can test hypothesis that your sample comes from any distribution)."
   ]
  },
  {
   "cell_type": "code",
   "execution_count": 10,
   "metadata": {},
   "outputs": [
    {
     "data": {
      "text/plain": [
       "ShapiroResult(statistic=0.9880793690681458, pvalue=0.5140784382820129)"
      ]
     },
     "execution_count": 10,
     "metadata": {},
     "output_type": "execute_result"
    }
   ],
   "source": [
    "stats.shapiro(light_data.speed)"
   ]
  },
  {
   "cell_type": "markdown",
   "metadata": {},
   "source": [
    "Again, the null hypothesis is not rejected."
   ]
  }
 ],
 "metadata": {
  "kernelspec": {
   "display_name": "Python 3",
   "language": "python",
   "name": "python3"
  },
  "language_info": {
   "codemirror_mode": {
    "name": "ipython",
    "version": 3
   },
   "file_extension": ".py",
   "mimetype": "text/x-python",
   "name": "python",
   "nbconvert_exporter": "python",
   "pygments_lexer": "ipython3",
   "version": "3.8.5"
  }
 },
 "nbformat": 4,
 "nbformat_minor": 4
}
