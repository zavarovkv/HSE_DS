{
 "cells": [
  {
   "cell_type": "code",
   "execution_count": 38,
   "id": "global-agency",
   "metadata": {},
   "outputs": [],
   "source": [
    "import statsmodels\n",
    "\n",
    "import numpy as np\n",
    "import scipy as sc\n",
    "from matplotlib import pyplot as plt\n",
    "\n",
    "from statsmodels.stats.proportion import proportion_confint, proportions_ztest, \\\n",
    "confint_proportions_2indep, test_proportions_2indep"
   ]
  },
  {
   "cell_type": "code",
   "execution_count": 41,
   "id": "amended-proof",
   "metadata": {},
   "outputs": [
    {
     "name": "stdout",
     "output_type": "stream",
     "text": [
      "Populating the interactive namespace from numpy and matplotlib\n"
     ]
    }
   ],
   "source": [
    "import numpy as np\n",
    "import pandas as pd\n",
    "import scipy as sc\n",
    "%pylab inline\n",
    "\n",
    "from statsmodels.stats.weightstats import DescrStatsW, CompareMeans"
   ]
  },
  {
   "cell_type": "code",
   "execution_count": 10,
   "id": "according-cameroon",
   "metadata": {},
   "outputs": [
    {
     "name": "stdout",
     "output_type": "stream",
     "text": [
      "Wald's interval: (0.004687750675049438, 0.010724297276960126)\n"
     ]
    }
   ],
   "source": [
    "print(\"Wald's interval:\", confint_proportions_2indep(189, 11034, 104, 11037, method = 'wald', compare='diff'))"
   ]
  },
  {
   "cell_type": "code",
   "execution_count": 11,
   "id": "caring-validation",
   "metadata": {},
   "outputs": [
    {
     "data": {
      "text/plain": [
       "<class 'statsmodels.stats.base.HolderTuple'>\n",
       "statistic = 5.00127490046852\n",
       "pvalue = 5.69524362691927e-07\n",
       "compare = diff\n",
       "method = score\n",
       "variance = 2.374101369219409e-06\n",
       "alternative = two-sided\n",
       "prop1_null = 0.013275338679715464\n",
       "prop2_null = 0.013275338679715464\n",
       "tuple = (5.00127490046852, 5.69524362691927e-07)\n",
       "diff = 0.0077060239760047815\n",
       "ratio = 1.8178017944535074\n",
       "odds_ratio = 1.8320539419087138\n",
       "value = 0"
      ]
     },
     "execution_count": 11,
     "metadata": {},
     "output_type": "execute_result"
    }
   ],
   "source": [
    "test_proportions_2indep(189, 11034, 104, 11037, alternative = 'two-sided', method = 'score')"
   ]
  },
  {
   "cell_type": "code",
   "execution_count": 13,
   "id": "hazardous-strength",
   "metadata": {},
   "outputs": [
    {
     "data": {
      "text/plain": [
       "1.8320539419087138"
      ]
     },
     "execution_count": 13,
     "metadata": {},
     "output_type": "execute_result"
    }
   ],
   "source": [
    "x = (189/11034)/ (1-189/11034) / (  (104/11037) / (1-104/11037))\n",
    "x"
   ]
  },
  {
   "cell_type": "code",
   "execution_count": 29,
   "id": "rocky-price",
   "metadata": {},
   "outputs": [],
   "source": [
    "def get_bootstrap_samples(x, n_resamples):\n",
    "    indices = np.random.randint(0, len(x), (n_resamples, len(x)))\n",
    "    resamples = x[indices]\n",
    "    return resamples"
   ]
  },
  {
   "cell_type": "code",
   "execution_count": 30,
   "id": "transsexual-ancient",
   "metadata": {},
   "outputs": [],
   "source": [
    "def percentile_interval(stat, alpha):\n",
    "    boundaries = np.percentile(stat, [100 * alpha / 2., 100 * (1 - alpha / 2.)])\n",
    "    return boundaries"
   ]
  },
  {
   "cell_type": "code",
   "execution_count": 31,
   "id": "adaptive-saudi",
   "metadata": {},
   "outputs": [],
   "source": [
    "sample1 = np.array([1] * 104 + [0] * 10933)\n",
    "sample2 = np.array([1] * 189 + [0] * 10845)"
   ]
  },
  {
   "cell_type": "code",
   "execution_count": 32,
   "id": "infrared-female",
   "metadata": {},
   "outputs": [
    {
     "name": "stdout",
     "output_type": "stream",
     "text": [
      "95% confidence interval for sample1 [0. 0.]\n",
      "95% confidence interval for sample2 [0. 0.]\n"
     ]
    }
   ],
   "source": [
    "np.random.seed(0)\n",
    "\n",
    "sample1_scores = list(map(np.median, get_bootstrap_samples(sample1, 1000)))\n",
    "sample2_scores = list(map(np.median, get_bootstrap_samples(sample2, 1000)))\n",
    "\n",
    "print(\"95% confidence interval for sample1\", percentile_interval(sample1_scores, x))\n",
    "print(\"95% confidence interval for sample2\", percentile_interval(sample2_scores, x))"
   ]
  },
  {
   "cell_type": "code",
   "execution_count": 39,
   "id": "published-milton",
   "metadata": {},
   "outputs": [
    {
     "ename": "AttributeError",
     "evalue": "module 'statsmodels.stats' has no attribute 'norm'",
     "output_type": "error",
     "traceback": [
      "\u001b[0;31m---------------------------------------------------------------------------\u001b[0m",
      "\u001b[0;31mAttributeError\u001b[0m                            Traceback (most recent call last)",
      "\u001b[0;32m<ipython-input-39-39a634e0c01c>\u001b[0m in \u001b[0;36m<module>\u001b[0;34m\u001b[0m\n\u001b[1;32m      1\u001b[0m \u001b[0mz\u001b[0m \u001b[0;34m=\u001b[0m \u001b[0;34m(\u001b[0m\u001b[0;36m9.57\u001b[0m \u001b[0;34m-\u001b[0m \u001b[0;36m9.5\u001b[0m\u001b[0;34m)\u001b[0m \u001b[0;34m/\u001b[0m \u001b[0;34m(\u001b[0m\u001b[0;36m0.4\u001b[0m \u001b[0;34m/\u001b[0m \u001b[0mnp\u001b[0m\u001b[0;34m.\u001b[0m\u001b[0msqrt\u001b[0m\u001b[0;34m(\u001b[0m\u001b[0;36m160\u001b[0m\u001b[0;34m)\u001b[0m\u001b[0;34m)\u001b[0m\u001b[0;34m\u001b[0m\u001b[0;34m\u001b[0m\u001b[0m\n\u001b[0;32m----> 2\u001b[0;31m \u001b[0mp\u001b[0m \u001b[0;34m=\u001b[0m \u001b[0;36m2\u001b[0m\u001b[0;34m*\u001b[0m\u001b[0;34m(\u001b[0m\u001b[0;36m1\u001b[0m\u001b[0;34m-\u001b[0m\u001b[0mstatsmodels\u001b[0m\u001b[0;34m.\u001b[0m\u001b[0mstats\u001b[0m\u001b[0;34m.\u001b[0m\u001b[0mnorm\u001b[0m\u001b[0;34m.\u001b[0m\u001b[0mcdf\u001b[0m\u001b[0;34m(\u001b[0m\u001b[0mabs\u001b[0m\u001b[0;34m(\u001b[0m\u001b[0mz\u001b[0m\u001b[0;34m)\u001b[0m\u001b[0;34m)\u001b[0m\u001b[0;34m)\u001b[0m\u001b[0;34m\u001b[0m\u001b[0;34m\u001b[0m\u001b[0m\n\u001b[0m",
      "\u001b[0;31mAttributeError\u001b[0m: module 'statsmodels.stats' has no attribute 'norm'"
     ]
    }
   ],
   "source": [
    "z = (9.57 - 9.5) / (0.4 / np.sqrt(160))\n",
    "p = 2*(1-statsmodels.stats.norm.cdf(abs(z)))"
   ]
  },
  {
   "cell_type": "code",
   "execution_count": 44,
   "id": "passive-protein",
   "metadata": {},
   "outputs": [],
   "source": [
    "data = pd.read_csv('data/diamond_prices.csv', sep = ',', header = 0)"
   ]
  },
  {
   "cell_type": "code",
   "execution_count": 45,
   "id": "split-custom",
   "metadata": {},
   "outputs": [
    {
     "data": {
      "text/html": [
       "<div>\n",
       "<style scoped>\n",
       "    .dataframe tbody tr th:only-of-type {\n",
       "        vertical-align: middle;\n",
       "    }\n",
       "\n",
       "    .dataframe tbody tr th {\n",
       "        vertical-align: top;\n",
       "    }\n",
       "\n",
       "    .dataframe thead th {\n",
       "        text-align: right;\n",
       "    }\n",
       "</style>\n",
       "<table border=\"1\" class=\"dataframe\">\n",
       "  <thead>\n",
       "    <tr style=\"text-align: right;\">\n",
       "      <th></th>\n",
       "      <th>price</th>\n",
       "      <th>predicted_price_lm</th>\n",
       "      <th>predicted_price_gbdt</th>\n",
       "    </tr>\n",
       "  </thead>\n",
       "  <tbody>\n",
       "    <tr>\n",
       "      <th>0</th>\n",
       "      <td>564</td>\n",
       "      <td>747.149466</td>\n",
       "      <td>799.049243</td>\n",
       "    </tr>\n",
       "    <tr>\n",
       "      <th>1</th>\n",
       "      <td>5914</td>\n",
       "      <td>6644.569397</td>\n",
       "      <td>6635.491541</td>\n",
       "    </tr>\n",
       "    <tr>\n",
       "      <th>2</th>\n",
       "      <td>2562</td>\n",
       "      <td>2096.573114</td>\n",
       "      <td>2138.584133</td>\n",
       "    </tr>\n",
       "    <tr>\n",
       "      <th>3</th>\n",
       "      <td>537</td>\n",
       "      <td>727.031366</td>\n",
       "      <td>694.107710</td>\n",
       "    </tr>\n",
       "    <tr>\n",
       "      <th>4</th>\n",
       "      <td>5964</td>\n",
       "      <td>7180.988674</td>\n",
       "      <td>7425.353560</td>\n",
       "    </tr>\n",
       "  </tbody>\n",
       "</table>\n",
       "</div>"
      ],
      "text/plain": [
       "   price  predicted_price_lm  predicted_price_gbdt\n",
       "0    564          747.149466            799.049243\n",
       "1   5914         6644.569397           6635.491541\n",
       "2   2562         2096.573114           2138.584133\n",
       "3    537          727.031366            694.107710\n",
       "4   5964         7180.988674           7425.353560"
      ]
     },
     "execution_count": 45,
     "metadata": {},
     "output_type": "execute_result"
    }
   ],
   "source": [
    "data.head()"
   ]
  },
  {
   "cell_type": "code",
   "execution_count": 53,
   "id": "golden-annex",
   "metadata": {},
   "outputs": [],
   "source": [
    "lm_val = 0\n",
    "gbdt_val = 0\n",
    "\n",
    "for index, row in data.iterrows():\n",
    "    lm_val += abs(row['price'] - row['predicted_price_lm'])\n",
    "    gbdt_val += abs(row['price'] - row['predicted_price_gbdt'])\n",
    "\n",
    "lm_result = lm_val / data.price.count()\n",
    "gbdt_result = gbdt_val / data.price.count()"
   ]
  },
  {
   "cell_type": "code",
   "execution_count": 56,
   "id": "civic-highway",
   "metadata": {},
   "outputs": [
    {
     "data": {
      "text/plain": [
       "6.875650288841371"
      ]
     },
     "execution_count": 56,
     "metadata": {},
     "output_type": "execute_result"
    }
   ],
   "source": [
    "abs(lm_result - gbdt_result)"
   ]
  },
  {
   "cell_type": "code",
   "execution_count": 58,
   "id": "disciplinary-charlotte",
   "metadata": {},
   "outputs": [
    {
     "data": {
      "text/plain": [
       "6.875650288835004"
      ]
     },
     "execution_count": 58,
     "metadata": {},
     "output_type": "execute_result"
    }
   ],
   "source": [
    "abs(data['price'] - data['predicted_price_lm']).mean() - abs(data['price'] - data['predicted_price_gbdt']).mean()"
   ]
  },
  {
   "cell_type": "code",
   "execution_count": 59,
   "id": "careful-workplace",
   "metadata": {},
   "outputs": [
    {
     "name": "stdout",
     "output_type": "stream",
     "text": [
      "95% confidence interval: [-202.866133, -27.763321]\n"
     ]
    }
   ],
   "source": [
    "cm = CompareMeans(DescrStatsW(data.predicted_price_lm), DescrStatsW(data.predicted_price_gbdt))\n",
    "print(\"95%% confidence interval: [%f, %f]\" % cm.tconfint_diff(usevar='unequal'))"
   ]
  },
  {
   "cell_type": "code",
   "execution_count": null,
   "id": "interested-illness",
   "metadata": {},
   "outputs": [],
   "source": []
  }
 ],
 "metadata": {
  "kernelspec": {
   "display_name": "Python 3",
   "language": "python",
   "name": "python3"
  },
  "language_info": {
   "codemirror_mode": {
    "name": "ipython",
    "version": 3
   },
   "file_extension": ".py",
   "mimetype": "text/x-python",
   "name": "python",
   "nbconvert_exporter": "python",
   "pygments_lexer": "ipython3",
   "version": "3.7.3"
  }
 },
 "nbformat": 4,
 "nbformat_minor": 5
}
