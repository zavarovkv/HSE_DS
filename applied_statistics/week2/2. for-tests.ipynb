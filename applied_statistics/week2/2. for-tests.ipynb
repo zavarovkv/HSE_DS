{
 "cells": [
  {
   "cell_type": "code",
   "execution_count": 2,
   "id": "global-agency",
   "metadata": {},
   "outputs": [],
   "source": [
    "import statsmodels\n",
    "\n",
    "import numpy as np\n",
    "import scipy as sc\n",
    "from matplotlib import pyplot as plt\n",
    "\n",
    "from statsmodels.stats.proportion import proportion_confint, proportions_ztest, \\\n",
    "confint_proportions_2indep, test_proportions_2indep"
   ]
  },
  {
   "cell_type": "code",
   "execution_count": 3,
   "id": "amended-proof",
   "metadata": {},
   "outputs": [
    {
     "name": "stdout",
     "output_type": "stream",
     "text": [
      "Populating the interactive namespace from numpy and matplotlib\n"
     ]
    }
   ],
   "source": [
    "import numpy as np\n",
    "import pandas as pd\n",
    "import scipy as sc\n",
    "%pylab inline\n",
    "\n",
    "from statsmodels.stats.weightstats import DescrStatsW, CompareMeans"
   ]
  },
  {
   "cell_type": "code",
   "execution_count": 4,
   "id": "according-cameroon",
   "metadata": {},
   "outputs": [
    {
     "name": "stdout",
     "output_type": "stream",
     "text": [
      "Wald's interval: (0.004687750675049438, 0.010724297276960126)\n"
     ]
    }
   ],
   "source": [
    "print(\"Wald's interval:\", confint_proportions_2indep(189, 11034, 104, 11037, method = 'wald', compare='diff'))"
   ]
  },
  {
   "cell_type": "code",
   "execution_count": 5,
   "id": "caring-validation",
   "metadata": {},
   "outputs": [
    {
     "data": {
      "text/plain": [
       "<class 'statsmodels.stats.base.HolderTuple'>\n",
       "statistic = 5.00127490046852\n",
       "pvalue = 5.69524362691927e-07\n",
       "compare = diff\n",
       "method = score\n",
       "variance = 2.374101369219409e-06\n",
       "alternative = two-sided\n",
       "prop1_null = 0.013275338679715464\n",
       "prop2_null = 0.013275338679715464\n",
       "tuple = (5.00127490046852, 5.69524362691927e-07)\n",
       "diff = 0.0077060239760047815\n",
       "ratio = 1.8178017944535074\n",
       "odds_ratio = 1.8320539419087138\n",
       "value = 0"
      ]
     },
     "execution_count": 5,
     "metadata": {},
     "output_type": "execute_result"
    }
   ],
   "source": [
    "test_proportions_2indep(189, 11034, 104, 11037, alternative = 'two-sided', method = 'score')"
   ]
  },
  {
   "cell_type": "code",
   "execution_count": 6,
   "id": "hazardous-strength",
   "metadata": {},
   "outputs": [
    {
     "data": {
      "text/plain": [
       "1.8320539419087138"
      ]
     },
     "execution_count": 6,
     "metadata": {},
     "output_type": "execute_result"
    }
   ],
   "source": [
    "x = (189/11034)/ (1-189/11034) / (  (104/11037) / (1-104/11037))\n",
    "x"
   ]
  },
  {
   "cell_type": "code",
   "execution_count": 7,
   "id": "rocky-price",
   "metadata": {},
   "outputs": [],
   "source": [
    "def get_bootstrap_samples(x, n_resamples):\n",
    "    indices = np.random.randint(0, len(x), (n_resamples, len(x)))\n",
    "    resamples = x[indices]\n",
    "    return resamples"
   ]
  },
  {
   "cell_type": "code",
   "execution_count": 8,
   "id": "transsexual-ancient",
   "metadata": {},
   "outputs": [],
   "source": [
    "def percentile_interval(stat, alpha):\n",
    "    boundaries = np.percentile(stat, [100 * alpha / 2., 100 * (1 - alpha / 2.)])\n",
    "    return boundaries"
   ]
  },
  {
   "cell_type": "code",
   "execution_count": 9,
   "id": "adaptive-saudi",
   "metadata": {},
   "outputs": [],
   "source": [
    "sample1 = np.array([1] * 104 + [0] * 10933)\n",
    "sample2 = np.array([1] * 189 + [0] * 10845)"
   ]
  },
  {
   "cell_type": "code",
   "execution_count": 10,
   "id": "infrared-female",
   "metadata": {},
   "outputs": [
    {
     "name": "stdout",
     "output_type": "stream",
     "text": [
      "95% confidence interval for sample1 [0. 0.]\n",
      "95% confidence interval for sample2 [0. 0.]\n"
     ]
    }
   ],
   "source": [
    "np.random.seed(0)\n",
    "\n",
    "sample1_scores = list(map(np.median, get_bootstrap_samples(sample1, 1000)))\n",
    "sample2_scores = list(map(np.median, get_bootstrap_samples(sample2, 1000)))\n",
    "\n",
    "print(\"95% confidence interval for sample1\", percentile_interval(sample1_scores, x))\n",
    "print(\"95% confidence interval for sample2\", percentile_interval(sample2_scores, x))"
   ]
  },
  {
   "cell_type": "code",
   "execution_count": 11,
   "id": "published-milton",
   "metadata": {},
   "outputs": [
    {
     "ename": "AttributeError",
     "evalue": "module 'statsmodels.stats' has no attribute 'norm'",
     "output_type": "error",
     "traceback": [
      "\u001b[0;31m---------------------------------------------------------------------------\u001b[0m",
      "\u001b[0;31mAttributeError\u001b[0m                            Traceback (most recent call last)",
      "\u001b[0;32m<ipython-input-11-39a634e0c01c>\u001b[0m in \u001b[0;36m<module>\u001b[0;34m\u001b[0m\n\u001b[1;32m      1\u001b[0m \u001b[0mz\u001b[0m \u001b[0;34m=\u001b[0m \u001b[0;34m(\u001b[0m\u001b[0;36m9.57\u001b[0m \u001b[0;34m-\u001b[0m \u001b[0;36m9.5\u001b[0m\u001b[0;34m)\u001b[0m \u001b[0;34m/\u001b[0m \u001b[0;34m(\u001b[0m\u001b[0;36m0.4\u001b[0m \u001b[0;34m/\u001b[0m \u001b[0mnp\u001b[0m\u001b[0;34m.\u001b[0m\u001b[0msqrt\u001b[0m\u001b[0;34m(\u001b[0m\u001b[0;36m160\u001b[0m\u001b[0;34m)\u001b[0m\u001b[0;34m)\u001b[0m\u001b[0;34m\u001b[0m\u001b[0;34m\u001b[0m\u001b[0m\n\u001b[0;32m----> 2\u001b[0;31m \u001b[0mp\u001b[0m \u001b[0;34m=\u001b[0m \u001b[0;36m2\u001b[0m\u001b[0;34m*\u001b[0m\u001b[0;34m(\u001b[0m\u001b[0;36m1\u001b[0m\u001b[0;34m-\u001b[0m\u001b[0mstatsmodels\u001b[0m\u001b[0;34m.\u001b[0m\u001b[0mstats\u001b[0m\u001b[0;34m.\u001b[0m\u001b[0mnorm\u001b[0m\u001b[0;34m.\u001b[0m\u001b[0mcdf\u001b[0m\u001b[0;34m(\u001b[0m\u001b[0mabs\u001b[0m\u001b[0;34m(\u001b[0m\u001b[0mz\u001b[0m\u001b[0;34m)\u001b[0m\u001b[0;34m)\u001b[0m\u001b[0;34m)\u001b[0m\u001b[0;34m\u001b[0m\u001b[0;34m\u001b[0m\u001b[0m\n\u001b[0m",
      "\u001b[0;31mAttributeError\u001b[0m: module 'statsmodels.stats' has no attribute 'norm'"
     ]
    }
   ],
   "source": [
    "z = (9.57 - 9.5) / (0.4 / np.sqrt(160))\n",
    "p = 2*(1-statsmodels.stats.norm.cdf(abs(z)))"
   ]
  },
  {
   "cell_type": "code",
   "execution_count": 34,
   "id": "passive-protein",
   "metadata": {},
   "outputs": [],
   "source": [
    "data = pd.read_csv('data/diamond_prices.csv', sep = ',', header = 0)"
   ]
  },
  {
   "cell_type": "code",
   "execution_count": 35,
   "id": "split-custom",
   "metadata": {},
   "outputs": [
    {
     "data": {
      "text/html": [
       "<div>\n",
       "<style scoped>\n",
       "    .dataframe tbody tr th:only-of-type {\n",
       "        vertical-align: middle;\n",
       "    }\n",
       "\n",
       "    .dataframe tbody tr th {\n",
       "        vertical-align: top;\n",
       "    }\n",
       "\n",
       "    .dataframe thead th {\n",
       "        text-align: right;\n",
       "    }\n",
       "</style>\n",
       "<table border=\"1\" class=\"dataframe\">\n",
       "  <thead>\n",
       "    <tr style=\"text-align: right;\">\n",
       "      <th></th>\n",
       "      <th>price</th>\n",
       "      <th>predicted_price_lm</th>\n",
       "      <th>predicted_price_gbdt</th>\n",
       "    </tr>\n",
       "  </thead>\n",
       "  <tbody>\n",
       "    <tr>\n",
       "      <th>0</th>\n",
       "      <td>564</td>\n",
       "      <td>747.149466</td>\n",
       "      <td>799.049243</td>\n",
       "    </tr>\n",
       "    <tr>\n",
       "      <th>1</th>\n",
       "      <td>5914</td>\n",
       "      <td>6644.569397</td>\n",
       "      <td>6635.491541</td>\n",
       "    </tr>\n",
       "    <tr>\n",
       "      <th>2</th>\n",
       "      <td>2562</td>\n",
       "      <td>2096.573114</td>\n",
       "      <td>2138.584133</td>\n",
       "    </tr>\n",
       "    <tr>\n",
       "      <th>3</th>\n",
       "      <td>537</td>\n",
       "      <td>727.031366</td>\n",
       "      <td>694.107710</td>\n",
       "    </tr>\n",
       "    <tr>\n",
       "      <th>4</th>\n",
       "      <td>5964</td>\n",
       "      <td>7180.988674</td>\n",
       "      <td>7425.353560</td>\n",
       "    </tr>\n",
       "  </tbody>\n",
       "</table>\n",
       "</div>"
      ],
      "text/plain": [
       "   price  predicted_price_lm  predicted_price_gbdt\n",
       "0    564          747.149466            799.049243\n",
       "1   5914         6644.569397           6635.491541\n",
       "2   2562         2096.573114           2138.584133\n",
       "3    537          727.031366            694.107710\n",
       "4   5964         7180.988674           7425.353560"
      ]
     },
     "execution_count": 35,
     "metadata": {},
     "output_type": "execute_result"
    }
   ],
   "source": [
    "data.head()"
   ]
  },
  {
   "cell_type": "code",
   "execution_count": 36,
   "id": "golden-annex",
   "metadata": {},
   "outputs": [],
   "source": [
    "lm_val = 0\n",
    "gbdt_val = 0\n",
    "\n",
    "for index, row in data.iterrows():\n",
    "    lm_val += abs(row['price'] - row['predicted_price_lm'])\n",
    "    gbdt_val += abs(row['price'] - row['predicted_price_gbdt'])\n",
    "\n",
    "lm_result = lm_val / data.price.count()\n",
    "gbdt_result = gbdt_val / data.price.count()"
   ]
  },
  {
   "cell_type": "code",
   "execution_count": 37,
   "id": "civic-highway",
   "metadata": {},
   "outputs": [
    {
     "data": {
      "text/plain": [
       "6.875650288841371"
      ]
     },
     "execution_count": 37,
     "metadata": {},
     "output_type": "execute_result"
    }
   ],
   "source": [
    "abs(lm_result - gbdt_result)"
   ]
  },
  {
   "cell_type": "code",
   "execution_count": 38,
   "id": "disciplinary-charlotte",
   "metadata": {},
   "outputs": [
    {
     "data": {
      "text/plain": [
       "6.875650288835004"
      ]
     },
     "execution_count": 38,
     "metadata": {},
     "output_type": "execute_result"
    }
   ],
   "source": [
    "abs(data['price'] - data['predicted_price_lm']).mean() - abs(data['price'] - data['predicted_price_gbdt']).mean()"
   ]
  },
  {
   "cell_type": "code",
   "execution_count": 39,
   "id": "martial-manitoba",
   "metadata": {},
   "outputs": [],
   "source": [
    "data['err'] = abs(data['price'] - data['predicted_price_lm']) - abs(data['price'] - data['predicted_price_gbdt'])"
   ]
  },
  {
   "cell_type": "code",
   "execution_count": 40,
   "id": "frank-surface",
   "metadata": {},
   "outputs": [
    {
     "data": {
      "text/html": [
       "<div>\n",
       "<style scoped>\n",
       "    .dataframe tbody tr th:only-of-type {\n",
       "        vertical-align: middle;\n",
       "    }\n",
       "\n",
       "    .dataframe tbody tr th {\n",
       "        vertical-align: top;\n",
       "    }\n",
       "\n",
       "    .dataframe thead th {\n",
       "        text-align: right;\n",
       "    }\n",
       "</style>\n",
       "<table border=\"1\" class=\"dataframe\">\n",
       "  <thead>\n",
       "    <tr style=\"text-align: right;\">\n",
       "      <th></th>\n",
       "      <th>price</th>\n",
       "      <th>predicted_price_lm</th>\n",
       "      <th>predicted_price_gbdt</th>\n",
       "      <th>err</th>\n",
       "    </tr>\n",
       "  </thead>\n",
       "  <tbody>\n",
       "    <tr>\n",
       "      <th>0</th>\n",
       "      <td>564</td>\n",
       "      <td>747.149466</td>\n",
       "      <td>799.049243</td>\n",
       "      <td>-51.899776</td>\n",
       "    </tr>\n",
       "    <tr>\n",
       "      <th>1</th>\n",
       "      <td>5914</td>\n",
       "      <td>6644.569397</td>\n",
       "      <td>6635.491541</td>\n",
       "      <td>9.077855</td>\n",
       "    </tr>\n",
       "    <tr>\n",
       "      <th>2</th>\n",
       "      <td>2562</td>\n",
       "      <td>2096.573114</td>\n",
       "      <td>2138.584133</td>\n",
       "      <td>42.011019</td>\n",
       "    </tr>\n",
       "    <tr>\n",
       "      <th>3</th>\n",
       "      <td>537</td>\n",
       "      <td>727.031366</td>\n",
       "      <td>694.107710</td>\n",
       "      <td>32.923656</td>\n",
       "    </tr>\n",
       "    <tr>\n",
       "      <th>4</th>\n",
       "      <td>5964</td>\n",
       "      <td>7180.988674</td>\n",
       "      <td>7425.353560</td>\n",
       "      <td>-244.364886</td>\n",
       "    </tr>\n",
       "    <tr>\n",
       "      <th>...</th>\n",
       "      <td>...</td>\n",
       "      <td>...</td>\n",
       "      <td>...</td>\n",
       "      <td>...</td>\n",
       "    </tr>\n",
       "    <tr>\n",
       "      <th>13480</th>\n",
       "      <td>2239</td>\n",
       "      <td>2403.202635</td>\n",
       "      <td>2354.263323</td>\n",
       "      <td>48.939312</td>\n",
       "    </tr>\n",
       "    <tr>\n",
       "      <th>13481</th>\n",
       "      <td>1092</td>\n",
       "      <td>908.723195</td>\n",
       "      <td>896.414922</td>\n",
       "      <td>-12.308272</td>\n",
       "    </tr>\n",
       "    <tr>\n",
       "      <th>13482</th>\n",
       "      <td>3285</td>\n",
       "      <td>4534.975464</td>\n",
       "      <td>4638.855560</td>\n",
       "      <td>-103.880096</td>\n",
       "    </tr>\n",
       "    <tr>\n",
       "      <th>13483</th>\n",
       "      <td>3734</td>\n",
       "      <td>3465.940124</td>\n",
       "      <td>3381.763771</td>\n",
       "      <td>-84.176353</td>\n",
       "    </tr>\n",
       "    <tr>\n",
       "      <th>13484</th>\n",
       "      <td>1363</td>\n",
       "      <td>1069.489534</td>\n",
       "      <td>1062.376047</td>\n",
       "      <td>-7.113487</td>\n",
       "    </tr>\n",
       "  </tbody>\n",
       "</table>\n",
       "<p>13485 rows × 4 columns</p>\n",
       "</div>"
      ],
      "text/plain": [
       "       price  predicted_price_lm  predicted_price_gbdt         err\n",
       "0        564          747.149466            799.049243  -51.899776\n",
       "1       5914         6644.569397           6635.491541    9.077855\n",
       "2       2562         2096.573114           2138.584133   42.011019\n",
       "3        537          727.031366            694.107710   32.923656\n",
       "4       5964         7180.988674           7425.353560 -244.364886\n",
       "...      ...                 ...                   ...         ...\n",
       "13480   2239         2403.202635           2354.263323   48.939312\n",
       "13481   1092          908.723195            896.414922  -12.308272\n",
       "13482   3285         4534.975464           4638.855560 -103.880096\n",
       "13483   3734         3465.940124           3381.763771  -84.176353\n",
       "13484   1363         1069.489534           1062.376047   -7.113487\n",
       "\n",
       "[13485 rows x 4 columns]"
      ]
     },
     "execution_count": 40,
     "metadata": {},
     "output_type": "execute_result"
    }
   ],
   "source": [
    "data"
   ]
  },
  {
   "cell_type": "code",
   "execution_count": 41,
   "id": "fossil-waste",
   "metadata": {},
   "outputs": [
    {
     "data": {
      "text/plain": [
       "(1.219560753734485, 12.531739823935688)"
      ]
     },
     "execution_count": 41,
     "metadata": {},
     "output_type": "execute_result"
    }
   ],
   "source": [
    "import scipy.stats as st\n",
    "\n",
    "\n",
    "st.t.interval(alpha=0.95, df=len(data['err'])-1, loc=np.mean(data['err']), scale=st.sem(data['err'])) "
   ]
  },
  {
   "cell_type": "code",
   "execution_count": 43,
   "id": "graphic-bailey",
   "metadata": {},
   "outputs": [],
   "source": [
    "def mean_absolute_percentage_error(y_true, y_pred): \n",
    "    y_true, y_pred = np.array(y_true), np.array(y_pred)\n",
    "    return np.mean(np.abs((y_true - y_pred) / y_true)) * 100"
   ]
  },
  {
   "cell_type": "code",
   "execution_count": 45,
   "id": "bacterial-sector",
   "metadata": {},
   "outputs": [
    {
     "data": {
      "text/html": [
       "<div>\n",
       "<style scoped>\n",
       "    .dataframe tbody tr th:only-of-type {\n",
       "        vertical-align: middle;\n",
       "    }\n",
       "\n",
       "    .dataframe tbody tr th {\n",
       "        vertical-align: top;\n",
       "    }\n",
       "\n",
       "    .dataframe thead th {\n",
       "        text-align: right;\n",
       "    }\n",
       "</style>\n",
       "<table border=\"1\" class=\"dataframe\">\n",
       "  <thead>\n",
       "    <tr style=\"text-align: right;\">\n",
       "      <th></th>\n",
       "      <th>price</th>\n",
       "      <th>predicted_price_lm</th>\n",
       "      <th>predicted_price_gbdt</th>\n",
       "      <th>err</th>\n",
       "      <th>mean_price_lm</th>\n",
       "      <th>mean_price_gbdt</th>\n",
       "    </tr>\n",
       "  </thead>\n",
       "  <tbody>\n",
       "    <tr>\n",
       "      <th>0</th>\n",
       "      <td>564</td>\n",
       "      <td>747.149466</td>\n",
       "      <td>799.049243</td>\n",
       "      <td>-51.899776</td>\n",
       "      <td>19.880733</td>\n",
       "      <td>20.261059</td>\n",
       "    </tr>\n",
       "    <tr>\n",
       "      <th>1</th>\n",
       "      <td>5914</td>\n",
       "      <td>6644.569397</td>\n",
       "      <td>6635.491541</td>\n",
       "      <td>9.077855</td>\n",
       "      <td>19.880733</td>\n",
       "      <td>20.261059</td>\n",
       "    </tr>\n",
       "    <tr>\n",
       "      <th>2</th>\n",
       "      <td>2562</td>\n",
       "      <td>2096.573114</td>\n",
       "      <td>2138.584133</td>\n",
       "      <td>42.011019</td>\n",
       "      <td>19.880733</td>\n",
       "      <td>20.261059</td>\n",
       "    </tr>\n",
       "    <tr>\n",
       "      <th>3</th>\n",
       "      <td>537</td>\n",
       "      <td>727.031366</td>\n",
       "      <td>694.107710</td>\n",
       "      <td>32.923656</td>\n",
       "      <td>19.880733</td>\n",
       "      <td>20.261059</td>\n",
       "    </tr>\n",
       "    <tr>\n",
       "      <th>4</th>\n",
       "      <td>5964</td>\n",
       "      <td>7180.988674</td>\n",
       "      <td>7425.353560</td>\n",
       "      <td>-244.364886</td>\n",
       "      <td>19.880733</td>\n",
       "      <td>20.261059</td>\n",
       "    </tr>\n",
       "    <tr>\n",
       "      <th>...</th>\n",
       "      <td>...</td>\n",
       "      <td>...</td>\n",
       "      <td>...</td>\n",
       "      <td>...</td>\n",
       "      <td>...</td>\n",
       "      <td>...</td>\n",
       "    </tr>\n",
       "    <tr>\n",
       "      <th>13480</th>\n",
       "      <td>2239</td>\n",
       "      <td>2403.202635</td>\n",
       "      <td>2354.263323</td>\n",
       "      <td>48.939312</td>\n",
       "      <td>19.880733</td>\n",
       "      <td>20.261059</td>\n",
       "    </tr>\n",
       "    <tr>\n",
       "      <th>13481</th>\n",
       "      <td>1092</td>\n",
       "      <td>908.723195</td>\n",
       "      <td>896.414922</td>\n",
       "      <td>-12.308272</td>\n",
       "      <td>19.880733</td>\n",
       "      <td>20.261059</td>\n",
       "    </tr>\n",
       "    <tr>\n",
       "      <th>13482</th>\n",
       "      <td>3285</td>\n",
       "      <td>4534.975464</td>\n",
       "      <td>4638.855560</td>\n",
       "      <td>-103.880096</td>\n",
       "      <td>19.880733</td>\n",
       "      <td>20.261059</td>\n",
       "    </tr>\n",
       "    <tr>\n",
       "      <th>13483</th>\n",
       "      <td>3734</td>\n",
       "      <td>3465.940124</td>\n",
       "      <td>3381.763771</td>\n",
       "      <td>-84.176353</td>\n",
       "      <td>19.880733</td>\n",
       "      <td>20.261059</td>\n",
       "    </tr>\n",
       "    <tr>\n",
       "      <th>13484</th>\n",
       "      <td>1363</td>\n",
       "      <td>1069.489534</td>\n",
       "      <td>1062.376047</td>\n",
       "      <td>-7.113487</td>\n",
       "      <td>19.880733</td>\n",
       "      <td>20.261059</td>\n",
       "    </tr>\n",
       "  </tbody>\n",
       "</table>\n",
       "<p>13485 rows × 6 columns</p>\n",
       "</div>"
      ],
      "text/plain": [
       "       price  predicted_price_lm  predicted_price_gbdt         err  \\\n",
       "0        564          747.149466            799.049243  -51.899776   \n",
       "1       5914         6644.569397           6635.491541    9.077855   \n",
       "2       2562         2096.573114           2138.584133   42.011019   \n",
       "3        537          727.031366            694.107710   32.923656   \n",
       "4       5964         7180.988674           7425.353560 -244.364886   \n",
       "...      ...                 ...                   ...         ...   \n",
       "13480   2239         2403.202635           2354.263323   48.939312   \n",
       "13481   1092          908.723195            896.414922  -12.308272   \n",
       "13482   3285         4534.975464           4638.855560 -103.880096   \n",
       "13483   3734         3465.940124           3381.763771  -84.176353   \n",
       "13484   1363         1069.489534           1062.376047   -7.113487   \n",
       "\n",
       "       mean_price_lm  mean_price_gbdt  \n",
       "0          19.880733        20.261059  \n",
       "1          19.880733        20.261059  \n",
       "2          19.880733        20.261059  \n",
       "3          19.880733        20.261059  \n",
       "4          19.880733        20.261059  \n",
       "...              ...              ...  \n",
       "13480      19.880733        20.261059  \n",
       "13481      19.880733        20.261059  \n",
       "13482      19.880733        20.261059  \n",
       "13483      19.880733        20.261059  \n",
       "13484      19.880733        20.261059  \n",
       "\n",
       "[13485 rows x 6 columns]"
      ]
     },
     "execution_count": 45,
     "metadata": {},
     "output_type": "execute_result"
    }
   ],
   "source": [
    "data['mean_price_lm'] = mean_absolute_percentage_error(data['price'], data['predicted_price_lm'])\n",
    "data['mean_price_gbdt'] = mean_absolute_percentage_error(data['price'], data['predicted_price_gbdt'])\n",
    "\n",
    "data"
   ]
  },
  {
   "cell_type": "code",
   "execution_count": 46,
   "id": "wrapped-heading",
   "metadata": {},
   "outputs": [
    {
     "name": "stdout",
     "output_type": "stream",
     "text": [
      "T test: Ttest_relResult(statistic=-31.378409415754366, pvalue=1.1525972510574402e-208)\n"
     ]
    }
   ],
   "source": [
    "from scipy import stats\n",
    "\n",
    "\n",
    "print('T test:', sc.stats.ttest_rel(data.predicted_price_lm, data.predicted_price_gbdt))"
   ]
  },
  {
   "cell_type": "code",
   "execution_count": null,
   "id": "statutory-adelaide",
   "metadata": {},
   "outputs": [],
   "source": []
  },
  {
   "cell_type": "code",
   "execution_count": null,
   "id": "thorough-brazil",
   "metadata": {},
   "outputs": [],
   "source": []
  },
  {
   "cell_type": "code",
   "execution_count": 59,
   "id": "careful-workplace",
   "metadata": {},
   "outputs": [
    {
     "name": "stdout",
     "output_type": "stream",
     "text": [
      "95% confidence interval: [-202.866133, -27.763321]\n"
     ]
    }
   ],
   "source": [
    "cm = CompareMeans(DescrStatsW(data.predicted_price_lm), DescrStatsW(data.predicted_price_gbdt))\n",
    "print(\"95%% confidence interval: [%f, %f]\" % cm.tconfint_diff(usevar='unequal'))"
   ]
  },
  {
   "cell_type": "code",
   "execution_count": 31,
   "id": "interested-illness",
   "metadata": {},
   "outputs": [
    {
     "ename": "NameError",
     "evalue": "name 'res' is not defined",
     "output_type": "error",
     "traceback": [
      "\u001b[0;31m---------------------------------------------------------------------------\u001b[0m",
      "\u001b[0;31mNameError\u001b[0m                                 Traceback (most recent call last)",
      "\u001b[0;32m<ipython-input-31-6cbe903cab4b>\u001b[0m in \u001b[0;36m<module>\u001b[0;34m\u001b[0m\n\u001b[0;32m----> 1\u001b[0;31m DescrStatsW(abs(res['price'] - res['predicted_price_lm']) - \\\n\u001b[0m\u001b[1;32m      2\u001b[0m             abs(res['price'] - res['predicted_price_gbdt'])).tconfint_mean()\n",
      "\u001b[0;31mNameError\u001b[0m: name 'res' is not defined"
     ]
    }
   ],
   "source": [
    "DescrStatsW(abs(res['price'] - res['predicted_price_lm']) - \\\n",
    "            abs(res['price'] - res['predicted_price_gbdt'])).tconfint_mean()"
   ]
  },
  {
   "cell_type": "code",
   "execution_count": null,
   "id": "intense-connecticut",
   "metadata": {},
   "outputs": [],
   "source": []
  }
 ],
 "metadata": {
  "kernelspec": {
   "display_name": "Python 3",
   "language": "python",
   "name": "python3"
  },
  "language_info": {
   "codemirror_mode": {
    "name": "ipython",
    "version": 3
   },
   "file_extension": ".py",
   "mimetype": "text/x-python",
   "name": "python",
   "nbconvert_exporter": "python",
   "pygments_lexer": "ipython3",
   "version": "3.7.3"
  }
 },
 "nbformat": 4,
 "nbformat_minor": 5
}
