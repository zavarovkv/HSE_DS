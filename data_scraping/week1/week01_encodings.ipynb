{
 "cells": [
  {
   "cell_type": "markdown",
   "metadata": {},
   "source": [
    "# Playing with Encodings\n",
    "\n",
    "## Week 1. Practice Programming Assignment 1\n",
    "\n",
    "In this assignment we will check, that everything is set up so coursera graders work fine in programming assignments, and will practice python encoding functions a bit."
   ]
  },
  {
   "cell_type": "markdown",
   "metadata": {},
   "source": [
    "##### Import coursera grader tools"
   ]
  },
  {
   "cell_type": "code",
   "execution_count": 3,
   "metadata": {},
   "outputs": [],
   "source": [
    "import sys\n",
    "sys.path.append(\"..\")\n",
    "import grading\n",
    "grader = grading.Grader(assignment_key=\"BWTScac0SDGglNs7aK8CLA\", \n",
    "                      all_parts=[\"EsbZk\", \"j9e6W\", \"k2flq\", \"2kPZj\", \"RUDvM\"])"
   ]
  },
  {
   "cell_type": "code",
   "execution_count": 4,
   "metadata": {},
   "outputs": [],
   "source": [
    "# token expires every 30 min\n",
    "COURSERA_EMAIL = 'zavarovkv@gmail.com'\n",
    "COURSERA_TOKEN = 'QjdaVYKaUEDH7yei'"
   ]
  },
  {
   "cell_type": "markdown",
   "metadata": {},
   "source": [
    "<br><br><br><br>"
   ]
  },
  {
   "cell_type": "markdown",
   "metadata": {},
   "source": [
    "### Part 1. Number conversion"
   ]
  },
  {
   "cell_type": "markdown",
   "metadata": {},
   "source": [
    "In this part you don't have to do anything but go through and submit an answer. Just checking that the grader works.\n",
    "\n",
    "<br><br>\n",
    "Let's look at a character 'h'."
   ]
  },
  {
   "cell_type": "code",
   "execution_count": 5,
   "metadata": {},
   "outputs": [
    {
     "data": {
      "text/plain": [
       "104"
      ]
     },
     "execution_count": 5,
     "metadata": {},
     "output_type": "execute_result"
    }
   ],
   "source": [
    "# we can find its code point number in decimal system\n",
    "ord('h')"
   ]
  },
  {
   "cell_type": "code",
   "execution_count": 6,
   "metadata": {},
   "outputs": [
    {
     "data": {
      "text/plain": [
       "'0x68'"
      ]
     },
     "execution_count": 6,
     "metadata": {},
     "output_type": "execute_result"
    }
   ],
   "source": [
    "# we can convert it into a hexadicmal form\n",
    "# remember, that '0x' is just a prefix, meaning that this is a hexadecimal form of a number\n",
    "hex(104)"
   ]
  },
  {
   "cell_type": "code",
   "execution_count": 7,
   "metadata": {},
   "outputs": [
    {
     "data": {
      "text/plain": [
       "104"
      ]
     },
     "execution_count": 7,
     "metadata": {},
     "output_type": "execute_result"
    }
   ],
   "source": [
    "# or we can conver it back to decimal\n",
    "int('68', 16)"
   ]
  },
  {
   "cell_type": "code",
   "execution_count": 8,
   "metadata": {},
   "outputs": [
    {
     "data": {
      "text/plain": [
       "'0b1101000'"
      ]
     },
     "execution_count": 8,
     "metadata": {},
     "output_type": "execute_result"
    }
   ],
   "source": [
    "# we can convert it into a binary form\n",
    "# remember, that '0b' is just a prefix, meaning that this is a binary form of a number\n",
    "bin(104)"
   ]
  },
  {
   "cell_type": "code",
   "execution_count": 9,
   "metadata": {},
   "outputs": [
    {
     "data": {
      "text/plain": [
       "104"
      ]
     },
     "execution_count": 9,
     "metadata": {},
     "output_type": "execute_result"
    }
   ],
   "source": [
    "# or back again\n",
    "int('1101000', 2)"
   ]
  },
  {
   "cell_type": "code",
   "execution_count": 10,
   "metadata": {},
   "outputs": [
    {
     "name": "stdout",
     "output_type": "stream",
     "text": [
      "h\n",
      "h\n",
      "h\n"
     ]
    }
   ],
   "source": [
    "# and we can print any character by its code point\n",
    "print('\\x68')\n",
    "print('\\u0068')\n",
    "print('\\U00000068')"
   ]
  },
  {
   "cell_type": "markdown",
   "metadata": {},
   "source": [
    "What is letter 'h' code point number in hexadecimal form?"
   ]
  },
  {
   "cell_type": "code",
   "execution_count": 11,
   "metadata": {},
   "outputs": [],
   "source": [
    "answer_part_1 = 68"
   ]
  },
  {
   "cell_type": "markdown",
   "metadata": {},
   "source": [
    "What is letter 'h' code point number in binary form?\n"
   ]
  },
  {
   "cell_type": "code",
   "execution_count": 12,
   "metadata": {},
   "outputs": [],
   "source": [
    "answer_part_2 = 2"
   ]
  },
  {
   "cell_type": "code",
   "execution_count": 13,
   "metadata": {},
   "outputs": [],
   "source": [
    "answer_part_2 = 1101000"
   ]
  },
  {
   "cell_type": "code",
   "execution_count": 14,
   "metadata": {},
   "outputs": [],
   "source": [
    "# Setting our answers to grader. Do not change!\n",
    "grader.set_answer(\"EsbZk\", answer_part_1)\n",
    "grader.set_answer(\"j9e6W\", answer_part_2)"
   ]
  },
  {
   "cell_type": "code",
   "execution_count": 15,
   "metadata": {},
   "outputs": [
    {
     "name": "stdout",
     "output_type": "stream",
     "text": [
      "Submitted to Coursera platform. See results on assignment page!\n"
     ]
    }
   ],
   "source": [
    "# you can make submission with answers so far to check yourself at this stage\n",
    "grader.submit(COURSERA_EMAIL, COURSERA_TOKEN)"
   ]
  },
  {
   "cell_type": "markdown",
   "metadata": {},
   "source": [
    "<br><br><br>\n",
    "### Part 2. Decoding secret messages"
   ]
  },
  {
   "cell_type": "markdown",
   "metadata": {},
   "source": [
    "In this part you are given several byte-strings. These are some messages encoded by some of the encodings covered in lectures. I suggest you to try different encodings to decode the messages until you will get some meaningful result. The results should be submited via grader."
   ]
  },
  {
   "cell_type": "markdown",
   "metadata": {},
   "source": [
    "<br>"
   ]
  },
  {
   "cell_type": "code",
   "execution_count": 16,
   "metadata": {},
   "outputs": [],
   "source": [
    "secret_message_1 = b'\\xff\\xfeY\\x00e\\x00a\\x00h\\x00s\\x00!\\x00 \\x00I\\x00 '\\\n",
    "                   b'\\x00d\\x00e\\x00c\\x00o\\x00d\\x00e\\x00d\\x00 \\x00t\\x00h\\x00e\\x00 '\\\n",
    "                   b'\\x00s\\x00e\\x00c\\x00r\\x00e\\x00t\\x00 \\x00m\\x00e\\x00s\\x00s\\x00a'\\\n",
    "                   b'\\x00g\\x00e\\x00'"
   ]
  },
  {
   "cell_type": "code",
   "execution_count": 23,
   "metadata": {},
   "outputs": [
    {
     "data": {
      "text/plain": [
       "'Yeahs! I decoded the secret message'"
      ]
     },
     "execution_count": 23,
     "metadata": {},
     "output_type": "execute_result"
    }
   ],
   "source": [
    "secret_message_1.decode('utf-16')"
   ]
  },
  {
   "cell_type": "code",
   "execution_count": 24,
   "metadata": {},
   "outputs": [],
   "source": [
    "# put decoded message here\n",
    "answer_part_3 = secret_message_1.decode('utf-16')"
   ]
  },
  {
   "cell_type": "code",
   "execution_count": 25,
   "metadata": {},
   "outputs": [],
   "source": [
    "# Setting our answers to grader. Do not change!\n",
    "grader.set_answer(\"k2flq\", answer_part_3)"
   ]
  },
  {
   "cell_type": "code",
   "execution_count": 26,
   "metadata": {},
   "outputs": [
    {
     "name": "stdout",
     "output_type": "stream",
     "text": [
      "Submitted to Coursera platform. See results on assignment page!\n"
     ]
    }
   ],
   "source": [
    "# you can make submission with answers so far to check yourself at this stage\n",
    "grader.submit(COURSERA_EMAIL, COURSERA_TOKEN)"
   ]
  },
  {
   "cell_type": "markdown",
   "metadata": {},
   "source": [
    "<br>"
   ]
  },
  {
   "cell_type": "code",
   "execution_count": 27,
   "metadata": {},
   "outputs": [],
   "source": [
    "secret_message_2 = b\"\\xff\\xfe\\x00\\x00T\\x00\\x00\\x00o\\x00\\x00\\x00 \"\\\n",
    "                   b\"\\x00\\x00\\x00d\\x00\\x00\\x00e\\x00\\x00\\x00c\\x00\"\\\n",
    "                   b\"\\x00\\x00o\\x00\\x00\\x00d\\x00\\x00\\x00e\\x00\\x00\"\\\n",
    "                   b\"\\x00 \\x00\\x00\\x00t\\x00\\x00\\x00h\\x00\\x00\\x00e\"\\\n",
    "                   b\"\\x00\\x00\\x00 \\x00\\x00\\x00t\\x00\\x00\\x00h\\x00\"\\\n",
    "                   b\"\\x00\\x00i\\x00\\x00\\x00r\\x00\\x00\\x00d\\x00\\x00\"\\\n",
    "                   b\"\\x00 \\x00\\x00\\x00s\\x00\\x00\\x00e\\x00\\x00\\x00c\"\\\n",
    "                   b\"\\x00\\x00\\x00r\\x00\\x00\\x00e\\x00\\x00\\x00t\\x00\\x00\"\\\n",
    "                   b\"\\x00 \\x00\\x00\\x00m\\x00\\x00\\x00e\\x00\\x00\\x00s\\x00\"\\\n",
    "                   b\"\\x00\\x00s\\x00\\x00\\x00a\\x00\\x00\\x00g\\x00\\x00\\x00e\\x00\"\\\n",
    "                   b\"\\x00\\x00 \\x00\\x00\\x00y\\x00\\x00\\x00o\\x00\\x00\\x00u\\x00\\x00\"\\\n",
    "                   b\"\\x00 \\x00\\x00\\x00s\\x00\\x00\\x00h\\x00\\x00\\x00o\\x00\\x00\\x00u\"\\\n",
    "                   b\"\\x00\\x00\\x00l\\x00\\x00\\x00d\\x00\\x00\\x00 \\x00\\x00\\x00u\\x00\\x00\"\\\n",
    "                   b\"\\x00s\\x00\\x00\\x00e\\x00\\x00\\x00 \\x00\\x00\\x00'\\x00\\x00\\x00s\\x00\"\\\n",
    "                   b\"\\x00\\x00h\\x00\\x00\\x00i\\x00\\x00\\x00f\\x00\\x00\\x00t\\x00\\x00\"\\\n",
    "                   b\"\\x00_\\x00\\x00\\x00j\\x00\\x00\\x00i\\x00\\x00\\x00s\\x00\\x00\"\\\n",
    "                   b\"\\x00'\\x00\\x00\\x00 \\x00\\x00\\x00e\\x00\\x00\\x00n\\x00\\x00\\x00c\\x00\"\\\n",
    "                   b\"\\x00\\x00o\\x00\\x00\\x00d\\x00\\x00\\x00i\\x00\\x00\\x00n\\x00\\x00\\x00g\\x00\\x00\\x00\""
   ]
  },
  {
   "cell_type": "code",
   "execution_count": 31,
   "metadata": {},
   "outputs": [
    {
     "data": {
      "text/plain": [
       "\"To decode the third secret message you should use 'shift_jis' encoding\""
      ]
     },
     "execution_count": 31,
     "metadata": {},
     "output_type": "execute_result"
    }
   ],
   "source": [
    "secret_message_2.decode('utf-32')"
   ]
  },
  {
   "cell_type": "code",
   "execution_count": 32,
   "metadata": {},
   "outputs": [],
   "source": [
    "# put decoded message here\n",
    "answer_part_4 = secret_message_2.decode('utf-32')"
   ]
  },
  {
   "cell_type": "code",
   "execution_count": 33,
   "metadata": {},
   "outputs": [],
   "source": [
    "# Setting our answers to grader. Do not change!\n",
    "grader.set_answer(\"2kPZj\", answer_part_4)"
   ]
  },
  {
   "cell_type": "code",
   "execution_count": 34,
   "metadata": {},
   "outputs": [
    {
     "name": "stdout",
     "output_type": "stream",
     "text": [
      "Submitted to Coursera platform. See results on assignment page!\n"
     ]
    }
   ],
   "source": [
    "# you can make submission with answers so far to check yourself at this stage\n",
    "grader.submit(COURSERA_EMAIL, COURSERA_TOKEN)"
   ]
  },
  {
   "cell_type": "markdown",
   "metadata": {},
   "source": [
    "<br>"
   ]
  },
  {
   "cell_type": "code",
   "execution_count": 35,
   "metadata": {},
   "outputs": [],
   "source": [
    "secret_message_3 = b'\\x83n\\x83\\x8d\\x81[\\x83\\x8f\\x81[\\x83\\x8b\\x83h'"
   ]
  },
  {
   "cell_type": "code",
   "execution_count": 48,
   "metadata": {},
   "outputs": [
    {
     "data": {
      "text/plain": [
       "'ハローワールド'"
      ]
     },
     "execution_count": 48,
     "metadata": {},
     "output_type": "execute_result"
    }
   ],
   "source": [
    "secret_message_3.decode('shift_jis')"
   ]
  },
  {
   "cell_type": "code",
   "execution_count": 49,
   "metadata": {},
   "outputs": [],
   "source": [
    "# put decoded message here\n",
    "answer_part_5 = secret_message_3.decode('shift_jis')"
   ]
  },
  {
   "cell_type": "code",
   "execution_count": 50,
   "metadata": {},
   "outputs": [],
   "source": [
    "# Setting our answers to grader. Do not change!\n",
    "grader.set_answer(\"RUDvM\", answer_part_5)"
   ]
  },
  {
   "cell_type": "code",
   "execution_count": 51,
   "metadata": {},
   "outputs": [
    {
     "name": "stdout",
     "output_type": "stream",
     "text": [
      "Submitted to Coursera platform. See results on assignment page!\n"
     ]
    }
   ],
   "source": [
    "# you can make submission with answers so far to check yourself at this stage\n",
    "grader.submit(COURSERA_EMAIL, COURSERA_TOKEN)"
   ]
  },
  {
   "cell_type": "code",
   "execution_count": null,
   "metadata": {},
   "outputs": [],
   "source": []
  }
 ],
 "metadata": {
  "kernelspec": {
   "display_name": "Python 3",
   "language": "python",
   "name": "python3"
  },
  "language_info": {
   "codemirror_mode": {
    "name": "ipython",
    "version": 3
   },
   "file_extension": ".py",
   "mimetype": "text/x-python",
   "name": "python",
   "nbconvert_exporter": "python",
   "pygments_lexer": "ipython3",
   "version": "3.7.3"
  }
 },
 "nbformat": 4,
 "nbformat_minor": 4
}