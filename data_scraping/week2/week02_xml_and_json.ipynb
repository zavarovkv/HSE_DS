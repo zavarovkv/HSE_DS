{
 "cells": [
  {
   "cell_type": "markdown",
   "metadata": {},
   "source": [
    "# Parsing XML and JSON"
   ]
  },
  {
   "cell_type": "markdown",
   "metadata": {},
   "source": [
    "## Week 2. Practice Programming Assignment 1"
   ]
  },
  {
   "cell_type": "markdown",
   "metadata": {},
   "source": [
    "In this assignment you are provided with an XML file and JSON file. The files contain some information about stock prices from Moscow Stock Exchange. You will need to inspect the data to answer some questions. "
   ]
  },
  {
   "cell_type": "markdown",
   "metadata": {},
   "source": [
    "###### Import coursera grader tools"
   ]
  },
  {
   "cell_type": "code",
   "execution_count": 203,
   "metadata": {},
   "outputs": [],
   "source": [
    "import sys\n",
    "sys.path.append(\"..\")\n",
    "import grading\n",
    "grader = grading.Grader(assignment_key=\"Doyqa3BoSgahCPCmHnb8HA\", \n",
    "                      all_parts=[\"hcaCl\", \"xVJ1y\", \"wK84i\", \"7gJ6O\", \"KxRDE\",\n",
    "                                 \"PdSl8\", \"28ZKD\", \"vQHz0\", \"wGRXW\", \"KRfXm\"])"
   ]
  },
  {
   "cell_type": "code",
   "execution_count": 204,
   "metadata": {},
   "outputs": [],
   "source": [
    "# token expires every 30 min\n",
    "COURSERA_EMAIL = 'zavarovkv@gmail.com'\n",
    "COURSERA_TOKEN = 'EeqzDoj6MJaWS6Zs'"
   ]
  },
  {
   "cell_type": "markdown",
   "metadata": {},
   "source": [
    "<br><br><br><br>"
   ]
  },
  {
   "cell_type": "markdown",
   "metadata": {},
   "source": [
    "### Part 1. XML"
   ]
  },
  {
   "cell_type": "markdown",
   "metadata": {},
   "source": [
    "You are provided with file `securities.xml`. Explore it to answer the quesionts."
   ]
  },
  {
   "cell_type": "markdown",
   "metadata": {},
   "source": [
    "**Question 1.** How many elements are in the XML file?"
   ]
  },
  {
   "cell_type": "code",
   "execution_count": 205,
   "metadata": {},
   "outputs": [],
   "source": [
    "import xml.etree.ElementTree as ET\n",
    "\n",
    "\n",
    "xml_file = ET.parse('securities.xml')\n",
    "root = xml_file.getroot()\n"
   ]
  },
  {
   "cell_type": "code",
   "execution_count": 206,
   "metadata": {},
   "outputs": [],
   "source": [
    "totalElems = 0\n",
    "\n",
    "def findElems(root):\n",
    "    global totalElems\n",
    "    \n",
    "    for element in root:\n",
    "        findElems(element)\n",
    "        totalElems += 1\n",
    "\n",
    "findElems(root)\n"
   ]
  },
  {
   "cell_type": "code",
   "execution_count": 207,
   "metadata": {},
   "outputs": [],
   "source": [
    "answer_part_1 = totalElems + 1"
   ]
  },
  {
   "cell_type": "code",
   "execution_count": 208,
   "metadata": {},
   "outputs": [],
   "source": [
    "# Setting our answers to grader. Do not change!\n",
    "grader.set_answer(\"hcaCl\", answer_part_1)"
   ]
  },
  {
   "cell_type": "markdown",
   "metadata": {},
   "source": [
    "<br>\n",
    "\n",
    "**Question 2.** How many XML elements named 'row' are in the XML-file? "
   ]
  },
  {
   "cell_type": "code",
   "execution_count": 209,
   "metadata": {},
   "outputs": [],
   "source": [
    "answer_part_2 = len(root.findall('data/rows/row'))"
   ]
  },
  {
   "cell_type": "code",
   "execution_count": 210,
   "metadata": {},
   "outputs": [],
   "source": [
    "# Setting our answers to grader. Do not change!\n",
    "grader.set_answer(\"xVJ1y\", answer_part_2)"
   ]
  },
  {
   "cell_type": "markdown",
   "metadata": {},
   "source": [
    "<br>\n",
    "\n",
    "**Question 3.** What is the height of the file's XML tree? \n",
    "\n",
    "<br>\n",
    "\n",
    "*Note:* By the height of the tree we mean the length of the longest sequence of nodes from root element to a leaf element. For example: let's look at the following XML:\n",
    "\n",
    "```\n",
    "<root>\n",
    "    <element1>\n",
    "        <some_element></some_element>\n",
    "    </element1>\n",
    "    <element_2></element_2>\n",
    "</root>\n",
    "```\n",
    "\n",
    "The height of the tree here is 3, since there are two sequences from root to leaf:\n",
    "\n",
    "1. `<root>` - `<element_1>` - `<some_element>`\n",
    "2. `<root>` - `<element_2>`\n",
    "\n",
    "The first sequence is the longest, and its length is 3."
   ]
  },
  {
   "cell_type": "code",
   "execution_count": 211,
   "metadata": {},
   "outputs": [],
   "source": [
    "answer_part_3 = 5"
   ]
  },
  {
   "cell_type": "code",
   "execution_count": 212,
   "metadata": {},
   "outputs": [],
   "source": [
    "# Setting our answers to grader. Do not change!\n",
    "grader.set_answer(\"wK84i\", answer_part_3)"
   ]
  },
  {
   "cell_type": "markdown",
   "metadata": {},
   "source": [
    "<br>\n",
    "\n",
    "Each `row` element contains data about some stock in its attribute values. For example, attributes CLOSE and OPEN stand for close price and open price for a stock in this day accordingly. Attribute VOLUME stands for total trade volume of the stock in this particular day.\n",
    "\n",
    "**Question 4.** What is average value of a difference between CLOSE and OPEN prices among all stocks present? \n",
    "\n",
    "*Note:* If a stock doesn't have data about its CLOSE and OPEN prices, skip it."
   ]
  },
  {
   "cell_type": "code",
   "execution_count": 213,
   "metadata": {},
   "outputs": [],
   "source": [
    "stocks = root.findall('data/rows/row')\n",
    "diff = []\n"
   ]
  },
  {
   "cell_type": "code",
   "execution_count": 214,
   "metadata": {},
   "outputs": [],
   "source": [
    "for stock in stocks:\n",
    "    open_data = stock.attrib.get('OPEN')\n",
    "    close_data = stock.attrib.get('CLOSE')\n",
    "    if open_data:\n",
    "        diff.append(float(close_data) - float(open_data))\n",
    "        "
   ]
  },
  {
   "cell_type": "code",
   "execution_count": 215,
   "metadata": {},
   "outputs": [],
   "source": [
    "answer_part_4 = sum(diff) / len(diff)"
   ]
  },
  {
   "cell_type": "code",
   "execution_count": 216,
   "metadata": {},
   "outputs": [],
   "source": [
    "# Setting our answers to grader. Do not change!\n",
    "grader.set_answer(\"7gJ6O\", answer_part_4)"
   ]
  },
  {
   "cell_type": "markdown",
   "metadata": {},
   "source": [
    "<br>\n",
    "\n",
    "**Question 5.** What is the value of largest VOLUME among all stocks present? "
   ]
  },
  {
   "cell_type": "code",
   "execution_count": 217,
   "metadata": {},
   "outputs": [],
   "source": [
    "largest_volume = 0\n",
    "\n",
    "for stock in stocks:\n",
    "    volume = stock.attrib.get('VOLUME')\n",
    "    if volume:\n",
    "        volume_int = int(volume)\n",
    "        if volume_int > largest_volume:\n",
    "            largest_volume = volume_int\n",
    "        "
   ]
  },
  {
   "cell_type": "code",
   "execution_count": 218,
   "metadata": {},
   "outputs": [],
   "source": [
    "answer_part_5 = largest_volume"
   ]
  },
  {
   "cell_type": "code",
   "execution_count": 219,
   "metadata": {},
   "outputs": [],
   "source": [
    "# Setting our answers to grader. Do not change!\n",
    "grader.set_answer(\"KxRDE\", answer_part_5)"
   ]
  },
  {
   "cell_type": "markdown",
   "metadata": {},
   "source": [
    "<br><br><br><br><br>"
   ]
  },
  {
   "cell_type": "markdown",
   "metadata": {},
   "source": [
    "### Part 2. JSON"
   ]
  },
  {
   "cell_type": "markdown",
   "metadata": {},
   "source": [
    "You are provided with file `securities.json`. It also has some information about stocks, but It has a slightly different structure. Explore it to answer the quesionts.\n",
    "\n",
    "*Note:* `data`-element in the file containts rows with data values. To see names for these values (what data value means what) you need to check element `securities['history']['columns']`\n",
    "\n",
    "<br>"
   ]
  },
  {
   "cell_type": "markdown",
   "metadata": {},
   "source": [
    "\n",
    "\n",
    "**Question 6.** What is the height of the file's JSON tree? \n",
    "\n",
    "*Note:* By the height of the tree we mean the length of the longest sequence of nodes from root element to a leaf element (similar to the height of an XML defined in Question 3)"
   ]
  },
  {
   "cell_type": "code",
   "execution_count": 220,
   "metadata": {},
   "outputs": [],
   "source": [
    "import json\n",
    "\n",
    "with open('securities.json') as f:\n",
    "    json_f = json.load(f)\n",
    "    "
   ]
  },
  {
   "cell_type": "code",
   "execution_count": 221,
   "metadata": {},
   "outputs": [],
   "source": [
    "answer_part_6 = 5"
   ]
  },
  {
   "cell_type": "code",
   "execution_count": 222,
   "metadata": {},
   "outputs": [],
   "source": [
    "# Setting our answers to grader. Do not change!\n",
    "grader.set_answer(\"PdSl8\", answer_part_6)"
   ]
  },
  {
   "cell_type": "markdown",
   "metadata": {},
   "source": [
    "<br>\n",
    "\n",
    "**Question 7.** How many branches does `data` element have? "
   ]
  },
  {
   "cell_type": "code",
   "execution_count": 223,
   "metadata": {},
   "outputs": [],
   "source": [
    "answer_part_7 = 66"
   ]
  },
  {
   "cell_type": "code",
   "execution_count": 224,
   "metadata": {},
   "outputs": [],
   "source": [
    "# Setting our answers to grader. Do not change!\n",
    "grader.set_answer(\"28ZKD\", answer_part_7)"
   ]
  },
  {
   "cell_type": "markdown",
   "metadata": {},
   "source": [
    "<br>\n",
    "\n",
    "**Question 8.** What is the average value of a difference between HIGH and LOW prices? \n",
    "\n",
    "*Note:* If a stock doesn't have data about its HIGH and LOW prices, skip it."
   ]
  },
  {
   "cell_type": "code",
   "execution_count": 225,
   "metadata": {},
   "outputs": [],
   "source": [
    "stock_list = json_f['history']['data']"
   ]
  },
  {
   "cell_type": "code",
   "execution_count": 232,
   "metadata": {},
   "outputs": [],
   "source": [
    "diff = []\n",
    "uniq_boardid = {}\n",
    "\n",
    "for elem in stock_list:\n",
    "    high_data = elem[7]\n",
    "    low_data = elem[8]\n",
    "    boardid = elem[0]\n",
    "    \n",
    "    if high_data:\n",
    "        diff.append(float(high_data) - float(low_data))\n",
    "    \n",
    "    if boardid not in uniq_boardid:\n",
    "        uniq_boardid[boardid] = 1\n",
    "    else:\n",
    "        uniq_boardid[boardid] += 1\n"
   ]
  },
  {
   "cell_type": "code",
   "execution_count": 233,
   "metadata": {},
   "outputs": [],
   "source": [
    "answer_part_8 = sum(diff) / len(diff)"
   ]
  },
  {
   "cell_type": "code",
   "execution_count": 234,
   "metadata": {
    "pycharm": {
     "name": "#%%\n"
    }
   },
   "outputs": [],
   "source": [
    "# Setting our answers to grader. Do not change!\n",
    "grader.set_answer(\"vQHz0\", answer_part_8)"
   ]
  },
  {
   "cell_type": "markdown",
   "metadata": {
    "pycharm": {
     "name": "#%% md\n"
    }
   },
   "source": [
    "<br>\n",
    "\n",
    "**Question 9.** How many unique values of BOARDID do we see in data? "
   ]
  },
  {
   "cell_type": "code",
   "execution_count": 235,
   "metadata": {},
   "outputs": [],
   "source": [
    "answer_part_9 = len(uniq_boardid)"
   ]
  },
  {
   "cell_type": "code",
   "execution_count": 236,
   "metadata": {
    "pycharm": {
     "name": "#%%\n"
    }
   },
   "outputs": [],
   "source": [
    "# Setting our answers to grader. Do not change!\n",
    "grader.set_answer(\"wGRXW\", answer_part_9)"
   ]
  },
  {
   "cell_type": "markdown",
   "metadata": {
    "pycharm": {
     "name": "#%% md\n"
    }
   },
   "source": [
    "<br>\n",
    "\n",
    "**Question 10.** What value of BOARDID is the most occuring?  "
   ]
  },
  {
   "cell_type": "code",
   "execution_count": null,
   "outputs": [],
   "source": [
    "answer_part_10 = max(uniq_boardid,key=uniq_boardid.get)"
   ],
   "metadata": {
    "collapsed": false,
    "pycharm": {
     "name": "#%%\n"
    }
   }
  },
  {
   "cell_type": "code",
   "execution_count": 238,
   "metadata": {},
   "outputs": [],
   "source": [
    "# Setting our answers to grader. Do not change!\n",
    "grader.set_answer(\"KRfXm\", answer_part_10)"
   ]
  },
  {
   "cell_type": "code",
   "execution_count": 239,
   "metadata": {},
   "outputs": [],
   "source": [
    "# Setting our answers to grader. Do not change!\n",
    "grader.set_answer(\"KRfXm\", answer_part_10)"
   ]
  },
  {
   "cell_type": "markdown",
   "metadata": {},
   "source": [
    "<br>\n",
    "<br>\n",
    "\n",
    "### Submitting answers"
   ]
  },
  {
   "cell_type": "code",
   "execution_count": 240,
   "metadata": {},
   "outputs": [
    {
     "name": "stdout",
     "output_type": "stream",
     "text": [
      "Submitted to Coursera platform. See results on assignment page!\n"
     ]
    }
   ],
   "source": [
    "# you can make submission with answers so far to check yourself at this stage\n",
    "grader.submit(COURSERA_EMAIL, COURSERA_TOKEN)"
   ]
  },
  {
   "cell_type": "code",
   "execution_count": null,
   "metadata": {},
   "outputs": [],
   "source": []
  }
 ],
 "metadata": {
  "kernelspec": {
   "display_name": "Python 3",
   "language": "python",
   "name": "python3"
  },
  "language_info": {
   "codemirror_mode": {
    "name": "ipython",
    "version": 3
   },
   "file_extension": ".py",
   "mimetype": "text/x-python",
   "name": "python",
   "nbconvert_exporter": "python",
   "pygments_lexer": "ipython3",
   "version": "3.7.3"
  }
 },
 "nbformat": 4,
 "nbformat_minor": 4
}