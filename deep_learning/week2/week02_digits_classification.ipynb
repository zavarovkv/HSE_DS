{
  "nbformat": 4,
  "nbformat_minor": 0,
  "metadata": {
    "colab": {
      "name": "Copy of week02_digits_classification.ipynb",
      "provenance": [],
      "collapsed_sections": []
    },
    "kernelspec": {
      "display_name": "Python 3",
      "language": "python",
      "name": "python3"
    },
    "language_info": {
      "codemirror_mode": {
        "name": "ipython",
        "version": 3
      },
      "file_extension": ".py",
      "mimetype": "text/x-python",
      "name": "python",
      "nbconvert_exporter": "python",
      "pygments_lexer": "ipython3",
      "version": "3.8.5"
    },
    "widgets": {
      "application/vnd.jupyter.widget-state+json": {
        "79b04e20445d4fcb9dc968de5edd537b": {
          "model_module": "@jupyter-widgets/controls",
          "model_name": "HBoxModel",
          "state": {
            "_view_name": "HBoxView",
            "_dom_classes": [],
            "_model_name": "HBoxModel",
            "_view_module": "@jupyter-widgets/controls",
            "_model_module_version": "1.5.0",
            "_view_count": null,
            "_view_module_version": "1.5.0",
            "box_style": "",
            "layout": "IPY_MODEL_0f446d50173b49ad9cf7688b4e3c392c",
            "_model_module": "@jupyter-widgets/controls",
            "children": [
              "IPY_MODEL_3019518da4104eaea05b44ee123d6e83",
              "IPY_MODEL_c1769e77edd841b790e607ce2622df32"
            ]
          }
        },
        "0f446d50173b49ad9cf7688b4e3c392c": {
          "model_module": "@jupyter-widgets/base",
          "model_name": "LayoutModel",
          "state": {
            "_view_name": "LayoutView",
            "grid_template_rows": null,
            "right": null,
            "justify_content": null,
            "_view_module": "@jupyter-widgets/base",
            "overflow": null,
            "_model_module_version": "1.2.0",
            "_view_count": null,
            "flex_flow": null,
            "width": null,
            "min_width": null,
            "border": null,
            "align_items": null,
            "bottom": null,
            "_model_module": "@jupyter-widgets/base",
            "top": null,
            "grid_column": null,
            "overflow_y": null,
            "overflow_x": null,
            "grid_auto_flow": null,
            "grid_area": null,
            "grid_template_columns": null,
            "flex": null,
            "_model_name": "LayoutModel",
            "justify_items": null,
            "grid_row": null,
            "max_height": null,
            "align_content": null,
            "visibility": null,
            "align_self": null,
            "height": null,
            "min_height": null,
            "padding": null,
            "grid_auto_rows": null,
            "grid_gap": null,
            "max_width": null,
            "order": null,
            "_view_module_version": "1.2.0",
            "grid_template_areas": null,
            "object_position": null,
            "object_fit": null,
            "grid_auto_columns": null,
            "margin": null,
            "display": null,
            "left": null
          }
        },
        "3019518da4104eaea05b44ee123d6e83": {
          "model_module": "@jupyter-widgets/controls",
          "model_name": "FloatProgressModel",
          "state": {
            "_view_name": "ProgressView",
            "style": "IPY_MODEL_0a3d3736fb7247cf86aa2fd2ef0aa3aa",
            "_dom_classes": [],
            "description": "",
            "_model_name": "FloatProgressModel",
            "bar_style": "success",
            "max": 9912422,
            "_view_module": "@jupyter-widgets/controls",
            "_model_module_version": "1.5.0",
            "value": 9912422,
            "_view_count": null,
            "_view_module_version": "1.5.0",
            "orientation": "horizontal",
            "min": 0,
            "description_tooltip": null,
            "_model_module": "@jupyter-widgets/controls",
            "layout": "IPY_MODEL_a19599e7b7aa4c19918d3d8493c060dd"
          }
        },
        "c1769e77edd841b790e607ce2622df32": {
          "model_module": "@jupyter-widgets/controls",
          "model_name": "HTMLModel",
          "state": {
            "_view_name": "HTMLView",
            "style": "IPY_MODEL_ee381227ce8f444ea4e8a2006e005d5c",
            "_dom_classes": [],
            "description": "",
            "_model_name": "HTMLModel",
            "placeholder": "​",
            "_view_module": "@jupyter-widgets/controls",
            "_model_module_version": "1.5.0",
            "value": " 9913344/? [06:47&lt;00:00, 24319.53it/s]",
            "_view_count": null,
            "_view_module_version": "1.5.0",
            "description_tooltip": null,
            "_model_module": "@jupyter-widgets/controls",
            "layout": "IPY_MODEL_d2613645689f4d0cba56fc6b7797d410"
          }
        },
        "0a3d3736fb7247cf86aa2fd2ef0aa3aa": {
          "model_module": "@jupyter-widgets/controls",
          "model_name": "ProgressStyleModel",
          "state": {
            "_view_name": "StyleView",
            "_model_name": "ProgressStyleModel",
            "description_width": "initial",
            "_view_module": "@jupyter-widgets/base",
            "_model_module_version": "1.5.0",
            "_view_count": null,
            "_view_module_version": "1.2.0",
            "bar_color": null,
            "_model_module": "@jupyter-widgets/controls"
          }
        },
        "a19599e7b7aa4c19918d3d8493c060dd": {
          "model_module": "@jupyter-widgets/base",
          "model_name": "LayoutModel",
          "state": {
            "_view_name": "LayoutView",
            "grid_template_rows": null,
            "right": null,
            "justify_content": null,
            "_view_module": "@jupyter-widgets/base",
            "overflow": null,
            "_model_module_version": "1.2.0",
            "_view_count": null,
            "flex_flow": null,
            "width": null,
            "min_width": null,
            "border": null,
            "align_items": null,
            "bottom": null,
            "_model_module": "@jupyter-widgets/base",
            "top": null,
            "grid_column": null,
            "overflow_y": null,
            "overflow_x": null,
            "grid_auto_flow": null,
            "grid_area": null,
            "grid_template_columns": null,
            "flex": null,
            "_model_name": "LayoutModel",
            "justify_items": null,
            "grid_row": null,
            "max_height": null,
            "align_content": null,
            "visibility": null,
            "align_self": null,
            "height": null,
            "min_height": null,
            "padding": null,
            "grid_auto_rows": null,
            "grid_gap": null,
            "max_width": null,
            "order": null,
            "_view_module_version": "1.2.0",
            "grid_template_areas": null,
            "object_position": null,
            "object_fit": null,
            "grid_auto_columns": null,
            "margin": null,
            "display": null,
            "left": null
          }
        },
        "ee381227ce8f444ea4e8a2006e005d5c": {
          "model_module": "@jupyter-widgets/controls",
          "model_name": "DescriptionStyleModel",
          "state": {
            "_view_name": "StyleView",
            "_model_name": "DescriptionStyleModel",
            "description_width": "",
            "_view_module": "@jupyter-widgets/base",
            "_model_module_version": "1.5.0",
            "_view_count": null,
            "_view_module_version": "1.2.0",
            "_model_module": "@jupyter-widgets/controls"
          }
        },
        "d2613645689f4d0cba56fc6b7797d410": {
          "model_module": "@jupyter-widgets/base",
          "model_name": "LayoutModel",
          "state": {
            "_view_name": "LayoutView",
            "grid_template_rows": null,
            "right": null,
            "justify_content": null,
            "_view_module": "@jupyter-widgets/base",
            "overflow": null,
            "_model_module_version": "1.2.0",
            "_view_count": null,
            "flex_flow": null,
            "width": null,
            "min_width": null,
            "border": null,
            "align_items": null,
            "bottom": null,
            "_model_module": "@jupyter-widgets/base",
            "top": null,
            "grid_column": null,
            "overflow_y": null,
            "overflow_x": null,
            "grid_auto_flow": null,
            "grid_area": null,
            "grid_template_columns": null,
            "flex": null,
            "_model_name": "LayoutModel",
            "justify_items": null,
            "grid_row": null,
            "max_height": null,
            "align_content": null,
            "visibility": null,
            "align_self": null,
            "height": null,
            "min_height": null,
            "padding": null,
            "grid_auto_rows": null,
            "grid_gap": null,
            "max_width": null,
            "order": null,
            "_view_module_version": "1.2.0",
            "grid_template_areas": null,
            "object_position": null,
            "object_fit": null,
            "grid_auto_columns": null,
            "margin": null,
            "display": null,
            "left": null
          }
        },
        "9eb8f449c1c24885a713ef3b7f7606a0": {
          "model_module": "@jupyter-widgets/controls",
          "model_name": "HBoxModel",
          "state": {
            "_view_name": "HBoxView",
            "_dom_classes": [],
            "_model_name": "HBoxModel",
            "_view_module": "@jupyter-widgets/controls",
            "_model_module_version": "1.5.0",
            "_view_count": null,
            "_view_module_version": "1.5.0",
            "box_style": "",
            "layout": "IPY_MODEL_5731c6acb03f4c5383b1d1c6bff19398",
            "_model_module": "@jupyter-widgets/controls",
            "children": [
              "IPY_MODEL_66a32f65041b414c9687479abcc269ae",
              "IPY_MODEL_103e544374cd413ea3c15b20fc354520"
            ]
          }
        },
        "5731c6acb03f4c5383b1d1c6bff19398": {
          "model_module": "@jupyter-widgets/base",
          "model_name": "LayoutModel",
          "state": {
            "_view_name": "LayoutView",
            "grid_template_rows": null,
            "right": null,
            "justify_content": null,
            "_view_module": "@jupyter-widgets/base",
            "overflow": null,
            "_model_module_version": "1.2.0",
            "_view_count": null,
            "flex_flow": null,
            "width": null,
            "min_width": null,
            "border": null,
            "align_items": null,
            "bottom": null,
            "_model_module": "@jupyter-widgets/base",
            "top": null,
            "grid_column": null,
            "overflow_y": null,
            "overflow_x": null,
            "grid_auto_flow": null,
            "grid_area": null,
            "grid_template_columns": null,
            "flex": null,
            "_model_name": "LayoutModel",
            "justify_items": null,
            "grid_row": null,
            "max_height": null,
            "align_content": null,
            "visibility": null,
            "align_self": null,
            "height": null,
            "min_height": null,
            "padding": null,
            "grid_auto_rows": null,
            "grid_gap": null,
            "max_width": null,
            "order": null,
            "_view_module_version": "1.2.0",
            "grid_template_areas": null,
            "object_position": null,
            "object_fit": null,
            "grid_auto_columns": null,
            "margin": null,
            "display": null,
            "left": null
          }
        },
        "66a32f65041b414c9687479abcc269ae": {
          "model_module": "@jupyter-widgets/controls",
          "model_name": "FloatProgressModel",
          "state": {
            "_view_name": "ProgressView",
            "style": "IPY_MODEL_ec6de52f5bd64125ab8fdebd51d7a4fc",
            "_dom_classes": [],
            "description": "",
            "_model_name": "FloatProgressModel",
            "bar_style": "success",
            "max": 28881,
            "_view_module": "@jupyter-widgets/controls",
            "_model_module_version": "1.5.0",
            "value": 28881,
            "_view_count": null,
            "_view_module_version": "1.5.0",
            "orientation": "horizontal",
            "min": 0,
            "description_tooltip": null,
            "_model_module": "@jupyter-widgets/controls",
            "layout": "IPY_MODEL_c4f95c0bbe7f4d1ea3f17d54ab307270"
          }
        },
        "103e544374cd413ea3c15b20fc354520": {
          "model_module": "@jupyter-widgets/controls",
          "model_name": "HTMLModel",
          "state": {
            "_view_name": "HTMLView",
            "style": "IPY_MODEL_2809b800766f42a482fd993cb3dd4dc5",
            "_dom_classes": [],
            "description": "",
            "_model_name": "HTMLModel",
            "placeholder": "​",
            "_view_module": "@jupyter-widgets/controls",
            "_model_module_version": "1.5.0",
            "value": " 29696/? [00:49&lt;00:00, 603.27it/s]",
            "_view_count": null,
            "_view_module_version": "1.5.0",
            "description_tooltip": null,
            "_model_module": "@jupyter-widgets/controls",
            "layout": "IPY_MODEL_59b6b54ff3704eeebd96b5834ef11b51"
          }
        },
        "ec6de52f5bd64125ab8fdebd51d7a4fc": {
          "model_module": "@jupyter-widgets/controls",
          "model_name": "ProgressStyleModel",
          "state": {
            "_view_name": "StyleView",
            "_model_name": "ProgressStyleModel",
            "description_width": "initial",
            "_view_module": "@jupyter-widgets/base",
            "_model_module_version": "1.5.0",
            "_view_count": null,
            "_view_module_version": "1.2.0",
            "bar_color": null,
            "_model_module": "@jupyter-widgets/controls"
          }
        },
        "c4f95c0bbe7f4d1ea3f17d54ab307270": {
          "model_module": "@jupyter-widgets/base",
          "model_name": "LayoutModel",
          "state": {
            "_view_name": "LayoutView",
            "grid_template_rows": null,
            "right": null,
            "justify_content": null,
            "_view_module": "@jupyter-widgets/base",
            "overflow": null,
            "_model_module_version": "1.2.0",
            "_view_count": null,
            "flex_flow": null,
            "width": null,
            "min_width": null,
            "border": null,
            "align_items": null,
            "bottom": null,
            "_model_module": "@jupyter-widgets/base",
            "top": null,
            "grid_column": null,
            "overflow_y": null,
            "overflow_x": null,
            "grid_auto_flow": null,
            "grid_area": null,
            "grid_template_columns": null,
            "flex": null,
            "_model_name": "LayoutModel",
            "justify_items": null,
            "grid_row": null,
            "max_height": null,
            "align_content": null,
            "visibility": null,
            "align_self": null,
            "height": null,
            "min_height": null,
            "padding": null,
            "grid_auto_rows": null,
            "grid_gap": null,
            "max_width": null,
            "order": null,
            "_view_module_version": "1.2.0",
            "grid_template_areas": null,
            "object_position": null,
            "object_fit": null,
            "grid_auto_columns": null,
            "margin": null,
            "display": null,
            "left": null
          }
        },
        "2809b800766f42a482fd993cb3dd4dc5": {
          "model_module": "@jupyter-widgets/controls",
          "model_name": "DescriptionStyleModel",
          "state": {
            "_view_name": "StyleView",
            "_model_name": "DescriptionStyleModel",
            "description_width": "",
            "_view_module": "@jupyter-widgets/base",
            "_model_module_version": "1.5.0",
            "_view_count": null,
            "_view_module_version": "1.2.0",
            "_model_module": "@jupyter-widgets/controls"
          }
        },
        "59b6b54ff3704eeebd96b5834ef11b51": {
          "model_module": "@jupyter-widgets/base",
          "model_name": "LayoutModel",
          "state": {
            "_view_name": "LayoutView",
            "grid_template_rows": null,
            "right": null,
            "justify_content": null,
            "_view_module": "@jupyter-widgets/base",
            "overflow": null,
            "_model_module_version": "1.2.0",
            "_view_count": null,
            "flex_flow": null,
            "width": null,
            "min_width": null,
            "border": null,
            "align_items": null,
            "bottom": null,
            "_model_module": "@jupyter-widgets/base",
            "top": null,
            "grid_column": null,
            "overflow_y": null,
            "overflow_x": null,
            "grid_auto_flow": null,
            "grid_area": null,
            "grid_template_columns": null,
            "flex": null,
            "_model_name": "LayoutModel",
            "justify_items": null,
            "grid_row": null,
            "max_height": null,
            "align_content": null,
            "visibility": null,
            "align_self": null,
            "height": null,
            "min_height": null,
            "padding": null,
            "grid_auto_rows": null,
            "grid_gap": null,
            "max_width": null,
            "order": null,
            "_view_module_version": "1.2.0",
            "grid_template_areas": null,
            "object_position": null,
            "object_fit": null,
            "grid_auto_columns": null,
            "margin": null,
            "display": null,
            "left": null
          }
        },
        "7c800ee6c4be4debb391d2dc55287963": {
          "model_module": "@jupyter-widgets/controls",
          "model_name": "HBoxModel",
          "state": {
            "_view_name": "HBoxView",
            "_dom_classes": [],
            "_model_name": "HBoxModel",
            "_view_module": "@jupyter-widgets/controls",
            "_model_module_version": "1.5.0",
            "_view_count": null,
            "_view_module_version": "1.5.0",
            "box_style": "",
            "layout": "IPY_MODEL_6c5db7ea740c4c1b8ebbf2eff48f12a1",
            "_model_module": "@jupyter-widgets/controls",
            "children": [
              "IPY_MODEL_39dea8e5c0ce4a3898a1fb0f37987d23",
              "IPY_MODEL_3f846c5f1d964d96844af9cc55f68524"
            ]
          }
        },
        "6c5db7ea740c4c1b8ebbf2eff48f12a1": {
          "model_module": "@jupyter-widgets/base",
          "model_name": "LayoutModel",
          "state": {
            "_view_name": "LayoutView",
            "grid_template_rows": null,
            "right": null,
            "justify_content": null,
            "_view_module": "@jupyter-widgets/base",
            "overflow": null,
            "_model_module_version": "1.2.0",
            "_view_count": null,
            "flex_flow": null,
            "width": null,
            "min_width": null,
            "border": null,
            "align_items": null,
            "bottom": null,
            "_model_module": "@jupyter-widgets/base",
            "top": null,
            "grid_column": null,
            "overflow_y": null,
            "overflow_x": null,
            "grid_auto_flow": null,
            "grid_area": null,
            "grid_template_columns": null,
            "flex": null,
            "_model_name": "LayoutModel",
            "justify_items": null,
            "grid_row": null,
            "max_height": null,
            "align_content": null,
            "visibility": null,
            "align_self": null,
            "height": null,
            "min_height": null,
            "padding": null,
            "grid_auto_rows": null,
            "grid_gap": null,
            "max_width": null,
            "order": null,
            "_view_module_version": "1.2.0",
            "grid_template_areas": null,
            "object_position": null,
            "object_fit": null,
            "grid_auto_columns": null,
            "margin": null,
            "display": null,
            "left": null
          }
        },
        "39dea8e5c0ce4a3898a1fb0f37987d23": {
          "model_module": "@jupyter-widgets/controls",
          "model_name": "FloatProgressModel",
          "state": {
            "_view_name": "ProgressView",
            "style": "IPY_MODEL_e6dbdd0ff2c04fa58ecea206ee2c1262",
            "_dom_classes": [],
            "description": "",
            "_model_name": "FloatProgressModel",
            "bar_style": "success",
            "max": 1648877,
            "_view_module": "@jupyter-widgets/controls",
            "_model_module_version": "1.5.0",
            "value": 1648877,
            "_view_count": null,
            "_view_module_version": "1.5.0",
            "orientation": "horizontal",
            "min": 0,
            "description_tooltip": null,
            "_model_module": "@jupyter-widgets/controls",
            "layout": "IPY_MODEL_be3144407fb5446f8b21b58b5f1b1ba0"
          }
        },
        "3f846c5f1d964d96844af9cc55f68524": {
          "model_module": "@jupyter-widgets/controls",
          "model_name": "HTMLModel",
          "state": {
            "_view_name": "HTMLView",
            "style": "IPY_MODEL_c00aa42473aa42caa84a6abcc34dd61b",
            "_dom_classes": [],
            "description": "",
            "_model_name": "HTMLModel",
            "placeholder": "​",
            "_view_module": "@jupyter-widgets/controls",
            "_model_module_version": "1.5.0",
            "value": " 1649664/? [00:52&lt;00:00, 31412.22it/s]",
            "_view_count": null,
            "_view_module_version": "1.5.0",
            "description_tooltip": null,
            "_model_module": "@jupyter-widgets/controls",
            "layout": "IPY_MODEL_72585e224e514fd2bcdf42a22b4aa434"
          }
        },
        "e6dbdd0ff2c04fa58ecea206ee2c1262": {
          "model_module": "@jupyter-widgets/controls",
          "model_name": "ProgressStyleModel",
          "state": {
            "_view_name": "StyleView",
            "_model_name": "ProgressStyleModel",
            "description_width": "initial",
            "_view_module": "@jupyter-widgets/base",
            "_model_module_version": "1.5.0",
            "_view_count": null,
            "_view_module_version": "1.2.0",
            "bar_color": null,
            "_model_module": "@jupyter-widgets/controls"
          }
        },
        "be3144407fb5446f8b21b58b5f1b1ba0": {
          "model_module": "@jupyter-widgets/base",
          "model_name": "LayoutModel",
          "state": {
            "_view_name": "LayoutView",
            "grid_template_rows": null,
            "right": null,
            "justify_content": null,
            "_view_module": "@jupyter-widgets/base",
            "overflow": null,
            "_model_module_version": "1.2.0",
            "_view_count": null,
            "flex_flow": null,
            "width": null,
            "min_width": null,
            "border": null,
            "align_items": null,
            "bottom": null,
            "_model_module": "@jupyter-widgets/base",
            "top": null,
            "grid_column": null,
            "overflow_y": null,
            "overflow_x": null,
            "grid_auto_flow": null,
            "grid_area": null,
            "grid_template_columns": null,
            "flex": null,
            "_model_name": "LayoutModel",
            "justify_items": null,
            "grid_row": null,
            "max_height": null,
            "align_content": null,
            "visibility": null,
            "align_self": null,
            "height": null,
            "min_height": null,
            "padding": null,
            "grid_auto_rows": null,
            "grid_gap": null,
            "max_width": null,
            "order": null,
            "_view_module_version": "1.2.0",
            "grid_template_areas": null,
            "object_position": null,
            "object_fit": null,
            "grid_auto_columns": null,
            "margin": null,
            "display": null,
            "left": null
          }
        },
        "c00aa42473aa42caa84a6abcc34dd61b": {
          "model_module": "@jupyter-widgets/controls",
          "model_name": "DescriptionStyleModel",
          "state": {
            "_view_name": "StyleView",
            "_model_name": "DescriptionStyleModel",
            "description_width": "",
            "_view_module": "@jupyter-widgets/base",
            "_model_module_version": "1.5.0",
            "_view_count": null,
            "_view_module_version": "1.2.0",
            "_model_module": "@jupyter-widgets/controls"
          }
        },
        "72585e224e514fd2bcdf42a22b4aa434": {
          "model_module": "@jupyter-widgets/base",
          "model_name": "LayoutModel",
          "state": {
            "_view_name": "LayoutView",
            "grid_template_rows": null,
            "right": null,
            "justify_content": null,
            "_view_module": "@jupyter-widgets/base",
            "overflow": null,
            "_model_module_version": "1.2.0",
            "_view_count": null,
            "flex_flow": null,
            "width": null,
            "min_width": null,
            "border": null,
            "align_items": null,
            "bottom": null,
            "_model_module": "@jupyter-widgets/base",
            "top": null,
            "grid_column": null,
            "overflow_y": null,
            "overflow_x": null,
            "grid_auto_flow": null,
            "grid_area": null,
            "grid_template_columns": null,
            "flex": null,
            "_model_name": "LayoutModel",
            "justify_items": null,
            "grid_row": null,
            "max_height": null,
            "align_content": null,
            "visibility": null,
            "align_self": null,
            "height": null,
            "min_height": null,
            "padding": null,
            "grid_auto_rows": null,
            "grid_gap": null,
            "max_width": null,
            "order": null,
            "_view_module_version": "1.2.0",
            "grid_template_areas": null,
            "object_position": null,
            "object_fit": null,
            "grid_auto_columns": null,
            "margin": null,
            "display": null,
            "left": null
          }
        },
        "aad9633f20954cf7988b906ab583bda6": {
          "model_module": "@jupyter-widgets/controls",
          "model_name": "HBoxModel",
          "state": {
            "_view_name": "HBoxView",
            "_dom_classes": [],
            "_model_name": "HBoxModel",
            "_view_module": "@jupyter-widgets/controls",
            "_model_module_version": "1.5.0",
            "_view_count": null,
            "_view_module_version": "1.5.0",
            "box_style": "",
            "layout": "IPY_MODEL_1f54e4c191c342e4b0b248744598f4ae",
            "_model_module": "@jupyter-widgets/controls",
            "children": [
              "IPY_MODEL_6b2e9709cc7241a183fcbe93cf77285b",
              "IPY_MODEL_add211c22e004940b35484d0264c47d8"
            ]
          }
        },
        "1f54e4c191c342e4b0b248744598f4ae": {
          "model_module": "@jupyter-widgets/base",
          "model_name": "LayoutModel",
          "state": {
            "_view_name": "LayoutView",
            "grid_template_rows": null,
            "right": null,
            "justify_content": null,
            "_view_module": "@jupyter-widgets/base",
            "overflow": null,
            "_model_module_version": "1.2.0",
            "_view_count": null,
            "flex_flow": null,
            "width": null,
            "min_width": null,
            "border": null,
            "align_items": null,
            "bottom": null,
            "_model_module": "@jupyter-widgets/base",
            "top": null,
            "grid_column": null,
            "overflow_y": null,
            "overflow_x": null,
            "grid_auto_flow": null,
            "grid_area": null,
            "grid_template_columns": null,
            "flex": null,
            "_model_name": "LayoutModel",
            "justify_items": null,
            "grid_row": null,
            "max_height": null,
            "align_content": null,
            "visibility": null,
            "align_self": null,
            "height": null,
            "min_height": null,
            "padding": null,
            "grid_auto_rows": null,
            "grid_gap": null,
            "max_width": null,
            "order": null,
            "_view_module_version": "1.2.0",
            "grid_template_areas": null,
            "object_position": null,
            "object_fit": null,
            "grid_auto_columns": null,
            "margin": null,
            "display": null,
            "left": null
          }
        },
        "6b2e9709cc7241a183fcbe93cf77285b": {
          "model_module": "@jupyter-widgets/controls",
          "model_name": "FloatProgressModel",
          "state": {
            "_view_name": "ProgressView",
            "style": "IPY_MODEL_1992d9cac5e64a52a60019a77f95aeff",
            "_dom_classes": [],
            "description": "",
            "_model_name": "FloatProgressModel",
            "bar_style": "success",
            "max": 4542,
            "_view_module": "@jupyter-widgets/controls",
            "_model_module_version": "1.5.0",
            "value": 4542,
            "_view_count": null,
            "_view_module_version": "1.5.0",
            "orientation": "horizontal",
            "min": 0,
            "description_tooltip": null,
            "_model_module": "@jupyter-widgets/controls",
            "layout": "IPY_MODEL_562eb01d6df44bcbbd49ffbe6c69ef4e"
          }
        },
        "add211c22e004940b35484d0264c47d8": {
          "model_module": "@jupyter-widgets/controls",
          "model_name": "HTMLModel",
          "state": {
            "_view_name": "HTMLView",
            "style": "IPY_MODEL_c1f85a988ae240e7aea339b70557bb9e",
            "_dom_classes": [],
            "description": "",
            "_model_name": "HTMLModel",
            "placeholder": "​",
            "_view_module": "@jupyter-widgets/controls",
            "_model_module_version": "1.5.0",
            "value": " 5120/? [00:00&lt;00:00, 16703.23it/s]",
            "_view_count": null,
            "_view_module_version": "1.5.0",
            "description_tooltip": null,
            "_model_module": "@jupyter-widgets/controls",
            "layout": "IPY_MODEL_32c5af3813c749b39f25832f5e2b0d86"
          }
        },
        "1992d9cac5e64a52a60019a77f95aeff": {
          "model_module": "@jupyter-widgets/controls",
          "model_name": "ProgressStyleModel",
          "state": {
            "_view_name": "StyleView",
            "_model_name": "ProgressStyleModel",
            "description_width": "initial",
            "_view_module": "@jupyter-widgets/base",
            "_model_module_version": "1.5.0",
            "_view_count": null,
            "_view_module_version": "1.2.0",
            "bar_color": null,
            "_model_module": "@jupyter-widgets/controls"
          }
        },
        "562eb01d6df44bcbbd49ffbe6c69ef4e": {
          "model_module": "@jupyter-widgets/base",
          "model_name": "LayoutModel",
          "state": {
            "_view_name": "LayoutView",
            "grid_template_rows": null,
            "right": null,
            "justify_content": null,
            "_view_module": "@jupyter-widgets/base",
            "overflow": null,
            "_model_module_version": "1.2.0",
            "_view_count": null,
            "flex_flow": null,
            "width": null,
            "min_width": null,
            "border": null,
            "align_items": null,
            "bottom": null,
            "_model_module": "@jupyter-widgets/base",
            "top": null,
            "grid_column": null,
            "overflow_y": null,
            "overflow_x": null,
            "grid_auto_flow": null,
            "grid_area": null,
            "grid_template_columns": null,
            "flex": null,
            "_model_name": "LayoutModel",
            "justify_items": null,
            "grid_row": null,
            "max_height": null,
            "align_content": null,
            "visibility": null,
            "align_self": null,
            "height": null,
            "min_height": null,
            "padding": null,
            "grid_auto_rows": null,
            "grid_gap": null,
            "max_width": null,
            "order": null,
            "_view_module_version": "1.2.0",
            "grid_template_areas": null,
            "object_position": null,
            "object_fit": null,
            "grid_auto_columns": null,
            "margin": null,
            "display": null,
            "left": null
          }
        },
        "c1f85a988ae240e7aea339b70557bb9e": {
          "model_module": "@jupyter-widgets/controls",
          "model_name": "DescriptionStyleModel",
          "state": {
            "_view_name": "StyleView",
            "_model_name": "DescriptionStyleModel",
            "description_width": "",
            "_view_module": "@jupyter-widgets/base",
            "_model_module_version": "1.5.0",
            "_view_count": null,
            "_view_module_version": "1.2.0",
            "_model_module": "@jupyter-widgets/controls"
          }
        },
        "32c5af3813c749b39f25832f5e2b0d86": {
          "model_module": "@jupyter-widgets/base",
          "model_name": "LayoutModel",
          "state": {
            "_view_name": "LayoutView",
            "grid_template_rows": null,
            "right": null,
            "justify_content": null,
            "_view_module": "@jupyter-widgets/base",
            "overflow": null,
            "_model_module_version": "1.2.0",
            "_view_count": null,
            "flex_flow": null,
            "width": null,
            "min_width": null,
            "border": null,
            "align_items": null,
            "bottom": null,
            "_model_module": "@jupyter-widgets/base",
            "top": null,
            "grid_column": null,
            "overflow_y": null,
            "overflow_x": null,
            "grid_auto_flow": null,
            "grid_area": null,
            "grid_template_columns": null,
            "flex": null,
            "_model_name": "LayoutModel",
            "justify_items": null,
            "grid_row": null,
            "max_height": null,
            "align_content": null,
            "visibility": null,
            "align_self": null,
            "height": null,
            "min_height": null,
            "padding": null,
            "grid_auto_rows": null,
            "grid_gap": null,
            "max_width": null,
            "order": null,
            "_view_module_version": "1.2.0",
            "grid_template_areas": null,
            "object_position": null,
            "object_fit": null,
            "grid_auto_columns": null,
            "margin": null,
            "display": null,
            "left": null
          }
        }
      }
    }
  },
  "cells": [
    {
      "cell_type": "markdown",
      "metadata": {
        "id": "iz75Onm1BmVZ"
      },
      "source": [
        "# MNIST digits classification with PyTorch\n",
        "\n",
        "In this programming assignment you will implement your first neural network and train it to classify handwritten digits."
      ]
    },
    {
      "cell_type": "code",
      "metadata": {
        "id": "CR5ons9CxI26",
        "colab": {
          "base_uri": "https://localhost:8080/"
        },
        "outputId": "cf98f4b5-56ab-4733-b54a-6f2950cd6a8e"
      },
      "source": [
        "%%bash\n",
        "\n",
        "shred -u setup_colab.py\n",
        "\n",
        "wget https://raw.githubusercontent.com/hse-aml/intro-to-dl-pytorch/main/utils/setup_colab.py -O setup_colab.py"
      ],
      "execution_count": 1,
      "outputs": [
        {
          "output_type": "stream",
          "text": [
            "shred: setup_colab.py: failed to open for writing: No such file or directory\n",
            "--2021-03-19 00:06:59--  https://raw.githubusercontent.com/hse-aml/intro-to-dl-pytorch/main/utils/setup_colab.py\n",
            "Resolving raw.githubusercontent.com (raw.githubusercontent.com)... 185.199.110.133, 185.199.111.133, 185.199.109.133, ...\n",
            "Connecting to raw.githubusercontent.com (raw.githubusercontent.com)|185.199.110.133|:443... connected.\n",
            "HTTP request sent, awaiting response... 200 OK\n",
            "Length: 1649 (1.6K) [text/plain]\n",
            "Saving to: ‘setup_colab.py’\n",
            "\n",
            "     0K .                                                     100% 17.4M=0s\n",
            "\n",
            "2021-03-19 00:06:59 (17.4 MB/s) - ‘setup_colab.py’ saved [1649/1649]\n",
            "\n"
          ],
          "name": "stderr"
        }
      ]
    },
    {
      "cell_type": "code",
      "metadata": {
        "id": "BzrfY5t_xI27"
      },
      "source": [
        "import setup_colab\n",
        "\n",
        "setup_colab.setup_week02()"
      ],
      "execution_count": 2,
      "outputs": []
    },
    {
      "cell_type": "code",
      "metadata": {
        "id": "M75gw2yqBmVl"
      },
      "source": [
        "import numpy as np\n",
        "\n",
        "%matplotlib inline\n",
        "import matplotlib.pyplot as plt\n",
        "\n",
        "import tqdm\n",
        "import itertools\n",
        "import collections\n",
        "from IPython import display\n",
        "\n",
        "import torch\n",
        "from torch import nn\n",
        "from torch import optim\n",
        "from torch.utils.data import DataLoader\n",
        "\n",
        "from torchvision.datasets import MNIST\n",
        "from torchvision.transforms import ToTensor\n",
        "from torchvision.utils import make_grid"
      ],
      "execution_count": 3,
      "outputs": []
    },
    {
      "cell_type": "code",
      "metadata": {
        "id": "OjtpMRyiHdbt"
      },
      "source": [
        "#auxiliary stuff\n",
        "class AverageMeter:\n",
        "    \n",
        "    def __init__(self):\n",
        "        self.reset()\n",
        "\n",
        "    def reset(self):\n",
        "        self.val = 0\n",
        "        self.avg = 0\n",
        "        self.sum = 0\n",
        "        self.count = 0\n",
        "\n",
        "    def update(self, val, n=1):\n",
        "        self.val = val\n",
        "        self.sum += val * n\n",
        "        self.count += n\n",
        "        self.avg = self.sum / self.count"
      ],
      "execution_count": 4,
      "outputs": []
    },
    {
      "cell_type": "markdown",
      "metadata": {
        "id": "LFrkxLQRBmVm"
      },
      "source": [
        "### Fill in your Coursera token and email\n",
        "To successfully submit your answers to our grader, please fill in your Coursera submission token and email."
      ]
    },
    {
      "cell_type": "code",
      "metadata": {
        "id": "Yobu6DjTBmVn"
      },
      "source": [
        "import grading\n",
        "\n",
        "grader = grading.Grader(\n",
        "    assignment_key=\"jNcGh-dHRvuN45xP616Dyw\",\n",
        "    all_parts=[\"zGwHg\", \"5Ww9B\"]\n",
        ")"
      ],
      "execution_count": 5,
      "outputs": []
    },
    {
      "cell_type": "code",
      "metadata": {
        "id": "I9Q5SMbUBmVn"
      },
      "source": [
        "# token expires every 30 min\n",
        "COURSERA_TOKEN = 'WaqL0M20B9f71uOx'\n",
        "COURSERA_EMAIL = 'zavarovkv@gmail.com'"
      ],
      "execution_count": 101,
      "outputs": []
    },
    {
      "cell_type": "markdown",
      "metadata": {
        "id": "SRIiXmfFBmVn"
      },
      "source": [
        "## MNIST dataset\n",
        "\n",
        "In this task we will work with MNIST dataset which contains 60000 28x28 images of handwritten digits from 0 to 9. \n",
        "\n",
        "For the data processing we'll use `torchvision` library. It is very simple and easy to use library for computer vision & deep learning. For a deep dive into the library you can check out the githab page: https://github.com/pytorch/vision\n",
        "\n",
        "Firstly, we set up datasets and dataloaders:"
      ]
    },
    {
      "cell_type": "code",
      "metadata": {
        "id": "q-7Ut2_iBmVo",
        "colab": {
          "base_uri": "https://localhost:8080/",
          "height": 437,
          "referenced_widgets": [
            "79b04e20445d4fcb9dc968de5edd537b",
            "0f446d50173b49ad9cf7688b4e3c392c",
            "3019518da4104eaea05b44ee123d6e83",
            "c1769e77edd841b790e607ce2622df32",
            "0a3d3736fb7247cf86aa2fd2ef0aa3aa",
            "a19599e7b7aa4c19918d3d8493c060dd",
            "ee381227ce8f444ea4e8a2006e005d5c",
            "d2613645689f4d0cba56fc6b7797d410",
            "9eb8f449c1c24885a713ef3b7f7606a0",
            "5731c6acb03f4c5383b1d1c6bff19398",
            "66a32f65041b414c9687479abcc269ae",
            "103e544374cd413ea3c15b20fc354520",
            "ec6de52f5bd64125ab8fdebd51d7a4fc",
            "c4f95c0bbe7f4d1ea3f17d54ab307270",
            "2809b800766f42a482fd993cb3dd4dc5",
            "59b6b54ff3704eeebd96b5834ef11b51",
            "7c800ee6c4be4debb391d2dc55287963",
            "6c5db7ea740c4c1b8ebbf2eff48f12a1",
            "39dea8e5c0ce4a3898a1fb0f37987d23",
            "3f846c5f1d964d96844af9cc55f68524",
            "e6dbdd0ff2c04fa58ecea206ee2c1262",
            "be3144407fb5446f8b21b58b5f1b1ba0",
            "c00aa42473aa42caa84a6abcc34dd61b",
            "72585e224e514fd2bcdf42a22b4aa434",
            "aad9633f20954cf7988b906ab583bda6",
            "1f54e4c191c342e4b0b248744598f4ae",
            "6b2e9709cc7241a183fcbe93cf77285b",
            "add211c22e004940b35484d0264c47d8",
            "1992d9cac5e64a52a60019a77f95aeff",
            "562eb01d6df44bcbbd49ffbe6c69ef4e",
            "c1f85a988ae240e7aea339b70557bb9e",
            "32c5af3813c749b39f25832f5e2b0d86"
          ]
        },
        "outputId": "657812f2-43ca-454f-e274-9688d5c98a6a"
      },
      "source": [
        "# use it to conver from PIL to torch.Tensor\n",
        "image_transform = ToTensor()\n",
        "\n",
        "train_dataset = MNIST(root='./', train=True, download=True, transform=image_transform)\n",
        "test_dataset = MNIST(root='./', train=False, download=True, transform=image_transform)"
      ],
      "execution_count": 7,
      "outputs": [
        {
          "output_type": "stream",
          "text": [
            "Downloading http://yann.lecun.com/exdb/mnist/train-images-idx3-ubyte.gz to ./MNIST/raw/train-images-idx3-ubyte.gz\n"
          ],
          "name": "stdout"
        },
        {
          "output_type": "display_data",
          "data": {
            "application/vnd.jupyter.widget-view+json": {
              "model_id": "79b04e20445d4fcb9dc968de5edd537b",
              "version_minor": 0,
              "version_major": 2
            },
            "text/plain": [
              "HBox(children=(FloatProgress(value=0.0, max=9912422.0), HTML(value='')))"
            ]
          },
          "metadata": {
            "tags": []
          }
        },
        {
          "output_type": "stream",
          "text": [
            "\n",
            "Extracting ./MNIST/raw/train-images-idx3-ubyte.gz to ./MNIST/raw\n",
            "Downloading http://yann.lecun.com/exdb/mnist/train-labels-idx1-ubyte.gz to ./MNIST/raw/train-labels-idx1-ubyte.gz\n"
          ],
          "name": "stdout"
        },
        {
          "output_type": "display_data",
          "data": {
            "application/vnd.jupyter.widget-view+json": {
              "model_id": "9eb8f449c1c24885a713ef3b7f7606a0",
              "version_minor": 0,
              "version_major": 2
            },
            "text/plain": [
              "HBox(children=(FloatProgress(value=0.0, max=28881.0), HTML(value='')))"
            ]
          },
          "metadata": {
            "tags": []
          }
        },
        {
          "output_type": "stream",
          "text": [
            "\n",
            "Extracting ./MNIST/raw/train-labels-idx1-ubyte.gz to ./MNIST/raw\n",
            "Downloading http://yann.lecun.com/exdb/mnist/t10k-images-idx3-ubyte.gz to ./MNIST/raw/t10k-images-idx3-ubyte.gz\n"
          ],
          "name": "stdout"
        },
        {
          "output_type": "display_data",
          "data": {
            "application/vnd.jupyter.widget-view+json": {
              "model_id": "7c800ee6c4be4debb391d2dc55287963",
              "version_minor": 0,
              "version_major": 2
            },
            "text/plain": [
              "HBox(children=(FloatProgress(value=0.0, max=1648877.0), HTML(value='')))"
            ]
          },
          "metadata": {
            "tags": []
          }
        },
        {
          "output_type": "stream",
          "text": [
            "\n",
            "Extracting ./MNIST/raw/t10k-images-idx3-ubyte.gz to ./MNIST/raw\n",
            "Downloading http://yann.lecun.com/exdb/mnist/t10k-labels-idx1-ubyte.gz to ./MNIST/raw/t10k-labels-idx1-ubyte.gz\n"
          ],
          "name": "stdout"
        },
        {
          "output_type": "display_data",
          "data": {
            "application/vnd.jupyter.widget-view+json": {
              "model_id": "aad9633f20954cf7988b906ab583bda6",
              "version_minor": 0,
              "version_major": 2
            },
            "text/plain": [
              "HBox(children=(FloatProgress(value=0.0, max=4542.0), HTML(value='')))"
            ]
          },
          "metadata": {
            "tags": []
          }
        },
        {
          "output_type": "stream",
          "text": [
            "\n",
            "Extracting ./MNIST/raw/t10k-labels-idx1-ubyte.gz to ./MNIST/raw\n",
            "Processing...\n",
            "Done!\n"
          ],
          "name": "stdout"
        },
        {
          "output_type": "stream",
          "text": [
            "/usr/local/lib/python3.7/dist-packages/torchvision/datasets/mnist.py:479: UserWarning: The given NumPy array is not writeable, and PyTorch does not support non-writeable tensors. This means you can write to the underlying (supposedly non-writeable) NumPy array using the tensor. You may want to copy the array to protect its data or make it writeable before converting it to a tensor. This type of warning will be suppressed for the rest of this program. (Triggered internally at  /pytorch/torch/csrc/utils/tensor_numpy.cpp:143.)\n",
            "  return torch.from_numpy(parsed.astype(m[2], copy=False)).view(*s)\n"
          ],
          "name": "stderr"
        }
      ]
    },
    {
      "cell_type": "code",
      "metadata": {
        "id": "-uuRj-5nBmVp"
      },
      "source": [
        "BATCH_SIZE = 32\n",
        "\n",
        "train_dataloader = DataLoader(\n",
        "    train_dataset,\n",
        "    batch_size=BATCH_SIZE,\n",
        "    shuffle=True,\n",
        ")\n",
        "\n",
        "test_dataloader = DataLoader(\n",
        "    test_dataset,\n",
        "    batch_size=BATCH_SIZE,\n",
        ")"
      ],
      "execution_count": 8,
      "outputs": []
    },
    {
      "cell_type": "markdown",
      "metadata": {
        "id": "_zQK0y3OBmVp"
      },
      "source": [
        "Let's look at a batch of images:"
      ]
    },
    {
      "cell_type": "code",
      "metadata": {
        "id": "Ndo1muoOBmVp",
        "colab": {
          "base_uri": "https://localhost:8080/",
          "height": 627
        },
        "outputId": "bb1fe510-fddf-4e30-93a9-1f63482dced6"
      },
      "source": [
        "example_batch = list(itertools.islice(train_dataloader, 1))[0]\n",
        "images, labels = example_batch\n",
        "\n",
        "# make a grid of images\n",
        "grid_images = make_grid(images, 8).permute(1, 2, 0)\n",
        "\n",
        "print(\"Labels of images: \", labels.view(-1, 8).tolist())\n",
        "\n",
        "plt.figure(figsize=(20, 10))\n",
        "plt.imshow(make_grid(images, 8).permute(1, 2, 0))"
      ],
      "execution_count": 9,
      "outputs": [
        {
          "output_type": "stream",
          "text": [
            "Labels of images:  [[6, 0, 5, 4, 5, 7, 7, 3], [5, 2, 0, 3, 8, 2, 3, 9], [8, 1, 7, 2, 9, 5, 6, 0], [8, 6, 7, 8, 3, 4, 8, 3]]\n"
          ],
          "name": "stdout"
        },
        {
          "output_type": "execute_result",
          "data": {
            "text/plain": [
              "<matplotlib.image.AxesImage at 0x7fec175cf310>"
            ]
          },
          "metadata": {
            "tags": []
          },
          "execution_count": 9
        },
        {
          "output_type": "display_data",
          "data": {
            "image/png": "[encoded data removed]",
            "text/plain": [
              "<Figure size 1440x720 with 1 Axes>"
            ]
          },
          "metadata": {
            "tags": [],
            "needs_background": "light"
          }
        }
      ]
    },
    {
      "cell_type": "markdown",
      "metadata": {
        "id": "IUoHQGAnBmVq"
      },
      "source": [
        "The task is to train a model that will be able to take an image as an input and predict the class label for it (from 0 to 9) as an output.\n",
        "\n",
        "As a main metric we will use accuracy:"
      ]
    },
    {
      "cell_type": "code",
      "metadata": {
        "id": "rn8vmPkfBmVr"
      },
      "source": [
        "def calculate_accuracy(prediction, target):\n",
        "    # Note that prediction.shape == target.shape == [B, ]\n",
        "    \n",
        "    matching = (prediction == target).float()\n",
        "    return matching.mean()"
      ],
      "execution_count": 10,
      "outputs": []
    },
    {
      "cell_type": "markdown",
      "metadata": {
        "id": "pUqclU3HBmVr"
      },
      "source": [
        "## Linear Model\n",
        "\n",
        "Let's start with a linear model and implement it as a neural network in PyTorch. \n",
        "\n",
        "Linear model takes a batch of $B$ images as an input, applies a linear transformation to them and outputs logits. For each image $x$ it returns a vector of logits $z$:\n",
        "$$z = x \\cdot W + b $$\n",
        "\n",
        "Here x.shape = [1, 28 * 28], z.shape = [1, 10].\n",
        "\n",
        "Then, we can make the prediction $\\hat{y}$ for $x$ by taking the class with the maximum logit or obtain probabilities $p$ for all classes by applying softmax function to vector of logits:\n",
        "$$\\hat{y} = \\arg\\max_k z_k \\quad p_k = \\frac{e^{z_k}}{\\sum_{i=0}^{9}{e^{z_i}}} \\quad k = 0..9$$\n"
      ]
    },
    {
      "cell_type": "code",
      "metadata": {
        "id": "cr-sj3X9BmVr"
      },
      "source": [
        "# Any neural network in PyTorch is a class with trainable (i.e. requires_grad=True) parameters.\n",
        "# For more detailed tutorial look at https://pytorch.org/tutorials/beginner/nn_tutorial.html\n",
        "\n",
        "class LinearModel(nn.Module):  # inheritance from nn.Module is required\n",
        "    \n",
        "    def __init__(self, input_dim: int, output_dim: int):\n",
        "        super().__init__()  # don't forget to init subclass\n",
        "        \n",
        "        # initialize weight and bias\n",
        "        # NOTE that using of nn.Parameter is required\n",
        "        # Don't use just torch.Tensor\n",
        "        self.weight = nn.Parameter(torch.randn(output_dim, input_dim))\n",
        "        self.bias = nn.Parameter(torch.zeros(output_dim))\n",
        "        \n",
        "        # initialize weight correctly\n",
        "        self.reset_parameters()\n",
        "    \n",
        "    def reset_parameters(self):\n",
        "        nn.init.kaiming_normal_(self.weight)\n",
        "    \n",
        "    def forward(self, input: torch.Tensor):\n",
        "        # We expect input.shape == [B, 1, 28, 28] and need to output logits.shape = [B,10]\n",
        "        \n",
        "        ### YOUR SOLUTION ###\n",
        "        logits = []\n",
        "        images = input.shape[0]\n",
        "\n",
        "        for i in range(0, images):\n",
        "          x = input[i, 0, :, :].reshape(28*28)\n",
        "          w = self.weight.transpose(0, 1)\n",
        "          z = x @ w + self.bias\n",
        "          logits.append(z)\n",
        "        \n",
        "        logits = torch.stack(logits)\n",
        "\n",
        "        return logits"
      ],
      "execution_count": 80,
      "outputs": []
    },
    {
      "cell_type": "code",
      "metadata": {
        "id": "UNZ_jPKixqhs"
      },
      "source": [
        "INPUT_DIM = 28 * 28\n",
        "OUTPUT_DIM = 10  # num classes\n",
        "\n",
        "linear_model = LinearModel(INPUT_DIM, OUTPUT_DIM)"
      ],
      "execution_count": 81,
      "outputs": []
    },
    {
      "cell_type": "code",
      "metadata": {
        "colab": {
          "base_uri": "https://localhost:8080/"
        },
        "id": "1pqlLNKO7yNy",
        "outputId": "057034a3-6fd7-4d9a-c892-f9e06d7e16c6"
      },
      "source": [
        "linear_model.forward(example_batch[0]).shape"
      ],
      "execution_count": 82,
      "outputs": [
        {
          "output_type": "execute_result",
          "data": {
            "text/plain": [
              "torch.Size([32, 10])"
            ]
          },
          "metadata": {
            "tags": []
          },
          "execution_count": 82
        }
      ]
    },
    {
      "cell_type": "code",
      "metadata": {
        "id": "kefMlVIMyCzn"
      },
      "source": [
        "# validate shapes\n",
        "\n",
        "assert linear_model.weight.shape == (OUTPUT_DIM, INPUT_DIM)\n",
        "assert linear_model.bias.shape == (OUTPUT_DIM, )\n",
        "assert linear_model.forward(example_batch[0]).shape == (BATCH_SIZE, 10)"
      ],
      "execution_count": 83,
      "outputs": []
    },
    {
      "cell_type": "markdown",
      "metadata": {
        "id": "88KjRwzwyQQr"
      },
      "source": [
        "To train the model we will need a loss and an optimizer. \n",
        "\n",
        "We will use a cross-entropy loss, for one object it looks as follows:\n",
        "$$\\text{cross-entropy}(y, p) = -\\sum_{k=0}^{9}{\\log(p_k)[y = k]}$$ \n",
        "\n",
        "where $y$ is a true label, $p_k$ is a predicted probability for class $k$, and  \n",
        "$$\n",
        "[x]=\\begin{cases}\n",
        "       1, \\quad \\text{if $x$ is true} \\\\\n",
        "       0, \\quad \\text{otherwise}\n",
        "    \\end{cases}\n",
        "$$\n",
        "\n",
        "Cross-entropy minimization pushes $p_k$ close to 1 when $y = k$, which is what we want.\n",
        "\n",
        "CrossEntropyLoss criterion in PyTorch combines softmax and loss calculation."
      ]
    },
    {
      "cell_type": "code",
      "metadata": {
        "id": "tSYCvwVRBmVs"
      },
      "source": [
        "criterion = nn.CrossEntropyLoss()\n",
        "optimizer = optim.SGD(linear_model.parameters(), lr=1e-2, momentum=0.9, nesterov=True)"
      ],
      "execution_count": 84,
      "outputs": []
    },
    {
      "cell_type": "markdown",
      "metadata": {
        "id": "NtvIcXmRBmVu"
      },
      "source": [
        "Write training and testing loops"
      ]
    },
    {
      "cell_type": "code",
      "metadata": {
        "id": "9x8uy-8dBmVu",
        "colab": {
          "base_uri": "https://localhost:8080/",
          "height": 444
        },
        "outputId": "0c966b13-df82-4bf9-d362-5737e4eb6a24"
      },
      "source": [
        "NUM_EPOCH = 10\n",
        "DEVICE = torch.device('cpu')  # you can change to `cuda:0`\n",
        "HISTORY = collections.defaultdict(list)\n",
        "\n",
        "linear_model.to(DEVICE)\n",
        "\n",
        "for epoch in range(NUM_EPOCH):\n",
        "    # AverageMeter will accumulate average of some metric\n",
        "    # Procceed to `utils.py` to see implementation\n",
        "    train_loss_meter = AverageMeter()\n",
        "    train_accuracy_meter = AverageMeter()\n",
        "    test_loss_meter = AverageMeter()\n",
        "    test_accuracy_meter = AverageMeter()\n",
        "    \n",
        "    # training loop\n",
        "    for train_batch in train_dataloader:\n",
        "        \n",
        "        # unpack batch and move to specific device (for example, GPU or TPU)\n",
        "        images, labels = train_batch\n",
        "        images = images.to(DEVICE)\n",
        "        labels = labels.to(DEVICE)\n",
        "        \n",
        "        ### YOUR SOLUTION ###\n",
        "        # do forward pass\n",
        "        logits = linear_model.forward(images)\n",
        "        prediction = logits.argmax(dim=-1)\n",
        "        \n",
        "        # calculate loss (CrossEntropy)\n",
        "        loss = criterion(logits, labels)\n",
        "\n",
        "        # zero out the previous gradients of our model parameters\n",
        "        optimizer.zero_grad()\n",
        "\n",
        "        # calculate new gradients\n",
        "        loss.backward()\n",
        "\n",
        "        # do optimization step\n",
        "        optimizer.step()\n",
        "        \n",
        "        # calculate current average loss and accuracy\n",
        "        train_loss_meter.update(loss.item())\n",
        "        train_accuracy_meter.update(\n",
        "            calculate_accuracy(\n",
        "                prediction.detach(),\n",
        "                labels\n",
        "            ).item()\n",
        "        )\n",
        "        \n",
        "    # save average train loss and accuracy\n",
        "    HISTORY['train_loss'].append(train_loss_meter.avg)\n",
        "    HISTORY['train_accuracy'].append(train_accuracy_meter.avg)\n",
        "        \n",
        "    # testing loop\n",
        "    for test_batch in test_dataloader:\n",
        "        images, labels = test_batch\n",
        "        images = images.to(DEVICE)\n",
        "        labels = labels.to(DEVICE)\n",
        "        \n",
        "        # аdd `with torch.no_grad()' to avoid computing gradients of weights\n",
        "        with torch.no_grad():\n",
        "            # do everything like we did in training loop\n",
        "            logits = linear_model(images)\n",
        "            prediction = logits.argmax(dim=-1)\n",
        "            loss = criterion(logits, labels)\n",
        "        \n",
        "        test_loss_meter.update(loss.item())\n",
        "        test_accuracy_meter.update(\n",
        "            calculate_accuracy(\n",
        "                prediction,\n",
        "                labels\n",
        "            ).item()\n",
        "        )\n",
        "    \n",
        "    # save average test accuracy loss and accuracy\n",
        "    HISTORY['test_loss'].append(test_loss_meter.avg)\n",
        "    HISTORY['test_accuracy'].append(test_accuracy_meter.avg)\n",
        "    \n",
        "    # visualize all together\n",
        "    display.clear_output()\n",
        "    fig, axes = plt.subplots(1, 2, figsize=(20, 7))\n",
        "    axes[0].set_title('Loss (Cross Entropy)')\n",
        "    axes[0].plot(HISTORY['train_loss'], label='Train Loss')\n",
        "    axes[0].plot(HISTORY['test_loss'], label='Test Loss')\n",
        "    axes[0].grid()\n",
        "    axes[0].legend(fontsize=20)\n",
        "    \n",
        "    axes[1].set_title('Accuracy')\n",
        "    axes[1].plot(HISTORY['train_accuracy'], label='Train Accuracy')\n",
        "    axes[1].plot(HISTORY['test_accuracy'], label='Test Accuracy')\n",
        "    axes[1].grid()\n",
        "    axes[1].legend(fontsize=20)\n",
        "    \n",
        "    plt.show()"
      ],
      "execution_count": 88,
      "outputs": [
        {
          "output_type": "display_data",
          "data": {
            "image/png": "[encoded data removed]",
            "text/plain": [
              "<Figure size 1440x504 with 2 Axes>"
            ]
          },
          "metadata": {
            "tags": [],
            "needs_background": "light"
          }
        }
      ]
    },
    {
      "cell_type": "code",
      "metadata": {
        "id": "tVK59LTcBmVw"
      },
      "source": [
        "assert HISTORY['test_accuracy'][-1] > 0.92"
      ],
      "execution_count": 89,
      "outputs": []
    },
    {
      "cell_type": "code",
      "metadata": {
        "id": "vS9LhPeMxI3B"
      },
      "source": [
        "ans_part1 = HISTORY['test_accuracy'][-1]"
      ],
      "execution_count": 90,
      "outputs": []
    },
    {
      "cell_type": "code",
      "metadata": {
        "id": "Z6bMyMCKBmVx"
      },
      "source": [
        "## GRADED PART, DO NOT CHANGE!\n",
        "grader.set_answer(\"zGwHg\", ans_part1)"
      ],
      "execution_count": 91,
      "outputs": []
    },
    {
      "cell_type": "code",
      "metadata": {
        "id": "wj2EH27KxI3C",
        "colab": {
          "base_uri": "https://localhost:8080/"
        },
        "outputId": "49a097fc-4ff8-4a9d-e4bc-37eaf23a4d1f"
      },
      "source": [
        "# you can make submission with answers so far to check yourself at this stage\n",
        "grader.submit(COURSERA_EMAIL, COURSERA_TOKEN)"
      ],
      "execution_count": 93,
      "outputs": [
        {
          "output_type": "stream",
          "text": [
            "Submitted to Coursera platform. See results on assignment page!\n"
          ],
          "name": "stdout"
        }
      ]
    },
    {
      "cell_type": "markdown",
      "metadata": {
        "id": "AhNvJjljBmVx"
      },
      "source": [
        "## MLP with hidden layers\n",
        "\n",
        "Previously we've coded a fully-connected linear layer with matrix multiplication by hand. But usually people code only very specific layers by hand, all standard layers are already implemented in PyTorch. The analog of our LinearModel in PyTorch is nn.Linear\n",
        "\n",
        "Now define an MLP with 2 hidden layers. \n",
        "- Do not forget to use nonlinearities between linear layers, for example, nn.ReLU\n",
        "- nn.Sequential help you to combine several layers into one model "
      ]
    },
    {
      "cell_type": "code",
      "metadata": {
        "id": "AwlSa-JDBmVy"
      },
      "source": [
        "INPUT_DIM = 28 * 28\n",
        "OUTPUT_DIM = 10  # num classes\n",
        "\n",
        "# HINT\n",
        "# Use nn.Sequential, nn.Linear and nn.ReLU\n",
        "\n",
        "### YOUR SOLUTION ###\n",
        "class LinearModel(nn.Module):  # inheritance from nn.Module is required\n",
        "    \n",
        "    def __init__(self, input_dim: int, output_dim: int):\n",
        "        super().__init__()  # don't forget to init subclass\n",
        "\n",
        "        self.model = nn.Sequential(\n",
        "            nn.Linear(28*28, 512),\n",
        "            nn.ReLU(),\n",
        "            nn.Linear(512, 512),\n",
        "            nn.ReLU(),\n",
        "            nn.Linear(512, 10)\n",
        "        )\n",
        "\n",
        "    def forward(self, input: torch.Tensor):\n",
        "        logits = []\n",
        "        images = input.shape[0]\n",
        "        \n",
        "        for i in range(0, images):\n",
        "          x = input[i, 0, :, :].reshape(28*28)\n",
        "          x = self.model(x)\n",
        "          logits.append(x)\n",
        "\n",
        "        logits = torch.stack(logits)\n",
        "\n",
        "        return logits"
      ],
      "execution_count": 95,
      "outputs": []
    },
    {
      "cell_type": "code",
      "metadata": {
        "colab": {
          "base_uri": "https://localhost:8080/"
        },
        "id": "c3StFMwUWLTk",
        "outputId": "8f16b0e6-679e-4e5e-f7bf-0b399dabadf4"
      },
      "source": [
        "linear_model = LinearModel(INPUT_DIM, OUTPUT_DIM)\n",
        "linear_model.forward(example_batch[0]).shape"
      ],
      "execution_count": 96,
      "outputs": [
        {
          "output_type": "execute_result",
          "data": {
            "text/plain": [
              "torch.Size([32, 10])"
            ]
          },
          "metadata": {
            "tags": []
          },
          "execution_count": 96
        }
      ]
    },
    {
      "cell_type": "code",
      "metadata": {
        "id": "wmYZj3HNWbdP"
      },
      "source": [
        "criterion = nn.CrossEntropyLoss()\n",
        "optimizer = optim.SGD(linear_model.parameters(), lr=1e-2, momentum=0.9, nesterov=True)"
      ],
      "execution_count": 97,
      "outputs": []
    },
    {
      "cell_type": "markdown",
      "metadata": {
        "id": "grSmgqzJBmVy"
      },
      "source": [
        "Use the code from above to train the model. You're aiming for ~0.97 test accuracy here."
      ]
    },
    {
      "cell_type": "code",
      "metadata": {
        "id": "MKEDLGhwBmVy",
        "scrolled": false,
        "colab": {
          "base_uri": "https://localhost:8080/",
          "height": 444
        },
        "outputId": "af82b10a-14e2-43bc-e93c-9774268fa625"
      },
      "source": [
        "HISTORY = collections.defaultdict(list)\n",
        "\n",
        "linear_model.to(DEVICE)\n",
        "\n",
        "for epoch in range(NUM_EPOCH):\n",
        "    # AverageMeter will accumulate average of some metric\n",
        "    # Procceed to `utils.py` to see implementation\n",
        "    train_loss_meter = AverageMeter()\n",
        "    train_accuracy_meter = AverageMeter()\n",
        "    test_loss_meter = AverageMeter()\n",
        "    test_accuracy_meter = AverageMeter()\n",
        "    \n",
        "    # training loop\n",
        "    for train_batch in train_dataloader:\n",
        "        \n",
        "        # unpack batch and move to specific device (for example, GPU or TPU)\n",
        "        images, labels = train_batch\n",
        "        images = images.to(DEVICE)\n",
        "        labels = labels.to(DEVICE)\n",
        "        \n",
        "        ### YOUR SOLUTION ###\n",
        "        # do forward pass\n",
        "        logits = linear_model.forward(images)\n",
        "        prediction = logits.argmax(dim=-1)\n",
        "        \n",
        "        # calculate loss (CrossEntropy)\n",
        "        loss = criterion(logits, labels)\n",
        "\n",
        "        # zero out the previous gradients of our model parameters\n",
        "        optimizer.zero_grad()\n",
        "\n",
        "        # calculate new gradients\n",
        "        loss.backward()\n",
        "\n",
        "        # do optimization step\n",
        "        optimizer.step()\n",
        "        \n",
        "        # calculate current average loss and accuracy\n",
        "        train_loss_meter.update(loss.item())\n",
        "        train_accuracy_meter.update(\n",
        "            calculate_accuracy(\n",
        "                prediction.detach(),\n",
        "                labels\n",
        "            ).item()\n",
        "        )\n",
        "        \n",
        "    # save average train loss and accuracy\n",
        "    HISTORY['train_loss'].append(train_loss_meter.avg)\n",
        "    HISTORY['train_accuracy'].append(train_accuracy_meter.avg)\n",
        "        \n",
        "    # testing loop\n",
        "    for test_batch in test_dataloader:\n",
        "        images, labels = test_batch\n",
        "        images = images.to(DEVICE)\n",
        "        labels = labels.to(DEVICE)\n",
        "        \n",
        "        # аdd `with torch.no_grad()' to avoid computing gradients of weights\n",
        "        with torch.no_grad():\n",
        "            # do everything like we did in training loop\n",
        "            logits = linear_model(images)\n",
        "            prediction = logits.argmax(dim=-1)\n",
        "            loss = criterion(logits, labels)\n",
        "        \n",
        "        test_loss_meter.update(loss.item())\n",
        "        test_accuracy_meter.update(\n",
        "            calculate_accuracy(\n",
        "                prediction,\n",
        "                labels\n",
        "            ).item()\n",
        "        )\n",
        "    \n",
        "    # save average test accuracy loss and accuracy\n",
        "    HISTORY['test_loss'].append(test_loss_meter.avg)\n",
        "    HISTORY['test_accuracy'].append(test_accuracy_meter.avg)\n",
        "    \n",
        "    # visualize all together\n",
        "    display.clear_output()\n",
        "    fig, axes = plt.subplots(1, 2, figsize=(20, 7))\n",
        "    axes[0].set_title('Loss (Cross Entropy)')\n",
        "    axes[0].plot(HISTORY['train_loss'], label='Train Loss')\n",
        "    axes[0].plot(HISTORY['test_loss'], label='Test Loss')\n",
        "    axes[0].grid()\n",
        "    axes[0].legend(fontsize=20)\n",
        "    \n",
        "    axes[1].set_title('Accuracy')\n",
        "    axes[1].plot(HISTORY['train_accuracy'], label='Train Accuracy')\n",
        "    axes[1].plot(HISTORY['test_accuracy'], label='Test Accuracy')\n",
        "    axes[1].grid()\n",
        "    axes[1].legend(fontsize=20)\n",
        "    \n",
        "    plt.show()"
      ],
      "execution_count": 98,
      "outputs": [
        {
          "output_type": "display_data",
          "data": {
            "image/png": "[encoded data removed]",
            "text/plain": [
              "<Figure size 1440x504 with 2 Axes>"
            ]
          },
          "metadata": {
            "tags": [],
            "needs_background": "light"
          }
        }
      ]
    },
    {
      "cell_type": "code",
      "metadata": {
        "id": "iO9wWf-0BmVz"
      },
      "source": [
        "ans_part2 = HISTORY['test_accuracy'][-1]"
      ],
      "execution_count": 99,
      "outputs": []
    },
    {
      "cell_type": "code",
      "metadata": {
        "colab": {
          "base_uri": "https://localhost:8080/"
        },
        "id": "HPFxn9nLbA6k",
        "outputId": "d32268e1-1924-4282-f5bf-d4cf74a6a9e7"
      },
      "source": [
        "ans_part2"
      ],
      "execution_count": 100,
      "outputs": [
        {
          "output_type": "execute_result",
          "data": {
            "text/plain": [
              "0.9818290734824281"
            ]
          },
          "metadata": {
            "tags": []
          },
          "execution_count": 100
        }
      ]
    },
    {
      "cell_type": "code",
      "metadata": {
        "id": "fm-wxw3yxI3D"
      },
      "source": [
        "## GRADED PART, DO NOT CHANGE!\n",
        "grader.set_answer(\"5Ww9B\", ans_part2)"
      ],
      "execution_count": 102,
      "outputs": []
    },
    {
      "cell_type": "code",
      "metadata": {
        "id": "6uaveQVWxI3D",
        "colab": {
          "base_uri": "https://localhost:8080/"
        },
        "outputId": "b6fee875-4133-4d71-9a65-ab85eb12e44d"
      },
      "source": [
        "grader.submit(COURSERA_EMAIL, COURSERA_TOKEN)"
      ],
      "execution_count": 103,
      "outputs": [
        {
          "output_type": "stream",
          "text": [
            "Submitted to Coursera platform. See results on assignment page!\n"
          ],
          "name": "stdout"
        }
      ]
    }
  ]
}