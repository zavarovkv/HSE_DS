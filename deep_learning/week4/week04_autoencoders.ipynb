{
  "nbformat": 4,
  "nbformat_minor": 0,
  "metadata": {
    "accelerator": "GPU",
    "colab": {
      "name": "week04_autoencoders.ipynb",
      "provenance": [],
      "collapsed_sections": []
    },
    "kernelspec": {
      "display_name": "Python 3",
      "language": "python",
      "name": "python3"
    },
    "language_info": {
      "codemirror_mode": {
        "name": "ipython",
        "version": 3
      },
      "file_extension": ".py",
      "mimetype": "text/x-python",
      "name": "python",
      "nbconvert_exporter": "python",
      "pygments_lexer": "ipython3",
      "version": "3.8.5"
    },
    "toc": {
      "colors": {
        "hover_highlight": "#DAA520",
        "navigate_num": "#000000",
        "navigate_text": "#333333",
        "running_highlight": "#FF0000",
        "selected_highlight": "#FFD700",
        "sidebar_border": "#EEEEEE",
        "wrapper_background": "#FFFFFF"
      },
      "moveMenuLeft": true,
      "nav_menu": {
        "height": "192px",
        "width": "252px"
      },
      "navigate_menu": true,
      "number_sections": true,
      "sideBar": true,
      "threshold": 4,
      "toc_cell": false,
      "toc_section_display": "block",
      "toc_window_display": false,
      "widenNotebook": false
    }
  },
  "cells": [
    {
      "cell_type": "markdown",
      "metadata": {
        "id": "yH4mcK4lnpyy"
      },
      "source": [
        "# Denoising Autoencoders And Where To Find Them\n",
        "\n",
        "In this programming assignment we're going to train deep autoencoders and apply them to faces and similar images search.\n",
        "\n",
        "Our new test subjects are human faces from the [lfw dataset](http://vis-www.cs.umass.edu/lfw/)."
      ]
    },
    {
      "cell_type": "code",
      "metadata": {
        "id": "YkOrpfaD4kr2",
        "colab": {
          "base_uri": "https://localhost:8080/"
        },
        "outputId": "f065833b-1af8-4687-d95f-9016ab1c7b98"
      },
      "source": [
        "%%bash\n",
        "\n",
        "shred -u setup_colab.py\n",
        "\n",
        "wget https://raw.githubusercontent.com/hse-aml/intro-to-dl-pytorch/main/utils/setup_colab.py -O setup_colab.py"
      ],
      "execution_count": 1,
      "outputs": [
        {
          "output_type": "stream",
          "text": [
            "shred: setup_colab.py: failed to open for writing: No such file or directory\n",
            "--2021-03-28 11:40:54--  https://raw.githubusercontent.com/hse-aml/intro-to-dl-pytorch/main/utils/setup_colab.py\n",
            "Resolving raw.githubusercontent.com (raw.githubusercontent.com)... 185.199.108.133, 185.199.109.133, 185.199.110.133, ...\n",
            "Connecting to raw.githubusercontent.com (raw.githubusercontent.com)|185.199.108.133|:443... connected.\n",
            "HTTP request sent, awaiting response... 200 OK\n",
            "Length: 1649 (1.6K) [text/plain]\n",
            "Saving to: ‘setup_colab.py’\n",
            "\n",
            "     0K .                                                     100% 17.7M=0s\n",
            "\n",
            "2021-03-28 11:40:55 (17.7 MB/s) - ‘setup_colab.py’ saved [1649/1649]\n",
            "\n"
          ],
          "name": "stderr"
        }
      ]
    },
    {
      "cell_type": "code",
      "metadata": {
        "id": "MyYXfjQp4kr3"
      },
      "source": [
        "import setup_colab\n",
        "\n",
        "setup_colab.setup_week04()"
      ],
      "execution_count": 2,
      "outputs": []
    },
    {
      "cell_type": "code",
      "metadata": {
        "id": "jxHs2VRMnpy1"
      },
      "source": [
        "from collections import defaultdict\n",
        "\n",
        "import numpy as np\n",
        "from matplotlib import pyplot as plt\n",
        "\n",
        "import download_utils\n",
        "from lfw_dataset import load_lfw_dataset\n",
        "from sklearn.model_selection import train_test_split\n",
        "\n",
        "import torch\n",
        "from torch import nn\n",
        "from torch import optim\n",
        "from torch.utils.data import TensorDataset, DataLoader"
      ],
      "execution_count": 3,
      "outputs": []
    },
    {
      "cell_type": "code",
      "metadata": {
        "id": "4-8s1yoXWa98"
      },
      "source": [
        "class AverageMeter:\n",
        "    \n",
        "    def __init__(self):\n",
        "        self.reset()\n",
        "\n",
        "    def reset(self):\n",
        "        self.val = 0\n",
        "        self.avg = 0\n",
        "        self.sum = 0\n",
        "        self.count = 0\n",
        "\n",
        "    def update(self, val, n=1):\n",
        "        self.val = val\n",
        "        self.sum += val * n\n",
        "        self.count += n\n",
        "        self.avg = self.sum / self.count"
      ],
      "execution_count": 4,
      "outputs": []
    },
    {
      "cell_type": "markdown",
      "metadata": {
        "id": "NGNzUvfw-dh0"
      },
      "source": [
        "### Fill in your Coursera token and email\n",
        "To successfully submit your answers to our grader, please fill in your Coursera submission token and email."
      ]
    },
    {
      "cell_type": "code",
      "metadata": {
        "id": "LiZcOVZx-VvW"
      },
      "source": [
        "import grading\n",
        "\n",
        "grader = grading.Grader(\n",
        "    assignment_key=\"9TShnp1JEeeGGAoCUnhvuA\",\n",
        "    all_parts=[\"FtBSK\", \"83Glu\", \"fnM1K\", \"T5tJ7\", \"UF05M\"]\n",
        ")"
      ],
      "execution_count": 5,
      "outputs": []
    },
    {
      "cell_type": "code",
      "metadata": {
        "id": "ly7qBIys-jsY"
      },
      "source": [
        "# token expires every 30 min\n",
        "COURSERA_TOKEN = 'izKYu16OWbiw5I5c'\n",
        "COURSERA_EMAIL = 'zavarovkv@gmail.com'"
      ],
      "execution_count": 120,
      "outputs": []
    },
    {
      "cell_type": "markdown",
      "metadata": {
        "id": "OJvWmC6hnpy1"
      },
      "source": [
        "# Load dataset\n",
        "Dataset was downloaded for you. Relevant links (just in case):\n",
        "- http://www.cs.columbia.edu/CAVE/databases/pubfig/download/lfw_attributes.txt\n",
        "- http://vis-www.cs.umass.edu/lfw/lfw-deepfunneled.tgz\n",
        "- http://vis-www.cs.umass.edu/lfw/lfw.tgz"
      ]
    },
    {
      "cell_type": "code",
      "metadata": {
        "id": "SQQYWym2npy2",
        "colab": {
          "base_uri": "https://localhost:8080/"
        },
        "outputId": "3c1eb0f9-77ed-44fb-8858-b2f2ca9809b0"
      },
      "source": [
        "# we downloaded them for you, just link them here\n",
        "download_utils.download_week_4_resources('.')"
      ],
      "execution_count": 7,
      "outputs": [
        {
          "output_type": "stream",
          "text": [
            "**************************************************\n",
            "lfw-deepfunneled.tgz\n",
            "**************************************************\n",
            "lfw.tgz\n",
            "**************************************************\n",
            "lfw_attributes.txt\n"
          ],
          "name": "stdout"
        }
      ]
    },
    {
      "cell_type": "code",
      "metadata": {
        "id": "U5La7VfHnpy2"
      },
      "source": [
        "# load images\n",
        "X, attr = load_lfw_dataset(use_raw=True, dimx=32, dimy=32)\n",
        "IMG_SHAPE = X.shape[1:]\n",
        "\n",
        "# center images\n",
        "X = X.astype('float32') / 255.0 - 0.5\n",
        "X = np.transpose(X, (0, 3, 1, 2))\n",
        "\n",
        "# split\n",
        "X_train, X_test = train_test_split(X, test_size=0.1, random_state=42)\n",
        "X_train = torch.from_numpy(X_train)\n",
        "X_test = torch.from_numpy(X_test)"
      ],
      "execution_count": 8,
      "outputs": []
    },
    {
      "cell_type": "code",
      "metadata": {
        "id": "O2M84a4snpy2"
      },
      "source": [
        "def show_image(x):\n",
        "    x = x.permute(1, 2, 0)\n",
        "    plt.imshow(torch.clamp(x + 0.5, 0, 1))"
      ],
      "execution_count": 9,
      "outputs": []
    },
    {
      "cell_type": "code",
      "metadata": {
        "id": "ZXBJezNVnpy3",
        "colab": {
          "base_uri": "https://localhost:8080/",
          "height": 266
        },
        "outputId": "7ca43f43-3a0a-4f78-a276-df71cd287f07"
      },
      "source": [
        "show_image(X_train[3210])"
      ],
      "execution_count": 10,
      "outputs": [
        {
          "output_type": "display_data",
          "data": {
            "image/png": "[encoded data removed]",
            "text/plain": [
              "<Figure size 432x288 with 1 Axes>"
            ]
          },
          "metadata": {
            "tags": [],
            "needs_background": "light"
          }
        }
      ]
    },
    {
      "cell_type": "markdown",
      "metadata": {
        "id": "umOjYfkSnpy3"
      },
      "source": [
        "## Dataloaders"
      ]
    },
    {
      "cell_type": "code",
      "metadata": {
        "id": "3f48qrwlnpy3"
      },
      "source": [
        "from torch.utils.data import TensorDataset, DataLoader"
      ],
      "execution_count": 11,
      "outputs": []
    },
    {
      "cell_type": "code",
      "metadata": {
        "id": "Zl420k5Nnpy3",
        "colab": {
          "base_uri": "https://localhost:8080/"
        },
        "outputId": "33d51dae-7f60-497c-ccb4-c00a2fd096aa"
      },
      "source": [
        "BATCH_SIZE = 32\n",
        "\n",
        "train_dataset = TensorDataset(X_train)\n",
        "test_dataset = TensorDataset(X_test)\n",
        "\n",
        "\n",
        "# try changing arguments of DataLoaders to speed up processing\n",
        "train_dataloader = DataLoader(train_dataset, BATCH_SIZE, num_workers=4)\n",
        "test_dataloader = DataLoader(test_dataset, BATCH_SIZE, num_workers=4)"
      ],
      "execution_count": 12,
      "outputs": [
        {
          "output_type": "stream",
          "text": [
            "/usr/local/lib/python3.7/dist-packages/torch/utils/data/dataloader.py:477: UserWarning: This DataLoader will create 4 worker processes in total. Our suggested max number of worker in current system is 2, which is smaller than what this DataLoader is going to create. Please be aware that excessive worker creation might get DataLoader running slow or even freeze, lower the worker number to avoid potential slowness/freeze if necessary.\n",
            "  cpuset_checked))\n"
          ],
          "name": "stderr"
        }
      ]
    },
    {
      "cell_type": "markdown",
      "metadata": {
        "id": "Lkyv9VdYnpy4"
      },
      "source": [
        "# Autoencoder architecture\n",
        "\n",
        "<img src=\"https://github.com/hse-aml/intro-to-dl-pytorch/blob/main/week04/images/autoencoder.png?raw=1\" style=\"width:50%\">"
      ]
    },
    {
      "cell_type": "markdown",
      "metadata": {
        "id": "A4oy2TiUnpy4"
      },
      "source": [
        "# First step: PCA\n",
        "\n",
        "Principial Component Analysis is a popular dimensionality reduction method. \n",
        "\n",
        "Under the hood, PCA attempts to decompose object-feature matrix $X$ into two smaller matrices: $W$ and $\\hat W$ minimizing _mean squared error_:\n",
        "\n",
        "$$\\|(X W) \\hat{W} - X\\|^2_2 \\to_{W, \\hat{W}} \\min$$\n",
        "- $X \\in \\mathbb{R}^{n \\times m}$ - object matrix (**centered**);\n",
        "- $W \\in \\mathbb{R}^{m \\times d}$ - matrix of direct transformation;\n",
        "- $\\hat{W} \\in \\mathbb{R}^{d \\times m}$ - matrix of reverse transformation;\n",
        "- $n$ samples, $m$ original dimensions and $d$ target dimensions;\n",
        "\n",
        "In geometric terms, we want to find d axes along which most of variance occurs. The \"natural\" axes, if you wish.\n",
        "\n",
        "<img src=\"https://github.com/hse-aml/intro-to-dl-pytorch/blob/main/week04/images/pca.png?raw=1\" style=\"width:30%\">\n",
        "\n",
        "\n",
        "PCA can also be seen as a special case of an autoencoder.\n",
        "\n",
        "* __Encoder__: X -> Dense(d units) -> code\n",
        "* __Decoder__: code -> Dense(m units) -> X\n",
        "\n",
        "Where Dense is a fully-connected layer with linear activaton:   $f(X) = W \\cdot X + \\vec b $\n",
        "\n",
        "\n",
        "Note: the bias term in those layers is responsible for \"centering\" the matrix i.e. substracting mean."
      ]
    },
    {
      "cell_type": "code",
      "metadata": {
        "id": "YuutYvu7npy4"
      },
      "source": [
        "from typing import Tuple\n",
        "\n",
        "\n",
        "class AutoEncoder(nn.Module):\n",
        "    \n",
        "    # note that typing is not necessary\n",
        "    # but it makes life much easier\n",
        "    def __init__(self, image_shape: Tuple[int, ...], code_size: int):\n",
        "        super().__init__()\n",
        "        \n",
        "        assert len(image_shape) == 3\n",
        "        \n",
        "        self.image_shape = image_shape\n",
        "        self.code_size = code_size\n",
        "        \n",
        "        input_dim = image_shape[0] * image_shape[1] * image_shape[2]\n",
        "        \n",
        "        # Initialize `self.encoder` and `self.decoder` as simple Linear layers\n",
        "        self.encoder = nn.Sequential(\n",
        "            nn.Linear(input_dim, code_size))\n",
        "        \n",
        "        self.decoder = nn.Sequential(\n",
        "            nn.Linear(code_size, input_dim))\n",
        "        \n",
        "    def forward(self, image: torch.Tensor):\n",
        "      code = self.encode(image)\n",
        "      return self.decode(code)\n",
        "    \n",
        "    def encode(self, image: torch.Tensor):\n",
        "        image = image.flatten(start_dim=1)\n",
        "        return self.encoder(image)\n",
        "    \n",
        "    def decode(self, code: torch.Tensor):\n",
        "        image = self.decoder(code)\n",
        "        image = image.view(-1, *self.image_shape)\n",
        "        return image"
      ],
      "execution_count": 184,
      "outputs": []
    },
    {
      "cell_type": "markdown",
      "metadata": {
        "id": "KhkAS_38npy4"
      },
      "source": [
        "## Init train pipeline"
      ]
    },
    {
      "cell_type": "code",
      "metadata": {
        "id": "E8ieWv1Snpy4"
      },
      "source": [
        "NUM_EPOCH = 15\n",
        "DEVICE = torch.device('cuda')\n",
        "\n",
        "autoencoder = AutoEncoder((3, 32, 32), 100).to(DEVICE)\n",
        "criterion = nn.MSELoss()\n",
        "optimizer = optim.Adam(autoencoder.parameters(), lr=1e-3)"
      ],
      "execution_count": 185,
      "outputs": []
    },
    {
      "cell_type": "code",
      "metadata": {
        "id": "9YM8Liadnpy5",
        "colab": {
          "base_uri": "https://localhost:8080/"
        },
        "outputId": "fe7df662-0dda-4084-851b-1f9d4e55e615"
      },
      "source": [
        "HISTORY = defaultdict(list)\n",
        "loss_meter = AverageMeter()\n",
        "\n",
        "# Set up learning rate scheduler\n",
        "# This will speed up the convergence of the model\n",
        "lr_scheduler = optim.lr_scheduler.MultiStepLR(\n",
        "    optimizer=optimizer,\n",
        "    milestones=[20, 40],\n",
        "    gamma=0.1,\n",
        "    verbose=True\n",
        ")\n",
        "\n",
        "# TRAIN MODEL\n",
        "# Feel free to use train loop from notebook of previous week"
      ],
      "execution_count": 186,
      "outputs": [
        {
          "output_type": "stream",
          "text": [
            "Adjusting learning rate of group 0 to 1.0000e-03.\n"
          ],
          "name": "stdout"
        }
      ]
    },
    {
      "cell_type": "code",
      "metadata": {
        "colab": {
          "base_uri": "https://localhost:8080/"
        },
        "id": "rV85O5FZyjxa",
        "outputId": "02356043-7b06-4a92-d03d-9716ef81b26b"
      },
      "source": [
        "for epoch in range(NUM_EPOCH):\n",
        "    # AverageMeter will accumulate average of some metric\n",
        "    train_loss_meter = AverageMeter()\n",
        "    \n",
        "    # training loop\n",
        "    # sets the module in training mode -- it i  s important for nn.Dropout\n",
        "    autoencoder.train()\n",
        "    # wrap `train_dataloader` within tqdm to visualize progress\n",
        "    for train_batch in tqdm.tqdm(train_dataloader):\n",
        "        \n",
        "        # unpack batch and move to specific device (for example, GPU or TPU)\n",
        "        images, = train_batch\n",
        "        images = images.to(DEVICE)\n",
        "        \n",
        "        # zero out the previous gradients of our model parameters\n",
        "        optimizer.zero_grad()\n",
        "        outputs = autoencoder(images)\n",
        "        loss = criterion(outputs, images)\n",
        "\n",
        "        # calculate new gradients\n",
        "        loss.backward()\n",
        "        \n",
        "        # do optimization step\n",
        "        optimizer.step()\n",
        "        \n",
        "        # calculate current average loss and accuracy\n",
        "        train_loss_meter.update(loss.item())\n",
        "    \n",
        "    # update lr_scheduler\n",
        "    lr_scheduler.step()\n",
        "        \n",
        "    # save average train loss and accuracy\n",
        "    HISTORY['loss'].append(train_loss_meter.avg)"
      ],
      "execution_count": 187,
      "outputs": [
        {
          "output_type": "stream",
          "text": [
            "\r  0%|          | 0/370 [00:00<?, ?it/s]/usr/local/lib/python3.7/dist-packages/torch/utils/data/dataloader.py:477: UserWarning: This DataLoader will create 4 worker processes in total. Our suggested max number of worker in current system is 2, which is smaller than what this DataLoader is going to create. Please be aware that excessive worker creation might get DataLoader running slow or even freeze, lower the worker number to avoid potential slowness/freeze if necessary.\n",
            "  cpuset_checked))\n",
            "100%|██████████| 370/370 [00:01<00:00, 335.17it/s]\n",
            "  0%|          | 0/370 [00:00<?, ?it/s]"
          ],
          "name": "stderr"
        },
        {
          "output_type": "stream",
          "text": [
            "Adjusting learning rate of group 0 to 1.0000e-03.\n"
          ],
          "name": "stdout"
        },
        {
          "output_type": "stream",
          "text": [
            "100%|██████████| 370/370 [00:01<00:00, 339.77it/s]\n",
            "  0%|          | 0/370 [00:00<?, ?it/s]"
          ],
          "name": "stderr"
        },
        {
          "output_type": "stream",
          "text": [
            "Adjusting learning rate of group 0 to 1.0000e-03.\n"
          ],
          "name": "stdout"
        },
        {
          "output_type": "stream",
          "text": [
            "100%|██████████| 370/370 [00:01<00:00, 321.30it/s]\n",
            "  0%|          | 0/370 [00:00<?, ?it/s]"
          ],
          "name": "stderr"
        },
        {
          "output_type": "stream",
          "text": [
            "Adjusting learning rate of group 0 to 1.0000e-03.\n"
          ],
          "name": "stdout"
        },
        {
          "output_type": "stream",
          "text": [
            "100%|██████████| 370/370 [00:01<00:00, 313.99it/s]\n",
            "  0%|          | 0/370 [00:00<?, ?it/s]"
          ],
          "name": "stderr"
        },
        {
          "output_type": "stream",
          "text": [
            "Adjusting learning rate of group 0 to 1.0000e-03.\n"
          ],
          "name": "stdout"
        },
        {
          "output_type": "stream",
          "text": [
            "100%|██████████| 370/370 [00:01<00:00, 332.64it/s]\n",
            "  0%|          | 0/370 [00:00<?, ?it/s]"
          ],
          "name": "stderr"
        },
        {
          "output_type": "stream",
          "text": [
            "Adjusting learning rate of group 0 to 1.0000e-03.\n"
          ],
          "name": "stdout"
        },
        {
          "output_type": "stream",
          "text": [
            "100%|██████████| 370/370 [00:01<00:00, 323.94it/s]\n",
            "  0%|          | 0/370 [00:00<?, ?it/s]"
          ],
          "name": "stderr"
        },
        {
          "output_type": "stream",
          "text": [
            "Adjusting learning rate of group 0 to 1.0000e-03.\n"
          ],
          "name": "stdout"
        },
        {
          "output_type": "stream",
          "text": [
            "100%|██████████| 370/370 [00:01<00:00, 324.42it/s]\n",
            "  0%|          | 0/370 [00:00<?, ?it/s]"
          ],
          "name": "stderr"
        },
        {
          "output_type": "stream",
          "text": [
            "Adjusting learning rate of group 0 to 1.0000e-03.\n"
          ],
          "name": "stdout"
        },
        {
          "output_type": "stream",
          "text": [
            "100%|██████████| 370/370 [00:01<00:00, 332.97it/s]\n",
            "  0%|          | 0/370 [00:00<?, ?it/s]"
          ],
          "name": "stderr"
        },
        {
          "output_type": "stream",
          "text": [
            "Adjusting learning rate of group 0 to 1.0000e-03.\n"
          ],
          "name": "stdout"
        },
        {
          "output_type": "stream",
          "text": [
            "100%|██████████| 370/370 [00:01<00:00, 326.57it/s]\n",
            "  0%|          | 0/370 [00:00<?, ?it/s]"
          ],
          "name": "stderr"
        },
        {
          "output_type": "stream",
          "text": [
            "Adjusting learning rate of group 0 to 1.0000e-03.\n"
          ],
          "name": "stdout"
        },
        {
          "output_type": "stream",
          "text": [
            "100%|██████████| 370/370 [00:01<00:00, 329.41it/s]\n",
            "  0%|          | 0/370 [00:00<?, ?it/s]"
          ],
          "name": "stderr"
        },
        {
          "output_type": "stream",
          "text": [
            "Adjusting learning rate of group 0 to 1.0000e-03.\n"
          ],
          "name": "stdout"
        },
        {
          "output_type": "stream",
          "text": [
            "100%|██████████| 370/370 [00:01<00:00, 326.58it/s]\n",
            "  0%|          | 0/370 [00:00<?, ?it/s]"
          ],
          "name": "stderr"
        },
        {
          "output_type": "stream",
          "text": [
            "Adjusting learning rate of group 0 to 1.0000e-03.\n"
          ],
          "name": "stdout"
        },
        {
          "output_type": "stream",
          "text": [
            "100%|██████████| 370/370 [00:01<00:00, 330.18it/s]\n",
            "  0%|          | 0/370 [00:00<?, ?it/s]"
          ],
          "name": "stderr"
        },
        {
          "output_type": "stream",
          "text": [
            "Adjusting learning rate of group 0 to 1.0000e-03.\n"
          ],
          "name": "stdout"
        },
        {
          "output_type": "stream",
          "text": [
            "100%|██████████| 370/370 [00:01<00:00, 339.11it/s]\n",
            "  0%|          | 0/370 [00:00<?, ?it/s]"
          ],
          "name": "stderr"
        },
        {
          "output_type": "stream",
          "text": [
            "Adjusting learning rate of group 0 to 1.0000e-03.\n"
          ],
          "name": "stdout"
        },
        {
          "output_type": "stream",
          "text": [
            "100%|██████████| 370/370 [00:01<00:00, 333.55it/s]\n",
            "  0%|          | 0/370 [00:00<?, ?it/s]"
          ],
          "name": "stderr"
        },
        {
          "output_type": "stream",
          "text": [
            "Adjusting learning rate of group 0 to 1.0000e-03.\n"
          ],
          "name": "stdout"
        },
        {
          "output_type": "stream",
          "text": [
            "100%|██████████| 370/370 [00:01<00:00, 337.59it/s]"
          ],
          "name": "stderr"
        },
        {
          "output_type": "stream",
          "text": [
            "Adjusting learning rate of group 0 to 1.0000e-03.\n"
          ],
          "name": "stdout"
        },
        {
          "output_type": "stream",
          "text": [
            "\n"
          ],
          "name": "stderr"
        }
      ]
    },
    {
      "cell_type": "code",
      "metadata": {
        "colab": {
          "base_uri": "https://localhost:8080/"
        },
        "id": "QjUYQFrG-8H3",
        "outputId": "509fccdd-fd04-463c-eb62-6e03a3b388f2"
      },
      "source": [
        "min(HISTORY['loss'])"
      ],
      "execution_count": 188,
      "outputs": [
        {
          "output_type": "execute_result",
          "data": {
            "text/plain": [
              "0.0035324876354000455"
            ]
          },
          "metadata": {
            "tags": []
          },
          "execution_count": 188
        }
      ]
    },
    {
      "cell_type": "code",
      "metadata": {
        "id": "HGv2Y1XkW72G"
      },
      "source": [
        "assert min(HISTORY['loss']) < 0.0036, 'Loss is too high!'"
      ],
      "execution_count": 189,
      "outputs": []
    },
    {
      "cell_type": "markdown",
      "metadata": {
        "id": "hkAiXNVI5x4P"
      },
      "source": [
        "### Evaluate model on test data\n",
        "\n",
        "Calculate loss and vizualize some images"
      ]
    },
    {
      "cell_type": "code",
      "metadata": {
        "id": "B2JYf28xnpy5"
      },
      "source": [
        "def visualize(image, autoencoder):\n",
        "    \"\"\"\n",
        "    Draws original, encoded and decoded images\n",
        "    \n",
        "    \n",
        "    NOTE\n",
        "    Expect image.shape == [3, 32, 32]\n",
        "    \"\"\"\n",
        "    \n",
        "    with torch.no_grad():\n",
        "        code = autoencoder.encode(image.unsqueeze(0))\n",
        "        reco = autoencoder.decode(code).squeeze(0)\n",
        "\n",
        "    plt.subplot(1, 3, 1)\n",
        "    plt.title(\"Original\")\n",
        "    show_image(image.squeeze(0))\n",
        "\n",
        "    plt.subplot(1, 3, 2)\n",
        "    plt.title(\"Code\")\n",
        "    plt.imshow(code.view(code.shape[-1] // 2, -1))\n",
        "\n",
        "    plt.subplot(1, 3, 3)\n",
        "    plt.title(\"Reconstructed\")\n",
        "    show_image(reco)\n",
        "    plt.show()\n"
      ],
      "execution_count": 190,
      "outputs": []
    },
    {
      "cell_type": "code",
      "metadata": {
        "id": "18kxIS6rpUeF"
      },
      "source": [
        "autoencoder = autoencoder.cpu()"
      ],
      "execution_count": 191,
      "outputs": []
    },
    {
      "cell_type": "code",
      "metadata": {
        "id": "pPwGJCVNnpy5",
        "scrolled": true,
        "colab": {
          "base_uri": "https://localhost:8080/",
          "height": 1000
        },
        "outputId": "404d0d71-818b-4098-dc9a-402bac79c076"
      },
      "source": [
        "for i in range(5):\n",
        "    image, = test_dataset[i]\n",
        "    visualize(image, autoencoder)"
      ],
      "execution_count": 192,
      "outputs": [
        {
          "output_type": "display_data",
          "data": {
            "image/png": "[encoded data removed]",
            "text/plain": [
              "<Figure size 432x288 with 3 Axes>"
            ]
          },
          "metadata": {
            "tags": [],
            "needs_background": "light"
          }
        },
        {
          "output_type": "display_data",
          "data": {
            "image/png": "[encoded data removed]",
            "text/plain": [
              "<Figure size 432x288 with 3 Axes>"
            ]
          },
          "metadata": {
            "tags": [],
            "needs_background": "light"
          }
        },
        {
          "output_type": "display_data",
          "data": {
            "image/png": "[encoded data removed]",
            "text/plain": [
              "<Figure size 432x288 with 3 Axes>"
            ]
          },
          "metadata": {
            "tags": [],
            "needs_background": "light"
          }
        },
        {
          "output_type": "display_data",
          "data": {
            "image/png": "[encoded data removed]",
            "text/plain": [
              "<Figure size 432x288 with 3 Axes>"
            ]
          },
          "metadata": {
            "tags": [],
            "needs_background": "light"
          }
        },
        {
          "output_type": "display_data",
          "data": {
            "image/png": "[encoded data removed]",
            "text/plain": [
              "<Figure size 432x288 with 3 Axes>"
            ]
          },
          "metadata": {
            "tags": [],
            "needs_background": "light"
          }
        }
      ]
    },
    {
      "cell_type": "code",
      "metadata": {
        "id": "jv2d3eVgBTeH"
      },
      "source": [
        "history = HISTORY"
      ],
      "execution_count": 193,
      "outputs": []
    },
    {
      "cell_type": "code",
      "metadata": {
        "id": "kx8hzQlhooaI"
      },
      "source": [
        "## GRADED PART, DO NOT CHANGE!\n",
        "grader.set_answer(\"T5tJ7\", min(history['loss']))"
      ],
      "execution_count": 194,
      "outputs": []
    },
    {
      "cell_type": "code",
      "metadata": {
        "id": "u-iKdwqEooaI",
        "colab": {
          "base_uri": "https://localhost:8080/"
        },
        "outputId": "f5eff6b2-25ac-4e6b-a96f-f523c15adf65"
      },
      "source": [
        "# you can make submission with answers so far to check yourself at this stage\n",
        "grader.submit(COURSERA_EMAIL, 'AOrSZNeqqpZ4BxXV')"
      ],
      "execution_count": 195,
      "outputs": [
        {
          "output_type": "stream",
          "text": [
            "Submitted to Coursera platform. See results on assignment page!\n"
          ],
          "name": "stdout"
        }
      ]
    },
    {
      "cell_type": "markdown",
      "metadata": {
        "id": "_9uHQ2SSnpy6"
      },
      "source": [
        "# Going deeper: convolutional autoencoder\n",
        "\n",
        "PCA is neat but surely we can do better. This time we want you to build a deep convolutional autoencoder by... stacking more layers.\n",
        "\n",
        "## Encoder\n",
        "\n",
        "The **encoder** part is pretty standard, we stack convolutional and pooling layers and finish with a dense layer to get the representation of desirable size (`code_size`).\n",
        "\n",
        "We recommend to use `nn.ELU'` for all convolutional and dense layers.\n",
        "\n",
        "We recommend to repeat (conv, pool) 4 times with kernel size (3, 3) (don't forget to add padding=1) and the following numbers of output channels: `32, 64, 128, 256`.\n",
        "\n",
        "Remember to flatten (`nn.Flatten()`) output before adding the last dense layer!\n",
        "\n",
        "## Decoder\n",
        "\n",
        "For **decoder** we will use so-called \"transpose convolution\". \n",
        "\n",
        "Traditional convolutional layer takes a patch of an image and produces a number (patch -> number). In \"transpose convolution\" we want to take a number and produce a patch of an image (number -> patch). We need this layer to \"undo\" convolutions in encoder. We had a glimpse of it during week 3 (watch [this video](https://www.coursera.org/learn/intro-to-deep-learning-mds/lecture/auRqf/a-glimpse-of-other-computer-vision-tasks) starting at 5:41).\n",
        "\n",
        "Here's how \"transpose convolution\" works:\n",
        "<img src=\"https://github.com/hse-aml/intro-to-dl-pytorch/blob/main/week04/images/transpose_conv.jpg?raw=1\" style=\"width:60%\">\n",
        "In this example we use a stride of 2 to produce 4x4 output, this way we \"undo\" pooling as well. Another way to think about it: we \"undo\" convolution with stride 2 (which is similar to conv + pool).\n",
        "\n",
        "You can add \"transpose convolution\" layer in PyTorch like this:\n",
        "```python\n",
        "nn.ConvTranspose2d(...)\n",
        "```\n",
        "\n",
        "Our decoder starts with a dense layer to \"undo\" the last layer of encoder. Remember to reshape its output to \"undo\" `nn.Flatten()` in encoder.\n",
        "\n",
        "Now we're ready to undo (conv, pool) pairs. For this we need to stack 4 `nn.ConvTranspose2d` layers with the following numbers of output channels: `128, 64, 32, 3`. Each of these layers will learn to \"undo\" (conv, pool) pair in encoder. For the last `nn.ConvTranspose2d` layer don't use any activation because that is our final image."
      ]
    },
    {
      "cell_type": "code",
      "metadata": {
        "id": "UPQKPHgznpy6",
        "scrolled": true,
        "colab": {
          "base_uri": "https://localhost:8080/"
        },
        "outputId": "21e4d276-d199-4b1e-e888-979b9a910ed2"
      },
      "source": [
        "# Let's play around with transpose convolution on examples first\n",
        "def test_conv2d_transpose(img_size, filter_size, padding=0):\n",
        "    print(\"Transpose convolution test for img_size={}, filter_size={}:\".format(img_size, filter_size))\n",
        "    \n",
        "    x = torch.arange(img_size ** 2).view(1, 1, img_size, img_size).float()\n",
        "    \n",
        "    conv_transpose = nn.ConvTranspose2d(\n",
        "        in_channels=1, out_channels=1,\n",
        "        kernel_size=(filter_size, filter_size),\n",
        "        stride=2, padding=padding, bias=False\n",
        "    )\n",
        "    nn.init.ones_(conv_transpose.weight)\n",
        "\n",
        "    with torch.no_grad():\n",
        "        result = conv_transpose(x)\n",
        "\n",
        "    print(\"input:\")\n",
        "    print(x[0, 0, :, :])\n",
        "    print(\"filter:\")\n",
        "    print(conv_transpose.weight[:, :, 0, 0])\n",
        "    print(\"output:\")\n",
        "    print(result[0, 0, :, :])\n",
        "        \n",
        "test_conv2d_transpose(img_size=2, filter_size=2)\n",
        "test_conv2d_transpose(img_size=2, filter_size=3)\n",
        "test_conv2d_transpose(img_size=2, filter_size=3, padding=1)\n",
        "test_conv2d_transpose(img_size=4, filter_size=2)\n",
        "test_conv2d_transpose(img_size=4, filter_size=3)\n",
        "test_conv2d_transpose(img_size=4, filter_size=3, padding=1)"
      ],
      "execution_count": 196,
      "outputs": [
        {
          "output_type": "stream",
          "text": [
            "Transpose convolution test for img_size=2, filter_size=2:\n",
            "input:\n",
            "tensor([[0., 1.],\n",
            "        [2., 3.]])\n",
            "filter:\n",
            "tensor([[1.]], grad_fn=<SelectBackward>)\n",
            "output:\n",
            "tensor([[0., 0., 1., 1.],\n",
            "        [0., 0., 1., 1.],\n",
            "        [2., 2., 3., 3.],\n",
            "        [2., 2., 3., 3.]])\n",
            "Transpose convolution test for img_size=2, filter_size=3:\n",
            "input:\n",
            "tensor([[0., 1.],\n",
            "        [2., 3.]])\n",
            "filter:\n",
            "tensor([[1.]], grad_fn=<SelectBackward>)\n",
            "output:\n",
            "tensor([[0., 0., 1., 1., 1.],\n",
            "        [0., 0., 1., 1., 1.],\n",
            "        [2., 2., 6., 4., 4.],\n",
            "        [2., 2., 5., 3., 3.],\n",
            "        [2., 2., 5., 3., 3.]])\n",
            "Transpose convolution test for img_size=2, filter_size=3:\n",
            "input:\n",
            "tensor([[0., 1.],\n",
            "        [2., 3.]])\n",
            "filter:\n",
            "tensor([[1.]], grad_fn=<SelectBackward>)\n",
            "output:\n",
            "tensor([[0., 1., 1.],\n",
            "        [2., 6., 4.],\n",
            "        [2., 5., 3.]])\n",
            "Transpose convolution test for img_size=4, filter_size=2:\n",
            "input:\n",
            "tensor([[ 0.,  1.,  2.,  3.],\n",
            "        [ 4.,  5.,  6.,  7.],\n",
            "        [ 8.,  9., 10., 11.],\n",
            "        [12., 13., 14., 15.]])\n",
            "filter:\n",
            "tensor([[1.]], grad_fn=<SelectBackward>)\n",
            "output:\n",
            "tensor([[ 0.,  0.,  1.,  1.,  2.,  2.,  3.,  3.],\n",
            "        [ 0.,  0.,  1.,  1.,  2.,  2.,  3.,  3.],\n",
            "        [ 4.,  4.,  5.,  5.,  6.,  6.,  7.,  7.],\n",
            "        [ 4.,  4.,  5.,  5.,  6.,  6.,  7.,  7.],\n",
            "        [ 8.,  8.,  9.,  9., 10., 10., 11., 11.],\n",
            "        [ 8.,  8.,  9.,  9., 10., 10., 11., 11.],\n",
            "        [12., 12., 13., 13., 14., 14., 15., 15.],\n",
            "        [12., 12., 13., 13., 14., 14., 15., 15.]])\n",
            "Transpose convolution test for img_size=4, filter_size=3:\n",
            "input:\n",
            "tensor([[ 0.,  1.,  2.,  3.],\n",
            "        [ 4.,  5.,  6.,  7.],\n",
            "        [ 8.,  9., 10., 11.],\n",
            "        [12., 13., 14., 15.]])\n",
            "filter:\n",
            "tensor([[1.]], grad_fn=<SelectBackward>)\n",
            "output:\n",
            "tensor([[ 0.,  0.,  1.,  1.,  3.,  2.,  5.,  3.,  3.],\n",
            "        [ 0.,  0.,  1.,  1.,  3.,  2.,  5.,  3.,  3.],\n",
            "        [ 4.,  4., 10.,  6., 14.,  8., 18., 10., 10.],\n",
            "        [ 4.,  4.,  9.,  5., 11.,  6., 13.,  7.,  7.],\n",
            "        [12., 12., 26., 14., 30., 16., 34., 18., 18.],\n",
            "        [ 8.,  8., 17.,  9., 19., 10., 21., 11., 11.],\n",
            "        [20., 20., 42., 22., 46., 24., 50., 26., 26.],\n",
            "        [12., 12., 25., 13., 27., 14., 29., 15., 15.],\n",
            "        [12., 12., 25., 13., 27., 14., 29., 15., 15.]])\n",
            "Transpose convolution test for img_size=4, filter_size=3:\n",
            "input:\n",
            "tensor([[ 0.,  1.,  2.,  3.],\n",
            "        [ 4.,  5.,  6.,  7.],\n",
            "        [ 8.,  9., 10., 11.],\n",
            "        [12., 13., 14., 15.]])\n",
            "filter:\n",
            "tensor([[1.]], grad_fn=<SelectBackward>)\n",
            "output:\n",
            "tensor([[ 0.,  1.,  1.,  3.,  2.,  5.,  3.],\n",
            "        [ 4., 10.,  6., 14.,  8., 18., 10.],\n",
            "        [ 4.,  9.,  5., 11.,  6., 13.,  7.],\n",
            "        [12., 26., 14., 30., 16., 34., 18.],\n",
            "        [ 8., 17.,  9., 19., 10., 21., 11.],\n",
            "        [20., 42., 22., 46., 24., 50., 26.],\n",
            "        [12., 25., 13., 27., 14., 29., 15.]])\n"
          ],
          "name": "stdout"
        }
      ]
    },
    {
      "cell_type": "code",
      "metadata": {
        "id": "Jc6CT7Pknpy7"
      },
      "source": [
        "encode_block = lambda i, o: nn.Sequential(\n",
        "    nn.Conv2d(i, o, kernel_size=3, padding=1),\n",
        "    nn.ELU(),\n",
        "    nn.MaxPool2d(2)\n",
        ")\n",
        "\n",
        "decoder_block = lambda i, o, k, s, p, a: nn.Sequential(\n",
        "    nn.ConvTranspose2d(i, o, k, s, p),\n",
        "    nn.ELU() if a else nn.Identity()\n",
        ")\n",
        "\n",
        "class DeepAutoencoder(nn.Module):\n",
        "    \n",
        "    def __init__(self, image_shape, code_size):\n",
        "        super().__init__()\n",
        "        \n",
        "        assert image_shape == (3, 32, 32)\n",
        "        \n",
        "        input_dim = image_shape[0] * image_shape[1] * image_shape[2]\n",
        "\n",
        "        # Initialize `self.encoder` with `encode_block` blocks\n",
        "        self.encoder = nn.Sequential(\n",
        "            encode_block(3, 32),\n",
        "            encode_block(32, 64),\n",
        "            encode_block(64, 128),\n",
        "            encode_block(128, 256),\n",
        "            nn.Flatten())\n",
        "\n",
        "        self.projection = nn.Sequential(\n",
        "            nn.Flatten(start_dim=1),\n",
        "            nn.Linear(256 * 2 * 2, code_size)\n",
        "        )\n",
        "        self.reprojection = nn.Linear(code_size, 256 * 2 * 2)\n",
        "\n",
        "        # Initialize `self.decoder` with `decoder_block` blocks\n",
        "        ### YOUR CODE HERE ###\n",
        "        self.decoder = nn.Sequential(\n",
        "            decoder_block(256, 128, 3, 2, 1, True),\n",
        "            decoder_block(128, 64, 3, 2, 1, True),\n",
        "            decoder_block(64, 32, 3, 2, 1, True),\n",
        "            decoder_block(32, 16, 3, 2, 1, True),\n",
        "            decoder_block(16, 3, 2, 2, 1, False)\n",
        "            )\n",
        "        \n",
        "    def forward(self, image):\n",
        "        code = self.encode(image)\n",
        "        recon = self.decode(code)\n",
        "        return recon\n",
        "    \n",
        "    def encode(self, image):\n",
        "        output = self.encoder(image)\n",
        "        code = self.projection(output)\n",
        "        return code\n",
        "    \n",
        "    def decode(self, code):\n",
        "        output = self.reprojection(code)\n",
        "        output = output.view(-1, 256, 2, 2)\n",
        "        image = self.decoder(output)\n",
        "        return image"
      ],
      "execution_count": 303,
      "outputs": []
    },
    {
      "cell_type": "code",
      "metadata": {
        "id": "ZDhimik0npy7",
        "colab": {
          "base_uri": "https://localhost:8080/"
        },
        "outputId": "4a5e9f97-eb9a-42ff-b6a8-f3574fad1980"
      },
      "source": [
        "IMG_SHAPE = (3, 32, 32)\n",
        "\n",
        "for code_size in [1, 8, 32, 128, 512]:\n",
        "    test_input = torch.randn(1, *IMG_SHAPE)\n",
        "    model = DeepAutoencoder(IMG_SHAPE, code_size)\n",
        "    print(f\"Testing code size {code_size}\")\n",
        "    \n",
        "    code = model.encode(test_input)\n",
        "    recon_image = model.decode(code)\n",
        "\n",
        "    print(recon_image.shape[1:])\n",
        "    print(IMG_SHAPE)\n",
        "    \n",
        "    assert code.size(-1) == code_size, \"encoder must output a code of required size\"\n",
        "    assert recon_image.shape[1:] == IMG_SHAPE\n",
        "    \n",
        "    assert len([p for p in model.encoder.parameters()]) >= 6, \"encoder must contain at least 3 layers\"\n",
        "    assert len([p for p in model.decoder.parameters()]) >= 6, \"decoder must contain at least 3 layers\"\n",
        "\n",
        "print(\"All tests passed!\")"
      ],
      "execution_count": 304,
      "outputs": [
        {
          "output_type": "stream",
          "text": [
            "Testing code size 1\n",
            "torch.Size([3, 32, 32])\n",
            "(3, 32, 32)\n",
            "Testing code size 8\n",
            "torch.Size([3, 32, 32])\n",
            "(3, 32, 32)\n",
            "Testing code size 32\n",
            "torch.Size([3, 32, 32])\n",
            "(3, 32, 32)\n",
            "Testing code size 128\n",
            "torch.Size([3, 32, 32])\n",
            "(3, 32, 32)\n",
            "Testing code size 512\n",
            "torch.Size([3, 32, 32])\n",
            "(3, 32, 32)\n",
            "All tests passed!\n"
          ],
          "name": "stdout"
        }
      ]
    },
    {
      "cell_type": "code",
      "metadata": {
        "id": "_O_cHg5snpy8"
      },
      "source": [
        "def get_num_params(module):\n",
        "    return sum(p.numel() for p in module.parameters())"
      ],
      "execution_count": 305,
      "outputs": []
    },
    {
      "cell_type": "code",
      "metadata": {
        "id": "4GTC6fWYnpy8",
        "scrolled": true,
        "colab": {
          "base_uri": "https://localhost:8080/"
        },
        "outputId": "6498303e-3253-4d6d-b4c4-5d23a67883d7"
      },
      "source": [
        "autoencoder = DeepAutoencoder((3, 32, 32), 32)\n",
        "\n",
        "num_encoder_params = get_num_params(autoencoder.encoder)\n",
        "num_decoder_params = get_num_params(autoencoder.decoder)\n",
        "print(num_encoder_params, num_decoder_params)\n",
        "\n",
        "assert np.abs(num_encoder_params - num_decoder_params) < num_encoder_params * 0.1, \\\n",
        "    \"Number of parameters in encoder and decoder should be close\""
      ],
      "execution_count": 306,
      "outputs": [
        {
          "output_type": "stream",
          "text": [
            "388416 392115\n"
          ],
          "name": "stdout"
        }
      ]
    },
    {
      "cell_type": "markdown",
      "metadata": {
        "id": "notgyoEpnpy8"
      },
      "source": [
        "Convolutional autoencoder training. This will take **1 hour**. You're aiming at ~0.0056 validation MSE and ~0.0054 training MSE."
      ]
    },
    {
      "cell_type": "code",
      "metadata": {
        "id": "wzn8L74Pnpy8"
      },
      "source": [
        "NUM_EPOCH = 20\n",
        "DEVICE = torch.device('cuda')\n",
        "\n",
        "deep_autoencoder = DeepAutoencoder((3, 32, 32), 32).to(DEVICE)\n",
        "criterion = nn.MSELoss()\n",
        "optimizer = optim.Adam(deep_autoencoder.parameters(), lr=1e-3)"
      ],
      "execution_count": 307,
      "outputs": []
    },
    {
      "cell_type": "code",
      "metadata": {
        "id": "1uh-CYhdnpy8",
        "colab": {
          "base_uri": "https://localhost:8080/"
        },
        "outputId": "3ba44a59-2029-4e5f-9f99-d625906e3be1"
      },
      "source": [
        "HISTORY = defaultdict(list)\n",
        "\n",
        "for epoch in range(NUM_EPOCH):\n",
        "    # AverageMeter will accumulate average of some metric\n",
        "    train_loss_meter = AverageMeter()\n",
        "    \n",
        "    # training loop\n",
        "    # sets the module in training mode -- it i  s important for nn.Dropout\n",
        "    deep_autoencoder.train()\n",
        "    # wrap `train_dataloader` within tqdm to visualize progress\n",
        "    for train_batch in tqdm.tqdm(train_dataloader):\n",
        "        \n",
        "        # unpack batch and move to specific device (for example, GPU or TPU)\n",
        "        images, = train_batch\n",
        "        images = images.to(DEVICE)\n",
        "        \n",
        "        # zero out the previous gradients of our model parameters\n",
        "        optimizer.zero_grad()\n",
        "        outputs = deep_autoencoder(images)\n",
        "        loss = criterion(outputs, images)\n",
        "\n",
        "        # calculate new gradients\n",
        "        loss.backward()\n",
        "        \n",
        "        # do optimization step\n",
        "        optimizer.step()\n",
        "        \n",
        "        # calculate current average loss and accuracy\n",
        "        train_loss_meter.update(loss.item())\n",
        "    \n",
        "    # update lr_scheduler\n",
        "    lr_scheduler.step()\n",
        "        \n",
        "    # save average train loss and accuracy\n",
        "    HISTORY['loss'].append(train_loss_meter.avg)"
      ],
      "execution_count": 309,
      "outputs": [
        {
          "output_type": "stream",
          "text": [
            "\r  0%|          | 0/370 [00:00<?, ?it/s]/usr/local/lib/python3.7/dist-packages/torch/utils/data/dataloader.py:477: UserWarning: This DataLoader will create 4 worker processes in total. Our suggested max number of worker in current system is 2, which is smaller than what this DataLoader is going to create. Please be aware that excessive worker creation might get DataLoader running slow or even freeze, lower the worker number to avoid potential slowness/freeze if necessary.\n",
            "  cpuset_checked))\n",
            "100%|██████████| 370/370 [00:02<00:00, 141.94it/s]\n",
            "  0%|          | 0/370 [00:00<?, ?it/s]"
          ],
          "name": "stderr"
        },
        {
          "output_type": "stream",
          "text": [
            "Adjusting learning rate of group 0 to 1.0000e-03.\n"
          ],
          "name": "stdout"
        },
        {
          "output_type": "stream",
          "text": [
            "100%|██████████| 370/370 [00:02<00:00, 146.18it/s]\n",
            "  0%|          | 0/370 [00:00<?, ?it/s]"
          ],
          "name": "stderr"
        },
        {
          "output_type": "stream",
          "text": [
            "Adjusting learning rate of group 0 to 1.0000e-03.\n"
          ],
          "name": "stdout"
        },
        {
          "output_type": "stream",
          "text": [
            "100%|██████████| 370/370 [00:02<00:00, 144.67it/s]\n",
            "  0%|          | 0/370 [00:00<?, ?it/s]"
          ],
          "name": "stderr"
        },
        {
          "output_type": "stream",
          "text": [
            "Adjusting learning rate of group 0 to 1.0000e-03.\n"
          ],
          "name": "stdout"
        },
        {
          "output_type": "stream",
          "text": [
            "100%|██████████| 370/370 [00:02<00:00, 148.55it/s]\n",
            "  0%|          | 0/370 [00:00<?, ?it/s]"
          ],
          "name": "stderr"
        },
        {
          "output_type": "stream",
          "text": [
            "Adjusting learning rate of group 0 to 1.0000e-03.\n"
          ],
          "name": "stdout"
        },
        {
          "output_type": "stream",
          "text": [
            "100%|██████████| 370/370 [00:02<00:00, 150.46it/s]\n",
            "  0%|          | 0/370 [00:00<?, ?it/s]"
          ],
          "name": "stderr"
        },
        {
          "output_type": "stream",
          "text": [
            "Adjusting learning rate of group 0 to 1.0000e-04.\n"
          ],
          "name": "stdout"
        },
        {
          "output_type": "stream",
          "text": [
            "100%|██████████| 370/370 [00:02<00:00, 146.88it/s]\n",
            "  0%|          | 0/370 [00:00<?, ?it/s]"
          ],
          "name": "stderr"
        },
        {
          "output_type": "stream",
          "text": [
            "Adjusting learning rate of group 0 to 1.0000e-04.\n"
          ],
          "name": "stdout"
        },
        {
          "output_type": "stream",
          "text": [
            "100%|██████████| 370/370 [00:02<00:00, 146.09it/s]\n",
            "  0%|          | 0/370 [00:00<?, ?it/s]"
          ],
          "name": "stderr"
        },
        {
          "output_type": "stream",
          "text": [
            "Adjusting learning rate of group 0 to 1.0000e-04.\n"
          ],
          "name": "stdout"
        },
        {
          "output_type": "stream",
          "text": [
            "100%|██████████| 370/370 [00:02<00:00, 147.67it/s]\n",
            "  0%|          | 0/370 [00:00<?, ?it/s]"
          ],
          "name": "stderr"
        },
        {
          "output_type": "stream",
          "text": [
            "Adjusting learning rate of group 0 to 1.0000e-04.\n"
          ],
          "name": "stdout"
        },
        {
          "output_type": "stream",
          "text": [
            "100%|██████████| 370/370 [00:02<00:00, 144.10it/s]\n",
            "  0%|          | 0/370 [00:00<?, ?it/s]"
          ],
          "name": "stderr"
        },
        {
          "output_type": "stream",
          "text": [
            "Adjusting learning rate of group 0 to 1.0000e-04.\n"
          ],
          "name": "stdout"
        },
        {
          "output_type": "stream",
          "text": [
            "100%|██████████| 370/370 [00:02<00:00, 141.34it/s]\n",
            "  0%|          | 0/370 [00:00<?, ?it/s]"
          ],
          "name": "stderr"
        },
        {
          "output_type": "stream",
          "text": [
            "Adjusting learning rate of group 0 to 1.0000e-04.\n"
          ],
          "name": "stdout"
        },
        {
          "output_type": "stream",
          "text": [
            "100%|██████████| 370/370 [00:02<00:00, 142.96it/s]\n",
            "  0%|          | 0/370 [00:00<?, ?it/s]"
          ],
          "name": "stderr"
        },
        {
          "output_type": "stream",
          "text": [
            "Adjusting learning rate of group 0 to 1.0000e-04.\n"
          ],
          "name": "stdout"
        },
        {
          "output_type": "stream",
          "text": [
            "100%|██████████| 370/370 [00:02<00:00, 139.51it/s]\n",
            "  0%|          | 0/370 [00:00<?, ?it/s]"
          ],
          "name": "stderr"
        },
        {
          "output_type": "stream",
          "text": [
            "Adjusting learning rate of group 0 to 1.0000e-04.\n"
          ],
          "name": "stdout"
        },
        {
          "output_type": "stream",
          "text": [
            "100%|██████████| 370/370 [00:02<00:00, 147.43it/s]\n",
            "  0%|          | 0/370 [00:00<?, ?it/s]"
          ],
          "name": "stderr"
        },
        {
          "output_type": "stream",
          "text": [
            "Adjusting learning rate of group 0 to 1.0000e-04.\n"
          ],
          "name": "stdout"
        },
        {
          "output_type": "stream",
          "text": [
            "100%|██████████| 370/370 [00:02<00:00, 146.24it/s]\n",
            "  0%|          | 0/370 [00:00<?, ?it/s]"
          ],
          "name": "stderr"
        },
        {
          "output_type": "stream",
          "text": [
            "Adjusting learning rate of group 0 to 1.0000e-04.\n"
          ],
          "name": "stdout"
        },
        {
          "output_type": "stream",
          "text": [
            "100%|██████████| 370/370 [00:02<00:00, 147.03it/s]\n",
            "  0%|          | 0/370 [00:00<?, ?it/s]"
          ],
          "name": "stderr"
        },
        {
          "output_type": "stream",
          "text": [
            "Adjusting learning rate of group 0 to 1.0000e-04.\n"
          ],
          "name": "stdout"
        },
        {
          "output_type": "stream",
          "text": [
            "100%|██████████| 370/370 [00:02<00:00, 149.53it/s]\n",
            "  0%|          | 0/370 [00:00<?, ?it/s]"
          ],
          "name": "stderr"
        },
        {
          "output_type": "stream",
          "text": [
            "Adjusting learning rate of group 0 to 1.0000e-04.\n"
          ],
          "name": "stdout"
        },
        {
          "output_type": "stream",
          "text": [
            "100%|██████████| 370/370 [00:02<00:00, 147.77it/s]\n",
            "  0%|          | 0/370 [00:00<?, ?it/s]"
          ],
          "name": "stderr"
        },
        {
          "output_type": "stream",
          "text": [
            "Adjusting learning rate of group 0 to 1.0000e-04.\n"
          ],
          "name": "stdout"
        },
        {
          "output_type": "stream",
          "text": [
            "100%|██████████| 370/370 [00:02<00:00, 147.09it/s]\n",
            "  0%|          | 0/370 [00:00<?, ?it/s]"
          ],
          "name": "stderr"
        },
        {
          "output_type": "stream",
          "text": [
            "Adjusting learning rate of group 0 to 1.0000e-04.\n"
          ],
          "name": "stdout"
        },
        {
          "output_type": "stream",
          "text": [
            "100%|██████████| 370/370 [00:02<00:00, 147.21it/s]\n",
            "  0%|          | 0/370 [00:00<?, ?it/s]"
          ],
          "name": "stderr"
        },
        {
          "output_type": "stream",
          "text": [
            "Adjusting learning rate of group 0 to 1.0000e-04.\n"
          ],
          "name": "stdout"
        },
        {
          "output_type": "stream",
          "text": [
            "100%|██████████| 370/370 [00:02<00:00, 146.42it/s]"
          ],
          "name": "stderr"
        },
        {
          "output_type": "stream",
          "text": [
            "Adjusting learning rate of group 0 to 1.0000e-04.\n"
          ],
          "name": "stdout"
        },
        {
          "output_type": "stream",
          "text": [
            "\n"
          ],
          "name": "stderr"
        }
      ]
    },
    {
      "cell_type": "code",
      "metadata": {
        "id": "JmTf06i-YYXR"
      },
      "source": [
        "assert history['loss'][-1] < 0.0055, 'Loss is too high!'"
      ],
      "execution_count": 310,
      "outputs": []
    },
    {
      "cell_type": "markdown",
      "metadata": {
        "id": "fA_TQ5pP6Ytu"
      },
      "source": [
        "### Evaluate model on test data\n",
        "\n",
        "Calculate loss and vizualize some images"
      ]
    },
    {
      "cell_type": "code",
      "metadata": {
        "id": "cWhvwmHYsfPj"
      },
      "source": [
        "deep_autoencoder = deep_autoencoder.cpu()"
      ],
      "execution_count": 311,
      "outputs": []
    },
    {
      "cell_type": "code",
      "metadata": {
        "id": "y4Dtfncenpy9",
        "scrolled": true,
        "colab": {
          "base_uri": "https://localhost:8080/",
          "height": 1000
        },
        "outputId": "48d4f6a0-3886-445f-9cfd-217a43baca2c"
      },
      "source": [
        "for i in range(5):\n",
        "    image, = test_dataset[i]\n",
        "    visualize(image, deep_autoencoder)"
      ],
      "execution_count": 312,
      "outputs": [
        {
          "output_type": "display_data",
          "data": {
            "image/png": "[encoded data removed]",
            "text/plain": [
              "<Figure size 432x288 with 3 Axes>"
            ]
          },
          "metadata": {
            "tags": [],
            "needs_background": "light"
          }
        },
        {
          "output_type": "display_data",
          "data": {
            "image/png": "[encoded data removed]",
            "text/plain": [
              "<Figure size 432x288 with 3 Axes>"
            ]
          },
          "metadata": {
            "tags": [],
            "needs_background": "light"
          }
        },
        {
          "output_type": "display_data",
          "data": {
            "image/png": "[encoded data removed]",
            "text/plain": [
              "<Figure size 432x288 with 3 Axes>"
            ]
          },
          "metadata": {
            "tags": [],
            "needs_background": "light"
          }
        },
        {
          "output_type": "display_data",
          "data": {
            "image/png": "[encoded data removed]",
            "text/plain": [
              "<Figure size 432x288 with 3 Axes>"
            ]
          },
          "metadata": {
            "tags": [],
            "needs_background": "light"
          }
        },
        {
          "output_type": "display_data",
          "data": {
            "image/png": "[encoded data removed]",
            "text/plain": [
              "<Figure size 432x288 with 3 Axes>"
            ]
          },
          "metadata": {
            "tags": [],
            "needs_background": "light"
          }
        }
      ]
    },
    {
      "cell_type": "code",
      "metadata": {
        "id": "aVN912LLnpy9"
      },
      "source": [
        "# save trained weights\n",
        "torch.save(deep_autoencoder.state_dict(), 'deep_autoencoder.pt')"
      ],
      "execution_count": 313,
      "outputs": []
    },
    {
      "cell_type": "code",
      "metadata": {
        "id": "s7SR4fbFzU-d",
        "colab": {
          "base_uri": "https://localhost:8080/"
        },
        "outputId": "287a3c72-3554-42b9-dfef-ce97ed9899ad"
      },
      "source": [
        "state_dict = torch.load('deep_autoencoder.pt')\n",
        "deep_autoencoder.load_state_dict(state_dict)"
      ],
      "execution_count": 314,
      "outputs": [
        {
          "output_type": "execute_result",
          "data": {
            "text/plain": [
              "<All keys matched successfully>"
            ]
          },
          "metadata": {
            "tags": []
          },
          "execution_count": 314
        }
      ]
    },
    {
      "cell_type": "markdown",
      "metadata": {
        "id": "5Dcyi-ufnpy9"
      },
      "source": [
        "# Submit to Coursera"
      ]
    },
    {
      "cell_type": "code",
      "metadata": {
        "id": "yhi7XdFN4ksC"
      },
      "source": [
        "test_input = torch.randn(1, *IMG_SHAPE)\n",
        "model = DeepAutoencoder(IMG_SHAPE, 15)\n",
        "\n",
        "code = model.encode(test_input)\n",
        "recon_image = model.decode(code)"
      ],
      "execution_count": 315,
      "outputs": []
    },
    {
      "cell_type": "code",
      "metadata": {
        "id": "fa45zwen4ksD"
      },
      "source": [
        "## GRADED PART, DO NOT CHANGE!\n",
        "grader.set_answer(\"FtBSK\", min(history['loss']))\n",
        "grader.set_answer(\"83Glu\", code.size(-1))\n",
        "grader.set_answer(\"fnM1K\", recon_image.shape[1:])"
      ],
      "execution_count": 316,
      "outputs": []
    },
    {
      "cell_type": "code",
      "metadata": {
        "id": "nC00_44g4ksD",
        "colab": {
          "base_uri": "https://localhost:8080/"
        },
        "outputId": "5c42a538-981d-4cb9-aa7d-2a1741fd579d"
      },
      "source": [
        "# you can make submission with answers so far to check yourself at this stage\n",
        "grader.submit(COURSERA_EMAIL, '4zbudBgTQ6zxjgT6')"
      ],
      "execution_count": 317,
      "outputs": [
        {
          "output_type": "stream",
          "text": [
            "Submitted to Coursera platform. See results on assignment page!\n"
          ],
          "name": "stdout"
        }
      ]
    },
    {
      "cell_type": "markdown",
      "metadata": {
        "id": "3FJxDZFinpy-"
      },
      "source": [
        "# Denoising Autoencoder\n",
        "\n",
        "It shows you one useful application of autoencoders: denoising. You can run this code and make sure denoising works :) \n",
        "\n",
        "Let's now turn our model into a denoising autoencoder:\n",
        "<img src=\"https://github.com/hse-aml/intro-to-dl-pytorch/blob/main/week04/images/denoising.jpg?raw=1\" style=\"width:40%\">\n",
        "\n",
        "We'll keep the model architecture, but change the way it is trained. In particular, we'll corrupt its input data randomly with noise before each epoch.\n",
        "\n",
        "There are many strategies to introduce noise: adding gaussian white noise, occluding with random black rectangles, etc. We will add gaussian white noise."
      ]
    },
    {
      "cell_type": "code",
      "metadata": {
        "id": "kdnxRE0fnpy-"
      },
      "source": [
        "def apply_gaussian_noise(X, sigma=0.1):\n",
        "    \"\"\"\n",
        "    adds noise from standard normal distribution with standard deviation sigma\n",
        "    :param X: image tensor of shape [batch, 3, height, width]\n",
        "    Returns X + noise.\n",
        "    \"\"\"\n",
        "\n",
        "    noise = np.random.normal(0, sigma, X.shape)\n",
        "    return X + noise"
      ],
      "execution_count": 318,
      "outputs": []
    },
    {
      "cell_type": "code",
      "metadata": {
        "id": "pv765d4Enpy-"
      },
      "source": [
        "# noise tests\n",
        "theoretical_std = (X_train[:100].std() ** 2 + 0.5 ** 2) ** .5\n",
        "our_std = apply_gaussian_noise(X_train[:100], sigma=0.5).std()\n",
        "assert abs(theoretical_std - our_std) < 0.01, \\\n",
        "    \"Standard deviation does not match it's required value. Make sure you use sigma as std.\"\n",
        "assert abs(apply_gaussian_noise(X_train[:100], sigma=0.5).mean() - X_train[:100].mean()) < 0.01, \\\n",
        "    \"Mean has changed. Please add zero-mean noise\""
      ],
      "execution_count": 319,
      "outputs": []
    },
    {
      "cell_type": "code",
      "metadata": {
        "id": "zxtmGTYCooaP"
      },
      "source": [
        "## GRADED PART, DO NOT CHANGE!\n",
        "grader.set_answer(\"UF05M\", abs(theoretical_std - our_std).item())"
      ],
      "execution_count": 320,
      "outputs": []
    },
    {
      "cell_type": "code",
      "metadata": {
        "id": "8i3uHB92ooaP",
        "colab": {
          "base_uri": "https://localhost:8080/"
        },
        "outputId": "fc86734e-02ae-4735-ddc3-f74900e34937"
      },
      "source": [
        "# you can make submission with answers so far to check yourself at this stage\n",
        "grader.submit(COURSERA_EMAIL, '4zbudBgTQ6zxjgT6')"
      ],
      "execution_count": 321,
      "outputs": [
        {
          "output_type": "stream",
          "text": [
            "Submitted to Coursera platform. See results on assignment page!\n"
          ],
          "name": "stdout"
        }
      ]
    },
    {
      "cell_type": "code",
      "metadata": {
        "id": "LqQqJA9Knpy-",
        "colab": {
          "base_uri": "https://localhost:8080/",
          "height": 124
        },
        "outputId": "3371a6f8-d0cb-4803-8bf1-b978860caeed"
      },
      "source": [
        "# test different noise scales\n",
        "plt.subplot(1, 4, 1)\n",
        "show_image(X_train[0])\n",
        "plt.subplot(1, 4, 2)\n",
        "show_image(apply_gaussian_noise(X_train[:1], sigma=0.01)[0])\n",
        "plt.subplot(1, 4, 3)\n",
        "show_image(apply_gaussian_noise(X_train[:1], sigma=0.1)[0])\n",
        "plt.subplot(1, 4, 4)\n",
        "show_image(apply_gaussian_noise(X_train[:1], sigma=0.5)[0])"
      ],
      "execution_count": 322,
      "outputs": [
        {
          "output_type": "display_data",
          "data": {
            "image/png": "[encoded data removed]",
            "text/plain": [
              "<Figure size 432x288 with 4 Axes>"
            ]
          },
          "metadata": {
            "tags": [],
            "needs_background": "light"
          }
        }
      ]
    },
    {
      "cell_type": "markdown",
      "metadata": {
        "id": "_wHf-xyKnpy_"
      },
      "source": [
        "Training will take **1 hour**."
      ]
    },
    {
      "cell_type": "code",
      "metadata": {
        "id": "U6-avK120840"
      },
      "source": [
        "NUM_EPOCH = 20\n",
        "DEVICE = torch.device('cuda')\n",
        "\n",
        "deep_denoiser_autoencoder = DeepAutoencoder((3, 32, 32), 32).to(DEVICE)\n",
        "criterion = nn.MSELoss()\n",
        "optimizer = optim.Adam(deep_denoiser_autoencoder.parameters(), lr=1e-3)"
      ],
      "execution_count": 323,
      "outputs": []
    },
    {
      "cell_type": "code",
      "metadata": {
        "id": "ONlji6m41Hbu",
        "colab": {
          "base_uri": "https://localhost:8080/",
          "height": 429
        },
        "outputId": "c419ce59-7c38-4660-de78-ebad0ca732e5"
      },
      "source": [
        "history = defaultdict(list)\n",
        "loss_meter = AverageMeter()\n",
        "\n",
        "for _ in range(NUM_EPOCH):\n",
        "\n",
        "    loss_meter.reset()\n",
        "    for batch in train_dataloader:\n",
        "        image, = batch\n",
        "        noised_image = apply_gaussian_noise(image).to(DEVICE)\n",
        "        image = image.to(DEVICE)\n",
        "\n",
        "        recon_image = deep_denoiser_autoencoder(noised_image)\n",
        "        loss = criterion(image, recon_image)\n",
        "\n",
        "        optimizer.zero_grad()\n",
        "        loss.backward()\n",
        "        optimizer.step()\n",
        "\n",
        "        loss_meter.update(loss.item())\n",
        "    \n",
        "    history['loss'].append(loss_meter.avg)\n",
        "    print(loss_meter.avg)"
      ],
      "execution_count": 324,
      "outputs": [
        {
          "output_type": "stream",
          "text": [
            "/usr/local/lib/python3.7/dist-packages/torch/utils/data/dataloader.py:477: UserWarning: This DataLoader will create 4 worker processes in total. Our suggested max number of worker in current system is 2, which is smaller than what this DataLoader is going to create. Please be aware that excessive worker creation might get DataLoader running slow or even freeze, lower the worker number to avoid potential slowness/freeze if necessary.\n",
            "  cpuset_checked))\n"
          ],
          "name": "stderr"
        },
        {
          "output_type": "error",
          "ename": "RuntimeError",
          "evalue": "ignored",
          "traceback": [
            "\u001b[0;31m---------------------------------------------------------------------------\u001b[0m",
            "\u001b[0;31mRuntimeError\u001b[0m                              Traceback (most recent call last)",
            "\u001b[0;32m<ipython-input-324-1086275c2f92>\u001b[0m in \u001b[0;36m<module>\u001b[0;34m()\u001b[0m\n\u001b[1;32m     10\u001b[0m         \u001b[0mimage\u001b[0m \u001b[0;34m=\u001b[0m \u001b[0mimage\u001b[0m\u001b[0;34m.\u001b[0m\u001b[0mto\u001b[0m\u001b[0;34m(\u001b[0m\u001b[0mDEVICE\u001b[0m\u001b[0;34m)\u001b[0m\u001b[0;34m\u001b[0m\u001b[0;34m\u001b[0m\u001b[0m\n\u001b[1;32m     11\u001b[0m \u001b[0;34m\u001b[0m\u001b[0m\n\u001b[0;32m---> 12\u001b[0;31m         \u001b[0mrecon_image\u001b[0m \u001b[0;34m=\u001b[0m \u001b[0mdeep_denoiser_autoencoder\u001b[0m\u001b[0;34m(\u001b[0m\u001b[0mnoised_image\u001b[0m\u001b[0;34m)\u001b[0m\u001b[0;34m\u001b[0m\u001b[0;34m\u001b[0m\u001b[0m\n\u001b[0m\u001b[1;32m     13\u001b[0m         \u001b[0mloss\u001b[0m \u001b[0;34m=\u001b[0m \u001b[0mcriterion\u001b[0m\u001b[0;34m(\u001b[0m\u001b[0mimage\u001b[0m\u001b[0;34m,\u001b[0m \u001b[0mrecon_image\u001b[0m\u001b[0;34m)\u001b[0m\u001b[0;34m\u001b[0m\u001b[0;34m\u001b[0m\u001b[0m\n\u001b[1;32m     14\u001b[0m \u001b[0;34m\u001b[0m\u001b[0m\n",
            "\u001b[0;32m/usr/local/lib/python3.7/dist-packages/torch/nn/modules/module.py\u001b[0m in \u001b[0;36m_call_impl\u001b[0;34m(self, *input, **kwargs)\u001b[0m\n\u001b[1;32m    887\u001b[0m             \u001b[0mresult\u001b[0m \u001b[0;34m=\u001b[0m \u001b[0mself\u001b[0m\u001b[0;34m.\u001b[0m\u001b[0m_slow_forward\u001b[0m\u001b[0;34m(\u001b[0m\u001b[0;34m*\u001b[0m\u001b[0minput\u001b[0m\u001b[0;34m,\u001b[0m \u001b[0;34m**\u001b[0m\u001b[0mkwargs\u001b[0m\u001b[0;34m)\u001b[0m\u001b[0;34m\u001b[0m\u001b[0;34m\u001b[0m\u001b[0m\n\u001b[1;32m    888\u001b[0m         \u001b[0;32melse\u001b[0m\u001b[0;34m:\u001b[0m\u001b[0;34m\u001b[0m\u001b[0;34m\u001b[0m\u001b[0m\n\u001b[0;32m--> 889\u001b[0;31m             \u001b[0mresult\u001b[0m \u001b[0;34m=\u001b[0m \u001b[0mself\u001b[0m\u001b[0;34m.\u001b[0m\u001b[0mforward\u001b[0m\u001b[0;34m(\u001b[0m\u001b[0;34m*\u001b[0m\u001b[0minput\u001b[0m\u001b[0;34m,\u001b[0m \u001b[0;34m**\u001b[0m\u001b[0mkwargs\u001b[0m\u001b[0;34m)\u001b[0m\u001b[0;34m\u001b[0m\u001b[0;34m\u001b[0m\u001b[0m\n\u001b[0m\u001b[1;32m    890\u001b[0m         for hook in itertools.chain(\n\u001b[1;32m    891\u001b[0m                 \u001b[0m_global_forward_hooks\u001b[0m\u001b[0;34m.\u001b[0m\u001b[0mvalues\u001b[0m\u001b[0;34m(\u001b[0m\u001b[0;34m)\u001b[0m\u001b[0;34m,\u001b[0m\u001b[0;34m\u001b[0m\u001b[0;34m\u001b[0m\u001b[0m\n",
            "\u001b[0;32m<ipython-input-303-3fccf03451d8>\u001b[0m in \u001b[0;36mforward\u001b[0;34m(self, image)\u001b[0m\n\u001b[1;32m     44\u001b[0m \u001b[0;34m\u001b[0m\u001b[0m\n\u001b[1;32m     45\u001b[0m     \u001b[0;32mdef\u001b[0m \u001b[0mforward\u001b[0m\u001b[0;34m(\u001b[0m\u001b[0mself\u001b[0m\u001b[0;34m,\u001b[0m \u001b[0mimage\u001b[0m\u001b[0;34m)\u001b[0m\u001b[0;34m:\u001b[0m\u001b[0;34m\u001b[0m\u001b[0;34m\u001b[0m\u001b[0m\n\u001b[0;32m---> 46\u001b[0;31m         \u001b[0mcode\u001b[0m \u001b[0;34m=\u001b[0m \u001b[0mself\u001b[0m\u001b[0;34m.\u001b[0m\u001b[0mencode\u001b[0m\u001b[0;34m(\u001b[0m\u001b[0mimage\u001b[0m\u001b[0;34m)\u001b[0m\u001b[0;34m\u001b[0m\u001b[0;34m\u001b[0m\u001b[0m\n\u001b[0m\u001b[1;32m     47\u001b[0m         \u001b[0mrecon\u001b[0m \u001b[0;34m=\u001b[0m \u001b[0mself\u001b[0m\u001b[0;34m.\u001b[0m\u001b[0mdecode\u001b[0m\u001b[0;34m(\u001b[0m\u001b[0mcode\u001b[0m\u001b[0;34m)\u001b[0m\u001b[0;34m\u001b[0m\u001b[0;34m\u001b[0m\u001b[0m\n\u001b[1;32m     48\u001b[0m         \u001b[0;32mreturn\u001b[0m \u001b[0mrecon\u001b[0m\u001b[0;34m\u001b[0m\u001b[0;34m\u001b[0m\u001b[0m\n",
            "\u001b[0;32m<ipython-input-303-3fccf03451d8>\u001b[0m in \u001b[0;36mencode\u001b[0;34m(self, image)\u001b[0m\n\u001b[1;32m     49\u001b[0m \u001b[0;34m\u001b[0m\u001b[0m\n\u001b[1;32m     50\u001b[0m     \u001b[0;32mdef\u001b[0m \u001b[0mencode\u001b[0m\u001b[0;34m(\u001b[0m\u001b[0mself\u001b[0m\u001b[0;34m,\u001b[0m \u001b[0mimage\u001b[0m\u001b[0;34m)\u001b[0m\u001b[0;34m:\u001b[0m\u001b[0;34m\u001b[0m\u001b[0;34m\u001b[0m\u001b[0m\n\u001b[0;32m---> 51\u001b[0;31m         \u001b[0moutput\u001b[0m \u001b[0;34m=\u001b[0m \u001b[0mself\u001b[0m\u001b[0;34m.\u001b[0m\u001b[0mencoder\u001b[0m\u001b[0;34m(\u001b[0m\u001b[0mimage\u001b[0m\u001b[0;34m)\u001b[0m\u001b[0;34m\u001b[0m\u001b[0;34m\u001b[0m\u001b[0m\n\u001b[0m\u001b[1;32m     52\u001b[0m         \u001b[0mcode\u001b[0m \u001b[0;34m=\u001b[0m \u001b[0mself\u001b[0m\u001b[0;34m.\u001b[0m\u001b[0mprojection\u001b[0m\u001b[0;34m(\u001b[0m\u001b[0moutput\u001b[0m\u001b[0;34m)\u001b[0m\u001b[0;34m\u001b[0m\u001b[0;34m\u001b[0m\u001b[0m\n\u001b[1;32m     53\u001b[0m         \u001b[0;32mreturn\u001b[0m \u001b[0mcode\u001b[0m\u001b[0;34m\u001b[0m\u001b[0;34m\u001b[0m\u001b[0m\n",
            "\u001b[0;32m/usr/local/lib/python3.7/dist-packages/torch/nn/modules/module.py\u001b[0m in \u001b[0;36m_call_impl\u001b[0;34m(self, *input, **kwargs)\u001b[0m\n\u001b[1;32m    887\u001b[0m             \u001b[0mresult\u001b[0m \u001b[0;34m=\u001b[0m \u001b[0mself\u001b[0m\u001b[0;34m.\u001b[0m\u001b[0m_slow_forward\u001b[0m\u001b[0;34m(\u001b[0m\u001b[0;34m*\u001b[0m\u001b[0minput\u001b[0m\u001b[0;34m,\u001b[0m \u001b[0;34m**\u001b[0m\u001b[0mkwargs\u001b[0m\u001b[0;34m)\u001b[0m\u001b[0;34m\u001b[0m\u001b[0;34m\u001b[0m\u001b[0m\n\u001b[1;32m    888\u001b[0m         \u001b[0;32melse\u001b[0m\u001b[0;34m:\u001b[0m\u001b[0;34m\u001b[0m\u001b[0;34m\u001b[0m\u001b[0m\n\u001b[0;32m--> 889\u001b[0;31m             \u001b[0mresult\u001b[0m \u001b[0;34m=\u001b[0m \u001b[0mself\u001b[0m\u001b[0;34m.\u001b[0m\u001b[0mforward\u001b[0m\u001b[0;34m(\u001b[0m\u001b[0;34m*\u001b[0m\u001b[0minput\u001b[0m\u001b[0;34m,\u001b[0m \u001b[0;34m**\u001b[0m\u001b[0mkwargs\u001b[0m\u001b[0;34m)\u001b[0m\u001b[0;34m\u001b[0m\u001b[0;34m\u001b[0m\u001b[0m\n\u001b[0m\u001b[1;32m    890\u001b[0m         for hook in itertools.chain(\n\u001b[1;32m    891\u001b[0m                 \u001b[0m_global_forward_hooks\u001b[0m\u001b[0;34m.\u001b[0m\u001b[0mvalues\u001b[0m\u001b[0;34m(\u001b[0m\u001b[0;34m)\u001b[0m\u001b[0;34m,\u001b[0m\u001b[0;34m\u001b[0m\u001b[0;34m\u001b[0m\u001b[0m\n",
            "\u001b[0;32m/usr/local/lib/python3.7/dist-packages/torch/nn/modules/container.py\u001b[0m in \u001b[0;36mforward\u001b[0;34m(self, input)\u001b[0m\n\u001b[1;32m    117\u001b[0m     \u001b[0;32mdef\u001b[0m \u001b[0mforward\u001b[0m\u001b[0;34m(\u001b[0m\u001b[0mself\u001b[0m\u001b[0;34m,\u001b[0m \u001b[0minput\u001b[0m\u001b[0;34m)\u001b[0m\u001b[0;34m:\u001b[0m\u001b[0;34m\u001b[0m\u001b[0;34m\u001b[0m\u001b[0m\n\u001b[1;32m    118\u001b[0m         \u001b[0;32mfor\u001b[0m \u001b[0mmodule\u001b[0m \u001b[0;32min\u001b[0m \u001b[0mself\u001b[0m\u001b[0;34m:\u001b[0m\u001b[0;34m\u001b[0m\u001b[0;34m\u001b[0m\u001b[0m\n\u001b[0;32m--> 119\u001b[0;31m             \u001b[0minput\u001b[0m \u001b[0;34m=\u001b[0m \u001b[0mmodule\u001b[0m\u001b[0;34m(\u001b[0m\u001b[0minput\u001b[0m\u001b[0;34m)\u001b[0m\u001b[0;34m\u001b[0m\u001b[0;34m\u001b[0m\u001b[0m\n\u001b[0m\u001b[1;32m    120\u001b[0m         \u001b[0;32mreturn\u001b[0m \u001b[0minput\u001b[0m\u001b[0;34m\u001b[0m\u001b[0;34m\u001b[0m\u001b[0m\n\u001b[1;32m    121\u001b[0m \u001b[0;34m\u001b[0m\u001b[0m\n",
            "\u001b[0;32m/usr/local/lib/python3.7/dist-packages/torch/nn/modules/module.py\u001b[0m in \u001b[0;36m_call_impl\u001b[0;34m(self, *input, **kwargs)\u001b[0m\n\u001b[1;32m    887\u001b[0m             \u001b[0mresult\u001b[0m \u001b[0;34m=\u001b[0m \u001b[0mself\u001b[0m\u001b[0;34m.\u001b[0m\u001b[0m_slow_forward\u001b[0m\u001b[0;34m(\u001b[0m\u001b[0;34m*\u001b[0m\u001b[0minput\u001b[0m\u001b[0;34m,\u001b[0m \u001b[0;34m**\u001b[0m\u001b[0mkwargs\u001b[0m\u001b[0;34m)\u001b[0m\u001b[0;34m\u001b[0m\u001b[0;34m\u001b[0m\u001b[0m\n\u001b[1;32m    888\u001b[0m         \u001b[0;32melse\u001b[0m\u001b[0;34m:\u001b[0m\u001b[0;34m\u001b[0m\u001b[0;34m\u001b[0m\u001b[0m\n\u001b[0;32m--> 889\u001b[0;31m             \u001b[0mresult\u001b[0m \u001b[0;34m=\u001b[0m \u001b[0mself\u001b[0m\u001b[0;34m.\u001b[0m\u001b[0mforward\u001b[0m\u001b[0;34m(\u001b[0m\u001b[0;34m*\u001b[0m\u001b[0minput\u001b[0m\u001b[0;34m,\u001b[0m \u001b[0;34m**\u001b[0m\u001b[0mkwargs\u001b[0m\u001b[0;34m)\u001b[0m\u001b[0;34m\u001b[0m\u001b[0;34m\u001b[0m\u001b[0m\n\u001b[0m\u001b[1;32m    890\u001b[0m         for hook in itertools.chain(\n\u001b[1;32m    891\u001b[0m                 \u001b[0m_global_forward_hooks\u001b[0m\u001b[0;34m.\u001b[0m\u001b[0mvalues\u001b[0m\u001b[0;34m(\u001b[0m\u001b[0;34m)\u001b[0m\u001b[0;34m,\u001b[0m\u001b[0;34m\u001b[0m\u001b[0;34m\u001b[0m\u001b[0m\n",
            "\u001b[0;32m/usr/local/lib/python3.7/dist-packages/torch/nn/modules/container.py\u001b[0m in \u001b[0;36mforward\u001b[0;34m(self, input)\u001b[0m\n\u001b[1;32m    117\u001b[0m     \u001b[0;32mdef\u001b[0m \u001b[0mforward\u001b[0m\u001b[0;34m(\u001b[0m\u001b[0mself\u001b[0m\u001b[0;34m,\u001b[0m \u001b[0minput\u001b[0m\u001b[0;34m)\u001b[0m\u001b[0;34m:\u001b[0m\u001b[0;34m\u001b[0m\u001b[0;34m\u001b[0m\u001b[0m\n\u001b[1;32m    118\u001b[0m         \u001b[0;32mfor\u001b[0m \u001b[0mmodule\u001b[0m \u001b[0;32min\u001b[0m \u001b[0mself\u001b[0m\u001b[0;34m:\u001b[0m\u001b[0;34m\u001b[0m\u001b[0;34m\u001b[0m\u001b[0m\n\u001b[0;32m--> 119\u001b[0;31m             \u001b[0minput\u001b[0m \u001b[0;34m=\u001b[0m \u001b[0mmodule\u001b[0m\u001b[0;34m(\u001b[0m\u001b[0minput\u001b[0m\u001b[0;34m)\u001b[0m\u001b[0;34m\u001b[0m\u001b[0;34m\u001b[0m\u001b[0m\n\u001b[0m\u001b[1;32m    120\u001b[0m         \u001b[0;32mreturn\u001b[0m \u001b[0minput\u001b[0m\u001b[0;34m\u001b[0m\u001b[0;34m\u001b[0m\u001b[0m\n\u001b[1;32m    121\u001b[0m \u001b[0;34m\u001b[0m\u001b[0m\n",
            "\u001b[0;32m/usr/local/lib/python3.7/dist-packages/torch/nn/modules/module.py\u001b[0m in \u001b[0;36m_call_impl\u001b[0;34m(self, *input, **kwargs)\u001b[0m\n\u001b[1;32m    887\u001b[0m             \u001b[0mresult\u001b[0m \u001b[0;34m=\u001b[0m \u001b[0mself\u001b[0m\u001b[0;34m.\u001b[0m\u001b[0m_slow_forward\u001b[0m\u001b[0;34m(\u001b[0m\u001b[0;34m*\u001b[0m\u001b[0minput\u001b[0m\u001b[0;34m,\u001b[0m \u001b[0;34m**\u001b[0m\u001b[0mkwargs\u001b[0m\u001b[0;34m)\u001b[0m\u001b[0;34m\u001b[0m\u001b[0;34m\u001b[0m\u001b[0m\n\u001b[1;32m    888\u001b[0m         \u001b[0;32melse\u001b[0m\u001b[0;34m:\u001b[0m\u001b[0;34m\u001b[0m\u001b[0;34m\u001b[0m\u001b[0m\n\u001b[0;32m--> 889\u001b[0;31m             \u001b[0mresult\u001b[0m \u001b[0;34m=\u001b[0m \u001b[0mself\u001b[0m\u001b[0;34m.\u001b[0m\u001b[0mforward\u001b[0m\u001b[0;34m(\u001b[0m\u001b[0;34m*\u001b[0m\u001b[0minput\u001b[0m\u001b[0;34m,\u001b[0m \u001b[0;34m**\u001b[0m\u001b[0mkwargs\u001b[0m\u001b[0;34m)\u001b[0m\u001b[0;34m\u001b[0m\u001b[0;34m\u001b[0m\u001b[0m\n\u001b[0m\u001b[1;32m    890\u001b[0m         for hook in itertools.chain(\n\u001b[1;32m    891\u001b[0m                 \u001b[0m_global_forward_hooks\u001b[0m\u001b[0;34m.\u001b[0m\u001b[0mvalues\u001b[0m\u001b[0;34m(\u001b[0m\u001b[0;34m)\u001b[0m\u001b[0;34m,\u001b[0m\u001b[0;34m\u001b[0m\u001b[0;34m\u001b[0m\u001b[0m\n",
            "\u001b[0;32m/usr/local/lib/python3.7/dist-packages/torch/nn/modules/conv.py\u001b[0m in \u001b[0;36mforward\u001b[0;34m(self, input)\u001b[0m\n\u001b[1;32m    397\u001b[0m \u001b[0;34m\u001b[0m\u001b[0m\n\u001b[1;32m    398\u001b[0m     \u001b[0;32mdef\u001b[0m \u001b[0mforward\u001b[0m\u001b[0;34m(\u001b[0m\u001b[0mself\u001b[0m\u001b[0;34m,\u001b[0m \u001b[0minput\u001b[0m\u001b[0;34m:\u001b[0m \u001b[0mTensor\u001b[0m\u001b[0;34m)\u001b[0m \u001b[0;34m->\u001b[0m \u001b[0mTensor\u001b[0m\u001b[0;34m:\u001b[0m\u001b[0;34m\u001b[0m\u001b[0;34m\u001b[0m\u001b[0m\n\u001b[0;32m--> 399\u001b[0;31m         \u001b[0;32mreturn\u001b[0m \u001b[0mself\u001b[0m\u001b[0;34m.\u001b[0m\u001b[0m_conv_forward\u001b[0m\u001b[0;34m(\u001b[0m\u001b[0minput\u001b[0m\u001b[0;34m,\u001b[0m \u001b[0mself\u001b[0m\u001b[0;34m.\u001b[0m\u001b[0mweight\u001b[0m\u001b[0;34m,\u001b[0m \u001b[0mself\u001b[0m\u001b[0;34m.\u001b[0m\u001b[0mbias\u001b[0m\u001b[0;34m)\u001b[0m\u001b[0;34m\u001b[0m\u001b[0;34m\u001b[0m\u001b[0m\n\u001b[0m\u001b[1;32m    400\u001b[0m \u001b[0;34m\u001b[0m\u001b[0m\n\u001b[1;32m    401\u001b[0m \u001b[0;32mclass\u001b[0m \u001b[0mConv3d\u001b[0m\u001b[0;34m(\u001b[0m\u001b[0m_ConvNd\u001b[0m\u001b[0;34m)\u001b[0m\u001b[0;34m:\u001b[0m\u001b[0;34m\u001b[0m\u001b[0;34m\u001b[0m\u001b[0m\n",
            "\u001b[0;32m/usr/local/lib/python3.7/dist-packages/torch/nn/modules/conv.py\u001b[0m in \u001b[0;36m_conv_forward\u001b[0;34m(self, input, weight, bias)\u001b[0m\n\u001b[1;32m    394\u001b[0m                             _pair(0), self.dilation, self.groups)\n\u001b[1;32m    395\u001b[0m         return F.conv2d(input, weight, bias, self.stride,\n\u001b[0;32m--> 396\u001b[0;31m                         self.padding, self.dilation, self.groups)\n\u001b[0m\u001b[1;32m    397\u001b[0m \u001b[0;34m\u001b[0m\u001b[0m\n\u001b[1;32m    398\u001b[0m     \u001b[0;32mdef\u001b[0m \u001b[0mforward\u001b[0m\u001b[0;34m(\u001b[0m\u001b[0mself\u001b[0m\u001b[0;34m,\u001b[0m \u001b[0minput\u001b[0m\u001b[0;34m:\u001b[0m \u001b[0mTensor\u001b[0m\u001b[0;34m)\u001b[0m \u001b[0;34m->\u001b[0m \u001b[0mTensor\u001b[0m\u001b[0;34m:\u001b[0m\u001b[0;34m\u001b[0m\u001b[0;34m\u001b[0m\u001b[0m\n",
            "\u001b[0;31mRuntimeError\u001b[0m: Input type (torch.cuda.DoubleTensor) and weight type (torch.cuda.FloatTensor) should be the same"
          ]
        }
      ]
    },
    {
      "cell_type": "code",
      "metadata": {
        "id": "b5h2eixQZ5UM"
      },
      "source": [
        "assert history['loss'][-1] < 0.0057, 'Loss is too high!'"
      ],
      "execution_count": null,
      "outputs": []
    },
    {
      "cell_type": "markdown",
      "metadata": {
        "id": "1sortCiv6wCO"
      },
      "source": [
        "### Evaluate model on test data\n",
        "\n",
        "Calculate loss and vizualize some images"
      ]
    },
    {
      "cell_type": "code",
      "metadata": {
        "id": "oKeqNrHq2ebv"
      },
      "source": [
        "deep_denoiser_autoencoder = deep_denoiser_autoencoder.cpu()"
      ],
      "execution_count": null,
      "outputs": []
    },
    {
      "cell_type": "code",
      "metadata": {
        "id": "EQF1bTIOnpy_",
        "scrolled": true
      },
      "source": [
        "for i in range(5):\n",
        "    image, = test_dataset[i]\n",
        "    noised_image = apply_gaussian_noise(image)\n",
        "    visualize(noised_image, deep_denoiser_autoencoder)"
      ],
      "execution_count": null,
      "outputs": []
    },
    {
      "cell_type": "markdown",
      "metadata": {
        "id": "Ed7iFDV6npy_"
      },
      "source": [
        "# Optional: Image retrieval with autoencoders\n",
        "\n",
        "So we've just trained a network that converts image into itself imperfectly. This task is not that useful in and of itself, but it has a number of awesome side-effects. Let's see them in action.\n",
        "\n",
        "First thing we can do is image retrieval aka image search. We will give it an image and find similar images in latent space:\n",
        "\n",
        "<img src=\"https://github.com/hse-aml/intro-to-dl-pytorch/blob/main/week04/images/similar_images.jpg?raw=1\" style=\"width:60%\">\n",
        "\n",
        "To speed up retrieval process, one should use Locality Sensitive Hashing on top of encoded vectors. This [technique](https://erikbern.com/2015/07/04/benchmark-of-approximate-nearest-neighbor-libraries.html) can narrow down the potential nearest neighbours of our image in latent space (encoder code). We will caclulate nearest neighbours in brute force way for simplicity."
      ]
    },
    {
      "cell_type": "code",
      "metadata": {
        "id": "eJLYYf2Ynpy_"
      },
      "source": [
        "# restore trained encoder weights\n",
        "\n",
        "deep_autoencoder = DeepAutoencoder((3, 32, 32), 32)\n",
        "deep_autoencoder.load_state_dict(torch.load('deep_autoencoder.pt', map_location='cpu'))\n",
        "\n",
        "for p in deep_autoencoder.parameters():\n",
        "    p.requires_grad_(False)"
      ],
      "execution_count": null,
      "outputs": []
    },
    {
      "cell_type": "code",
      "metadata": {
        "id": "H9qa84zZnpy_"
      },
      "source": [
        "images = X_train\n",
        "\n",
        "# Encode all images\n",
        "### YOUR CODE HERE ###\n",
        "\n",
        "assert len(codes) == len(images)"
      ],
      "execution_count": null,
      "outputs": []
    },
    {
      "cell_type": "code",
      "metadata": {
        "id": "YF1RPeGXnpy_"
      },
      "source": [
        "from sklearn.neighbors.unsupervised import NearestNeighbors\n",
        "nei_clf = NearestNeighbors(metric=\"euclidean\")\n",
        "nei_clf.fit(codes.detach().numpy())"
      ],
      "execution_count": null,
      "outputs": []
    },
    {
      "cell_type": "code",
      "metadata": {
        "id": "HP9DgaC6npy_"
      },
      "source": [
        "def get_similar(image, n_neighbors=5):\n",
        "    assert image.ndim == 3, \"image must be [batch, 3, height, width]\"\n",
        "\n",
        "    code = deep_autoencoder.encode(image.unsqueeze(0)).numpy()\n",
        "    \n",
        "    (distances, ), (idx, ) = nei_clf.kneighbors(code, n_neighbors=n_neighbors)\n",
        "    \n",
        "    return distances, images[idx]"
      ],
      "execution_count": null,
      "outputs": []
    },
    {
      "cell_type": "code",
      "metadata": {
        "id": "8xXn3ZUHnpzA"
      },
      "source": [
        "def show_similar(image):\n",
        "    \n",
        "    distances, neighbors = get_similar(image, n_neighbors=3)\n",
        "    \n",
        "    plt.figure(figsize=[8, 7])\n",
        "    plt.subplot(1, 4, 1)\n",
        "    show_image(image)\n",
        "    plt.title(\"Original image\")\n",
        "    \n",
        "    for i in range(3):\n",
        "        plt.subplot(1, 4, i + 2)\n",
        "        show_image(neighbors[i])\n",
        "        plt.title(\"Dist=%.3f\"%distances[i])\n",
        "    plt.show()"
      ],
      "execution_count": null,
      "outputs": []
    },
    {
      "cell_type": "markdown",
      "metadata": {
        "id": "oRk4rrR-npzA"
      },
      "source": [
        "Cherry-picked examples:"
      ]
    },
    {
      "cell_type": "code",
      "metadata": {
        "id": "ll21Q5U1npzA"
      },
      "source": [
        "# smiles\n",
        "show_similar(X_test[247])"
      ],
      "execution_count": null,
      "outputs": []
    },
    {
      "cell_type": "code",
      "metadata": {
        "id": "RzR_mucUnpzA"
      },
      "source": [
        "# ethnicity\n",
        "show_similar(X_test[56])"
      ],
      "execution_count": null,
      "outputs": []
    },
    {
      "cell_type": "code",
      "metadata": {
        "id": "cHW85yPOnpzA",
        "scrolled": false
      },
      "source": [
        "# glasses\n",
        "show_similar(X_test[63])"
      ],
      "execution_count": null,
      "outputs": []
    },
    {
      "cell_type": "markdown",
      "metadata": {
        "collapsed": true,
        "id": "fkxaP_6AnpzA"
      },
      "source": [
        "# Optional: Cheap image morphing\n"
      ]
    },
    {
      "cell_type": "markdown",
      "metadata": {
        "id": "S9iYKKL6npzA"
      },
      "source": [
        "We can take linear combinations of image codes to produce new images with decoder."
      ]
    },
    {
      "cell_type": "code",
      "metadata": {
        "id": "4XzseiHsnpzA"
      },
      "source": [
        "# restore trained encoder weights\n",
        "\n",
        "deep_autoencoder = DeepAutoencoder((3, 32, 32), 32)\n",
        "deep_autoencoder.load_state_dict(torch.load('deep_autoencoder.pt', map_location='cpu'))\n",
        "\n",
        "for p in deep_autoencoder.parameters():\n",
        "    p.requires_grad_(False)"
      ],
      "execution_count": null,
      "outputs": []
    },
    {
      "cell_type": "code",
      "metadata": {
        "id": "80SH-11MnpzA"
      },
      "source": [
        "for _ in range(5):\n",
        "    image1, image2 = X_test[np.random.randint(0, len(X_test), size=2)]\n",
        "\n",
        "    code1, code2 = deep_autoencoder.encode(torch.stack([image1, image2], dim=0))\n",
        "\n",
        "    plt.figure(figsize=[14, 8])\n",
        "    for i, a in enumerate(torch.linspace(0, 1, steps=7)):\n",
        "\n",
        "        output_code = code1 * (1 - a) + code2 * a\n",
        "        output_image = deep_autoencoder.decode(output_code.unsqueeze(0)).squeeze(0)\n",
        "\n",
        "        plt.subplot(1, 7, i + 1)\n",
        "        show_image(output_image)\n",
        "        plt.title(\"a=%.2f\"%a)\n",
        "        \n",
        "    plt.show()"
      ],
      "execution_count": null,
      "outputs": []
    },
    {
      "cell_type": "markdown",
      "metadata": {
        "collapsed": true,
        "id": "aniRd_HAnpzB"
      },
      "source": [
        "That's it!\n",
        "\n",
        "Of course there's a lot more you can do with autoencoders.\n",
        "\n",
        "If you want to generate images from scratch, however, we recommend you Generative Adversarial Networks or GANs."
      ]
    }
  ]
}