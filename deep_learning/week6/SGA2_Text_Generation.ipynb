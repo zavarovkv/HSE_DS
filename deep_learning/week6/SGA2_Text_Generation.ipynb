{
  "nbformat": 4,
  "nbformat_minor": 0,
  "metadata": {
    "kernelspec": {
      "display_name": "Python [default]",
      "language": "python",
      "name": "python3"
    },
    "language_info": {
      "codemirror_mode": {
        "name": "ipython",
        "version": 3
      },
      "file_extension": ".py",
      "mimetype": "text/x-python",
      "name": "python",
      "nbconvert_exporter": "python",
      "pygments_lexer": "ipython3",
      "version": "3.6.4"
    },
    "colab": {
      "name": "SGA2_Text Generation.ipynb",
      "provenance": [],
      "collapsed_sections": []
    },
    "accelerator": "GPU"
  },
  "cells": [
    {
      "cell_type": "markdown",
      "metadata": {
        "id": "1Oiu5Fabu3ue"
      },
      "source": [
        "# Text Generation\n",
        "## Character-Level LSTM in PyTorch"
      ]
    },
    {
      "cell_type": "markdown",
      "metadata": {
        "id": "1W8R8WgZceEk"
      },
      "source": [
        "In this assignment, you will train a Reccurent Neural Network to generate a text one character at the time. The task is divided into steps for simpler navigation.\n",
        "\n",
        "Let's start!"
      ]
    },
    {
      "cell_type": "code",
      "metadata": {
        "id": "sqUOE2flceEl"
      },
      "source": [
        "import numpy as np\n",
        "import torch\n",
        "from torch import nn\n",
        "import torch.nn.functional as F"
      ],
      "execution_count": 2,
      "outputs": []
    },
    {
      "cell_type": "markdown",
      "metadata": {
        "id": "-JY1C-COvVRb"
      },
      "source": [
        "##Step 0. Data"
      ]
    },
    {
      "cell_type": "markdown",
      "metadata": {
        "id": "_wHfCDyzceEl"
      },
      "source": [
        "As training data, we will use \"War and Peace\" by Leo Tolstoy. The book in plain text format can be downloaded from [Project Gutenberg website ](https://www.gutenberg.org/ebooks/2600).\n",
        "\n",
        "Download and load data."
      ]
    },
    {
      "cell_type": "code",
      "metadata": {
        "id": "CnskyXUl4K3I"
      },
      "source": [
        "# open text file and read in data as `text`\n",
        "with open('2600-0.txt', 'r') as f:\n",
        "    text = f.read()"
      ],
      "execution_count": 4,
      "outputs": []
    },
    {
      "cell_type": "markdown",
      "metadata": {
        "id": "Jp1Ljc4mceEl"
      },
      "source": [
        "Let's view the first 100 symbols:"
      ]
    },
    {
      "cell_type": "code",
      "metadata": {
        "colab": {
          "base_uri": "https://localhost:8080/",
          "height": 37
        },
        "id": "NUb_mCJS5W5i",
        "outputId": "19afcc75-840e-4e57-cfae-d16f1fbfe385"
      },
      "source": [
        "text[:100]"
      ],
      "execution_count": 5,
      "outputs": [
        {
          "output_type": "execute_result",
          "data": {
            "application/vnd.google.colaboratory.intrinsic+json": {
              "type": "string"
            },
            "text/plain": [
              "'\\ufeff\\nThe Project Gutenberg EBook of War and Peace, by Leo Tolstoy\\n\\nThis eBook is for the use of anyone '"
            ]
          },
          "metadata": {
            "tags": []
          },
          "execution_count": 5
        }
      ]
    },
    {
      "cell_type": "markdown",
      "metadata": {
        "id": "O4TwJP8f5eOt"
      },
      "source": [
        "The book starts at `7277`:"
      ]
    },
    {
      "cell_type": "code",
      "metadata": {
        "id": "7VctmLQfceEl",
        "colab": {
          "base_uri": "https://localhost:8080/",
          "height": 54
        },
        "outputId": "10acdd93-9a75-47a0-8ab3-27886a7bae77"
      },
      "source": [
        "text[7277:7500]"
      ],
      "execution_count": 6,
      "outputs": [
        {
          "output_type": "execute_result",
          "data": {
            "application/vnd.google.colaboratory.intrinsic+json": {
              "type": "string"
            },
            "text/plain": [
              "'CHAPTER I\\n\\n“Well, Prince, so Genoa and Lucca are now just family estates of the\\nBuonapartes. But I warn you, if you don’t tell me that this means war,\\nif you still try to defend the infamies and horrors perpetrated by that\\n'"
            ]
          },
          "metadata": {
            "tags": []
          },
          "execution_count": 6
        }
      ]
    },
    {
      "cell_type": "markdown",
      "metadata": {
        "id": "6iG2vAfmwhWN"
      },
      "source": [
        "##Step 1. Tokenization (15 points)"
      ]
    },
    {
      "cell_type": "markdown",
      "metadata": {
        "id": "4iC21bopceEl"
      },
      "source": [
        "Now let's create dictionaries for converting characters to integers and vice versa. This makes it easier to use symbols as input on the neural network."
      ]
    },
    {
      "cell_type": "code",
      "metadata": {
        "id": "tYVlmnxLceEl"
      },
      "source": [
        "# Create two dictionaries:\n",
        "# int2char -- maps integers to characters\n",
        "# char2int -- maps characters to unique integers\n",
        "\n",
        "## YOUR CODE HERE\n",
        "chars = tuple(set(text))\n",
        "int2char = dict(enumerate(chars))\n",
        "char2int = {ch: i for i, ch in int2char.items()}\n",
        "\n",
        "# encode the text\n",
        "encoded = np.array([char2int[ch] for ch in text])"
      ],
      "execution_count": 7,
      "outputs": []
    },
    {
      "cell_type": "markdown",
      "metadata": {
        "id": "oJIzwzSwceEl"
      },
      "source": [
        "Let's see how the encoding of characters into integers looks like"
      ]
    },
    {
      "cell_type": "code",
      "metadata": {
        "id": "WK1MYr_9ceEl",
        "colab": {
          "base_uri": "https://localhost:8080/"
        },
        "outputId": "b5960ab2-5c97-46ba-ca7c-2515d8cc5258"
      },
      "source": [
        "encoded[:100]"
      ],
      "execution_count": 8,
      "outputs": [
        {
          "output_type": "execute_result",
          "data": {
            "text/plain": [
              "array([ 56,   8,  59, 101, 103,  37,  14,  48,  90, 106, 103,  60,  85,\n",
              "        37,  38,  55,  85, 103,  30,  78, 103,  48,   2,  37,  96,  20,\n",
              "        90,  90,  12,  37,  90, 110,  37,  83,  65,  48,  37,  65,  30,\n",
              "        77,  37,  14, 103,  65,  60, 103,  87,  37,  78,  43,  37, 109,\n",
              "       103,  90,  37,  59,  90,  41,  18,  85,  90,  43,   8,   8,  59,\n",
              "       101,  34,  18,  37, 103,  20,  90,  90,  12,  37,  34,  18,  37,\n",
              "       110,  90,  48,  37,  85, 101, 103,  37,  55,  18, 103,  37,  90,\n",
              "       110,  37,  65,  30,  43,  90,  30, 103,  37])"
            ]
          },
          "metadata": {
            "tags": []
          },
          "execution_count": 8
        }
      ]
    },
    {
      "cell_type": "markdown",
      "metadata": {
        "id": "VEzrUe5Qyjz8"
      },
      "source": [
        "##Step 2. One-hot encoding (15 points)"
      ]
    },
    {
      "cell_type": "markdown",
      "metadata": {
        "id": "azltQy-gceEl"
      },
      "source": [
        "LSTM expects one-hot encoded input, which means that each character is converted to an integer (via our created dictionary) and then converted to a vector, where a value 1 will be only on a corresponding position and the rest of the vector will be filled with zeros.\n",
        "\n",
        "Implement a function that does this kind of coding.\n"
      ]
    },
    {
      "cell_type": "code",
      "metadata": {
        "id": "OnahALhiceEl"
      },
      "source": [
        "def one_hot_encode(arr, n_labels):\n",
        "    \n",
        "    # arr - array of integers\n",
        "    # n_labels - number of labels (the size of a one-hot-encoded vector)\n",
        "\n",
        "    ## YOUR CODE HERE\n",
        "    one_hot = np.zeros((np.multiply(*arr.shape), n_labels), dtype=np.float32)\n",
        "    one_hot[np.arange(one_hot.shape[0]), arr.flatten()] = 1.\n",
        "    one_hot = one_hot.reshape((*arr.shape, n_labels))\n",
        "    \n",
        "    return one_hot"
      ],
      "execution_count": 9,
      "outputs": []
    },
    {
      "cell_type": "code",
      "metadata": {
        "id": "L3lTdLKfceEl",
        "colab": {
          "base_uri": "https://localhost:8080/"
        },
        "outputId": "94a60868-4c5e-4388-e42b-39461a28c3f6"
      },
      "source": [
        "# check that the function works correctly\n",
        "test_indx = np.array([[7, 2, 5]])\n",
        "one_hot = one_hot_encode(test_indx, 8)\n",
        "\n",
        "print(one_hot)"
      ],
      "execution_count": 10,
      "outputs": [
        {
          "output_type": "stream",
          "text": [
            "[[[0. 0. 0. 0. 0. 0. 0. 1.]\n",
            "  [0. 0. 1. 0. 0. 0. 0. 0.]\n",
            "  [0. 0. 0. 0. 0. 1. 0. 0.]]]\n"
          ],
          "name": "stdout"
        }
      ]
    },
    {
      "cell_type": "markdown",
      "metadata": {
        "id": "G7qAGC8R0lF1"
      },
      "source": [
        "The output must be\n",
        "\n",
        "```\n",
        "[[[0. 0. 0. 0. 0. 0. 0. 1.]\n",
        "  [0. 0. 1. 0. 0. 0. 0. 0.]\n",
        "  [0. 0. 0. 0. 0. 1. 0. 0.]]]\n",
        "```"
      ]
    },
    {
      "cell_type": "markdown",
      "metadata": {
        "id": "_Qxw5Dg41HAO"
      },
      "source": [
        "##Step 3. Mini-batches (20 points)"
      ]
    },
    {
      "cell_type": "markdown",
      "metadata": {
        "id": "50zKx6pM43RB"
      },
      "source": [
        "To train the neural network, we will organize mini-batches as follows: divide the entire input sequence 'arr' by the desired number of subsequences (parameter `batch_size`), and send a sequence of length `seq_length` to the input of the network."
      ]
    },
    {
      "cell_type": "markdown",
      "metadata": {
        "id": "9YyL91CuceEl"
      },
      "source": [
        "<img src=\"https://github.com/udacity/deep-learning-v2-pytorch/blob/master/recurrent-neural-networks/char-rnn/assets/sequence_batching@1x.png?raw=1\" width=500px>\n"
      ]
    },
    {
      "cell_type": "markdown",
      "metadata": {
        "id": "xzTSxOr37JyR"
      },
      "source": [
        "### How to create mini-batches\n",
        "\n",
        "\n",
        "1.   Find the total number of batches `n_batches` that fit the text.\n",
        "2.   Discard all unnecessary text that does not fit into full batches.\n",
        "3.   Split text into `n_batches` batches'.\n",
        "4.   Get `x's` and `y`'s for a batch. Therefore, `y` is a version of `x` shifted by 1.\n",
        "\n"
      ]
    },
    {
      "cell_type": "code",
      "metadata": {
        "id": "8vmDKLiOceEl"
      },
      "source": [
        "def get_batches(arr, batch_size, seq_length):\n",
        "    # Create a generator that returns batches of size batch_size x seq_length\n",
        "    \n",
        "    batch_size_total = batch_size * seq_length\n",
        "    ## Get the number of batches we can make\n",
        "    n_batches = len(arr) // batch_size_total\n",
        "    \n",
        "    ## Keep only enough characters to make full batches\n",
        "    arr = arr[:n_batches * batch_size_total]\n",
        "    \n",
        "    ## Reshape into batch_size rows\n",
        "    arr = arr.reshape((batch_size, -1))\n",
        "    \n",
        "    ## Iterate over the batches using a window of size seq_length\n",
        "    for n in range(0, arr.shape[1], seq_length):\n",
        "        x = arr[:, n:n+seq_length]\n",
        "        # The target is a version of x shifted by one (do not forget border conditions)\n",
        "        y = np.zeros_like(x)\n",
        "        try:\n",
        "            y[:, :-1], y[:, -1] = x[:, 1:], arr[:, n+seq_length]\n",
        "        except IndexError:\n",
        "            y[:, :-1], y[:, -1] = x[:, 1:], arr[:, 0]\n",
        "\n",
        "        yield x, y"
      ],
      "execution_count": 11,
      "outputs": []
    },
    {
      "cell_type": "markdown",
      "metadata": {
        "id": "s9uKOvbqceEl"
      },
      "source": [
        "Let's check how our function works."
      ]
    },
    {
      "cell_type": "code",
      "metadata": {
        "id": "qtKlLXi1ceEl"
      },
      "source": [
        "batches = get_batches(encoded, 4, 30)\n",
        "x, y = next(batches)"
      ],
      "execution_count": 12,
      "outputs": []
    },
    {
      "cell_type": "code",
      "metadata": {
        "id": "Rg5MUTqqceEl",
        "colab": {
          "base_uri": "https://localhost:8080/"
        },
        "outputId": "499487c5-d7da-4b82-c51a-2749217b2829"
      },
      "source": [
        "# printing out the first 10 items in a sequence\n",
        "print('x\\n', x[:10, :10])\n",
        "print('\\ny\\n', y[:10, :10])"
      ],
      "execution_count": 13,
      "outputs": [
        {
          "output_type": "stream",
          "text": [
            "x\n",
            " [[ 56   8  59 101 103  37  14  48  90 106]\n",
            " [ 37  96  42  80 103  48  90  48  36  18]\n",
            " [ 18  37  85  90  37  43  90  55  48  37]\n",
            " [103  37 101  65  77  37  85  90  87  37]]\n",
            "\n",
            "y\n",
            " [[  8  59 101 103  37  14  48  90 106 103]\n",
            " [ 96  42  80 103  48  90  48  36  18   8]\n",
            " [ 37  85  90  37  43  90  55  48  37  42]\n",
            " [ 37 101  65  77  37  85  90  87  37  18]]\n"
          ],
          "name": "stdout"
        }
      ]
    },
    {
      "cell_type": "markdown",
      "metadata": {
        "id": "R_qHIAEIceEl"
      },
      "source": [
        "If you've implemented get_batches correctly, the result should look something like this (exact numbers may vary):\n",
        "```\n",
        "x\n",
        " [[ 48  94  12 110  32  96 107  34  18 106]\n",
        " [ 96  78   1  69  32  34  18  34  27   3]\n",
        " [  3  96   0  18  96  86  18 100  34  96]\n",
        " [ 32  96 110  42 101  96   0  18  19  96]]\n",
        "\n",
        "y\n",
        " [[ 94  12 110  32  96 107  34  18 106  32]\n",
        " [ 78   1  69  32  34  18  34  27   3  94]\n",
        " [ 96   0  18  96  86  18 100  34  96   1]\n",
        " [ 96 110  42 101  96   0  18  19  96   3]]\n",
        " ```\n",
        "Make sure the data is shifted one step for `y`."
      ]
    },
    {
      "cell_type": "markdown",
      "metadata": {
        "id": "tholjONVAJUa"
      },
      "source": [
        "##Step 4. Defining the network (40 points)"
      ]
    },
    {
      "cell_type": "markdown",
      "metadata": {
        "id": "E7s5eRaoceEl"
      },
      "source": [
        "### Model Architecture\n",
        "\n",
        "The proposed architecture is as follows:\n",
        "\n",
        "* Define an [LSTM layer](https://pytorch.org/docs/stable/generated/torch.nn.LSTM.html#torch.nn.LSTM) with `dropout=drop_prob` and `batch_first=True` (since we use batches)\n",
        "* Define a [Dropout layer](https://pytorch.org/docs/stable/generated/torch.nn.Dropout.html#torch.nn.Dropout) with `drop_prob`.\n",
        "* Define a [Linear layer](https://pytorch.org/docs/stable/generated/torch.nn.Linear.html#torch.nn.Linear) with `in_features=n_hidden` and `out_features` equals to number of characters."
      ]
    },
    {
      "cell_type": "code",
      "metadata": {
        "id": "HlTnDntHceEl",
        "colab": {
          "base_uri": "https://localhost:8080/"
        },
        "outputId": "fd642de7-7ace-476c-fae1-57d425863a17"
      },
      "source": [
        "# check if GPU is available\n",
        "train_on_gpu = torch.cuda.is_available()\n",
        "if(train_on_gpu):\n",
        "    print('Training on GPU')\n",
        "else: \n",
        "    print('No GPU available, training on CPU; consider making n_epochs very small.')"
      ],
      "execution_count": 14,
      "outputs": [
        {
          "output_type": "stream",
          "text": [
            "Training on GPU\n"
          ],
          "name": "stdout"
        }
      ]
    },
    {
      "cell_type": "code",
      "metadata": {
        "id": "lg-SvaGhceEl"
      },
      "source": [
        "class CharRNN(nn.Module):\n",
        "    \n",
        "    def __init__(self, tokens, n_hidden=256, n_layers=2,\n",
        "                               drop_prob=0.5, lr=0.001):\n",
        "        super().__init__()\n",
        "        self.drop_prob = drop_prob\n",
        "        self.n_layers = n_layers\n",
        "        self.n_hidden = n_hidden\n",
        "        self.lr = lr\n",
        "        \n",
        "        # creating character dictionaries\n",
        "        self.chars = tokens\n",
        "        self.int2char = dict(enumerate(self.chars))\n",
        "        self.char2int = {ch: ii for ii, ch in self.int2char.items()}\n",
        "        \n",
        "        # Define the LSTM layer\n",
        "        self.lstm = nn.LSTM(len(self.chars), n_hidden, n_layers, dropout=drop_prob, batch_first=True)\n",
        "\n",
        "        # Define a dropout layer\n",
        "        self.dropout = nn.Dropout(drop_prob)\n",
        "\n",
        "        # Define the final, fully-connected output layer\n",
        "        self.fc = nn.Linear(n_hidden, len(self.chars))\n",
        "      \n",
        "    \n",
        "    def forward(self, x, hidden):\n",
        "        ''' Forward pass through the network. \n",
        "            These inputs are x, and the hidden/cell state `hidden`. '''\n",
        "                \n",
        "        # Get the outputs and the new hidden state from the lstm\n",
        "        out, hidden = self.lstm(x, hidden)\n",
        "\n",
        "        # Pass through a dropout layer\n",
        "        out = self.dropout(out)\n",
        "\n",
        "        # Stack up LSTM outputs using view\n",
        "        # you may need to use contiguous to reshape the output\n",
        "        # out = out.view(out.size()[0] * out.size()[1], self.n_hidden)\n",
        "        out = out.contiguous().view(-1, self.n_hidden)\n",
        "\n",
        "        # Put x through the fully-connected layer\n",
        "        out = self.fc(out)\n",
        "\n",
        "        # return the final output and the hidden state\n",
        "        return out, hidden\n",
        "    \n",
        "    \n",
        "    def init_hidden(self, batch_size):\n",
        "        ''' Initializes hidden state '''\n",
        "        # Create two new tensors with sizes n_layers x batch_size x n_hidden,\n",
        "        # initialized to zero, for hidden state and cell state of LSTM\n",
        "        weight = next(self.parameters()).data\n",
        "        \n",
        "        if (train_on_gpu):\n",
        "            hidden = (weight.new(self.n_layers, batch_size, self.n_hidden).zero_().cuda(),\n",
        "                  weight.new(self.n_layers, batch_size, self.n_hidden).zero_().cuda())\n",
        "        else:\n",
        "            hidden = (weight.new(self.n_layers, batch_size, self.n_hidden).zero_(),\n",
        "                      weight.new(self.n_layers, batch_size, self.n_hidden).zero_())\n",
        "        \n",
        "        return hidden\n",
        "        "
      ],
      "execution_count": 15,
      "outputs": []
    },
    {
      "cell_type": "markdown",
      "metadata": {
        "id": "VPX7bf08EipB"
      },
      "source": [
        "##Step 5. Train the model (10 points)"
      ]
    },
    {
      "cell_type": "markdown",
      "metadata": {
        "id": "zBgcPj1mGOZN"
      },
      "source": [
        "We use Cross Entropy as a loss function, Adam as optimizer, and [`clip_grad_norm_`](https://pytorch.org/docs/stable/_modules/torch/nn/utils/clip_grad.html) to get rid of the gradient explosion."
      ]
    },
    {
      "cell_type": "code",
      "metadata": {
        "id": "lv8VkRI0ceEl"
      },
      "source": [
        "def train(net, data, epochs=10, batch_size=10, seq_length=50, lr=0.001, clip=5, val_frac=0.1, print_every=10):\n",
        "    ''' Training a network \n",
        "    \n",
        "        Arguments\n",
        "        ---------\n",
        "        lr: learning rate\n",
        "        clip: gradient clipping\n",
        "        val_frac: Fraction of data to hold out for validation\n",
        "        print_every: Number of steps for printing training and validation loss\n",
        "    \n",
        "    '''\n",
        "    net.train()\n",
        "    \n",
        "    opt = torch.optim.Adam(net.parameters(), lr=lr)\n",
        "    criterion = nn.CrossEntropyLoss()\n",
        "    \n",
        "    # create training and validation data\n",
        "    val_idx = int(len(data)*(1-val_frac))\n",
        "    data, val_data = data[:val_idx], data[val_idx:]\n",
        "    \n",
        "    if(train_on_gpu):\n",
        "        net.cuda()\n",
        "    \n",
        "    counter = 0\n",
        "    n_chars = len(net.chars)\n",
        "    for e in range(epochs):\n",
        "        # initialize hidden state\n",
        "        h = net.init_hidden(batch_size)\n",
        "        \n",
        "        for x, y in get_batches(data, batch_size, seq_length):\n",
        "            counter += 1\n",
        "            \n",
        "            # One-hot encode our data and make them Torch tensors\n",
        "            x = one_hot_encode(x, n_chars)\n",
        "            inputs, targets = torch.from_numpy(x), torch.from_numpy(y)\n",
        "            \n",
        "            if(train_on_gpu):\n",
        "                inputs, targets = inputs.cuda(), targets.cuda()\n",
        "\n",
        "            # Creating new variables for the hidden state, otherwise\n",
        "            # we'd backprop through the entire training history\n",
        "            h = tuple([each.data for each in h])\n",
        "\n",
        "            net.zero_grad()\n",
        "            \n",
        "            output, h = net(inputs, h)\n",
        "            \n",
        "            loss = criterion(output, targets.view(batch_size*seq_length).long())\n",
        "            loss.backward()\n",
        "\n",
        "            # `clip_grad_norm` helps prevent the exploding gradient problem in RNNs\n",
        "            nn.utils.clip_grad_norm_(net.parameters(), clip)\n",
        "            opt.step()\n",
        "            \n",
        "            # loss stats\n",
        "            if counter % print_every == 0:\n",
        "                # Get validation loss\n",
        "                val_h = net.init_hidden(batch_size)\n",
        "                val_losses = []\n",
        "                net.eval()\n",
        "                for x, y in get_batches(val_data, batch_size, seq_length):\n",
        "                    # One-hot encode our data and make them Torch tensors\n",
        "                    x = one_hot_encode(x, n_chars)\n",
        "                    x, y = torch.from_numpy(x), torch.from_numpy(y)\n",
        "                    \n",
        "                    # Creating new variables for the hidden state, otherwise\n",
        "                    # we'd backprop through the entire training history\n",
        "                    val_h = tuple([each.data for each in val_h])\n",
        "                    \n",
        "                    inputs, targets = x, y\n",
        "                    if(train_on_gpu):\n",
        "                        inputs, targets = inputs.cuda(), targets.cuda()\n",
        "\n",
        "                    output, val_h = net(inputs, val_h)\n",
        "                    val_loss = criterion(output, targets.view(batch_size*seq_length).long())\n",
        "                \n",
        "                    val_losses.append(val_loss.item())\n",
        "                \n",
        "                net.train() # reset to train mode after iterationg through validation data\n",
        "                \n",
        "                print(\"Epoch: {}/{}...\".format(e+1, epochs),\n",
        "                      \"Step: {}...\".format(counter),\n",
        "                      \"Loss: {:.4f}...\".format(loss.item()),\n",
        "                      \"Val Loss: {:.4f}\".format(np.mean(val_losses)))"
      ],
      "execution_count": 16,
      "outputs": []
    },
    {
      "cell_type": "markdown",
      "metadata": {
        "id": "Gt0q4KGEceEm"
      },
      "source": [
        "Initialize the model and set hyperparameters."
      ]
    },
    {
      "cell_type": "code",
      "metadata": {
        "id": "OOgs59nDceEm",
        "colab": {
          "base_uri": "https://localhost:8080/"
        },
        "outputId": "84eedb86-0551-4d35-a1e3-1707794b480e"
      },
      "source": [
        "# Set your model hyperparameters\n",
        "\n",
        "n_hidden = 512\n",
        "n_layers = 2\n",
        "\n",
        "net = CharRNN(chars, n_hidden, n_layers)\n",
        "print(net)"
      ],
      "execution_count": 17,
      "outputs": [
        {
          "output_type": "stream",
          "text": [
            "CharRNN(\n",
            "  (lstm): LSTM(111, 512, num_layers=2, batch_first=True, dropout=0.5)\n",
            "  (dropout): Dropout(p=0.5, inplace=False)\n",
            "  (fc): Linear(in_features=512, out_features=111, bias=True)\n",
            ")\n"
          ],
          "name": "stdout"
        }
      ]
    },
    {
      "cell_type": "markdown",
      "metadata": {
        "id": "XHy6mECuceEm"
      },
      "source": [
        "Set training hyperparameters."
      ]
    },
    {
      "cell_type": "code",
      "metadata": {
        "scrolled": true,
        "id": "ABqi9klKceEm",
        "colab": {
          "base_uri": "https://localhost:8080/"
        },
        "outputId": "4f71c7a0-4bb3-430f-ebc1-382ea3c23b07"
      },
      "source": [
        "batch_size = 128\n",
        "seq_length = 100\n",
        "# start small if you are just testing initial behavior\n",
        "n_epochs = 1\n",
        "\n",
        "# train the model\n",
        "train(net, encoded, epochs=n_epochs, batch_size=batch_size, seq_length=seq_length, lr=0.001, print_every=10)"
      ],
      "execution_count": 18,
      "outputs": [
        {
          "output_type": "stream",
          "text": [
            "Epoch: 1/1... Step: 10... Loss: 3.2731... Val Loss: 3.1414\n",
            "Epoch: 1/1... Step: 20... Loss: 3.2033... Val Loss: 3.1188\n",
            "Epoch: 1/1... Step: 30... Loss: 3.1746... Val Loss: 3.1040\n",
            "Epoch: 1/1... Step: 40... Loss: 3.1623... Val Loss: 3.1009\n",
            "Epoch: 1/1... Step: 50... Loss: 3.1620... Val Loss: 3.1014\n",
            "Epoch: 1/1... Step: 60... Loss: 3.1599... Val Loss: 3.0996\n",
            "Epoch: 1/1... Step: 70... Loss: 3.1570... Val Loss: 3.0978\n",
            "Epoch: 1/1... Step: 80... Loss: 3.1309... Val Loss: 3.0941\n",
            "Epoch: 1/1... Step: 90... Loss: 3.1380... Val Loss: 3.0884\n",
            "Epoch: 1/1... Step: 100... Loss: 3.1130... Val Loss: 3.0790\n",
            "Epoch: 1/1... Step: 110... Loss: 3.0898... Val Loss: 3.0621\n",
            "Epoch: 1/1... Step: 120... Loss: 3.0615... Val Loss: 3.0229\n",
            "Epoch: 1/1... Step: 130... Loss: 3.0355... Val Loss: 2.9525\n",
            "Epoch: 1/1... Step: 140... Loss: 2.9137... Val Loss: 2.8600\n",
            "Epoch: 1/1... Step: 150... Loss: 2.8097... Val Loss: 2.7665\n",
            "Epoch: 1/1... Step: 160... Loss: 2.7002... Val Loss: 2.6755\n",
            "Epoch: 1/1... Step: 170... Loss: 2.6618... Val Loss: 2.5944\n",
            "Epoch: 1/1... Step: 180... Loss: 2.5957... Val Loss: 2.5377\n",
            "Epoch: 1/1... Step: 190... Loss: 2.5461... Val Loss: 2.4966\n",
            "Epoch: 1/1... Step: 200... Loss: 2.5067... Val Loss: 2.4659\n",
            "Epoch: 1/1... Step: 210... Loss: 2.4660... Val Loss: 2.4372\n",
            "Epoch: 1/1... Step: 220... Loss: 2.4447... Val Loss: 2.4125\n"
          ],
          "name": "stdout"
        }
      ]
    },
    {
      "cell_type": "markdown",
      "metadata": {
        "id": "n-Nqbv1CICR7"
      },
      "source": [
        "##Step 6. Making Predictions"
      ]
    },
    {
      "cell_type": "markdown",
      "metadata": {
        "id": "K2sJhx5iceEm"
      },
      "source": [
        "Now that the model is trained, we want to predict the next character for the sequence of input symbols. We pass a character as input, and the network predicts the next character. Then we take that character, pass it as input, and get another predicted character, and so on.\n",
        "\n",
        "### Details of a `predict`  function\n",
        "\n",
        "Our RNN's output comes from a fully connected layer and outputs the **distribution of the next character scores**. To actually get the next character, we use the softmax function, which gives us a **probability** distribution that we can then choose to predict the next character.\n",
        "\n",
        "**Top K sampling**\n",
        "\n",
        "Our predictions are based on a categorical distribution of probabilities for all possible characters. We can make the sampling process smarter by looking at only some of the most likely $K$ characters. This will prevent the network from giving us completely absurd characters, and will also allow some noise and randomness to be introduced into the selected text. This technique is called [top K](https://pytorch.org/docs/stable/generated/torch.topk.html#torch.topk) sampling."
      ]
    },
    {
      "cell_type": "code",
      "metadata": {
        "id": "QEIRW_B2ceEm"
      },
      "source": [
        "def predict(net, char, h=None, top_k=None):\n",
        "        ''' Given a character, predict the next character.\n",
        "            Returns the predicted character and the hidden state.\n",
        "        '''\n",
        "        \n",
        "        # tensor inputs\n",
        "        x = np.array([[net.char2int[char]]])\n",
        "        x = one_hot_encode(x, len(net.chars))\n",
        "        inputs = torch.from_numpy(x)\n",
        "        \n",
        "        if(train_on_gpu):\n",
        "            inputs = inputs.cuda()\n",
        "        \n",
        "        # detach hidden state from history\n",
        "        h = tuple([each.data for each in h])\n",
        "        # get the output of the model\n",
        "        out, h = net(inputs, h)\n",
        "\n",
        "        # get the character probabilities\n",
        "        p = F.softmax(out, dim=1).data\n",
        "        if(train_on_gpu):\n",
        "            p = p.cpu() # move to cpu\n",
        "        \n",
        "        # get top characters\n",
        "        if top_k is None:\n",
        "            top_ch = np.arange(len(net.chars))\n",
        "        else:\n",
        "            p, top_ch = p.topk(top_k)\n",
        "            top_ch = top_ch.numpy().squeeze()\n",
        "        \n",
        "        # select the likely next character with some element of randomness\n",
        "        p = p.numpy().squeeze()\n",
        "        char = np.random.choice(top_ch, p=p/p.sum())\n",
        "        \n",
        "        # return the encoded value of the predicted char and the hidden state\n",
        "        return net.int2char[char], h"
      ],
      "execution_count": 19,
      "outputs": []
    },
    {
      "cell_type": "markdown",
      "metadata": {
        "id": "OG38j3gQceEm"
      },
      "source": [
        "To generate the text, you need to feed the initial characters, let's call them `prime`."
      ]
    },
    {
      "cell_type": "code",
      "metadata": {
        "id": "P9vpB5gRceEm"
      },
      "source": [
        "def sample(net, size, prime='The', top_k=None):\n",
        "        \n",
        "    if(train_on_gpu):\n",
        "        net.cuda()\n",
        "    else:\n",
        "        net.cpu()\n",
        "    \n",
        "    net.eval() # eval mode\n",
        "    \n",
        "    # First off, run through the prime characters\n",
        "    chars = [ch for ch in prime]\n",
        "    h = net.init_hidden(1)\n",
        "    for ch in prime:\n",
        "        char, h = predict(net, ch, h, top_k=top_k)\n",
        "\n",
        "    chars.append(char)\n",
        "    \n",
        "    # Now pass in the previous character and get a new one\n",
        "    for ii in range(size):\n",
        "        char, h = predict(net, chars[-1], h, top_k=top_k)\n",
        "        chars.append(char)\n",
        "\n",
        "    return ''.join(chars)"
      ],
      "execution_count": 20,
      "outputs": []
    },
    {
      "cell_type": "code",
      "metadata": {
        "id": "BqmFA9eEceEm",
        "colab": {
          "base_uri": "https://localhost:8080/"
        },
        "outputId": "4ebda8aa-39b4-4d85-e3d4-f6725aed8605"
      },
      "source": [
        "print(sample(net, 1000, prime='Anna', top_k=5))"
      ],
      "execution_count": 21,
      "outputs": [
        {
          "output_type": "stream",
          "text": [
            "Annart tas ot an womes hes at his on tas to sothar, the wes he wass and on afte ho cisterthe thist the sound the\n",
            "she co cith and te the wassing whit on tase wass hot\n",
            "\n",
            "“Ie he soudd on ho the serin tor to she ceren the thand and withes hut whet and whand wath at hit the that the toras anthe wore sath we woming arthed afd an wond af of\n",
            "wares wase af th ot ald, bom an her tas thass at thas hor and and wor and hes aleren the wer womt at he the she ce ther thite\n",
            "soririthe seren his the canthas whe sing an hert on te wen the tore wire ha hinte th and the hathed the tirlene tartithe sonthe to the ther toriss ans wat ha has the that on thas ar antares his on ther, wor af an thor ang woth she ther hire thes, bure the serthed she wimt\n",
            "are ha him on tat he sithe the he her and\n",
            "with he had wons ond he she thot.. The anged toutingis tinete af hor ware wher ang ho tood the he shethe at ons torirer of the werires,,” the thos ars thithe whe tith werirer hith thond sar thing whirery he con he tor or th the t\n"
          ],
          "name": "stdout"
        }
      ]
    },
    {
      "cell_type": "code",
      "metadata": {
        "id": "TH1ag4h1ceEm"
      },
      "source": [
        ""
      ],
      "execution_count": null,
      "outputs": []
    }
  ]
}