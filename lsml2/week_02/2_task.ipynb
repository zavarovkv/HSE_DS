{
 "cells": [
  {
   "cell_type": "markdown",
   "metadata": {},
   "source": [
    "# Task\n",
    "\n",
    "In files `airlines.reviews.train.tsv` and `airlines.reviews.test.tsv` there is user reviews about different airlines. The whole dataset can be found <a href=\"https://github.com/quankiquanki/skytrax-reviews-dataset\"> by link </a>.\n",
    "\n",
    "Data includes: review, written by user, and score from 0 to 10. Task is to predict the score by the text of the review using different text processing approaches.\n",
    "\n",
    "Below you can find the code for base model training - linear VW model with all the text encoded as Bag-of-words. Your code should improve the current model by using better quality text encoding."
   ]
  },
  {
   "cell_type": "code",
   "execution_count": 6,
   "metadata": {},
   "outputs": [],
   "source": [
    "import pandas as pd\n",
    "import numpy as np\n",
    "\n",
    "\n",
    "pd.set_option('display.max_columns', None)  \n",
    "pd.set_option('display.expand_frame_repr', False)\n",
    "pd.set_option('max_colwidth', 800)"
   ]
  },
  {
   "cell_type": "code",
   "execution_count": 7,
   "metadata": {},
   "outputs": [],
   "source": [
    "df_train = pd.read_csv('airlines.reviews.train.tsv', sep='\\t')\n",
    "df_test = pd.read_csv('airlines.reviews.test.tsv', sep='\\t')"
   ]
  },
  {
   "cell_type": "code",
   "execution_count": 8,
   "metadata": {},
   "outputs": [
    {
     "data": {
      "text/html": [
       "<div>\n",
       "<style scoped>\n",
       "    .dataframe tbody tr th:only-of-type {\n",
       "        vertical-align: middle;\n",
       "    }\n",
       "\n",
       "    .dataframe tbody tr th {\n",
       "        vertical-align: top;\n",
       "    }\n",
       "\n",
       "    .dataframe thead th {\n",
       "        text-align: right;\n",
       "    }\n",
       "</style>\n",
       "<table border=\"1\" class=\"dataframe\">\n",
       "  <thead>\n",
       "    <tr style=\"text-align: right;\">\n",
       "      <th></th>\n",
       "      <th>rating</th>\n",
       "      <th>content</th>\n",
       "    </tr>\n",
       "  </thead>\n",
       "  <tbody>\n",
       "    <tr>\n",
       "      <th>0</th>\n",
       "      <td>9.0</td>\n",
       "      <td>March 5th 2014 from Ottawa Canada to Cuba WG 630. They announced that the flight was going to be delayed 1 hour no explanation why. They started boarding and we took off only 1/2 hour late. There were 6 of us 2 were seated together and remaining 4 were put in aisle seats side by side. On the way back from Cuba on March 12th 2014 WG 631 we were slow going through immigration no fault of Sunwing. Finally arrived to our plane at 10.35am the doors immediately closed and the plane took off 5 minutes later 20 minutes earlier than expected. The 6 of us were pretty much split up by 2 each seating my 12 old daughter by herself behind us. Overall the staff were great very friendly and approachable. The food served was pretty good considering most airlines don't offer meal service for free. It wa...</td>\n",
       "    </tr>\n",
       "    <tr>\n",
       "      <th>1</th>\n",
       "      <td>7.0</td>\n",
       "      <td>SIN-FRA-BHX in Economy. First leg from Singapore on the A380 was great largely because I was fortunate enough to get an exit row seat with unlimited legroom (judging by fellow passengers one wouldn't be happy with normal seats as they had rather pathetic legroom). Nice modern AVOD system but the PTVs were rather small compared to other A380 airlines. Service was really friendly and warm but few frills (no amenity kit whatsoever no footrests). Meals were alright but again rather simple compared to Asian carriers. Second leg to Birmingham on an A320 was above average by intra-Europe standards with a decent snack/beverage service and friendly service again. All flights on time.</td>\n",
       "    </tr>\n",
       "    <tr>\n",
       "      <th>2</th>\n",
       "      <td>7.0</td>\n",
       "      <td>Spirit does what they state on their web site, they get you there - cheaply. For that I give them 5 stars because they did exactly what the said they would do. The plane was full and the seats were close together. I read all about that before I bought the ticket and it was as they said it would be, hence the low cost. Plan ahead and know what to expect and it will be a great experience. Its obvious that some of the people that gave 1 star reviews didn't understand about cost of bags or any extras and not done their homework - and are now very disappointed.</td>\n",
       "    </tr>\n",
       "  </tbody>\n",
       "</table>\n",
       "</div>"
      ],
      "text/plain": [
       "   rating                                                                                                                                                                                                                                                                                                                                                                                                                                                                                                                                                                                                                                                                                                                                                                                                                          content\n",
       "0     9.0  March 5th 2014 from Ottawa Canada to Cuba WG 630. They announced that the flight was going to be delayed 1 hour no explanation why. They started boarding and we took off only 1/2 hour late. There were 6 of us 2 were seated together and remaining 4 were put in aisle seats side by side. On the way back from Cuba on March 12th 2014 WG 631 we were slow going through immigration no fault of Sunwing. Finally arrived to our plane at 10.35am the doors immediately closed and the plane took off 5 minutes later 20 minutes earlier than expected. The 6 of us were pretty much split up by 2 each seating my 12 old daughter by herself behind us. Overall the staff were great very friendly and approachable. The food served was pretty good considering most airlines don't offer meal service for free. It wa...\n",
       "1     7.0                                                                                                                      SIN-FRA-BHX in Economy. First leg from Singapore on the A380 was great largely because I was fortunate enough to get an exit row seat with unlimited legroom (judging by fellow passengers one wouldn't be happy with normal seats as they had rather pathetic legroom). Nice modern AVOD system but the PTVs were rather small compared to other A380 airlines. Service was really friendly and warm but few frills (no amenity kit whatsoever no footrests). Meals were alright but again rather simple compared to Asian carriers. Second leg to Birmingham on an A320 was above average by intra-Europe standards with a decent snack/beverage service and friendly service again. All flights on time.\n",
       "2     7.0                                                                                                                                                                                                                                               Spirit does what they state on their web site, they get you there - cheaply. For that I give them 5 stars because they did exactly what the said they would do. The plane was full and the seats were close together. I read all about that before I bought the ticket and it was as they said it would be, hence the low cost. Plan ahead and know what to expect and it will be a great experience. Its obvious that some of the people that gave 1 star reviews didn't understand about cost of bags or any extras and not done their homework - and are now very disappointed."
      ]
     },
     "execution_count": 8,
     "metadata": {},
     "output_type": "execute_result"
    }
   ],
   "source": [
    "df_train.head(3)"
   ]
  },
  {
   "cell_type": "code",
   "execution_count": 9,
   "metadata": {},
   "outputs": [
    {
     "data": {
      "text/html": [
       "<div>\n",
       "<style scoped>\n",
       "    .dataframe tbody tr th:only-of-type {\n",
       "        vertical-align: middle;\n",
       "    }\n",
       "\n",
       "    .dataframe tbody tr th {\n",
       "        vertical-align: top;\n",
       "    }\n",
       "\n",
       "    .dataframe thead th {\n",
       "        text-align: right;\n",
       "    }\n",
       "</style>\n",
       "<table border=\"1\" class=\"dataframe\">\n",
       "  <thead>\n",
       "    <tr style=\"text-align: right;\">\n",
       "      <th></th>\n",
       "      <th>rating</th>\n",
       "      <th>content</th>\n",
       "    </tr>\n",
       "  </thead>\n",
       "  <tbody>\n",
       "    <tr>\n",
       "      <th>0</th>\n",
       "      <td>8.0</td>\n",
       "      <td>JNB-LHR on the new airbus. Seats were roomy and comfy staff polite and friendly and inflight entertainment system outstanding. We had terrible turbulence throughout the flight but the captain was informative and reassuring and everyone remained calm. Food not great but otherwise excellent.</td>\n",
       "    </tr>\n",
       "    <tr>\n",
       "      <th>1</th>\n",
       "      <td>6.0</td>\n",
       "      <td>Flew Business Class DOH-BOM-DOH. Outbound: Used the Oryx lounge at Doha airport which was nice. Cabin was nearly empty. Seats are similar to those on Jet's domestic business class. Found it difficult to sleep with the recline provided. At 6'3\" legrests did not help as my legs overshot it. The light sandwich was passable. Service was attentive and cheerful. Inbound: Evening flight so looked forward to meal and wine. Same cheap French table wine. Indian non-veg meal was not great. Cabin crew were attentive and friendly. IFE was limited. One negative was that my bag was one of the last off both flights with a priority tag.</td>\n",
       "    </tr>\n",
       "    <tr>\n",
       "      <th>2</th>\n",
       "      <td>5.0</td>\n",
       "      <td>This is a rough review because we flew first business and coach. We usually fly coach but for a trip to Napa we used our points to go first class. The AA/United merger combined the worst two airlines in the Western world. Flew on 4/7 (260 / 193) - BAN-DFX-SAN. Service food seating excellent. Plane a little old and shaky but all in all a good flight. Returned 4/13 (193/5290) SAN-Charlotte-BNA. Although we had first class we were relegated to business with an accompanying drop in quality across the board. The trouble is the age of the planes - it's like something from a museum. The noise from the engine was so loud it was like sticking your head under the hood of a car. But for once all flights left on time without mechanical problems. We were closer to the real world of 95% of all trave...</td>\n",
       "    </tr>\n",
       "  </tbody>\n",
       "</table>\n",
       "</div>"
      ],
      "text/plain": [
       "   rating                                                                                                                                                                                                                                                                                                                                                                                                                                                                                                                                                                                                                                                                                                                                                                                                                          content\n",
       "0     8.0                                                                                                                                                                                                                                                                                                                                                                                                                                                                                                                               JNB-LHR on the new airbus. Seats were roomy and comfy staff polite and friendly and inflight entertainment system outstanding. We had terrible turbulence throughout the flight but the captain was informative and reassuring and everyone remained calm. Food not great but otherwise excellent.\n",
       "1     6.0                                                                                                                                                                              Flew Business Class DOH-BOM-DOH. Outbound: Used the Oryx lounge at Doha airport which was nice. Cabin was nearly empty. Seats are similar to those on Jet's domestic business class. Found it difficult to sleep with the recline provided. At 6'3\" legrests did not help as my legs overshot it. The light sandwich was passable. Service was attentive and cheerful. Inbound: Evening flight so looked forward to meal and wine. Same cheap French table wine. Indian non-veg meal was not great. Cabin crew were attentive and friendly. IFE was limited. One negative was that my bag was one of the last off both flights with a priority tag.\n",
       "2     5.0  This is a rough review because we flew first business and coach. We usually fly coach but for a trip to Napa we used our points to go first class. The AA/United merger combined the worst two airlines in the Western world. Flew on 4/7 (260 / 193) - BAN-DFX-SAN. Service food seating excellent. Plane a little old and shaky but all in all a good flight. Returned 4/13 (193/5290) SAN-Charlotte-BNA. Although we had first class we were relegated to business with an accompanying drop in quality across the board. The trouble is the age of the planes - it's like something from a museum. The noise from the engine was so loud it was like sticking your head under the hood of a car. But for once all flights left on time without mechanical problems. We were closer to the real world of 95% of all trave..."
      ]
     },
     "execution_count": 9,
     "metadata": {},
     "output_type": "execute_result"
    }
   ],
   "source": [
    "df_test.head(3)"
   ]
  },
  {
   "cell_type": "code",
   "execution_count": 10,
   "metadata": {},
   "outputs": [],
   "source": [
    "X_train, Y_train = df_train['content'], df_train['rating']\n",
    "X_test, Y_test = df_test['content'], df_test['rating']"
   ]
  },
  {
   "cell_type": "code",
   "execution_count": 12,
   "metadata": {},
   "outputs": [],
   "source": [
    "import re\n",
    "from sklearn.metrics import r2_score\n",
    "\n",
    "\n",
    "def convert_to_vw(raw_text, target):\n",
    "    word_pattern = re.compile(r\"[a-zA-Z0-9_]+\")\n",
    "    words = []\n",
    "    for match in re.finditer(word_pattern, raw_text.lower()):\n",
    "        words.append(match.group(0))\n",
    "    \n",
    "    if not words: \n",
    "        return None\n",
    "    return \"{} |d {}\".format(float(target), \" \".join(words))\n",
    "\n",
    "\n",
    "def write_vw(X_data, Y_data, filename):\n",
    "    with open(filename, \"w\") as f:\n",
    "        for x, y in zip(X_data, Y_data):\n",
    "            vw_object = convert_to_vw(x, y)\n",
    "            if not vw_object:\n",
    "                continue\n",
    "            f.write(vw_object + '\\n')\n",
    "            \n",
    "\n",
    "def read_target_from_vw(vw_object):\n",
    "    return float(vw_object.split(' ')[0])\n",
    "\n",
    "\n",
    "def calc_r2(predictions_path, answers_path):\n",
    "    with open(predictions_path, 'r') as f:\n",
    "        y_pred = np.array([float(value) for value in f.readlines()])\n",
    "        \n",
    "    with open(answers_path, 'r') as f:\n",
    "        y_expected = np.array([read_target_from_vw(value) for value in f.readlines()])\n",
    "        \n",
    "    return r2_score(y_expected, y_pred)"
   ]
  },
  {
   "cell_type": "code",
   "execution_count": 13,
   "metadata": {},
   "outputs": [],
   "source": [
    "write_vw(X_train, Y_train, 'airlines.train.vw')\n",
    "write_vw(X_test, Y_test, 'airlines.test.vw')"
   ]
  },
  {
   "cell_type": "code",
   "execution_count": 14,
   "metadata": {},
   "outputs": [
    {
     "name": "stdout",
     "output_type": "stream",
     "text": [
      "9.0 |d march 5th 2014 from ottawa canada to cuba wg 630 they announced that the flight was going to be delayed 1 hour no explanation why they started boarding and we took off only 1 2 hour late there were 6 of us 2 were seated together and remaining 4 were put in aisle seats side by side on the way back from cuba on march 12th 2014 wg 631 we were slow going through immigration no fault of sunwing finally arrived to our plane at 10 35am the doors immediately closed and the plane took off 5 minutes later 20 minutes earlier than expected the 6 of us were pretty much split up by 2 each seating my 12 old daughter by herself behind us overall the staff were great very friendly and approachable the food served was pretty good considering most airlines don t offer meal service for free it was comparable to meals we ve had to purchase on other airlines\r\n",
      "7.0 |d sin fra bhx in economy first leg from singapore on the a380 was great largely because i was fortunate enough to get an exit row seat with unlimited legroom judging by fellow passengers one wouldn t be happy with normal seats as they had rather pathetic legroom nice modern avod system but the ptvs were rather small compared to other a380 airlines service was really friendly and warm but few frills no amenity kit whatsoever no footrests meals were alright but again rather simple compared to asian carriers second leg to birmingham on an a320 was above average by intra europe standards with a decent snack beverage service and friendly service again all flights on time\r\n"
     ]
    }
   ],
   "source": [
    "! head -n 2 airlines.train.vw"
   ]
  },
  {
   "cell_type": "code",
   "execution_count": 15,
   "metadata": {},
   "outputs": [
    {
     "name": "stdout",
     "output_type": "stream",
     "text": [
      "8.0 |d jnb lhr on the new airbus seats were roomy and comfy staff polite and friendly and inflight entertainment system outstanding we had terrible turbulence throughout the flight but the captain was informative and reassuring and everyone remained calm food not great but otherwise excellent\r\n",
      "6.0 |d flew business class doh bom doh outbound used the oryx lounge at doha airport which was nice cabin was nearly empty seats are similar to those on jet s domestic business class found it difficult to sleep with the recline provided at 6 3 legrests did not help as my legs overshot it the light sandwich was passable service was attentive and cheerful inbound evening flight so looked forward to meal and wine same cheap french table wine indian non veg meal was not great cabin crew were attentive and friendly ife was limited one negative was that my bag was one of the last off both flights with a priority tag\r\n"
     ]
    }
   ],
   "source": [
    "! head -n 2 airlines.test.vw"
   ]
  },
  {
   "cell_type": "code",
   "execution_count": 16,
   "metadata": {},
   "outputs": [
    {
     "name": "stdout",
     "output_type": "stream",
     "text": [
      "final_regressor = result.model.vw\n",
      "Num weight bits = 18\n",
      "learning rate = 5\n",
      "initial_t = 0\n",
      "power_t = 0.5\n",
      "decay_learning_rate = 1\n",
      "creating cache_file = airlines.train.vw.cache\n",
      "Reading datafile = airlines.train.vw\n",
      "num sources = 1\n",
      "average  since         example        example  current  current  current\n",
      "loss     last          counter         weight    label  predict features\n",
      "81.000000 81.000000            1            1.0   9.0000   0.0000      164\n",
      "45.962098 10.924195            2            2.0   7.0000   3.6948      117\n",
      "39.999505 34.036913            4            4.0   1.0000   9.0000      250\n",
      "42.917619 45.835733            8            8.0   1.0000  10.0000      298\n",
      "27.137390 11.357161           16           16.0   8.0000   3.7579       64\n",
      "24.114076 21.090763           32           32.0   1.0000   8.3515      157\n",
      "17.459891 10.805705           64           64.0  10.0000  10.0000      214\n",
      "13.683004 9.906117          128          128.0   8.0000   8.3591      127\n",
      "12.371640 11.060277          256          256.0  10.0000   7.1693      141\n",
      "10.279906 8.188173          512          512.0  10.0000  10.0000       52\n",
      "8.798051 7.316195         1024         1024.0   6.0000   6.8488      149\n",
      "7.873879 6.949708         2048         2048.0   9.0000  10.0000       48\n",
      "6.951667 6.029455         4096         4096.0   8.0000   7.4700      132\n",
      "6.029022 5.106377         8192         8192.0  10.0000  10.0000      187\n",
      "5.346358 4.663694        16384        16384.0   8.0000   9.8709      135\n",
      "4.840993 4.840993        32768        32768.0   7.0000   7.3128       86 h\n",
      "4.644160 4.447380        65536        65536.0   2.0000   2.6676      122 h\n",
      "\n",
      "finished run\n",
      "number of examples per pass = 20990\n",
      "passes used = 5\n",
      "weighted example sum = 104950.000000\n",
      "weighted label sum = 647010.000000\n",
      "average loss = 4.282900 h\n",
      "best constant = 6.164936\n",
      "total feature number = 12366265\n"
     ]
    }
   ],
   "source": [
    "! vw --final_regressor result.model.vw airlines.train.vw --learning_rate 5 --bit_precision 18 --passes 20 -c -k"
   ]
  },
  {
   "cell_type": "code",
   "execution_count": 17,
   "metadata": {},
   "outputs": [
    {
     "name": "stdout",
     "output_type": "stream",
     "text": [
      "only testing\n",
      "predictions = predictions.txt\n",
      "Num weight bits = 18\n",
      "learning rate = 0.5\n",
      "initial_t = 0\n",
      "power_t = 0.5\n",
      "using no cache\n",
      "Reading datafile = airlines.test.vw\n",
      "num sources = 1\n",
      "average  since         example        example  current  current  current\n",
      "loss     last          counter         weight    label  predict features\n",
      "2.617054 2.617054            1            1.0   8.0000   9.6177       45\n",
      "1.327304 0.037555            2            2.0   6.0000   6.1938      113\n",
      "7.045001 12.762697            4            4.0   1.0000   1.7248       89\n",
      "6.794588 6.544175            8            8.0   8.0000   6.5657      149\n",
      "4.249113 1.703638           16           16.0   8.0000   6.2097       50\n",
      "4.000919 3.752724           32           32.0   8.0000   5.5210       53\n",
      "4.803549 5.606180           64           64.0   8.0000   7.7164       34\n",
      "4.736039 4.668528          128          128.0   8.0000   7.5639      197\n",
      "4.860949 4.985860          256          256.0   2.0000   4.3240      104\n",
      "4.961022 5.061094          512          512.0   2.0000   1.4250      256\n",
      "4.835743 4.710464         1024         1024.0   7.0000   9.1215      112\n",
      "4.617832 4.399922         2048         2048.0   8.0000   6.7197       31\n",
      "4.697543 4.777253         4096         4096.0   9.0000   2.9651      126\n",
      "4.591616 4.485689         8192         8192.0   1.0000   8.2458       59\n",
      "\n",
      "finished run\n",
      "number of examples = 11487\n",
      "weighted example sum = 11487.000000\n",
      "weighted label sum = 70128.000000\n",
      "average loss = 4.536717\n",
      "best constant = 6.104988\n",
      "total feature number = 1358209\n"
     ]
    }
   ],
   "source": [
    "! vw --initial_regressor result.model.vw --testonly --predictions predictions.txt airlines.test.vw"
   ]
  },
  {
   "cell_type": "code",
   "execution_count": 18,
   "metadata": {},
   "outputs": [
    {
     "data": {
      "text/plain": [
       "0.5547449450822988"
      ]
     },
     "execution_count": 18,
     "metadata": {},
     "output_type": "execute_result"
    }
   ],
   "source": [
    "calc_r2('predictions.txt', 'airlines.test.vw')"
   ]
  },
  {
   "cell_type": "markdown",
   "metadata": {},
   "source": [
    "Base model results in **0.55** score. Solutions scoring not less than **0.56** will be scored as 100 points. All solutions with lower score will be measured correspondingly to the resulting quality.\n",
    "\n",
    "The result of your work should be a Zip archive named `result.zip`, that includes two files - `airlines.train.vw` and `airlines.test.vw` (exact names!) with your encoded features. It is important to save the order and amount of objects in each file. Solutions that will change order and/or the dataset would be scored as 0 points.\n",
    "\n",
    "Those two files would be used to train vw model with same params as base one. Exactly: `vw --final_regressor result.model.vw airlines.train.vw --learning_rate 5 --bit_precision 18 --passes 20 -c -k`. After that the r2 score would be measured on file `airlines.test.vw` by running the same command as the solution above.\n",
    "\n",
    "So, if you would like to pass the baseline solution as yours, you'd use the following script:"
   ]
  },
  {
   "cell_type": "code",
   "execution_count": 19,
   "metadata": {},
   "outputs": [
    {
     "name": "stdout",
     "output_type": "stream",
     "text": [
      "  adding: airlines.train.vw (deflated 65%)\n",
      "  adding: airlines.test.vw (deflated 65%)\n"
     ]
    }
   ],
   "source": [
    "! zip result.zip airlines.train.vw airlines.test.vw"
   ]
  },
  {
   "cell_type": "code",
   "execution_count": 20,
   "metadata": {},
   "outputs": [
    {
     "name": "stdout",
     "output_type": "stream",
     "text": [
      "PK\u0003\u0004\u0014\u0000\u0000\u0000\b\u0000\u000eW\u001d",
      "Sj��\u000e�\u0005N\u0000I��\u0000\u0011\u0000\u001c",
      "\u0000airlines.train.vwUT\t\u0000\u0003�g+a�g+aux\u000b",
      "\u0000\u0001\u0004�\u0003\u0000\u0000\u0004d\u0000\u0000\u0000��i��ʒ4\u0000��V�\u0015�Q�ƻ� \t�\u0010A"
     ]
    }
   ],
   "source": [
    "! head -c 100 result.zip"
   ]
  }
 ],
 "metadata": {
  "coursera": {
   "schema_names": [
    "2-embeddings-task-00457c"
   ]
  },
  "kernelspec": {
   "display_name": "Python 3",
   "language": "python",
   "name": "python3"
  },
  "language_info": {
   "codemirror_mode": {
    "name": "ipython",
    "version": 3
   },
   "file_extension": ".py",
   "mimetype": "text/x-python",
   "name": "python",
   "nbconvert_exporter": "python",
   "pygments_lexer": "ipython3",
   "version": "3.8.5"
  }
 },
 "nbformat": 4,
 "nbformat_minor": 4
}
