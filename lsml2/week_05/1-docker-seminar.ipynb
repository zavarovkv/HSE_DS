{
 "cells": [
  {
   "cell_type": "markdown",
   "metadata": {},
   "source": [
    "<img src=\"img/docker-logo.png\">\n",
    "https://www.docker.com/"
   ]
  },
  {
   "cell_type": "markdown",
   "metadata": {},
   "source": [
    "# Docker\n",
    "\n",
    "Docker is the most popular application containerization system. For technical reasons, we do not have the opportunity to run and demonstrate Docker capabilities inside Coursera Labs, since they themselves use Docker for their work.\n",
    "\n",
    "Therefore, to demonstrate the capabilities of docker, we will use the service **play-with-docker.com**, which is sponsored by the developers themselves.\n",
    "This service allows you to run a virtual environment for 4 hours with docker tools installed.\n",
    "\n",
    "[Open Play With Docker](https://labs.play-with-docker.com/)\n",
    "\n",
    "To work with this service, you need to register on the official website docker.com.\n",
    "\n",
    "Below in the laptop there will be commands that can be run inside play with docker."
   ]
  },
  {
   "cell_type": "markdown",
   "metadata": {},
   "source": [
    "The first thing to do is create a new instance (virtual machine). For the current tasks, exactly one machine is enough for us. In the next lab we will analyze how to manage a cluster of machines at once."
   ]
  },
  {
   "cell_type": "code",
   "execution_count": null,
   "metadata": {},
   "outputs": [],
   "source": []
  },
  {
   "cell_type": "markdown",
   "metadata": {},
   "source": [
    "# Dockerfile\n",
    "\n",
    "Let's create a Dockerfile. We will write development documentation in it."
   ]
  },
  {
   "cell_type": "markdown",
   "metadata": {},
   "source": [
    "```bash\n",
    "touch Dockerfile\n",
    "```"
   ]
  },
  {
   "cell_type": "markdown",
   "metadata": {},
   "source": [
    "After creating the file, you can click `Editor` and add the file content through the site's graphical interface.\n",
    "Let's add there the simplest dockerfile that was in the lecture."
   ]
  },
  {
   "cell_type": "markdown",
   "metadata": {},
   "source": [
    "```dockerfile\n",
    "FROM ubuntu:16.04\n",
    "\n",
    "ENTRYPOINT [\"/bin/bash\", \"-c\", \"echo hello\"]\n",
    "\n",
    "```"
   ]
  },
  {
   "cell_type": "markdown",
   "metadata": {},
   "source": [
    "Let's build this container and name it `my-first-container`"
   ]
  },
  {
   "cell_type": "markdown",
   "metadata": {},
   "source": [
    "```bash\n",
    "docker build -t my-first-container:latest .\n",
    "```"
   ]
  },
  {
   "cell_type": "markdown",
   "metadata": {},
   "source": [
    "Great, the container is ready!\n",
    "\n",
    "Let's run it\n",
    "\n",
    "```bash\n",
    "docker run my-first-container:latest\n",
    "```\n",
    "\n",
    "If everything was done correctly, a cheerful hello should be displayed on the screen.\n",
    "\n",
    "\n",
    "# Containerizing the Python program\n",
    "\n",
    "Let's try to put together something more complex - for this we need Python.\n",
    "By default, it is not in the image. To make it appear in our container, you can either install it yourself or use the base image, which already has python.\n",
    "\n",
    "\n",
    "1 - Install it yourself\n",
    "```dockerfile\n",
    "FROM ubuntu:16.04\n",
    "\n",
    "RUN apt-get -y update && apt-get install python3 -y\n",
    "\n",
    "ENTRYPOINT [\"python3\", \"-c\", \"print('hello from python')\"]\n",
    "```\n",
    "\n",
    "2 - We use a ready-made image\n",
    "```dockerfile\n",
    "FROM python:3.7\n",
    "\n",
    "ENTRYPOINT [\"python3\", \"-c\", \"print('hello from python')\"]\n",
    "```\n",
    "\n",
    "We save any option in the Dockerfile, collect and check the performance of our container.\n",
    "\n",
    "```bash\n",
    "docker build -t my-python-hello:latest .\n",
    "docker run my-python-hello:latest\n",
    "```"
   ]
  },
  {
   "cell_type": "code",
   "execution_count": null,
   "metadata": {},
   "outputs": [],
   "source": []
  },
  {
   "cell_type": "markdown",
   "metadata": {},
   "source": [
    "# We pack the external script into a container\n",
    "\n",
    "It's time to add a more complex program to our container.\n",
    "\n",
    "Let's create application.py, add code to it that would display the current directory and its contents. We will then add this file to our container and run it.\n",
    "\n",
    "\n",
    "*application.py*\n",
    "```python\n",
    "import os\n",
    "\n",
    "print(\"Right now I am here - {}\".format(os.getcwd()))\n",
    "\n",
    "content = os.listdir('.')\n",
    "print(\"There are {} elements in this directory\".format(len(content)))\n",
    "for element in content:\n",
    "    print(element)\n",
    "```\n",
    "\n",
    "\n",
    "Before assembling, check that the file itself is successfully launched.\n",
    "\n",
    "```bash\n",
    "python3 application.py\n",
    "```\n",
    "\n",
    "\n",
    "Now let's collect\n",
    "\n",
    "*Dockerfile*\n",
    "```dockerfile\n",
    "FROM python:3.7\n",
    "\n",
    "COPY application.py application.py\n",
    "\n",
    "ENTRYPOINT [\"python3\", \"application.py\"]\n",
    "```\n",
    "\n",
    "and run inside the container\n",
    "\n",
    "\n",
    "```bash\n",
    "docker build -t python-ls:latest .\n",
    "docker run python-ls:latest\n",
    "```\n",
    "\n",
    "It is important to note that the output of the program is different! This is because the application in the container is isolated from the main operating system and internally has its own file system."
   ]
  },
  {
   "cell_type": "code",
   "execution_count": null,
   "metadata": {},
   "outputs": [],
   "source": []
  },
  {
   "cell_type": "markdown",
   "metadata": {},
   "source": [
    "# Forwarding command line parameters\n",
    "\n",
    "For the program inside the container to be useful, you need to learn how to communicate with it from the outside.\n",
    "\n",
    "The most basic way is parameter forwarding. All parameters that will be passed after the container name in the `docker run` command will be passed inside the container as normal parameters.\n",
    "\n",
    "Let's create a python program that will receive a number and print the word Hello the specified number of times.\n",
    "\n",
    "*application.py*\n",
    "```python\n",
    "import sys\n",
    "\n",
    "N = int(sys.argv[1])\n",
    "for i in range(N):\n",
    "    print(\"Hello\")\n",
    "   \n",
    "```\n",
    "\n",
    "Now let's collect and try to run with parameters\n",
    "\n",
    "```bash\n",
    "docker build -t python-hello:latest .\n",
    "docker run python-hello:latest 3\n",
    "docker run python-hello:latest 10\n",
    "```"
   ]
  },
  {
   "cell_type": "code",
   "execution_count": null,
   "metadata": {},
   "outputs": [],
   "source": []
  },
  {
   "cell_type": "markdown",
   "metadata": {},
   "source": [
    "# Mounting a directory\n",
    "\n",
    "The next way to interact with the container is to mount the directory. The mounted directory becomes shared between the container and the host operating system. This allows you to transfer some files to the docker for processing, as well as receive some file results from the docker.\n",
    "\n",
    "Modify our previous program to show the state of the `/sync-folder` directory into which we will mount various directories externally.\n",
    "\n",
    "\n",
    "*application.py*\n",
    "```python\n",
    "import os\n",
    "import sys\n",
    "\n",
    "target_dir = sys.argv[1]\n",
    "\n",
    "print(\"Observe directory - {}\".format(target_dir))\n",
    "\n",
    "content = os.listdir(target_dir)\n",
    "print(\"There are {} elements in this directory\".format(len(content)))\n",
    "for element in content:\n",
    "    print(element)\n",
    "```\n",
    "\n",
    "Now let's build and try to run with a mounted directory. To mount, you need to specify the `-v` flag in which you specify, separated by a colon, which directories we want to synchronize. The first directory is from the main OS, the second is inside the container.\n",
    "\n",
    "```bash\n",
    "docker build -t python-ls:latest .\n",
    "\n",
    "docker run -v /root:/sync-folder python-ls:latest /sync-folder\n",
    "docker run -v /:/sync-folder python-ls:latest /sync-folder\n",
    "```\n",
    "\n",
    "If we do not specify the mount options, then such a directory will not appear inside the container and, accordingly, our program will simply crash without finding it.\n",
    "\n",
    "```bash\n",
    "docker run python-ls:latest\n",
    "```"
   ]
  },
  {
   "cell_type": "code",
   "execution_count": null,
   "metadata": {},
   "outputs": [],
   "source": []
  },
  {
   "cell_type": "markdown",
   "metadata": {},
   "source": [
    "# Port forwarding\n",
    "\n",
    "The most common way to communicate with a container is port forwarding. For this, two ports are specified - one for the main OS, the second for the container. All connections to the external port will be forwarded to the inside of the container. For forwarding, you need to use the `-p` switch - the format is exactly the same as for` -v`.\n",
    "\n",
    "To demonstrate this functionality, we will use the http.server module built into python, which brings up the file server in the directory from which it was launched. First, let's just check how it works.\n",
    "\n",
    "\n",
    "Let's run\n",
    "\n",
    "```bash\n",
    "python3 -m http.server --bind 0.0.0.0 8000\n",
    "```\n",
    "\n",
    "This should start the file server in the current directory.\n",
    "\n",
    "To check that it works, click on `OPEN PORT` and specify 8000 there.\n",
    "\n",
    "In the browser, we should see the contents of the current directory.\n",
    "\n",
    "Let's try now to pack it inside the container.\n",
    "\n",
    "\n",
    "*Dockerfile*\n",
    "```dockerfile\n",
    "FROM python:3.7\n",
    "\n",
    "WORKDIR /sync-folder\n",
    "\n",
    "ENTRYPOINT [\"python3\", \"-m\", \"http.server\", \"--bind\", \"0.0.0.0\", \"8080\"]\n",
    "```\n",
    "\n",
    "We collect and check\n",
    "\n",
    "```bash\n",
    "docker build -t python-server:latest .\n",
    "docker run -v /root:/sync-folder -p 9090:8080 python-server:latest\n",
    "```\n",
    "\n",
    "Open port 9090 with `OPEN PORT` and check what really works\n",
    "\n",
    "A diagram of how it works:\n",
    "<img src=\"img/python-server-schema.png\">\n",
    "\n",
    "Now this container can be used even on machines that don't have Python installed! All dependencies are already inside the container and only Docker is required to run."
   ]
  },
  {
   "cell_type": "code",
   "execution_count": null,
   "metadata": {},
   "outputs": [],
   "source": []
  }
 ],
 "metadata": {
  "kernelspec": {
   "display_name": "Python 3",
   "language": "python",
   "name": "python3"
  },
  "language_info": {
   "codemirror_mode": {
    "name": "ipython",
    "version": 3
   },
   "file_extension": ".py",
   "mimetype": "text/x-python",
   "name": "python",
   "nbconvert_exporter": "python",
   "pygments_lexer": "ipython3",
   "version": "3.6.5"
  },
  "toc": {
   "base_numbering": 1,
   "nav_menu": {},
   "number_sections": true,
   "sideBar": true,
   "skip_h1_title": false,
   "title_cell": "Table of Contents",
   "title_sidebar": "Contents",
   "toc_cell": false,
   "toc_position": {},
   "toc_section_display": true,
   "toc_window_display": false
  }
 },
 "nbformat": 4,
 "nbformat_minor": 2
}
