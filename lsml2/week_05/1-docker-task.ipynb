{
 "cells": [
  {
   "cell_type": "markdown",
   "metadata": {},
   "source": [
    "# Task\n",
    "\n",
    "Text is encrypted in the `secret.txt` file. There is a public image `adkosmos / decryptor: latest` - it can decrypt this file. It is necessary to use this image to decrypt the `secret.txt` file. The decoded text must be written to `result.txt`.\n",
    "\n",
    "The image itself works as follows - it takes the path to the file to be decoded as command line arguments. It prints the decoded information to the screen. It is necessary to forward the `secret.txt` file inside this container, decode the contents, copy and paste it into` result.txt` here."
   ]
  },
  {
   "cell_type": "code",
   "execution_count": 1,
   "metadata": {},
   "outputs": [
    {
     "name": "stdout",
     "output_type": "stream",
     "text": [
      "gAAAAABfP9sWsseqRuN7fTxgiUcpBHJFaQIQ7AYTrvnKJCNwxOHJ9DkOesRYjvFH8HOn_yR-wBoNjSduJteSeSEJqX8XF28zzOq8_ogrX6jfnXOPcHlc3rhSu871DYb2h5MFs3wkGIoGDkywmSI4_PCIMSimpmWLDJH__VDTpk8Y9sq35R2dLhKcyo5Z7h5st6CwzJkpPRe3"
     ]
    }
   ],
   "source": [
    "! cat secret.txt"
   ]
  },
  {
   "cell_type": "code",
   "execution_count": 2,
   "metadata": {},
   "outputs": [
    {
     "name": "stdout",
     "output_type": "stream",
     "text": [
      "Writing result.txt\n"
     ]
    }
   ],
   "source": [
    "%%writefile result.txt\n",
    "Somebody once told me the world is gonna roll me, I ain't the sharpest tool in the shed."
   ]
  }
 ],
 "metadata": {
  "coursera": {
   "schema_names": [
    "1-docker-task"
   ]
  },
  "kernelspec": {
   "display_name": "Python 3",
   "language": "python",
   "name": "python3"
  },
  "language_info": {
   "codemirror_mode": {
    "name": "ipython",
    "version": 3
   },
   "file_extension": ".py",
   "mimetype": "text/x-python",
   "name": "python",
   "nbconvert_exporter": "python",
   "pygments_lexer": "ipython3",
   "version": "3.6.5"
  },
  "toc": {
   "base_numbering": 1,
   "nav_menu": {},
   "number_sections": true,
   "sideBar": true,
   "skip_h1_title": false,
   "title_cell": "Table of Contents",
   "title_sidebar": "Contents",
   "toc_cell": false,
   "toc_position": {},
   "toc_section_display": true,
   "toc_window_display": false
  }
 },
 "nbformat": 4,
 "nbformat_minor": 2
}
