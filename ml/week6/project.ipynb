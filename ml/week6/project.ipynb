{
 "cells": [
  {
   "cell_type": "code",
   "execution_count": 97,
   "metadata": {},
   "outputs": [],
   "source": [
    "import numpy as np\n",
    "import pandas as pd\n",
    "\n",
    "import matplotlib.pyplot as plt"
   ]
  },
  {
   "cell_type": "markdown",
   "metadata": {},
   "source": [
    "This is a template for your final project. "
   ]
  },
  {
   "cell_type": "code",
   "execution_count": 98,
   "metadata": {},
   "outputs": [
    {
     "data": {
      "text/html": [
       "<div>\n",
       "<style scoped>\n",
       "    .dataframe tbody tr th:only-of-type {\n",
       "        vertical-align: middle;\n",
       "    }\n",
       "\n",
       "    .dataframe tbody tr th {\n",
       "        vertical-align: top;\n",
       "    }\n",
       "\n",
       "    .dataframe thead th {\n",
       "        text-align: right;\n",
       "    }\n",
       "</style>\n",
       "<table border=\"1\" class=\"dataframe\">\n",
       "  <thead>\n",
       "    <tr style=\"text-align: right;\">\n",
       "      <th></th>\n",
       "      <th>imdb_title_id</th>\n",
       "      <th>title</th>\n",
       "      <th>original_title</th>\n",
       "      <th>year</th>\n",
       "      <th>date_published</th>\n",
       "      <th>genre</th>\n",
       "      <th>duration</th>\n",
       "      <th>country</th>\n",
       "      <th>language</th>\n",
       "      <th>director</th>\n",
       "      <th>...</th>\n",
       "      <th>actors</th>\n",
       "      <th>description</th>\n",
       "      <th>avg_vote</th>\n",
       "      <th>votes</th>\n",
       "      <th>budget</th>\n",
       "      <th>usa_gross_income</th>\n",
       "      <th>worlwide_gross_income</th>\n",
       "      <th>metascore</th>\n",
       "      <th>reviews_from_users</th>\n",
       "      <th>reviews_from_critics</th>\n",
       "    </tr>\n",
       "  </thead>\n",
       "  <tbody>\n",
       "    <tr>\n",
       "      <th>0</th>\n",
       "      <td>tt0000574</td>\n",
       "      <td>The Story of the Kelly Gang</td>\n",
       "      <td>The Story of the Kelly Gang</td>\n",
       "      <td>1906</td>\n",
       "      <td>1906-12-26</td>\n",
       "      <td>Biography, Crime, Drama</td>\n",
       "      <td>70</td>\n",
       "      <td>Australia</td>\n",
       "      <td>NaN</td>\n",
       "      <td>Charles Tait</td>\n",
       "      <td>...</td>\n",
       "      <td>Elizabeth Tait, John Tait, Norman Campbell, Be...</td>\n",
       "      <td>True story of notorious Australian outlaw Ned ...</td>\n",
       "      <td>6.1</td>\n",
       "      <td>537</td>\n",
       "      <td>$ 2250</td>\n",
       "      <td>NaN</td>\n",
       "      <td>NaN</td>\n",
       "      <td>NaN</td>\n",
       "      <td>7.0</td>\n",
       "      <td>7.0</td>\n",
       "    </tr>\n",
       "  </tbody>\n",
       "</table>\n",
       "<p>1 rows × 22 columns</p>\n",
       "</div>"
      ],
      "text/plain": [
       "  imdb_title_id                        title               original_title  \\\n",
       "0     tt0000574  The Story of the Kelly Gang  The Story of the Kelly Gang   \n",
       "\n",
       "   year date_published                    genre  duration    country language  \\\n",
       "0  1906     1906-12-26  Biography, Crime, Drama        70  Australia      NaN   \n",
       "\n",
       "       director  ...                                             actors  \\\n",
       "0  Charles Tait  ...  Elizabeth Tait, John Tait, Norman Campbell, Be...   \n",
       "\n",
       "                                         description avg_vote votes  budget  \\\n",
       "0  True story of notorious Australian outlaw Ned ...      6.1   537  $ 2250   \n",
       "\n",
       "   usa_gross_income worlwide_gross_income metascore reviews_from_users  \\\n",
       "0               NaN                   NaN       NaN                7.0   \n",
       "\n",
       "   reviews_from_critics  \n",
       "0                   7.0  \n",
       "\n",
       "[1 rows x 22 columns]"
      ]
     },
     "execution_count": 98,
     "metadata": {},
     "output_type": "execute_result"
    }
   ],
   "source": [
    "full_dataset = pd.read_csv('IMDb movies.csv')\n",
    "full_dataset.head(1)"
   ]
  },
  {
   "cell_type": "markdown",
   "metadata": {},
   "source": [
    "### Format dataset"
   ]
  },
  {
   "cell_type": "code",
   "execution_count": 99,
   "metadata": {},
   "outputs": [
    {
     "data": {
      "text/plain": [
       "imdb_title_id             object\n",
       "title                     object\n",
       "original_title            object\n",
       "year                       int64\n",
       "date_published            object\n",
       "genre                     object\n",
       "duration                   int64\n",
       "country                   object\n",
       "language                  object\n",
       "director                  object\n",
       "writer                    object\n",
       "production_company        object\n",
       "actors                    object\n",
       "description               object\n",
       "avg_vote                 float64\n",
       "votes                      int64\n",
       "budget                    object\n",
       "usa_gross_income          object\n",
       "worlwide_gross_income     object\n",
       "metascore                float64\n",
       "reviews_from_users       float64\n",
       "reviews_from_critics     float64\n",
       "dtype: object"
      ]
     },
     "execution_count": 99,
     "metadata": {},
     "output_type": "execute_result"
    }
   ],
   "source": [
    "full_dataset.dtypes"
   ]
  },
  {
   "cell_type": "code",
   "execution_count": 100,
   "metadata": {},
   "outputs": [
    {
     "data": {
      "text/plain": [
       "imdb_title_id                0\n",
       "title                        0\n",
       "original_title               0\n",
       "year                         0\n",
       "date_published               0\n",
       "genre                        0\n",
       "duration                     0\n",
       "country                      5\n",
       "language                   439\n",
       "director                    24\n",
       "writer                     808\n",
       "production_company        2744\n",
       "actors                      30\n",
       "description               1993\n",
       "avg_vote                     0\n",
       "votes                        0\n",
       "budget                   43379\n",
       "usa_gross_income         48306\n",
       "worlwide_gross_income    41062\n",
       "metascore                51386\n",
       "reviews_from_users        4069\n",
       "reviews_from_critics      8229\n",
       "dtype: int64"
      ]
     },
     "execution_count": 100,
     "metadata": {},
     "output_type": "execute_result"
    }
   ],
   "source": [
    "full_dataset.isnull().sum()"
   ]
  },
  {
   "cell_type": "markdown",
   "metadata": {},
   "source": [
    "Features: genre, country, actors, writer are all in list of strings. Convert to simple list."
   ]
  },
  {
   "cell_type": "code",
   "execution_count": 101,
   "metadata": {},
   "outputs": [],
   "source": [
    "def get_list_value(s):\n",
    "    s = str(s).split(',')\n",
    "    s = [x.strip(' ') for x in s]\n",
    "    \n",
    "    if len(s) < 1:\n",
    "        return 'Unknown'\n",
    "    if len(s) == 1 and s[0] == 'nan':\n",
    "        return 'Unknown'\n",
    "\n",
    "    return s"
   ]
  },
  {
   "cell_type": "code",
   "execution_count": 102,
   "metadata": {},
   "outputs": [],
   "source": [
    "upd_ds = full_dataset.copy()\n",
    "\n",
    "upd_ds['genre']   = full_dataset['genre'].apply(get_list_value)\n",
    "upd_ds['country'] = full_dataset['country'].apply(get_list_value)\n",
    "upd_ds['actors']  = full_dataset['actors'].apply(get_list_value)\n",
    "upd_ds['writer']  = full_dataset['writer'].apply(get_list_value)\n",
    "upd_ds['language']  = full_dataset['language'].apply(get_list_value)"
   ]
  },
  {
   "cell_type": "code",
   "execution_count": 103,
   "metadata": {},
   "outputs": [
    {
     "data": {
      "text/html": [
       "<div>\n",
       "<style scoped>\n",
       "    .dataframe tbody tr th:only-of-type {\n",
       "        vertical-align: middle;\n",
       "    }\n",
       "\n",
       "    .dataframe tbody tr th {\n",
       "        vertical-align: top;\n",
       "    }\n",
       "\n",
       "    .dataframe thead th {\n",
       "        text-align: right;\n",
       "    }\n",
       "</style>\n",
       "<table border=\"1\" class=\"dataframe\">\n",
       "  <thead>\n",
       "    <tr style=\"text-align: right;\">\n",
       "      <th></th>\n",
       "      <th>imdb_title_id</th>\n",
       "      <th>title</th>\n",
       "      <th>original_title</th>\n",
       "      <th>year</th>\n",
       "      <th>date_published</th>\n",
       "      <th>genre</th>\n",
       "      <th>duration</th>\n",
       "      <th>country</th>\n",
       "      <th>language</th>\n",
       "      <th>director</th>\n",
       "      <th>...</th>\n",
       "      <th>actors</th>\n",
       "      <th>description</th>\n",
       "      <th>avg_vote</th>\n",
       "      <th>votes</th>\n",
       "      <th>budget</th>\n",
       "      <th>usa_gross_income</th>\n",
       "      <th>worlwide_gross_income</th>\n",
       "      <th>metascore</th>\n",
       "      <th>reviews_from_users</th>\n",
       "      <th>reviews_from_critics</th>\n",
       "    </tr>\n",
       "  </thead>\n",
       "  <tbody>\n",
       "    <tr>\n",
       "      <th>0</th>\n",
       "      <td>tt0000574</td>\n",
       "      <td>The Story of the Kelly Gang</td>\n",
       "      <td>The Story of the Kelly Gang</td>\n",
       "      <td>1906</td>\n",
       "      <td>1906-12-26</td>\n",
       "      <td>[Biography, Crime, Drama]</td>\n",
       "      <td>70</td>\n",
       "      <td>[Australia]</td>\n",
       "      <td>Unknown</td>\n",
       "      <td>Charles Tait</td>\n",
       "      <td>...</td>\n",
       "      <td>[Elizabeth Tait, John Tait, Norman Campbell, B...</td>\n",
       "      <td>True story of notorious Australian outlaw Ned ...</td>\n",
       "      <td>6.1</td>\n",
       "      <td>537</td>\n",
       "      <td>$ 2250</td>\n",
       "      <td>NaN</td>\n",
       "      <td>NaN</td>\n",
       "      <td>NaN</td>\n",
       "      <td>7.0</td>\n",
       "      <td>7.0</td>\n",
       "    </tr>\n",
       "  </tbody>\n",
       "</table>\n",
       "<p>1 rows × 22 columns</p>\n",
       "</div>"
      ],
      "text/plain": [
       "  imdb_title_id                        title               original_title  \\\n",
       "0     tt0000574  The Story of the Kelly Gang  The Story of the Kelly Gang   \n",
       "\n",
       "   year date_published                      genre  duration      country  \\\n",
       "0  1906     1906-12-26  [Biography, Crime, Drama]        70  [Australia]   \n",
       "\n",
       "  language      director  ...  \\\n",
       "0  Unknown  Charles Tait  ...   \n",
       "\n",
       "                                              actors  \\\n",
       "0  [Elizabeth Tait, John Tait, Norman Campbell, B...   \n",
       "\n",
       "                                         description avg_vote votes  budget  \\\n",
       "0  True story of notorious Australian outlaw Ned ...      6.1   537  $ 2250   \n",
       "\n",
       "   usa_gross_income worlwide_gross_income metascore reviews_from_users  \\\n",
       "0               NaN                   NaN       NaN                7.0   \n",
       "\n",
       "   reviews_from_critics  \n",
       "0                   7.0  \n",
       "\n",
       "[1 rows x 22 columns]"
      ]
     },
     "execution_count": 103,
     "metadata": {},
     "output_type": "execute_result"
    }
   ],
   "source": [
    "upd_ds.head(1)"
   ]
  },
  {
   "cell_type": "code",
   "execution_count": 104,
   "metadata": {},
   "outputs": [
    {
     "name": "stdout",
     "output_type": "stream",
     "text": [
      "imdb_title_id             True\n",
      "title                     True\n",
      "original_title            True\n",
      "year                      True\n",
      "date_published            True\n",
      "genre                     True\n",
      "duration                  True\n",
      "country                   True\n",
      "language                  True\n",
      "director                  True\n",
      "writer                    True\n",
      "production_company        True\n",
      "actors                    True\n",
      "description               True\n",
      "avg_vote                  True\n",
      "votes                     True\n",
      "budget                   False\n",
      "usa_gross_income         False\n",
      "worlwide_gross_income    False\n",
      "metascore                False\n",
      "reviews_from_users        True\n",
      "reviews_from_critics     False\n",
      "dtype: bool\n"
     ]
    }
   ],
   "source": [
    "# Drop all columns with more than 8% null values.\n",
    "\n",
    "drop_cols    = upd_ds.isnull().sum()/len(upd_ds) <= 0.08\n",
    "upd_ds       = upd_ds.loc[:, drop_cols]\n",
    "\n",
    "print(drop_cols)"
   ]
  },
  {
   "cell_type": "code",
   "execution_count": 105,
   "metadata": {
    "scrolled": true
   },
   "outputs": [
    {
     "data": {
      "text/html": [
       "<div>\n",
       "<style scoped>\n",
       "    .dataframe tbody tr th:only-of-type {\n",
       "        vertical-align: middle;\n",
       "    }\n",
       "\n",
       "    .dataframe tbody tr th {\n",
       "        vertical-align: top;\n",
       "    }\n",
       "\n",
       "    .dataframe thead th {\n",
       "        text-align: right;\n",
       "    }\n",
       "</style>\n",
       "<table border=\"1\" class=\"dataframe\">\n",
       "  <thead>\n",
       "    <tr style=\"text-align: right;\">\n",
       "      <th></th>\n",
       "      <th>imdb_title_id</th>\n",
       "      <th>title</th>\n",
       "      <th>original_title</th>\n",
       "      <th>year</th>\n",
       "      <th>date_published</th>\n",
       "      <th>genre</th>\n",
       "      <th>duration</th>\n",
       "      <th>country</th>\n",
       "      <th>language</th>\n",
       "      <th>director</th>\n",
       "      <th>writer</th>\n",
       "      <th>production_company</th>\n",
       "      <th>actors</th>\n",
       "      <th>description</th>\n",
       "      <th>avg_vote</th>\n",
       "      <th>votes</th>\n",
       "      <th>reviews_from_users</th>\n",
       "    </tr>\n",
       "  </thead>\n",
       "  <tbody>\n",
       "    <tr>\n",
       "      <th>0</th>\n",
       "      <td>tt0000574</td>\n",
       "      <td>The Story of the Kelly Gang</td>\n",
       "      <td>The Story of the Kelly Gang</td>\n",
       "      <td>1906</td>\n",
       "      <td>1906-12-26</td>\n",
       "      <td>[Biography, Crime, Drama]</td>\n",
       "      <td>70</td>\n",
       "      <td>[Australia]</td>\n",
       "      <td>Unknown</td>\n",
       "      <td>Charles Tait</td>\n",
       "      <td>[Charles Tait]</td>\n",
       "      <td>J. and N. Tait</td>\n",
       "      <td>[Elizabeth Tait, John Tait, Norman Campbell, B...</td>\n",
       "      <td>True story of notorious Australian outlaw Ned ...</td>\n",
       "      <td>6.1</td>\n",
       "      <td>537</td>\n",
       "      <td>7.0</td>\n",
       "    </tr>\n",
       "    <tr>\n",
       "      <th>1</th>\n",
       "      <td>tt0001892</td>\n",
       "      <td>Den sorte drøm</td>\n",
       "      <td>Den sorte drøm</td>\n",
       "      <td>1911</td>\n",
       "      <td>1911-08-19</td>\n",
       "      <td>[Drama]</td>\n",
       "      <td>53</td>\n",
       "      <td>[Germany, Denmark]</td>\n",
       "      <td>Unknown</td>\n",
       "      <td>Urban Gad</td>\n",
       "      <td>[Urban Gad, Gebhard Schätzler-Perasini]</td>\n",
       "      <td>Fotorama</td>\n",
       "      <td>[Asta Nielsen, Valdemar Psilander, Gunnar Hels...</td>\n",
       "      <td>Two men of high rank are both wooing the beaut...</td>\n",
       "      <td>5.9</td>\n",
       "      <td>171</td>\n",
       "      <td>4.0</td>\n",
       "    </tr>\n",
       "    <tr>\n",
       "      <th>2</th>\n",
       "      <td>tt0002101</td>\n",
       "      <td>Cleopatra</td>\n",
       "      <td>Cleopatra</td>\n",
       "      <td>1912</td>\n",
       "      <td>1912-11-13</td>\n",
       "      <td>[Drama, History]</td>\n",
       "      <td>100</td>\n",
       "      <td>[USA]</td>\n",
       "      <td>[English]</td>\n",
       "      <td>Charles L. Gaskill</td>\n",
       "      <td>[Victorien Sardou]</td>\n",
       "      <td>Helen Gardner Picture Players</td>\n",
       "      <td>[Helen Gardner, Pearl Sindelar, Miss Fielding,...</td>\n",
       "      <td>The fabled queen of Egypt's affair with Roman ...</td>\n",
       "      <td>5.2</td>\n",
       "      <td>420</td>\n",
       "      <td>24.0</td>\n",
       "    </tr>\n",
       "  </tbody>\n",
       "</table>\n",
       "</div>"
      ],
      "text/plain": [
       "  imdb_title_id                        title               original_title  \\\n",
       "0     tt0000574  The Story of the Kelly Gang  The Story of the Kelly Gang   \n",
       "1     tt0001892               Den sorte drøm               Den sorte drøm   \n",
       "2     tt0002101                    Cleopatra                    Cleopatra   \n",
       "\n",
       "   year date_published                      genre  duration  \\\n",
       "0  1906     1906-12-26  [Biography, Crime, Drama]        70   \n",
       "1  1911     1911-08-19                    [Drama]        53   \n",
       "2  1912     1912-11-13           [Drama, History]       100   \n",
       "\n",
       "              country   language            director  \\\n",
       "0         [Australia]    Unknown        Charles Tait   \n",
       "1  [Germany, Denmark]    Unknown           Urban Gad   \n",
       "2               [USA]  [English]  Charles L. Gaskill   \n",
       "\n",
       "                                    writer             production_company  \\\n",
       "0                           [Charles Tait]                 J. and N. Tait   \n",
       "1  [Urban Gad, Gebhard Schätzler-Perasini]                       Fotorama   \n",
       "2                       [Victorien Sardou]  Helen Gardner Picture Players   \n",
       "\n",
       "                                              actors  \\\n",
       "0  [Elizabeth Tait, John Tait, Norman Campbell, B...   \n",
       "1  [Asta Nielsen, Valdemar Psilander, Gunnar Hels...   \n",
       "2  [Helen Gardner, Pearl Sindelar, Miss Fielding,...   \n",
       "\n",
       "                                         description  avg_vote  votes  \\\n",
       "0  True story of notorious Australian outlaw Ned ...       6.1    537   \n",
       "1  Two men of high rank are both wooing the beaut...       5.9    171   \n",
       "2  The fabled queen of Egypt's affair with Roman ...       5.2    420   \n",
       "\n",
       "   reviews_from_users  \n",
       "0                 7.0  \n",
       "1                 4.0  \n",
       "2                24.0  "
      ]
     },
     "execution_count": 105,
     "metadata": {},
     "output_type": "execute_result"
    }
   ],
   "source": [
    "upd_ds.head(3)"
   ]
  },
  {
   "cell_type": "code",
   "execution_count": 106,
   "metadata": {},
   "outputs": [],
   "source": [
    "upd_ds = upd_ds.drop(['imdb_title_id', 'title', 'year', 'date_published', 'description', 'votes', 'reviews_from_users'], axis=1)"
   ]
  },
  {
   "cell_type": "code",
   "execution_count": 107,
   "metadata": {
    "scrolled": true
   },
   "outputs": [
    {
     "data": {
      "text/html": [
       "<div>\n",
       "<style scoped>\n",
       "    .dataframe tbody tr th:only-of-type {\n",
       "        vertical-align: middle;\n",
       "    }\n",
       "\n",
       "    .dataframe tbody tr th {\n",
       "        vertical-align: top;\n",
       "    }\n",
       "\n",
       "    .dataframe thead th {\n",
       "        text-align: right;\n",
       "    }\n",
       "</style>\n",
       "<table border=\"1\" class=\"dataframe\">\n",
       "  <thead>\n",
       "    <tr style=\"text-align: right;\">\n",
       "      <th></th>\n",
       "      <th>original_title</th>\n",
       "      <th>genre</th>\n",
       "      <th>duration</th>\n",
       "      <th>country</th>\n",
       "      <th>language</th>\n",
       "      <th>director</th>\n",
       "      <th>writer</th>\n",
       "      <th>production_company</th>\n",
       "      <th>actors</th>\n",
       "      <th>avg_vote</th>\n",
       "    </tr>\n",
       "  </thead>\n",
       "  <tbody>\n",
       "    <tr>\n",
       "      <th>0</th>\n",
       "      <td>The Story of the Kelly Gang</td>\n",
       "      <td>[Biography, Crime, Drama]</td>\n",
       "      <td>70</td>\n",
       "      <td>[Australia]</td>\n",
       "      <td>Unknown</td>\n",
       "      <td>Charles Tait</td>\n",
       "      <td>[Charles Tait]</td>\n",
       "      <td>J. and N. Tait</td>\n",
       "      <td>[Elizabeth Tait, John Tait, Norman Campbell, B...</td>\n",
       "      <td>6.1</td>\n",
       "    </tr>\n",
       "    <tr>\n",
       "      <th>1</th>\n",
       "      <td>Den sorte drøm</td>\n",
       "      <td>[Drama]</td>\n",
       "      <td>53</td>\n",
       "      <td>[Germany, Denmark]</td>\n",
       "      <td>Unknown</td>\n",
       "      <td>Urban Gad</td>\n",
       "      <td>[Urban Gad, Gebhard Schätzler-Perasini]</td>\n",
       "      <td>Fotorama</td>\n",
       "      <td>[Asta Nielsen, Valdemar Psilander, Gunnar Hels...</td>\n",
       "      <td>5.9</td>\n",
       "    </tr>\n",
       "    <tr>\n",
       "      <th>2</th>\n",
       "      <td>Cleopatra</td>\n",
       "      <td>[Drama, History]</td>\n",
       "      <td>100</td>\n",
       "      <td>[USA]</td>\n",
       "      <td>[English]</td>\n",
       "      <td>Charles L. Gaskill</td>\n",
       "      <td>[Victorien Sardou]</td>\n",
       "      <td>Helen Gardner Picture Players</td>\n",
       "      <td>[Helen Gardner, Pearl Sindelar, Miss Fielding,...</td>\n",
       "      <td>5.2</td>\n",
       "    </tr>\n",
       "  </tbody>\n",
       "</table>\n",
       "</div>"
      ],
      "text/plain": [
       "                original_title                      genre  duration  \\\n",
       "0  The Story of the Kelly Gang  [Biography, Crime, Drama]        70   \n",
       "1               Den sorte drøm                    [Drama]        53   \n",
       "2                    Cleopatra           [Drama, History]       100   \n",
       "\n",
       "              country   language            director  \\\n",
       "0         [Australia]    Unknown        Charles Tait   \n",
       "1  [Germany, Denmark]    Unknown           Urban Gad   \n",
       "2               [USA]  [English]  Charles L. Gaskill   \n",
       "\n",
       "                                    writer             production_company  \\\n",
       "0                           [Charles Tait]                 J. and N. Tait   \n",
       "1  [Urban Gad, Gebhard Schätzler-Perasini]                       Fotorama   \n",
       "2                       [Victorien Sardou]  Helen Gardner Picture Players   \n",
       "\n",
       "                                              actors  avg_vote  \n",
       "0  [Elizabeth Tait, John Tait, Norman Campbell, B...       6.1  \n",
       "1  [Asta Nielsen, Valdemar Psilander, Gunnar Hels...       5.9  \n",
       "2  [Helen Gardner, Pearl Sindelar, Miss Fielding,...       5.2  "
      ]
     },
     "execution_count": 107,
     "metadata": {},
     "output_type": "execute_result"
    }
   ],
   "source": [
    "upd_ds.head(3)"
   ]
  },
  {
   "cell_type": "markdown",
   "metadata": {},
   "source": [
    "### Part 1.\n",
    "\n",
    "Task formalization and Evaluation criteria\n",
    "\n",
    "1.1 Select your target variable, explain your choice. Separate target variable from the feature matrix."
   ]
  },
  {
   "cell_type": "markdown",
   "metadata": {},
   "source": [
    "I selected characteristics which can influence for success / not success of films. Other characteristics have been removed. Besides, characteristics which have NULL-values for more than 8% of all films, have been deleted by me too.\n",
    "\n",
    "Target vaeriable - film's rating (avg_vode). Number of film's views depends on film rating, and therefore, the rating affects the profit. I couldn't choose gross_income as a target variable, becouse it's doesn't known for most of films in out dataset."
   ]
  },
  {
   "cell_type": "markdown",
   "metadata": {},
   "source": [
    "Lets make an histogram for distribution of movie ratings (avg_vote)."
   ]
  },
  {
   "cell_type": "code",
   "execution_count": 108,
   "metadata": {},
   "outputs": [
    {
     "data": {
      "image/png": "[encoded data removed]",
      "text/plain": [
       "<Figure size 432x288 with 1 Axes>"
      ]
     },
     "metadata": {
      "needs_background": "light"
     },
     "output_type": "display_data"
    },
    {
     "name": "stdout",
     "output_type": "stream",
     "text": [
      "Minimum of Ratings: 1.0\n",
      "Maximum of Ratings: 10.0\n",
      "Average of Ratings: 6.0\n",
      "Variance of Ratings: 1.44\n"
     ]
    }
   ],
   "source": [
    "n, bins, patches = plt.hist(upd_ds['avg_vote'], 30, density=1)\n",
    "\n",
    "plt.xlabel('avg_vote')\n",
    "plt.ylabel('occurence')\n",
    "plt.title('Distribution of voter average')\n",
    "plt.grid(True)\n",
    "plt.show()\n",
    "\n",
    "print(\"Minimum of Ratings:\", round(min(upd_ds['avg_vote']),2))\n",
    "print(\"Maximum of Ratings:\", round(max(upd_ds['avg_vote']),2))\n",
    "print(\"Average of Ratings:\", round(np.mean(upd_ds['avg_vote']),2))\n",
    "print(\"Variance of Ratings:\",round(np.var(upd_ds['avg_vote']),2))"
   ]
  },
  {
   "cell_type": "code",
   "execution_count": 109,
   "metadata": {},
   "outputs": [],
   "source": [
    "# Drop objects from the dataset, if they have more than 50% of missing values\n",
    "\n",
    "def drop_uninformative_objects(X):\n",
    "    total_col = len(X.columns)\n",
    "    X_halfnull = X[(X.isnull().sum(axis=1)) / total_col > 0.5]\n",
    "    X_subset = X[~X.index.isin(X_halfnull.index)]\n",
    "    \n",
    "    return X_subset"
   ]
  },
  {
   "cell_type": "code",
   "execution_count": 110,
   "metadata": {},
   "outputs": [],
   "source": [
    "X = drop_uninformative_objects(upd_ds)"
   ]
  },
  {
   "cell_type": "markdown",
   "metadata": {},
   "source": [
    "Separate target variable from the feature matrix."
   ]
  },
  {
   "cell_type": "code",
   "execution_count": 111,
   "metadata": {},
   "outputs": [],
   "source": [
    "# y = X['avg_vote']\n",
    "# X = X.drop(['avg_vote'], axis = 1)"
   ]
  },
  {
   "cell_type": "markdown",
   "metadata": {},
   "source": [
    "1.2 Explain which task are you going to solve (is it a regression, classification or something else)? "
   ]
  },
  {
   "cell_type": "markdown",
   "metadata": {},
   "source": [
    "I will be solving a regression problem - predicting a rating based on a sample of objects with different characteristics. The output should be a real number (1.0, .., 10.0)."
   ]
  },
  {
   "cell_type": "markdown",
   "metadata": {},
   "source": [
    "1.3 Select a metric. Is it already implemented in sklearn? If yes, import it. If not, it is time to write a function which will calculate it. "
   ]
  },
  {
   "cell_type": "code",
   "execution_count": 143,
   "metadata": {},
   "outputs": [],
   "source": [
    "from sklearn.metrics import mean_squared_error"
   ]
  },
  {
   "cell_type": "markdown",
   "metadata": {},
   "source": [
    "### Part 2.\n",
    "\n",
    "Explore and preprocess the data\n"
   ]
  },
  {
   "cell_type": "markdown",
   "metadata": {},
   "source": [
    "2.2 Explore you data: make plots, print tables. Make sure to write your observations.  Do not forget to fill-in missing values, define relevant columns transformatios. \n",
    "\n"
   ]
  },
  {
   "cell_type": "code",
   "execution_count": 113,
   "metadata": {},
   "outputs": [
    {
     "name": "stdout",
     "output_type": "stream",
     "text": [
      "Types of variables presented in the training data:\n",
      "\n"
     ]
    },
    {
     "data": {
      "text/plain": [
       "original_title         object\n",
       "genre                  object\n",
       "duration                int64\n",
       "country                object\n",
       "language               object\n",
       "director               object\n",
       "writer                 object\n",
       "production_company     object\n",
       "actors                 object\n",
       "avg_vote              float64\n",
       "dtype: object"
      ]
     },
     "execution_count": 113,
     "metadata": {},
     "output_type": "execute_result"
    }
   ],
   "source": [
    "print(\"Types of variables presented in the training data:\\n\")\n",
    "X.dtypes"
   ]
  },
  {
   "cell_type": "code",
   "execution_count": 114,
   "metadata": {},
   "outputs": [
    {
     "name": "stdout",
     "output_type": "stream",
     "text": [
      "Number of missing values in all column:\n",
      "\n"
     ]
    },
    {
     "data": {
      "text/plain": [
       "original_title           0\n",
       "genre                    0\n",
       "duration                 0\n",
       "country                  0\n",
       "language                 0\n",
       "director                24\n",
       "writer                   0\n",
       "production_company    2744\n",
       "actors                   0\n",
       "avg_vote                 0\n",
       "dtype: int64"
      ]
     },
     "execution_count": 114,
     "metadata": {},
     "output_type": "execute_result"
    }
   ],
   "source": [
    "print(\"Number of missing values in all column:\\n\")\n",
    "X.isnull().sum()"
   ]
  },
  {
   "cell_type": "code",
   "execution_count": 115,
   "metadata": {},
   "outputs": [],
   "source": [
    "cat_cols = ['director', 'production_company']\n",
    "X[cat_cols] = X[cat_cols].fillna('Unknown')"
   ]
  },
  {
   "cell_type": "code",
   "execution_count": 116,
   "metadata": {},
   "outputs": [],
   "source": [
    "def generate_list(df, feature_name):\n",
    "    \n",
    "    #Step 1: track all ratings associated with each feature in a dictionary\n",
    "    feature_dict = {}\n",
    "    \n",
    "    for index, row in df.iterrows():\n",
    "        feat = row[feature_name]\n",
    "        for sub_feat in feat:\n",
    "            if sub_feat not in feature_dict:\n",
    "                feature_dict[sub_feat] = (df['avg_vote'][index], 1) #\n",
    "            else:\n",
    "                feature_dict[sub_feat] = (feature_dict[sub_feat][0] + (df['avg_vote'][index]), feature_dict[sub_feat][1] + 1)\n",
    "    \n",
    "    #Step 2: calculate average ratings for each feature\n",
    "    for key in feature_dict:\n",
    "        feature_dict[key] = feature_dict[key][0] / feature_dict[key][1] #average of all vote_averages\n",
    "       \n",
    "    \n",
    "    #Step 3: create and sort a list of tuples (dictionary value, key)\n",
    "    lst = list()\n",
    "    for name in feature_dict:\n",
    "        lst.append((feature_dict[name],name))\n",
    "    lst = sorted(lst)\n",
    "    \n",
    "    #step 4: create a list of only the feature names, from lowest rating to highest rating\n",
    "    feature_list = list()\n",
    "    ratings_list = list()\n",
    "    for element in lst:\n",
    "        feature_list.append(element[1])\n",
    "        ratings_list.append(element[0])\n",
    "    \n",
    "    #get the variance of the ratings. This is helpful for determining the usefulness of the information (to be displayed in below plot)\n",
    "    var = round(np.var(ratings_list),3)\n",
    "    \n",
    "    #before returning the list, do a quick visualization to show that generate_list works\n",
    "    fig, ax = plt.subplots(figsize=(6,5))\n",
    "    if feature_name != 'genre':\n",
    "        n = 50 # sample at intervals of n\n",
    "    else:\n",
    "        n = 1\n",
    "        \n",
    "    X = [] #sample for associated movie(s) rating average\n",
    "    Y = [] #sample for feature names\n",
    "    \n",
    "    for i in range(0, len(feature_list) - 1, n):\n",
    "        X.append(ratings_list[i])\n",
    "        Y.append(feature_list[i])\n",
    "    \n",
    "    y_pos = np.arange(len(Y))\n",
    "    ax.barh(y_pos, X, align='center')\n",
    "    ax.invert_yaxis()\n",
    "    \n",
    "    ax.set_xlabel('Overall average movie ratings')\n",
    "    ax.set_ylabel(feature_name + ' sample list index')\n",
    "    ax.set_title(feature_name + ' to associated movie(s) performance (' + str(int(len(feature_list)/n)) + ' samples), variance: ' + str(var))\n",
    "    \n",
    "    plt.show()\n",
    "    \n",
    "    return feature_list"
   ]
  },
  {
   "cell_type": "code",
   "execution_count": 117,
   "metadata": {
    "scrolled": true
   },
   "outputs": [
    {
     "data": {
      "image/png": "[encoded data removed]",
      "text/plain": [
       "<Figure size 432x360 with 1 Axes>"
      ]
     },
     "metadata": {
      "needs_background": "light"
     },
     "output_type": "display_data"
    }
   ],
   "source": [
    "genre_list = generate_list(X, 'genre')"
   ]
  },
  {
   "cell_type": "code",
   "execution_count": 118,
   "metadata": {},
   "outputs": [
    {
     "data": {
      "image/png": "[encoded data removed]",
      "text/plain": [
       "<Figure size 432x360 with 1 Axes>"
      ]
     },
     "metadata": {
      "needs_background": "light"
     },
     "output_type": "display_data"
    }
   ],
   "source": [
    "actors_list = generate_list(X, 'actors')"
   ]
  },
  {
   "cell_type": "code",
   "execution_count": 119,
   "metadata": {},
   "outputs": [
    {
     "data": {
      "image/png": "[encoded data removed]",
      "text/plain": [
       "<Figure size 432x360 with 1 Axes>"
      ]
     },
     "metadata": {
      "needs_background": "light"
     },
     "output_type": "display_data"
    }
   ],
   "source": [
    "country_list = generate_list(X, 'country')"
   ]
  },
  {
   "cell_type": "code",
   "execution_count": 120,
   "metadata": {},
   "outputs": [
    {
     "data": {
      "image/png": "[encoded data removed]",
      "text/plain": [
       "<Figure size 432x360 with 1 Axes>"
      ]
     },
     "metadata": {
      "needs_background": "light"
     },
     "output_type": "display_data"
    }
   ],
   "source": [
    "writer_list = generate_list(X, 'writer')"
   ]
  },
  {
   "cell_type": "code",
   "execution_count": 121,
   "metadata": {},
   "outputs": [
    {
     "data": {
      "image/png": "[encoded data removed]",
      "text/plain": [
       "<Figure size 432x360 with 1 Axes>"
      ]
     },
     "metadata": {
      "needs_background": "light"
     },
     "output_type": "display_data"
    }
   ],
   "source": [
    "language_list = generate_list(X, 'language')"
   ]
  },
  {
   "cell_type": "code",
   "execution_count": 122,
   "metadata": {},
   "outputs": [],
   "source": [
    "# X['genre'] = X['genre'].apply(lambda x: calculate_bin_array(x, genre_list))\n",
    "# X['actors'] = X['actors'].apply(lambda x: calculate_bin_array(x, actors_list))\n",
    "# X['country'] = X['country'].apply(lambda x: calculate_bin_array(x, country_list))\n",
    "# X['writer'] = X['writer'].apply(lambda x: calculate_bin_array(x, writer_list))"
   ]
  },
  {
   "cell_type": "code",
   "execution_count": 123,
   "metadata": {},
   "outputs": [],
   "source": [
    "# X.head(3)"
   ]
  },
  {
   "cell_type": "code",
   "execution_count": 124,
   "metadata": {},
   "outputs": [],
   "source": [
    "X = X.drop(['original_title', 'director', 'writer', 'production_company', 'actors'], axis = 1)"
   ]
  },
  {
   "cell_type": "markdown",
   "metadata": {},
   "source": [
    "2.1 Split data into train and test"
   ]
  },
  {
   "cell_type": "code",
   "execution_count": 125,
   "metadata": {},
   "outputs": [],
   "source": [
    "y = X['avg_vote']\n",
    "X = X.drop(['avg_vote'], axis = 1)"
   ]
  },
  {
   "cell_type": "code",
   "execution_count": 126,
   "metadata": {},
   "outputs": [
    {
     "data": {
      "text/html": [
       "<div>\n",
       "<style scoped>\n",
       "    .dataframe tbody tr th:only-of-type {\n",
       "        vertical-align: middle;\n",
       "    }\n",
       "\n",
       "    .dataframe tbody tr th {\n",
       "        vertical-align: top;\n",
       "    }\n",
       "\n",
       "    .dataframe thead th {\n",
       "        text-align: right;\n",
       "    }\n",
       "</style>\n",
       "<table border=\"1\" class=\"dataframe\">\n",
       "  <thead>\n",
       "    <tr style=\"text-align: right;\">\n",
       "      <th></th>\n",
       "      <th>genre</th>\n",
       "      <th>duration</th>\n",
       "      <th>country</th>\n",
       "      <th>language</th>\n",
       "    </tr>\n",
       "  </thead>\n",
       "  <tbody>\n",
       "    <tr>\n",
       "      <th>0</th>\n",
       "      <td>[Biography, Crime, Drama]</td>\n",
       "      <td>70</td>\n",
       "      <td>[Australia]</td>\n",
       "      <td>Unknown</td>\n",
       "    </tr>\n",
       "    <tr>\n",
       "      <th>1</th>\n",
       "      <td>[Drama]</td>\n",
       "      <td>53</td>\n",
       "      <td>[Germany, Denmark]</td>\n",
       "      <td>Unknown</td>\n",
       "    </tr>\n",
       "    <tr>\n",
       "      <th>2</th>\n",
       "      <td>[Drama, History]</td>\n",
       "      <td>100</td>\n",
       "      <td>[USA]</td>\n",
       "      <td>[English]</td>\n",
       "    </tr>\n",
       "  </tbody>\n",
       "</table>\n",
       "</div>"
      ],
      "text/plain": [
       "                       genre  duration             country   language\n",
       "0  [Biography, Crime, Drama]        70         [Australia]    Unknown\n",
       "1                    [Drama]        53  [Germany, Denmark]    Unknown\n",
       "2           [Drama, History]       100               [USA]  [English]"
      ]
     },
     "execution_count": 126,
     "metadata": {},
     "output_type": "execute_result"
    }
   ],
   "source": [
    "X.head(3)"
   ]
  },
  {
   "cell_type": "code",
   "execution_count": 127,
   "metadata": {},
   "outputs": [],
   "source": [
    "from sklearn.model_selection import train_test_split\n",
    "\n",
    "X_train, X_test, y_train, y_test = train_test_split(X, y, test_size=0.3, random_state=1)"
   ]
  },
  {
   "cell_type": "code",
   "execution_count": 128,
   "metadata": {},
   "outputs": [
    {
     "data": {
      "text/plain": [
       "((42138, 4), (18060, 4), (42138,), (18060,))"
      ]
     },
     "execution_count": 128,
     "metadata": {},
     "output_type": "execute_result"
    }
   ],
   "source": [
    "X_train.shape, X_test.shape, y_train.shape, y_test.shape"
   ]
  },
  {
   "cell_type": "markdown",
   "metadata": {},
   "source": [
    "### Part 3.\n",
    "\n",
    "Train and compare the models\n",
    "\n",
    "3.1. Select models, you are going to train, select hyperparameters that have to be tunes."
   ]
  },
  {
   "cell_type": "code",
   "execution_count": 129,
   "metadata": {},
   "outputs": [],
   "source": [
    "from sklearn.pipeline import Pipeline, make_pipeline\n",
    "from sklearn.impute import SimpleImputer\n",
    "from sklearn.preprocessing import StandardScaler, MultiLabelBinarizer\n",
    "from sklearn.compose import ColumnTransformer\n",
    "from sklearn.ensemble import GradientBoostingRegressor\n",
    "from sklearn.base import BaseEstimator, TransformerMixin"
   ]
  },
  {
   "cell_type": "code",
   "execution_count": 130,
   "metadata": {},
   "outputs": [],
   "source": [
    "class CatPreprocessImputer(BaseEstimator, TransformerMixin):\n",
    "\n",
    "    def __init__(self):\n",
    "        pass\n",
    "    \n",
    "    def fit(self, X, y=None):\n",
    "        return self \n",
    "    \n",
    "    def transform(self, X, y=None):\n",
    "        X = X.fillna('')\n",
    "        \n",
    "        bin_country = MultiLabelBinarizer(classes=country_list)\n",
    "        bin_language = MultiLabelBinarizer(classes=language_list)\n",
    "        bin_genre = MultiLabelBinarizer(classes=genre_list)\n",
    "\n",
    "        \n",
    "        e_country = pd.DataFrame(bin_country.fit_transform(X['country']),    columns=bin_country.classes_)\n",
    "        e_language = pd.DataFrame(bin_language.fit_transform(X['language']), columns=bin_language.classes_)\n",
    "        e_genre = pd.DataFrame(bin_genre.fit_transform(X['genre']),          columns=bin_genre.classes_)\n",
    "        \n",
    "        #e_country = pd.DataFrame(bin_country.fit_transform(X['country'].str.replace(r'\\s', '', regex=True).str.split(pat=',')), columns=bin_country.classes_)\n",
    "        #e_language = pd.DataFrame(bin_language.fit_transform(X['language'].str.replace(r'\\s', '', regex=True).str.split(pat=',')), columns=bin_language.classes_)\n",
    "        #e_genre = pd.DataFrame(bin_genre.fit_transform(X['genre'].str.replace(r'\\s', '', regex=True).str.split(pat=',')), columns=bin_genre.classes_)\n",
    "\n",
    "        result = pd.concat([e_country, e_language, e_genre], axis=1)\n",
    "        return result.values"
   ]
  },
  {
   "cell_type": "code",
   "execution_count": 135,
   "metadata": {},
   "outputs": [],
   "source": [
    "cat_col = ['genre', 'country', 'language']\n",
    "num_col = ['duration']\n",
    "\n",
    "num_pipe = make_pipeline(\n",
    "    SimpleImputer(),\n",
    "    StandardScaler(),\n",
    ")\n",
    "\n",
    "cat_pipe = make_pipeline(\n",
    "    CatPreprocessImputer(),\n",
    ")\n",
    "\n",
    "column_transformer = ColumnTransformer([\n",
    "    ('num', num_pipe, num_col),\n",
    "    ('cat', cat_pipe, cat_col)\n",
    "], remainder='passthrough')"
   ]
  },
  {
   "cell_type": "code",
   "execution_count": 134,
   "metadata": {},
   "outputs": [
    {
     "data": {
      "text/plain": [
       "(42138, 442)"
      ]
     },
     "execution_count": 134,
     "metadata": {},
     "output_type": "execute_result"
    }
   ],
   "source": [
    "x_trans = column_transformer.fit_transform(X_train)\n",
    "x_trans.shape"
   ]
  },
  {
   "cell_type": "code",
   "execution_count": 136,
   "metadata": {},
   "outputs": [
    {
     "data": {
      "text/plain": [
       "Pipeline(memory=None,\n",
       "         steps=[('column_transformer',\n",
       "                 ColumnTransformer(n_jobs=None, remainder='passthrough',\n",
       "                                   sparse_threshold=0.3,\n",
       "                                   transformer_weights=None,\n",
       "                                   transformers=[('num',\n",
       "                                                  Pipeline(memory=None,\n",
       "                                                           steps=[('simpleimputer',\n",
       "                                                                   SimpleImputer(add_indicator=False,\n",
       "                                                                                 copy=True,\n",
       "                                                                                 fill_value=None,\n",
       "                                                                                 missing_values=nan,\n",
       "                                                                                 strategy='mean',\n",
       "                                                                                 verbose=0)),\n",
       "                                                                  ('standardscaler',\n",
       "                                                                   StandardS...\n",
       "                                           learning_rate=0.1, loss='ls',\n",
       "                                           max_depth=3, max_features=None,\n",
       "                                           max_leaf_nodes=None,\n",
       "                                           min_impurity_decrease=0.0,\n",
       "                                           min_impurity_split=None,\n",
       "                                           min_samples_leaf=1,\n",
       "                                           min_samples_split=2,\n",
       "                                           min_weight_fraction_leaf=0.0,\n",
       "                                           n_estimators=100,\n",
       "                                           n_iter_no_change=None,\n",
       "                                           presort='deprecated',\n",
       "                                           random_state=None, subsample=1.0,\n",
       "                                           tol=0.0001, validation_fraction=0.1,\n",
       "                                           verbose=0, warm_start=False))],\n",
       "         verbose=False)"
      ]
     },
     "execution_count": 136,
     "metadata": {},
     "output_type": "execute_result"
    }
   ],
   "source": [
    "model = Pipeline([\n",
    "    ('column_transformer', column_transformer),\n",
    "    ('model', GradientBoostingRegressor())\n",
    "])\n",
    "\n",
    "model.fit(X_train, y_train)"
   ]
  },
  {
   "cell_type": "code",
   "execution_count": 137,
   "metadata": {},
   "outputs": [],
   "source": [
    "y_pred = model.predict(X_test)"
   ]
  },
  {
   "cell_type": "code",
   "execution_count": 146,
   "metadata": {},
   "outputs": [
    {
     "data": {
      "text/plain": [
       "1.0317266288048494"
      ]
     },
     "execution_count": 146,
     "metadata": {},
     "output_type": "execute_result"
    }
   ],
   "source": [
    "mean_squared_error(y_pred, y_test)"
   ]
  },
  {
   "cell_type": "markdown",
   "metadata": {},
   "source": [
    "3.2 Use cross-validation to compare models and select best set of hyperparameters"
   ]
  },
  {
   "cell_type": "code",
   "execution_count": null,
   "metadata": {},
   "outputs": [],
   "source": []
  },
  {
   "cell_type": "markdown",
   "metadata": {},
   "source": [
    "3.3 Which model and setup is the best? How does it perform on the test dataset? If you were to present this model to the client, how would you describe it?"
   ]
  },
  {
   "cell_type": "code",
   "execution_count": null,
   "metadata": {},
   "outputs": [],
   "source": []
  }
 ],
 "metadata": {
  "kernelspec": {
   "display_name": "Python 3",
   "language": "python",
   "name": "python3"
  },
  "language_info": {
   "codemirror_mode": {
    "name": "ipython",
    "version": 3
   },
   "file_extension": ".py",
   "mimetype": "text/x-python",
   "name": "python",
   "nbconvert_exporter": "python",
   "pygments_lexer": "ipython3",
   "version": "3.7.6"
  }
 },
 "nbformat": 4,
 "nbformat_minor": 4
}
