{
 "cells": [
  {
   "cell_type": "markdown",
   "metadata": {},
   "source": [
    "# Statistics basics\n",
    "This is autograded assignment. After each problem there is a test cell (with `assert`'s). If it runs correctly, test is passed, if it gives error, something should be fixed. Implement the functions, click \"Validate\" button, then submit for grading. All problems weight 1 point except where stated otherwise."
   ]
  },
  {
   "cell_type": "code",
   "execution_count": 3,
   "metadata": {},
   "outputs": [],
   "source": [
    "import pandas as pd"
   ]
  },
  {
   "cell_type": "markdown",
   "metadata": {},
   "source": [
    "## DataFrame basics\n",
    "\n",
    "### Problem 1\n",
    "Write function `mult_table(n)` that creates `n × n` multiplication table as `pd.DataFrame`. Indexes and columns should be consequent numbers from 1 to `n` (inclusive), cells should be products of their indexes. For example, `mult_table(4)` should produce `pd.DataFrame` with table\n",
    "\n",
    "<table border=\"1\" class=\"dataframe\">\n",
    "  <thead>\n",
    "    <tr style=\"text-align: right;\">\n",
    "      <th></th>\n",
    "      <th>1</th>\n",
    "      <th>2</th>\n",
    "      <th>3</th>\n",
    "      <th>4</th>\n",
    "    </tr>\n",
    "  </thead>\n",
    "  <tbody>\n",
    "    <tr>\n",
    "      <th>1</th>\n",
    "      <td>1</td>\n",
    "      <td>2</td>\n",
    "      <td>3</td>\n",
    "      <td>4</td>\n",
    "    </tr>\n",
    "    <tr>\n",
    "      <th>2</th>\n",
    "      <td>2</td>\n",
    "      <td>4</td>\n",
    "      <td>6</td>\n",
    "      <td>8</td>\n",
    "    </tr>\n",
    "    <tr>\n",
    "      <th>3</th>\n",
    "      <td>3</td>\n",
    "      <td>6</td>\n",
    "      <td>9</td>\n",
    "      <td>12</td>\n",
    "    </tr>\n",
    "    <tr>\n",
    "      <th>4</th>\n",
    "      <td>4</td>\n",
    "      <td>8</td>\n",
    "      <td>12</td>\n",
    "      <td>16</td>\n",
    "    </tr>\n",
    "  </tbody>\n",
    "</table>"
   ]
  },
  {
   "cell_type": "code",
   "execution_count": 5,
   "metadata": {
    "deletable": false,
    "nbgrader": {
     "cell_type": "code",
     "checksum": "fd73b9284b6da7db5b71f9e424e25861",
     "grade": false,
     "grade_id": "cell-2ef5196c6ccb886c",
     "locked": false,
     "schema_version": 3,
     "solution": true,
     "task": false
    }
   },
   "outputs": [],
   "source": [
    "def mult_table(n):\n",
    "    df = pd.DataFrame([[i*j for i in range(1, n+1)] for j in range(1, n+1)],\n",
    "                      index=[i for i in range(1, n+1)], \n",
    "                      columns=[i for i in range(1, n+1)])\n",
    "    return df\n",
    "    "
   ]
  },
  {
   "cell_type": "code",
   "execution_count": 6,
   "metadata": {
    "deletable": false,
    "editable": false,
    "nbgrader": {
     "cell_type": "code",
     "checksum": "4d0412d0713ce7b89de741159ada4585",
     "grade": true,
     "grade_id": "cell-3ec23224e3a0e6f6",
     "locked": true,
     "points": 1,
     "schema_version": 3,
     "solution": false,
     "task": false
    }
   },
   "outputs": [],
   "source": [
    "\n",
    "pd.testing.assert_frame_equal(mult_table(1), pd.DataFrame([[1]], index=[1], columns=[1]))\n",
    "pd.testing.assert_frame_equal(mult_table(2), pd.DataFrame([[1, 2], [2, 4]], index=[1, 2], columns=[1, 2]))\n",
    "pd.testing.assert_frame_equal(mult_table(5), pd.DataFrame([[1, 2, 3, 4, 5], [2, 4, 6, 8, 10], [3, 6, 9, 12, 15], [4, 8, 12, 16, 20], [5, 10, 15, 20, 25]], index=[1, 2, 3, 4, 5], columns=[1, 2, 3, 4, 5]))\n",
    "pd.testing.assert_frame_equal(mult_table(20), pd.DataFrame([[1, 2, 3, 4, 5, 6, 7, 8, 9, 10, 11, 12, 13, 14, 15, 16, 17, 18, 19, 20], [2, 4, 6, 8, 10, 12, 14, 16, 18, 20, 22, 24, 26, 28, 30, 32, 34, 36, 38, 40], [3, 6, 9, 12, 15, 18, 21, 24, 27, 30, 33, 36, 39, 42, 45, 48, 51, 54, 57, 60], [4, 8, 12, 16, 20, 24, 28, 32, 36, 40, 44, 48, 52, 56, 60, 64, 68, 72, 76, 80], [5, 10, 15, 20, 25, 30, 35, 40, 45, 50, 55, 60, 65, 70, 75, 80, 85, 90, 95, 100], [6, 12, 18, 24, 30, 36, 42, 48, 54, 60, 66, 72, 78, 84, 90, 96, 102, 108, 114, 120], [7, 14, 21, 28, 35, 42, 49, 56, 63, 70, 77, 84, 91, 98, 105, 112, 119, 126, 133, 140], [8, 16, 24, 32, 40, 48, 56, 64, 72, 80, 88, 96, 104, 112, 120, 128, 136, 144, 152, 160], [9, 18, 27, 36, 45, 54, 63, 72, 81, 90, 99, 108, 117, 126, 135, 144, 153, 162, 171, 180], [10, 20, 30, 40, 50, 60, 70, 80, 90, 100, 110, 120, 130, 140, 150, 160, 170, 180, 190, 200], [11, 22, 33, 44, 55, 66, 77, 88, 99, 110, 121, 132, 143, 154, 165, 176, 187, 198, 209, 220], [12, 24, 36, 48, 60, 72, 84, 96, 108, 120, 132, 144, 156, 168, 180, 192, 204, 216, 228, 240], [13, 26, 39, 52, 65, 78, 91, 104, 117, 130, 143, 156, 169, 182, 195, 208, 221, 234, 247, 260], [14, 28, 42, 56, 70, 84, 98, 112, 126, 140, 154, 168, 182, 196, 210, 224, 238, 252, 266, 280], [15, 30, 45, 60, 75, 90, 105, 120, 135, 150, 165, 180, 195, 210, 225, 240, 255, 270, 285, 300], [16, 32, 48, 64, 80, 96, 112, 128, 144, 160, 176, 192, 208, 224, 240, 256, 272, 288, 304, 320], [17, 34, 51, 68, 85, 102, 119, 136, 153, 170, 187, 204, 221, 238, 255, 272, 289, 306, 323, 340], [18, 36, 54, 72, 90, 108, 126, 144, 162, 180, 198, 216, 234, 252, 270, 288, 306, 324, 342, 360], [19, 38, 57, 76, 95, 114, 133, 152, 171, 190, 209, 228, 247, 266, 285, 304, 323, 342, 361, 380], [20, 40, 60, 80, 100, 120, 140, 160, 180, 200, 220, 240, 260, 280, 300, 320, 340, 360, 380, 400]], index=[1, 2, 3, 4, 5, 6, 7, 8, 9, 10, 11, 12, 13, 14, 15, 16, 17, 18, 19, 20], columns=[1, 2, 3, 4, 5, 6, 7, 8, 9, 10, 11, 12, 13, 14, 15, 16, 17, 18, 19, 20]))"
   ]
  },
  {
   "cell_type": "markdown",
   "metadata": {},
   "source": [
    "### Problem 2\n",
    "Write function `get_rows_after_5(df, n)` that takes dataframe `df` and returns a new dataframe that contains `n` rows of `df`, beginning with 5th. For example `get_row_after_5(df, 1)` should return only fifth row of `df`.\n",
    "\n",
    "**Note.** You are not allowed to use loops or `if`'s in this problem."
   ]
  },
  {
   "cell_type": "code",
   "execution_count": 13,
   "metadata": {
    "deletable": false,
    "nbgrader": {
     "cell_type": "code",
     "checksum": "e93865eb09ebb115a275ffe5c374cead",
     "grade": false,
     "grade_id": "cell-f40732aad68a1ac6",
     "locked": false,
     "schema_version": 3,
     "solution": true,
     "task": false
    }
   },
   "outputs": [],
   "source": [
    "def get_rows_after_5(df, n):\n",
    "    return df[4:4+n]\n",
    "    "
   ]
  },
  {
   "cell_type": "code",
   "execution_count": 14,
   "metadata": {
    "deletable": false,
    "editable": false,
    "nbgrader": {
     "cell_type": "code",
     "checksum": "e4799d4e8c4112acea5390ea5b2edabd",
     "grade": true,
     "grade_id": "cell-caae2dd2356090c6",
     "locked": true,
     "points": 1,
     "schema_version": 3,
     "solution": false,
     "task": false
    }
   },
   "outputs": [],
   "source": [
    "df = pd.DataFrame([[1, 2, 3], \n",
    "                   [4, 5, 6], \n",
    "                   [7, 8, 9], \n",
    "                   [10, 11, 12], \n",
    "                   [13, 14, 15], \n",
    "                   [16, 17, 18], \n",
    "                   [19, 20, 21]])\n",
    "\n",
    "assert get_rows_after_5(df, 1).equals(pd.DataFrame([[13, 14, 15]], index=[4]))\n",
    "assert get_rows_after_5(df, 2).equals(pd.DataFrame([[13, 14, 15], [16, 17, 18]], index=[4, 5]))\n",
    "assert get_rows_after_5(df, 3).equals(pd.DataFrame([[13, 14, 15], [16, 17, 18], [19, 20, 21]], index=[4, 5, 6]))\n",
    "\n",
    "\n",
    "df.index = list(range(6, -1, -1))\n",
    "assert get_rows_after_5(df, 1).equals(pd.DataFrame([[13, 14, 15]], index=[2]))\n",
    "\n",
    "df.index = list('abcdefg')\n",
    "df.sort_values(0, ascending=False, inplace=True)\n",
    "\n",
    "assert get_rows_after_5(df, 1).equals(pd.DataFrame([[7, 8, 9]], index=['c']))\n",
    "assert get_rows_after_5(df, 2).equals(pd.DataFrame([[7, 8, 9], [4, 5, 6]], index=['c', 'b']))\n",
    "\n",
    "df['hello'] = list('qwertyu')\n",
    "\n",
    "get_rows_after_5(df, 2)\n",
    "\n",
    "assert get_rows_after_5(df, 2).equals(pd.DataFrame([[7, 8, 9, 't'], [4, 5, 6, 'y']], columns = [0, 1, 2, 'hello'], index=['c', 'b']))"
   ]
  },
  {
   "cell_type": "markdown",
   "metadata": {},
   "source": [
    "### Problem 3\n",
    "Consider dataframe `df` that contains some table. Its indexes are integer numbers, not necessary consequent. Write function `between(df, n, m)` that returns all rows of this table between rows with indexes `n` and `m`, including `n` and `m`. It is guaranteed that row with index `n` is present and located before row with index `m`.\n",
    "\n",
    "**Note.** You are not allowed to use loops or `if`'s in this problem."
   ]
  },
  {
   "cell_type": "code",
   "execution_count": 60,
   "metadata": {
    "deletable": false,
    "nbgrader": {
     "cell_type": "code",
     "checksum": "35c7990ae1a0e40da37087ace9f96770",
     "grade": false,
     "grade_id": "cell-79882d5cf8c65a11",
     "locked": false,
     "schema_version": 3,
     "solution": true,
     "task": false
    }
   },
   "outputs": [],
   "source": [
    "def between(df, n, m):\n",
    "    return df.loc[n:m]\n",
    "    "
   ]
  },
  {
   "cell_type": "code",
   "execution_count": 62,
   "metadata": {
    "deletable": false,
    "editable": false,
    "nbgrader": {
     "cell_type": "code",
     "checksum": "0300db080c5a36803ef18b9ef70167b3",
     "grade": true,
     "grade_id": "cell-006aba2398ee4cfb",
     "locked": true,
     "points": 1,
     "schema_version": 3,
     "solution": false,
     "task": false
    }
   },
   "outputs": [],
   "source": [
    "df = pd.DataFrame([[1, 2, 3], \n",
    "                   [4, 5, 6], \n",
    "                   [7, 8, 9], \n",
    "                   [10, 11, 12], \n",
    "                   [13, 14, 15], \n",
    "                   [16, 17, 18], \n",
    "                   [19, 20, 21]])\n",
    "assert between(df, 2, 3).equals(pd.DataFrame([[7, 8, 9], [10, 11, 12]], index=[2, 3]))\n",
    "\n",
    "df.index=[1, 2, 10, 9, 8, 7, 3]\n",
    "\n",
    "assert between(df, 2, 3).equals(pd.DataFrame([[4, 5, 6], [7, 8, 9], [10, 11, 12], [13, 14, 15], [16, 17, 18], [19, 20, 21]], columns=[0, 1, 2], index=[2, 10, 9, 8, 7, 3]))"
   ]
  },
  {
   "cell_type": "markdown",
   "metadata": {},
   "source": [
    "### Problem 4\n",
    "Consider dataframe `df` that contains gradebook. There are columns `First Name` and `Last Name` that contains first and last anmes, and other columns that contain grades of a particular student for a particular course (integer number). We assume there are no students with identical first and last names. Write a function `get_grade(df, firstname, lastname, course)` that returns grade for particular student and particular course. \n",
    "\n",
    "**Example:**\n",
    "\n",
    "For input table\n",
    "\n",
    "```\n",
    "  Last Name First Name  Algebra  Calculus  Music  Law\n",
    "0       Doe       John        4         5      3    5\n",
    "1     Smith      Alice        5         4      2    4\n",
    "```\n",
    "that is written as\n",
    "\n",
    "```python\n",
    "df = pd.DataFrame(\n",
    "    [\n",
    "        ['Doe', 'John', 4, 5, 3, 5], \n",
    "        ['Smith', 'Alice', 5, 4, 2, 4]\n",
    "    ], \n",
    "    columns=['Last Name', 'First Name', 'Algebra', 'Calculus', 'Music', 'Law']\n",
    ")\n",
    "```\n",
    "function `get_grade(df, 'Doe', 'John', 'Algebra')` should return number `4`.\n",
    "\n",
    "Note that you have to return number, not a series or dataframe.\n",
    "\n",
    "**Note.** You are not allowed to use loops or `if`'s in this problem."
   ]
  },
  {
   "cell_type": "code",
   "execution_count": 83,
   "metadata": {
    "deletable": false,
    "nbgrader": {
     "cell_type": "code",
     "checksum": "24d55b91c6481b2d40af093756c38197",
     "grade": false,
     "grade_id": "cell-ba105c8fd803814f",
     "locked": false,
     "schema_version": 3,
     "solution": true,
     "task": false
    }
   },
   "outputs": [],
   "source": [
    "def get_grade(df, lastname, firstname, course):\n",
    "    df2 = df.loc[(df['First Name'] == firstname) & (df['Last Name'] == lastname)]\n",
    "    return df2[course].values[0]\n",
    "    "
   ]
  },
  {
   "cell_type": "code",
   "execution_count": 84,
   "metadata": {
    "deletable": false,
    "editable": false,
    "nbgrader": {
     "cell_type": "code",
     "checksum": "00d509e46990b617647ebccefd1eb7be",
     "grade": true,
     "grade_id": "cell-4b4cedf25e035714",
     "locked": true,
     "points": 1,
     "schema_version": 3,
     "solution": false,
     "task": false
    }
   },
   "outputs": [],
   "source": [
    "def test(table, columns):\n",
    "    df = pd.DataFrame(table, columns=columns)\n",
    "    for row in table:\n",
    "        firstname = row[columns.index('First Name')]\n",
    "        lastname = row[columns.index('Last Name')]\n",
    "        for j, course in enumerate(columns[2:], 2):\n",
    "            assert get_grade(df, lastname, firstname, course) == row[j]\n",
    "\n",
    "test(\n",
    "    [\n",
    "        ['Doe', 'John', 1, 2, 3, 4], \n",
    "        ['Smith', 'Alice', 5, 4, 2, 4]\n",
    "    ], \n",
    "    columns=['Last Name', 'First Name', 'Algebra', 'Calculus', 'Music', 'Law']\n",
    ")\n",
    "\n",
    "test(\n",
    "    [\n",
    "        ['John', 'Doe', 1, 2, 3, 4], \n",
    "        ['Max', 'Katz', 5, 4, 2, 4]\n",
    "    ], \n",
    "    columns=['First Name', 'Last Name', 'Algebra', 'Calculus', 'Music', 'Law']\n",
    ")\n",
    "\n",
    "test(\n",
    "    [\n",
    "        ['John', 'Doe', 1, 2, 3, 4, 3, 2], \n",
    "        ['Jennifer', 'Lopez', 5, 4, 2, 4, 1, 1],\n",
    "        ['John', 'Smith', 2, 1, 4, 3, 3, 2]\n",
    "    ],\n",
    "    columns=['First Name', 'Last Name', 'Algebra', 'Calculus', 'Music', 'Law', 'CS', 'Physics']\n",
    ")\n",
    "\n",
    "test(\n",
    "    [\n",
    "        ['John', 'Doe', 1, 2, 3, 4, 3, 2], \n",
    "        ['Jack', 'Doe', 5, 4, 2, 4, 1, 1],\n",
    "        ['John', 'Smith', 2, 1, 4, 3, 3, 2]\n",
    "    ],\n",
    "    columns=['First Name', 'Last Name', 'Algebra', 'Calculus', 'Music', 'Law', 'CS', 'Physics']\n",
    ")"
   ]
  },
  {
   "cell_type": "markdown",
   "metadata": {},
   "source": [
    "### Problem 5\n",
    "\n",
    "Write functiom `contains_null(df)`, that returns `True`, if dataframe `df` has at least one missing value (`NaN`, `NA` or `None`), and `False` otherwise.\n",
    "\n",
    "**Hint.** Look at the methods `.isnull()` и `.any()`."
   ]
  },
  {
   "cell_type": "code",
   "execution_count": 89,
   "metadata": {
    "deletable": false,
    "nbgrader": {
     "cell_type": "code",
     "checksum": "bd4efd6194da2980f2ed33bc4c3f3c3a",
     "grade": false,
     "grade_id": "cell-2c29b66191812235",
     "locked": false,
     "schema_version": 3,
     "solution": true,
     "task": false
    }
   },
   "outputs": [],
   "source": [
    "def contains_null(df):\n",
    "    null_data = df[df.isnull().any(axis=1)]\n",
    "    if len(null_data) > 0:\n",
    "        return True\n",
    "    else:\n",
    "        return False\n",
    "    "
   ]
  },
  {
   "cell_type": "code",
   "execution_count": 90,
   "metadata": {
    "deletable": false,
    "editable": false,
    "nbgrader": {
     "cell_type": "code",
     "checksum": "2e496b5be67c86798061a241f676fb4a",
     "grade": true,
     "grade_id": "cell-3df2d522a7bb9a32",
     "locked": true,
     "points": 1,
     "schema_version": 3,
     "solution": false,
     "task": false
    }
   },
   "outputs": [],
   "source": [
    "import numpy as np\n",
    "tester_inp = [pd.DataFrame({'A': [1,2,3], 'B': [2,3,4], 'C': [1,1, None]}), \n",
    "             pd.DataFrame(np.random.randint(-20, 50, 60000).reshape(-1,15)),\n",
    "             pd.DataFrame({'Z': [1]}),\n",
    "             pd.DataFrame({'Z': []}),\n",
    "             pd.DataFrame({'A': [1,1,1,1,1], 3: ['A', 'B', 'C', 'D', 'E'], 'Z': [2,2, None, np.nan, 0]}),\n",
    "             pd.DataFrame([['Элизабет', 'Чай', 9, 354], ['Иван Никифорович', 'Колбаса', 3, 523], ['Элизабет', 'Молоко', 4, 476], ['Элизабет', 'Молоко', 5, 253], ['Иван Иванович', 'Кефир', 5, 829], ['Иван Никифорович', 'Молоко', 7, 874], ['Элизабет', 'Чай', 3, 901], ['Петя', 'Хлеб', 4, 644], ['Иван Иванович', 'Хлеб', 8, 943], ['Элизабет', 'Колбаса', 5, 80], ['Иван Никифорович', 'Чай', 3, 537], ['Иван Иванович', 'Журнал \"Мурзилка\"', 7, 204], ['Петя', 'Журнал \"Мурзилка\"', 2, 251], ['Петя', 'Колбаса', 1, 344], ['Иван Никифорович', 'Простокваша', 5, 694], ['Иван Иванович', 'Кефир', 3, 661], ['Иван Никифорович', 'Чай', 7, 0], ['Элизабет', 'Хлеб', 6, 36], ['Ваня', 'Колбаса', 9, 40], ['Элизабет', 'Чай', 5, 846]], columns=['Покупатель', 'Товар', 'Количество', 'Цена'], index=[0, 1, 2, 3, 4, 5, 6, 7, 8, 9, 10, 11, 12, 13, 14, 15, 16, 17, 18, 19]),\n",
    "             pd.DataFrame([['Элизабет', 'Чай', 9, 354], ['Иван Никифорович', 'Колбаса', 3, 523], ['Элизабет', 'Молоко', 4, 476], ['Элизабет', 'Молоко', 5, 253], ['Иван Иванович', 'Кефир', 5, 829], ['Иван Никифорович', 'Молоко', 7, 874], ['Элизабет', 'Чай', 3, 901], ['Петя', 'Хлеб', 4, 644], ['Иван Иванович', 'Хлеб', 8, 943], ['Элизабет', 'Колбаса', 5, 80], ['Иван Никифорович', 'Чай', 3, 537], ['Иван Иванович', 'Журнал \"Мурзилка\"', 7, 204], ['Петя', 'Журнал \"Мурзилка\"', 2, 251], ['Петя', 'Колбаса', 1, 344], ['Иван Никифорович', 'Простокваша', 5, 694], ['Иван Иванович', 'Кефир', 3, 661], ['Иван Никифорович', 'Чай', 7, None], ['Элизабет', 'Хлеб', 6, 36], ['Ваня', 'Колбаса', 9, 40], ['Элизабет', 'Чай', 5, 846]], columns=['Покупатель', 'Товар', 'Количество', 'Цена'], index=[0, 1, 2, 3, 4, 5, 6, 7, 8, 9, 10, 11, 12, 13, 14, 15, 16, 17, 18, 19])]\n",
    "tester_out = [1,0,0,0,1,0,1]\n",
    "for tin, tout in zip(tester_inp, tester_out):\n",
    "    assert contains_null(tin) == tout"
   ]
  },
  {
   "cell_type": "markdown",
   "metadata": {},
   "source": [
    "### Problem 6 (2 points)\n",
    "Consider dataframe `df` that contains some gradebook. Write function `gpa_top(df)` that modifies it in the following way:\n",
    "\n",
    "- Add column `'GPA'` that contains average student's grade. Different students can take different courses, so some grades are missing (`NaN`'s) — it means that student didn't take a course. Average is calculated between courses that student took (so missings are ignored).\n",
    "- Sort dataframe by GPA in descending order\n",
    "- Return only those rows of the resulting dataframe for which `GPA` is not less than 4.\n",
    "\n",
    "**Examples**"
   ]
  },
  {
   "cell_type": "code",
   "execution_count": 4,
   "metadata": {},
   "outputs": [
    {
     "data": {
      "text/html": [
       "<div>\n",
       "<style scoped>\n",
       "    .dataframe tbody tr th:only-of-type {\n",
       "        vertical-align: middle;\n",
       "    }\n",
       "\n",
       "    .dataframe tbody tr th {\n",
       "        vertical-align: top;\n",
       "    }\n",
       "\n",
       "    .dataframe thead th {\n",
       "        text-align: right;\n",
       "    }\n",
       "</style>\n",
       "<table border=\"1\" class=\"dataframe\">\n",
       "  <thead>\n",
       "    <tr style=\"text-align: right;\">\n",
       "      <th></th>\n",
       "      <th>Last Name</th>\n",
       "      <th>First Name</th>\n",
       "      <th>Algebra</th>\n",
       "      <th>Calculus</th>\n",
       "      <th>Music</th>\n",
       "      <th>Law</th>\n",
       "    </tr>\n",
       "  </thead>\n",
       "  <tbody>\n",
       "    <tr>\n",
       "      <th>0</th>\n",
       "      <td>Doe</td>\n",
       "      <td>John</td>\n",
       "      <td>4</td>\n",
       "      <td>5</td>\n",
       "      <td>3.0</td>\n",
       "      <td>5</td>\n",
       "    </tr>\n",
       "    <tr>\n",
       "      <th>1</th>\n",
       "      <td>Smith</td>\n",
       "      <td>Alice</td>\n",
       "      <td>5</td>\n",
       "      <td>4</td>\n",
       "      <td>NaN</td>\n",
       "      <td>4</td>\n",
       "    </tr>\n",
       "  </tbody>\n",
       "</table>\n",
       "</div>"
      ],
      "text/plain": [
       "  Last Name First Name  Algebra  Calculus  Music  Law\n",
       "0       Doe       John        4         5    3.0    5\n",
       "1     Smith      Alice        5         4    NaN    4"
      ]
     },
     "execution_count": 4,
     "metadata": {},
     "output_type": "execute_result"
    }
   ],
   "source": [
    "# input dataframe\n",
    "pd.DataFrame([['Doe', 'John', 4, 5, 3.0, 5], \n",
    "              ['Smith', 'Alice', 5, 4, float(\"nan\"), 4]], \n",
    "             columns=['Last Name', 'First Name', \n",
    "                      'Algebra', 'Calculus', 'Music', 'Law'], index=[0, 1])"
   ]
  },
  {
   "cell_type": "code",
   "execution_count": 5,
   "metadata": {},
   "outputs": [
    {
     "data": {
      "text/html": [
       "<div>\n",
       "<style scoped>\n",
       "    .dataframe tbody tr th:only-of-type {\n",
       "        vertical-align: middle;\n",
       "    }\n",
       "\n",
       "    .dataframe tbody tr th {\n",
       "        vertical-align: top;\n",
       "    }\n",
       "\n",
       "    .dataframe thead th {\n",
       "        text-align: right;\n",
       "    }\n",
       "</style>\n",
       "<table border=\"1\" class=\"dataframe\">\n",
       "  <thead>\n",
       "    <tr style=\"text-align: right;\">\n",
       "      <th></th>\n",
       "      <th>Last Name</th>\n",
       "      <th>First Name</th>\n",
       "      <th>Algebra</th>\n",
       "      <th>Calculus</th>\n",
       "      <th>Music</th>\n",
       "      <th>Law</th>\n",
       "      <th>GPA</th>\n",
       "    </tr>\n",
       "  </thead>\n",
       "  <tbody>\n",
       "    <tr>\n",
       "      <th>1</th>\n",
       "      <td>Smith</td>\n",
       "      <td>Alice</td>\n",
       "      <td>5</td>\n",
       "      <td>4</td>\n",
       "      <td>NaN</td>\n",
       "      <td>4</td>\n",
       "      <td>4.333333</td>\n",
       "    </tr>\n",
       "    <tr>\n",
       "      <th>0</th>\n",
       "      <td>Doe</td>\n",
       "      <td>John</td>\n",
       "      <td>4</td>\n",
       "      <td>5</td>\n",
       "      <td>3.0</td>\n",
       "      <td>5</td>\n",
       "      <td>4.250000</td>\n",
       "    </tr>\n",
       "  </tbody>\n",
       "</table>\n",
       "</div>"
      ],
      "text/plain": [
       "  Last Name First Name  Algebra  Calculus  Music  Law       GPA\n",
       "1     Smith      Alice        5         4    NaN    4  4.333333\n",
       "0       Doe       John        4         5    3.0    5  4.250000"
      ]
     },
     "execution_count": 5,
     "metadata": {},
     "output_type": "execute_result"
    }
   ],
   "source": [
    "# output dataframe\n",
    "pd.DataFrame([['Smith', 'Alice', 5, 4, float(\"nan\"), 4, 4.333333333333333], \n",
    "              ['Doe', 'John', 4, 5, 3.0, 5, 4.25]], \n",
    "             columns=['Last Name', 'First Name', 'Algebra', \n",
    "                      'Calculus', 'Music', 'Law', 'GPA'], index=[1, 0])"
   ]
  },
  {
   "cell_type": "code",
   "execution_count": 6,
   "metadata": {},
   "outputs": [
    {
     "data": {
      "text/html": [
       "<div>\n",
       "<style scoped>\n",
       "    .dataframe tbody tr th:only-of-type {\n",
       "        vertical-align: middle;\n",
       "    }\n",
       "\n",
       "    .dataframe tbody tr th {\n",
       "        vertical-align: top;\n",
       "    }\n",
       "\n",
       "    .dataframe thead th {\n",
       "        text-align: right;\n",
       "    }\n",
       "</style>\n",
       "<table border=\"1\" class=\"dataframe\">\n",
       "  <thead>\n",
       "    <tr style=\"text-align: right;\">\n",
       "      <th></th>\n",
       "      <th>Last Name</th>\n",
       "      <th>First Name</th>\n",
       "      <th>Algebra</th>\n",
       "      <th>Calculus</th>\n",
       "      <th>Music</th>\n",
       "      <th>Law</th>\n",
       "    </tr>\n",
       "  </thead>\n",
       "  <tbody>\n",
       "    <tr>\n",
       "      <th>0</th>\n",
       "      <td>Doe</td>\n",
       "      <td>John</td>\n",
       "      <td>1</td>\n",
       "      <td>5</td>\n",
       "      <td>3.0</td>\n",
       "      <td>5</td>\n",
       "    </tr>\n",
       "    <tr>\n",
       "      <th>1</th>\n",
       "      <td>Smith</td>\n",
       "      <td>Alice</td>\n",
       "      <td>5</td>\n",
       "      <td>4</td>\n",
       "      <td>NaN</td>\n",
       "      <td>4</td>\n",
       "    </tr>\n",
       "  </tbody>\n",
       "</table>\n",
       "</div>"
      ],
      "text/plain": [
       "  Last Name First Name  Algebra  Calculus  Music  Law\n",
       "0       Doe       John        1         5    3.0    5\n",
       "1     Smith      Alice        5         4    NaN    4"
      ]
     },
     "execution_count": 6,
     "metadata": {},
     "output_type": "execute_result"
    }
   ],
   "source": [
    "# input dataframe\n",
    "pd.DataFrame([['Doe', 'John', 1, 5, 3.0, 5], \n",
    "              ['Smith', 'Alice', 5, 4, float(\"nan\"), 4]], \n",
    "             columns=['Last Name', 'First Name', 'Algebra', 'Calculus', \n",
    "                      'Music', 'Law'], index=[0, 1])"
   ]
  },
  {
   "cell_type": "code",
   "execution_count": 7,
   "metadata": {},
   "outputs": [
    {
     "data": {
      "text/html": [
       "<div>\n",
       "<style scoped>\n",
       "    .dataframe tbody tr th:only-of-type {\n",
       "        vertical-align: middle;\n",
       "    }\n",
       "\n",
       "    .dataframe tbody tr th {\n",
       "        vertical-align: top;\n",
       "    }\n",
       "\n",
       "    .dataframe thead th {\n",
       "        text-align: right;\n",
       "    }\n",
       "</style>\n",
       "<table border=\"1\" class=\"dataframe\">\n",
       "  <thead>\n",
       "    <tr style=\"text-align: right;\">\n",
       "      <th></th>\n",
       "      <th>Last Name</th>\n",
       "      <th>First Name</th>\n",
       "      <th>Algebra</th>\n",
       "      <th>Calculus</th>\n",
       "      <th>Music</th>\n",
       "      <th>Law</th>\n",
       "      <th>GPA</th>\n",
       "    </tr>\n",
       "  </thead>\n",
       "  <tbody>\n",
       "    <tr>\n",
       "      <th>1</th>\n",
       "      <td>Smith</td>\n",
       "      <td>Alice</td>\n",
       "      <td>5</td>\n",
       "      <td>4</td>\n",
       "      <td>NaN</td>\n",
       "      <td>4</td>\n",
       "      <td>4.333333</td>\n",
       "    </tr>\n",
       "  </tbody>\n",
       "</table>\n",
       "</div>"
      ],
      "text/plain": [
       "  Last Name First Name  Algebra  Calculus  Music  Law       GPA\n",
       "1     Smith      Alice        5         4    NaN    4  4.333333"
      ]
     },
     "execution_count": 7,
     "metadata": {},
     "output_type": "execute_result"
    }
   ],
   "source": [
    "# output dataframe\n",
    "pd.DataFrame([['Smith', 'Alice', 5, 4, float(\"nan\"), 4, 4.333333333333333]], \n",
    "             columns=['Last Name', 'First Name', 'Algebra', 'Calculus', \n",
    "                      'Music', 'Law', 'GPA'], index=[1])"
   ]
  },
  {
   "cell_type": "code",
   "execution_count": 44,
   "metadata": {
    "deletable": false,
    "nbgrader": {
     "cell_type": "code",
     "checksum": "2fc703d41c0d36496a127d95f946372f",
     "grade": false,
     "grade_id": "cell-cd32c94236514104",
     "locked": false,
     "schema_version": 3,
     "solution": true,
     "task": false
    }
   },
   "outputs": [],
   "source": [
    "def gpa_top(df):\n",
    "    df['GPA'] = df.mean(axis=1)\n",
    "    df = df.sort_values(by = 'GPA', ascending = False)\n",
    "    df = df[df.GPA >= 4]\n",
    "    return df\n"
   ]
  },
  {
   "cell_type": "code",
   "execution_count": 45,
   "metadata": {
    "deletable": false,
    "editable": false,
    "nbgrader": {
     "cell_type": "code",
     "checksum": "858cc0b7a73012d5cc1161be468cf85f",
     "grade": true,
     "grade_id": "cell-707b8cbd3c09e52e",
     "locked": true,
     "points": 2,
     "schema_version": 3,
     "solution": false,
     "task": false
    }
   },
   "outputs": [],
   "source": [
    "import pandas as pd\n",
    "def pd_repr(df):\n",
    "    content = repr(df.values.tolist()).replace('nan', 'float(\"nan\")')\n",
    "    columns = repr(df.columns.tolist())\n",
    "    index = repr(df.index.tolist())\n",
    "    return \"pd.DataFrame(%s, columns=%s, index=%s)\" % (content, columns, index)\n",
    "\n",
    "def test(table, columns, newtable, newindex):\n",
    "    inp = pd.DataFrame(table, columns=columns)\n",
    "    expected = pd.DataFrame(newtable, columns = columns + ['GPA'], index=newindex)\n",
    "    out = gpa_top(inp)\n",
    "    if len(out) == 0 and len(expected) == 0:\n",
    "        return\n",
    "    assert out.equals(expected), \"Something wrong for input dataframe %s\" % pd_repr(inp)\n",
    "\n",
    "test([['Doe', 'John', 4, 5, 3.0, 5]], ['Last Name', 'First Name', 'Algebra', 'Calculus', 'Music', 'Law'], [['Doe', 'John', 4, 5, 3.0, 5, 4.25]], [0])\n",
    "test([['Doe', 'John', 4, 5, 3.0, 5], ['Smith', 'Alice', 5, 4, float('nan'), 4]], ['Last Name', 'First Name', 'Algebra', 'Calculus', 'Music', 'Law'], [['Smith', 'Alice', 5, 4, float('nan'), 4, 4.333333333333333], ['Doe', 'John', 4, 5, 3.0, 5, 4.25]], [1, 0])\n",
    "test([['Doe', 'John', 1, 5, 3.0, 5], ['Smith', 'Alice', 5, 4, float('nan'), 4]], ['Last Name', 'First Name', 'Algebra', 'Calculus', 'Music', 'Law'], [['Smith', 'Alice', 5, 4, float('nan'), 4, 4.333333333333333]], [1])\n",
    "test([['Doe', 'John', 4, float('nan'), 3.0, float('nan')], ['Smith', 'Alice', 2, 4, float('nan'), 4]], ['Last Name', 'First Name', 'Algebra', 'Calculus', 'Music', 'Law'], [], [])\n",
    "test([['Doe', 'John', 4, float('nan'), 5.0, float('nan')], ['Smith', 'Alice', 5, 5, float('nan'), 4]], ['Last Name', 'First Name', 'Algebra', 'Calculus', 'Music', 'Law'], [['Smith', 'Alice', 5, 5.0, float('nan'), 4.0, 4.666666666666667], ['Doe', 'John', 4, float('nan'), 5.0, float('nan'), 4.5]], [1, 0])\n",
    "test([['Doe', 'John', 4, float('nan'), 5.0, float('nan'), 4, 5], ['Smith', 'Alice', 5, 5, float('nan'), 4, 4, float('nan')]], ['Last Name', 'First Name', 'Algebra', 'Calculus', 'Music', 'Law', 'Science', 'English'], [['Doe', 'John', 4, float('nan'), 5.0, float('nan'), 4, 5.0, 4.5], ['Smith', 'Alice', 5, 5.0, float('nan'), 4.0, 4, float('nan'), 4.5]], [0, 1])\n",
    "test([['Doe', 'John', 4, float('nan'), 5.0, float('nan'), 4, 5], ['Smith', 'Alice', 5, 5, float('nan'), 4, 5, float('nan')], ['Doe', 'Alice', 4, float('nan'), 5.0, float('nan'), 4, 5], ['Smith', 'John', 5, 5, float('nan'), 3, 4, float('nan')], ['Doe', 'John', 4, float('nan'), 5.0, 2, 4, 5], ['Smith', 'Alice', 2, 2, float('nan'), 4, 4, float('nan')]], ['Last Name', 'First Name', 'Algebra', 'Calculus', 'Music', 'Law', 'Science', 'English'], [['Smith', 'Alice', 5, 5.0, float('nan'), 4.0, 5, float('nan'), 4.75], ['Doe', 'John', 4, float('nan'), 5.0, float('nan'), 4, 5.0, 4.5], ['Doe', 'Alice', 4, float('nan'), 5.0, float('nan'), 4, 5.0, 4.5], ['Smith', 'John', 5, 5.0, float('nan'), 3.0, 4, float('nan'), 4.25], ['Doe', 'John', 4, float('nan'), 5.0, 2.0, 4, 5.0, 4.0]], [1, 0, 2, 3, 4])"
   ]
  },
  {
   "cell_type": "markdown",
   "metadata": {},
   "source": [
    "## Problem 7\n",
    "Consider dataframe `grades` that contains a table with grades of various students on various assignments (student is a row, assignment is a column). There is a series `weights` that contains weights for each assignment. Sum of weights is equal to 1. Write function `weight_grades(grades, weights)` that returns series with final grade of each student, calculated as weighted sum of their grades for each assignment.\n",
    "\n",
    "**Hint.** There is method `.dot` for dataframe, it makes matrix multiplication (like `SUMPRODUCT` in spreadsheets)."
   ]
  },
  {
   "cell_type": "code",
   "execution_count": 56,
   "metadata": {
    "deletable": false,
    "nbgrader": {
     "cell_type": "code",
     "checksum": "1382af33236d9d0d2d16e23d7712b214",
     "grade": false,
     "grade_id": "cell-7bb3be6bd4a4a8a2",
     "locked": false,
     "schema_version": 3,
     "solution": true,
     "task": false
    }
   },
   "outputs": [],
   "source": [
    "def weight_grades(grades, weights):\n",
    "    return grades.dot(weights)\n",
    "    "
   ]
  },
  {
   "cell_type": "code",
   "execution_count": 57,
   "metadata": {
    "deletable": false,
    "editable": false,
    "nbgrader": {
     "cell_type": "code",
     "checksum": "5048501345199dbab8447cb9e4e2a7e7",
     "grade": true,
     "grade_id": "cell-0b6cae7d9ec863f3",
     "locked": true,
     "points": 1,
     "schema_version": 3,
     "solution": false,
     "task": false
    }
   },
   "outputs": [],
   "source": [
    "grades = pd.DataFrame(dict(hw1=[3, 2, 2], hw2=[2, 3, 4]), index=['Alice', \n",
    "                                                             'Claudia', \n",
    "                                                             'Bob'])\n",
    "weights = pd.Series([0.75, 0.25], index=['hw2', 'hw1'])\n",
    "assert (weight_grades(grades, weights) == pd.Series([2.25, 2.75, 3.5],\n",
    "                                                   index = ['Alice', \n",
    "                                                            'Claudia', \n",
    "                                                            'Bob'])).all()\n",
    "\n",
    "grades = pd.DataFrame(dict(hw1=[3, 2], hw2=[2, 3], hw3=[0, 1]),\n",
    "                      index=['Alice', 'Claudia'])\n",
    "\n",
    "weights = pd.Series(dict(hw1=0.25, hw2=0.5, hw3=0.25))\n",
    "assert weight_grades(grades, weights).to_dict() == {'Alice': 1.75, \n",
    "                                                    'Claudia': 2.25}"
   ]
  },
  {
   "cell_type": "markdown",
   "metadata": {},
   "source": [
    "### Problem 8 (2 points)\n",
    "Sometimes you have to standartize data: for example, shift and rescale each variable in such a way that mean becomes 0 and standard deviation becomes 1. Consider matrix $(x_{ij})$, $i$ is number of row and $j$ is number of column. Then standartized values are calculated in the following way:\n",
    "\n",
    "$$z_{ij}=\\frac{x_{ij}-\\bar{x}_{\\cdot j}}{\\mathrm{\\mathop{SD}}({x}_{\\cdot j})},$$\n",
    "where ${x}_{\\cdot j}$ is a vector of values in $j$'th column and $\\bar{x}_{\\cdot j}$ is its sample average.\n",
    "\n",
    "Write function `standartize(X)` that performs this opertion with dataframe `X`. It can be done surprisingly simple in pandas!\n",
    "\n",
    "**Note.** You are not allowed to use loops or `if`'s in this problem.\n",
    "\n",
    "**Hint.** If you have a dataframe and a series which length is equal to number of rows of the dataframe, you can apply arithmetic operations to this dataframe and series and they will be done row-wise. For example:"
   ]
  },
  {
   "cell_type": "code",
   "execution_count": 58,
   "metadata": {},
   "outputs": [
    {
     "data": {
      "text/html": [
       "<div>\n",
       "<style scoped>\n",
       "    .dataframe tbody tr th:only-of-type {\n",
       "        vertical-align: middle;\n",
       "    }\n",
       "\n",
       "    .dataframe tbody tr th {\n",
       "        vertical-align: top;\n",
       "    }\n",
       "\n",
       "    .dataframe thead th {\n",
       "        text-align: right;\n",
       "    }\n",
       "</style>\n",
       "<table border=\"1\" class=\"dataframe\">\n",
       "  <thead>\n",
       "    <tr style=\"text-align: right;\">\n",
       "      <th></th>\n",
       "      <th>0</th>\n",
       "      <th>1</th>\n",
       "      <th>2</th>\n",
       "    </tr>\n",
       "  </thead>\n",
       "  <tbody>\n",
       "    <tr>\n",
       "      <th>0</th>\n",
       "      <td>101</td>\n",
       "      <td>202</td>\n",
       "      <td>303</td>\n",
       "    </tr>\n",
       "    <tr>\n",
       "      <th>1</th>\n",
       "      <td>104</td>\n",
       "      <td>205</td>\n",
       "      <td>306</td>\n",
       "    </tr>\n",
       "  </tbody>\n",
       "</table>\n",
       "</div>"
      ],
      "text/plain": [
       "     0    1    2\n",
       "0  101  202  303\n",
       "1  104  205  306"
      ]
     },
     "execution_count": 58,
     "metadata": {},
     "output_type": "execute_result"
    }
   ],
   "source": [
    "a = pd.DataFrame([[1, 2, 3], [4, 5, 6]])\n",
    "s = pd.Series([100, 200, 300])\n",
    "a + s"
   ]
  },
  {
   "cell_type": "code",
   "execution_count": 61,
   "metadata": {
    "deletable": false,
    "nbgrader": {
     "cell_type": "code",
     "checksum": "c4e0d2d237b2ebfa16af01b393abaf93",
     "grade": false,
     "grade_id": "cell-b0889bdf3343b9da",
     "locked": false,
     "schema_version": 3,
     "solution": true,
     "task": false
    }
   },
   "outputs": [],
   "source": [
    "def standartize(X):\n",
    "    return (X - X.mean()) / X.std()\n"
   ]
  },
  {
   "cell_type": "code",
   "execution_count": 64,
   "metadata": {
    "deletable": false,
    "editable": false,
    "nbgrader": {
     "cell_type": "code",
     "checksum": "287bdecdc097bdd7d15df592b0624733",
     "grade": true,
     "grade_id": "cell-df69669be9b7ec2c",
     "locked": true,
     "points": 2,
     "schema_version": 3,
     "solution": false,
     "task": false
    }
   },
   "outputs": [],
   "source": [
    "pd.testing.assert_frame_equal(standartize(pd.DataFrame([[1, 1, 2], [4, 5, 6], [1, 2, 10]])), pd.DataFrame([[-0.5773502691896258, -0.8006407690254355, -1.0], [1.1547005383792517, 1.12089707663561, 0.0], [-0.5773502691896258, -0.32025630761017415, 1.0]], columns=[0, 1, 2], index=[0, 1, 2]))"
   ]
  },
  {
   "cell_type": "markdown",
   "metadata": {},
   "source": [
    "## Problem 9 (2 points)\n",
    "Write function `filter_outliers(df)` that takes dataframe of arbitrary size filled with numeric values and returns a new dataframe obtained from `df` by replacing all values, that are smaller than 0.05-quantile or 0.95-quantile of a column, by number 0. For example, if 0.05-quantile of the first column is $2$, all values in the first column that are smaller than $2$ should be replaced by $0$.\n",
    "\n",
    "**Hint.** You can use `.quantile` method of `DataFrame`. Also `.where` is a useful `pd.DataFrame` method similar to that one of `pd.Series`.\n",
    "\n",
    "**Note.** You are not allowed to use loops or `if`'s in this problem."
   ]
  },
  {
   "cell_type": "code",
   "execution_count": null,
   "metadata": {
    "deletable": false,
    "nbgrader": {
     "cell_type": "code",
     "checksum": "8506c542e55a8235e460616bbef3a3a0",
     "grade": false,
     "grade_id": "cell-a483e5a417ada70e",
     "locked": false,
     "schema_version": 3,
     "solution": true,
     "task": false
    }
   },
   "outputs": [],
   "source": [
    "# your code here\n"
   ]
  },
  {
   "cell_type": "code",
   "execution_count": null,
   "metadata": {
    "deletable": false,
    "editable": false,
    "nbgrader": {
     "cell_type": "code",
     "checksum": "e8f39f7ee0bc291d3e1b8452ef5681d8",
     "grade": true,
     "grade_id": "cell-eb68914ed221bf38",
     "locked": true,
     "points": 2,
     "schema_version": 3,
     "solution": false,
     "task": false
    }
   },
   "outputs": [],
   "source": [
    "ans = [{0:{0:31.0,1:-18.0,2:17.0,3:12.0,4:21.0,5:26.0,6:-18.0,7:-3.0,8:0.0,9:26.0},1:{0:-6.0,1:1.0,2:-19.0,3:37.0,4:39.0,5:0.0,6:30.0,7:-17.0,8:-19.0,9:14.0},2:{0:40.0,1:32.0,2:0.0,3:1.0,4:-6.0,5:30.0,6:0.0,7:39.0,8:39.0,9:15.0},3:{0:0.0,1:0.0,2:39.0,3:28.0,4:0.0,5:34.0,6:0.0,7:-7.0,8:23.0,9:29.0},4:{0:3.0,1:9.0,2:0.0,3:38.0,4:41.0,5:0.0,6:18.0,7:-12.0,8:-13.0,9:0.0}},\n",
    "      {0:{0:31.0,1:40.0,2:3.0,3:1.0,4:0.0,5:17.0,6:0.0,7:0.0},1:{0:-6.0,1:0.0,2:-18.0,3:32.0,4:9.0,5:0.0,6:0.0,7:12.0}},\n",
    "      {0:{0:31.0,1:3.0,2:0.0,3:0.0,4:37.0,5:21.0,6:41.0,7:34.0,8:-14.0,9:-17.0,10:32.0,11:-13.0,12:29.0,13:33.0,14:-3.0,15:-7.0,16:19.0,17:39.0,18:24.0,19:-13.0,20:14.0,21:20.0,22:13.0,23:41.0,24:0.0,25:-16.0,26:-6.0,27:31.0,28:22.0,29:11.0,30:21.0,31:-15.0,32:9.0,33:6.0,34:6.0,35:30.0,36:11.0,37:31.0,38:-18.0,39:0.0},1:{0:-6.0,1:0.0,2:9.0,3:39.0,4:1.0,5:39.0,6:26.0,7:0.0,8:0.0,9:39.0,10:0.0,11:26.0,12:-17.0,13:-17.0,14:23.0,15:27.0,16:32.0,17:20.0,18:0.0,19:42.0,20:14.0,21:7.0,22:12.0,23:16.0,24:26.0,25:-7.0,26:21.0,27:-17.0,28:8.0,29:38.0,30:24.0,31:7.0,32:41.0,33:41.0,34:-12.0,35:23.0,36:31.0,37:-9.0,38:35.0,39:33.0},2:{0:40.0,1:1.0,2:17.0,3:0.0,4:28.0,5:-6.0,6:41.0,7:-18.0,8:18.0,9:-7.0,10:39.0,11:14.0,12:0.0,13:33.0,14:13.0,15:-6.0,16:3.0,17:8.0,18:-12.0,19:-10.0,20:12.0,21:-14.0,22:27.0,23:23.0,24:-18.0,25:6.0,26:30.0,27:2.0,28:15.0,29:7.0,30:41.0,31:7.0,32:41.0,33:-18.0,34:41.0,35:3.0,36:41.0,37:18.0,38:38.0,39:0.0},3:{0:0.0,1:32.0,2:-19.0,3:12.0,4:38.0,5:41.0,6:30.0,7:30.0,8:-3.0,9:-12.0,10:23.0,11:15.0,12:-15.0,13:42.0,14:41.0,15:41.0,16:5.0,17:-6.0,18:-20.0,19:-13.0,20:-16.0,21:-9.0,22:2.0,23:14.0,24:-20.0,25:-12.0,26:42.0,27:-6.0,28:-8.0,29:0.0,30:36.0,31:23.0,32:-20.0,33:0.0,34:16.0,35:38.0,36:37.0,37:-19.0,38:-19.0,39:-2.0}}]\n",
    "params = ((50, 10, 0), (16, 8, 1), (160, 40, 2))\n",
    "for param in params:\n",
    "    np.random.seed(42)\n",
    "    dd = filter_outliers(pd.DataFrame(np.random.randint(-20, 50, param[0]).reshape(param[1],-1)))\n",
    "    assert dd.astype(float).equals(pd.DataFrame(ans[param[-1]]))"
   ]
  },
  {
   "cell_type": "markdown",
   "metadata": {},
   "source": [
    "### Problem 10 (2 points)\n",
    "\n",
    "Write function `sort_gradebook(gradebook)` that accepts a gradebook which is a list of lists (not a dataframe!) `[first_name, last_name, grade_1, grade_2, ..., grade_n, final_grade]`, where `first_name` — student's first name, `last_name` — student's last name, `grade_1, ..., grade_n` — student's grades on assignments (`n` — is overall number of assignments, it is the same for all students), `final_grade` — final grade. Function have to sort `gradebook` in the following way:\n",
    "\n",
    "- By final grade;\n",
    "- If final grade coincides — by grade for the first assignment;\n",
    "- If they coincide — by grade for the second assignemnt;\n",
    "- If they coincide — by grade for the third assignments (and so on, until the last assignment);\n",
    "- If all grades coincide — by last name;\n",
    "- If all grades and last name coincide — by name.\n",
    "\n",
    "Sorting by grades is descending, sorting by last name is ascending, sorting by first name is descending.\n",
    "\n",
    "Return the resulting table as dataframe.\n",
    "\n",
    "**Note.** You are not allowed to use loops or `if`'s here. You are also not allowed to use function `sorted` or list method `.sort`. Use `pandas` methods instead.\n",
    "\n",
    "**Hint.** argument `ascending` in `sort_values` method of a DataFrame takes lists."
   ]
  },
  {
   "cell_type": "code",
   "execution_count": null,
   "metadata": {
    "deletable": false,
    "nbgrader": {
     "cell_type": "code",
     "checksum": "70519fc8c7b4a0cc59996047e6bd0b6d",
     "grade": false,
     "grade_id": "cell-619720bc3d4de0d9",
     "locked": false,
     "schema_version": 3,
     "solution": true,
     "task": false
    }
   },
   "outputs": [],
   "source": [
    "# your code here\n"
   ]
  },
  {
   "cell_type": "code",
   "execution_count": null,
   "metadata": {
    "deletable": false,
    "editable": false,
    "nbgrader": {
     "cell_type": "code",
     "checksum": "170a3218d0dd8a5a44e5c1e9cf6fe2a6",
     "grade": true,
     "grade_id": "cell-55439fe5837932a1",
     "locked": true,
     "points": 2,
     "schema_version": 3,
     "solution": false,
     "task": false
    }
   },
   "outputs": [],
   "source": [
    "from itertools import permutations\n",
    "def test_sort(inp, outp):\n",
    "    for i in permutations(inp):\n",
    "        assert sort_gradebook(list(i)).values.tolist() == outp, i\n",
    "\n",
    "test_sort([\n",
    "        ['Alice', 'Smith', 2, 3, 4],\n",
    "        ['John', 'Smith', 2, 3, 5]\n",
    "    ], [\n",
    "        ['John', 'Smith', 2, 3, 5],\n",
    "        ['Alice', 'Smith', 2, 3, 4]\n",
    "])\n",
    "\n",
    "test_sort([\n",
    "        ['Alice', 'Smith', 2, 3, 4],\n",
    "        ['John', 'Smith', 2, 3, 4]\n",
    "    ], [\n",
    "    ['John', 'Smith', 2, 3, 4],\n",
    "    ['Alice', 'Smith', 2, 3, 4],    \n",
    "])\n",
    "\n",
    "test_sort([\n",
    "        ['Alice', 'Smith', 1, 3, 4],\n",
    "        ['John', 'Smith', 2, 3, 4]\n",
    "        ], [\n",
    "        ['John', 'Smith', 2, 3, 4],\n",
    "        ['Alice', 'Smith', 1, 3, 4]\n",
    "])\n",
    "\n",
    "test_sort([\n",
    "            ['Alice', 'Smith', 1, 1, 1, 3, 4],\n",
    "            ['John', 'Smith', 1, 1, 2, 3, 4]],\n",
    "                         [\n",
    "            ['John', 'Smith', 1, 1, 2, 3, 4],\n",
    "            ['Alice', 'Smith', 1, 1, 1, 3, 4]\n",
    "])\n",
    "\n",
    "test_sort([\n",
    "            ['Alice', 'Doe', 1, 1, 3, 3, 4],\n",
    "            ['Alice', 'Smith', 1, 1, 3, 3, 4],\n",
    "            ['John', 'Smith', 1, 1, 2, 3, 4]], \n",
    "          [\n",
    "            ['Alice', 'Doe', 1, 1, 3, 3, 4],\n",
    "            ['Alice', 'Smith', 1, 1, 3, 3, 4],\n",
    "            ['John', 'Smith', 1, 1, 2, 3, 4]\n",
    "])\n",
    "\n",
    "test_sort([\n",
    "        ['Alice', 'Doe', 1, 1, 3, 3, 4],\n",
    "        ['Alice', 'Smith', 1, 1, 3, 3, 4],\n",
    "        ['John', 'Smith', 2, 1, 2, 3, 4]], \n",
    "          [\n",
    "        ['John', 'Smith', 2, 1, 2, 3, 4],\n",
    "        ['Alice', 'Doe', 1, 1, 3, 3, 4],\n",
    "        ['Alice', 'Smith', 1, 1, 3, 3, 4],\n",
    "])\n",
    "\n",
    "del test_sort"
   ]
  },
  {
   "cell_type": "markdown",
   "metadata": {},
   "source": [
    "### Problem 11\n",
    "You have a list of dictionaries like `[{'Alice': 2, 'Bob': 3}, {'Alice': 5, 'Claudia': 2}, {'Alice': 5, 'Bob': 4}]` that contains information about student's grades. You want to calculate mean grade of each student. If in some of these lists there is no record for a particular student, this list is ignored for this student. Write a function `mean_grade_dict(lst)` that takes this list of dictionaries and returns dictionary which keys are student's names and values are their average grades.\n",
    "\n",
    "**Note.** You are not allowed to use loops or `if`'s here.\n",
    "\n",
    "**Hint.** You can create `pd.DataFrame` from list of dictionaries. There is `.to_dict()` method of `pd.Series` objects."
   ]
  },
  {
   "cell_type": "code",
   "execution_count": 53,
   "metadata": {
    "deletable": false,
    "nbgrader": {
     "cell_type": "code",
     "checksum": "87e0ecc845dcea1953d1cf6d28d38eee",
     "grade": false,
     "grade_id": "cell-6336a3f000c3d9be",
     "locked": false,
     "schema_version": 3,
     "solution": true,
     "task": false
    }
   },
   "outputs": [],
   "source": [
    "def mean_grade_dict(lst):\n",
    "    df = pd.DataFrame(lst)\n",
    "    df2 = df.mean(axis=0)\n",
    "    return df2.to_dict()\n",
    "    "
   ]
  },
  {
   "cell_type": "code",
   "execution_count": 55,
   "metadata": {
    "deletable": false,
    "editable": false,
    "nbgrader": {
     "cell_type": "code",
     "checksum": "e06f5b34dc816eee37bcede4b45a356c",
     "grade": true,
     "grade_id": "cell-1b79493b312292cf",
     "locked": true,
     "points": 1,
     "schema_version": 3,
     "solution": false,
     "task": false
    }
   },
   "outputs": [],
   "source": [
    "assert mean_grade_dict([{'Alice': 2, 'Bob': 3}, {'Alice': 5, 'Claudia': 2}, {'Alice': 5, 'Bob': 4}]) == {'Alice': 4.0, 'Bob': 3.5, 'Claudia': 2.0}\n",
    "assert mean_grade_dict([{'Alice': 2, 'Bob': 3}, {'Alice': 5, 'Claudia': 2}, {'Alice': 5, 'Bob': 4}, {'Elizabeth': 3}, {'Alice': 4, 'Elizabeth': 2}]) == {'Alice': 4.0, 'Bob': 3.5, 'Claudia': 2.0, 'Elizabeth': 2.5}"
   ]
  }
 ],
 "metadata": {
  "kernelspec": {
   "display_name": "Python 3",
   "language": "python",
   "name": "python3"
  },
  "language_info": {
   "codemirror_mode": {
    "name": "ipython",
    "version": 3
   },
   "file_extension": ".py",
   "mimetype": "text/x-python",
   "name": "python",
   "nbconvert_exporter": "python",
   "pygments_lexer": "ipython3",
   "version": "3.7.6"
  }
 },
 "nbformat": 4,
 "nbformat_minor": 4
}
