{
 "cells": [
  {
   "cell_type": "markdown",
   "metadata": {},
   "source": [
    "# Statistics basics\n",
    "This is autograded assignment. After each problem there is a test cell (with `assert`'s). If it runs correctly, test is passed, if it gives error, something should be fixed. Implement the functions, click \"Validate\" button, then submit for grading. All problems weight 1 point except where stated otherwise.\n",
    "\n",
    "## Working with series"
   ]
  },
  {
   "cell_type": "code",
   "execution_count": 1,
   "metadata": {},
   "outputs": [],
   "source": [
    "import pandas as pd"
   ]
  },
  {
   "cell_type": "markdown",
   "metadata": {},
   "source": [
    "### Problem 1\n",
    "Write function `squares(n)` that returns `pd.Series` object that contains squares of consequent integer numbers from 0 to `n` (`n` is excluded). Indexe should contain numbers 0, 1, 2, ..., `n-1`. For example, `squares(4)` should return `Series` that looks like\n",
    "\n",
    "```\n",
    "0    0\n",
    "1    1\n",
    "2    4\n",
    "3    9\n",
    "dtype: int64\n",
    "```"
   ]
  },
  {
   "cell_type": "code",
   "execution_count": 5,
   "metadata": {
    "deletable": false,
    "nbgrader": {
     "cell_type": "code",
     "checksum": "55204fa687db4e46a16fc14edffd03a4",
     "grade": false,
     "grade_id": "cell-9dd95fec278d8a2a",
     "locked": false,
     "schema_version": 3,
     "solution": true,
     "task": false
    }
   },
   "outputs": [],
   "source": [
    "def squares(n):\n",
    "    return pd.Series([i ** 2 for i in range(n)])\n",
    "    "
   ]
  },
  {
   "cell_type": "code",
   "execution_count": 8,
   "metadata": {
    "deletable": false,
    "editable": false,
    "nbgrader": {
     "cell_type": "code",
     "checksum": "3995b1049b5e8d6fd190a4bfbd5649bb",
     "grade": true,
     "grade_id": "cell-220f5b6106b3b7d6",
     "locked": true,
     "points": 1,
     "schema_version": 3,
     "solution": false,
     "task": false
    }
   },
   "outputs": [],
   "source": [
    "assert squares(3).equals(pd.Series([0, 1, 4]))\n",
    "assert squares(1).equals(pd.Series([0]))"
   ]
  },
  {
   "cell_type": "markdown",
   "metadata": {},
   "source": [
    "## Problem 2\n",
    "Write function `squares_of_numbers(numbers)` that returns `pd.Series` object that contains squares of numbers from list `numbers`. Index should coincide with `numbers`. For example, `squares_of_numbers([1, 5, 2])` should return `Series` that looks like\n",
    "\n",
    "```\n",
    "1     1\n",
    "5    25\n",
    "2     4\n",
    "dtype: int64\n",
    "```"
   ]
  },
  {
   "cell_type": "code",
   "execution_count": 16,
   "metadata": {
    "deletable": false,
    "nbgrader": {
     "cell_type": "code",
     "checksum": "34c175ec4e4a0f562b2daba91dca2a7b",
     "grade": false,
     "grade_id": "cell-855308483bf16d92",
     "locked": false,
     "schema_version": 3,
     "solution": true,
     "task": false
    }
   },
   "outputs": [],
   "source": [
    "def squares_of_numbers(numbers):\n",
    "    return pd.Series([i ** 2 for i in numbers] ,index=numbers)\n",
    "    "
   ]
  },
  {
   "cell_type": "code",
   "execution_count": 17,
   "metadata": {
    "deletable": false,
    "editable": false,
    "nbgrader": {
     "cell_type": "code",
     "checksum": "a1e45e00d8a65b2499d40055ad30ce3c",
     "grade": true,
     "grade_id": "cell-b7afa609988cf3af",
     "locked": true,
     "points": 1,
     "schema_version": 3,
     "solution": false,
     "task": false
    }
   },
   "outputs": [],
   "source": [
    "assert squares_of_numbers([1, 5, 2]).equals(pd.Series([1, 25, 4], index=[1, 5, 2]))\n",
    "assert squares_of_numbers([1, 4, 2])[4] == 16\n",
    "assert squares_of_numbers(range(100, 0,-1)).equals(pd.Series((pd.Series(range(100, 0, -1)) ** 2).values, index=range(100, 0, -1)))"
   ]
  },
  {
   "cell_type": "markdown",
   "metadata": {},
   "source": [
    "## Problem 3\n",
    "Write function `get_grade_from_series(series, firstname, lastname)` that takes three arguments: `series` is `pd.Series` whose indexes are full names of students and values are their grades, `firstname` and `lastname` are first and last names of a student we are interested in. Names are concatenated with one space. For example,\n",
    "\n",
    "```\n",
    "get_grade_from_series(pd.Series(['A', 'F', 'B'], \n",
    "                                 index=['Alice Smith', 'John Doe', 'Eliza Richardson']),\n",
    "                       'John', 'Doe')\n",
    "```\n",
    "sould return `'F'`.\n",
    "\n",
    "**Note.** You are not allowed to use loops or `if`'s in this problem."
   ]
  },
  {
   "cell_type": "code",
   "execution_count": 23,
   "metadata": {
    "deletable": false,
    "nbgrader": {
     "cell_type": "code",
     "checksum": "e148906a19e0a0532bfc1f008e2444f6",
     "grade": false,
     "grade_id": "cell-770a17f5ee665489",
     "locked": false,
     "schema_version": 3,
     "solution": true,
     "task": false
    }
   },
   "outputs": [],
   "source": [
    "def get_grade_from_series(series, firstname, lastname):\n",
    "    return series[firstname + ' ' + lastname]\n",
    "    "
   ]
  },
  {
   "cell_type": "code",
   "execution_count": 25,
   "metadata": {
    "deletable": false,
    "editable": false,
    "nbgrader": {
     "cell_type": "code",
     "checksum": "09fbbd3d776a8de9f55fd14442858da5",
     "grade": true,
     "grade_id": "cell-1d86b09f5b2e2e80",
     "locked": true,
     "points": 1,
     "schema_version": 3,
     "solution": false,
     "task": false
    }
   },
   "outputs": [],
   "source": [
    "assert get_grade_from_series(pd.Series(['A', 'F', 'B'], \n",
    "                                 index=['Alice Smith', 'John Doe', 'Eliza Richardson']),\n",
    "                       'John', 'Doe') == 'F'\n",
    "assert get_grade_from_series(pd.Series([100, 200], index=['A B', 'C D']), 'A', 'B') == 100"
   ]
  },
  {
   "cell_type": "markdown",
   "metadata": {},
   "source": [
    "## Problem 4\n",
    "Write function `first_element(series)` that return the value of the first element of a series. It should work with any kind of indexes.\n",
    "\n",
    "**Note.** You are not allowed to use loops or `if`'s in this problem."
   ]
  },
  {
   "cell_type": "code",
   "execution_count": 30,
   "metadata": {
    "deletable": false,
    "nbgrader": {
     "cell_type": "code",
     "checksum": "d265d352f118614057fe0111e4898d04",
     "grade": false,
     "grade_id": "cell-2b35f24c7675aa3c",
     "locked": false,
     "schema_version": 3,
     "solution": true,
     "task": false
    }
   },
   "outputs": [],
   "source": [
    "def first_element(series):\n",
    "    return series.iloc[0]\n",
    "    "
   ]
  },
  {
   "cell_type": "code",
   "execution_count": 31,
   "metadata": {
    "deletable": false,
    "editable": false,
    "nbgrader": {
     "cell_type": "code",
     "checksum": "fb16cd506efbf76d1d555fa5d6f2b687",
     "grade": true,
     "grade_id": "cell-edb244edfb33a0b6",
     "locked": true,
     "points": 1,
     "schema_version": 3,
     "solution": false,
     "task": false
    }
   },
   "outputs": [],
   "source": [
    "assert first_element(pd.Series([2, 5, 100])) == 2\n",
    "assert first_element(pd.Series([2, 5, 100], index=['a', 'b', 'c'])) == 2\n",
    "assert first_element(pd.Series([100, 3, 5], index=[2, 0, 1])) == 100\n",
    "assert first_element(pd.Series(range(100), index=range(100, 0, -1))) == 0"
   ]
  },
  {
   "cell_type": "markdown",
   "metadata": {},
   "source": [
    "## Problem 5\n",
    "Write function `middle_third(series)` that returns middle third of a series `series`. For example, if `series` is\n",
    "\n",
    "```\n",
    "9     1\n",
    "1     5\n",
    "4     3\n",
    "3    10\n",
    "7    12\n",
    "5    15\n",
    "dtype: int64\n",
    "```\n",
    "\n",
    "shoud be returned the following series:\n",
    "\n",
    "```\n",
    "4     3\n",
    "3    10\n",
    "dtype: int64\n",
    "```\n",
    "\n",
    "You may assume that the number of elements in `series` is multiple of 3.\n",
    "\n",
    "**Hint.** Use function `len` to get number of elements in `series`.\n",
    "\n",
    "**Note.** You are not allowed to use loops or `if`'s in this problem."
   ]
  },
  {
   "cell_type": "code",
   "execution_count": 38,
   "metadata": {
    "deletable": false,
    "nbgrader": {
     "cell_type": "code",
     "checksum": "b16009e168ea658e9b2abd19b68d3d10",
     "grade": false,
     "grade_id": "cell-a88b12a5e2e9dd52",
     "locked": false,
     "schema_version": 3,
     "solution": true,
     "task": false
    }
   },
   "outputs": [],
   "source": [
    "def middle_third(series):\n",
    "    x = int(len(series) / 3)\n",
    "    return series[x:2*x]\n",
    "    "
   ]
  },
  {
   "cell_type": "code",
   "execution_count": 41,
   "metadata": {
    "deletable": false,
    "editable": false,
    "nbgrader": {
     "cell_type": "code",
     "checksum": "6118d88f263be2f518514303ee8fc3af",
     "grade": true,
     "grade_id": "cell-c4ce5e9b6273d995",
     "locked": true,
     "points": 1,
     "schema_version": 3,
     "solution": false,
     "task": false
    }
   },
   "outputs": [],
   "source": [
    "assert middle_third(pd.Series([1, 5, 3, 10, 12, 15], index=[9, 1, 4, 3, 7, 5])).equals(pd.Series([3, 10], index=[4, 3]))\n",
    "assert middle_third(pd.Series(['a', 'b', 'c', 'd', 'e', 'f', 'g', 'h', 'j'], index=[1, 3, 5, 7, 10, 2, 4, 9, 6])).equals(pd.Series(['d', 'e', 'f'], index=[7, 10, 2]))"
   ]
  },
  {
   "cell_type": "markdown",
   "metadata": {},
   "source": [
    "## Problem 6\n",
    "Write function `increase(series)` that returns a series obtained from `series` by increasing each its element by 1.\n",
    "\n",
    "**Note.** You are not allowed to use loops or `if`'s in this problem."
   ]
  },
  {
   "cell_type": "code",
   "execution_count": 42,
   "metadata": {
    "deletable": false,
    "nbgrader": {
     "cell_type": "code",
     "checksum": "162698d19d26b148518f0dac8ed8d066",
     "grade": false,
     "grade_id": "cell-fdc8a4f128fae767",
     "locked": false,
     "schema_version": 3,
     "solution": true,
     "task": false
    }
   },
   "outputs": [],
   "source": [
    "def increase(series):\n",
    "    return series + 1\n",
    "    "
   ]
  },
  {
   "cell_type": "code",
   "execution_count": 43,
   "metadata": {
    "deletable": false,
    "editable": false,
    "nbgrader": {
     "cell_type": "code",
     "checksum": "065a350aba30c91501f5bf56c6b3acd8",
     "grade": true,
     "grade_id": "cell-a754a198009377e9",
     "locked": true,
     "points": 1,
     "schema_version": 3,
     "solution": false,
     "task": false
    }
   },
   "outputs": [],
   "source": [
    "assert increase(pd.Series([1, 2, 3])).equals(pd.Series([2, 3, 4]))\n",
    "assert increase(pd.Series([1, 2, 3], index=[3, 2, 1])).equals(pd.Series([2, 3, 4], index=[3, 2, 1]))\n",
    "assert increase(pd.Series(range(100))).equals(pd.Series(range(1, 101)))"
   ]
  },
  {
   "cell_type": "markdown",
   "metadata": {},
   "source": [
    "## Problem 7\n",
    "Write function `century_20(years)` that takes series `years` with integer values representing years and returns only those years who belongs to 20'th century (from 1901 till 2000).\n",
    "\n",
    "**Note.** You are not allowed to use loops or `if`'s in this problem."
   ]
  },
  {
   "cell_type": "code",
   "execution_count": 46,
   "metadata": {
    "deletable": false,
    "nbgrader": {
     "cell_type": "code",
     "checksum": "4e0d6686cd0fccabd44b318992f1e1fb",
     "grade": false,
     "grade_id": "cell-4b90cdc65dea487a",
     "locked": false,
     "schema_version": 3,
     "solution": true,
     "task": false
    }
   },
   "outputs": [],
   "source": [
    "def century_20(years):\n",
    "    return years[(years >= 1901) & (years <= 2000)]\n",
    "    "
   ]
  },
  {
   "cell_type": "code",
   "execution_count": 47,
   "metadata": {
    "deletable": false,
    "editable": false,
    "nbgrader": {
     "cell_type": "code",
     "checksum": "cbc9553e7ea0f227880a48a28e2808fb",
     "grade": true,
     "grade_id": "cell-3c099354d310185a",
     "locked": true,
     "points": 1,
     "schema_version": 3,
     "solution": false,
     "task": false
    }
   },
   "outputs": [],
   "source": [
    "assert century_20(pd.Series(range(3000))).equals(pd.Series(range(1901, 2001), index=range(1901, 2001)))\n",
    "assert century_20(pd.Series([1983, 1999, 2001, 1876], index=['a', 'b', 'd', 'c'])).equals(pd.Series([1983, 1999], index=['a', 'b']))"
   ]
  },
  {
   "cell_type": "markdown",
   "metadata": {},
   "source": [
    "### Problem 8\n",
    "Write function `get_pancakes(food)` that takes a series of strings and returns a new series obtained from `food` by keeping only elements that contain substring `'pancake'`.\n",
    "\n",
    "**Note.** You are not allowed to use loops or `if`'s in this problem.\n",
    "\n",
    "**Hint.** If `series` contains strings, you an access its elements and apply string operations to them by using accessor `.str`. For example:"
   ]
  },
  {
   "cell_type": "code",
   "execution_count": 48,
   "metadata": {},
   "outputs": [
    {
     "data": {
      "text/plain": [
       "0      alpha\n",
       "1      bravo\n",
       "2    charlie\n",
       "dtype: object"
      ]
     },
     "execution_count": 48,
     "metadata": {},
     "output_type": "execute_result"
    }
   ],
   "source": [
    "series = pd.Series(['alpha', 'bravo', 'charlie'])\n",
    "series"
   ]
  },
  {
   "cell_type": "code",
   "execution_count": 49,
   "metadata": {},
   "outputs": [
    {
     "data": {
      "text/plain": [
       "0      ALPHA\n",
       "1      BRAVO\n",
       "2    CHARLIE\n",
       "dtype: object"
      ]
     },
     "execution_count": 49,
     "metadata": {},
     "output_type": "execute_result"
    }
   ],
   "source": [
    "series.str.upper()"
   ]
  },
  {
   "cell_type": "code",
   "execution_count": 50,
   "metadata": {},
   "outputs": [
    {
     "data": {
      "text/plain": [
       "0    l\n",
       "1    r\n",
       "2    h\n",
       "dtype: object"
      ]
     },
     "execution_count": 50,
     "metadata": {},
     "output_type": "execute_result"
    }
   ],
   "source": [
    "series.str[1]"
   ]
  },
  {
   "cell_type": "code",
   "execution_count": 51,
   "metadata": {},
   "outputs": [
    {
     "data": {
      "text/plain": [
       "0     True\n",
       "1    False\n",
       "2     True\n",
       "dtype: bool"
      ]
     },
     "execution_count": 51,
     "metadata": {},
     "output_type": "execute_result"
    }
   ],
   "source": [
    "series.str.contains('ha')"
   ]
  },
  {
   "cell_type": "code",
   "execution_count": 54,
   "metadata": {
    "deletable": false,
    "nbgrader": {
     "cell_type": "code",
     "checksum": "450fe2e5436d331747d6fbb6fd4e1c8f",
     "grade": false,
     "grade_id": "cell-9c67a84b5ffbafa9",
     "locked": false,
     "schema_version": 3,
     "solution": true,
     "task": false
    }
   },
   "outputs": [],
   "source": [
    "def get_pancakes(food):\n",
    "    return food[(food.str.upper()).str.contains('PANCAKE')]\n"
   ]
  },
  {
   "cell_type": "code",
   "execution_count": 55,
   "metadata": {
    "deletable": false,
    "editable": false,
    "nbgrader": {
     "cell_type": "code",
     "checksum": "4ca3b68b786a4766a9b236516a7937fa",
     "grade": true,
     "grade_id": "cell-d0ab92de90c6a990",
     "locked": true,
     "points": 1,
     "schema_version": 3,
     "solution": false,
     "task": false
    }
   },
   "outputs": [],
   "source": [
    "assert get_pancakes(pd.Series(['russian kvas', 'sweet pancake', 'okroshka'])).equals(pd.Series(['sweet pancake'], index=[1]))\n",
    "assert get_pancakes(pd.Series(['pancake', 'pancakes','cheescake',  'pancake'])).equals(pd.Series(['pancake', 'pancakes', 'pancake'], index=[0, 1, 3]))"
   ]
  },
  {
   "cell_type": "markdown",
   "metadata": {},
   "source": [
    "## Problem 9 (2 points)\n",
    "Write function `even_to_negative(series)` that takes series of numbers and makes all even elements of this series negative (keeping their absolute value). For example `even_to_negative(pd.Series([1, 2, -3, -4, -5, 6, 7, 8])` should return `pd.Series([1, -2, -3, -4, -5, -6, 7, -8])`.\n",
    "\n",
    "**Note.** You are not allowed to use loops or `if`'s in this problem.\n",
    "\n",
    "**Hint.** It is possible to avoid `if`'s using method `.where`. It allows you to replace values in one series by values in another series if some condition is satisfied. For example:"
   ]
  },
  {
   "cell_type": "code",
   "execution_count": 56,
   "metadata": {},
   "outputs": [
    {
     "data": {
      "text/plain": [
       "0      1\n",
       "1    100\n",
       "2      3\n",
       "3      4\n",
       "4    100\n",
       "dtype: int64"
      ]
     },
     "execution_count": 56,
     "metadata": {},
     "output_type": "execute_result"
    }
   ],
   "source": [
    "series = pd.Series([1, 2, 3, 4, 5])\n",
    "mask = pd.Series([True, False, True, True, False])\n",
    "series.where(mask, 100)"
   ]
  },
  {
   "cell_type": "markdown",
   "metadata": {},
   "source": [
    "You see that `series.where` replaced elements in the initial `series` by number `where` in positions that corresponds to `False` in its first argument. Usual way to use it is construct mask by condition. For example:"
   ]
  },
  {
   "cell_type": "code",
   "execution_count": 57,
   "metadata": {},
   "outputs": [
    {
     "data": {
      "text/plain": [
       "0      1\n",
       "1      2\n",
       "2    100\n",
       "3    100\n",
       "4    100\n",
       "dtype: int64"
      ]
     },
     "execution_count": 57,
     "metadata": {},
     "output_type": "execute_result"
    }
   ],
   "source": [
    "series = pd.Series([1, 2, 3, 4, 5])\n",
    "series.where(series < 3, 100)"
   ]
  },
  {
   "cell_type": "markdown",
   "metadata": {},
   "source": [
    "Here we replace all elements that are smaller than 3 by 100. \n",
    "\n",
    "The second argument of `where` may be also `Series`. In this case elements for replacements would be taken from this series."
   ]
  },
  {
   "cell_type": "code",
   "execution_count": 58,
   "metadata": {},
   "outputs": [
    {
     "data": {
      "text/plain": [
       "0         1\n",
       "1         2\n",
       "2      3000\n",
       "3     40000\n",
       "4    500000\n",
       "dtype: int64"
      ]
     },
     "execution_count": 58,
     "metadata": {},
     "output_type": "execute_result"
    }
   ],
   "source": [
    "series = pd.Series([1, 2, 3, 4, 5])\n",
    "newseries = pd.Series([10, 200, 3000, 40000, 500000])\n",
    "series.where(series < 3, newseries)"
   ]
  },
  {
   "cell_type": "code",
   "execution_count": 77,
   "metadata": {
    "deletable": false,
    "nbgrader": {
     "cell_type": "code",
     "checksum": "5ddfd9f2f7845477b9a723b659ba35e0",
     "grade": false,
     "grade_id": "cell-46361fc766655d15",
     "locked": false,
     "schema_version": 3,
     "solution": true,
     "task": false
    }
   },
   "outputs": [],
   "source": [
    "def even_to_negative(series):\n",
    "    negative_series = -series\n",
    "    return series.where((series % 2 != 0) | (series < 0), negative_series)\n",
    "    "
   ]
  },
  {
   "cell_type": "code",
   "execution_count": 78,
   "metadata": {
    "deletable": false,
    "editable": false,
    "nbgrader": {
     "cell_type": "code",
     "checksum": "ca85eb1663f10fcc13b200fdb3333379",
     "grade": true,
     "grade_id": "cell-bb1c5d80844e35a9",
     "locked": true,
     "points": 2,
     "schema_version": 3,
     "solution": false,
     "task": false
    }
   },
   "outputs": [],
   "source": [
    "assert even_to_negative(pd.Series([1, 2, -3, -4, -5, 6, 7, 8])).equals(pd.Series([1, -2, -3, -4, -5, -6, 7, -8]))\n",
    "assert even_to_negative(pd.Series([1, 2, 3], index=[3, 2, 1])).equals(pd.Series([1, -2, 3], index=[3, 2, 1]))"
   ]
  },
  {
   "cell_type": "markdown",
   "metadata": {},
   "source": [
    "### Problem 10 (3 points)\n",
    "In some state, income tax is calculated in the following way. Base fare is 13%. If in some month your income is larger than 1000, for the rest of the year (beginning from the next month), fare is set to 20%. For example, if your income is 150 every month, then in July you will have 150 × 7 = 1050 and beginning from August your tax rate is 20%. Write function `calculate_tax(income)` that takes series `income` that contains montly income (beginning from the beginning of year) and returns the overall tax value. The year can has arbitrary length.\n",
    "\n",
    "\n",
    "**Hint.** you need cumulative sum method `.cumsum()`. Also it is useful to know that `True == 1` и `False == 0`, and use method `.any()`.\n",
    "\n",
    "**Note.** You are not allowed to use loops. You are allowed to use exactly one `if`."
   ]
  },
  {
   "cell_type": "code",
   "execution_count": null,
   "metadata": {
    "deletable": false,
    "nbgrader": {
     "cell_type": "code",
     "checksum": "5e415f94f35ab68c6cef5d81993d4b3b",
     "grade": false,
     "grade_id": "cell-96e12c3d8f59170a",
     "locked": false,
     "schema_version": 3,
     "solution": true,
     "task": false
    }
   },
   "outputs": [],
   "source": []
  },
  {
   "cell_type": "code",
   "execution_count": null,
   "metadata": {
    "deletable": false,
    "editable": false,
    "nbgrader": {
     "cell_type": "code",
     "checksum": "76072415003b9261c8e735417918d191",
     "grade": true,
     "grade_id": "cell-1ba0624af1af488b",
     "locked": true,
     "points": 3,
     "schema_version": 3,
     "solution": false,
     "task": false
    }
   },
   "outputs": [],
   "source": [
    "import numpy as np\n",
    "\n",
    "assert np.isclose(calculate_tax(pd.Series([150]*12)), 286.5)\n",
    "assert np.isclose(calculate_tax(pd.Series([100]*12)), 163)\n",
    "assert np.isclose(calculate_tax(pd.Series([50]*12)), 78)\n",
    "assert np.isclose(calculate_tax(pd.Series([1000]*12)), 2260)\n",
    "\n",
    "assert np.isclose(calculate_tax(pd.Series(range(12))*100), 1215)\n",
    "assert np.isclose(calculate_tax(pd.Series(range(11,-1,-1))*100), 1243)\n",
    "income = pd.Series([150, 150, 150, 150, 150, 150, 150, 150], \n",
    "                   index=list('abcdefgh'))\n",
    "assert np.isclose(calculate_tax(income), 166.5)\n",
    "income = pd.Series([150, 150, 150, 150, 150, 150, 150, 150], \n",
    "                   index=[1, 3, 2, 4, 6, 4, 7, 8])\n",
    "assert np.isclose(calculate_tax(income), 166.5)"
   ]
  }
 ],
 "metadata": {
  "kernelspec": {
   "display_name": "Python 3",
   "language": "python",
   "name": "python3"
  },
  "language_info": {
   "codemirror_mode": {
    "name": "ipython",
    "version": 3
   },
   "file_extension": ".py",
   "mimetype": "text/x-python",
   "name": "python",
   "nbconvert_exporter": "python",
   "pygments_lexer": "ipython3",
   "version": "3.7.6"
  }
 },
 "nbformat": 4,
 "nbformat_minor": 4
}
