{
 "cells": [
  {
   "cell_type": "markdown",
   "metadata": {},
   "source": [
    "# Statistics basics\n",
    "## Central Limit Theorem with pandas"
   ]
  },
  {
   "cell_type": "markdown",
   "metadata": {},
   "source": [
    "Let us recall Central Limit Theorem. It says the following. Let $(x_1, \\ldots, x_n)$ be an i.i.d. sample from some random variable $X$ with finite variance. Then sample mean $\\bar x$ is distributed approximately with normal law. More exact, let us consider z-score:\n",
    "\n",
    "$$z=\\frac{\\bar x - \\mathbb EX}{\\mathop{\\mathrm{SD}}(X)}\\sqrt{n}$$\n",
    "\n",
    "As one can see, z-score is shifted and rescaled version of $\\bar x$. In the numerator, we shift $\\bar x$ by $\\mathbb EX$ to achieve zero expected value. After that we divide it by standard error of mean $\\mathop{\\mathrm{SD}}(X)/\\sqrt{n}$, which is standard deviation of sample average.\n",
    "\n",
    "Theorem says that the distribution of z-score tends to the standard normal distribution.\n",
    "\n",
    "We already made simulations that illustrate this theorem in the course of Probability. But now we can do it more effectively thanks to pandas."
   ]
  },
  {
   "cell_type": "markdown",
   "metadata": {},
   "source": [
    "## The old way\n",
    "Let us recall how we did our simulations previously."
   ]
  },
  {
   "cell_type": "code",
   "execution_count": 38,
   "metadata": {},
   "outputs": [],
   "source": [
    "import numpy as np\n",
    "import matplotlib.pyplot as plt\n",
    "import scipy.stats\n",
    "import pandas as pd\n",
    "\n",
    "%matplotlib inline"
   ]
  },
  {
   "cell_type": "code",
   "execution_count": 39,
   "metadata": {},
   "outputs": [
    {
     "data": {
      "image/png": "[encoded data removed]",
      "text/plain": [
       "<Figure size 432x288 with 1 Axes>"
      ]
     },
     "metadata": {
      "needs_background": "light"
     },
     "output_type": "display_data"
    }
   ],
   "source": [
    "def the_old_way(number_of_samples, sample_size, plot=True):\n",
    "\n",
    "    means = []\n",
    "    zscores = []\n",
    "\n",
    "    EX = 0.5\n",
    "    VarX = 1. / 12\n",
    "    # Expected value and variance of our initial distribution\n",
    "    # Now use are using uniform distribution\n",
    "\n",
    "    for i in range(number_of_samples):\n",
    "        sample = np.random.uniform(low=0, high=1, \n",
    "                                   size=sample_size)\n",
    "        # create new sample\n",
    "\n",
    "        mean = sum(sample) / len(sample)\n",
    "        # find its mean\n",
    "\n",
    "        zscore = (mean - EX) * np.sqrt(sample_size) / np.sqrt(VarX)\n",
    "        # find its z-score\n",
    "\n",
    "        means.append(mean)\n",
    "        zscores.append(zscore)\n",
    "        # save everything\n",
    "\n",
    "    if plot:\n",
    "        xrange = np.linspace(-3.5, 3.5)\n",
    "        plt.hist(zscores, density=True, bins=20)\n",
    "        plt.plot(xrange, scipy.stats.norm.pdf(xrange))\n",
    "        plt.grid()\n",
    "\n",
    "the_old_way(1000, 100)"
   ]
  },
  {
   "cell_type": "markdown",
   "metadata": {},
   "source": [
    "This code can be made simpler and faster. First of all, note that `np.random.uniform` (like other random number generators from *numpy*) can produce not only one-dimensional arrays populated by samples from uniform, but also two- and multidimensional arrays (matrixes and more). You just have to put tuple into `size` argument instead of sample size."
   ]
  },
  {
   "cell_type": "code",
   "execution_count": 40,
   "metadata": {},
   "outputs": [
    {
     "data": {
      "text/plain": [
       "array([[0.9028452 , 0.9825669 , 0.5584829 ],\n",
       "       [0.43258356, 0.29659995, 0.66689509],\n",
       "       [0.79173361, 0.13098781, 0.44518005],\n",
       "       [0.85821866, 0.59060964, 0.4936861 ],\n",
       "       [0.85598981, 0.89099687, 0.44382584]])"
      ]
     },
     "execution_count": 40,
     "metadata": {},
     "output_type": "execute_result"
    }
   ],
   "source": [
    "np.random.uniform(low=0, high=1, size=(5, 3))"
   ]
  },
  {
   "cell_type": "markdown",
   "metadata": {},
   "source": [
    "We obtained matrix with 5 rows and 3 columns. One can treat this matrix as a collection of 5 samples, each sample has 3 elements. Thus we can avoid loops."
   ]
  },
  {
   "cell_type": "markdown",
   "metadata": {},
   "source": [
    "## Task 1\n",
    "Write a function `generate_data(number_of_samples, sample_size)` that returns dataframe with `number_of_samples` rows and `sample_size` columns populated by uniformly distributed random variables.\n",
    "\n",
    "**Note.** No loops allowed!\n",
    "\n",
    "**Hint.** `pd.DataFrame` can be constructed from the array returned by `np.random.uniform`."
   ]
  },
  {
   "cell_type": "code",
   "execution_count": 41,
   "metadata": {
    "deletable": false,
    "nbgrader": {
     "cell_type": "code",
     "checksum": "b95d7d8c1c59e5008d8dfa27b5216927",
     "grade": false,
     "grade_id": "cell-43f3daded56f79b4",
     "locked": false,
     "schema_version": 3,
     "solution": true,
     "task": false
    }
   },
   "outputs": [],
   "source": [
    "def generate_data(number_of_samples, sample_size):\n",
    "    df = np.random.uniform(low=0, high=1, size=(number_of_samples, sample_size))\n",
    "    return df\n"
   ]
  },
  {
   "cell_type": "code",
   "execution_count": 42,
   "metadata": {
    "deletable": false,
    "editable": false,
    "nbgrader": {
     "cell_type": "code",
     "checksum": "0ada8869f46cbb90cf9ae1230dbb4cb2",
     "grade": true,
     "grade_id": "cell-c40bd7a74be967a7",
     "locked": true,
     "points": 1,
     "schema_version": 3,
     "solution": false,
     "task": false
    }
   },
   "outputs": [],
   "source": [
    "assert generate_data(105, 3).shape == (105, 3)\n",
    "assert np.abs(generate_data(100000, 10).mean().mean() - 0.5) < 0.01\n",
    "assert np.abs(generate_data(100000, 10).var(ddof=1).mean() - 1./12) < 0.01"
   ]
  },
  {
   "cell_type": "markdown",
   "metadata": {},
   "source": [
    "## Task 2\n",
    "Write function `mk_zscores(df, EX, VarX)` that takes dataframe generated by `generate_data` and returns series that contains z-score for each sample (row) of data in `df` using values of `EX` (population mean) and `VarX` (population variance) provided.\n",
    "\n",
    "**Note.** No loops allowed!\n",
    "\n",
    "**Hint.** To get number of rows and columns in dataframe, atribute `.shape` may be used."
   ]
  },
  {
   "cell_type": "code",
   "execution_count": 43,
   "metadata": {
    "deletable": false,
    "nbgrader": {
     "cell_type": "code",
     "checksum": "a51d6626b37e2c6bbc7a2ff273babdf0",
     "grade": false,
     "grade_id": "cell-5514a891ddd86923",
     "locked": false,
     "schema_version": 3,
     "solution": true,
     "task": false
    }
   },
   "outputs": [],
   "source": [
    "def mk_zscores(df, EX, VarX):\n",
    "        mean = df.mean(axis=1)\n",
    "        zscore = (mean - EX) * np.sqrt(df.shape[1]) / np.sqrt(VarX)\n",
    "        return zscore\n",
    "    "
   ]
  },
  {
   "cell_type": "code",
   "execution_count": 44,
   "metadata": {
    "deletable": false,
    "editable": false,
    "nbgrader": {
     "cell_type": "code",
     "checksum": "30276bb162dab7edf3f4c94005bbab45",
     "grade": true,
     "grade_id": "cell-cccb4c77b752bbe3",
     "locked": true,
     "points": 1,
     "schema_version": 3,
     "solution": false,
     "task": false
    }
   },
   "outputs": [],
   "source": [
    "pd.testing.assert_series_equal(mk_zscores(pd.DataFrame([[1, 2, 3], [4, 5, 10], [1, 100, 3], [10, 2, 15]]), \n",
    "                                          EX=0.5, VarX=1./ 12),\n",
    "                               pd.Series([  9.,  35., 205.,  51.]))"
   ]
  },
  {
   "cell_type": "markdown",
   "metadata": {},
   "source": [
    "Finally, let us draw the histogram:"
   ]
  },
  {
   "cell_type": "code",
   "execution_count": 45,
   "metadata": {},
   "outputs": [],
   "source": [
    "def the_new_way(number_of_samples, sample_size, plot=True):\n",
    "    zscores = mk_zscores(generate_data(number_of_samples, sample_size), EX=0.5, VarX=1./12)\n",
    "    if plot:\n",
    "        zscores.hist(density=True, bins=20)\n",
    "        xrange = np.linspace(-3.5, 3.5)\n",
    "        plt.plot(xrange, scipy.stats.norm.pdf(xrange))"
   ]
  },
  {
   "cell_type": "markdown",
   "metadata": {},
   "source": [
    "If everything is correct, old and new pictures should like very similar:"
   ]
  },
  {
   "cell_type": "code",
   "execution_count": 46,
   "metadata": {},
   "outputs": [
    {
     "ename": "AttributeError",
     "evalue": "'numpy.ndarray' object has no attribute 'hist'",
     "output_type": "error",
     "traceback": [
      "\u001b[0;31m---------------------------------------------------------------------------\u001b[0m",
      "\u001b[0;31mAttributeError\u001b[0m                            Traceback (most recent call last)",
      "\u001b[0;32m<ipython-input-46-6c80681b5917>\u001b[0m in \u001b[0;36m<module>\u001b[0;34m\u001b[0m\n\u001b[0;32m----> 1\u001b[0;31m \u001b[0mthe_new_way\u001b[0m\u001b[0;34m(\u001b[0m\u001b[0;36m10000\u001b[0m\u001b[0;34m,\u001b[0m \u001b[0;36m100\u001b[0m\u001b[0;34m)\u001b[0m\u001b[0;34m\u001b[0m\u001b[0;34m\u001b[0m\u001b[0m\n\u001b[0m",
      "\u001b[0;32m<ipython-input-45-6f1e6ecfb95e>\u001b[0m in \u001b[0;36mthe_new_way\u001b[0;34m(number_of_samples, sample_size, plot)\u001b[0m\n\u001b[1;32m      2\u001b[0m     \u001b[0mzscores\u001b[0m \u001b[0;34m=\u001b[0m \u001b[0mmk_zscores\u001b[0m\u001b[0;34m(\u001b[0m\u001b[0mgenerate_data\u001b[0m\u001b[0;34m(\u001b[0m\u001b[0mnumber_of_samples\u001b[0m\u001b[0;34m,\u001b[0m \u001b[0msample_size\u001b[0m\u001b[0;34m)\u001b[0m\u001b[0;34m,\u001b[0m \u001b[0mEX\u001b[0m\u001b[0;34m=\u001b[0m\u001b[0;36m0.5\u001b[0m\u001b[0;34m,\u001b[0m \u001b[0mVarX\u001b[0m\u001b[0;34m=\u001b[0m\u001b[0;36m1.\u001b[0m\u001b[0;34m/\u001b[0m\u001b[0;36m12\u001b[0m\u001b[0;34m)\u001b[0m\u001b[0;34m\u001b[0m\u001b[0;34m\u001b[0m\u001b[0m\n\u001b[1;32m      3\u001b[0m     \u001b[0;32mif\u001b[0m \u001b[0mplot\u001b[0m\u001b[0;34m:\u001b[0m\u001b[0;34m\u001b[0m\u001b[0;34m\u001b[0m\u001b[0m\n\u001b[0;32m----> 4\u001b[0;31m         \u001b[0mzscores\u001b[0m\u001b[0;34m.\u001b[0m\u001b[0mhist\u001b[0m\u001b[0;34m(\u001b[0m\u001b[0mdensity\u001b[0m\u001b[0;34m=\u001b[0m\u001b[0;32mTrue\u001b[0m\u001b[0;34m,\u001b[0m \u001b[0mbins\u001b[0m\u001b[0;34m=\u001b[0m\u001b[0;36m20\u001b[0m\u001b[0;34m)\u001b[0m\u001b[0;34m\u001b[0m\u001b[0;34m\u001b[0m\u001b[0m\n\u001b[0m\u001b[1;32m      5\u001b[0m         \u001b[0mxrange\u001b[0m \u001b[0;34m=\u001b[0m \u001b[0mnp\u001b[0m\u001b[0;34m.\u001b[0m\u001b[0mlinspace\u001b[0m\u001b[0;34m(\u001b[0m\u001b[0;34m-\u001b[0m\u001b[0;36m3.5\u001b[0m\u001b[0;34m,\u001b[0m \u001b[0;36m3.5\u001b[0m\u001b[0;34m)\u001b[0m\u001b[0;34m\u001b[0m\u001b[0;34m\u001b[0m\u001b[0m\n\u001b[1;32m      6\u001b[0m         \u001b[0mplt\u001b[0m\u001b[0;34m.\u001b[0m\u001b[0mplot\u001b[0m\u001b[0;34m(\u001b[0m\u001b[0mxrange\u001b[0m\u001b[0;34m,\u001b[0m \u001b[0mscipy\u001b[0m\u001b[0;34m.\u001b[0m\u001b[0mstats\u001b[0m\u001b[0;34m.\u001b[0m\u001b[0mnorm\u001b[0m\u001b[0;34m.\u001b[0m\u001b[0mpdf\u001b[0m\u001b[0;34m(\u001b[0m\u001b[0mxrange\u001b[0m\u001b[0;34m)\u001b[0m\u001b[0;34m)\u001b[0m\u001b[0;34m\u001b[0m\u001b[0;34m\u001b[0m\u001b[0m\n",
      "\u001b[0;31mAttributeError\u001b[0m: 'numpy.ndarray' object has no attribute 'hist'"
     ]
    }
   ],
   "source": [
    "the_new_way(10000, 100)"
   ]
  },
  {
   "cell_type": "code",
   "execution_count": null,
   "metadata": {},
   "outputs": [],
   "source": [
    "the_old_way(10000, 100)"
   ]
  },
  {
   "cell_type": "code",
   "execution_count": null,
   "metadata": {},
   "outputs": [],
   "source": [
    "the_new_way(10000, 1)"
   ]
  },
  {
   "cell_type": "code",
   "execution_count": null,
   "metadata": {},
   "outputs": [],
   "source": [
    "the_old_way(10000, 1)"
   ]
  },
  {
   "cell_type": "markdown",
   "metadata": {},
   "source": [
    "Let us check the speed."
   ]
  },
  {
   "cell_type": "code",
   "execution_count": null,
   "metadata": {},
   "outputs": [],
   "source": [
    "%%timeit \n",
    "the_old_way(10000, 1, plot=False)"
   ]
  },
  {
   "cell_type": "code",
   "execution_count": null,
   "metadata": {},
   "outputs": [],
   "source": [
    "%%timeit \n",
    "the_new_way(10000, 1, plot=False)"
   ]
  },
  {
   "cell_type": "markdown",
   "metadata": {},
   "source": [
    "Pandas is wa-a-ay faster!\n",
    "\n",
    "That's why we love it!"
   ]
  }
 ],
 "metadata": {
  "kernelspec": {
   "display_name": "Python 3",
   "language": "python",
   "name": "python3"
  },
  "language_info": {
   "codemirror_mode": {
    "name": "ipython",
    "version": 3
   },
   "file_extension": ".py",
   "mimetype": "text/x-python",
   "name": "python",
   "nbconvert_exporter": "python",
   "pygments_lexer": "ipython3",
   "version": "3.7.6"
  }
 },
 "nbformat": 4,
 "nbformat_minor": 4
}
