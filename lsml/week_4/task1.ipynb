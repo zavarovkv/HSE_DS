{
 "cells": [
  {
   "cell_type": "code",
   "execution_count": 88,
   "metadata": {
    "collapsed": false
   },
   "outputs": [],
   "source": [
    "import time\n",
    "\n",
    "from datetime import datetime as dt\n",
    "from pyspark.sql import SparkSession\n",
    "from pyspark import SparkContext, SparkConf\n",
    "from pyspark.sql.functions import unix_timestamp\n",
    "\n"
   ]
  },
  {
   "cell_type": "code",
   "execution_count": 73,
   "metadata": {
    "collapsed": true
   },
   "outputs": [],
   "source": [
    "spark = SparkSession.builder.master(\"local[*]\").getOrCreate()\n",
    "\n",
    "spark = SparkSession \\\n",
    "    .builder \\\n",
    "    .appName(\"Python Spark Assignment\") \\\n",
    "    .config(\"spark.some.config.option\", \"some-value\") \\\n",
    "    .getOrCreate()\n",
    "    \n",
    "sc = spark.sparkContext\n",
    "rdd = sc.textFile(\"/data/lsml/4-5-spark/flights.csv\")"
   ]
  },
  {
   "cell_type": "code",
   "execution_count": 114,
   "metadata": {
    "collapsed": false
   },
   "outputs": [
    {
     "name": "stdout",
     "output_type": "stream",
     "text": [
      "33121\n",
      "['1185,PG0134,2017-09-10 09:50:00+03,2017-09-10 14:55:00+03,DME,BTK,Scheduled,319,,']\n"
     ]
    }
   ],
   "source": [
    "print(rdd.count())\n",
    "print(rdd.take(1))"
   ]
  },
  {
   "cell_type": "code",
   "execution_count": 115,
   "metadata": {
    "collapsed": true
   },
   "outputs": [],
   "source": [
    "def show_head(rdd, cnt=5):\n",
    "    for line in rdd.take(cnt):\n",
    "        if isinstance(line, list):\n",
    "            print(line)\n",
    "        else:\n",
    "            print([val for val in line.split(',')])"
   ]
  },
  {
   "cell_type": "code",
   "execution_count": 116,
   "metadata": {
    "collapsed": false
   },
   "outputs": [
    {
     "name": "stdout",
     "output_type": "stream",
     "text": [
      "['1185', 'PG0134', '2017-09-10 09:50:00+03', '2017-09-10 14:55:00+03', 'DME', 'BTK', 'Scheduled', '319', '', '']\n",
      "['3979', 'PG0052', '2017-08-25 14:50:00+03', '2017-08-25 17:35:00+03', 'VKO', 'HMA', 'Scheduled', 'CR2', '', '']\n",
      "['4739', 'PG0561', '2017-09-05 12:30:00+03', '2017-09-05 14:15:00+03', 'VKO', 'AER', 'Scheduled', '763', '', '']\n",
      "['5502', 'PG0529', '2017-09-12 09:50:00+03', '2017-09-12 11:20:00+03', 'SVO', 'UFA', 'Scheduled', '763', '', '']\n",
      "['6938', 'PG0461', '2017-09-04 12:25:00+03', '2017-09-04 13:20:00+03', 'SVO', 'ULV', 'Scheduled', 'SU9', '', '']\n"
     ]
    }
   ],
   "source": [
    "show_head(rdd)"
   ]
  },
  {
   "cell_type": "code",
   "execution_count": 128,
   "metadata": {
    "collapsed": false
   },
   "outputs": [
    {
     "name": "stdout",
     "output_type": "stream",
     "text": [
      "1503\n",
      "['4947', 'PG0468', '2017-08-07 13:15:00+03', '2017-08-07 14:05:00+03', 'SVO', 'LED', 'Arrived', '321', '2017-08-07 13:16:00+03', '2017-08-07 14:06:00+03']\n",
      "['4950', 'PG0469', '2017-08-07 12:35:00+03', '2017-08-07 13:25:00+03', 'SVO', 'LED', 'Arrived', '321', '2017-08-07 12:39:00+03', '2017-08-07 13:28:00+03']\n",
      "['4951', 'PG0470', '2017-08-07 10:20:00+03', '2017-08-07 11:10:00+03', 'SVO', 'LED', 'Arrived', '321', '2017-08-07 10:23:00+03', '2017-08-07 11:12:00+03']\n",
      "['4952', 'PG0471', '2017-08-07 18:40:00+03', '2017-08-07 19:30:00+03', 'SVO', 'LED', 'Arrived', '321', '2017-08-07 18:43:00+03', '2017-08-07 19:34:00+03']\n",
      "['4953', 'PG0472', '2017-08-07 18:30:00+03', '2017-08-07 19:20:00+03', 'SVO', 'LED', 'Arrived', '321', '2017-08-07 18:33:00+03', '2017-08-07 19:23:00+03']\n",
      "None\n"
     ]
    }
   ],
   "source": [
    "rdd2 = rdd.map(\n",
    "    lambda line:\n",
    "        line.split(',')\n",
    ").filter(\n",
    "    lambda line:\n",
    "        line[4] == 'SVO' and \n",
    "        line[6] == 'Arrived'\n",
    ")\n",
    "\n",
    "print(rdd2.count())\n",
    "print(show_head(rdd2))"
   ]
  },
  {
   "cell_type": "code",
   "execution_count": 140,
   "metadata": {
    "collapsed": false
   },
   "outputs": [
    {
     "name": "stdout",
     "output_type": "stream",
     "text": [
      "75\n",
      "[['321', True, '2017-07-29 10:20:00+03', '2017-07-29 10:20:00+03'], ['321', True, '2017-07-29 12:35:00+03', '2017-07-29 12:35:00+03'], ['321', True, '2017-08-08 13:15:00+03', '2017-08-08 13:15:00+03'], ['321', True, '2017-08-05 18:30:00+03', '2017-08-05 18:30:00+03'], ['321', True, '2017-08-09 13:15:00+03', '2017-08-09 13:15:00+03']]\n"
     ]
    }
   ],
   "source": [
    "rdd3 = rdd2.map(\n",
    "    lambda line: \n",
    "        [line[7],\n",
    "         dt.strptime(line[2] + '00', '%Y-%m-%d %H:%M:%S%z').timestamp() - \\\n",
    "         dt.strptime(line[8] + '00', '%Y-%m-%d %H:%M:%S%z').timestamp() >= 0,\n",
    "         line[2],\n",
    "         line[8]]\n",
    ").filter(\n",
    "    lambda line:\n",
    "        line[1] is True\n",
    ")\n",
    "\n",
    "print(rdd3.count())\n",
    "print(rdd3.take(5))"
   ]
  },
  {
   "cell_type": "code",
   "execution_count": 129,
   "metadata": {
    "collapsed": false
   },
   "outputs": [
    {
     "name": "stdout",
     "output_type": "stream",
     "text": [
      "75\n",
      "[('321', 1), ('321', 1), ('321', 1), ('321', 1), ('321', 1)]\n"
     ]
    }
   ],
   "source": [
    "rdd4 = rdd3.map(\n",
    "    lambda line: \n",
    "        (line[0], \n",
    "         int(line[1]))\n",
    ")\n",
    "\n",
    "print(rdd4.count())\n",
    "print(rdd4.take(5))"
   ]
  },
  {
   "cell_type": "code",
   "execution_count": 130,
   "metadata": {
    "collapsed": false
   },
   "outputs": [
    {
     "name": "stdout",
     "output_type": "stream",
     "text": [
      "[('SU9', 28), ('CR2', 12), ('321', 11), ('773', 8), ('CN1', 6), ('733', 4), ('319', 4), ('763', 2)]\n"
     ]
    }
   ],
   "source": [
    "rdd5 = rdd4.reduceByKey(lambda a, b: a + b).sortBy(lambda x: x[1], ascending = False)\n",
    "\n",
    "print(rdd5.take(100))"
   ]
  },
  {
   "cell_type": "code",
   "execution_count": 131,
   "metadata": {
    "collapsed": false
   },
   "outputs": [],
   "source": [
    "rdd6 = rdd5.map(lambda x: x[0] + ' ' + str(x[1]))"
   ]
  },
  {
   "cell_type": "code",
   "execution_count": 132,
   "metadata": {
    "collapsed": false
   },
   "outputs": [
    {
     "name": "stdout",
     "output_type": "stream",
     "text": [
      "('SU9', 28)\n",
      "('CR2', 12)\n",
      "('321', 11)\n",
      "('773', 8)\n",
      "('CN1', 6)\n",
      "('733', 4)\n",
      "('319', 4)\n",
      "('763', 2)\n"
     ]
    }
   ],
   "source": [
    "for line in rdd5.collect():\n",
    "    print(line)"
   ]
  },
  {
   "cell_type": "code",
   "execution_count": null,
   "metadata": {
    "collapsed": true
   },
   "outputs": [],
   "source": []
  }
 ],
 "metadata": {
  "kernelspec": {
   "display_name": "Python 3",
   "language": "python",
   "name": "python3"
  },
  "language_info": {
   "codemirror_mode": {
    "name": "ipython",
    "version": 3
   },
   "file_extension": ".py",
   "mimetype": "text/x-python",
   "name": "python",
   "nbconvert_exporter": "python",
   "pygments_lexer": "ipython3",
   "version": "3.4.3"
  }
 },
 "nbformat": 4,
 "nbformat_minor": 2
}
