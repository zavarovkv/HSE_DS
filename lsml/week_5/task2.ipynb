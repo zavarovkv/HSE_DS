{
 "cells": [
  {
   "cell_type": "code",
   "execution_count": 1,
   "metadata": {
    "collapsed": true
   },
   "outputs": [],
   "source": [
    "import time\n",
    "import pyspark.sql.functions as f\n",
    "\n",
    "from pyspark.sql import SparkSession\n",
    "from pyspark import SparkContext, SparkConf\n",
    "from pyspark.sql.types import *\n",
    "\n",
    "from pyspark.sql.functions import array_contains\n",
    "from pyspark.sql.functions import unix_timestamp\n",
    "from pyspark.sql.functions import desc\n",
    "\n"
   ]
  },
  {
   "cell_type": "code",
   "execution_count": 2,
   "metadata": {
    "collapsed": true
   },
   "outputs": [],
   "source": [
    "spark = SparkSession.builder.master('\"local[*]\"').getOrCreate()\n",
    "\n",
    "spark = SparkSession \\\n",
    "    .builder \\\n",
    "    .appName(\"Python Spark Assignment\") \\\n",
    "    .config(\"spark.some.config.option\", \"some-value\") \\\n",
    "    .getOrCreate()"
   ]
  },
  {
   "cell_type": "markdown",
   "metadata": {},
   "source": [
    "#### Read data from file and load to the RAM"
   ]
  },
  {
   "cell_type": "code",
   "execution_count": 25,
   "metadata": {
    "collapsed": false
   },
   "outputs": [
    {
     "name": "stdout",
     "output_type": "stream",
     "text": [
      "+----+------+--------------------+--------------------+---+---+---------+---+----+----+\n",
      "| _c0|   _c1|                 _c2|                 _c3|_c4|_c5|      _c6|_c7| _c8| _c9|\n",
      "+----+------+--------------------+--------------------+---+---+---------+---+----+----+\n",
      "|1185|PG0134|2017-09-10 09:50:...|2017-09-10 14:55:...|DME|BTK|Scheduled|319|null|null|\n",
      "|3979|PG0052|2017-08-25 14:50:...|2017-08-25 17:35:...|VKO|HMA|Scheduled|CR2|null|null|\n",
      "+----+------+--------------------+--------------------+---+---+---------+---+----+----+\n",
      "only showing top 2 rows\n",
      "\n"
     ]
    },
    {
     "data": {
      "text/plain": [
       "33121"
      ]
     },
     "execution_count": 25,
     "metadata": {},
     "output_type": "execute_result"
    }
   ],
   "source": [
    "df_flights = spark.read.csv('/data/lsml/4-5-spark/flights.csv')\n",
    "df_flights.cache()\n",
    "\n",
    "df_flights.show(2)\n",
    "df_flights.count()"
   ]
  },
  {
   "cell_type": "code",
   "execution_count": 26,
   "metadata": {
    "collapsed": false
   },
   "outputs": [
    {
     "name": "stdout",
     "output_type": "stream",
     "text": [
      "+-------------+-----+--------+--------+\n",
      "|          _c0|  _c1|     _c2|     _c3|\n",
      "+-------------+-----+--------+--------+\n",
      "|0005432159776|30625|Business|42100.00|\n",
      "|0005435212351|30625|Business|42100.00|\n",
      "+-------------+-----+--------+--------+\n",
      "only showing top 2 rows\n",
      "\n"
     ]
    },
    {
     "data": {
      "text/plain": [
       "1045726"
      ]
     },
     "execution_count": 26,
     "metadata": {},
     "output_type": "execute_result"
    }
   ],
   "source": [
    "df_tickets = spark.read.csv('/data/lsml/4-5-spark/ticket_flights.csv')\n",
    "df_tickets.cache()\n",
    "\n",
    "df_tickets.show(2)\n",
    "df_tickets.count()"
   ]
  },
  {
   "cell_type": "markdown",
   "metadata": {},
   "source": [
    "#### Transform Flights table\n",
    "\n",
    "##### 1. Calculate delay time in sec"
   ]
  },
  {
   "cell_type": "code",
   "execution_count": 27,
   "metadata": {
    "collapsed": true
   },
   "outputs": [],
   "source": [
    "df_flights = df_flights.withColumn('_c2_unix', unix_timestamp(df_flights['_c2'].cast(TimestampType()), 'yyyy-MM-ddThh:mm:ss'))\n",
    "df_flights = df_flights.withColumn('_c8_unix', unix_timestamp(df_flights['_c8'].cast(TimestampType()), 'yyyy-MM-ddThh:mm:ss'))\n",
    "df_flights = df_flights.withColumn('_c8-c2_unix', df_flights['_c8_unix'] - df_flights['_c2_unix'])"
   ]
  },
  {
   "cell_type": "markdown",
   "metadata": {},
   "source": [
    "##### 2. Select only Arrived status"
   ]
  },
  {
   "cell_type": "code",
   "execution_count": 28,
   "metadata": {
    "collapsed": true
   },
   "outputs": [],
   "source": [
    "df_flights = df_flights[df_flights['_c6'] == 'Arrived']"
   ]
  },
  {
   "cell_type": "markdown",
   "metadata": {},
   "source": [
    "##### 3. Drop columns"
   ]
  },
  {
   "cell_type": "code",
   "execution_count": 29,
   "metadata": {
    "collapsed": false
   },
   "outputs": [],
   "source": [
    "columns_to_drop = ['_c2', '_c3', '_c4', '_c5', '_c6', '_c7', '_c8', '_c9', '_c2_unix', '_c8_unix']\n",
    "df_flights = df_flights.drop(*columns_to_drop)"
   ]
  },
  {
   "cell_type": "code",
   "execution_count": 30,
   "metadata": {
    "collapsed": false
   },
   "outputs": [
    {
     "name": "stdout",
     "output_type": "stream",
     "text": [
      "+---+------+-----------+\n",
      "|_c0|   _c1|_c8-c2_unix|\n",
      "+---+------+-----------+\n",
      "|  1|PG0405|        540|\n",
      "|  2|PG0404|         60|\n",
      "|  3|PG0405|        240|\n",
      "| 14|PG0402|        180|\n",
      "| 15|PG0402|        360|\n",
      "+---+------+-----------+\n",
      "only showing top 5 rows\n",
      "\n"
     ]
    },
    {
     "data": {
      "text/plain": [
       "16707"
      ]
     },
     "execution_count": 30,
     "metadata": {},
     "output_type": "execute_result"
    }
   ],
   "source": [
    "df_flights.show(5)\n",
    "df_flights.count()"
   ]
  },
  {
   "cell_type": "markdown",
   "metadata": {},
   "source": [
    "##### 4. Select Flight's with Flight Number, which is in Tickets"
   ]
  },
  {
   "cell_type": "code",
   "execution_count": 31,
   "metadata": {
    "collapsed": false
   },
   "outputs": [
    {
     "data": {
      "text/plain": [
       "DataFrame[_c1_tmp: string, count: bigint]"
      ]
     },
     "execution_count": 31,
     "metadata": {},
     "output_type": "execute_result"
    }
   ],
   "source": [
    "df_tickets_grouped = df_tickets.groupby('_c1').count()\n",
    "df_tickets_grouped = df_tickets_grouped.withColumnRenamed('_c1', '_c1_tmp')\n",
    "df_tickets_grouped.cache()"
   ]
  },
  {
   "cell_type": "code",
   "execution_count": 32,
   "metadata": {
    "collapsed": false
   },
   "outputs": [
    {
     "name": "stdout",
     "output_type": "stream",
     "text": [
      "+---+------+-----------+\n",
      "|_c0|   _c1|_c8-c2_unix|\n",
      "+---+------+-----------+\n",
      "|  1|PG0405|        540|\n",
      "|  2|PG0404|         60|\n",
      "|  3|PG0405|        240|\n",
      "| 17|PG0404|          0|\n",
      "| 18|PG0405|        240|\n",
      "+---+------+-----------+\n",
      "only showing top 5 rows\n",
      "\n"
     ]
    }
   ],
   "source": [
    "df_flights = df_flights.join(df_tickets_grouped, df_flights['_c0'] == df_tickets_grouped['_c1_tmp'])\n",
    "columns_to_drop = ['_c1_tmp', 'count']\n",
    "df_flights = df_flights.drop(*columns_to_drop)\n",
    "df_flights.show(5)"
   ]
  },
  {
   "cell_type": "code",
   "execution_count": 33,
   "metadata": {
    "collapsed": false
   },
   "outputs": [
    {
     "data": {
      "text/plain": [
       "11438"
      ]
     },
     "execution_count": 33,
     "metadata": {},
     "output_type": "execute_result"
    }
   ],
   "source": [
    "df_flights.count()"
   ]
  },
  {
   "cell_type": "markdown",
   "metadata": {},
   "source": [
    "#### Calculate AVG DELAY OF DEPARTURE TIME"
   ]
  },
  {
   "cell_type": "code",
   "execution_count": 34,
   "metadata": {
    "collapsed": false
   },
   "outputs": [
    {
     "name": "stdout",
     "output_type": "stream",
     "text": [
      "+------+------------------+\n",
      "|   _c1|  avg(_c8-c2_unix)|\n",
      "+------+------------------+\n",
      "|PG0144|193.84615384615384|\n",
      "|PG0325|             160.0|\n",
      "|PG0503| 574.8387096774194|\n",
      "|PG0278|1832.9032258064517|\n",
      "|PG0088|             280.0|\n",
      "+------+------------------+\n",
      "only showing top 5 rows\n",
      "\n"
     ]
    },
    {
     "data": {
      "text/plain": [
       "470"
      ]
     },
     "execution_count": 34,
     "metadata": {},
     "output_type": "execute_result"
    }
   ],
   "source": [
    "df_avg = df_flights.groupby('_c1').avg('_c8-c2_unix')\n",
    "df_avg.show(5)\n",
    "df_avg.count()"
   ]
  },
  {
   "cell_type": "code",
   "execution_count": 36,
   "metadata": {
    "collapsed": false
   },
   "outputs": [
    {
     "name": "stdout",
     "output_type": "stream",
     "text": [
      "+------+----------------+\n",
      "|   _c1|avg(_c8-c2_unix)|\n",
      "+------+----------------+\n",
      "|PG0587|             0.0|\n",
      "+------+----------------+\n",
      "\n"
     ]
    }
   ],
   "source": [
    "df_avg[df_avg['avg(_c8-c2_unix)'] == 0].show()"
   ]
  },
  {
   "cell_type": "markdown",
   "metadata": {
    "collapsed": true
   },
   "source": [
    "### Get tickets from Ticket table where flight status is Arrived"
   ]
  },
  {
   "cell_type": "code",
   "execution_count": 13,
   "metadata": {
    "collapsed": false
   },
   "outputs": [
    {
     "name": "stdout",
     "output_type": "stream",
     "text": [
      "+-------------+-----+--------+--------+------+\n",
      "|          _c0|  _c1|     _c2|     _c3|   _c1|\n",
      "+-------------+-----+--------+--------+------+\n",
      "|0005434877632|10096|Business|49700.00|PG0186|\n",
      "|0005434878408|10096|Business|49700.00|PG0186|\n",
      "|0005434878496|10096|Business|49700.00|PG0186|\n",
      "|0005434878162|10096|Business|49700.00|PG0186|\n",
      "|0005434877976|10096|Business|49700.00|PG0186|\n",
      "+-------------+-----+--------+--------+------+\n",
      "only showing top 5 rows\n",
      "\n"
     ]
    },
    {
     "data": {
      "text/plain": [
       "574830"
      ]
     },
     "execution_count": 13,
     "metadata": {},
     "output_type": "execute_result"
    }
   ],
   "source": [
    "df_tickets_arrived = df_tickets.join(df_flights, df_tickets['_c1'] == df_flights['_c0']).drop(df_flights['_c0']).drop(df_flights['_c8-c2_unix'])\n",
    "\n",
    "df_tickets_arrived.show(5)\n",
    "df_tickets_arrived.count()"
   ]
  },
  {
   "cell_type": "code",
   "execution_count": 14,
   "metadata": {
    "collapsed": false
   },
   "outputs": [
    {
     "name": "stdout",
     "output_type": "stream",
     "text": [
      "+-------------+-----+--------+--------+------+\n",
      "|            0|    1|       2|       3|     4|\n",
      "+-------------+-----+--------+--------+------+\n",
      "|0005434877632|10096|Business|49700.00|PG0186|\n",
      "|0005434878408|10096|Business|49700.00|PG0186|\n",
      "|0005434878496|10096|Business|49700.00|PG0186|\n",
      "|0005434878162|10096|Business|49700.00|PG0186|\n",
      "|0005434877976|10096|Business|49700.00|PG0186|\n",
      "+-------------+-----+--------+--------+------+\n",
      "only showing top 5 rows\n",
      "\n"
     ]
    },
    {
     "data": {
      "text/plain": [
       "574830"
      ]
     },
     "execution_count": 14,
     "metadata": {},
     "output_type": "execute_result"
    }
   ],
   "source": [
    "df_tickets_arrived = df_tickets_arrived.toDF(*map(str, range(len(df_tickets_arrived.columns))))\n",
    "\n",
    "df_tickets_arrived.show(5)\n",
    "df_tickets_arrived.count()"
   ]
  },
  {
   "cell_type": "code",
   "execution_count": 15,
   "metadata": {
    "collapsed": false
   },
   "outputs": [
    {
     "name": "stdout",
     "output_type": "stream",
     "text": [
      "+-------------+-----+--------+-------+------+\n",
      "|            0|    1|       2|      3|     4|\n",
      "+-------------+-----+--------+-------+------+\n",
      "|0005434877632|10096|Business|49700.0|PG0186|\n",
      "|0005434878408|10096|Business|49700.0|PG0186|\n",
      "|0005434878496|10096|Business|49700.0|PG0186|\n",
      "|0005434878162|10096|Business|49700.0|PG0186|\n",
      "|0005434877976|10096|Business|49700.0|PG0186|\n",
      "+-------------+-----+--------+-------+------+\n",
      "only showing top 5 rows\n",
      "\n"
     ]
    }
   ],
   "source": [
    "df_tickets_arrived = df_tickets_arrived.withColumn('3', df_tickets_arrived['3'].cast(FloatType()))\n",
    "df_tickets_arrived.show(5)"
   ]
  },
  {
   "cell_type": "code",
   "execution_count": 16,
   "metadata": {
    "collapsed": false
   },
   "outputs": [
    {
     "name": "stdout",
     "output_type": "stream",
     "text": [
      "+------+--------+\n",
      "|     4|  min(3)|\n",
      "+------+--------+\n",
      "|PG0274| 44500.0|\n",
      "|PG0709|150400.0|\n",
      "|PG0304| 26400.0|\n",
      "|PG0305| 36600.0|\n",
      "|PG0225| 43100.0|\n",
      "+------+--------+\n",
      "only showing top 5 rows\n",
      "\n"
     ]
    },
    {
     "data": {
      "text/plain": [
       "245"
      ]
     },
     "execution_count": 16,
     "metadata": {},
     "output_type": "execute_result"
    }
   ],
   "source": [
    "df_min_b = df_tickets_arrived.groupby('4', '2').min('3')\n",
    "df_min_b = df_min_b[df_min_b['2'] == 'Business'].drop('2')\n",
    "\n",
    "df_min_b.show(5)\n",
    "df_min_b.count()"
   ]
  },
  {
   "cell_type": "code",
   "execution_count": 17,
   "metadata": {
    "collapsed": false
   },
   "outputs": [
    {
     "name": "stdout",
     "output_type": "stream",
     "text": [
      "+------+-------+\n",
      "|     4| min(3)|\n",
      "+------+-------+\n",
      "|PG0224|14000.0|\n",
      "|PG0486| 4200.0|\n",
      "|PG0053|19300.0|\n",
      "|PG0040| 3200.0|\n",
      "|PG0278|28000.0|\n",
      "+------+-------+\n",
      "only showing top 5 rows\n",
      "\n"
     ]
    },
    {
     "data": {
      "text/plain": [
       "470"
      ]
     },
     "execution_count": 17,
     "metadata": {},
     "output_type": "execute_result"
    }
   ],
   "source": [
    "df_min_e = df_tickets_arrived.groupby('4', '2').min('3')\n",
    "df_min_e = df_min_e[df_min_e['2'] == 'Economy'].drop('2')\n",
    "\n",
    "df_min_e.show(5)\n",
    "df_min_e.count()"
   ]
  },
  {
   "cell_type": "code",
   "execution_count": 18,
   "metadata": {
    "collapsed": false
   },
   "outputs": [
    {
     "name": "stdout",
     "output_type": "stream",
     "text": [
      "+------+-----+\n",
      "|     4|count|\n",
      "+------+-----+\n",
      "|PG0144|  131|\n",
      "|PG0325|    6|\n",
      "|PG0278|  516|\n",
      "|PG0503|  187|\n",
      "|PG0088|   14|\n",
      "|PG0211|  238|\n",
      "|PG0383|   92|\n",
      "|PG0690|  146|\n",
      "|PG0412|  639|\n",
      "|PG0539|   74|\n",
      "|PG0230|  687|\n",
      "|PG0521|  252|\n",
      "|PG0108|   14|\n",
      "|PG0311|  285|\n",
      "|PG0588|  199|\n",
      "|PG0217|  493|\n",
      "|PG0397|  200|\n",
      "|PG0115|  132|\n",
      "|PG0571|  169|\n",
      "|PG0186|  416|\n",
      "+------+-----+\n",
      "only showing top 20 rows\n",
      "\n"
     ]
    }
   ],
   "source": [
    "b_seats = df_tickets_arrived[df_tickets_arrived['2'] == 'Business'].groupby('4').count()\n",
    "b_seats.show()"
   ]
  },
  {
   "cell_type": "code",
   "execution_count": 19,
   "metadata": {
    "collapsed": false
   },
   "outputs": [
    {
     "name": "stdout",
     "output_type": "stream",
     "text": [
      "+------+------------------+--------+\n",
      "|   _c1|  avg(_c8-c2_unix)|  min(3)|\n",
      "+------+------------------+--------+\n",
      "|PG0144|193.84615384615384|203300.0|\n",
      "|PG0325|             160.0| 91700.0|\n",
      "|PG0088|             280.0| 92200.0|\n",
      "|PG0278|1832.9032258064517| 84000.0|\n",
      "|PG0503| 574.8387096774194| 67200.0|\n",
      "+------+------------------+--------+\n",
      "only showing top 5 rows\n",
      "\n"
     ]
    }
   ],
   "source": [
    "result = df_avg.join(df_min_b, df_avg['_c1'] == df_min_b['4']).drop(df_min_b['4'])\n",
    "result.show(5)"
   ]
  },
  {
   "cell_type": "code",
   "execution_count": 20,
   "metadata": {
    "collapsed": false
   },
   "outputs": [
    {
     "name": "stdout",
     "output_type": "stream",
     "text": [
      "+------+------------------+--------+-------+\n",
      "|   _c1|  avg(_c8-c2_unix)|  min(3)| min(3)|\n",
      "+------+------------------+--------+-------+\n",
      "|PG0144|193.84615384615384|203300.0|67800.0|\n",
      "|PG0325|             160.0| 91700.0|30600.0|\n",
      "|PG0088|             280.0| 92200.0|30700.0|\n",
      "|PG0278|1832.9032258064517| 84000.0|28000.0|\n",
      "|PG0503| 574.8387096774194| 67200.0|22400.0|\n",
      "+------+------------------+--------+-------+\n",
      "only showing top 5 rows\n",
      "\n"
     ]
    }
   ],
   "source": [
    "result = result.join(df_min_e, result['_c1'] == df_min_e['4']).drop(df_min_e['4'])\n",
    "result.show(5)"
   ]
  },
  {
   "cell_type": "code",
   "execution_count": 21,
   "metadata": {
    "collapsed": false
   },
   "outputs": [
    {
     "name": "stdout",
     "output_type": "stream",
     "text": [
      "+------+------------------+--------+-------+-----+\n",
      "|   _c1|  avg(_c8-c2_unix)|  min(3)| min(3)|count|\n",
      "+------+------------------+--------+-------+-----+\n",
      "|PG0144|193.84615384615384|203300.0|67800.0|  131|\n",
      "|PG0325|             160.0| 91700.0|30600.0|    6|\n",
      "|PG0088|             280.0| 92200.0|30700.0|   14|\n",
      "|PG0278|1832.9032258064517| 84000.0|28000.0|  516|\n",
      "|PG0503| 574.8387096774194| 67200.0|22400.0|  187|\n",
      "+------+------------------+--------+-------+-----+\n",
      "only showing top 5 rows\n",
      "\n"
     ]
    }
   ],
   "source": [
    "result = result.join(b_seats, result['_c1'] == b_seats['4']).drop(b_seats['4'])\n",
    "result.show(5)"
   ]
  },
  {
   "cell_type": "code",
   "execution_count": 22,
   "metadata": {
    "collapsed": false
   },
   "outputs": [
    {
     "name": "stdout",
     "output_type": "stream",
     "text": [
      "+------+------------------+--------+-------+---+\n",
      "|     0|                 1|       2|      3|  4|\n",
      "+------+------------------+--------+-------+---+\n",
      "|PG0144|193.84615384615384|203300.0|67800.0|131|\n",
      "|PG0325|             160.0| 91700.0|30600.0|  6|\n",
      "|PG0088|             280.0| 92200.0|30700.0| 14|\n",
      "|PG0278|1832.9032258064517| 84000.0|28000.0|516|\n",
      "|PG0503| 574.8387096774194| 67200.0|22400.0|187|\n",
      "+------+------------------+--------+-------+---+\n",
      "only showing top 5 rows\n",
      "\n"
     ]
    },
    {
     "data": {
      "text/plain": [
       "245"
      ]
     },
     "execution_count": 22,
     "metadata": {},
     "output_type": "execute_result"
    }
   ],
   "source": [
    "result = result.toDF(*map(str, range(len(result.columns))))\n",
    "result = result.na.fill(0)\n",
    "\n",
    "result.show(5)\n",
    "result.count()"
   ]
  },
  {
   "cell_type": "code",
   "execution_count": 23,
   "metadata": {
    "collapsed": false
   },
   "outputs": [
    {
     "name": "stdout",
     "output_type": "stream",
     "text": [
      "+------+-----------------+--------+-------+---+------------------+\n",
      "|     0|                1|       2|      3|  4|             score|\n",
      "+------+-----------------+--------+-------+---+------------------+\n",
      "|PG0208|            960.0|184500.0|61500.0|759|126.93104166666666|\n",
      "|PG0209|            542.0|184500.0|61500.0|667|120.49184501845019|\n",
      "|PG0356|            934.0|186200.0|62100.0|471|107.46107066381157|\n",
      "|PG0357|843.8709677419355|186200.0|62100.0|415|103.54118501529052|\n",
      "|PG0198|971.6129032258065|132900.0|44300.0|713|103.07102921646747|\n",
      "|PG0703|            190.0|199300.0|66400.0|258| 97.77526315789473|\n",
      "|PG0168|            178.0|199800.0|66600.0|224| 95.60561797752808|\n",
      "|PG0704|            986.0|199300.0|66400.0|215| 94.76101419878296|\n",
      "|PG0169|            182.0|199800.0|66600.0|170|  91.8254945054945|\n",
      "|PG0199|            592.0|132900.0|44300.0|543| 91.17168918918918|\n",
      "+------+-----------------+--------+-------+---+------------------+\n",
      "only showing top 10 rows\n",
      "\n"
     ]
    }
   ],
   "source": [
    "result = result.withColumn('score', 1 / result['1'] + 3 / 10000 * (result['2'] + result['3']) + 7 / 100 * result['4'])\n",
    "result.orderBy(desc('score')).show(10)"
   ]
  },
  {
   "cell_type": "code",
   "execution_count": 24,
   "metadata": {
    "collapsed": false
   },
   "outputs": [
    {
     "name": "stdout",
     "output_type": "stream",
     "text": [
      "+------+------------------+\n",
      "|     0|             score|\n",
      "+------+------------------+\n",
      "|PG0208|126.93104166666666|\n",
      "|PG0209|120.49184501845019|\n",
      "|PG0356|107.46107066381157|\n",
      "|PG0357|103.54118501529052|\n",
      "|PG0198|103.07102921646747|\n",
      "|PG0703| 97.77526315789473|\n",
      "|PG0168| 95.60561797752808|\n",
      "|PG0704| 94.76101419878296|\n",
      "|PG0169|  91.8254945054945|\n",
      "|PG0199| 91.17168918918918|\n",
      "+------+------------------+\n",
      "only showing top 10 rows\n",
      "\n"
     ]
    }
   ],
   "source": [
    "result.orderBy(desc('score')).drop('1').drop('2').drop('3').drop('4').show(10)"
   ]
  },
  {
   "cell_type": "code",
   "execution_count": 37,
   "metadata": {
    "collapsed": false
   },
   "outputs": [
    {
     "data": {
      "text/plain": [
       "pyspark.sql.dataframe.DataFrame"
      ]
     },
     "execution_count": 37,
     "metadata": {},
     "output_type": "execute_result"
    }
   ],
   "source": [
    "type(result)"
   ]
  },
  {
   "cell_type": "code",
   "execution_count": null,
   "metadata": {
    "collapsed": true
   },
   "outputs": [],
   "source": []
  }
 ],
 "metadata": {
  "kernelspec": {
   "display_name": "Python 3",
   "language": "python",
   "name": "python3"
  },
  "language_info": {
   "codemirror_mode": {
    "name": "ipython",
    "version": 3
   },
   "file_extension": ".py",
   "mimetype": "text/x-python",
   "name": "python",
   "nbconvert_exporter": "python",
   "pygments_lexer": "ipython3",
   "version": "3.4.3"
  }
 },
 "nbformat": 4,
 "nbformat_minor": 2
}
