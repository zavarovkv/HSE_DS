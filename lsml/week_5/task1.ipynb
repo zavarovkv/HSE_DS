{
 "cells": [
  {
   "cell_type": "code",
   "execution_count": 1,
   "metadata": {
    "collapsed": true
   },
   "outputs": [],
   "source": [
    "import time\n",
    "import pyspark.sql.functions as f\n",
    "\n",
    "from pyspark.sql import SparkSession\n",
    "from pyspark import SparkContext, SparkConf\n",
    "from pyspark.sql.functions import unix_timestamp\n",
    "from pyspark.sql.types import *\n",
    "from pyspark.sql.functions import desc\n",
    "\n"
   ]
  },
  {
   "cell_type": "code",
   "execution_count": 2,
   "metadata": {
    "collapsed": true
   },
   "outputs": [],
   "source": [
    "spark = SparkSession.builder.master('\"local[*]\"').getOrCreate()\n",
    "\n",
    "spark = SparkSession \\\n",
    "    .builder \\\n",
    "    .appName(\"Python Spark Assignment\") \\\n",
    "    .config(\"spark.some.config.option\", \"some-value\") \\\n",
    "    .getOrCreate()"
   ]
  },
  {
   "cell_type": "code",
   "execution_count": 3,
   "metadata": {
    "collapsed": false
   },
   "outputs": [
    {
     "name": "stdout",
     "output_type": "stream",
     "text": [
      "+----+------+--------------------+--------------------+---+---+---------+---+----+----+\n",
      "| _c0|   _c1|                 _c2|                 _c3|_c4|_c5|      _c6|_c7| _c8| _c9|\n",
      "+----+------+--------------------+--------------------+---+---+---------+---+----+----+\n",
      "|1185|PG0134|2017-09-10 09:50:...|2017-09-10 14:55:...|DME|BTK|Scheduled|319|null|null|\n",
      "|3979|PG0052|2017-08-25 14:50:...|2017-08-25 17:35:...|VKO|HMA|Scheduled|CR2|null|null|\n",
      "+----+------+--------------------+--------------------+---+---+---------+---+----+----+\n",
      "only showing top 2 rows\n",
      "\n"
     ]
    }
   ],
   "source": [
    "df_flights = spark.read.csv('/data/lsml/4-5-spark/flights.csv')\n",
    "df_flights.cache()\n",
    "df_flights.show(2)"
   ]
  },
  {
   "cell_type": "code",
   "execution_count": 4,
   "metadata": {
    "collapsed": false
   },
   "outputs": [
    {
     "name": "stdout",
     "output_type": "stream",
     "text": [
      "+-------------+-----+--------+--------+\n",
      "|          _c0|  _c1|     _c2|     _c3|\n",
      "+-------------+-----+--------+--------+\n",
      "|0005432159776|30625|Business|42100.00|\n",
      "|0005435212351|30625|Business|42100.00|\n",
      "+-------------+-----+--------+--------+\n",
      "only showing top 2 rows\n",
      "\n"
     ]
    }
   ],
   "source": [
    "df_tickets = spark.read.csv('/data/lsml/4-5-spark/ticket_flights.csv')\n",
    "df_tickets.cache()\n",
    "df_tickets.show(2)"
   ]
  },
  {
   "cell_type": "code",
   "execution_count": 8,
   "metadata": {
    "collapsed": false
   },
   "outputs": [
    {
     "data": {
      "text/plain": [
       "1045726"
      ]
     },
     "execution_count": 8,
     "metadata": {},
     "output_type": "execute_result"
    }
   ],
   "source": [
    "df_tickets.count()"
   ]
  },
  {
   "cell_type": "code",
   "execution_count": 5,
   "metadata": {
    "collapsed": false
   },
   "outputs": [
    {
     "name": "stdout",
     "output_type": "stream",
     "text": [
      "+----+------+--------------------+--------------------+---+---+---------+---+----+----+----------+--------+-----------+\n",
      "| _c0|   _c1|                 _c2|                 _c3|_c4|_c5|      _c6|_c7| _c8| _c9|  _c2_unix|_c8_unix|_c8-c2_unix|\n",
      "+----+------+--------------------+--------------------+---+---+---------+---+----+----+----------+--------+-----------+\n",
      "|1185|PG0134|2017-09-10 09:50:...|2017-09-10 14:55:...|DME|BTK|Scheduled|319|null|null|1505026200|    null|       null|\n",
      "|3979|PG0052|2017-08-25 14:50:...|2017-08-25 17:35:...|VKO|HMA|Scheduled|CR2|null|null|1503661800|    null|       null|\n",
      "|4739|PG0561|2017-09-05 12:30:...|2017-09-05 14:15:...|VKO|AER|Scheduled|763|null|null|1504603800|    null|       null|\n",
      "|5502|PG0529|2017-09-12 09:50:...|2017-09-12 11:20:...|SVO|UFA|Scheduled|763|null|null|1505199000|    null|       null|\n",
      "|6938|PG0461|2017-09-04 12:25:...|2017-09-04 13:20:...|SVO|ULV|Scheduled|SU9|null|null|1504517100|    null|       null|\n",
      "+----+------+--------------------+--------------------+---+---+---------+---+----+----+----------+--------+-----------+\n",
      "only showing top 5 rows\n",
      "\n"
     ]
    }
   ],
   "source": [
    "df_flights = df_flights.withColumn('_c2_unix', unix_timestamp(df_flights['_c2'].cast(TimestampType()), 'yyyy-MM-ddThh:mm:ss'))\n",
    "df_flights = df_flights.withColumn('_c8_unix', unix_timestamp(df_flights['_c8'].cast(TimestampType()), 'yyyy-MM-ddThh:mm:ss'))\n",
    "df_flights = df_flights.withColumn('_c8-c2_unix', df_flights['_c8_unix'] - df_flights['_c2_unix'])\n",
    "\n",
    "df_flights.show(5)"
   ]
  },
  {
   "cell_type": "code",
   "execution_count": 6,
   "metadata": {
    "collapsed": false
   },
   "outputs": [
    {
     "data": {
      "text/plain": [
       "33121"
      ]
     },
     "execution_count": 6,
     "metadata": {},
     "output_type": "execute_result"
    }
   ],
   "source": [
    "df_flights.count()"
   ]
  },
  {
   "cell_type": "code",
   "execution_count": 26,
   "metadata": {
    "collapsed": false
   },
   "outputs": [
    {
     "name": "stdout",
     "output_type": "stream",
     "text": [
      "+-------+-----+\n",
      "|_c1_tmp|count|\n",
      "+-------+-----+\n",
      "|  29573|    7|\n",
      "|   1090|   22|\n",
      "|   2294|   48|\n",
      "|   4821|   10|\n",
      "|   6731|   50|\n",
      "+-------+-----+\n",
      "only showing top 5 rows\n",
      "\n"
     ]
    }
   ],
   "source": [
    "df_tickets_grouped = df_tickets.groupby('_c1').count()\n",
    "df_tickets_grouped = df_tickets_grouped.withColumnRenamed('_c1', '_c1_tmp')\n",
    "df_tickets_grouped.cache()\n",
    "df_tickets_grouped.show(5)"
   ]
  },
  {
   "cell_type": "code",
   "execution_count": 27,
   "metadata": {
    "collapsed": false
   },
   "outputs": [
    {
     "data": {
      "text/plain": [
       "22226"
      ]
     },
     "execution_count": 27,
     "metadata": {},
     "output_type": "execute_result"
    }
   ],
   "source": [
    "df_tickets_grouped.count()"
   ]
  },
  {
   "cell_type": "code",
   "execution_count": 29,
   "metadata": {
    "collapsed": false
   },
   "outputs": [
    {
     "data": {
      "text/plain": [
       "22226"
      ]
     },
     "execution_count": 29,
     "metadata": {},
     "output_type": "execute_result"
    }
   ],
   "source": [
    "df_flights_join = df_flights.join(df_tickets_grouped, df_flights['_c0'] == df_tickets_grouped['_c1_tmp'])\n",
    "df_flights_join.count()"
   ]
  },
  {
   "cell_type": "code",
   "execution_count": 30,
   "metadata": {
    "collapsed": false
   },
   "outputs": [
    {
     "name": "stdout",
     "output_type": "stream",
     "text": [
      "+----+------+--------------------+--------------------+---+---+---------+---+----+----+----------+--------+-----------+-------+-----+\n",
      "| _c0|   _c1|                 _c2|                 _c3|_c4|_c5|      _c6|_c7| _c8| _c9|  _c2_unix|_c8_unix|_c8-c2_unix|_c1_tmp|count|\n",
      "+----+------+--------------------+--------------------+---+---+---------+---+----+----+----------+--------+-----------+-------+-----+\n",
      "|1185|PG0134|2017-09-10 09:50:...|2017-09-10 14:55:...|DME|BTK|Scheduled|319|null|null|1505026200|    null|       null|   1185|    2|\n",
      "|3979|PG0052|2017-08-25 14:50:...|2017-08-25 17:35:...|VKO|HMA|Scheduled|CR2|null|null|1503661800|    null|       null|   3979|   28|\n",
      "|4739|PG0561|2017-09-05 12:30:...|2017-09-05 14:15:...|VKO|AER|Scheduled|763|null|null|1504603800|    null|       null|   4739|   41|\n",
      "|5502|PG0529|2017-09-12 09:50:...|2017-09-12 11:20:...|SVO|UFA|Scheduled|763|null|null|1505199000|    null|       null|   5502|    9|\n",
      "|6938|PG0461|2017-09-04 12:25:...|2017-09-04 13:20:...|SVO|ULV|Scheduled|SU9|null|null|1504517100|    null|       null|   6938|   15|\n",
      "+----+------+--------------------+--------------------+---+---+---------+---+----+----+----------+--------+-----------+-------+-----+\n",
      "only showing top 5 rows\n",
      "\n"
     ]
    }
   ],
   "source": [
    "df_flights_join.show(5)"
   ]
  },
  {
   "cell_type": "code",
   "execution_count": 31,
   "metadata": {
    "collapsed": false
   },
   "outputs": [
    {
     "name": "stdout",
     "output_type": "stream",
     "text": [
      "+------+------------------+\n",
      "|   _c1|  avg(_c8-c2_unix)|\n",
      "+------+------------------+\n",
      "|PG0144|193.84615384615384|\n",
      "|PG0325|             160.0|\n",
      "|PG0503| 614.4827586206897|\n",
      "|PG0278|            1894.0|\n",
      "|PG0088|             280.0|\n",
      "|PG0254|             894.0|\n",
      "|PG0383|             216.0|\n",
      "|PG0700| 589.2857142857143|\n",
      "|PG0211| 543.8709677419355|\n",
      "|PG0513|             546.0|\n",
      "|PG0690|2262.8571428571427|\n",
      "|PG0412|             906.0|\n",
      "|PG0539|             210.0|\n",
      "|PG0230| 589.2857142857143|\n",
      "|PG0521|            1628.0|\n",
      "|PG0399|1357.7777777777778|\n",
      "|PG0108|             160.0|\n",
      "|PG0059|             784.0|\n",
      "|PG0380|            2985.0|\n",
      "|PG0595|            1890.0|\n",
      "+------+------------------+\n",
      "only showing top 20 rows\n",
      "\n"
     ]
    }
   ],
   "source": [
    "df_avg_of_departure_time = df_flights_join[(df_flights_join['_c8-c2_unix'] > 0) & (df_flights_join['_c6'] == 'Arrived')].groupby('_c1').avg('_c8-c2_unix')\n",
    "df_avg_of_departure_time.show()"
   ]
  },
  {
   "cell_type": "code",
   "execution_count": 32,
   "metadata": {
    "collapsed": false
   },
   "outputs": [
    {
     "name": "stdout",
     "output_type": "stream",
     "text": [
      "+----------+----------+\n",
      "|_flight_id|_flight_no|\n",
      "+----------+----------+\n",
      "|      1185|    PG0134|\n",
      "|      3979|    PG0052|\n",
      "|      4739|    PG0561|\n",
      "|      5502|    PG0529|\n",
      "|      6938|    PG0461|\n",
      "|      9478|    PG0360|\n",
      "|     11085|    PG0569|\n",
      "|     11847|    PG0498|\n",
      "|     12012|    PG0621|\n",
      "|     23609|    PG0648|\n",
      "|     23695|    PG0388|\n",
      "|     24705|    PG0632|\n",
      "|     27580|    PG0483|\n",
      "|     29272|    PG0334|\n",
      "|     29440|    PG0065|\n",
      "|     32658|    PG0674|\n",
      "|         1|    PG0405|\n",
      "|         2|    PG0404|\n",
      "|         3|    PG0405|\n",
      "|         5|    PG0405|\n",
      "+----------+----------+\n",
      "only showing top 20 rows\n",
      "\n"
     ]
    }
   ],
   "source": [
    "df_flights_sample = df_flights_join['_c0', '_c1']\n",
    "df_flights_sample = df_flights_sample.withColumnRenamed('_c0', '_flight_id')\n",
    "df_flights_sample = df_flights_sample.withColumnRenamed('_c1', '_flight_no')\n",
    "\n",
    "df_flights_sample.show()"
   ]
  },
  {
   "cell_type": "code",
   "execution_count": 33,
   "metadata": {
    "collapsed": false
   },
   "outputs": [
    {
     "name": "stdout",
     "output_type": "stream",
     "text": [
      "+-------------+-----+--------+--------+----------+----------+\n",
      "|          _c0|  _c1|     _c2|     _c3|_flight_id|_flight_no|\n",
      "+-------------+-----+--------+--------+----------+----------+\n",
      "|0005432159776|30625|Business|42100.00|     30625|    PG0013|\n",
      "|0005435212351|30625|Business|42100.00|     30625|    PG0013|\n",
      "|0005435212386|30625|Business|42100.00|     30625|    PG0013|\n",
      "|0005435212381|30625|Business|42100.00|     30625|    PG0013|\n",
      "|0005432211370|30625|Business|42100.00|     30625|    PG0013|\n",
      "|0005435212357|30625| Comfort|23900.00|     30625|    PG0013|\n",
      "|0005435212360|30625| Comfort|23900.00|     30625|    PG0013|\n",
      "|0005435212393|30625| Comfort|23900.00|     30625|    PG0013|\n",
      "|0005435212374|30625| Comfort|23900.00|     30625|    PG0013|\n",
      "|0005435212365|30625| Comfort|23900.00|     30625|    PG0013|\n",
      "|0005435212378|30625| Comfort|23900.00|     30625|    PG0013|\n",
      "|0005435212362|30625| Comfort|23900.00|     30625|    PG0013|\n",
      "|0005435212334|30625| Comfort|23900.00|     30625|    PG0013|\n",
      "|0005435212329|30625| Comfort|23900.00|     30625|    PG0013|\n",
      "|0005435212370|30625| Comfort|23900.00|     30625|    PG0013|\n",
      "|0005435212328|30625| Comfort|23900.00|     30625|    PG0013|\n",
      "|0005435725513|30625| Comfort|23900.00|     30625|    PG0013|\n",
      "|0005435630915|30625| Comfort|23900.00|     30625|    PG0013|\n",
      "|0005435212388|30625| Economy|14000.00|     30625|    PG0013|\n",
      "|0005432159775|30625| Economy|14000.00|     30625|    PG0013|\n",
      "+-------------+-----+--------+--------+----------+----------+\n",
      "only showing top 20 rows\n",
      "\n"
     ]
    }
   ],
   "source": [
    "df_tickets_join = df_tickets.join(df_flights_sample, df_tickets['_c1'] == df_flights_sample['_flight_id'], how='left')\n",
    "df_tickets_join.show()"
   ]
  },
  {
   "cell_type": "code",
   "execution_count": 34,
   "metadata": {
    "collapsed": false
   },
   "outputs": [
    {
     "data": {
      "text/plain": [
       "1045726"
      ]
     },
     "execution_count": 34,
     "metadata": {},
     "output_type": "execute_result"
    }
   ],
   "source": [
    "df_tickets_join.count()"
   ]
  },
  {
   "cell_type": "code",
   "execution_count": 35,
   "metadata": {
    "collapsed": false
   },
   "outputs": [
    {
     "name": "stdout",
     "output_type": "stream",
     "text": [
      "+-------------+-----+--------+--------+----------+----------+---------+\n",
      "|          _c0|  _c1|     _c2|     _c3|_flight_id|_flight_no|_c3_float|\n",
      "+-------------+-----+--------+--------+----------+----------+---------+\n",
      "|0005434877632|10096|Business|49700.00|     10096|    PG0186|  49700.0|\n",
      "|0005434878408|10096|Business|49700.00|     10096|    PG0186|  49700.0|\n",
      "|0005434878496|10096|Business|49700.00|     10096|    PG0186|  49700.0|\n",
      "|0005434878162|10096|Business|49700.00|     10096|    PG0186|  49700.0|\n",
      "|0005434877976|10096|Business|49700.00|     10096|    PG0186|  49700.0|\n",
      "|0005434878636|10096|Business|49700.00|     10096|    PG0186|  49700.0|\n",
      "|0005434878414|10096|Business|49700.00|     10096|    PG0186|  49700.0|\n",
      "|0005434878149|10096|Business|49700.00|     10096|    PG0186|  49700.0|\n",
      "|0005434877987|10096|Business|49700.00|     10096|    PG0186|  49700.0|\n",
      "|0005434877842|10096|Business|49700.00|     10096|    PG0186|  49700.0|\n",
      "|0005434877972|10096|Business|49700.00|     10096|    PG0186|  49700.0|\n",
      "|0005434878567|10096|Business|49700.00|     10096|    PG0186|  49700.0|\n",
      "|0005434878264|10096|Business|49700.00|     10096|    PG0186|  49700.0|\n",
      "|0005434877919|10096|Business|49700.00|     10096|    PG0186|  49700.0|\n",
      "|0005434877869|10096|Business|49700.00|     10096|    PG0186|  49700.0|\n",
      "|0005434877579|10096|Business|49700.00|     10096|    PG0186|  49700.0|\n",
      "|0005434878357|10096|Business|49700.00|     10096|    PG0186|  49700.0|\n",
      "|0005434877884|10096|Business|49700.00|     10096|    PG0186|  49700.0|\n",
      "|0005434878011|10096|Business|49700.00|     10096|    PG0186|  49700.0|\n",
      "|0005434877942|10096|Business|49700.00|     10096|    PG0186|  49700.0|\n",
      "+-------------+-----+--------+--------+----------+----------+---------+\n",
      "only showing top 20 rows\n",
      "\n"
     ]
    }
   ],
   "source": [
    "df_tickets_join = df_tickets_join.withColumn('_c3_float', df_tickets_join['_c3'].cast(FloatType()))\n",
    "df_tickets_join.show()"
   ]
  },
  {
   "cell_type": "code",
   "execution_count": 36,
   "metadata": {
    "collapsed": false
   },
   "outputs": [
    {
     "name": "stdout",
     "output_type": "stream",
     "text": [
      "+-------------+-----------------+\n",
      "|_flight_no_bs|min(_c3_float)_bs|\n",
      "+-------------+-----------------+\n",
      "|       PG0144|         203300.0|\n",
      "|       PG0325|          91700.0|\n",
      "|       PG0278|          84000.0|\n",
      "|       PG0503|          67200.0|\n",
      "|       PG0088|          92200.0|\n",
      "|       PG0211|          38900.0|\n",
      "|       PG0383|          10300.0|\n",
      "|       PG0690|          52300.0|\n",
      "|       PG0412|          35000.0|\n",
      "|       PG0539|          88300.0|\n",
      "|       PG0521|          40300.0|\n",
      "|       PG0230|          18800.0|\n",
      "|       PG0108|         201300.0|\n",
      "|       PG0311|          61300.0|\n",
      "|       PG0588|           9500.0|\n",
      "|       PG0115|          18000.0|\n",
      "|       PG0397|          26900.0|\n",
      "|       PG0217|          24500.0|\n",
      "|       PG0571|          26600.0|\n",
      "|       PG0186|          49700.0|\n",
      "+-------------+-----------------+\n",
      "only showing top 20 rows\n",
      "\n"
     ]
    }
   ],
   "source": [
    "min_price_for_business = df_tickets_join[df_tickets_join['_c2'] == 'Business'].groupby('_flight_no').min('_c3_float')\n",
    "min_price_for_business = min_price_for_business.withColumnRenamed('_flight_no', '_flight_no_bs')\n",
    "min_price_for_business = min_price_for_business.withColumnRenamed('min(_c3_float)', 'min(_c3_float)_bs')\n",
    "\n",
    "min_price_for_business.show()"
   ]
  },
  {
   "cell_type": "code",
   "execution_count": 37,
   "metadata": {
    "collapsed": false
   },
   "outputs": [
    {
     "name": "stdout",
     "output_type": "stream",
     "text": [
      "+-------------+-----------------+\n",
      "|_flight_no_ec|min(_c3_float)_ec|\n",
      "+-------------+-----------------+\n",
      "|       PG0144|          67800.0|\n",
      "|       PG0325|          30600.0|\n",
      "|       PG0254|           3100.0|\n",
      "|       PG0503|          22400.0|\n",
      "|       PG0278|          28000.0|\n",
      "|       PG0088|          30700.0|\n",
      "|       PG0700|           8100.0|\n",
      "|       PG0211|          13000.0|\n",
      "|       PG0383|           3400.0|\n",
      "|       PG0513|           5800.0|\n",
      "|       PG0690|          17400.0|\n",
      "|       PG0539|          29400.0|\n",
      "|       PG0412|          11700.0|\n",
      "|       PG0263|           6600.0|\n",
      "|       PG0399|           5900.0|\n",
      "|       PG0521|          13400.0|\n",
      "|       PG0230|           6300.0|\n",
      "|       PG0108|          67100.0|\n",
      "|       PG0059|           7100.0|\n",
      "|       PG0380|          17100.0|\n",
      "+-------------+-----------------+\n",
      "only showing top 20 rows\n",
      "\n"
     ]
    }
   ],
   "source": [
    "min_price_for_economy = df_tickets_join[df_tickets_join['_c2'] == 'Economy'].groupby('_flight_no').min('_c3_float')\n",
    "min_price_for_economy = min_price_for_economy.withColumnRenamed('_flight_no', '_flight_no_ec')\n",
    "min_price_for_economy = min_price_for_economy.withColumnRenamed('min(_c3_float)', 'min(_c3_float)_ec')\n",
    "\n",
    "min_price_for_economy.show()"
   ]
  },
  {
   "cell_type": "code",
   "execution_count": 38,
   "metadata": {
    "collapsed": false
   },
   "outputs": [
    {
     "name": "stdout",
     "output_type": "stream",
     "text": [
      "+----------+-----+\n",
      "|_flight_no|count|\n",
      "+----------+-----+\n",
      "|    PG0144|  222|\n",
      "|    PG0325|   11|\n",
      "|    PG0278|  986|\n",
      "|    PG0503|  291|\n",
      "|    PG0088|   41|\n",
      "|    PG0211|  443|\n",
      "|    PG0383|  181|\n",
      "|    PG0690|  316|\n",
      "|    PG0539|  126|\n",
      "|    PG0412|  996|\n",
      "|    PG0521|  532|\n",
      "|    PG0230| 1127|\n",
      "|    PG0108|   34|\n",
      "|    PG0311|  532|\n",
      "|    PG0588|  452|\n",
      "|    PG0115|  261|\n",
      "|    PG0397|  437|\n",
      "|    PG0217|  875|\n",
      "|    PG0571|  347|\n",
      "|    PG0186|  862|\n",
      "+----------+-----+\n",
      "only showing top 20 rows\n",
      "\n"
     ]
    }
   ],
   "source": [
    "num_seats_in_business = df_tickets_join[df_tickets_join['_c2'] == 'Business'].groupby('_flight_no').count()\n",
    "num_seats_in_business.show()"
   ]
  },
  {
   "cell_type": "code",
   "execution_count": 39,
   "metadata": {
    "collapsed": false
   },
   "outputs": [
    {
     "name": "stdout",
     "output_type": "stream",
     "text": [
      "+------+------------------+-------------+-----------------+-------------+-----------------+----------+-----+\n",
      "|   _c1|  avg(_c8-c2_unix)|_flight_no_bs|min(_c3_float)_bs|_flight_no_ec|min(_c3_float)_ec|_flight_no|count|\n",
      "+------+------------------+-------------+-----------------+-------------+-----------------+----------+-----+\n",
      "|PG0144|193.84615384615384|       PG0144|         203300.0|       PG0144|          67800.0|    PG0144|  222|\n",
      "|PG0325|             160.0|       PG0325|          91700.0|       PG0325|          30600.0|    PG0325|   11|\n",
      "|PG0088|             280.0|       PG0088|          92200.0|       PG0088|          30700.0|    PG0088|   41|\n",
      "|PG0254|             894.0|         null|             null|       PG0254|           3100.0|      null| null|\n",
      "|PG0278|            1894.0|       PG0278|          84000.0|       PG0278|          28000.0|    PG0278|  986|\n",
      "|PG0503| 614.4827586206897|       PG0503|          67200.0|       PG0503|          22400.0|    PG0503|  291|\n",
      "|PG0211| 543.8709677419355|       PG0211|          38900.0|       PG0211|          13000.0|    PG0211|  443|\n",
      "|PG0383|             216.0|       PG0383|          10300.0|       PG0383|           3400.0|    PG0383|  181|\n",
      "|PG0700| 589.2857142857143|         null|             null|       PG0700|           8100.0|      null| null|\n",
      "|PG0513|             546.0|         null|             null|       PG0513|           5800.0|      null| null|\n",
      "|PG0690|2262.8571428571427|       PG0690|          52300.0|       PG0690|          17400.0|    PG0690|  316|\n",
      "|PG0412|             906.0|       PG0412|          35000.0|       PG0412|          11700.0|    PG0412|  996|\n",
      "|PG0539|             210.0|       PG0539|          88300.0|       PG0539|          29400.0|    PG0539|  126|\n",
      "|PG0108|             160.0|       PG0108|         201300.0|       PG0108|          67100.0|    PG0108|   34|\n",
      "|PG0230| 589.2857142857143|       PG0230|          18800.0|       PG0230|           6300.0|    PG0230| 1127|\n",
      "|PG0399|1357.7777777777778|         null|             null|       PG0399|           5900.0|      null| null|\n",
      "|PG0521|            1628.0|       PG0521|          40300.0|       PG0521|          13400.0|    PG0521|  532|\n",
      "|PG0059|             784.0|         null|             null|       PG0059|           7100.0|      null| null|\n",
      "|PG0310|218.57142857142858|         null|             null|       PG0310|          24700.0|      null| null|\n",
      "|PG0380|            2985.0|         null|             null|       PG0380|          17100.0|      null| null|\n",
      "+------+------------------+-------------+-----------------+-------------+-----------------+----------+-----+\n",
      "only showing top 20 rows\n",
      "\n"
     ]
    }
   ],
   "source": [
    "result = df_avg_of_departure_time.join(min_price_for_business, df_avg_of_departure_time['_c1'] == min_price_for_business['_flight_no_bs'], how='left')\n",
    "result = result.join(min_price_for_economy, result['_c1'] == min_price_for_economy['_flight_no_ec'], how='left')\n",
    "result = result.join(num_seats_in_business, result['_c1'] == num_seats_in_business['_flight_no'], how='left')\n",
    "\n",
    "result.show()"
   ]
  },
  {
   "cell_type": "code",
   "execution_count": 40,
   "metadata": {
    "collapsed": false
   },
   "outputs": [
    {
     "name": "stdout",
     "output_type": "stream",
     "text": [
      "+------+------------------+-----------------+-----------------+-----+\n",
      "|   _c1|  avg(_c8-c2_unix)|min(_c3_float)_bs|min(_c3_float)_ec|count|\n",
      "+------+------------------+-----------------+-----------------+-----+\n",
      "|PG0144|193.84615384615384|         203300.0|          67800.0|  222|\n",
      "|PG0325|             160.0|          91700.0|          30600.0|   11|\n",
      "|PG0088|             280.0|          92200.0|          30700.0|   41|\n",
      "|PG0254|             894.0|             null|           3100.0| null|\n",
      "|PG0278|            1894.0|          84000.0|          28000.0|  986|\n",
      "|PG0503| 614.4827586206897|          67200.0|          22400.0|  291|\n",
      "|PG0211| 543.8709677419355|          38900.0|          13000.0|  443|\n",
      "|PG0383|             216.0|          10300.0|           3400.0|  181|\n",
      "|PG0700| 589.2857142857143|             null|           8100.0| null|\n",
      "|PG0513|             546.0|             null|           5800.0| null|\n",
      "|PG0690|2262.8571428571427|          52300.0|          17400.0|  316|\n",
      "|PG0412|             906.0|          35000.0|          11700.0|  996|\n",
      "|PG0539|             210.0|          88300.0|          29400.0|  126|\n",
      "|PG0108|             160.0|         201300.0|          67100.0|   34|\n",
      "|PG0230| 589.2857142857143|          18800.0|           6300.0| 1127|\n",
      "|PG0399|1357.7777777777778|             null|           5900.0| null|\n",
      "|PG0521|            1628.0|          40300.0|          13400.0|  532|\n",
      "|PG0059|             784.0|             null|           7100.0| null|\n",
      "|PG0310|218.57142857142858|             null|          24700.0| null|\n",
      "|PG0380|            2985.0|             null|          17100.0| null|\n",
      "+------+------------------+-----------------+-----------------+-----+\n",
      "only showing top 20 rows\n",
      "\n"
     ]
    }
   ],
   "source": [
    "result = result.drop('_flight_no_bs')\n",
    "result = result.drop('_flight_no_ec')\n",
    "result = result.drop('_flight_no')\n",
    "\n",
    "result.show()"
   ]
  },
  {
   "cell_type": "code",
   "execution_count": 41,
   "metadata": {
    "collapsed": false
   },
   "outputs": [
    {
     "name": "stdout",
     "output_type": "stream",
     "text": [
      "+------+------------------+-----------------+-----------------+-----+\n",
      "|   _c1|  avg(_c8-c2_unix)|min(_c3_float)_bs|min(_c3_float)_ec|count|\n",
      "+------+------------------+-----------------+-----------------+-----+\n",
      "|PG0144|193.84615384615384|         203300.0|          67800.0|  222|\n",
      "|PG0325|             160.0|          91700.0|          30600.0|   11|\n",
      "|PG0088|             280.0|          92200.0|          30700.0|   41|\n",
      "|PG0254|             894.0|              0.0|           3100.0|    0|\n",
      "|PG0278|            1894.0|          84000.0|          28000.0|  986|\n",
      "|PG0503| 614.4827586206897|          67200.0|          22400.0|  291|\n",
      "|PG0211| 543.8709677419355|          38900.0|          13000.0|  443|\n",
      "|PG0383|             216.0|          10300.0|           3400.0|  181|\n",
      "|PG0700| 589.2857142857143|              0.0|           8100.0|    0|\n",
      "|PG0513|             546.0|              0.0|           5800.0|    0|\n",
      "|PG0690|2262.8571428571427|          52300.0|          17400.0|  316|\n",
      "|PG0412|             906.0|          35000.0|          11700.0|  996|\n",
      "|PG0539|             210.0|          88300.0|          29400.0|  126|\n",
      "|PG0108|             160.0|         201300.0|          67100.0|   34|\n",
      "|PG0230| 589.2857142857143|          18800.0|           6300.0| 1127|\n",
      "|PG0399|1357.7777777777778|              0.0|           5900.0|    0|\n",
      "|PG0521|            1628.0|          40300.0|          13400.0|  532|\n",
      "|PG0059|             784.0|              0.0|           7100.0|    0|\n",
      "|PG0310|218.57142857142858|              0.0|          24700.0|    0|\n",
      "|PG0380|            2985.0|              0.0|          17100.0|    0|\n",
      "+------+------------------+-----------------+-----------------+-----+\n",
      "only showing top 20 rows\n",
      "\n"
     ]
    }
   ],
   "source": [
    "result_na = result.na.fill(0)\n",
    "result_na.show()"
   ]
  },
  {
   "cell_type": "code",
   "execution_count": 42,
   "metadata": {
    "collapsed": false
   },
   "outputs": [
    {
     "name": "stdout",
     "output_type": "stream",
     "text": [
      "+------+------------------+-----------------+-----------------+-----+------------------+\n",
      "|   _c1|  avg(_c8-c2_unix)|min(_c3_float)_bs|min(_c3_float)_ec|count|             score|\n",
      "+------+------------------+-----------------+-----------------+-----+------------------+\n",
      "|PG0144|193.84615384615384|         203300.0|          67800.0|  222| 96.87515873015873|\n",
      "|PG0325|             160.0|          91700.0|          30600.0|   11|          37.46625|\n",
      "|PG0088|             280.0|          92200.0|          30700.0|   41| 39.74357142857142|\n",
      "|PG0254|             894.0|              0.0|           3100.0|    0|0.9311185682326621|\n",
      "|PG0278|            1894.0|          84000.0|          28000.0|  986|102.62052798310455|\n",
      "|PG0503| 614.4827586206897|          67200.0|          22400.0|  291| 47.25162738496071|\n",
      "|PG0211| 543.8709677419355|          38900.0|          13000.0|  443|46.581838671411624|\n",
      "|PG0383|             216.0|          10300.0|           3400.0|  181| 16.78462962962963|\n",
      "|PG0700| 589.2857142857143|              0.0|           8100.0|    0|2.4316969696969695|\n",
      "|PG0513|             546.0|              0.0|           5800.0|    0|1.7418315018315016|\n",
      "|PG0690|2262.8571428571427|          52300.0|          17400.0|  316|43.030441919191915|\n",
      "|PG0412|             906.0|          35000.0|          11700.0|  996|  83.7311037527594|\n",
      "|PG0539|             210.0|          88300.0|          29400.0|  126|  44.1347619047619|\n",
      "|PG0108|             160.0|         201300.0|          67100.0|   34| 82.90624999999999|\n",
      "|PG0230| 589.2857142857143|          18800.0|           6300.0| 1127| 86.42169696969697|\n",
      "|PG0399|1357.7777777777778|              0.0|           5900.0|    0| 1.770736497545008|\n",
      "|PG0521|            1628.0|          40300.0|          13400.0|  532| 53.35061425061426|\n",
      "|PG0059|             784.0|              0.0|           7100.0|    0|2.1312755102040817|\n",
      "|PG0310|218.57142857142858|              0.0|          24700.0|    0| 7.414575163398692|\n",
      "|PG0380|            2985.0|              0.0|          17100.0|    0|5.1303350083752095|\n",
      "+------+------------------+-----------------+-----------------+-----+------------------+\n",
      "only showing top 20 rows\n",
      "\n"
     ]
    }
   ],
   "source": [
    "final = result_na.withColumn('score', \n",
    "                             1 / result_na['avg(_c8-c2_unix)'] + 3 / 10000 * \\\n",
    "                             (result_na['min(_c3_float)_bs'] + result_na['min(_c3_float)_ec']) + \\\n",
    "                            7 / 100 * result_na['count'])\n",
    "final.show()"
   ]
  },
  {
   "cell_type": "code",
   "execution_count": 43,
   "metadata": {
    "collapsed": false
   },
   "outputs": [
    {
     "name": "stdout",
     "output_type": "stream",
     "text": [
      "+------+------------------+\n",
      "|   _c1|             score|\n",
      "+------+------------------+\n",
      "|PG0144| 96.87515873015873|\n",
      "|PG0325|          37.46625|\n",
      "|PG0088| 39.74357142857142|\n",
      "|PG0254|0.9311185682326621|\n",
      "|PG0278|102.62052798310455|\n",
      "|PG0503| 47.25162738496071|\n",
      "|PG0211|46.581838671411624|\n",
      "|PG0383| 16.78462962962963|\n",
      "|PG0700|2.4316969696969695|\n",
      "|PG0513|1.7418315018315016|\n",
      "|PG0690|43.030441919191915|\n",
      "|PG0412|  83.7311037527594|\n",
      "|PG0539|  44.1347619047619|\n",
      "|PG0108| 82.90624999999999|\n",
      "|PG0230| 86.42169696969697|\n",
      "|PG0399| 1.770736497545008|\n",
      "|PG0521| 53.35061425061426|\n",
      "|PG0059|2.1312755102040817|\n",
      "|PG0310| 7.414575163398692|\n",
      "|PG0380|5.1303350083752095|\n",
      "+------+------------------+\n",
      "only showing top 20 rows\n",
      "\n"
     ]
    }
   ],
   "source": [
    "final = final.drop('avg(_c8-c2_unix)')\n",
    "final = final.drop('min(_c3_float)_bs')\n",
    "final = final.drop('min(_c3_float)_ec')\n",
    "final = final.drop('count')\n",
    "\n",
    "final.show()"
   ]
  },
  {
   "cell_type": "code",
   "execution_count": 44,
   "metadata": {
    "collapsed": false
   },
   "outputs": [
    {
     "name": "stdout",
     "output_type": "stream",
     "text": [
      "+------+------------------+\n",
      "|   _c1|             score|\n",
      "+------+------------------+\n",
      "|PG0208|163.75100694444444|\n",
      "|PG0209| 162.4217835178352|\n",
      "|PG0357| 134.6211850152905|\n",
      "|PG0356|133.29099928622412|\n",
      "|PG0198|133.10102921646748|\n",
      "|PG0199| 132.6816891891892|\n",
      "|PG0222|116.43096021947873|\n",
      "|PG0223|115.10178117048346|\n",
      "|PG0703|110.72508771929824|\n",
      "|PG0704|108.62098039215687|\n",
      "+------+------------------+\n",
      "only showing top 10 rows\n",
      "\n"
     ]
    }
   ],
   "source": [
    "final.orderBy(desc('score')).show(10)"
   ]
  },
  {
   "cell_type": "code",
   "execution_count": null,
   "metadata": {
    "collapsed": true
   },
   "outputs": [],
   "source": []
  }
 ],
 "metadata": {
  "kernelspec": {
   "display_name": "Python 3",
   "language": "python",
   "name": "python3"
  },
  "language_info": {
   "codemirror_mode": {
    "name": "ipython",
    "version": 3
   },
   "file_extension": ".py",
   "mimetype": "text/x-python",
   "name": "python",
   "nbconvert_exporter": "python",
   "pygments_lexer": "ipython3",
   "version": "3.4.3"
  }
 },
 "nbformat": 4,
 "nbformat_minor": 2
}
