{
 "cells": [
  {
   "cell_type": "code",
   "execution_count": 2,
   "metadata": {
    "collapsed": true
   },
   "outputs": [],
   "source": [
    "import time\n",
    "import pyspark.sql.functions as f\n",
    "\n",
    "from pyspark import SparkContext, SparkConf\n",
    "from pyspark.sql import SQLContext\n",
    "from pyspark.sql import SparkSession\n",
    "from pyspark.sql import Row\n",
    "from pyspark.sql.types import *\n",
    "\n",
    "from pyspark.sql.functions import udf\n",
    "from pyspark.sql.functions import array_contains\n",
    "from pyspark.sql.functions import unix_timestamp\n",
    "from pyspark.sql.functions import desc\n",
    "\n",
    "from itertools import islice\n",
    "\n",
    "\n"
   ]
  },
  {
   "cell_type": "code",
   "execution_count": 3,
   "metadata": {
    "collapsed": true
   },
   "outputs": [],
   "source": [
    "spark = SparkSession \\\n",
    "    .builder \\\n",
    "    .appName(\"Python Spark Assignment\") \\\n",
    "    .config(\"spark.some.config.option\", \"some-value\") \\\n",
    "    .getOrCreate()\n",
    "\n",
    "sqlSparkContext = SQLContext(sc)"
   ]
  },
  {
   "cell_type": "code",
   "execution_count": 4,
   "metadata": {
    "collapsed": false
   },
   "outputs": [],
   "source": [
    "df = sqlSparkContext.sql( \\\n",
    "'''\n",
    "    SELECT \n",
    "        *,\n",
    "        count(*) OVER (PARTITION BY session_id ORDER BY timestamp ASC) as rank\n",
    "    FROM (\n",
    "        SELECT \n",
    "            event_page,\n",
    "            event_type,\n",
    "            CAST(timestamp AS INT) AS timestamp,\n",
    "            CAST((session_id || user_id) AS INT) AS session_id\n",
    "        FROM kkingsep_final.clickstream\n",
    "        WHERE \n",
    "            timestamp IS NOT NULL AND\n",
    "            event_type != 'event'\n",
    "        ) AS tbl_1\n",
    "    ORDER BY\n",
    "        session_id, timestamp\n",
    "''')"
   ]
  },
  {
   "cell_type": "code",
   "execution_count": null,
   "metadata": {
    "collapsed": false
   },
   "outputs": [],
   "source": [
    "df.take(50)"
   ]
  },
  {
   "cell_type": "code",
   "execution_count": 5,
   "metadata": {
    "collapsed": false
   },
   "outputs": [],
   "source": [
    "def magic_func(df):\n",
    "    result = {}\n",
    "    dataCollect = df.collect()\n",
    "    \n",
    "    for row in dataCollect:\n",
    "        session_id = row['session_id']\n",
    "        event_type = row['event_type']\n",
    "        event_page = row['event_page']\n",
    "\n",
    "        if session_id not in result:\n",
    "            result[session_id] = []\n",
    "\n",
    "        if event_type == 'page':\n",
    "            result[session_id].append(event_page)\n",
    "        else:\n",
    "            result[session_id].append('error')\n",
    "    \n",
    "    rows = []\n",
    "    \n",
    "    for k, v in result.items():\n",
    "        # create route\n",
    "        route = []\n",
    "        for page in v:\n",
    "            if page == 'error': break\n",
    "            if len(route) > 0:\n",
    "                if route[-1] == page:\n",
    "                    continue\n",
    "            route.append(page)\n",
    "\n",
    "        route = '-'.join(route)\n",
    "        \n",
    "        # Add session_id, route to DataFrame\n",
    "        rows.append(Row(k, route))\n",
    "    \n",
    "    df2 = spark.createDataFrame(rows, ['session_id', 'route'])\n",
    "    \n",
    "    return df2"
   ]
  },
  {
   "cell_type": "code",
   "execution_count": 6,
   "metadata": {
    "collapsed": false
   },
   "outputs": [],
   "source": [
    "df = magic_func(df)"
   ]
  },
  {
   "cell_type": "code",
   "execution_count": 9,
   "metadata": {
    "collapsed": false
   },
   "outputs": [],
   "source": [
    "sqlSparkContext.setConf(\"hive.exec.dynamic.partition\", \"true\")\n",
    "sqlSparkContext.setConf(\"hive.exec.dynamic.partition.mode\", \"nonstrict\")"
   ]
  },
  {
   "cell_type": "code",
   "execution_count": 13,
   "metadata": {
    "collapsed": false
   },
   "outputs": [],
   "source": [
    "df.write.saveAsTable('clickstream_final')"
   ]
  },
  {
   "cell_type": "code",
   "execution_count": 20,
   "metadata": {
    "collapsed": false
   },
   "outputs": [],
   "source": [
    "df = sqlSparkContext.sql( \\\n",
    "'''\n",
    "    SELECT \n",
    "        route, count(session_id) as cnt\n",
    "    FROM clickstream_final\n",
    "    GROUP BY route\n",
    "    ORDER BY count(session_id) DESC\n",
    "    LIMIT 30\n",
    "''')"
   ]
  },
  {
   "cell_type": "code",
   "execution_count": 21,
   "metadata": {
    "collapsed": false
   },
   "outputs": [
    {
     "data": {
      "text/plain": [
       "[Row(route='main', cnt=39665),\n",
       " Row(route='main-tariffs', cnt=6601),\n",
       " Row(route='main-news', cnt=6335),\n",
       " Row(route='main-archive', cnt=5914),\n",
       " Row(route='main-family', cnt=4898),\n",
       " Row(route='main-digital', cnt=4267),\n",
       " Row(route='main-bonus', cnt=3529),\n",
       " Row(route='main-tariffs-news', cnt=1201),\n",
       " Row(route='main-news-tariffs', cnt=1147),\n",
       " Row(route='main-tariffs-archive', cnt=1049),\n",
       " Row(route='main-news-archive', cnt=1020),\n",
       " Row(route='main-archive-tariffs', cnt=1008),\n",
       " Row(route='main-archive-news', cnt=1005),\n",
       " Row(route='main-family-tariffs', cnt=925),\n",
       " Row(route='main-news-family', cnt=924),\n",
       " Row(route='main-tariffs-family', cnt=923),\n",
       " Row(route='main-family-news', cnt=886),\n",
       " Row(route='main-archive-family', cnt=821),\n",
       " Row(route='main-news-digital', cnt=803),\n",
       " Row(route='main-tariffs-main', cnt=791),\n",
       " Row(route='main-family-archive', cnt=777),\n",
       " Row(route='main-tariffs-digital', cnt=758),\n",
       " Row(route='main-digital-news', cnt=754),\n",
       " Row(route='main-digital-tariffs', cnt=729),\n",
       " Row(route='main-archive-digital', cnt=721),\n",
       " Row(route='main-spravka', cnt=712),\n",
       " Row(route='main-news-main', cnt=699),\n",
       " Row(route='main-digital-archive', cnt=686),\n",
       " Row(route='main-tariffs-bonus', cnt=671),\n",
       " Row(route='main-archive-main', cnt=625)]"
      ]
     },
     "execution_count": 21,
     "metadata": {},
     "output_type": "execute_result"
    },
    {
     "name": "stdout",
     "output_type": "stream",
     "text": [
      "----------------------------------------\n",
      "Exception happened during processing of request from ('127.0.0.1', 53773)\n"
     ]
    },
    {
     "name": "stderr",
     "output_type": "stream",
     "text": [
      "Traceback (most recent call last):\n",
      "  File \"/usr/lib/python3.4/socketserver.py\", line 305, in _handle_request_noblock\n",
      "    self.process_request(request, client_address)\n",
      "  File \"/usr/lib/python3.4/socketserver.py\", line 331, in process_request\n",
      "    self.finish_request(request, client_address)\n",
      "  File \"/usr/lib/python3.4/socketserver.py\", line 344, in finish_request\n",
      "    self.RequestHandlerClass(request, client_address, self)\n",
      "  File \"/usr/lib/python3.4/socketserver.py\", line 673, in __init__\n",
      "    self.handle()\n",
      "  File \"/u0/cloudera/parcels/SPARK2-2.3.0.cloudera3-1.cdh5.13.3.p0.458809/lib/spark2/python/pyspark/accumulators.py\", line 235, in handle\n",
      "    num_updates = read_int(self.rfile)\n",
      "  File \"/u0/cloudera/parcels/SPARK2-2.3.0.cloudera3-1.cdh5.13.3.p0.458809/lib/spark2/python/pyspark/serializers.py\", line 685, in read_int\n",
      "    raise EOFError\n",
      "EOFError\n"
     ]
    },
    {
     "name": "stdout",
     "output_type": "stream",
     "text": [
      "----------------------------------------\n"
     ]
    }
   ],
   "source": [
    "df.take(50)"
   ]
  },
  {
   "cell_type": "code",
   "execution_count": null,
   "metadata": {
    "collapsed": true
   },
   "outputs": [],
   "source": []
  }
 ],
 "metadata": {
  "kernelspec": {
   "display_name": "Python 3",
   "language": "python",
   "name": "python3"
  },
  "language_info": {
   "codemirror_mode": {
    "name": "ipython",
    "version": 3
   },
   "file_extension": ".py",
   "mimetype": "text/x-python",
   "name": "python",
   "nbconvert_exporter": "python",
   "pygments_lexer": "ipython3",
   "version": "3.4.3"
  }
 },
 "nbformat": 4,
 "nbformat_minor": 2
}
