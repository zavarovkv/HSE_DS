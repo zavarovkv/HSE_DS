{
 "cells": [
  {
   "cell_type": "markdown",
   "metadata": {
    "id": "cezwHv8-BNB2"
   },
   "source": [
    "## Технические моменты"
   ]
  },
  {
   "cell_type": "markdown",
   "metadata": {
    "id": "dQiWVKZ9pw2r"
   },
   "source": [
    "### Подключение Google Drive"
   ]
  },
  {
   "cell_type": "code",
   "execution_count": null,
   "metadata": {
    "colab": {
     "base_uri": "https://localhost:8080/",
     "height": 122
    },
    "executionInfo": {
     "elapsed": 21320,
     "status": "ok",
     "timestamp": 1593368787351,
     "user": {
      "displayName": "Stanislav Diner",
      "photoUrl": "",
      "userId": "16383404849228830602"
     },
     "user_tz": -180
    },
    "id": "Py-tpGFx4_je",
    "outputId": "0ce60cdf-2534-4da3-84a2-20d14f541b42"
   },
   "outputs": [
    {
     "name": "stdout",
     "output_type": "stream",
     "text": [
      "Go to this URL in a browser: https://accounts.google.com/o/oauth2/auth?client_id=947318989803-6bn6qk8qdgf4n4g3pfee6491hc0brc4i.apps.googleusercontent.com&redirect_uri=urn%3aietf%3awg%3aoauth%3a2.0%3aoob&response_type=code&scope=email%20https%3a%2f%2fwww.googleapis.com%2fauth%2fdocs.test%20https%3a%2f%2fwww.googleapis.com%2fauth%2fdrive%20https%3a%2f%2fwww.googleapis.com%2fauth%2fdrive.photos.readonly%20https%3a%2f%2fwww.googleapis.com%2fauth%2fpeopleapi.readonly\n",
      "\n",
      "Enter your authorization code:\n",
      "··········\n",
      "Mounted at /content/drive\n"
     ]
    }
   ],
   "source": [
    "from google.colab import drive\n",
    "drive.mount('/content/drive')"
   ]
  },
  {
   "cell_type": "markdown",
   "metadata": {
    "id": "WiLNlk7wQoGZ"
   },
   "source": [
    "### Установка пакетов"
   ]
  },
  {
   "cell_type": "code",
   "execution_count": null,
   "metadata": {
    "colab": {
     "base_uri": "https://localhost:8080/",
     "height": 1000
    },
    "executionInfo": {
     "elapsed": 31050,
     "status": "ok",
     "timestamp": 1593368820384,
     "user": {
      "displayName": "Stanislav Diner",
      "photoUrl": "",
      "userId": "16383404849228830602"
     },
     "user_tz": -180
    },
    "id": "iy_SXId2Qrws",
    "outputId": "846e6e24-de90-491c-88d2-c86d7e86112f"
   },
   "outputs": [
    {
     "name": "stdout",
     "output_type": "stream",
     "text": [
      "Requirement already satisfied: spacy in /usr/local/lib/python3.6/dist-packages (2.2.4)\n",
      "Requirement already satisfied: murmurhash<1.1.0,>=0.28.0 in /usr/local/lib/python3.6/dist-packages (from spacy) (1.0.2)\n",
      "Requirement already satisfied: catalogue<1.1.0,>=0.0.7 in /usr/local/lib/python3.6/dist-packages (from spacy) (1.0.0)\n",
      "Requirement already satisfied: cymem<2.1.0,>=2.0.2 in /usr/local/lib/python3.6/dist-packages (from spacy) (2.0.3)\n",
      "Requirement already satisfied: tqdm<5.0.0,>=4.38.0 in /usr/local/lib/python3.6/dist-packages (from spacy) (4.41.1)\n",
      "Requirement already satisfied: blis<0.5.0,>=0.4.0 in /usr/local/lib/python3.6/dist-packages (from spacy) (0.4.1)\n",
      "Requirement already satisfied: srsly<1.1.0,>=1.0.2 in /usr/local/lib/python3.6/dist-packages (from spacy) (1.0.2)\n",
      "Requirement already satisfied: numpy>=1.15.0 in /usr/local/lib/python3.6/dist-packages (from spacy) (1.18.5)\n",
      "Requirement already satisfied: setuptools in /usr/local/lib/python3.6/dist-packages (from spacy) (47.3.1)\n",
      "Requirement already satisfied: plac<1.2.0,>=0.9.6 in /usr/local/lib/python3.6/dist-packages (from spacy) (1.1.3)\n",
      "Requirement already satisfied: requests<3.0.0,>=2.13.0 in /usr/local/lib/python3.6/dist-packages (from spacy) (2.23.0)\n",
      "Requirement already satisfied: wasabi<1.1.0,>=0.4.0 in /usr/local/lib/python3.6/dist-packages (from spacy) (0.7.0)\n",
      "Requirement already satisfied: preshed<3.1.0,>=3.0.2 in /usr/local/lib/python3.6/dist-packages (from spacy) (3.0.2)\n",
      "Requirement already satisfied: thinc==7.4.0 in /usr/local/lib/python3.6/dist-packages (from spacy) (7.4.0)\n",
      "Requirement already satisfied: importlib-metadata>=0.20; python_version < \"3.8\" in /usr/local/lib/python3.6/dist-packages (from catalogue<1.1.0,>=0.0.7->spacy) (1.6.1)\n",
      "Requirement already satisfied: chardet<4,>=3.0.2 in /usr/local/lib/python3.6/dist-packages (from requests<3.0.0,>=2.13.0->spacy) (3.0.4)\n",
      "Requirement already satisfied: urllib3!=1.25.0,!=1.25.1,<1.26,>=1.21.1 in /usr/local/lib/python3.6/dist-packages (from requests<3.0.0,>=2.13.0->spacy) (1.24.3)\n",
      "Requirement already satisfied: certifi>=2017.4.17 in /usr/local/lib/python3.6/dist-packages (from requests<3.0.0,>=2.13.0->spacy) (2020.6.20)\n",
      "Requirement already satisfied: idna<3,>=2.5 in /usr/local/lib/python3.6/dist-packages (from requests<3.0.0,>=2.13.0->spacy) (2.9)\n",
      "Requirement already satisfied: zipp>=0.5 in /usr/local/lib/python3.6/dist-packages (from importlib-metadata>=0.20; python_version < \"3.8\"->catalogue<1.1.0,>=0.0.7->spacy) (3.1.0)\n",
      "Requirement already satisfied: gensim in /usr/local/lib/python3.6/dist-packages (3.6.0)\n",
      "Requirement already satisfied: scipy>=0.18.1 in /usr/local/lib/python3.6/dist-packages (from gensim) (1.4.1)\n",
      "Requirement already satisfied: six>=1.5.0 in /usr/local/lib/python3.6/dist-packages (from gensim) (1.12.0)\n",
      "Requirement already satisfied: smart-open>=1.2.1 in /usr/local/lib/python3.6/dist-packages (from gensim) (2.0.0)\n",
      "Requirement already satisfied: numpy>=1.11.3 in /usr/local/lib/python3.6/dist-packages (from gensim) (1.18.5)\n",
      "Requirement already satisfied: requests in /usr/local/lib/python3.6/dist-packages (from smart-open>=1.2.1->gensim) (2.23.0)\n",
      "Requirement already satisfied: boto3 in /usr/local/lib/python3.6/dist-packages (from smart-open>=1.2.1->gensim) (1.14.9)\n",
      "Requirement already satisfied: boto in /usr/local/lib/python3.6/dist-packages (from smart-open>=1.2.1->gensim) (2.49.0)\n",
      "Requirement already satisfied: certifi>=2017.4.17 in /usr/local/lib/python3.6/dist-packages (from requests->smart-open>=1.2.1->gensim) (2020.6.20)\n",
      "Requirement already satisfied: chardet<4,>=3.0.2 in /usr/local/lib/python3.6/dist-packages (from requests->smart-open>=1.2.1->gensim) (3.0.4)\n",
      "Requirement already satisfied: urllib3!=1.25.0,!=1.25.1,<1.26,>=1.21.1 in /usr/local/lib/python3.6/dist-packages (from requests->smart-open>=1.2.1->gensim) (1.24.3)\n",
      "Requirement already satisfied: idna<3,>=2.5 in /usr/local/lib/python3.6/dist-packages (from requests->smart-open>=1.2.1->gensim) (2.9)\n",
      "Requirement already satisfied: botocore<1.18.0,>=1.17.9 in /usr/local/lib/python3.6/dist-packages (from boto3->smart-open>=1.2.1->gensim) (1.17.9)\n",
      "Requirement already satisfied: s3transfer<0.4.0,>=0.3.0 in /usr/local/lib/python3.6/dist-packages (from boto3->smart-open>=1.2.1->gensim) (0.3.3)\n",
      "Requirement already satisfied: jmespath<1.0.0,>=0.7.1 in /usr/local/lib/python3.6/dist-packages (from boto3->smart-open>=1.2.1->gensim) (0.10.0)\n",
      "Requirement already satisfied: docutils<0.16,>=0.10 in /usr/local/lib/python3.6/dist-packages (from botocore<1.18.0,>=1.17.9->boto3->smart-open>=1.2.1->gensim) (0.15.2)\n",
      "Requirement already satisfied: python-dateutil<3.0.0,>=2.1 in /usr/local/lib/python3.6/dist-packages (from botocore<1.18.0,>=1.17.9->boto3->smart-open>=1.2.1->gensim) (2.8.1)\n",
      "Collecting pyLDAvis\n",
      "\u001b[?25l  Downloading https://files.pythonhosted.org/packages/a5/3a/af82e070a8a96e13217c8f362f9a73e82d61ac8fff3a2561946a97f96266/pyLDAvis-2.1.2.tar.gz (1.6MB)\n",
      "\u001b[K     |████████████████████████████████| 1.6MB 3.4MB/s \n",
      "\u001b[?25hRequirement already satisfied: wheel>=0.23.0 in /usr/local/lib/python3.6/dist-packages (from pyLDAvis) (0.34.2)\n",
      "Requirement already satisfied: numpy>=1.9.2 in /usr/local/lib/python3.6/dist-packages (from pyLDAvis) (1.18.5)\n",
      "Requirement already satisfied: scipy>=0.18.0 in /usr/local/lib/python3.6/dist-packages (from pyLDAvis) (1.4.1)\n",
      "Requirement already satisfied: pandas>=0.17.0 in /usr/local/lib/python3.6/dist-packages (from pyLDAvis) (1.0.5)\n",
      "Requirement already satisfied: joblib>=0.8.4 in /usr/local/lib/python3.6/dist-packages (from pyLDAvis) (0.15.1)\n",
      "Requirement already satisfied: jinja2>=2.7.2 in /usr/local/lib/python3.6/dist-packages (from pyLDAvis) (2.11.2)\n",
      "Requirement already satisfied: numexpr in /usr/local/lib/python3.6/dist-packages (from pyLDAvis) (2.7.1)\n",
      "Requirement already satisfied: pytest in /usr/local/lib/python3.6/dist-packages (from pyLDAvis) (3.6.4)\n",
      "Requirement already satisfied: future in /usr/local/lib/python3.6/dist-packages (from pyLDAvis) (0.16.0)\n",
      "Collecting funcy\n",
      "\u001b[?25l  Downloading https://files.pythonhosted.org/packages/ce/4b/6ffa76544e46614123de31574ad95758c421aae391a1764921b8a81e1eae/funcy-1.14.tar.gz (548kB)\n",
      "\u001b[K     |████████████████████████████████| 552kB 23.9MB/s \n",
      "\u001b[?25hRequirement already satisfied: python-dateutil>=2.6.1 in /usr/local/lib/python3.6/dist-packages (from pandas>=0.17.0->pyLDAvis) (2.8.1)\n",
      "Requirement already satisfied: pytz>=2017.2 in /usr/local/lib/python3.6/dist-packages (from pandas>=0.17.0->pyLDAvis) (2018.9)\n",
      "Requirement already satisfied: MarkupSafe>=0.23 in /usr/local/lib/python3.6/dist-packages (from jinja2>=2.7.2->pyLDAvis) (1.1.1)\n",
      "Requirement already satisfied: atomicwrites>=1.0 in /usr/local/lib/python3.6/dist-packages (from pytest->pyLDAvis) (1.4.0)\n",
      "Requirement already satisfied: more-itertools>=4.0.0 in /usr/local/lib/python3.6/dist-packages (from pytest->pyLDAvis) (8.4.0)\n",
      "Requirement already satisfied: setuptools in /usr/local/lib/python3.6/dist-packages (from pytest->pyLDAvis) (47.3.1)\n",
      "Requirement already satisfied: six>=1.10.0 in /usr/local/lib/python3.6/dist-packages (from pytest->pyLDAvis) (1.12.0)\n",
      "Requirement already satisfied: attrs>=17.4.0 in /usr/local/lib/python3.6/dist-packages (from pytest->pyLDAvis) (19.3.0)\n",
      "Requirement already satisfied: pluggy<0.8,>=0.5 in /usr/local/lib/python3.6/dist-packages (from pytest->pyLDAvis) (0.7.1)\n",
      "Requirement already satisfied: py>=1.5.0 in /usr/local/lib/python3.6/dist-packages (from pytest->pyLDAvis) (1.8.2)\n",
      "Building wheels for collected packages: pyLDAvis, funcy\n",
      "  Building wheel for pyLDAvis (setup.py) ... \u001b[?25l\u001b[?25hdone\n",
      "  Created wheel for pyLDAvis: filename=pyLDAvis-2.1.2-py2.py3-none-any.whl size=97711 sha256=55133bf7a555cb950e3e95b2b489cbeae6944c02475a69b5f3a40bf6d5a38887\n",
      "  Stored in directory: /root/.cache/pip/wheels/98/71/24/513a99e58bb6b8465bae4d2d5e9dba8f0bef8179e3051ac414\n",
      "  Building wheel for funcy (setup.py) ... \u001b[?25l\u001b[?25hdone\n",
      "  Created wheel for funcy: filename=funcy-1.14-py2.py3-none-any.whl size=32042 sha256=d35c0934cc63b699f60d9ef4f750ccb11467fae49816a496b92a1f606017885d\n",
      "  Stored in directory: /root/.cache/pip/wheels/20/5a/d8/1d875df03deae6f178dfdf70238cca33f948ef8a6f5209f2eb\n",
      "Successfully built pyLDAvis funcy\n",
      "Installing collected packages: funcy, pyLDAvis\n",
      "Successfully installed funcy-1.14 pyLDAvis-2.1.2\n",
      "Collecting nolds\n",
      "  Downloading https://files.pythonhosted.org/packages/67/28/60d734bb74181f3a36d685c63b18481789fd54d6c25124662e7195e2d5ed/nolds-0.5.2-py2.py3-none-any.whl\n",
      "Requirement already satisfied: setuptools in /usr/local/lib/python3.6/dist-packages (from nolds) (47.3.1)\n",
      "Requirement already satisfied: future in /usr/local/lib/python3.6/dist-packages (from nolds) (0.16.0)\n",
      "Requirement already satisfied: numpy in /usr/local/lib/python3.6/dist-packages (from nolds) (1.18.5)\n",
      "Installing collected packages: nolds\n",
      "Successfully installed nolds-0.5.2\n",
      "Requirement already satisfied: en_core_web_sm==2.2.5 from https://github.com/explosion/spacy-models/releases/download/en_core_web_sm-2.2.5/en_core_web_sm-2.2.5.tar.gz#egg=en_core_web_sm==2.2.5 in /usr/local/lib/python3.6/dist-packages (2.2.5)\n",
      "Requirement already satisfied: spacy>=2.2.2 in /usr/local/lib/python3.6/dist-packages (from en_core_web_sm==2.2.5) (2.2.4)\n",
      "Requirement already satisfied: plac<1.2.0,>=0.9.6 in /usr/local/lib/python3.6/dist-packages (from spacy>=2.2.2->en_core_web_sm==2.2.5) (1.1.3)\n",
      "Requirement already satisfied: tqdm<5.0.0,>=4.38.0 in /usr/local/lib/python3.6/dist-packages (from spacy>=2.2.2->en_core_web_sm==2.2.5) (4.41.1)\n",
      "Requirement already satisfied: thinc==7.4.0 in /usr/local/lib/python3.6/dist-packages (from spacy>=2.2.2->en_core_web_sm==2.2.5) (7.4.0)\n",
      "Requirement already satisfied: setuptools in /usr/local/lib/python3.6/dist-packages (from spacy>=2.2.2->en_core_web_sm==2.2.5) (47.3.1)\n",
      "Requirement already satisfied: murmurhash<1.1.0,>=0.28.0 in /usr/local/lib/python3.6/dist-packages (from spacy>=2.2.2->en_core_web_sm==2.2.5) (1.0.2)\n",
      "Requirement already satisfied: srsly<1.1.0,>=1.0.2 in /usr/local/lib/python3.6/dist-packages (from spacy>=2.2.2->en_core_web_sm==2.2.5) (1.0.2)\n",
      "Requirement already satisfied: catalogue<1.1.0,>=0.0.7 in /usr/local/lib/python3.6/dist-packages (from spacy>=2.2.2->en_core_web_sm==2.2.5) (1.0.0)\n",
      "Requirement already satisfied: cymem<2.1.0,>=2.0.2 in /usr/local/lib/python3.6/dist-packages (from spacy>=2.2.2->en_core_web_sm==2.2.5) (2.0.3)\n",
      "Requirement already satisfied: preshed<3.1.0,>=3.0.2 in /usr/local/lib/python3.6/dist-packages (from spacy>=2.2.2->en_core_web_sm==2.2.5) (3.0.2)\n",
      "Requirement already satisfied: requests<3.0.0,>=2.13.0 in /usr/local/lib/python3.6/dist-packages (from spacy>=2.2.2->en_core_web_sm==2.2.5) (2.23.0)\n",
      "Requirement already satisfied: wasabi<1.1.0,>=0.4.0 in /usr/local/lib/python3.6/dist-packages (from spacy>=2.2.2->en_core_web_sm==2.2.5) (0.7.0)\n",
      "Requirement already satisfied: numpy>=1.15.0 in /usr/local/lib/python3.6/dist-packages (from spacy>=2.2.2->en_core_web_sm==2.2.5) (1.18.5)\n",
      "Requirement already satisfied: blis<0.5.0,>=0.4.0 in /usr/local/lib/python3.6/dist-packages (from spacy>=2.2.2->en_core_web_sm==2.2.5) (0.4.1)\n",
      "Requirement already satisfied: importlib-metadata>=0.20; python_version < \"3.8\" in /usr/local/lib/python3.6/dist-packages (from catalogue<1.1.0,>=0.0.7->spacy>=2.2.2->en_core_web_sm==2.2.5) (1.6.1)\n",
      "Requirement already satisfied: chardet<4,>=3.0.2 in /usr/local/lib/python3.6/dist-packages (from requests<3.0.0,>=2.13.0->spacy>=2.2.2->en_core_web_sm==2.2.5) (3.0.4)\n",
      "Requirement already satisfied: certifi>=2017.4.17 in /usr/local/lib/python3.6/dist-packages (from requests<3.0.0,>=2.13.0->spacy>=2.2.2->en_core_web_sm==2.2.5) (2020.6.20)\n",
      "Requirement already satisfied: urllib3!=1.25.0,!=1.25.1,<1.26,>=1.21.1 in /usr/local/lib/python3.6/dist-packages (from requests<3.0.0,>=2.13.0->spacy>=2.2.2->en_core_web_sm==2.2.5) (1.24.3)\n",
      "Requirement already satisfied: idna<3,>=2.5 in /usr/local/lib/python3.6/dist-packages (from requests<3.0.0,>=2.13.0->spacy>=2.2.2->en_core_web_sm==2.2.5) (2.9)\n",
      "Requirement already satisfied: zipp>=0.5 in /usr/local/lib/python3.6/dist-packages (from importlib-metadata>=0.20; python_version < \"3.8\"->catalogue<1.1.0,>=0.0.7->spacy>=2.2.2->en_core_web_sm==2.2.5) (3.1.0)\n",
      "\u001b[38;5;2m✔ Download and installation successful\u001b[0m\n",
      "You can now load the model via spacy.load('en_core_web_sm')\n",
      "Collecting de_core_news_sm==2.2.5\n",
      "\u001b[?25l  Downloading https://github.com/explosion/spacy-models/releases/download/de_core_news_sm-2.2.5/de_core_news_sm-2.2.5.tar.gz (14.9MB)\n",
      "\u001b[K     |████████████████████████████████| 14.9MB 1.1MB/s \n",
      "\u001b[?25hRequirement already satisfied: spacy>=2.2.2 in /usr/local/lib/python3.6/dist-packages (from de_core_news_sm==2.2.5) (2.2.4)\n",
      "Requirement already satisfied: preshed<3.1.0,>=3.0.2 in /usr/local/lib/python3.6/dist-packages (from spacy>=2.2.2->de_core_news_sm==2.2.5) (3.0.2)\n",
      "Requirement already satisfied: murmurhash<1.1.0,>=0.28.0 in /usr/local/lib/python3.6/dist-packages (from spacy>=2.2.2->de_core_news_sm==2.2.5) (1.0.2)\n",
      "Requirement already satisfied: cymem<2.1.0,>=2.0.2 in /usr/local/lib/python3.6/dist-packages (from spacy>=2.2.2->de_core_news_sm==2.2.5) (2.0.3)\n",
      "Requirement already satisfied: wasabi<1.1.0,>=0.4.0 in /usr/local/lib/python3.6/dist-packages (from spacy>=2.2.2->de_core_news_sm==2.2.5) (0.7.0)\n",
      "Requirement already satisfied: srsly<1.1.0,>=1.0.2 in /usr/local/lib/python3.6/dist-packages (from spacy>=2.2.2->de_core_news_sm==2.2.5) (1.0.2)\n",
      "Requirement already satisfied: numpy>=1.15.0 in /usr/local/lib/python3.6/dist-packages (from spacy>=2.2.2->de_core_news_sm==2.2.5) (1.18.5)\n",
      "Requirement already satisfied: catalogue<1.1.0,>=0.0.7 in /usr/local/lib/python3.6/dist-packages (from spacy>=2.2.2->de_core_news_sm==2.2.5) (1.0.0)\n",
      "Requirement already satisfied: requests<3.0.0,>=2.13.0 in /usr/local/lib/python3.6/dist-packages (from spacy>=2.2.2->de_core_news_sm==2.2.5) (2.23.0)\n",
      "Requirement already satisfied: plac<1.2.0,>=0.9.6 in /usr/local/lib/python3.6/dist-packages (from spacy>=2.2.2->de_core_news_sm==2.2.5) (1.1.3)\n",
      "Requirement already satisfied: tqdm<5.0.0,>=4.38.0 in /usr/local/lib/python3.6/dist-packages (from spacy>=2.2.2->de_core_news_sm==2.2.5) (4.41.1)\n",
      "Requirement already satisfied: setuptools in /usr/local/lib/python3.6/dist-packages (from spacy>=2.2.2->de_core_news_sm==2.2.5) (47.3.1)\n",
      "Requirement already satisfied: thinc==7.4.0 in /usr/local/lib/python3.6/dist-packages (from spacy>=2.2.2->de_core_news_sm==2.2.5) (7.4.0)\n",
      "Requirement already satisfied: blis<0.5.0,>=0.4.0 in /usr/local/lib/python3.6/dist-packages (from spacy>=2.2.2->de_core_news_sm==2.2.5) (0.4.1)\n",
      "Requirement already satisfied: importlib-metadata>=0.20; python_version < \"3.8\" in /usr/local/lib/python3.6/dist-packages (from catalogue<1.1.0,>=0.0.7->spacy>=2.2.2->de_core_news_sm==2.2.5) (1.6.1)\n",
      "Requirement already satisfied: certifi>=2017.4.17 in /usr/local/lib/python3.6/dist-packages (from requests<3.0.0,>=2.13.0->spacy>=2.2.2->de_core_news_sm==2.2.5) (2020.6.20)\n",
      "Requirement already satisfied: urllib3!=1.25.0,!=1.25.1,<1.26,>=1.21.1 in /usr/local/lib/python3.6/dist-packages (from requests<3.0.0,>=2.13.0->spacy>=2.2.2->de_core_news_sm==2.2.5) (1.24.3)\n",
      "Requirement already satisfied: idna<3,>=2.5 in /usr/local/lib/python3.6/dist-packages (from requests<3.0.0,>=2.13.0->spacy>=2.2.2->de_core_news_sm==2.2.5) (2.9)\n",
      "Requirement already satisfied: chardet<4,>=3.0.2 in /usr/local/lib/python3.6/dist-packages (from requests<3.0.0,>=2.13.0->spacy>=2.2.2->de_core_news_sm==2.2.5) (3.0.4)\n",
      "Requirement already satisfied: zipp>=0.5 in /usr/local/lib/python3.6/dist-packages (from importlib-metadata>=0.20; python_version < \"3.8\"->catalogue<1.1.0,>=0.0.7->spacy>=2.2.2->de_core_news_sm==2.2.5) (3.1.0)\n",
      "Building wheels for collected packages: de-core-news-sm\n",
      "  Building wheel for de-core-news-sm (setup.py) ... \u001b[?25l\u001b[?25hdone\n",
      "  Created wheel for de-core-news-sm: filename=de_core_news_sm-2.2.5-cp36-none-any.whl size=14907056 sha256=306f13b8eae6caa76552a13dce3081d9bd8f01b22b6329a30bc2bca5564c3c0f\n",
      "  Stored in directory: /tmp/pip-ephem-wheel-cache-1uejkqbt/wheels/ba/3f/ed/d4aa8e45e7191b7f32db4bfad565e7da1edbf05c916ca7a1ca\n",
      "Successfully built de-core-news-sm\n",
      "Installing collected packages: de-core-news-sm\n",
      "Successfully installed de-core-news-sm-2.2.5\n",
      "\u001b[38;5;2m✔ Download and installation successful\u001b[0m\n",
      "You can now load the model via spacy.load('de_core_news_sm')\n",
      "\u001b[38;5;2m✔ Linking successful\u001b[0m\n",
      "/usr/local/lib/python3.6/dist-packages/de_core_news_sm -->\n",
      "/usr/local/lib/python3.6/dist-packages/spacy/data/de\n",
      "You can now load the model via spacy.load('de')\n"
     ]
    }
   ],
   "source": [
    "!pip install spacy\n",
    "!pip install gensim\n",
    "!pip install pyLDAvis\n",
    "!pip install nolds\n",
    "!python -m spacy download en_core_web_sm\n",
    "!python -m spacy download de"
   ]
  },
  {
   "cell_type": "markdown",
   "metadata": {
    "id": "KKGxOSyGvqAD"
   },
   "source": [
    "## Функции для исследования текста "
   ]
  },
  {
   "cell_type": "markdown",
   "metadata": {
    "id": "zFW8sku7Hv1b"
   },
   "source": [
    "### Функции превращающие текст в хаотический ряд"
   ]
  },
  {
   "cell_type": "code",
   "execution_count": null,
   "metadata": {
    "id": "LHxc9zZyIBPi"
   },
   "outputs": [],
   "source": [
    "import gensim\n",
    "import spacy\n",
    "from bisect import bisect_left \n",
    "\n",
    "nlp = spacy.load('en_core_web_sm', disable=['parser', 'ner'])\n",
    "\n",
    "  \n",
    "def binary_search(a, x): \n",
    "    i = bisect_left(a, x) \n",
    "    if i != len(a) and a[i] == x: \n",
    "        return i \n",
    "    else: \n",
    "        return -1\n",
    "\n",
    "def english_text_to_series_pre(lit_text):\n",
    "    words = gensim.utils.simple_preprocess(lit_text, min_len=1, max_len=100)\n",
    "    doc = nlp(' '.join(words))\n",
    "    text = ('\\n'.join([token.lemma_ for token in doc]))\n",
    "    return text\n",
    "\n",
    "def text_to_series(words, dictionary, table):\n",
    "    # Считается что он уже обработан english_text_to_series_pre или Mystem:\n",
    "    # your_path/ProjectSygma/programs/mystem.exe -nwld text_path your_path/ProjectSygma/texts/russian_prepared_text.txt\n",
    "    # и лежит в text в виде списка слов\n",
    "    text_serie = []\n",
    "    for word in words:\n",
    "        word_index = binary_search(dictionary, word)\n",
    "        if word_index != -1:\n",
    "            word_vector = table[word_index]\n",
    "            text_serie.append(word_vector)\n",
    "    return text_serie"
   ]
  },
  {
   "cell_type": "code",
   "execution_count": null,
   "metadata": {
    "colab": {
     "base_uri": "https://localhost:8080/",
     "height": 350
    },
    "executionInfo": {
     "elapsed": 83314,
     "status": "error",
     "timestamp": 1591888651923,
     "user": {
      "displayName": "Stanislav Diner",
      "photoUrl": "",
      "userId": "16383404849228830602"
     },
     "user_tz": -180
    },
    "id": "9hDFcBmgk1ot",
    "outputId": "7a5654de-4953-48a0-a960-41056ff10d95"
   },
   "outputs": [
    {
     "ename": "FileNotFoundError",
     "evalue": "ignored",
     "output_type": "error",
     "traceback": [
      "\u001b[0;31m---------------------------------------------------------------------------\u001b[0m",
      "\u001b[0;31mFileNotFoundError\u001b[0m                         Traceback (most recent call last)",
      "\u001b[0;32m<ipython-input-4-6b83404fc9e2>\u001b[0m in \u001b[0;36m<module>\u001b[0;34m()\u001b[0m\n\u001b[1;32m      1\u001b[0m \u001b[0;32mimport\u001b[0m \u001b[0mnumpy\u001b[0m \u001b[0;32mas\u001b[0m \u001b[0mnp\u001b[0m\u001b[0;34m\u001b[0m\u001b[0;34m\u001b[0m\u001b[0m\n\u001b[1;32m      2\u001b[0m \u001b[0;34m\u001b[0m\u001b[0m\n\u001b[0;32m----> 3\u001b[0;31m \u001b[0mnpzfile\u001b[0m \u001b[0;34m=\u001b[0m \u001b[0mnp\u001b[0m\u001b[0;34m.\u001b[0m\u001b[0mload\u001b[0m\u001b[0;34m(\u001b[0m\u001b[0;34m\"/content/drive/My Drive/ProjectSygma/tables/chinese_classic.npz\"\u001b[0m\u001b[0;34m,\u001b[0m \u001b[0mallow_pickle\u001b[0m\u001b[0;34m=\u001b[0m\u001b[0;32mTrue\u001b[0m\u001b[0;34m)\u001b[0m\u001b[0;34m\u001b[0m\u001b[0;34m\u001b[0m\u001b[0m\n\u001b[0m\u001b[1;32m      4\u001b[0m \u001b[0mvt\u001b[0m \u001b[0;34m=\u001b[0m \u001b[0mnpzfile\u001b[0m\u001b[0;34m[\u001b[0m\u001b[0;34m'arr_3'\u001b[0m\u001b[0;34m]\u001b[0m\u001b[0;34m\u001b[0m\u001b[0;34m\u001b[0m\u001b[0m\n\u001b[1;32m      5\u001b[0m \u001b[0mvocabulary\u001b[0m \u001b[0;34m=\u001b[0m \u001b[0mnpzfile\u001b[0m\u001b[0;34m[\u001b[0m\u001b[0;34m'arr_4'\u001b[0m\u001b[0;34m]\u001b[0m\u001b[0;34m\u001b[0m\u001b[0;34m\u001b[0m\u001b[0m\n",
      "\u001b[0;32m/usr/local/lib/python3.6/dist-packages/numpy/lib/npyio.py\u001b[0m in \u001b[0;36mload\u001b[0;34m(file, mmap_mode, allow_pickle, fix_imports, encoding)\u001b[0m\n\u001b[1;32m    426\u001b[0m         \u001b[0mown_fid\u001b[0m \u001b[0;34m=\u001b[0m \u001b[0;32mFalse\u001b[0m\u001b[0;34m\u001b[0m\u001b[0;34m\u001b[0m\u001b[0m\n\u001b[1;32m    427\u001b[0m     \u001b[0;32melse\u001b[0m\u001b[0;34m:\u001b[0m\u001b[0;34m\u001b[0m\u001b[0;34m\u001b[0m\u001b[0m\n\u001b[0;32m--> 428\u001b[0;31m         \u001b[0mfid\u001b[0m \u001b[0;34m=\u001b[0m \u001b[0mopen\u001b[0m\u001b[0;34m(\u001b[0m\u001b[0mos_fspath\u001b[0m\u001b[0;34m(\u001b[0m\u001b[0mfile\u001b[0m\u001b[0;34m)\u001b[0m\u001b[0;34m,\u001b[0m \u001b[0;34m\"rb\"\u001b[0m\u001b[0;34m)\u001b[0m\u001b[0;34m\u001b[0m\u001b[0;34m\u001b[0m\u001b[0m\n\u001b[0m\u001b[1;32m    429\u001b[0m         \u001b[0mown_fid\u001b[0m \u001b[0;34m=\u001b[0m \u001b[0;32mTrue\u001b[0m\u001b[0;34m\u001b[0m\u001b[0;34m\u001b[0m\u001b[0m\n\u001b[1;32m    430\u001b[0m \u001b[0;34m\u001b[0m\u001b[0m\n",
      "\u001b[0;31mFileNotFoundError\u001b[0m: [Errno 2] No such file or directory: '/content/drive/My Drive/ProjectSygma/tables/chinese_classic.npz'"
     ]
    }
   ],
   "source": [
    "import numpy as np\n",
    "\n",
    "npzfile = np.load(\"/content/drive/My Drive/ProjectSygma/tables/chinese_classic.npz\", allow_pickle=True)\n",
    "vt = npzfile['arr_3']\n",
    "vocabulary = npzfile['arr_4']\n",
    "def chinese_text_to_series(text, d, v):\n",
    "    text_split = text.split()\n",
    "    ans = []\n",
    "    for i in range(len(text_split) - n):\n",
    "        tmp = []\n",
    "        for j in range(i, i + n):\n",
    "            tmp2 = []\n",
    "            if text_split[j] in vocabulary.item():\n",
    "                for k in range(m):\n",
    "                    tmp2.append(vt[k, vocabulary.item()[text_split[j]]])\n",
    "            else:\n",
    "                for k in range(m):\n",
    "                    tmp2.append(0)\n",
    "            tmp.append(np.array(tmp2))\n",
    "        ans.append(np.array(tmp))\n",
    "    return ans"
   ]
  },
  {
   "cell_type": "markdown",
   "metadata": {
    "id": "TMOmKcx5mjWM"
   },
   "source": [
    "### Функции, находящие меру энтропию и MPR-сложность"
   ]
  },
  {
   "cell_type": "markdown",
   "metadata": {
    "id": "hIhEc3ZIsCHq"
   },
   "source": [
    "#### Вспомогательные функции"
   ]
  },
  {
   "cell_type": "code",
   "execution_count": null,
   "metadata": {
    "id": "OI3JF7IasIPX"
   },
   "outputs": [],
   "source": [
    "import math\n",
    "\n",
    "def get_split_index(A):\n",
    "    i = len(A) - 1\n",
    "    while i > 0:\n",
    "        if A[i] < A[i - 1]:\n",
    "            i -= 1\n",
    "        else:\n",
    "            break\n",
    "    return i - 1\n",
    "\n",
    "\n",
    "def get_change_index(A, i):\n",
    "    j = len(A) - 1\n",
    "    while j >= i:\n",
    "        if A[j] > A[i]:\n",
    "            break\n",
    "        else:\n",
    "            j -= 1\n",
    "    return j\n",
    "\n",
    "\n",
    "def swap(A, i, j):\n",
    "    A[i], A[j] = (A[j], A[i])\n",
    "\n",
    "\n",
    "# reverse A[start:]\n",
    "def reverse(A, start):\n",
    "    left = start\n",
    "    right = len(A) - 1\n",
    "    while left < right:\n",
    "        swap(A, left, right)\n",
    "        left += 1\n",
    "        right -= 1\n",
    "\n",
    "\n",
    "def next_permutation(A):\n",
    "    split_index = get_split_index(A)\n",
    "    # the Array is sorted in descreased order\n",
    "    if split_index == -1:\n",
    "        reverse(A, 0)\n",
    "    else:\n",
    "        change_index = get_change_index(A, split_index)\n",
    "        swap(A, split_index, change_index)\n",
    "        reverse(A, split_index + 1)\n",
    "\n",
    "\n",
    "def factorial(n):\n",
    "    ans = 1\n",
    "    for i in range(2, n + 1):\n",
    "        ans *= i\n",
    "    return ans\n",
    "\n",
    "\n",
    "def permutations(d):\n",
    "    a = []\n",
    "    for j in range(d):\n",
    "        a.append(j + 1)\n",
    "    perm = dict()\n",
    "    perm[str(a)] = 0\n",
    "    for j in range(factorial(d) - 1):\n",
    "        next_permutation(a)\n",
    "        perm[str(a)] = j + 1\n",
    "    return perm\n",
    "\n",
    "\n",
    "def s_max(d):\n",
    "    return math.log(factorial(d))\n",
    "\n",
    "\n",
    "def s_max_list(d):\n",
    "    return [1 / factorial(d)] * factorial(d)\n",
    "\n",
    "\n",
    "def pi(arr, d):\n",
    "    pr = [0] * factorial(d)\n",
    "    permutation_dict = permutations(d)\n",
    "    for i in range(d - 1, len(arr)):\n",
    "        curr = []\n",
    "        curr_perm = []\n",
    "        for j in range(i - d + 1, i + 1):\n",
    "            curr.append([arr[j], len(curr) + 1])\n",
    "        curr.sort()\n",
    "        for k in curr:\n",
    "            curr_perm.append(k[1])\n",
    "        pr[permutation_dict[str(curr_perm)]] += 1\n",
    "    for i in range(len(pr)):\n",
    "        pr[i] /= len(arr) - d + 1\n",
    "    return pr\n",
    "\n",
    "\n",
    "def si(pr):\n",
    "    entropy = 0\n",
    "    for i in range(len(pr)):\n",
    "        if pr[i] != 0:\n",
    "            entropy -= pr[i] * math.log(pr[i])\n",
    "    return entropy\n",
    "\n",
    "def q_0_calculation(d):\n",
    "    pr = [0] * factorial(d)\n",
    "    pr[0] = 1\n",
    "    b = s_max_list(d)\n",
    "    b = [pr + b for pr, b in zip(pr, b)]\n",
    "    b = [i * 0.5 for i in b]\n",
    "    return 1 / (si(b) - si(pr) / 2 - s_max(d) / 2)\n",
    "\n",
    "def q_j(arr, d):\n",
    "    pr = pi(arr, d)\n",
    "    b = s_max_list(d)\n",
    "    b = [pr + b for pr, b in zip(pr, b)]\n",
    "    b = [i * 0.5 for i in b]\n",
    "    return q_0_calculation(d) * (si(b) - si(pr) / 2 - s_max(d) / 2)"
   ]
  },
  {
   "cell_type": "markdown",
   "metadata": {
    "id": "SlCvEvmYs0tF"
   },
   "source": [
    "#### Мера энтропии и MPR-сложность"
   ]
  },
  {
   "cell_type": "code",
   "execution_count": null,
   "metadata": {
    "id": "soAQjLkKpAmF"
   },
   "outputs": [],
   "source": [
    "def entropy_measure(arr, d):\n",
    "    return si(pi(arr, d))/s_max(d)\n",
    "\n",
    "def mpr_complexity(arr, d):\n",
    "    return q_j(arr, d) * entropy_measure(arr, d)"
   ]
  },
  {
   "cell_type": "code",
   "execution_count": null,
   "metadata": {
    "colab": {
     "base_uri": "https://localhost:8080/",
     "height": 51
    },
    "executionInfo": {
     "elapsed": 921,
     "status": "ok",
     "timestamp": 1593411813325,
     "user": {
      "displayName": "Stanislav Diner",
      "photoUrl": "",
      "userId": "16383404849228830602"
     },
     "user_tz": -180
    },
    "id": "2uoaQ5HeuYQ3",
    "outputId": "4024e9f2-c2be-48fd-847b-bd6187e9f23c"
   },
   "outputs": [
    {
     "name": "stdout",
     "output_type": "stream",
     "text": [
      "0.4362085839710631\n",
      "0.3269082991361284\n"
     ]
    }
   ],
   "source": [
    "print(entropy_measure([1, 2, 3, 1, 4, 2, 3], 4))\n",
    "print(mpr_complexity([1, 2, 3, 1, 4, 2, 3], 4))"
   ]
  },
  {
   "cell_type": "markdown",
   "metadata": {
    "id": "q1pSg7jDMZ68"
   },
   "source": [
    "### Функции, находящие меру энтропию и MPR-сложность (многомерный случай)"
   ]
  },
  {
   "cell_type": "markdown",
   "metadata": {
    "id": "-QVAlNB1MZ7C"
   },
   "source": [
    "#### Вспомогательные функции"
   ]
  },
  {
   "cell_type": "code",
   "execution_count": null,
   "metadata": {
    "id": "rewCdJioMZ7E"
   },
   "outputs": [],
   "source": [
    "import math\n",
    "\n",
    "def get_split_index_m(A):\n",
    "    i = len(A) - 1\n",
    "    while i > 0:\n",
    "        if A[i] < A[i - 1]:\n",
    "            i -= 1\n",
    "        else:\n",
    "            break\n",
    "    return i - 1\n",
    "\n",
    "\n",
    "def get_change_index_m(A, i):\n",
    "    j = len(A) - 1\n",
    "    while j >= i:\n",
    "        if A[j] > A[i]:\n",
    "            break\n",
    "        else:\n",
    "            j -= 1\n",
    "    return j\n",
    "\n",
    "\n",
    "def swap_m(A, i, j):\n",
    "    A[i], A[j] = (A[j], A[i])\n",
    "\n",
    "\n",
    "# reverse A[start:]\n",
    "def reverse_m(A, start):\n",
    "    left = start\n",
    "    right = len(A) - 1\n",
    "    while left < right:\n",
    "        swap_m(A, left, right)\n",
    "        left += 1\n",
    "        right -= 1\n",
    "\n",
    "\n",
    "def next_permutation_m(A, v):\n",
    "    i = v - 1\n",
    "    while i >= 0:\n",
    "        split_index = get_split_index_m(A[i])\n",
    "        # the Array is sorted in descreased order\n",
    "        if split_index == -1:\n",
    "            reverse_m(A[i], 0)\n",
    "            i -= 1\n",
    "        else:\n",
    "            change_index = get_change_index_m(A[i], split_index)\n",
    "            swap_m(A[i], split_index, change_index)\n",
    "            reverse_m(A[i], split_index + 1)\n",
    "            break\n",
    "\n",
    "\n",
    "def factorial_m(n):\n",
    "    ans = 1\n",
    "    for i in range(2, n + 1):\n",
    "        ans *= i\n",
    "    return ans\n",
    "\n",
    "\n",
    "def permutations_m(d, v):\n",
    "    a = []\n",
    "    for i in range(v):\n",
    "        a.append([])\n",
    "        for j in range(d):\n",
    "            a[-1].append(j + 1)\n",
    "    perm = dict()\n",
    "    perm[str(a)] = 0\n",
    "    for j in range(factorial_m(d) ** v - 1):\n",
    "        next_permutation_m(a, v)\n",
    "        perm[str(a)] = j + 1\n",
    "    return perm\n",
    "\n",
    "\n",
    "def s_max_m(d, v):\n",
    "    return math.log(factorial_m(d) ** v)\n",
    "\n",
    "\n",
    "def s_max_list_m(d, v):\n",
    "    return [1 / (factorial_m(d) ** v)] * (factorial_m(d) ** v)\n",
    "\n",
    "\n",
    "def p_m(arr, d, v):\n",
    "    pr = [0] * (factorial_m(d) ** v)\n",
    "    permutation_dict = permutations_m(d, v)\n",
    "    for i in range(d - 1, len(arr)):\n",
    "        full_curr_perm = []\n",
    "        for l in range(v):\n",
    "            curr = []\n",
    "            for j in range(i - d + 1, i + 1):\n",
    "                curr.append([arr[j][l], len(curr) + 1])\n",
    "            curr.sort()\n",
    "            curr_perm = []\n",
    "            for k in curr:\n",
    "                curr_perm.append(k[1])\n",
    "            full_curr_perm.append(curr_perm)\n",
    "        pr[permutation_dict[str(full_curr_perm)]] += 1\n",
    "    for i in range(len(pr)):\n",
    "        pr[i] /= len(arr) - d + 1\n",
    "    return pr\n",
    "\n",
    "\n",
    "def s_m(pr):\n",
    "    entropy = 0\n",
    "    for i in range(len(pr)):\n",
    "        if pr[i] != 0:\n",
    "            entropy -= pr[i] * math.log(pr[i])\n",
    "    return entropy\n",
    "\n",
    "def q_0_calculation_m(d, v):\n",
    "    pr = [0] * (factorial_m(d) ** v)\n",
    "    pr[0] = 1\n",
    "    b = s_max_list_m(d, v)\n",
    "    b = [pr + b for pr, b in zip(pr, b)]\n",
    "    b = [i * 0.5 for i in b]\n",
    "    return 1 / (s_m(b) - s_m(pr) / 2 - s_max_m(d, v) / 2)\n",
    "\n",
    "def q_j_m(arr, d, v):\n",
    "    pr = p_m(arr, d, v)\n",
    "    b = s_max_list_m(d, v)\n",
    "    b = [pr + b for pr, b in zip(pr, b)]\n",
    "    b = [i * 0.5 for i in b]\n",
    "    return q_0_calculation_m(d, v) * (s_m(b) - s_m(pr) / 2 - s_max_m(d, v) / 2)"
   ]
  },
  {
   "cell_type": "markdown",
   "metadata": {
    "id": "-4owjM92MZ7O"
   },
   "source": [
    "#### Мера энтропии и MPR-сложность"
   ]
  },
  {
   "cell_type": "code",
   "execution_count": null,
   "metadata": {
    "id": "kvCuRUYkMZ7P"
   },
   "outputs": [],
   "source": [
    "def entropy_measure_m(arr, d, v):\n",
    "    return s_m(p_m(arr, d, v))/s_max_m(d, v)\n",
    "\n",
    "def mpr_complexity_m(arr, d, v):\n",
    "    return q_j_m(arr, d, v) * entropy_measure_m(arr, d, v)"
   ]
  },
  {
   "cell_type": "markdown",
   "metadata": {
    "id": "n_GNWyTLB6RT"
   },
   "source": [
    "### Функция нахождения границ для точки"
   ]
  },
  {
   "cell_type": "code",
   "execution_count": null,
   "metadata": {
    "id": "tokGasxn5Wh0"
   },
   "outputs": [],
   "source": [
    "import numpy as np\n",
    "import matplotlib.pyplot as plt\n",
    "import matplotlib as mpl\n",
    "import math\n",
    "\n",
    "\n",
    "def s_b(N, p, m, n):\n",
    "    if p != 0:\n",
    "        return -(n * p * math.log(p) + (N - m - n) * (1 - p * n) / (N - m - n) * math.log((1 - p * n) / (N - m - n)))\n",
    "    else:\n",
    "        return math.log(N - m - n)\n",
    "\n",
    "def s_b_1(N, p, m, n):\n",
    "    return -(m / N * math.log(1 / N) + n * (p + 1 / N) / 2 * math.log((p + 1 / N) / 2) + (N - m - n) * ((1 - p * n) / (N - m - n) + 1 / N) / 2 * math.log((((1 - p * n) / (N - m - n)) + 1 / N) / 2))\n",
    "\n",
    "def entropy_measure_b(N, p, m, n):\n",
    "    return s_b(N, p, m, n) / math.log(N)\n",
    "\n",
    "def q_0_calculation_b(N, p, m, n):\n",
    "    return 1 / (s_b(N, 1 / 2 / N, 0, N - 1) - math.log(N) / 2)\n",
    "\n",
    "\n",
    "def q_j_b(N, p, m, n):\n",
    "    return q_0_calculation_b(N, p, m, n) * (s_b_1(N, p, m, n) - s_b(N, p, m, n) / 2 - math.log(N) / 2)\n",
    "\n",
    "def mpr_complexity_b(N, p, m, n):\n",
    "    return q_j_b(N, p, m, n) * entropy_measure_b(N, p, m, n)\n",
    "\n",
    "def borders(N, x, y):\n",
    "    i = 1;\n",
    "    while (i * 100 < N):\n",
    "        for n in range (N - i * 100, N - 1, i):\n",
    "            plt.scatter(entropy_measure_b(N, 0, 0, n), mpr_complexity_b(N, 0, 0, n), c = \"red\")\n",
    "        i *= 2\n",
    "    for n in range (0, N - 1, i):\n",
    "        plt.scatter(entropy_measure_b(N, 0, 0, n), mpr_complexity_b(N, 0, 0, n), c = \"red\")\n",
    "    \n",
    "    p = 0.01\n",
    "    while p < 0.99:\n",
    "        p += 0.01\n",
    "        plt.scatter(entropy_measure_b(N, p, 0, 1), mpr_complexity_b(N, p, 0, 1), c=\"green\")\n",
    "\n",
    "    plt.scatter(x, y, c=\"blue\")\n",
    "    #plt.scatter(entropy_measure_b(N, 0.01, 0, 1), mpr_complexity_b(N, 0.01, 0, 1), c = \"blue\")\n",
    "    plt.xlabel('entropy')\n",
    "    plt.ylabel('mpr_complexity')\n",
    "    #ax = plt.subplots()\n",
    "    plt.title('n = 9')\n",
    "    plt.show()\n"
   ]
  },
  {
   "cell_type": "code",
   "execution_count": null,
   "metadata": {
    "colab": {
     "base_uri": "https://localhost:8080/",
     "height": 295
    },
    "executionInfo": {
     "elapsed": 7830,
     "status": "ok",
     "timestamp": 1597144478208,
     "user": {
      "displayName": "Stanislav Diner",
      "photoUrl": "",
      "userId": "16383404849228830602"
     },
     "user_tz": -180
    },
    "id": "2tXQvifjJ_CK",
    "outputId": "7e7c444d-d666-479a-84b3-513deddcdf2d"
   },
   "outputs": [
    {
     "data": {
      "image/png": "[encoded data removed]",
      "text/plain": [
       "<Figure size 432x288 with 1 Axes>"
      ]
     },
     "metadata": {
      "needs_background": "light",
      "tags": []
     },
     "output_type": "display_data"
    }
   ],
   "source": [
    "borders(362880, 0.42946580932168615, 0.420418518597019)"
   ]
  },
  {
   "cell_type": "markdown",
   "metadata": {
    "id": "LYrnMENWnffc"
   },
   "source": [
    "### Функция, вычисляющая старший показатель Ляпунова"
   ]
  },
  {
   "cell_type": "code",
   "execution_count": null,
   "metadata": {
    "id": "CBnMB0Utr3Jv"
   },
   "outputs": [],
   "source": [
    "import nolds\n",
    "import numpy as np\n",
    "\n",
    "\n",
    "def rowwise_euclidean(x, y):\n",
    "    return np.sqrt(np.sum((x - y) ** 2, axis=1))\n",
    "\n",
    "\n",
    "def delay_embedding(data, emb_dim, lag=1):\n",
    "    data = np.asarray(data)\n",
    "    min_len = (emb_dim - 1) * lag + 1\n",
    "    m = len(data) - min_len + 1\n",
    "    indices = np.repeat([np.arange(emb_dim) * lag], m, axis=0)\n",
    "    indices += np.arange(m).reshape((m, 1))\n",
    "    return data[indices]\n",
    "\n",
    "\n",
    "def lyap_r_len(**kwargs):\n",
    "    min_len = (kwargs['emb_dim'] - 1) * kwargs['lag'] + 1\n",
    "    min_len += kwargs['trajectory_len'] - 1\n",
    "    min_len += kwargs['min_tsep'] * 2 + 1\n",
    "    return min_len\n",
    "\n",
    "\n",
    "def lyap_r(data,\n",
    "           emb_dim=10,\n",
    "           lag=None,\n",
    "           min_tsep=None,\n",
    "           tau=1,\n",
    "           min_neighbors=20,\n",
    "           trajectory_len=20,\n",
    "           debug_data=False,\n",
    "           fit_offset=0):\n",
    "    data = np.asarray(data, dtype=\"float32\")\n",
    "    n = len(data)\n",
    "    max_tsep_factor = 0.25\n",
    "    if lag is None or min_tsep is None:\n",
    "        # both the algorithm for lag and min_tsep need the fft\n",
    "        f = np.fft.rfft(data, n * 2 - 1)\n",
    "    if min_tsep is None:\n",
    "        # calculate min_tsep as mean period (= 1 / mean frequency)\n",
    "        mf = np.fft.rfftfreq(n * 2 - 1) * np.abs(f)\n",
    "        mf = np.mean(mf[1:]) / np.sum(np.abs(f[1:]))\n",
    "        min_tsep = int(np.ceil(1.0 / mf))\n",
    "        if min_tsep > max_tsep_factor * n:\n",
    "            min_tsep = int(max_tsep_factor * n)\n",
    "            print(\"signal has very low mean frequency\")\n",
    "    if lag is None:\n",
    "        acorr = np.fft.irfft(f * np.conj(f))\n",
    "        acorr = np.roll(acorr, n - 1)\n",
    "        eps = acorr[n - 1] * (1 - 1.0 / np.e)\n",
    "        lag = 1\n",
    "        def nb_neighbors(lag_value):\n",
    "            min_len = lyap_r_len(\n",
    "                emb_dim=emb_dim,\n",
    "                lag=lag_value,\n",
    "                trajectory_len=trajectory_len,\n",
    "                min_tsep=min_tsep\n",
    "            )\n",
    "            return max(0, n - min_len)\n",
    "        for i in range(1, n):\n",
    "            lag = i\n",
    "            if acorr[n - 1 + i] < eps or acorr[n - 1 - i] < eps:\n",
    "                break\n",
    "            if nb_neighbors(i) < min_neighbors:\n",
    "                print(\"autocorrelation declined too slowly to find suitable lag\")\n",
    "                break\n",
    "    min_len = lyap_r_len(\n",
    "        emb_dim=emb_dim,\n",
    "        lag=lag,\n",
    "        trajectory_len=trajectory_len,\n",
    "        min_tsep=min_tsep\n",
    "    )\n",
    "    orbit = delay_embedding(data, emb_dim, lag)\n",
    "    m = len(orbit)\n",
    "    dists = np.array([rowwise_euclidean(orbit, orbit[i]) for i in range(m)])\n",
    "    for i in range(m):\n",
    "        dists[i, max(0, i - min_tsep):i + min_tsep + 1] = float(\"inf\")\n",
    "\n",
    "    ntraj = m - trajectory_len + 1\n",
    "    nb_idx = np.argmin(dists[:ntraj, :ntraj], axis=1)\n",
    "\n",
    "    div_traj = np.zeros(trajectory_len, dtype=float)\n",
    "    for k in range(trajectory_len):\n",
    "        indices = (np.arange(ntraj) + k, nb_idx + k)\n",
    "        div_traj_k = dists[indices]\n",
    "        nonzero = np.where(div_traj_k != 0)\n",
    "        if len(nonzero[0]) == 0:\n",
    "            div_traj[k] = -np.inf\n",
    "        else:\n",
    "            div_traj[k] = np.mean(np.log(div_traj_k[nonzero]))\n",
    "    ks = np.arange(trajectory_len)\n",
    "    finite = np.where(np.isfinite(div_traj))\n",
    "    ks = ks[finite]\n",
    "    div_traj = div_traj[finite]\n",
    "    if len(ks) < 1:\n",
    "        poly = [-np.inf, 0]\n",
    "    else:\n",
    "        poly = np.polyfit(ks[fit_offset:], div_traj[fit_offset:], 1)\n",
    "    le = poly[0] / tau\n",
    "    if debug_data:\n",
    "        return (le, (ks, div_traj, poly))\n",
    "    else:\n",
    "        return le"
   ]
  },
  {
   "cell_type": "markdown",
   "metadata": {
    "id": "4vuDAlUzlIyz"
   },
   "source": [
    "## Вычисление для текстов\n"
   ]
  },
  {
   "cell_type": "markdown",
   "metadata": {
    "id": "ftyf4cyuCpVs"
   },
   "source": [
    "### Китайский"
   ]
  },
  {
   "cell_type": "code",
   "execution_count": null,
   "metadata": {
    "id": "sm2EiKCZsfnb"
   },
   "outputs": [],
   "source": [
    "import numpy as np\n",
    "import matplotlib.pyplot as plt\n",
    "import matplotlib as mpl\n",
    "import glob\n",
    "import sys\n",
    "\n",
    "x_max_file = open('/content/drive/My Drive/ProjectSygma/tables/x_max.txt', 'r')\n",
    "x_max = []\n",
    "y_max = []\n",
    "for line in x_max_file:\n",
    "    x_max.append(list(map(float, line.split())))\n",
    "y_max_file = open('/content/drive/My Drive/ProjectSygma/tables/y_max.txt', 'r')\n",
    "for line in y_max_file:\n",
    "    y_max.append(list(map(float, line.split())))\n",
    "\n",
    "file_list = glob.glob('/content/drive/My Drive/ProjectSygma/texts/test_chi/*')\n",
    "for file_path in file_list:\n",
    "    print(file_path)\n",
    "    acc_val = open('/content/drive/My Drive/ProjectSygma/tables/eng_acc_val.txt', 'r')\n",
    "    text_file = open(file_path, 'r')\n",
    "    text = text_file.read()\n",
    "    text_file.close()\n",
    "\n",
    "\n",
    "    table = []\n",
    "    for line_1 in acc_val:\n",
    "        values = line_1[:-1].split()\n",
    "        if len(values) == 2:\n",
    "            values.append('2')\n",
    "        i = int(values[0])\n",
    "\n",
    "        text_serie = get_mas(text, n=i, m=j)\n",
    "        for k in range(len(text_serie)):\n",
    "            text_serie[k] = text_serie[k].tolist()\n",
    "        \n",
    "        for j in range (int(values[1]), int(values[2]) + 1):\n",
    "            if i == 1:\n",
    "                x_val = entropy_measure(text_serie, d=j)\n",
    "                if x_val > x_max[j][i]:\n",
    "                    x_val_1 = (x_val - x_max[j][i]) / (1 - x_max[j][i])\n",
    "                else:\n",
    "                    x_val_1 = (x_val - x_max[j][i]) / (x_max[j][i])\n",
    "                print(i, j, x_val, mpr_complexity(text_serie, d=j), x_val_1, mpr_complexity(text_serie, d=j) / y_max[j][i])\n",
    "            else:\n",
    "                x_val = entropy_measure_m(text_serie, d=j, v=i)\n",
    "                if x_val > x_max[j][i]:\n",
    "                    x_val_1 = (x_val - x_max[j][i]) / (1 - x_max[j][i])\n",
    "                else:\n",
    "                    x_val_1 = (x_val - x_max[j][i]) / (x_max[j][i])\n",
    "                print(i, j, x_val, mpr_complexity_m(text_serie, d=j, v=i), x_val_1, mpr_complexity_m(text_serie, d=j, v=i) / y_max[j][i])\n"
   ]
  },
  {
   "cell_type": "markdown",
   "metadata": {
    "id": "7ibdtB4wic88"
   },
   "source": [
    "### Русский"
   ]
  },
  {
   "cell_type": "code",
   "execution_count": null,
   "metadata": {
    "colab": {
     "base_uri": "https://localhost:8080/",
     "height": 54
    },
    "executionInfo": {
     "elapsed": 1225,
     "status": "ok",
     "timestamp": 1593369159300,
     "user": {
      "displayName": "Stanislav Diner",
      "photoUrl": "",
      "userId": "16383404849228830602"
     },
     "user_tz": -180
    },
    "id": "vUWfS7n4L2Lp",
    "outputId": "7f7d0579-5003-423e-d0e9-6a721cee0ef0"
   },
   "outputs": [
    {
     "name": "stdout",
     "output_type": "stream",
     "text": [
      "[[-0.0005793785487481275, -8.579090686964842e-05, -0.00025024961301224553], [0.0006557575335527239, -0.011427925627118078, -0.013555195303117308], [-0.0017153637724261713, -0.013959728072195076, -0.004815808606990628], [0.0006557575335527239, -0.011427925627118078, -0.013555195303117308], [0.0032703311956997273, -0.004096066579218379, -0.0007060353040301465], [0.006441690500570914, 0.06523343967286886, -0.03502441605541916], [0.0015649344043531627, -0.0040244140291808336, -0.001987330984843237], [0.001103858461305613, -0.005071807225905355, -0.0012112478358038304], [0.00982837424895283, 0.018357039820807143, -0.02040030153555238], [0.07714175957367177, -0.04070357319306647, -0.020305032075613644], [0.003217585915312397, -0.004519160610853781, -0.0006421999791817322], [-0.2554418978553659, -0.2033194585043267, -0.5662313646298162], [0.0032647350930227934, -0.004492101657720026, -0.0006333697127320518], [0.0032703311956997273, -0.004096066579218379, -0.0007060353040301465], [0.002513074793705885, -0.003454544940510688, -0.0012974972346286033], [0.00595827673078725, -0.008326492260602503, -0.0011967685670084295], [0.005958237511650644, 0.023810810943674352, -0.026456818485290717], [-0.021633112918195047, 0.7730608842957194, -0.22511437449522703], [0.14566521327184828, 0.1739601312365101, -0.09290695422956335], [0.006675673261082977, -0.01381905206616403, -0.004573137905700784], [0.05738243321977202, -0.013635589640207202, -0.051266406646718964], [0.011928112533531692, 0.03263469412267026, -0.022098245638757726], [0.14566521327184828, 0.1739601312365101, -0.09290695422956335], [-0.021633112918195047, 0.7730608842957194, -0.22511437449522703], [0.10384514653752888, 0.117338542788502, -0.26595713991856434], [0.18236147888177479, -0.09740754050792542, -0.06679850839868193], [0.21557102505430675, 0.04488214002205722, -0.23700911583001213], [-0.07851085469597313, 0.0666525121522583, -0.05471774164714155], [-0.19524007055465495, 0.04632485531111398, -0.04243269478293947], [0.004955717334435935, -0.016971371391569186, -0.002951694657167169]]\n"
     ]
    }
   ],
   "source": [
    "import numpy as np\n",
    "import matplotlib.pyplot as plt\n",
    "import matplotlib as mpl\n",
    "import glob\n",
    "import nolds\n",
    "\n",
    "\n",
    "dictionary_file = open('/content/drive/My Drive/ProjectSygma/dictionaries/russian_dictionary.txt', 'r')\n",
    "dictionary = []\n",
    "for line in dictionary_file:\n",
    "    dictionary.append(line[:-1])\n",
    "\n",
    "x_max_file = open('/content/drive/My Drive/ProjectSygma/tables/x_max.txt', 'r')\n",
    "x_max = []\n",
    "y_max = []\n",
    "for line in x_max_file:\n",
    "    x_max.append(list(map(float, line.split())))\n",
    "y_max_file = open('/content/drive/My Drive/ProjectSygma/tables/y_max.txt', 'r')\n",
    "for line in y_max_file:\n",
    "    y_max.append(list(map(float, line.split())))\n",
    "\n",
    "words_file = open('/content/drive/My Drive/ProjectSygma/texts/test_rus_1/war_and_piece_ru_pre.txt', 'r')\n",
    "words = []\n",
    "for line in words_file:\n",
    "    if (line[-2] != '?'):\n",
    "        words.append(line[:-1])\n",
    "words_file.close()\n",
    "\n",
    "table_file = open('/content/drive/My Drive/ProjectSygma/tables/rus_vt_tr3.txt', 'r')\n",
    "table = []\n",
    "for line in table_file:\n",
    "    table.append(list(map(float, line[:-2].split())))\n",
    "text_serie = text_to_series(words, dictionary, table)\n",
    "print(text_serie[:30])\n",
    "#print(entropy_measure(text_serie, 3), mpr_complexity(text_serie, 3))\n",
    "#print(entropy_measure(text_serie, 4), mpr_complexity(text_serie, 4))\n",
    "#print(nolds.lyap_r(text_serie[:20000], fit='poly'))\n",
    "#print(lyap_r(text_serie))"
   ]
  },
  {
   "cell_type": "code",
   "execution_count": null,
   "metadata": {
    "colab": {
     "base_uri": "https://localhost:8080/",
     "height": 68
    },
    "executionInfo": {
     "elapsed": 660994,
     "status": "ok",
     "timestamp": 1591630832229,
     "user": {
      "displayName": "Stanislav Diner",
      "photoUrl": "",
      "userId": "16383404849228830602"
     },
     "user_tz": -180
    },
    "id": "oc7jDmcfhmUW",
    "outputId": "0b388c2e-5e96-4c97-dbfe-fa5cf59a23de"
   },
   "outputs": [
    {
     "name": "stdout",
     "output_type": "stream",
     "text": [
      "/content/drive/My Drive/ProjectSygma/texts/test_rus/rt.txt\n",
      "9 2 0.8629059852398318 0.22404959991676207 0.613534826853755 0.46297076631778206 0.4839389789094695\n",
      "10 2 0.8401713726946131 0.2602126048684341 0.5299278521783608 0.5108380833350834 0.5093837232525753\n"
     ]
    }
   ],
   "source": [
    "import numpy as np\n",
    "import matplotlib.pyplot as plt\n",
    "import matplotlib as mpl\n",
    "import glob\n",
    "\n",
    "\n",
    "dictionary_file = open('/content/drive/My Drive/ProjectSygma/dictionaries/russian_dictionary.txt', 'r')\n",
    "dictionary = []\n",
    "for line in dictionary_file:\n",
    "    dictionary.append(line[:-1])\n",
    "\n",
    "x_max_file = open('/content/drive/My Drive/ProjectSygma/tables/x_max.txt', 'r')\n",
    "x_max = []\n",
    "y_max = []\n",
    "for line in x_max_file:\n",
    "    x_max.append(list(map(float, line.split())))\n",
    "y_max_file = open('/content/drive/My Drive/ProjectSygma/tables/y_max.txt', 'r')\n",
    "for line in y_max_file:\n",
    "    y_max.append(list(map(float, line.split())))\n",
    "\n",
    "l = 0\n",
    "a = [[0] * 4 for i in range(8)]\n",
    "file_list = glob.glob('/content/drive/My Drive/ProjectSygma/texts/test_rus/*')\n",
    "for file_path in file_list:\n",
    "    print(file_path)\n",
    "    acc_val = open('/content/drive/My Drive/ProjectSygma/tables/acc_val_1.txt', 'r')\n",
    "    words_file = open(file_path, 'r')\n",
    "    words = []\n",
    "    for line in words_file:\n",
    "        if (line[-2] != '?'):\n",
    "            words.append(line[:-1])\n",
    "    words_file.close()\n",
    "    table = []\n",
    "    for line_1 in acc_val:\n",
    "        values = line_1[:-1].split()\n",
    "        if len(values) == 2:\n",
    "            values.append('2')\n",
    "        i = int(values[0])\n",
    "        table_file = open('/content/drive/My Drive/ProjectSygma/tables/rus_vt_tr' + str(i) + '.txt', 'r')\n",
    "        table = []\n",
    "        for line in table_file:\n",
    "            table.append(list(map(float, line[:-2].split())))\n",
    "        text_serie = text_to_series(words, dictionary, table)\n",
    "        for j in range (int(values[1]), int(values[2]) + 1):\n",
    "            if i == 1:\n",
    "                x_val = entropy_measure(text_serie, d=j)\n",
    "                if x_val > x_max[j][i]:\n",
    "                    x_val_1 = (x_val - x_max[j][i]) / (1 - x_max[j][i])\n",
    "                else:\n",
    "                    x_val_1 = (x_val - x_max[j][i]) / (x_max[j][i])\n",
    "                print(i, j, x_val, mpr_complexity(text_serie, d=j), x_val_1, mpr_complexity(text_serie, d=j) / y_max[j][i], y_max[j][i])\n",
    "            else:\n",
    "                x_val = entropy_measure_m(text_serie, d=j, v=i)\n",
    "                if x_val > x_max[j][i]:\n",
    "                    x_val_1 = (x_val - x_max[j][i]) / (1 - x_max[j][i])\n",
    "                else:\n",
    "                    x_val_1 = (x_val - x_max[j][i]) / (x_max[j][i])\n",
    "                print(i, j, x_val, mpr_complexity_m(text_serie, d=j, v=i), x_val_1, mpr_complexity_m(text_serie, d=j, v=i) / y_max[j][i], y_max[j][i])\n",
    "                #a[i][0] += x_val\n",
    "                #a[i][1] += mpr_complexity_m(text_serie, d=j, v=i)\n",
    "                #a[i][2] += x_val_1\n",
    "                #a[i][3] += mpr_complexity_m(text_serie, d=j, v=i) / y_max[j][i]\n",
    "    acc_val.close()\n",
    "dictionary_file.close()"
   ]
  },
  {
   "cell_type": "code",
   "execution_count": null,
   "metadata": {
    "colab": {
     "base_uri": "https://localhost:8080/",
     "height": 153
    },
    "executionInfo": {
     "elapsed": 680,
     "status": "ok",
     "timestamp": 1591006395733,
     "user": {
      "displayName": "Stanislav Diner",
      "photoUrl": "",
      "userId": "16383404849228830602"
     },
     "user_tz": -180
    },
    "id": "b4Tc7CHnyvdl",
    "outputId": "4ed84bde-528b-4b45-814f-8190efdfb836"
   },
   "outputs": [
    {
     "name": "stdout",
     "output_type": "stream",
     "text": [
      "[0.0, 0.0, 0.0, 0.0]\n",
      "[0.0, 0.0, 0.0, 0.0]\n",
      "[0.8266282054194761, 0.5997974986439755, 0.31001193331198573, 0.9044773267724747]\n",
      "[0.0, 0.0, 0.0, 0.0]\n",
      "[0.8002267984600776, 0.5937941732995279, 0.2160668074907212, 0.9058838992605116]\n",
      "[0.0, 0.0, 0.0, 0.0]\n",
      "[0.797760275867537, 0.49141857111318926, 0.2776520400217314, 0.7966642313080222]\n",
      "[0.7447564918118974, 0.5939898562273549, 0.015199927605083086, 0.9103900093138606]\n"
     ]
    }
   ],
   "source": [
    "for i in a:\n",
    "    print(i)"
   ]
  },
  {
   "cell_type": "code",
   "execution_count": null,
   "metadata": {
    "id": "vre7UIiGGI5H"
   },
   "outputs": [],
   "source": [
    "import math\n",
    "\n",
    "def get_split_index_m(A):\n",
    "    i = len(A) - 1\n",
    "    while i > 0:\n",
    "        if A[i] < A[i - 1]:\n",
    "            i -= 1\n",
    "        else:\n",
    "            break\n",
    "    return i - 1\n",
    "\n",
    "\n",
    "def get_change_index_m(A, i):\n",
    "    j = len(A) - 1\n",
    "    while j >= i:\n",
    "        if A[j] > A[i]:\n",
    "            break\n",
    "        else:\n",
    "            j -= 1\n",
    "    return j\n",
    "\n",
    "\n",
    "def swap_m(A, i, j):\n",
    "    A[i], A[j] = (A[j], A[i])\n",
    "\n",
    "\n",
    "# reverse A[start:]\n",
    "def reverse_m(A, start):\n",
    "    left = start\n",
    "    right = len(A) - 1\n",
    "    while left < right:\n",
    "        swap_m(A, left, right)\n",
    "        left += 1\n",
    "        right -= 1\n",
    "\n",
    "\n",
    "def next_permutation_m(A, v):\n",
    "    i = v - 1\n",
    "    while i >= 0:\n",
    "        split_index = get_split_index_m(A[i])\n",
    "        # the Array is sorted in descreased order\n",
    "        if split_index == -1:\n",
    "            reverse_m(A[i], 0)\n",
    "            i -= 1\n",
    "        else:\n",
    "            change_index = get_change_index_m(A[i], split_index)\n",
    "            swap_m(A[i], split_index, change_index)\n",
    "            reverse_m(A[i], split_index + 1)\n",
    "            break\n",
    "\n",
    "\n",
    "def factorial_m(n):\n",
    "    ans = 1\n",
    "    for i in range(2, n + 1):\n",
    "        ans *= i\n",
    "    return ans\n",
    "\n",
    "\n",
    "def permutations_m(d, v):\n",
    "    a = []\n",
    "    for i in range(v):\n",
    "        a.append([])\n",
    "        for j in range(d):\n",
    "            a[-1].append(j + 1)\n",
    "    perm = dict()\n",
    "    perm[str(a)] = 0\n",
    "    for j in range(factorial_m(d) ** v - 1):\n",
    "        next_permutation_m(a, v)\n",
    "        perm[str(a)] = j + 1\n",
    "    return perm\n",
    "\n",
    "\n",
    "def s_max_alt(n):\n",
    "    return math.log(n)\n",
    "\n",
    "\n",
    "def s_max_list_alt(n):\n",
    "    return [1 / n] * n\n",
    "\n",
    "\n",
    "def p_m(arr, d, v):\n",
    "    pr = [0] * (factorial_m(d) ** v)\n",
    "    permutation_dict = permutations_m(d, v)\n",
    "    for i in range(d - 1, len(arr)):\n",
    "        full_curr_perm = []\n",
    "        for l in range(v):\n",
    "            curr = []\n",
    "            for j in range(i - d + 1, i + 1):\n",
    "                curr.append([arr[j][l], len(curr) + 1])\n",
    "            curr.sort()\n",
    "            curr_perm = []\n",
    "            for k in curr:\n",
    "                curr_perm.append(k[1])\n",
    "            full_curr_perm.append(curr_perm)\n",
    "        pr[permutation_dict[str(full_curr_perm)]] += 1\n",
    "    for i in range(len(pr)):\n",
    "        pr[i] /= len(arr) - d + 1\n",
    "    return pr\n",
    "\n",
    "\n",
    "def s_alt(pr):\n",
    "    entropy = 0\n",
    "    for i in range(len(pr)):\n",
    "        if pr[i] != 0:\n",
    "            entropy -= pr[i] * math.log(pr[i])\n",
    "    return entropy\n",
    "\n",
    "def q_0_calculation_alt(n):\n",
    "    pr = [0] * n\n",
    "    pr[0] = 1\n",
    "    b = s_max_list_alt(n)\n",
    "    b = [pr + b for pr, b in zip(pr, b)]\n",
    "    b = [i * 0.5 for i in b]\n",
    "    return 1 / (s_alt(b) - s_alt(pr) / 2 - s_max_alt(n) / 2)\n",
    "\n",
    "def q_j_alt(pr):\n",
    "    b = s_max_list_alt(len(pr))\n",
    "    b = [pr + b for pr, b in zip(pr, b)]\n",
    "    b = [i * 0.5 for i in b]\n",
    "    return q_0_calculation_alt(n) * (s_alt(b) - s_alt(pr) / 2 - s_max_alt(len(pr)) / 2)\n",
    "\n",
    "def entropy_measure_alt(prob):\n",
    "    return s_alt(prob)/s_max_alt(len(prob))\n",
    "\n",
    "def mpr_complexity_alt(prob):\n",
    "    return q_j_alt(prob) * entropy_measure_alt(prob)"
   ]
  },
  {
   "cell_type": "code",
   "execution_count": null,
   "metadata": {
    "colab": {
     "base_uri": "https://localhost:8080/",
     "height": 102
    },
    "executionInfo": {
     "elapsed": 137180,
     "status": "ok",
     "timestamp": 1592238290460,
     "user": {
      "displayName": "Stanislav Diner",
      "photoUrl": "",
      "userId": "16383404849228830602"
     },
     "user_tz": -180
    },
    "id": "djPbwpkI2wyH",
    "outputId": "114e9257-903b-4a8f-8b77-b35929e8102f"
   },
   "outputs": [
    {
     "name": "stdout",
     "output_type": "stream",
     "text": [
      "/content/drive/My Drive/ProjectSygma/texts/test_rus/rt.txt\n",
      "4 4 4\n",
      "\n",
      "7 3 3\n",
      "\n"
     ]
    }
   ],
   "source": [
    "import numpy as np\n",
    "import matplotlib.pyplot as plt\n",
    "import matplotlib as mpl\n",
    "import glob\n",
    "\n",
    "\n",
    "dictionary_file = open('/content/drive/My Drive/ProjectSygma/dictionaries/russian_dictionary.txt', 'r')\n",
    "dictionary = []\n",
    "for line in dictionary_file:\n",
    "    dictionary.append(line[:-1])\n",
    "\n",
    "file_list = glob.glob('/content/drive/My Drive/ProjectSygma/texts/test_rus/*')\n",
    "for file_path in file_list:\n",
    "    print(file_path)\n",
    "    acc_val = open('/content/drive/My Drive/ProjectSygma/tables/acc_val_2.txt', 'r')\n",
    "    words_file = open(file_path, 'r')\n",
    "    words = []\n",
    "    for line in words_file:\n",
    "        if (line[-2] != '?'):\n",
    "            words.append(line[:-1])\n",
    "    words_file.close()\n",
    "    table = []\n",
    "    for line_1 in acc_val:\n",
    "        print(line_1)\n",
    "        values = line_1[:-1].split()\n",
    "        if len(values) == 2:\n",
    "            values.append('3')\n",
    "        i = int(values[0])\n",
    "        j = int(values[1])\n",
    "        table_file = open('/content/drive/My Drive/ProjectSygma/tables/rus_vt_tr' + str(i) + '.txt', 'r')\n",
    "        table = []\n",
    "        for line in table_file:\n",
    "            table.append(list(map(float, line[:-2].split())))\n",
    "        text_serie = text_to_series(words, dictionary, table)\n",
    "        if j == 3:\n",
    "            p3 = p_m(text_serie, j, i)\n",
    "        else:\n",
    "            p4 = p_m(text_serie, j, i)\n"
   ]
  },
  {
   "cell_type": "code",
   "execution_count": null,
   "metadata": {
    "colab": {
     "base_uri": "https://localhost:8080/",
     "height": 51
    },
    "executionInfo": {
     "elapsed": 1075,
     "status": "ok",
     "timestamp": 1592238959860,
     "user": {
      "displayName": "Stanislav Diner",
      "photoUrl": "",
      "userId": "16383404849228830602"
     },
     "user_tz": -180
    },
    "id": "sW7R-IFtHKuw",
    "outputId": "6a63b8d6-c12e-4315-822c-31fba1c5bc7a"
   },
   "outputs": [
    {
     "name": "stdout",
     "output_type": "stream",
     "text": [
      "152705 279936 0.5454996856424326\n",
      "0.5834418402777778\n"
     ]
    }
   ],
   "source": [
    "counter = 0\n",
    "counter1 = 0\n",
    "p3.sort()\n",
    "p3.reverse()\n",
    "p4.sort()\n",
    "p4.reverse()\n",
    "for i in p3:\n",
    "    if i > 0:\n",
    "        counter += 1\n",
    "    counter1 += 1\n",
    "print(counter, counter1, counter/ counter1)\n",
    "counter = 0\n",
    "counter1 = 0\n",
    "for i in p4:\n",
    "    if i > 0:\n",
    "        counter += 1\n",
    "    counter1 += 1\n",
    "print(counter/counter1)\n",
    "\n",
    "#p32 = p3[:10000]\n",
    "#a = [i for i, _ in enumerate(p32)]\n",
    "#plt.bar(a, p32)\n",
    "#plt.show()"
   ]
  },
  {
   "cell_type": "code",
   "execution_count": null,
   "metadata": {
    "colab": {
     "base_uri": "https://localhost:8080/",
     "height": 68
    },
    "executionInfo": {
     "elapsed": 899,
     "status": "ok",
     "timestamp": 1591893731790,
     "user": {
      "displayName": "Stanislav Diner",
      "photoUrl": "",
      "userId": "16383404849228830602"
     },
     "user_tz": -180
    },
    "id": "2hXJE9CxNufN",
    "outputId": "babe7409-de56-4012-9c51-c250233ab7de"
   },
   "outputs": [
    {
     "name": "stdout",
     "output_type": "stream",
     "text": [
      "0.4635901487070328\n",
      "0.24238641864129273\n",
      "0.2940234326513129\n"
     ]
    }
   ],
   "source": [
    "sum1 = 0\n",
    "for i in range (2000):\n",
    "    sum1 += p3[i]\n",
    "print(sum1)\n",
    "\n",
    "sum2 = 0\n",
    "for i in range (10000, len(p3)):\n",
    "    sum2 += p3[i]\n",
    "print(sum2)\n",
    "\n",
    "sum3 = 0\n",
    "for i in range (2000, 10000):\n",
    "    sum3 += p3[i]\n",
    "print(sum3)"
   ]
  },
  {
   "cell_type": "code",
   "execution_count": null,
   "metadata": {
    "colab": {
     "base_uri": "https://localhost:8080/",
     "height": 102
    },
    "executionInfo": {
     "elapsed": 12499,
     "status": "ok",
     "timestamp": 1592238302974,
     "user": {
      "displayName": "Stanislav Diner",
      "photoUrl": "",
      "userId": "16383404849228830602"
     },
     "user_tz": -180
    },
    "id": "ceLwZ_QACc17",
    "outputId": "2a58eb7b-912e-49e1-e3a9-c7fdae6c9c31"
   },
   "outputs": [
    {
     "name": "stdout",
     "output_type": "stream",
     "text": [
      "/content/drive/My Drive/ProjectSygma/texts/test_rus_1/war_and_piece_ru_pre.txt\n",
      "4 4 4\n",
      "\n",
      "7 3 3\n",
      "\n"
     ]
    }
   ],
   "source": [
    "import numpy as np\n",
    "import matplotlib.pyplot as plt\n",
    "import matplotlib as mpl\n",
    "import glob\n",
    "\n",
    "\n",
    "dictionary_file = open('/content/drive/My Drive/ProjectSygma/dictionaries/russian_dictionary.txt', 'r')\n",
    "dictionary = []\n",
    "for line in dictionary_file:\n",
    "    dictionary.append(line[:-1])\n",
    "\n",
    "file_list = glob.glob('/content/drive/My Drive/ProjectSygma/texts/test_rus_1/*')\n",
    "for file_path in file_list:\n",
    "    print(file_path)\n",
    "    acc_val = open('/content/drive/My Drive/ProjectSygma/tables/acc_val_2.txt', 'r')\n",
    "    words_file = open(file_path, 'r')\n",
    "    words = []\n",
    "    for line in words_file:\n",
    "        if (line[-2] != '?'):\n",
    "            words.append(line[:-1])\n",
    "    words_file.close()\n",
    "    table = []\n",
    "    for line_1 in acc_val:\n",
    "        print(line_1)\n",
    "        values = line_1[:-1].split()\n",
    "        if len(values) == 2:\n",
    "            values.append('3')\n",
    "        i = int(values[0])\n",
    "        j = int(values[1])\n",
    "        table_file = open('/content/drive/My Drive/ProjectSygma/tables/rus_vt_tr' + str(i) + '.txt', 'r')\n",
    "        table = []\n",
    "        for line in table_file:\n",
    "            table.append(list(map(float, line[:-2].split())))\n",
    "        text_serie = text_to_series(words, dictionary, table)\n",
    "        if j == 3:\n",
    "            p3_1 = p_m(text_serie, j, i)\n",
    "        else:\n",
    "            p4_1 = p_m(text_serie, j, i)"
   ]
  },
  {
   "cell_type": "code",
   "execution_count": null,
   "metadata": {
    "colab": {
     "base_uri": "https://localhost:8080/",
     "height": 51
    },
    "executionInfo": {
     "elapsed": 1092,
     "status": "ok",
     "timestamp": 1592238972074,
     "user": {
      "displayName": "Stanislav Diner",
      "photoUrl": "",
      "userId": "16383404849228830602"
     },
     "user_tz": -180
    },
    "id": "YRfvo3EDjWmn",
    "outputId": "ac74a043-202a-463e-a0b1-4019765731f6"
   },
   "outputs": [
    {
     "name": "stdout",
     "output_type": "stream",
     "text": [
      "0.13942829789666208\n",
      "0.5834418402777778\n"
     ]
    }
   ],
   "source": [
    "counter = 0\n",
    "counter1 = 0\n",
    "p3_1.sort()\n",
    "p3_1.reverse()\n",
    "p4_1.sort()\n",
    "p4_1.reverse()\n",
    "for i in p3_1:\n",
    "    if i > 0:\n",
    "        counter += 1\n",
    "    counter1 += 1\n",
    "print(counter/counter1)\n",
    "counter = 0\n",
    "counter1 = 0\n",
    "for i in p4:\n",
    "    if i > 0:\n",
    "        counter += 1\n",
    "    counter1 += 1\n",
    "print(counter/counter1)"
   ]
  },
  {
   "cell_type": "code",
   "execution_count": null,
   "metadata": {
    "colab": {
     "base_uri": "https://localhost:8080/",
     "height": 122
    },
    "executionInfo": {
     "elapsed": 6312,
     "status": "ok",
     "timestamp": 1591902637005,
     "user": {
      "displayName": "Stanislav Diner",
      "photoUrl": "",
      "userId": "16383404849228830602"
     },
     "user_tz": -180
    },
    "id": "ROR2_T4SjXNq",
    "outputId": "8f447c19-782d-40e0-e916-4e77a0a2674e"
   },
   "outputs": [
    {
     "name": "stdout",
     "output_type": "stream",
     "text": [
      "/content/drive/My Drive/ProjectSygma/texts/test_eng/war_and_piece_en_maude_pre.txt\n",
      "[1, 4]\n",
      "[0.03768696359665233, 0.0369266680095264, 0.04388584112389461, 0.04243041814282498, 0.044719204079133934, 0.04612723201061649, 0.04307617569344882, 0.04308012528091441, 0.039851337527795225, 0.040777515788475896, 0.04618055144140194, 0.046771014767507536, 0.04404382462251818, 0.04549332322238942, 0.04239092226816909, 0.04233957763111643, 0.03931419363247509, 0.03908511755947092, 0.0420591569210596, 0.04051486822201421, 0.04032133843620034, 0.03892318447338176, 0.03717351722612573, 0.03682792832288667] 4\n",
      "[1, 3]\n",
      "[0.16139167389110615, 0.1729580179429404, 0.17265982467815863, 0.16632272410408722, 0.16602453083930543, 0.16064322854440216] 3\n"
     ]
    }
   ],
   "source": [
    "import numpy as np\n",
    "import matplotlib.pyplot as plt\n",
    "import matplotlib as mpl\n",
    "import glob\n",
    "\n",
    "\n",
    "dictionary_file = open('/content/drive/My Drive/ProjectSygma/dictionaries/english_dictionary.txt', 'r')\n",
    "dictionary = []\n",
    "for line in dictionary_file:\n",
    "    dictionary.append(line[:-1])\n",
    "\n",
    "file_list = glob.glob('/content/drive/My Drive/ProjectSygma/texts/test_eng/*')\n",
    "for file_path in file_list:\n",
    "    print(file_path)\n",
    "    acc_val = open('/content/drive/My Drive/ProjectSygma/tables/acc_val_3.txt', 'r')\n",
    "    words_file = open(file_path, 'r')\n",
    "    words = []\n",
    "    for line in words_file:\n",
    "        if (line[-2] != '?'):\n",
    "            words.append(line[:-1])\n",
    "    words_file.close()\n",
    "    table = []\n",
    "    acc_val = [[1, 4], [1, 3]]\n",
    "    for line_1 in acc_val:\n",
    "        print(line_1)\n",
    "        #values = line_1[:-1].split()\n",
    "        values = line_1\n",
    "        if len(values) == 2:\n",
    "            values.append('3')\n",
    "        i = int(values[0])\n",
    "        j = int(values[1])\n",
    "        table_file = open('/content/drive/My Drive/ProjectSygma/tables/eng_vt_tr' + str(i) + '.txt', 'r')\n",
    "        table = []\n",
    "        for line in table_file:\n",
    "            table.append(list(map(float, line[:-2].split())))\n",
    "        text_serie = text_to_series(words, dictionary, table)\n",
    "        if j == 3:\n",
    "            print(pi(text_serie, j), j)\n",
    "            #p3_1_eng = p_m(text_serie, j, i)\n",
    "        else:\n",
    "            print(pi(text_serie, j), j)\n",
    "            #p4_1_eng = p_m(text_serie, j, i)"
   ]
  },
  {
   "cell_type": "code",
   "execution_count": null,
   "metadata": {
    "id": "8FGfCKW3FAfx"
   },
   "outputs": [],
   "source": [
    "import random\n",
    "\n",
    "table_file = open('/content/drive/My Drive/ProjectSygma/tables/rus_vt_tr4.txt', 'r')\n",
    "table = []\n",
    "for line in table_file:\n",
    "    table.append(list(map(float, line[:-2].split())))\n",
    "rand_list = []\n",
    "for i in range(300000):\n",
    "    rand_list.append(table[random.randint(0, len(table) - 1)])\n",
    "pro_dis = p_m(rand_list, 3, 7)"
   ]
  },
  {
   "cell_type": "code",
   "execution_count": null,
   "metadata": {
    "colab": {
     "base_uri": "https://localhost:8080/",
     "height": 265
    },
    "executionInfo": {
     "elapsed": 17612,
     "status": "ok",
     "timestamp": 1591909417123,
     "user": {
      "displayName": "Stanislav Diner",
      "photoUrl": "",
      "userId": "16383404849228830602"
     },
     "user_tz": -180
    },
    "id": "kxbL9jtCHVOC",
    "outputId": "afc4b249-e748-40f8-f095-c775931e16e5"
   },
   "outputs": [
    {
     "data": {
      "image/png": "[encoded data removed]",
      "text/plain": [
       "<Figure size 432x288 with 1 Axes>"
      ]
     },
     "metadata": {
      "needs_background": "light",
      "tags": []
     },
     "output_type": "display_data"
    }
   ],
   "source": [
    "pro_dis.sort()\n",
    "pro_dis.reverse()\n",
    "\n",
    "a = [i for i, _ in enumerate(pro_dis[:10000])]\n",
    "plt.bar(a, pro_dis[:10000])\n",
    "plt.show()"
   ]
  },
  {
   "cell_type": "code",
   "execution_count": null,
   "metadata": {
    "colab": {
     "base_uri": "https://localhost:8080/",
     "height": 34
    },
    "executionInfo": {
     "elapsed": 14926,
     "status": "ok",
     "timestamp": 1593267879584,
     "user": {
      "displayName": "Stanislav Diner",
      "photoUrl": "",
      "userId": "16383404849228830602"
     },
     "user_tz": -180
    },
    "id": "26rt0Ql9Izpw",
    "outputId": "dfa2a239-da7e-4450-f899-f11d0be4d611"
   },
   "outputs": [
    {
     "name": "stdout",
     "output_type": "stream",
     "text": [
      "0.8554348677141174 0.49851167964935833\n"
     ]
    }
   ],
   "source": [
    "print(entropy_measure_m(rand_list, 4, 4), mpr_complexity_m(rand_list, 4, 4))"
   ]
  },
  {
   "cell_type": "code",
   "execution_count": null,
   "metadata": {
    "colab": {
     "base_uri": "https://localhost:8080/",
     "height": 694
    },
    "executionInfo": {
     "elapsed": 15496,
     "status": "error",
     "timestamp": 1591899459405,
     "user": {
      "displayName": "Stanislav Diner",
      "photoUrl": "",
      "userId": "16383404849228830602"
     },
     "user_tz": -180
    },
    "id": "iqgR7vov6Ea6",
    "outputId": "c0b30a1e-4a08-4d75-a444-494992687c17"
   },
   "outputs": [
    {
     "name": "stdout",
     "output_type": "stream",
     "text": [
      "0.051390317786922726\n",
      "0.19222965249199817\n",
      "0.13942829789666208 279936 279936\n",
      "0.0\n"
     ]
    },
    {
     "ename": "KeyboardInterrupt",
     "evalue": "ignored",
     "output_type": "error",
     "traceback": [
      "\u001b[0;31m---------------------------------------------------------------------------\u001b[0m",
      "\u001b[0;31mKeyboardInterrupt\u001b[0m                         Traceback (most recent call last)",
      "\u001b[0;32m<ipython-input-80-4e7d6e83179c>\u001b[0m in \u001b[0;36m<module>\u001b[0;34m()\u001b[0m\n\u001b[1;32m     42\u001b[0m \u001b[0mp3_2\u001b[0m \u001b[0;34m=\u001b[0m \u001b[0mp3_1_eng\u001b[0m\u001b[0;34m[\u001b[0m\u001b[0;34m:\u001b[0m\u001b[0;36m10000\u001b[0m\u001b[0;34m]\u001b[0m\u001b[0;34m\u001b[0m\u001b[0;34m\u001b[0m\u001b[0m\n\u001b[1;32m     43\u001b[0m \u001b[0ma\u001b[0m \u001b[0;34m=\u001b[0m \u001b[0;34m[\u001b[0m\u001b[0mi\u001b[0m \u001b[0;32mfor\u001b[0m \u001b[0mi\u001b[0m\u001b[0;34m,\u001b[0m \u001b[0m_\u001b[0m \u001b[0;32min\u001b[0m \u001b[0menumerate\u001b[0m\u001b[0;34m(\u001b[0m\u001b[0mp3_2\u001b[0m\u001b[0;34m)\u001b[0m\u001b[0;34m]\u001b[0m\u001b[0;34m\u001b[0m\u001b[0;34m\u001b[0m\u001b[0m\n\u001b[0;32m---> 44\u001b[0;31m \u001b[0mplt\u001b[0m\u001b[0;34m.\u001b[0m\u001b[0mbar\u001b[0m\u001b[0;34m(\u001b[0m\u001b[0ma\u001b[0m\u001b[0;34m,\u001b[0m \u001b[0mp3_2\u001b[0m\u001b[0;34m)\u001b[0m\u001b[0;34m\u001b[0m\u001b[0;34m\u001b[0m\u001b[0m\n\u001b[0m\u001b[1;32m     45\u001b[0m \u001b[0mplt\u001b[0m\u001b[0;34m.\u001b[0m\u001b[0mshow\u001b[0m\u001b[0;34m(\u001b[0m\u001b[0;34m)\u001b[0m\u001b[0;34m\u001b[0m\u001b[0;34m\u001b[0m\u001b[0m\n\u001b[1;32m     46\u001b[0m \u001b[0mp3_2\u001b[0m \u001b[0;34m=\u001b[0m \u001b[0mp3_1\u001b[0m\u001b[0;34m[\u001b[0m\u001b[0;34m:\u001b[0m\u001b[0;36m10000\u001b[0m\u001b[0;34m]\u001b[0m\u001b[0;34m\u001b[0m\u001b[0;34m\u001b[0m\u001b[0m\n",
      "\u001b[0;32m/usr/local/lib/python3.6/dist-packages/matplotlib/pyplot.py\u001b[0m in \u001b[0;36mbar\u001b[0;34m(x, height, width, bottom, align, data, **kwargs)\u001b[0m\n\u001b[1;32m   2407\u001b[0m     return gca().bar(\n\u001b[1;32m   2408\u001b[0m         \u001b[0mx\u001b[0m\u001b[0;34m,\u001b[0m \u001b[0mheight\u001b[0m\u001b[0;34m,\u001b[0m \u001b[0mwidth\u001b[0m\u001b[0;34m=\u001b[0m\u001b[0mwidth\u001b[0m\u001b[0;34m,\u001b[0m \u001b[0mbottom\u001b[0m\u001b[0;34m=\u001b[0m\u001b[0mbottom\u001b[0m\u001b[0;34m,\u001b[0m \u001b[0malign\u001b[0m\u001b[0;34m=\u001b[0m\u001b[0malign\u001b[0m\u001b[0;34m,\u001b[0m\u001b[0;34m\u001b[0m\u001b[0;34m\u001b[0m\u001b[0m\n\u001b[0;32m-> 2409\u001b[0;31m         **({\"data\": data} if data is not None else {}), **kwargs)\n\u001b[0m\u001b[1;32m   2410\u001b[0m \u001b[0;34m\u001b[0m\u001b[0m\n\u001b[1;32m   2411\u001b[0m \u001b[0;34m\u001b[0m\u001b[0m\n",
      "\u001b[0;32m/usr/local/lib/python3.6/dist-packages/matplotlib/__init__.py\u001b[0m in \u001b[0;36minner\u001b[0;34m(ax, data, *args, **kwargs)\u001b[0m\n\u001b[1;32m   1563\u001b[0m     \u001b[0;32mdef\u001b[0m \u001b[0minner\u001b[0m\u001b[0;34m(\u001b[0m\u001b[0max\u001b[0m\u001b[0;34m,\u001b[0m \u001b[0;34m*\u001b[0m\u001b[0margs\u001b[0m\u001b[0;34m,\u001b[0m \u001b[0mdata\u001b[0m\u001b[0;34m=\u001b[0m\u001b[0;32mNone\u001b[0m\u001b[0;34m,\u001b[0m \u001b[0;34m**\u001b[0m\u001b[0mkwargs\u001b[0m\u001b[0;34m)\u001b[0m\u001b[0;34m:\u001b[0m\u001b[0;34m\u001b[0m\u001b[0;34m\u001b[0m\u001b[0m\n\u001b[1;32m   1564\u001b[0m         \u001b[0;32mif\u001b[0m \u001b[0mdata\u001b[0m \u001b[0;32mis\u001b[0m \u001b[0;32mNone\u001b[0m\u001b[0;34m:\u001b[0m\u001b[0;34m\u001b[0m\u001b[0;34m\u001b[0m\u001b[0m\n\u001b[0;32m-> 1565\u001b[0;31m             \u001b[0;32mreturn\u001b[0m \u001b[0mfunc\u001b[0m\u001b[0;34m(\u001b[0m\u001b[0max\u001b[0m\u001b[0;34m,\u001b[0m \u001b[0;34m*\u001b[0m\u001b[0mmap\u001b[0m\u001b[0;34m(\u001b[0m\u001b[0msanitize_sequence\u001b[0m\u001b[0;34m,\u001b[0m \u001b[0margs\u001b[0m\u001b[0;34m)\u001b[0m\u001b[0;34m,\u001b[0m \u001b[0;34m**\u001b[0m\u001b[0mkwargs\u001b[0m\u001b[0;34m)\u001b[0m\u001b[0;34m\u001b[0m\u001b[0;34m\u001b[0m\u001b[0m\n\u001b[0m\u001b[1;32m   1566\u001b[0m \u001b[0;34m\u001b[0m\u001b[0m\n\u001b[1;32m   1567\u001b[0m         \u001b[0mbound\u001b[0m \u001b[0;34m=\u001b[0m \u001b[0mnew_sig\u001b[0m\u001b[0;34m.\u001b[0m\u001b[0mbind\u001b[0m\u001b[0;34m(\u001b[0m\u001b[0max\u001b[0m\u001b[0;34m,\u001b[0m \u001b[0;34m*\u001b[0m\u001b[0margs\u001b[0m\u001b[0;34m,\u001b[0m \u001b[0;34m**\u001b[0m\u001b[0mkwargs\u001b[0m\u001b[0;34m)\u001b[0m\u001b[0;34m\u001b[0m\u001b[0;34m\u001b[0m\u001b[0m\n",
      "\u001b[0;32m/usr/local/lib/python3.6/dist-packages/matplotlib/axes/_axes.py\u001b[0m in \u001b[0;36mbar\u001b[0;34m(self, x, height, width, bottom, align, **kwargs)\u001b[0m\n\u001b[1;32m   2401\u001b[0m             \u001b[0;32melif\u001b[0m \u001b[0morientation\u001b[0m \u001b[0;34m==\u001b[0m \u001b[0;34m'horizontal'\u001b[0m\u001b[0;34m:\u001b[0m\u001b[0;34m\u001b[0m\u001b[0;34m\u001b[0m\u001b[0m\n\u001b[1;32m   2402\u001b[0m                 \u001b[0mr\u001b[0m\u001b[0;34m.\u001b[0m\u001b[0msticky_edges\u001b[0m\u001b[0;34m.\u001b[0m\u001b[0mx\u001b[0m\u001b[0;34m.\u001b[0m\u001b[0mappend\u001b[0m\u001b[0;34m(\u001b[0m\u001b[0ml\u001b[0m\u001b[0;34m)\u001b[0m\u001b[0;34m\u001b[0m\u001b[0;34m\u001b[0m\u001b[0m\n\u001b[0;32m-> 2403\u001b[0;31m             \u001b[0mself\u001b[0m\u001b[0;34m.\u001b[0m\u001b[0madd_patch\u001b[0m\u001b[0;34m(\u001b[0m\u001b[0mr\u001b[0m\u001b[0;34m)\u001b[0m\u001b[0;34m\u001b[0m\u001b[0;34m\u001b[0m\u001b[0m\n\u001b[0m\u001b[1;32m   2404\u001b[0m             \u001b[0mpatches\u001b[0m\u001b[0;34m.\u001b[0m\u001b[0mappend\u001b[0m\u001b[0;34m(\u001b[0m\u001b[0mr\u001b[0m\u001b[0;34m)\u001b[0m\u001b[0;34m\u001b[0m\u001b[0;34m\u001b[0m\u001b[0m\n\u001b[1;32m   2405\u001b[0m \u001b[0;34m\u001b[0m\u001b[0m\n",
      "\u001b[0;32m/usr/local/lib/python3.6/dist-packages/matplotlib/axes/_base.py\u001b[0m in \u001b[0;36madd_patch\u001b[0;34m(self, p)\u001b[0m\n\u001b[1;32m   1916\u001b[0m         \u001b[0mself\u001b[0m\u001b[0;34m.\u001b[0m\u001b[0m_set_artist_props\u001b[0m\u001b[0;34m(\u001b[0m\u001b[0mp\u001b[0m\u001b[0;34m)\u001b[0m\u001b[0;34m\u001b[0m\u001b[0;34m\u001b[0m\u001b[0m\n\u001b[1;32m   1917\u001b[0m         \u001b[0;32mif\u001b[0m \u001b[0mp\u001b[0m\u001b[0;34m.\u001b[0m\u001b[0mget_clip_path\u001b[0m\u001b[0;34m(\u001b[0m\u001b[0;34m)\u001b[0m \u001b[0;32mis\u001b[0m \u001b[0;32mNone\u001b[0m\u001b[0;34m:\u001b[0m\u001b[0;34m\u001b[0m\u001b[0;34m\u001b[0m\u001b[0m\n\u001b[0;32m-> 1918\u001b[0;31m             \u001b[0mp\u001b[0m\u001b[0;34m.\u001b[0m\u001b[0mset_clip_path\u001b[0m\u001b[0;34m(\u001b[0m\u001b[0mself\u001b[0m\u001b[0;34m.\u001b[0m\u001b[0mpatch\u001b[0m\u001b[0;34m)\u001b[0m\u001b[0;34m\u001b[0m\u001b[0;34m\u001b[0m\u001b[0m\n\u001b[0m\u001b[1;32m   1919\u001b[0m         \u001b[0mself\u001b[0m\u001b[0;34m.\u001b[0m\u001b[0m_update_patch_limits\u001b[0m\u001b[0;34m(\u001b[0m\u001b[0mp\u001b[0m\u001b[0;34m)\u001b[0m\u001b[0;34m\u001b[0m\u001b[0;34m\u001b[0m\u001b[0m\n\u001b[1;32m   1920\u001b[0m         \u001b[0mself\u001b[0m\u001b[0;34m.\u001b[0m\u001b[0mpatches\u001b[0m\u001b[0;34m.\u001b[0m\u001b[0mappend\u001b[0m\u001b[0;34m(\u001b[0m\u001b[0mp\u001b[0m\u001b[0;34m)\u001b[0m\u001b[0;34m\u001b[0m\u001b[0;34m\u001b[0m\u001b[0m\n",
      "\u001b[0;32m/usr/local/lib/python3.6/dist-packages/matplotlib/artist.py\u001b[0m in \u001b[0;36mset_clip_path\u001b[0;34m(self, path, transform)\u001b[0m\n\u001b[1;32m    760\u001b[0m             \u001b[0;32mif\u001b[0m \u001b[0misinstance\u001b[0m\u001b[0;34m(\u001b[0m\u001b[0mpath\u001b[0m\u001b[0;34m,\u001b[0m \u001b[0mRectangle\u001b[0m\u001b[0;34m)\u001b[0m\u001b[0;34m:\u001b[0m\u001b[0;34m\u001b[0m\u001b[0;34m\u001b[0m\u001b[0m\n\u001b[1;32m    761\u001b[0m                 self.clipbox = TransformedBbox(Bbox.unit(),\n\u001b[0;32m--> 762\u001b[0;31m                                                path.get_transform())\n\u001b[0m\u001b[1;32m    763\u001b[0m                 \u001b[0mself\u001b[0m\u001b[0;34m.\u001b[0m\u001b[0m_clippath\u001b[0m \u001b[0;34m=\u001b[0m \u001b[0;32mNone\u001b[0m\u001b[0;34m\u001b[0m\u001b[0;34m\u001b[0m\u001b[0m\n\u001b[1;32m    764\u001b[0m                 \u001b[0msuccess\u001b[0m \u001b[0;34m=\u001b[0m \u001b[0;32mTrue\u001b[0m\u001b[0;34m\u001b[0m\u001b[0;34m\u001b[0m\u001b[0m\n",
      "\u001b[0;32m/usr/local/lib/python3.6/dist-packages/matplotlib/patches.py\u001b[0m in \u001b[0;36mget_transform\u001b[0;34m(self)\u001b[0m\n\u001b[1;32m    260\u001b[0m     \u001b[0;32mdef\u001b[0m \u001b[0mget_transform\u001b[0m\u001b[0;34m(\u001b[0m\u001b[0mself\u001b[0m\u001b[0;34m)\u001b[0m\u001b[0;34m:\u001b[0m\u001b[0;34m\u001b[0m\u001b[0;34m\u001b[0m\u001b[0m\n\u001b[1;32m    261\u001b[0m         \u001b[0;34m\"\"\"Return the `~.transforms.Transform` applied to the `Patch`.\"\"\"\u001b[0m\u001b[0;34m\u001b[0m\u001b[0;34m\u001b[0m\u001b[0m\n\u001b[0;32m--> 262\u001b[0;31m         \u001b[0;32mreturn\u001b[0m \u001b[0mself\u001b[0m\u001b[0;34m.\u001b[0m\u001b[0mget_patch_transform\u001b[0m\u001b[0;34m(\u001b[0m\u001b[0;34m)\u001b[0m \u001b[0;34m+\u001b[0m \u001b[0martist\u001b[0m\u001b[0;34m.\u001b[0m\u001b[0mArtist\u001b[0m\u001b[0;34m.\u001b[0m\u001b[0mget_transform\u001b[0m\u001b[0;34m(\u001b[0m\u001b[0mself\u001b[0m\u001b[0;34m)\u001b[0m\u001b[0;34m\u001b[0m\u001b[0;34m\u001b[0m\u001b[0m\n\u001b[0m\u001b[1;32m    263\u001b[0m \u001b[0;34m\u001b[0m\u001b[0m\n\u001b[1;32m    264\u001b[0m     \u001b[0;32mdef\u001b[0m \u001b[0mget_data_transform\u001b[0m\u001b[0;34m(\u001b[0m\u001b[0mself\u001b[0m\u001b[0;34m)\u001b[0m\u001b[0;34m:\u001b[0m\u001b[0;34m\u001b[0m\u001b[0;34m\u001b[0m\u001b[0m\n",
      "\u001b[0;32m/usr/local/lib/python3.6/dist-packages/matplotlib/patches.py\u001b[0m in \u001b[0;36mget_patch_transform\u001b[0;34m(self)\u001b[0m\n\u001b[1;32m    775\u001b[0m \u001b[0;34m\u001b[0m\u001b[0m\n\u001b[1;32m    776\u001b[0m     \u001b[0;32mdef\u001b[0m \u001b[0mget_patch_transform\u001b[0m\u001b[0;34m(\u001b[0m\u001b[0mself\u001b[0m\u001b[0;34m)\u001b[0m\u001b[0;34m:\u001b[0m\u001b[0;34m\u001b[0m\u001b[0;34m\u001b[0m\u001b[0m\n\u001b[0;32m--> 777\u001b[0;31m         \u001b[0mself\u001b[0m\u001b[0;34m.\u001b[0m\u001b[0m_update_patch_transform\u001b[0m\u001b[0;34m(\u001b[0m\u001b[0;34m)\u001b[0m\u001b[0;34m\u001b[0m\u001b[0;34m\u001b[0m\u001b[0m\n\u001b[0m\u001b[1;32m    778\u001b[0m         \u001b[0;32mreturn\u001b[0m \u001b[0mself\u001b[0m\u001b[0;34m.\u001b[0m\u001b[0m_rect_transform\u001b[0m\u001b[0;34m\u001b[0m\u001b[0;34m\u001b[0m\u001b[0m\n\u001b[1;32m    779\u001b[0m \u001b[0;34m\u001b[0m\u001b[0m\n",
      "\u001b[0;32m/usr/local/lib/python3.6/dist-packages/matplotlib/patches.py\u001b[0m in \u001b[0;36m_update_patch_transform\u001b[0;34m(self)\u001b[0m\n\u001b[1;32m    756\u001b[0m         \u001b[0mbbox\u001b[0m \u001b[0;34m=\u001b[0m \u001b[0mtransforms\u001b[0m\u001b[0;34m.\u001b[0m\u001b[0mBbox\u001b[0m\u001b[0;34m.\u001b[0m\u001b[0mfrom_extents\u001b[0m\u001b[0;34m(\u001b[0m\u001b[0mx0\u001b[0m\u001b[0;34m,\u001b[0m \u001b[0my0\u001b[0m\u001b[0;34m,\u001b[0m \u001b[0mx1\u001b[0m\u001b[0;34m,\u001b[0m \u001b[0my1\u001b[0m\u001b[0;34m)\u001b[0m\u001b[0;34m\u001b[0m\u001b[0;34m\u001b[0m\u001b[0m\n\u001b[1;32m    757\u001b[0m         \u001b[0mrot_trans\u001b[0m \u001b[0;34m=\u001b[0m \u001b[0mtransforms\u001b[0m\u001b[0;34m.\u001b[0m\u001b[0mAffine2D\u001b[0m\u001b[0;34m(\u001b[0m\u001b[0;34m)\u001b[0m\u001b[0;34m\u001b[0m\u001b[0;34m\u001b[0m\u001b[0m\n\u001b[0;32m--> 758\u001b[0;31m         \u001b[0mrot_trans\u001b[0m\u001b[0;34m.\u001b[0m\u001b[0mrotate_deg_around\u001b[0m\u001b[0;34m(\u001b[0m\u001b[0mx0\u001b[0m\u001b[0;34m,\u001b[0m \u001b[0my0\u001b[0m\u001b[0;34m,\u001b[0m \u001b[0mself\u001b[0m\u001b[0;34m.\u001b[0m\u001b[0mangle\u001b[0m\u001b[0;34m)\u001b[0m\u001b[0;34m\u001b[0m\u001b[0;34m\u001b[0m\u001b[0m\n\u001b[0m\u001b[1;32m    759\u001b[0m         \u001b[0mself\u001b[0m\u001b[0;34m.\u001b[0m\u001b[0m_rect_transform\u001b[0m \u001b[0;34m=\u001b[0m \u001b[0mtransforms\u001b[0m\u001b[0;34m.\u001b[0m\u001b[0mBboxTransformTo\u001b[0m\u001b[0;34m(\u001b[0m\u001b[0mbbox\u001b[0m\u001b[0;34m)\u001b[0m\u001b[0;34m\u001b[0m\u001b[0;34m\u001b[0m\u001b[0m\n\u001b[1;32m    760\u001b[0m         \u001b[0mself\u001b[0m\u001b[0;34m.\u001b[0m\u001b[0m_rect_transform\u001b[0m \u001b[0;34m+=\u001b[0m \u001b[0mrot_trans\u001b[0m\u001b[0;34m\u001b[0m\u001b[0;34m\u001b[0m\u001b[0m\n",
      "\u001b[0;32m/usr/local/lib/python3.6/dist-packages/matplotlib/transforms.py\u001b[0m in \u001b[0;36mrotate_deg_around\u001b[0;34m(self, x, y, degrees)\u001b[0m\n\u001b[1;32m   1968\u001b[0m         \u001b[0;31m# Cast to float to avoid wraparound issues with uint8's\u001b[0m\u001b[0;34m\u001b[0m\u001b[0;34m\u001b[0m\u001b[0;34m\u001b[0m\u001b[0m\n\u001b[1;32m   1969\u001b[0m         \u001b[0mx\u001b[0m\u001b[0;34m,\u001b[0m \u001b[0my\u001b[0m \u001b[0;34m=\u001b[0m \u001b[0mfloat\u001b[0m\u001b[0;34m(\u001b[0m\u001b[0mx\u001b[0m\u001b[0;34m)\u001b[0m\u001b[0;34m,\u001b[0m \u001b[0mfloat\u001b[0m\u001b[0;34m(\u001b[0m\u001b[0my\u001b[0m\u001b[0;34m)\u001b[0m\u001b[0;34m\u001b[0m\u001b[0;34m\u001b[0m\u001b[0m\n\u001b[0;32m-> 1970\u001b[0;31m         \u001b[0;32mreturn\u001b[0m \u001b[0mself\u001b[0m\u001b[0;34m.\u001b[0m\u001b[0mtranslate\u001b[0m\u001b[0;34m(\u001b[0m\u001b[0;34m-\u001b[0m\u001b[0mx\u001b[0m\u001b[0;34m,\u001b[0m \u001b[0;34m-\u001b[0m\u001b[0my\u001b[0m\u001b[0;34m)\u001b[0m\u001b[0;34m.\u001b[0m\u001b[0mrotate_deg\u001b[0m\u001b[0;34m(\u001b[0m\u001b[0mdegrees\u001b[0m\u001b[0;34m)\u001b[0m\u001b[0;34m.\u001b[0m\u001b[0mtranslate\u001b[0m\u001b[0;34m(\u001b[0m\u001b[0mx\u001b[0m\u001b[0;34m,\u001b[0m \u001b[0my\u001b[0m\u001b[0;34m)\u001b[0m\u001b[0;34m\u001b[0m\u001b[0;34m\u001b[0m\u001b[0m\n\u001b[0m\u001b[1;32m   1971\u001b[0m \u001b[0;34m\u001b[0m\u001b[0m\n\u001b[1;32m   1972\u001b[0m     \u001b[0;32mdef\u001b[0m \u001b[0mtranslate\u001b[0m\u001b[0;34m(\u001b[0m\u001b[0mself\u001b[0m\u001b[0;34m,\u001b[0m \u001b[0mtx\u001b[0m\u001b[0;34m,\u001b[0m \u001b[0mty\u001b[0m\u001b[0;34m)\u001b[0m\u001b[0;34m:\u001b[0m\u001b[0;34m\u001b[0m\u001b[0;34m\u001b[0m\u001b[0m\n",
      "\u001b[0;32m/usr/local/lib/python3.6/dist-packages/matplotlib/transforms.py\u001b[0m in \u001b[0;36mrotate_deg\u001b[0;34m(self, degrees)\u001b[0m\n\u001b[1;32m   1946\u001b[0m         \u001b[0;32mand\u001b[0m \u001b[0;34m:\u001b[0m\u001b[0mmeth\u001b[0m\u001b[0;34m:\u001b[0m\u001b[0;31m`\u001b[0m\u001b[0mscale\u001b[0m\u001b[0;31m`\u001b[0m\u001b[0;34m.\u001b[0m\u001b[0;34m\u001b[0m\u001b[0;34m\u001b[0m\u001b[0m\n\u001b[1;32m   1947\u001b[0m         \"\"\"\n\u001b[0;32m-> 1948\u001b[0;31m         \u001b[0;32mreturn\u001b[0m \u001b[0mself\u001b[0m\u001b[0;34m.\u001b[0m\u001b[0mrotate\u001b[0m\u001b[0;34m(\u001b[0m\u001b[0mnp\u001b[0m\u001b[0;34m.\u001b[0m\u001b[0mdeg2rad\u001b[0m\u001b[0;34m(\u001b[0m\u001b[0mdegrees\u001b[0m\u001b[0;34m)\u001b[0m\u001b[0;34m)\u001b[0m\u001b[0;34m\u001b[0m\u001b[0;34m\u001b[0m\u001b[0m\n\u001b[0m\u001b[1;32m   1949\u001b[0m \u001b[0;34m\u001b[0m\u001b[0m\n\u001b[1;32m   1950\u001b[0m     \u001b[0;32mdef\u001b[0m \u001b[0mrotate_around\u001b[0m\u001b[0;34m(\u001b[0m\u001b[0mself\u001b[0m\u001b[0;34m,\u001b[0m \u001b[0mx\u001b[0m\u001b[0;34m,\u001b[0m \u001b[0my\u001b[0m\u001b[0;34m,\u001b[0m \u001b[0mtheta\u001b[0m\u001b[0;34m)\u001b[0m\u001b[0;34m:\u001b[0m\u001b[0;34m\u001b[0m\u001b[0;34m\u001b[0m\u001b[0m\n",
      "\u001b[0;32m/usr/local/lib/python3.6/dist-packages/matplotlib/transforms.py\u001b[0m in \u001b[0;36mrotate\u001b[0;34m(self, theta)\u001b[0m\n\u001b[1;32m   1930\u001b[0m         \u001b[0;32mand\u001b[0m \u001b[0;34m:\u001b[0m\u001b[0mmeth\u001b[0m\u001b[0;34m:\u001b[0m\u001b[0;31m`\u001b[0m\u001b[0mscale\u001b[0m\u001b[0;31m`\u001b[0m\u001b[0;34m.\u001b[0m\u001b[0;34m\u001b[0m\u001b[0;34m\u001b[0m\u001b[0m\n\u001b[1;32m   1931\u001b[0m         \"\"\"\n\u001b[0;32m-> 1932\u001b[0;31m         \u001b[0ma\u001b[0m \u001b[0;34m=\u001b[0m \u001b[0mnp\u001b[0m\u001b[0;34m.\u001b[0m\u001b[0mcos\u001b[0m\u001b[0;34m(\u001b[0m\u001b[0mtheta\u001b[0m\u001b[0;34m)\u001b[0m\u001b[0;34m\u001b[0m\u001b[0;34m\u001b[0m\u001b[0m\n\u001b[0m\u001b[1;32m   1933\u001b[0m         \u001b[0mb\u001b[0m \u001b[0;34m=\u001b[0m \u001b[0mnp\u001b[0m\u001b[0;34m.\u001b[0m\u001b[0msin\u001b[0m\u001b[0;34m(\u001b[0m\u001b[0mtheta\u001b[0m\u001b[0;34m)\u001b[0m\u001b[0;34m\u001b[0m\u001b[0;34m\u001b[0m\u001b[0m\n\u001b[1;32m   1934\u001b[0m         rotate_mtx = np.array([[a, -b, 0.0], [b, a, 0.0], [0.0, 0.0, 1.0]],\n",
      "\u001b[0;31mKeyboardInterrupt\u001b[0m: "
     ]
    },
    {
     "data": {
      "image/png": "[encoded data removed]",
      "text/plain": [
       "<Figure size 432x288 with 1 Axes>"
      ]
     },
     "metadata": {
      "needs_background": "light",
      "tags": []
     },
     "output_type": "display_data"
    }
   ],
   "source": [
    "counter = 0\n",
    "counter1 = 0\n",
    "#p3_1.sort()\n",
    "#p3_1.reverse()\n",
    "#p3_1_eng.sort()\n",
    "#p3_1_eng.reverse()\n",
    "#p4_1.sort()\n",
    "#p4_1.reverse()\n",
    "#p4_1_eng.sort()\n",
    "#p4_1_eng.reverse()\n",
    "counter = 0\n",
    "counter1 = 0\n",
    "for i in range(len(p3_1)):\n",
    "    if p3_1[i] != 0 and p3_1_eng[i] != 0:\n",
    "        counter += 1\n",
    "        #print(p3_1[i], p3_1_eng[i])\n",
    "    counter1 += 1\n",
    "print(counter/counter1)\n",
    "counter = 0\n",
    "counter1 = 0\n",
    "for i in range(len(p3_1)):\n",
    "    if p3_1_eng[i] != 0:\n",
    "        counter += 1\n",
    "    counter1 += 1\n",
    "print(counter/counter1)\n",
    "counter = 0\n",
    "counter1 = 0\n",
    "for i in range(len(p3_1)):\n",
    "    if p3_1[i] != 0:\n",
    "        counter += 1\n",
    "    counter1 += 1\n",
    "print(counter/counter1, len(p3_1), len(p3_1_eng))\n",
    "counter = 0\n",
    "counter1 = 0\n",
    "for i in p4_1:\n",
    "    if i > 1:\n",
    "        counter += 1\n",
    "    counter1 += 1\n",
    "print(counter/counter1)\n",
    "\n",
    "\n",
    "p3_2 = p3_1_eng[:10000]\n",
    "a = [i for i, _ in enumerate(p3_2)]\n",
    "plt.bar(a, p3_2)\n",
    "plt.show()\n",
    "p3_2 = p3_1[:10000]\n",
    "a = [i for i, _ in enumerate(p3_2)]\n",
    "plt.bar(a, p3_2)\n",
    "plt.show()"
   ]
  },
  {
   "cell_type": "code",
   "execution_count": null,
   "metadata": {
    "colab": {
     "base_uri": "https://localhost:8080/",
     "height": 68
    },
    "executionInfo": {
     "elapsed": 908,
     "status": "ok",
     "timestamp": 1591893719201,
     "user": {
      "displayName": "Stanislav Diner",
      "photoUrl": "",
      "userId": "16383404849228830602"
     },
     "user_tz": -180
    },
    "id": "A17uF89lMOo-",
    "outputId": "62dcdf5e-206d-4775-f911-28c0ec075b5d"
   },
   "outputs": [
    {
     "name": "stdout",
     "output_type": "stream",
     "text": [
      "0.3652754666067035\n",
      "0.1950438497862143\n",
      "0.4396806836069523\n"
     ]
    }
   ],
   "source": [
    "sum_1 = 0\n",
    "for i in range (1000):\n",
    "    sum_1 += p3_1[i]\n",
    "print(sum_1)\n",
    "\n",
    "sum_2 = 0\n",
    "for i in range (10000, len(p3_1)):\n",
    "    sum_2 += p3_1[i]\n",
    "print(sum_2)\n",
    "\n",
    "sum_3 = 0\n",
    "for i in range (1000, 10000):\n",
    "    sum_3 += p3_1[i]\n",
    "print(sum_3)"
   ]
  },
  {
   "cell_type": "markdown",
   "metadata": {
    "id": "qXdh5b5lC9yT"
   },
   "source": [
    "### Английский"
   ]
  },
  {
   "cell_type": "code",
   "execution_count": null,
   "metadata": {
    "colab": {
     "base_uri": "https://localhost:8080/",
     "height": 34
    },
    "executionInfo": {
     "elapsed": 347377,
     "status": "error",
     "timestamp": 1591023840623,
     "user": {
      "displayName": "Stanislav Diner",
      "photoUrl": "",
      "userId": "16383404849228830602"
     },
     "user_tz": -180
    },
    "id": "x9sulTwgHNJ1",
    "outputId": "eb8e1046-4fc7-44fd-becf-203454b693ec"
   },
   "outputs": [
    {
     "name": "stdout",
     "output_type": "stream",
     "text": [
      "/content/drive/My Drive/ProjectSygma/texts/test_eng/et.txt\n"
     ]
    }
   ],
   "source": [
    "import numpy as np\n",
    "import matplotlib.pyplot as plt\n",
    "import matplotlib as mpl\n",
    "import glob\n",
    "\n",
    "nlp.max_length = 86467196\n",
    "\n",
    "\n",
    "dictionary_file = open('/content/drive/My Drive/ProjectSygma/dictionaries/english_dictionary.txt', 'r')\n",
    "dictionary = []\n",
    "for line in dictionary_file:\n",
    "    dictionary.append(line[:-1])\n",
    "\n",
    "x_max_file = open('/content/drive/My Drive/ProjectSygma/tables/x_max.txt', 'r')\n",
    "x_max = []\n",
    "y_max = []\n",
    "for line in x_max_file:\n",
    "    x_max.append(list(map(float, line.split())))\n",
    "y_max_file = open('/content/drive/My Drive/ProjectSygma/tables/y_max.txt', 'r')\n",
    "for line in y_max_file:\n",
    "    y_max.append(list(map(float, line.split())))\n",
    "\n",
    "a = [[0] * 4 for i in range(20)]\n",
    "file_list = glob.glob('/content/drive/My Drive/ProjectSygma/texts/test_eng/*')\n",
    "for file_path in file_list:\n",
    "    print(file_path)\n",
    "    acc_val = open('/content/drive/My Drive/ProjectSygma/tables/acc_val.txt', 'r')\n",
    "    text_file = open(file_path, 'r')\n",
    "    text = text_file.read()\n",
    "    text_file.close()\n",
    "    text = english_text_to_series_pre(text)\n",
    "    #save_text = open('/content/drive/My Drive/ProjectSygma/texts/test_examples/war_and_piece_eng_pre.txt', 'w')\n",
    "    #save_text.write(pre_text)\n",
    "    #save_text.close()\n",
    "    inc = 0\n",
    "    table = []\n",
    "    for line_1 in acc_val:\n",
    "        values = line_1[:-1].split()\n",
    "        if len(values) == 2:\n",
    "            values.append('2')\n",
    "        #print('val =', values)\n",
    "        i = int(values[0])\n",
    "        table_file = open('/content/drive/My Drive/ProjectSygma/tables/eng_vt_tr' + str(i) + '.txt', 'r')\n",
    "        table = []\n",
    "        for line in table_file:\n",
    "            table.append(list(map(float, line[:-2].split())))\n",
    "        text_serie = text_to_series(text, dictionary, table)\n",
    "        for j in range (int(values[1]), int(values[2]) + 1):\n",
    "            if i == 1:\n",
    "                x_val = entropy_measure(text_serie, d=j)\n",
    "                if x_val > x_max[j][i]:\n",
    "                    x_val_1 = (x_val - x_max[j][i]) / (1 - x_max[j][i])\n",
    "                else:\n",
    "                    x_val_1 = (x_val - x_max[j][i]) / (x_max[j][i])\n",
    "                #plt.scatter(\n",
    "                #entropy_measure(text_serie, d=j),\n",
    "                #x_val,\n",
    "                #mpr_complexity(text_serie, d=j), c=\"red\")\n",
    "                #mpr_complexity(text_serie, d=j) / y_max[j][i], c=\"red\")\n",
    "                print(i, j, x_val, mpr_complexity(text_serie, d=j), x_val_1, mpr_complexity(text_serie, d=j) / y_max[j][i])\n",
    "            else:\n",
    "                x_val = entropy_measure_m(text_serie, d=j, v=i)\n",
    "                if x_val > x_max[j][i]:\n",
    "                    x_val_1 = (x_val - x_max[j][i]) / (1 - x_max[j][i])\n",
    "                else:\n",
    "                    x_val_1 = (x_val - x_max[j][i]) / (x_max[j][i])\n",
    "                #plt.scatter(\n",
    "                #entropy_measure_m(text_serie, d=j, v=i),\n",
    "                #x_val,\n",
    "                #mpr_complexity_m(text_serie, d=j, v=i), c =[i/19, j/9, 0])\n",
    "                #mpr_complexity_m(text_serie, d=j, v=i) / y_max[j][i], c =[i/19, j/9, 0])\n",
    "                print(i, j, x_val, mpr_complexity_m(text_serie, d=j, v=i), x_val_1, mpr_complexity_m(text_serie, d=j, v=i) / y_max[j][i])\n",
    "                #a[inc][0] += x_val\n",
    "                #a[inc][1] += mpr_complexity_m(text_serie, d=j, v=i)\n",
    "                #a[inc][2] += x_val_1\n",
    "                #a[inc][3] += mpr_complexity_m(text_serie, d=j, v=i) / y_max[j][i]\n",
    "                inc += 1\n",
    "\n",
    "    #plt.xlabel('entropy')\n",
    "    #plt.ylabel('mpr_complexity')\n",
    "    #plt.show()\n",
    "    #acc_val.close()\n",
    "dictionary_file.close()"
   ]
  },
  {
   "cell_type": "markdown",
   "metadata": {
    "id": "T0nGhzmGFrao"
   },
   "source": [
    "### Немецкий"
   ]
  },
  {
   "cell_type": "code",
   "execution_count": null,
   "metadata": {
    "id": "hVbtZw443ZjJ"
   },
   "outputs": [],
   "source": [
    "# 1. str.lower()\n",
    "# 2. remove non-letters\n",
    "# 3. remove punctuation\n",
    "# 4. remove whitespaces (str.strip())\n",
    "# 5. Лемматизация\n",
    "# 6. Удаление стоп слов\n",
    "\n",
    "GERMAN_ALB = \"abcdefghijklmnopqrstuvwxyzäüöÄÜÖß\"\n",
    "NLP = spacy.load('de')\n",
    "NLP.max_length = 5300000\n",
    "\n",
    "def replaceSpaceToStandart(text):\n",
    "  return text.replace('\\t', ' ').replace('\\n', ' ')\n",
    "\n",
    "def replacePunctuationToSpace(text):\n",
    "  translator = str.maketrans(string.punctuation, ' ' * len(string.punctuation))\n",
    "  return text.translate(translator)\n",
    "\n",
    "def removeMultipleSpaces(s):\n",
    "  return sub(' +', ' ', s)\n",
    "\n",
    "def saveOnlyAlbavetSymbols(words, chAlb):\n",
    "  return ' '.join(s for s in words.split() if all(c in chAlb for c in s))\n",
    "\n",
    "def getLemma(s, nlp):\n",
    "  lemmatizedSent = []\n",
    "  doc = nlp(s)\n",
    "  for token in doc:\n",
    "    lemmatizedSent.append(token.lemma_)\n",
    "  return ' '.join(lemmatizedSent)\n",
    "\n",
    "def removeStopWords(s):\n",
    "  ge_stops = set(stopwords.words('german'))\n",
    "  all_words = s.split(' ')\n",
    "  dropStopWords = []\n",
    "  for word in all_words: \n",
    "      if word not in ge_stops:\n",
    "          dropStopWords.append(word)\n",
    "  return ' '.join(dropStopWords)\n",
    "\n",
    "def prepareText(text):\n",
    "  text = text.lower()\n",
    "  text = replacePunctuationToSpace(text)\n",
    "  text = replaceSpaceToStandart(text)\n",
    "  text = saveOnlyAlbavetSymbols(text, GERMAN_ALB)\n",
    "  text = removeMultipleSpaces(text)\n",
    "  text = getLemma(text, NLP)\n",
    "  # text = removeStopWords(text)\n",
    "  return text"
   ]
  },
  {
   "cell_type": "code",
   "execution_count": null,
   "metadata": {
    "id": "2WiKytFI1VOg"
   },
   "outputs": [],
   "source": [
    "def convertTextToEmbeddingSeries(text, dict_words, emb):\n",
    "    wtext = prepareText(text)\n",
    "    wdata = wtext.split(' ')\n",
    "    word2ind = dict(zip(dict_words, np.arange(len(dict_words))))\n",
    "    embText = []\n",
    "    for word in wdata:\n",
    "        ind = word2ind.get(word)\n",
    "        if ind: embText.append(emb[ind])\n",
    "    return embText"
   ]
  },
  {
   "cell_type": "code",
   "execution_count": null,
   "metadata": {
    "colab": {
     "base_uri": "https://localhost:8080/",
     "height": 289
    },
    "executionInfo": {
     "elapsed": 52261,
     "status": "ok",
     "timestamp": 1591129259251,
     "user": {
      "displayName": "Stanislav Diner",
      "photoUrl": "",
      "userId": "16383404849228830602"
     },
     "user_tz": -180
    },
    "id": "pnxOiCZ3ZmLb",
    "outputId": "9ad74810-6dec-492b-d3df-c5305ce7231a"
   },
   "outputs": [
    {
     "name": "stdout",
     "output_type": "stream",
     "text": [
      "/content/drive/My Drive/ProjectSygma/texts/test_ger/amazonReview.txt\n",
      "2 5 0.7679557979084614 0.54607030315302 0.21157589872961888 0.9270605234127941\n",
      "2 6 0.6175277222790856 0.599238530244082 -0.1752355041326591 0.9036344185489014\n",
      "3 3 0.8771112932096048 0.2135389015759602 0.6710324982420781 0.4749283071770956\n",
      "3 4 0.7728082678574788 0.5409917008830718 0.22990183749829288 0.9200632766042854\n",
      "4 3 0.8294717996616677 0.3432306281608951 0.4863801741951675 0.6631779042391303\n",
      "4 4 0.6294645685491067 0.6043986358886831 -0.15526880234414625 0.9220619157379153\n",
      "5 2 0.9142455077504387 0.10675643087086818 0.7856137693760967 0.29146391563453006\n",
      "5 3 0.7852483256741583 0.49358763772063485 0.29381655466668294 0.8617837148215993\n",
      "6 2 0.9131669425010358 0.12340085449360799 0.7842690454498694 0.31051873949447784\n",
      "6 3 0.7150867894808408 0.6042161531079799 -0.006857711551347025 0.9795262642786595\n",
      "7 2 0.905602826870434 0.15025301453853093 0.7532627071567857 0.35139759301031825\n",
      "7 3 0.6354789676087961 0.6068439826804434 -0.14349048896605304 0.9300911341372272\n",
      "8 2 0.8970335159942194 0.1806032566000105 0.7212984730334058 0.39554322586499274\n",
      "9 2 0.8590851225820907 0.2559660655389141 0.60276389457655 0.5289221920410707\n",
      "10 2 0.8309546552475402 0.3248339602387837 0.5028205545730795 0.637699921317895\n"
     ]
    }
   ],
   "source": [
    "import numpy as np\n",
    "import matplotlib.pyplot as plt\n",
    "import matplotlib as mpl\n",
    "import glob\n",
    "import numpy as np\n",
    "import pandas as pd\n",
    "import pickle\n",
    "from sklearn.feature_extraction.text import CountVectorizer\n",
    "\n",
    "import string\n",
    "import numpy as np\n",
    "import pandas as pd\n",
    "from re import sub\n",
    "import nltk\n",
    "from nltk.corpus import stopwords\n",
    "import spacy\n",
    "\n",
    "from tqdm import tqdm\n",
    "import pickle\n",
    "from google.colab import files\n",
    "from os import listdir\n",
    "import os\n",
    "\n",
    "dictionary_file = open('/content/drive/My Drive/ProjectSygma/dictionaries/german_dictionary.txt', 'r')\n",
    "dictionary = []\n",
    "for line in dictionary_file:\n",
    "    dictionary.append(line[:-1])\n",
    "\n",
    "x_max_file = open('/content/drive/My Drive/ProjectSygma/tables/x_max.txt', 'r')\n",
    "x_max = []\n",
    "y_max = []\n",
    "for line in x_max_file:\n",
    "    x_max.append(list(map(float, line.split())))\n",
    "y_max_file = open('/content/drive/My Drive/ProjectSygma/tables/y_max.txt', 'r')\n",
    "for line in y_max_file:\n",
    "    y_max.append(list(map(float, line.split())))\n",
    "\n",
    "file_list = glob.glob('/content/drive/My Drive/ProjectSygma/texts/test_ger/*')\n",
    "for file_path in file_list:\n",
    "    print(file_path)\n",
    "    acc_val = open('/content/drive/My Drive/ProjectSygma/tables/acc_val_eng.txt', 'r')\n",
    "    text_file = open(file_path, 'r')\n",
    "    text = text_file.read()\n",
    "    text_file.close()\n",
    "\n",
    "    table = []\n",
    "    for line_1 in acc_val:\n",
    "        values = line_1[:-1].split()\n",
    "        if len(values) == 2:\n",
    "            values.append('2')\n",
    "        #print('val =', values)\n",
    "        i = int(values[0])\n",
    "        table_file = open('/content/drive/My Drive/ProjectSygma/tables/ger_vt_tr' + str(i) + '.txt', 'r')\n",
    "        table = []\n",
    "        for line in table_file:\n",
    "            table.append(list(map(float, line[:-2].split())))\n",
    "        text_serie = convertTextToEmbeddingSeries(text, dictionary, table)\n",
    "        for j in range (int(values[1]), int(values[2]) + 1):\n",
    "            if i == 1:\n",
    "                x_val = entropy_measure(text_serie, d=j)\n",
    "                if x_val > x_max[j][i]:\n",
    "                    x_val_1 = (x_val - x_max[j][i]) / (1 - x_max[j][i])\n",
    "                else:\n",
    "                    x_val_1 = (x_val - x_max[j][i]) / (x_max[j][i])\n",
    "                #plt.scatter(\n",
    "                #entropy_measure(text_serie, d=j),\n",
    "                #x_val,\n",
    "                #mpr_complexity(text_serie, d=j), c=\"red\")\n",
    "                #mpr_complexity(text_serie, d=j) / y_max[j][i], c=\"red\")\n",
    "                print(i, j, x_val, mpr_complexity(text_serie, d=j), x_val_1, mpr_complexity(text_serie, d=j) / y_max[j][i])\n",
    "            else:\n",
    "                x_val = entropy_measure_m(text_serie, d=j, v=i)\n",
    "                if x_val > x_max[j][i]:\n",
    "                    x_val_1 = (x_val - x_max[j][i]) / (1 - x_max[j][i])\n",
    "                else:\n",
    "                    x_val_1 = (x_val - x_max[j][i]) / (x_max[j][i])\n",
    "                #plt.scatter(\n",
    "                #entropy_measure_m(text_serie, d=j, v=i),\n",
    "                #x_val,\n",
    "                #mpr_complexity_m(text_serie, d=j, v=i), c =[i/19, j/9, 0])\n",
    "                #mpr_complexity_m(text_serie, d=j, v=i) / y_max[j][i], c =[i/19, j/9, 0])\n",
    "                print(i, j, x_val, mpr_complexity_m(text_serie, d=j, v=i), x_val_1, mpr_complexity_m(text_serie, d=j, v=i) / y_max[j][i])\n",
    "\n",
    "    #plt.xlabel('entropy')\n",
    "    #plt.ylabel('mpr_complexity')\n",
    "    #plt.show()\n",
    "    #acc_val.close()\n",
    "dictionary_file.close()"
   ]
  },
  {
   "cell_type": "code",
   "execution_count": null,
   "metadata": {
    "id": "UpOPaIqtszmd"
   },
   "outputs": [],
   "source": [
    "list_3 = [\"red\", \"red\", \"red\", \"red\", \"orange\", \"orange\", \"yellow\", \"yellow\", \"green\", \"green\", \"green\", \"blue\", \"blue\", \"purple\", \"purple\", \"black\", \"black\", \"black\"]\n",
    "list_4 = [\"orange\", \"yellow\", \"green\", \"blue\", \"orange\", \"yellow\", \"red\", \"orange\", \"yellow\", \"red\", \"orange\", \"red\", \"orange\", \"red\", \"orange\", \"red\", \"red\", \"red\"]\n",
    "list_1 =   [0.9481253784,\n",
    "            0.9250944326,\n",
    "            0.9058834899,\n",
    "            0.8539797642,\n",
    "            0.9194257816,\n",
    "            0.874470151,\n",
    "            0.9717829554,\n",
    "            0.8886668092,\n",
    "            0.8075824084,\n",
    "            0.956013625,\n",
    "            0.8454699661,\n",
    "            0.9235146161,\n",
    "            0.7968597349,\n",
    "            0.8977852156,\n",
    "            0.7492373915,\n",
    "            0.882232874,\n",
    "            0.8525419005,\n",
    "            0.8270080125]\n",
    "\n",
    "list_2 =   [0.07321163089,\n",
    "            0.1630324148,\n",
    "            0.2853840248,\n",
    "            0.5509322575,\n",
    "            0.1494210438,\n",
    "            0.3433879415,\n",
    "            0.03205841461,\n",
    "            0.2405533578,\n",
    "            0.5683303874,\n",
    "            0.05990595023,\n",
    "            0.3648466696,\n",
    "            0.1138280093,\n",
    "            0.481381496,\n",
    "            0.1604042392,\n",
    "            0.57828561,\n",
    "            0.1947951123,\n",
    "            0.2414414229,\n",
    "            0.2805087139]\n",
    "\n",
    "list_5 =   [0.8764068329,\n",
    "            0.7864003772,\n",
    "            0.6802172852,\n",
    "            0.4188661402,\n",
    "            0.784306467,\n",
    "            0.5744990138,\n",
    "            0.9327393672,\n",
    "            0.6646716852,\n",
    "            0.2449310732,\n",
    "            0.8900340624,\n",
    "            0.4918477255,\n",
    "            0.809977152,\n",
    "            0.2744355406,\n",
    "            0.7328288724,\n",
    "            0.02827656353,\n",
    "            0.681237267,\n",
    "            0.5843186877,\n",
    "            0.4912130792]\n",
    "\n",
    "list_6 =   [0.1968190637,\n",
    "            0.3338065554,\n",
    "            0.4844948752,\n",
    "            0.8307899527,\n",
    "            0.3323248498,\n",
    "            0.5839990412,\n",
    "            0.09526050741,\n",
    "            0.4647885667,\n",
    "            0.8670367116,\n",
    "            0.163553827,\n",
    "            0.6370072795,\n",
    "            0.2864301881,\n",
    "            0.7803926063,\n",
    "            0.3751383209,\n",
    "            0.8863205934,\n",
    "            0.426625126,\n",
    "            0.4989088157,\n",
    "            0.5506825231]"
   ]
  },
  {
   "cell_type": "code",
   "execution_count": null,
   "metadata": {
    "colab": {
     "base_uri": "https://localhost:8080/",
     "height": 1000
    },
    "executionInfo": {
     "elapsed": 1456,
     "status": "ok",
     "timestamp": 1591632969560,
     "user": {
      "displayName": "Stanislav Diner",
      "photoUrl": "",
      "userId": "16383404849228830602"
     },
     "user_tz": -180
    },
    "id": "SkLYstCzsjTZ",
    "outputId": "248b9b1d-905c-404b-ab82-520aff09234b"
   },
   "outputs": [
    {
     "data": {
      "image/png": "[encoded data removed]",
      "text/plain": [
       "<Figure size 432x288 with 1 Axes>"
      ]
     },
     "metadata": {
      "needs_background": "light",
      "tags": []
     },
     "output_type": "display_data"
    },
    {
     "data": {
      "image/png": "[encoded data removed]",
      "text/plain": [
       "<Figure size 432x288 with 1 Axes>"
      ]
     },
     "metadata": {
      "needs_background": "light",
      "tags": []
     },
     "output_type": "display_data"
    },
    {
     "data": {
      "image/png": "[encoded data removed]",
      "text/plain": [
       "<Figure size 432x288 with 1 Axes>"
      ]
     },
     "metadata": {
      "needs_background": "light",
      "tags": []
     },
     "output_type": "display_data"
    },
    {
     "data": {
      "image/png": "[encoded data removed]",
      "text/plain": [
       "<Figure size 432x288 with 1 Axes>"
      ]
     },
     "metadata": {
      "needs_background": "light",
      "tags": []
     },
     "output_type": "display_data"
    }
   ],
   "source": [
    "\n",
    "import matplotlib.pyplot as plt\n",
    "plt.scatter(list_1, list_2, c=list_3)\n",
    "plt.show()\n",
    "plt.scatter(list_1, list_2, c=list_4)\n",
    "plt.show()\n",
    "plt.scatter(list_5, list_6, c=list_3)\n",
    "plt.show()\n",
    "plt.scatter(list_5, list_6, c=list_4)\n",
    "plt.show()\n",
    "list_1 = []\n",
    "list_2 = []\n",
    "list_5 = []\n",
    "list_6 = []"
   ]
  },
  {
   "cell_type": "markdown",
   "metadata": {
    "id": "rig2zd77FvnN"
   },
   "source": [
    "### Испанский"
   ]
  },
  {
   "cell_type": "markdown",
   "metadata": {
    "id": "rBjWIYZRDKx8"
   },
   "source": [
    "## Построение графиков энтропия-сложность"
   ]
  },
  {
   "cell_type": "code",
   "execution_count": null,
   "metadata": {
    "id": "kKrgfdbduTGM"
   },
   "outputs": [],
   "source": [
    "import matplotlib.pyplot as plt\n",
    "import csv\n",
    "\n",
    "list_3 = [\"red\", \"red\", \"red\", \"red\", \"red\", \"red\", \"orange\", \"orange\", \"orange\", \"orange\", \"yellow\", \"yellow\", \"green\", \"green\", \"green\", \"blue\", \"blue\", \"pink\", \"pink\", \"purple\", \"purple\",\n",
    "          \"black\", \"black\", \"black\", \"black\", \"black\", \"black\", \"black\", \"black\", \"black\", \"black\", \"black\", \"black\"]\n",
    "\n",
    "list_4 = [\"yellow\", \"green\", \"blue\", \"purple\", \"purple\", \"purple\", \"orange\", \"yellow\", \"green\", \"blue\", \"orange\", \"yellow\", \"red\", \"orange\", \"yellow\", \"red\", \"orange\", \"red\",\n",
    "\"orange\", \"red\", \"orange\", \"red\", \"red\", \"red\", \"red\", \"red\", \"red\", \"red\", \"red\", \"red\", \"red\", \"red\", \"red\"]\n",
    "\n",
    "#list_3 = list_3[:-7]\n",
    "#list_4 = list_4[:-7]\n",
    "list_1 = []\n",
    "list_2 = []\n",
    "list_5 = []\n",
    "list_6 = []\n",
    "\n",
    "with open('/content/drive/My Drive/ProjectSygma/data_3.csv', newline='') as csvfile:\n",
    "    spamreader = csv.reader(csvfile, delimiter=',')\n",
    "    i = 0\n",
    "    for row in spamreader:\n",
    "        i += 1\n",
    "        list_1.append(float(row[0]))\n",
    "        list_2.append(float(row[1]))\n",
    "        list_5.append(float(row[2]))\n",
    "        list_6.append(float(row[3]))\n",
    "        if not(i % 33):\n",
    "            print(list_1, list_2, list_5, list_6)\n",
    "            plt.scatter(list_1, list_2, c=list_3)\n",
    "            plt.show()\n",
    "            plt.scatter(list_1, list_2, c=list_4)\n",
    "            plt.show()\n",
    "            plt.scatter(list_5, list_6, c=list_3)\n",
    "            plt.show()\n",
    "            plt.scatter(list_5, list_6, c=list_4)\n",
    "            plt.show()\n",
    "            list_1 = []\n",
    "            list_2 = []\n",
    "            list_5 = []\n",
    "            list_6 = []"
   ]
  },
  {
   "cell_type": "code",
   "execution_count": null,
   "metadata": {
    "id": "MX3tIlD0aioQ"
   },
   "outputs": [],
   "source": [
    "borders(46656, 0.6397795377563126,\t0.5825999478008991)"
   ]
  }
 ],
 "metadata": {
  "colab": {
   "collapsed_sections": [],
   "machine_shape": "hm",
   "name": "Project Sygma.ipynb",
   "provenance": [],
   "toc_visible": true
  },
  "kernelspec": {
   "display_name": "Python 3",
   "language": "python",
   "name": "python3"
  },
  "language_info": {
   "codemirror_mode": {
    "name": "ipython",
    "version": 3
   },
   "file_extension": ".py",
   "mimetype": "text/x-python",
   "name": "python",
   "nbconvert_exporter": "python",
   "pygments_lexer": "ipython3",
   "version": "3.7.3"
  }
 },
 "nbformat": 4,
 "nbformat_minor": 1
}
