{
 "cells": [
  {
   "cell_type": "markdown",
   "metadata": {
    "id": "cezwHv8-BNB2"
   },
   "source": [
    "## Технические моменты"
   ]
  },
  {
   "cell_type": "code",
   "execution_count": null,
   "metadata": {
    "colab": {
     "base_uri": "https://localhost:8080/",
     "height": 34
    },
    "executionInfo": {
     "elapsed": 1650,
     "status": "ok",
     "timestamp": 1602689735274,
     "user": {
      "displayName": "Stanislav Diner",
      "photoUrl": "",
      "userId": "16383404849228830602"
     },
     "user_tz": -180
    },
    "id": "J7aLGCBYv8h-",
    "outputId": "4b21358e-1d75-402b-c613-057ad1c2f57e"
   },
   "outputs": [
    {
     "name": "stdout",
     "output_type": "stream",
     "text": [
      "[[], []]\n"
     ]
    }
   ],
   "source": [
    "of = [[]]\n",
    "of.append([])\n",
    "print(of)"
   ]
  },
  {
   "cell_type": "markdown",
   "metadata": {
    "id": "dQiWVKZ9pw2r"
   },
   "source": [
    "### Подключение Google Drive"
   ]
  },
  {
   "cell_type": "code",
   "execution_count": null,
   "metadata": {
    "colab": {
     "base_uri": "https://localhost:8080/",
     "height": 122
    },
    "executionInfo": {
     "elapsed": 19905,
     "status": "ok",
     "timestamp": 1593248104015,
     "user": {
      "displayName": "Stanislav Diner",
      "photoUrl": "",
      "userId": "16383404849228830602"
     },
     "user_tz": -180
    },
    "id": "Py-tpGFx4_je",
    "outputId": "9990185e-6217-4902-bae3-861d33e5f320"
   },
   "outputs": [
    {
     "name": "stdout",
     "output_type": "stream",
     "text": [
      "Go to this URL in a browser: https://accounts.google.com/o/oauth2/auth?client_id=947318989803-6bn6qk8qdgf4n4g3pfee6491hc0brc4i.apps.googleusercontent.com&redirect_uri=urn%3aietf%3awg%3aoauth%3a2.0%3aoob&response_type=code&scope=email%20https%3a%2f%2fwww.googleapis.com%2fauth%2fdocs.test%20https%3a%2f%2fwww.googleapis.com%2fauth%2fdrive%20https%3a%2f%2fwww.googleapis.com%2fauth%2fdrive.photos.readonly%20https%3a%2f%2fwww.googleapis.com%2fauth%2fpeopleapi.readonly\n",
      "\n",
      "Enter your authorization code:\n",
      "··········\n",
      "Mounted at /content/drive\n"
     ]
    }
   ],
   "source": [
    "from google.colab import drive\n",
    "drive.mount('/content/drive')"
   ]
  },
  {
   "cell_type": "markdown",
   "metadata": {
    "id": "WiLNlk7wQoGZ"
   },
   "source": [
    "### Установка пакетов"
   ]
  },
  {
   "cell_type": "code",
   "execution_count": null,
   "metadata": {
    "colab": {
     "base_uri": "https://localhost:8080/"
    },
    "executionInfo": {
     "elapsed": 38650,
     "status": "ok",
     "timestamp": 1590334204452,
     "user": {
      "displayName": "Stanislav Diner",
      "photoUrl": "",
      "userId": "16383404849228830602"
     },
     "user_tz": -180
    },
    "id": "iy_SXId2Qrws",
    "outputId": "02d7f953-1aac-4780-e081-717948827053"
   },
   "outputs": [
    {
     "name": "stdout",
     "output_type": "stream",
     "text": [
      "Requirement already satisfied: spacy in /usr/local/lib/python3.6/dist-packages (2.2.4)\n",
      "Requirement already satisfied: catalogue<1.1.0,>=0.0.7 in /usr/local/lib/python3.6/dist-packages (from spacy) (1.0.0)\n",
      "Requirement already satisfied: setuptools in /usr/local/lib/python3.6/dist-packages (from spacy) (46.3.0)\n",
      "Requirement already satisfied: murmurhash<1.1.0,>=0.28.0 in /usr/local/lib/python3.6/dist-packages (from spacy) (1.0.2)\n",
      "Requirement already satisfied: numpy>=1.15.0 in /usr/local/lib/python3.6/dist-packages (from spacy) (1.18.4)\n",
      "Requirement already satisfied: blis<0.5.0,>=0.4.0 in /usr/local/lib/python3.6/dist-packages (from spacy) (0.4.1)\n",
      "Requirement already satisfied: thinc==7.4.0 in /usr/local/lib/python3.6/dist-packages (from spacy) (7.4.0)\n",
      "Requirement already satisfied: wasabi<1.1.0,>=0.4.0 in /usr/local/lib/python3.6/dist-packages (from spacy) (0.6.0)\n",
      "Requirement already satisfied: srsly<1.1.0,>=1.0.2 in /usr/local/lib/python3.6/dist-packages (from spacy) (1.0.2)\n",
      "Requirement already satisfied: plac<1.2.0,>=0.9.6 in /usr/local/lib/python3.6/dist-packages (from spacy) (1.1.3)\n",
      "Requirement already satisfied: tqdm<5.0.0,>=4.38.0 in /usr/local/lib/python3.6/dist-packages (from spacy) (4.41.1)\n",
      "Requirement already satisfied: requests<3.0.0,>=2.13.0 in /usr/local/lib/python3.6/dist-packages (from spacy) (2.23.0)\n",
      "Requirement already satisfied: cymem<2.1.0,>=2.0.2 in /usr/local/lib/python3.6/dist-packages (from spacy) (2.0.3)\n",
      "Requirement already satisfied: preshed<3.1.0,>=3.0.2 in /usr/local/lib/python3.6/dist-packages (from spacy) (3.0.2)\n",
      "Requirement already satisfied: importlib-metadata>=0.20; python_version < \"3.8\" in /usr/local/lib/python3.6/dist-packages (from catalogue<1.1.0,>=0.0.7->spacy) (1.6.0)\n",
      "Requirement already satisfied: chardet<4,>=3.0.2 in /usr/local/lib/python3.6/dist-packages (from requests<3.0.0,>=2.13.0->spacy) (3.0.4)\n",
      "Requirement already satisfied: certifi>=2017.4.17 in /usr/local/lib/python3.6/dist-packages (from requests<3.0.0,>=2.13.0->spacy) (2020.4.5.1)\n",
      "Requirement already satisfied: urllib3!=1.25.0,!=1.25.1,<1.26,>=1.21.1 in /usr/local/lib/python3.6/dist-packages (from requests<3.0.0,>=2.13.0->spacy) (1.24.3)\n",
      "Requirement already satisfied: idna<3,>=2.5 in /usr/local/lib/python3.6/dist-packages (from requests<3.0.0,>=2.13.0->spacy) (2.9)\n",
      "Requirement already satisfied: zipp>=0.5 in /usr/local/lib/python3.6/dist-packages (from importlib-metadata>=0.20; python_version < \"3.8\"->catalogue<1.1.0,>=0.0.7->spacy) (3.1.0)\n",
      "Requirement already satisfied: gensim in /usr/local/lib/python3.6/dist-packages (3.6.0)\n",
      "Requirement already satisfied: smart-open>=1.2.1 in /usr/local/lib/python3.6/dist-packages (from gensim) (2.0.0)\n",
      "Requirement already satisfied: scipy>=0.18.1 in /usr/local/lib/python3.6/dist-packages (from gensim) (1.4.1)\n",
      "Requirement already satisfied: numpy>=1.11.3 in /usr/local/lib/python3.6/dist-packages (from gensim) (1.18.4)\n",
      "Requirement already satisfied: six>=1.5.0 in /usr/local/lib/python3.6/dist-packages (from gensim) (1.12.0)\n",
      "Requirement already satisfied: requests in /usr/local/lib/python3.6/dist-packages (from smart-open>=1.2.1->gensim) (2.23.0)\n",
      "Requirement already satisfied: boto3 in /usr/local/lib/python3.6/dist-packages (from smart-open>=1.2.1->gensim) (1.13.13)\n",
      "Requirement already satisfied: boto in /usr/local/lib/python3.6/dist-packages (from smart-open>=1.2.1->gensim) (2.49.0)\n",
      "Requirement already satisfied: idna<3,>=2.5 in /usr/local/lib/python3.6/dist-packages (from requests->smart-open>=1.2.1->gensim) (2.9)\n",
      "Requirement already satisfied: urllib3!=1.25.0,!=1.25.1,<1.26,>=1.21.1 in /usr/local/lib/python3.6/dist-packages (from requests->smart-open>=1.2.1->gensim) (1.24.3)\n",
      "Requirement already satisfied: chardet<4,>=3.0.2 in /usr/local/lib/python3.6/dist-packages (from requests->smart-open>=1.2.1->gensim) (3.0.4)\n",
      "Requirement already satisfied: certifi>=2017.4.17 in /usr/local/lib/python3.6/dist-packages (from requests->smart-open>=1.2.1->gensim) (2020.4.5.1)\n",
      "Requirement already satisfied: jmespath<1.0.0,>=0.7.1 in /usr/local/lib/python3.6/dist-packages (from boto3->smart-open>=1.2.1->gensim) (0.10.0)\n",
      "Requirement already satisfied: botocore<1.17.0,>=1.16.13 in /usr/local/lib/python3.6/dist-packages (from boto3->smart-open>=1.2.1->gensim) (1.16.13)\n",
      "Requirement already satisfied: s3transfer<0.4.0,>=0.3.0 in /usr/local/lib/python3.6/dist-packages (from boto3->smart-open>=1.2.1->gensim) (0.3.3)\n",
      "Requirement already satisfied: docutils<0.16,>=0.10 in /usr/local/lib/python3.6/dist-packages (from botocore<1.17.0,>=1.16.13->boto3->smart-open>=1.2.1->gensim) (0.15.2)\n",
      "Requirement already satisfied: python-dateutil<3.0.0,>=2.1 in /usr/local/lib/python3.6/dist-packages (from botocore<1.17.0,>=1.16.13->boto3->smart-open>=1.2.1->gensim) (2.8.1)\n",
      "Collecting pyLDAvis\n",
      "\u001b[?25l  Downloading https://files.pythonhosted.org/packages/a5/3a/af82e070a8a96e13217c8f362f9a73e82d61ac8fff3a2561946a97f96266/pyLDAvis-2.1.2.tar.gz (1.6MB)\n",
      "\u001b[K     |████████████████████████████████| 1.6MB 2.8MB/s \n",
      "\u001b[?25hRequirement already satisfied: wheel>=0.23.0 in /usr/local/lib/python3.6/dist-packages (from pyLDAvis) (0.34.2)\n",
      "Requirement already satisfied: numpy>=1.9.2 in /usr/local/lib/python3.6/dist-packages (from pyLDAvis) (1.18.4)\n",
      "Requirement already satisfied: scipy>=0.18.0 in /usr/local/lib/python3.6/dist-packages (from pyLDAvis) (1.4.1)\n",
      "Requirement already satisfied: pandas>=0.17.0 in /usr/local/lib/python3.6/dist-packages (from pyLDAvis) (1.0.3)\n",
      "Requirement already satisfied: joblib>=0.8.4 in /usr/local/lib/python3.6/dist-packages (from pyLDAvis) (0.15.1)\n",
      "Requirement already satisfied: jinja2>=2.7.2 in /usr/local/lib/python3.6/dist-packages (from pyLDAvis) (2.11.2)\n",
      "Requirement already satisfied: numexpr in /usr/local/lib/python3.6/dist-packages (from pyLDAvis) (2.7.1)\n",
      "Requirement already satisfied: pytest in /usr/local/lib/python3.6/dist-packages (from pyLDAvis) (3.6.4)\n",
      "Requirement already satisfied: future in /usr/local/lib/python3.6/dist-packages (from pyLDAvis) (0.16.0)\n",
      "Collecting funcy\n",
      "\u001b[?25l  Downloading https://files.pythonhosted.org/packages/ce/4b/6ffa76544e46614123de31574ad95758c421aae391a1764921b8a81e1eae/funcy-1.14.tar.gz (548kB)\n",
      "\u001b[K     |████████████████████████████████| 552kB 38.2MB/s \n",
      "\u001b[?25hRequirement already satisfied: pytz>=2017.2 in /usr/local/lib/python3.6/dist-packages (from pandas>=0.17.0->pyLDAvis) (2018.9)\n",
      "Requirement already satisfied: python-dateutil>=2.6.1 in /usr/local/lib/python3.6/dist-packages (from pandas>=0.17.0->pyLDAvis) (2.8.1)\n",
      "Requirement already satisfied: MarkupSafe>=0.23 in /usr/local/lib/python3.6/dist-packages (from jinja2>=2.7.2->pyLDAvis) (1.1.1)\n",
      "Requirement already satisfied: more-itertools>=4.0.0 in /usr/local/lib/python3.6/dist-packages (from pytest->pyLDAvis) (8.3.0)\n",
      "Requirement already satisfied: setuptools in /usr/local/lib/python3.6/dist-packages (from pytest->pyLDAvis) (46.3.0)\n",
      "Requirement already satisfied: atomicwrites>=1.0 in /usr/local/lib/python3.6/dist-packages (from pytest->pyLDAvis) (1.4.0)\n",
      "Requirement already satisfied: attrs>=17.4.0 in /usr/local/lib/python3.6/dist-packages (from pytest->pyLDAvis) (19.3.0)\n",
      "Requirement already satisfied: pluggy<0.8,>=0.5 in /usr/local/lib/python3.6/dist-packages (from pytest->pyLDAvis) (0.7.1)\n",
      "Requirement already satisfied: six>=1.10.0 in /usr/local/lib/python3.6/dist-packages (from pytest->pyLDAvis) (1.12.0)\n",
      "Requirement already satisfied: py>=1.5.0 in /usr/local/lib/python3.6/dist-packages (from pytest->pyLDAvis) (1.8.1)\n",
      "Building wheels for collected packages: pyLDAvis, funcy\n",
      "  Building wheel for pyLDAvis (setup.py) ... \u001b[?25l\u001b[?25hdone\n",
      "  Created wheel for pyLDAvis: filename=pyLDAvis-2.1.2-py2.py3-none-any.whl size=97711 sha256=900486d6f569177f59013e9c0d1f8e3c511303a72a904ce659e5cb1e72210649\n",
      "  Stored in directory: /root/.cache/pip/wheels/98/71/24/513a99e58bb6b8465bae4d2d5e9dba8f0bef8179e3051ac414\n",
      "  Building wheel for funcy (setup.py) ... \u001b[?25l\u001b[?25hdone\n",
      "  Created wheel for funcy: filename=funcy-1.14-py2.py3-none-any.whl size=32042 sha256=7ab67267735802078a618823d9c10d0a10b9c23e0b4e8622e953b06c9340b8a9\n",
      "  Stored in directory: /root/.cache/pip/wheels/20/5a/d8/1d875df03deae6f178dfdf70238cca33f948ef8a6f5209f2eb\n",
      "Successfully built pyLDAvis funcy\n",
      "Installing collected packages: funcy, pyLDAvis\n",
      "Successfully installed funcy-1.14 pyLDAvis-2.1.2\n",
      "Requirement already satisfied: en_core_web_sm==2.2.5 from https://github.com/explosion/spacy-models/releases/download/en_core_web_sm-2.2.5/en_core_web_sm-2.2.5.tar.gz#egg=en_core_web_sm==2.2.5 in /usr/local/lib/python3.6/dist-packages (2.2.5)\n",
      "Requirement already satisfied: spacy>=2.2.2 in /usr/local/lib/python3.6/dist-packages (from en_core_web_sm==2.2.5) (2.2.4)\n",
      "Requirement already satisfied: preshed<3.1.0,>=3.0.2 in /usr/local/lib/python3.6/dist-packages (from spacy>=2.2.2->en_core_web_sm==2.2.5) (3.0.2)\n",
      "Requirement already satisfied: numpy>=1.15.0 in /usr/local/lib/python3.6/dist-packages (from spacy>=2.2.2->en_core_web_sm==2.2.5) (1.18.4)\n",
      "Requirement already satisfied: thinc==7.4.0 in /usr/local/lib/python3.6/dist-packages (from spacy>=2.2.2->en_core_web_sm==2.2.5) (7.4.0)\n",
      "Requirement already satisfied: requests<3.0.0,>=2.13.0 in /usr/local/lib/python3.6/dist-packages (from spacy>=2.2.2->en_core_web_sm==2.2.5) (2.23.0)\n",
      "Requirement already satisfied: cymem<2.1.0,>=2.0.2 in /usr/local/lib/python3.6/dist-packages (from spacy>=2.2.2->en_core_web_sm==2.2.5) (2.0.3)\n",
      "Requirement already satisfied: srsly<1.1.0,>=1.0.2 in /usr/local/lib/python3.6/dist-packages (from spacy>=2.2.2->en_core_web_sm==2.2.5) (1.0.2)\n",
      "Requirement already satisfied: wasabi<1.1.0,>=0.4.0 in /usr/local/lib/python3.6/dist-packages (from spacy>=2.2.2->en_core_web_sm==2.2.5) (0.6.0)\n",
      "Requirement already satisfied: blis<0.5.0,>=0.4.0 in /usr/local/lib/python3.6/dist-packages (from spacy>=2.2.2->en_core_web_sm==2.2.5) (0.4.1)\n",
      "Requirement already satisfied: tqdm<5.0.0,>=4.38.0 in /usr/local/lib/python3.6/dist-packages (from spacy>=2.2.2->en_core_web_sm==2.2.5) (4.41.1)\n",
      "Requirement already satisfied: setuptools in /usr/local/lib/python3.6/dist-packages (from spacy>=2.2.2->en_core_web_sm==2.2.5) (46.3.0)\n",
      "Requirement already satisfied: plac<1.2.0,>=0.9.6 in /usr/local/lib/python3.6/dist-packages (from spacy>=2.2.2->en_core_web_sm==2.2.5) (1.1.3)\n",
      "Requirement already satisfied: murmurhash<1.1.0,>=0.28.0 in /usr/local/lib/python3.6/dist-packages (from spacy>=2.2.2->en_core_web_sm==2.2.5) (1.0.2)\n",
      "Requirement already satisfied: catalogue<1.1.0,>=0.0.7 in /usr/local/lib/python3.6/dist-packages (from spacy>=2.2.2->en_core_web_sm==2.2.5) (1.0.0)\n",
      "Requirement already satisfied: chardet<4,>=3.0.2 in /usr/local/lib/python3.6/dist-packages (from requests<3.0.0,>=2.13.0->spacy>=2.2.2->en_core_web_sm==2.2.5) (3.0.4)\n",
      "Requirement already satisfied: certifi>=2017.4.17 in /usr/local/lib/python3.6/dist-packages (from requests<3.0.0,>=2.13.0->spacy>=2.2.2->en_core_web_sm==2.2.5) (2020.4.5.1)\n",
      "Requirement already satisfied: idna<3,>=2.5 in /usr/local/lib/python3.6/dist-packages (from requests<3.0.0,>=2.13.0->spacy>=2.2.2->en_core_web_sm==2.2.5) (2.9)\n",
      "Requirement already satisfied: urllib3!=1.25.0,!=1.25.1,<1.26,>=1.21.1 in /usr/local/lib/python3.6/dist-packages (from requests<3.0.0,>=2.13.0->spacy>=2.2.2->en_core_web_sm==2.2.5) (1.24.3)\n",
      "Requirement already satisfied: importlib-metadata>=0.20; python_version < \"3.8\" in /usr/local/lib/python3.6/dist-packages (from catalogue<1.1.0,>=0.0.7->spacy>=2.2.2->en_core_web_sm==2.2.5) (1.6.0)\n",
      "Requirement already satisfied: zipp>=0.5 in /usr/local/lib/python3.6/dist-packages (from importlib-metadata>=0.20; python_version < \"3.8\"->catalogue<1.1.0,>=0.0.7->spacy>=2.2.2->en_core_web_sm==2.2.5) (3.1.0)\n",
      "\u001b[38;5;2m✔ Download and installation successful\u001b[0m\n",
      "You can now load the model via spacy.load('en_core_web_sm')\n",
      "Collecting nolds\n",
      "  Downloading https://files.pythonhosted.org/packages/67/28/60d734bb74181f3a36d685c63b18481789fd54d6c25124662e7195e2d5ed/nolds-0.5.2-py2.py3-none-any.whl\n",
      "Requirement already satisfied: setuptools in /usr/local/lib/python3.6/dist-packages (from nolds) (46.3.0)\n",
      "Requirement already satisfied: future in /usr/local/lib/python3.6/dist-packages (from nolds) (0.16.0)\n",
      "Requirement already satisfied: numpy in /usr/local/lib/python3.6/dist-packages (from nolds) (1.18.4)\n",
      "Installing collected packages: nolds\n",
      "Successfully installed nolds-0.5.2\n"
     ]
    }
   ],
   "source": [
    "!pip install spacy\n",
    "!pip install gensim\n",
    "!pip install pyLDAvis\n",
    "!python -m spacy download en_core_web_sm\n",
    "!pip install nolds"
   ]
  },
  {
   "cell_type": "markdown",
   "metadata": {
    "id": "4U1uX-zAadHr"
   },
   "source": [
    "## Обработка русского корпуса текстов"
   ]
  },
  {
   "cell_type": "markdown",
   "metadata": {
    "id": "dpfg7-28A30g"
   },
   "source": [
    "### Данный русский корпус текстов необходимо изначально предобрабатывать (например, в Mystem)\n",
    "Запустить на компьютере код ProjectSygma/programs/code.py (заменив your_path на путь к папке ProjectSygma\n"
   ]
  },
  {
   "cell_type": "markdown",
   "metadata": {
    "id": "J4261tQvYw8Z"
   },
   "source": [
    "import glob\n",
    "import os\n",
    "import subprocess\n",
    "\n",
    "file_list = glob.glob('your_path/ProjectSygma/texts/russian_literature/*/*')\n",
    "\n",
    "for file_path in file_list:\n",
    "    subprocess.run('your_path/ProjectSygma/mystem.exe -nwld ' +\n",
    "                   file_path +\n",
    "                   ' your_path/ProjectSygma/russian_corpus' +\n",
    "                   file_path[file_path.rfind('\\\\'):])"
   ]
  },
  {
   "cell_type": "markdown",
   "metadata": {
    "id": "8ALOsE2oYzJa"
   },
   "source": [
    "\n",
    "Сохранить ProjectSygma на  Google Drive и открыть Google Colab"
   ]
  },
  {
   "cell_type": "markdown",
   "metadata": {
    "id": "d9WwFyoVqfrQ"
   },
   "source": [
    "### Выкидывание слов которые не знает Mystem (последний символ - '?') и запись всех текстов в 1 массив"
   ]
  },
  {
   "cell_type": "code",
   "execution_count": null,
   "metadata": {
    "colab": {
     "base_uri": "https://localhost:8080/",
     "height": 129
    },
    "executionInfo": {
     "elapsed": 847,
     "status": "error",
     "timestamp": 1582644939407,
     "user": {
      "displayName": "Станислав Динер",
      "photoUrl": "",
      "userId": "13403034834250438137"
     },
     "user_tz": -180
    },
    "id": "8SH5wrZr5x8H",
    "outputId": "72110cdc-9719-43a5-fd75-86bf663d77b0"
   },
   "outputs": [
    {
     "ename": "SyntaxError",
     "evalue": "ignored",
     "output_type": "error",
     "traceback": [
      "\u001b[0;36m  File \u001b[0;32m\"<ipython-input-4-1d46b5f47204>\"\u001b[0;36m, line \u001b[0;32m3\u001b[0m\n\u001b[0;31m    file_list = glob.glob('/content/drive/My Drive/ProjectSygma/texts/russian_corpus/*'))\u001b[0m\n\u001b[0m                                                                                        ^\u001b[0m\n\u001b[0;31mSyntaxError\u001b[0m\u001b[0;31m:\u001b[0m invalid syntax\n"
     ]
    }
   ],
   "source": [
    "import glob\n",
    "\n",
    "file_list = glob.glob('/content/drive/My Drive/ProjectSygma/texts/russian_corpus/*'))\n",
    "russian_corpus = []\n",
    "for file_path in file_list:\n",
    "    file = open(file_path, 'r', encoding='utf8'):\n",
    "        russian_corpus.append([])\n",
    "        for line in file:\n",
    "            if (line[-2] != '?'):\n",
    "                russian_corpus[-1].append(line[:-1])\n",
    "    file.close()"
   ]
  },
  {
   "cell_type": "markdown",
   "metadata": {
    "id": "2zFDryghPwC3"
   },
   "source": [
    "### Сохранение файла с текстами"
   ]
  },
  {
   "cell_type": "code",
   "execution_count": null,
   "metadata": {
    "id": "2gVPZMupP2qr"
   },
   "outputs": [],
   "source": [
    "russian_corpus_file = open('/content/drive/My Drive/ProjectSygma/texts/russian_corpus.txt', 'w')\n",
    "for item in russian_corpus:\n",
    "    russian_corpus_file.write(\"%s\\n\" % item)\n",
    "russian_corpus_file.close()"
   ]
  },
  {
   "cell_type": "markdown",
   "metadata": {
    "id": "fY1HHA0Z1nLH"
   },
   "source": [
    "###Загрузка файла с текстами"
   ]
  },
  {
   "cell_type": "code",
   "execution_count": null,
   "metadata": {
    "id": "nrKkfVqx0mZJ"
   },
   "outputs": [],
   "source": [
    "russian_corpus = []\n",
    "russian_corpus_file = open('/content/drive/My Drive/ProjectSygma/texts/russian_corpus.txt', 'r')\n",
    "for item in russian_corpus_file:\n",
    "    russian_corpus.append(item[:-1])\n",
    "russian_corpus_file.close()"
   ]
  },
  {
   "cell_type": "markdown",
   "metadata": {
    "id": "lCVGjzpasPXG"
   },
   "source": [
    "### Создание матрицы тексты-слова"
   ]
  },
  {
   "cell_type": "code",
   "execution_count": null,
   "metadata": {
    "id": "rRLxBKlpadIq"
   },
   "outputs": [],
   "source": [
    "from sklearn.feature_extraction.text import CountVectorizer\n",
    "\n",
    "vectorizer = CountVectorizer(analyzer='word',       \n",
    "                             min_df=3,\n",
    "                             lowercase=True,\n",
    "                             token_pattern='[а-яА-Я0-9]{1,}'\n",
    "                            )\n",
    "\n",
    "data_vectorized = vectorizer.fit_transform(russian_corpus)\n",
    "A = data_vectorized.toarray()\n",
    "A = A.astype(float)"
   ]
  },
  {
   "cell_type": "markdown",
   "metadata": {
    "id": "OJVd3Za8ZzHd"
   },
   "source": [
    "### Сохранение словаря"
   ]
  },
  {
   "cell_type": "code",
   "execution_count": null,
   "metadata": {
    "colab": {
     "base_uri": "https://localhost:8080/",
     "height": 34
    },
    "executionInfo": {
     "elapsed": 801,
     "status": "ok",
     "timestamp": 1577274602843,
     "user": {
      "displayName": "Станислав Динер",
      "photoUrl": "",
      "userId": "13403034834250438137"
     },
     "user_tz": -180
    },
    "id": "edDMHX4iadI0",
    "outputId": "34fa97a9-05b5-4a89-baa5-82d9a2192b4d"
   },
   "outputs": [
    {
     "name": "stdout",
     "output_type": "stream",
     "text": [
      "['арестовывать', 'без', 'бог', 'быть', 'ваш', 'вдруг', 'ведь', 'веселый', 'весь', 'вещь']\n"
     ]
    }
   ],
   "source": [
    "russian_dictionary = vectorizer.get_feature_names()\n",
    "russian_dictionary_file = open('/content/drive/My Drive/ProjectSygma/texts/russian_corpus.txt', 'w'))\n",
    "for item in russian_dictionary:\n",
    "    russian_dictionary_file.write(\"%s\\n\" % item)\n",
    "russian_dictionary_file.close()"
   ]
  },
  {
   "cell_type": "markdown",
   "metadata": {
    "id": "58NfvaUhslTK"
   },
   "source": [
    "### Вычисление SVD-разложения (k - размерность центральной матрицы)"
   ]
  },
  {
   "cell_type": "code",
   "execution_count": null,
   "metadata": {
    "id": "RqzNo8Grsn5T"
   },
   "outputs": [],
   "source": [
    "import scipy\n",
    "A.shape\n",
    "k = 10\n",
    "u, s, vt = scipy.sparse.linalg.svds(A, k=k)"
   ]
  },
  {
   "cell_type": "code",
   "execution_count": null,
   "metadata": {
    "colab": {
     "base_uri": "https://localhost:8080/",
     "height": 34
    },
    "executionInfo": {
     "elapsed": 789,
     "status": "ok",
     "timestamp": 1593248261951,
     "user": {
      "displayName": "Stanislav Diner",
      "photoUrl": "",
      "userId": "16383404849228830602"
     },
     "user_tz": -180
    },
    "id": "pLVl1N4L_bOz",
    "outputId": "9f326363-4c43-4da4-be1e-19d75c832c63"
   },
   "outputs": [
    {
     "data": {
      "text/plain": [
       "((12684, 10), (10,), (10, 41582), (12684, 41582))"
      ]
     },
     "execution_count": 11,
     "metadata": {
      "tags": []
     },
     "output_type": "execute_result"
    }
   ],
   "source": [
    "u.shape, s.shape, vt.shape, A.shape"
   ]
  },
  {
   "cell_type": "code",
   "execution_count": null,
   "metadata": {
    "colab": {
     "base_uri": "https://localhost:8080/",
     "height": 561
    },
    "executionInfo": {
     "elapsed": 702,
     "status": "ok",
     "timestamp": 1593247879294,
     "user": {
      "displayName": "Stanislav Diner",
      "photoUrl": "",
      "userId": "16383404849228830602"
     },
     "user_tz": -180
    },
    "id": "Dy5pgKw592j0",
    "outputId": "b11a5fc2-0085-44a1-d0e2-6ae4d3c21cc2"
   },
   "outputs": [
    {
     "data": {
      "text/plain": [
       "(array([[-0.61492507,  0.15950446,  0.01849601,  0.20803091,  0.32130642,\n",
       "         -0.42886236,  0.12377677, -0.5002618 ,  0.00795178],\n",
       "        [-0.11853436,  0.06751803,  0.54070032, -0.27187447, -0.24904489,\n",
       "         -0.53092038, -0.4395155 ,  0.26214241,  0.09657135],\n",
       "        [-0.42841133,  0.09211758, -0.01335487, -0.31349747, -0.56610811,\n",
       "          0.30048565,  0.03673265, -0.19508614, -0.5092555 ],\n",
       "        [-0.23318475, -0.33240524, -0.37639271, -0.71142071,  0.17802791,\n",
       "          0.00195135, -0.04030669, -0.02018153,  0.39193247],\n",
       "        [-0.31705206, -0.34554581, -0.2714275 ,  0.25659274,  0.26315087,\n",
       "          0.01220708, -0.47182149,  0.41129366, -0.42354217],\n",
       "        [ 0.38826587, -0.33171027,  0.23534172, -0.18224694,  0.24102538,\n",
       "          0.01927818, -0.34545105, -0.60256723, -0.33125469],\n",
       "        [-0.00823793, -0.66066107,  0.21582032,  0.02520989, -0.11076649,\n",
       "         -0.28851667,  0.60371489,  0.14047366, -0.19112703],\n",
       "        [-0.14490899,  0.22533555,  0.4825353 , -0.29423255,  0.57222625,\n",
       "          0.34387374,  0.23033889,  0.27216394, -0.18971276],\n",
       "        [-0.31235636, -0.36652146,  0.39619932,  0.3035543 , -0.12455037,\n",
       "          0.49182671, -0.17044617, -0.12844377,  0.46477995]]),\n",
       " array([4.14036907, 3.64032343, 2.89488792, 1.84259274, 1.81016248,\n",
       "        0.30125612]),\n",
       " array([[-0.07408686, -0.44177383,  0.42358058, -0.16639298,  0.63386182,\n",
       "          0.43641617],\n",
       "        [ 0.00547097, -0.73489371, -0.25782806, -0.48036607, -0.24450364,\n",
       "         -0.32076846],\n",
       "        [ 0.82463274,  0.12182134, -0.20655989, -0.31436513, -0.04033527,\n",
       "          0.40251838],\n",
       "        [-0.01918526,  0.40353428,  0.52748264, -0.66765756, -0.01785464,\n",
       "         -0.33536349],\n",
       "        [ 0.18765905, -0.26134358,  0.63345221,  0.26978082, -0.62800641,\n",
       "          0.16747587],\n",
       "        [ 0.52808906, -0.1370631 ,  0.17871081,  0.35240328,  0.37696072,\n",
       "         -0.63569698]]))"
      ]
     },
     "execution_count": 4,
     "metadata": {
      "tags": []
     },
     "output_type": "execute_result"
    }
   ],
   "source": [
    "from scipy import linalg\n",
    "import numpy as np\n",
    "m, n = 9, 6\n",
    "a = np.random.randn(m, n) + 1.j*np.random.randn(m, n)\n",
    "U, s, Vh = linalg.svd(a)\n",
    "U,  s.shape, Vh.shape"
   ]
  },
  {
   "cell_type": "markdown",
   "metadata": {
    "id": "X7DH5GGwta6P"
   },
   "source": [
    "### Сохранение результатов(в файле rus_vtk.txt лежит нужная матрица, вместо k подставить число)"
   ]
  },
  {
   "cell_type": "code",
   "execution_count": null,
   "metadata": {
    "id": "KjOsoJl_tgxA"
   },
   "outputs": [],
   "source": [
    "s1 = s.tolist()\n",
    "u1 = u.tolist()\n",
    "vt1 = vt.tolist()\n",
    "vt1_tr = list(map(list, zip(*vt1)))\n",
    "#f1 = open('/content/drive/My Drive/ProjectSygma/tables/' + 'rus_s' + str(k) + '.txt', 'w')\n",
    "#f2 = open('/content/drive/My Drive/ProjectSygma/tables/' + 'rus_u' + str(k) + '.txt', 'w')\n",
    "#f3 = open('/content/drive/My Drive/ProjectSygma/tables/' + 'rus_vt' + str(k) + '.txt', 'w')\n",
    "f4 = open('/content/drive/My Drive/ProjectSygma/tables/' + 'rus_vt_tr' + str(k) + '.txt', 'w')\n",
    "\n",
    "#for line in s1:\n",
    "#    f1.write(\"%s \" % line)\n",
    "#for line in u1:\n",
    "#    for row in line:\n",
    "#        f2.write(\"%s \" % row)\n",
    "#    f2.write('\\n') \n",
    "#for line in vt1:\n",
    "#    for row in line:\n",
    "#        f3.write(\"%s \" % row)\n",
    "#    f3.write('\\n')\n",
    "for line in vt1_tr:\n",
    "    for row in line:\n",
    "        f4.write(\"%s \" % row)\n",
    "    f4.write('\\n') \n",
    "#f1.close()\n",
    "#f2.close()\n",
    "#f3.close()\n",
    "f4.close()"
   ]
  },
  {
   "cell_type": "markdown",
   "metadata": {
    "id": "UEfMC5IEvfA1"
   },
   "source": [
    "## Обработка английского корпуса текстов"
   ]
  },
  {
   "cell_type": "markdown",
   "metadata": {
    "id": "Y8OxScQKNarS"
   },
   "source": [
    "###Ввод и объединение текстов в массив"
   ]
  },
  {
   "cell_type": "code",
   "execution_count": null,
   "metadata": {
    "id": "tDx17vhgadH_"
   },
   "outputs": [],
   "source": [
    "import glob\n",
    "\n",
    "file_list = glob.glob('/content/drive/My Drive/ProjectSygma/texts/english_corpus/*/*')\n",
    "corpus = []\n",
    "for file_path in file_list:\n",
    "    file = open(file_path, 'r')\n",
    "    text = file.readlines()\n",
    "    corpus.append(text)\n",
    "    file.close()\n",
    "corpus_final = []\n",
    "for group in corpus:\n",
    "    group = [i for i in group if i!='\\n']\n",
    "    for i in range(len(group)):  \n",
    "        group[i] = group[i].rstrip('\\n')\n",
    "    l=0\n",
    "    aux=''\n",
    "    while(l!=len(group)):\n",
    "        aux += (' ' + group[l])\n",
    "        l=l+1\n",
    "    corpus_final.append(aux)"
   ]
  },
  {
   "cell_type": "markdown",
   "metadata": {
    "id": "lFY1e8x1Q5Ic"
   },
   "source": [
    "###Превращение текстов из строк в листы"
   ]
  },
  {
   "cell_type": "code",
   "execution_count": null,
   "metadata": {
    "id": "_4ixfPV1Q-e8"
   },
   "outputs": [],
   "source": [
    "import gensim\n",
    "\n",
    "def sent_to_words(sentences):\n",
    "    for sentence in sentences:\n",
    "        yield(gensim.utils.simple_preprocess(str(sentence), min_len=1, max_len=100))"
   ]
  },
  {
   "cell_type": "code",
   "execution_count": null,
   "metadata": {
    "id": "U3tErlFaOmA4"
   },
   "outputs": [],
   "source": [
    "data_words = list(sent_to_words(corpus_final))"
   ]
  },
  {
   "cell_type": "markdown",
   "metadata": {
    "id": "AakNgc3EUlrs"
   },
   "source": [
    "###Лемматизация"
   ]
  },
  {
   "cell_type": "code",
   "execution_count": null,
   "metadata": {
    "id": "4tRD2oflU8AU"
   },
   "outputs": [],
   "source": [
    "import spacy\n",
    "nlp = spacy.load(\"en_core_web_sm\", disable=['parser', 'ner'])\n",
    "\n",
    "def lemmatization(texts):\n",
    "    \"\"\"https://spacy.io/api/annotation\"\"\"\n",
    "    texts_out = []\n",
    "    for sent in texts:\n",
    "        doc = nlp(\" \".join(sent)) \n",
    "        texts_out.append(\" \".join([token.lemma_ for token in doc]))\n",
    "    return texts_out\n",
    "\n",
    "# Initialize spacy 'en' model, keeping only tagger component (for efficiency)\n",
    "# Run in terminal: python3 -m spacy download en\n",
    "#nlp = spacy.load('en_core_web_sm', disable=['parser', 'ner'])\n",
    "\n",
    "nlp.max_length = 1000000000"
   ]
  },
  {
   "cell_type": "code",
   "execution_count": null,
   "metadata": {
    "id": "R3XUyMTAWj5k"
   },
   "outputs": [],
   "source": [
    "data_lemmatized = lemmatization(data_words)"
   ]
  },
  {
   "cell_type": "markdown",
   "metadata": {
    "id": "mi1uV3ro1aWZ"
   },
   "source": [
    "###Сохранение файла с текстами"
   ]
  },
  {
   "cell_type": "code",
   "execution_count": null,
   "metadata": {
    "id": "oyHw25C81-9i"
   },
   "outputs": [],
   "source": [
    "english_corpus_file = open('/content/drive/My Drive/ProjectSygma/texts/english_corpus.txt', 'w')\n",
    "for item in english_corpus:\n",
    "    english_corpus_file.write(\"%s\\n\" % item)\n",
    "english_corpus_file.close()"
   ]
  },
  {
   "cell_type": "markdown",
   "metadata": {
    "id": "3h602P3F1ztc"
   },
   "source": [
    "###Загрузка файла с текстами"
   ]
  },
  {
   "cell_type": "code",
   "execution_count": null,
   "metadata": {
    "id": "Ohb3Wi851ztf"
   },
   "outputs": [],
   "source": [
    "english_corpus = []\n",
    "english_corpus_file = open('/content/drive/My Drive/ProjectSygma/texts/english_corpus.txt', 'r')\n",
    "for item in english_corpus_file:\n",
    "    english_corpus.append(item[:-1])\n",
    "english_corpus_file.close()"
   ]
  },
  {
   "cell_type": "markdown",
   "metadata": {
    "id": "KdY24afMV0zc"
   },
   "source": [
    "###Создание матрицы слова-тексты"
   ]
  },
  {
   "cell_type": "code",
   "execution_count": null,
   "metadata": {
    "id": "n6g-50niWMsQ"
   },
   "outputs": [],
   "source": [
    "from sklearn.feature_extraction.text import CountVectorizer\n",
    "\n",
    "vectorizer = CountVectorizer(analyzer='word',       \n",
    "                             min_df=3,\n",
    "                             lowercase=True,\n",
    "                             token_pattern='[a-zA-z0-9]{1,}'\n",
    "                            )\n",
    "\n",
    "data_vectorized = vectorizer.fit_transform(english_corpus)\n",
    "A = data_vectorized.toarray()\n",
    "A = A.astype(float)"
   ]
  },
  {
   "cell_type": "markdown",
   "metadata": {
    "id": "Wgp4z6xYWZPX"
   },
   "source": [
    "###Сохранение словаря"
   ]
  },
  {
   "cell_type": "code",
   "execution_count": null,
   "metadata": {
    "id": "d9sJovAkWhD9"
   },
   "outputs": [],
   "source": [
    "english_dictionary = vectorizer.get_feature_names()\n",
    "english_dictionary_file = open('/content/drive/My Drive/ProjectSygma/dictionaries/english_dictionary.txt', 'w')\n",
    "for item in english_dictionary:\n",
    "    english_dictionary_file.write(\"%s\\n\" % item)\n",
    "english_dictionary_file.close()"
   ]
  },
  {
   "cell_type": "markdown",
   "metadata": {
    "id": "NIb2GOKUW6e9"
   },
   "source": [
    "### Вычисление SVD-разложения (k - размерность центральной матрицы)"
   ]
  },
  {
   "cell_type": "code",
   "execution_count": null,
   "metadata": {
    "id": "uy163XAoXB6w"
   },
   "outputs": [],
   "source": []
  },
  {
   "cell_type": "markdown",
   "metadata": {
    "id": "6O8It2fgXNUS"
   },
   "source": [
    "### Сохранение результатов(в файле eng_vtk.txt лежит нужная матрица, вместо k подставить число)"
   ]
  },
  {
   "cell_type": "code",
   "execution_count": null,
   "metadata": {
    "id": "yyFgfGugXSdI"
   },
   "outputs": [],
   "source": [
    "from scipy.sparse.linalg import svds\n",
    "\n",
    "for k in range(1, 13):\n",
    "    u, s, vt = svds(A, k=k)\n",
    "\n",
    "    #s1 = s.tolist()\n",
    "    #u1 = u.tolist()\n",
    "    vt1 = vt.tolist()\n",
    "    vt1_tr = list(map(list, zip(*vt1)))\n",
    "    #f1 = open('/content/drive/My Drive/ProjectSygma/tables/' + 'eng_s' + str(k) + '.txt', 'w')\n",
    "    #f2 = open('/content/drive/My Drive/ProjectSygma/tables/' + 'eng_u' + str(k) + '.txt', 'w')\n",
    "    #f3 = open('/content/drive/My Drive/ProjectSygma/tables/' + 'eng_vt' + str(k) + '.txt', 'w')\n",
    "    f4 = open('/content/drive/My Drive/ProjectSygma/tables/' + 'eng_vt_tr' + str(k) + '.txt', 'w')\n",
    "\n",
    "    #for line in s1:\n",
    "    #    f1.write(\"%s \" % line)\n",
    "    #for line in u1:\n",
    "    #    for row in line:\n",
    "    #        f2.write(\"%s \" % row)\n",
    "    #    f2.write('\\n') \n",
    "    #for line in vt1:\n",
    "    #    for row in line:\n",
    "    #        f3.write(\"%s \" % row)\n",
    "    #    f3.write('\\n') \n",
    "    for line in vt1_tr:\n",
    "        for row in line:\n",
    "            f4.write(\"%s \" % row)\n",
    "        f4.write('\\n') \n",
    "    #f1.close()\n",
    "    #f2.close()\n",
    "    #f3.close()\n",
    "    f4.close()"
   ]
  }
 ],
 "metadata": {
  "colab": {
   "collapsed_sections": [
    "UEfMC5IEvfA1"
   ],
   "name": "PS_make_russian_and_english_corpuses.ipynb",
   "provenance": []
  },
  "kernelspec": {
   "display_name": "Python 3",
   "language": "python",
   "name": "python3"
  },
  "language_info": {
   "codemirror_mode": {
    "name": "ipython",
    "version": 3
   },
   "file_extension": ".py",
   "mimetype": "text/x-python",
   "name": "python",
   "nbconvert_exporter": "python",
   "pygments_lexer": "ipython3",
   "version": "3.7.3"
  },
  "toc": {
   "base_numbering": 1,
   "nav_menu": {},
   "number_sections": true,
   "sideBar": true,
   "skip_h1_title": false,
   "title_cell": "Table of Contents",
   "title_sidebar": "Contents",
   "toc_cell": false,
   "toc_position": {},
   "toc_section_display": true,
   "toc_window_display": false
  }
 },
 "nbformat": 4,
 "nbformat_minor": 1
}
