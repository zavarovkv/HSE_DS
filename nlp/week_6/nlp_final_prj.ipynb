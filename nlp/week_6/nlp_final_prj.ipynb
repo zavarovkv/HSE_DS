{
  "nbformat": 4,
  "nbformat_minor": 0,
  "metadata": {
    "colab": {
      "name": "nlp-final-prj.ipynb",
      "provenance": [],
      "collapsed_sections": [
        "9HCFNuvR-epo"
      ]
    },
    "kernelspec": {
      "name": "python3",
      "display_name": "Python 3"
    },
    "language_info": {
      "name": "python"
    }
  },
  "cells": [
    {
      "cell_type": "markdown",
      "metadata": {
        "id": "9HCFNuvR-epo"
      },
      "source": [
        "# Description of the final project"
      ]
    },
    {
      "cell_type": "markdown",
      "metadata": {
        "id": "IhR8FJec9L70"
      },
      "source": [
        "## Introduction\n",
        "\n",
        "This project is devoted to the question-answering task. You are going to work with the **BoolQ** dataset from SuperGLUE .\n",
        "\n",
        "BoolQ is a question answering dataset for yes/no. \n",
        "\n",
        "Each example is a triplet of (question, passage, answer), with the title of the page as optional additional context. The dataset release consists of three `.jsonl` files (`train, val, test`), where each line is a JSON dictionary with the following format:\n",
        "\n",
        "    Example:\n",
        "    \n",
        "    {\n",
        "      \"question\": \"is france the same timezone as the uk\",\n",
        "      \"passage\": \"At the Liberation of France in the summer of 1944, Metropolitan France kept GMT+2 as it was the time then used by the Allies (British Double Summer Time). In the winter of 1944--1945, Metropolitan France switched to GMT+1, same as in the United Kingdom, and switched again to GMT+2 in April 1945 like its British ally. In September 1945, Metropolitan France returned to GMT+1 (pre-war summer time), which the British had already done in July 1945. Metropolitan France was officially scheduled to return to GMT+0 on November 18, 1945 (the British returned to GMT+0 in on October 7, 1945), but the French government canceled the decision on November 5, 1945, and GMT+1 has since then remained the official time of Metropolitan France.\"\n",
        "      \"answer\": false,\n",
        "      \"title\": \"Time in France\",\n",
        "    }\n",
        "\n",
        "For this project you will need only `train` and `val` parts.\n",
        "\n",
        "Dataset is available here: https://dl.fbaipublicfiles.com/glue/superglue/data/v2/BoolQ.zip\n",
        "\n",
        "Detailed task description is available here: https://arxiv.org/abs/1905.10044\n",
        "\n",
        "## Bonus for those, who want to work with Russian\n",
        "\n",
        "For those who want to work with Russian data there is an option to use **DaNetQA** dataset (instead of BoolQ) from Russsian SuperGLUE. The dataset is organised similarly to BoolQ.\n",
        "\n",
        "You may download data from here: https://russiansuperglue.com/tasks/download/DaNetQA\n",
        "\n",
        "Detailed task description is available here: https://arxiv.org/abs/2010.02605\n",
        "\n",
        "\n",
        "**Note:** note that you should take only one dataset (either BoolQ or DanetQA). There are no bonus points for solving both tasks.\n",
        "\n"
      ]
    },
    {
      "cell_type": "markdown",
      "metadata": {
        "id": "yLJgLCis-VlQ"
      },
      "source": [
        "# 1. Data analysis"
      ]
    },
    {
      "cell_type": "markdown",
      "metadata": {
        "id": "hIyOLRLsg_TK"
      },
      "source": [
        "### Download DB to Google Disk Storage"
      ]
    },
    {
      "cell_type": "code",
      "metadata": {
        "id": "ZrWlwGG3-IT2"
      },
      "source": [
        "from google.colab import drive\n",
        "\n",
        "\n",
        "drive.mount('/content/drive')"
      ],
      "execution_count": null,
      "outputs": []
    },
    {
      "cell_type": "code",
      "metadata": {
        "id": "r1ChmAJot6fu"
      },
      "source": [
        "!wget -P drive/MyDrive/nlp/DaNetQA https://russiansuperglue.com/tasks/download/DaNetQA\n",
        "!unzip drive/MyDrive/nlp/DaNetQA/DaNetQA -d drive/MyDrive/nlp/DaNetQA/"
      ],
      "execution_count": null,
      "outputs": []
    },
    {
      "cell_type": "code",
      "metadata": {
        "colab": {
          "base_uri": "https://localhost:8080/",
          "height": 173
        },
        "id": "iJK8o_NohQxM",
        "outputId": "a4895361-4f4e-432a-d82f-b2b55384e2f9"
      },
      "source": [
        "# Read DaNetQA to Dataframes (train && validation)\n",
        "\n",
        "import pandas as pd\n",
        "\n",
        "\n",
        "f_dir = 'drive/MyDrive/nlp/DaNetQA'\n",
        "\n",
        "f_train_path = f'{f_dir}/train.jsonl'\n",
        "f_val_path = f'{f_dir}/val.jsonl'\n",
        "\n",
        "train_df = pd.read_json(f_train_path, lines=True)\n",
        "train_df.set_index('idx',inplace=True)\n",
        "\n",
        "val_df = pd.read_json(f_val_path, lines=True)\n",
        "val_df.set_index('idx',inplace=True)\n",
        "\n",
        "train_df.head(3)"
      ],
      "execution_count": 4,
      "outputs": [
        {
          "output_type": "execute_result",
          "data": {
            "text/html": [
              "<div>\n",
              "<style scoped>\n",
              "    .dataframe tbody tr th:only-of-type {\n",
              "        vertical-align: middle;\n",
              "    }\n",
              "\n",
              "    .dataframe tbody tr th {\n",
              "        vertical-align: top;\n",
              "    }\n",
              "\n",
              "    .dataframe thead th {\n",
              "        text-align: right;\n",
              "    }\n",
              "</style>\n",
              "<table border=\"1\" class=\"dataframe\">\n",
              "  <thead>\n",
              "    <tr style=\"text-align: right;\">\n",
              "      <th></th>\n",
              "      <th>question</th>\n",
              "      <th>passage</th>\n",
              "      <th>label</th>\n",
              "    </tr>\n",
              "    <tr>\n",
              "      <th>idx</th>\n",
              "      <th></th>\n",
              "      <th></th>\n",
              "      <th></th>\n",
              "    </tr>\n",
              "  </thead>\n",
              "  <tbody>\n",
              "    <tr>\n",
              "      <th>0</th>\n",
              "      <td>Вднх - это выставочный центр?</td>\n",
              "      <td>«Вы́ставочный центр» — станция Московского мон...</td>\n",
              "      <td>True</td>\n",
              "    </tr>\n",
              "    <tr>\n",
              "      <th>1</th>\n",
              "      <td>Вднх - это выставочный центр?</td>\n",
              "      <td>Вы́ставка достиже́ний наро́дного хозя́йства  ,...</td>\n",
              "      <td>True</td>\n",
              "    </tr>\n",
              "    <tr>\n",
              "      <th>2</th>\n",
              "      <td>Был ли джиган в black star?</td>\n",
              "      <td>Вместе с этим треком они выступили на церемони...</td>\n",
              "      <td>True</td>\n",
              "    </tr>\n",
              "  </tbody>\n",
              "</table>\n",
              "</div>"
            ],
            "text/plain": [
              "                          question  ... label\n",
              "idx                                 ...      \n",
              "0    Вднх - это выставочный центр?  ...  True\n",
              "1    Вднх - это выставочный центр?  ...  True\n",
              "2      Был ли джиган в black star?  ...  True\n",
              "\n",
              "[3 rows x 3 columns]"
            ]
          },
          "metadata": {},
          "execution_count": 4
        }
      ]
    },
    {
      "cell_type": "markdown",
      "metadata": {
        "id": "lT80lQHAhJEG"
      },
      "source": [
        "## Calculate basic statistics"
      ]
    },
    {
      "cell_type": "code",
      "metadata": {
        "colab": {
          "base_uri": "https://localhost:8080/"
        },
        "id": "31XomVe_gPJ8",
        "outputId": "103cb422-ea71-46b7-9eb4-8d3a7a77f642"
      },
      "source": [
        "# Example\n",
        "\n",
        "sample = train_df.sample(n=1)\n",
        "\n",
        "id = sample.index.item()\n",
        "question = sample['question'].item()\n",
        "passage = sample['passage'].item()\n",
        "label = sample['label'].item()\n",
        "\n",
        "print('Example:\\n')\n",
        "print(f'id:\\t\\t{id}\\nquestion:\\t{question}\\npassage:\\t{passage}\\nlabel:\\t\\t{label}')"
      ],
      "execution_count": 5,
      "outputs": [
        {
          "output_type": "stream",
          "text": [
            "Example:\n",
            "\n",
            "id:\t\t253\n",
            "question:\tПередается ли еврейство по отцу?\n",
            "passage:\tНегалахические евреи — граждане Израиля еврейского происхождения, не признаваемые государством как евреи на основе религиозного закона Галаха. В Израиле, в соответствии с Галахой, принадлежность к еврейству определяется по матери. Начиная с 2010 года, любой, кто иммигрировал в Израиль после 1990 года и желает вступить в брак или развестись по еврейской традиции, должен пройти «тест на еврейство» в еврейском религиозном суде. Во многих других государствах молодые люди, имеющие родителей разных национальностей, имеют возможность выбрать национальность любого из родителей исходя из личных предпочтений. Вследствие этого множество граждан других государств, считающих себя или числящихся по личным документам евреями в странах исхода, в Израиле таковыми не считаются.\n",
            "label:\t\tFalse\n"
          ],
          "name": "stdout"
        }
      ]
    },
    {
      "cell_type": "code",
      "metadata": {
        "colab": {
          "base_uri": "https://localhost:8080/",
          "height": 350
        },
        "id": "NEZpZWJXVFHI",
        "outputId": "be65f46b-7f92-46c5-86b7-193f1a18253a"
      },
      "source": [
        "# Look for target class (answer) distribution with a bar plot\n",
        "\n",
        "import seaborn as sns\n",
        "\n",
        "\n",
        "red = '#EC7063'\n",
        "green = '#52BE80'\n",
        "blue = '#5DADE2'\n",
        "\n",
        "sns.countplot(train_df['label'], palette=[green, red])"
      ],
      "execution_count": 6,
      "outputs": [
        {
          "output_type": "stream",
          "text": [
            "/usr/local/lib/python3.7/dist-packages/seaborn/_decorators.py:43: FutureWarning: Pass the following variable as a keyword arg: x. From version 0.12, the only valid positional argument will be `data`, and passing other arguments without an explicit keyword will result in an error or misinterpretation.\n",
            "  FutureWarning\n"
          ],
          "name": "stderr"
        },
        {
          "output_type": "execute_result",
          "data": {
            "text/plain": [
              "<matplotlib.axes._subplots.AxesSubplot at 0x7fd705ad7790>"
            ]
          },
          "metadata": {},
          "execution_count": 6
        },
        {
          "output_type": "display_data",
          "data": {
            "image/png": "[encoded data removed]",
            "text/plain": [
              "<Figure size 432x288 with 1 Axes>"
            ]
          },
          "metadata": {
            "needs_background": "light"
          }
        }
      ]
    },
    {
      "cell_type": "code",
      "metadata": {
        "id": "uV4z17TNwcb8"
      },
      "source": [
        "# Prepare for tokenize text in the dataframe records\n",
        "\n",
        "import string\n",
        "import nltk\n",
        "\n",
        "from nltk.corpus import stopwords\n",
        "from nltk.tokenize import sent_tokenize\n",
        "from nltk.tokenize import word_tokenize\n",
        "\n",
        "\n",
        "nltk.download('punkt')\n",
        "nltk.download('stopwords')\n",
        "nltk.download('averaged_perceptron_tagger')\n",
        "\n",
        "\n",
        "def tokenize(text):\n",
        "    tokens = word_tokenize(text)\n",
        "    tokens = [i for i in tokens if (i not in string.punctuation)]\n",
        "    \n",
        "    # deleting stop_words\n",
        "    stop_words = stopwords.words('russian')\n",
        "    stop_words.extend(['что', 'это', 'так', 'вот', 'быть', 'как', 'в', '—', '–', 'к', 'на', '...'])\n",
        "    tokens = [i for i in tokens if (i not in stop_words)]\n",
        "    \n",
        "    # cleaning words\n",
        "    tokens = [i.replace('«', '').replace('»', '') for i in tokens]\n",
        "    tokens = [i.lower() for i in tokens if i != '']\n",
        "    \n",
        "    return tokens\n",
        "\n",
        "\n",
        "def tokenize_sent(text):\n",
        "    sentences = [tokenize(sent) for sent in sent_tokenize(text, 'russian')]\n",
        "    return sentences\n"
      ],
      "execution_count": null,
      "outputs": []
    },
    {
      "cell_type": "code",
      "metadata": {
        "colab": {
          "base_uri": "https://localhost:8080/",
          "height": 261
        },
        "id": "DQdBFoj55djW",
        "outputId": "1822edb8-a8ae-4d47-92b5-019a18554654"
      },
      "source": [
        "# Do tokenize\n",
        "\n",
        "train_df['tokenized_question'] = train_df['question'].apply(tokenize_sent)\n",
        "train_df['tokenized_passage'] = train_df['passage'].apply(tokenize_sent)\n",
        "\n",
        "val_df['tokenized_question'] = val_df['question'].apply(tokenize_sent)\n",
        "val_df['tokenized_passage'] = val_df['passage'].apply(tokenize_sent)\n",
        "\n",
        "train_df['question_cnt_sent'] = train_df['tokenized_question'].apply(lambda x: len(x))\n",
        "train_df['question_cnt_tokens'] = train_df['tokenized_question'].apply(lambda x: sum([len(i) for i in x]))\n",
        "\n",
        "train_df['passage_cnt_sent'] = train_df['tokenized_passage'].apply(lambda x: len(x))\n",
        "train_df['passage_cnt_tokens'] = train_df['tokenized_passage'].apply(lambda x: sum([len(i) for i in x]))\n",
        "\n",
        "train_df.head(2)"
      ],
      "execution_count": 8,
      "outputs": [
        {
          "output_type": "execute_result",
          "data": {
            "text/html": [
              "<div>\n",
              "<style scoped>\n",
              "    .dataframe tbody tr th:only-of-type {\n",
              "        vertical-align: middle;\n",
              "    }\n",
              "\n",
              "    .dataframe tbody tr th {\n",
              "        vertical-align: top;\n",
              "    }\n",
              "\n",
              "    .dataframe thead th {\n",
              "        text-align: right;\n",
              "    }\n",
              "</style>\n",
              "<table border=\"1\" class=\"dataframe\">\n",
              "  <thead>\n",
              "    <tr style=\"text-align: right;\">\n",
              "      <th></th>\n",
              "      <th>question</th>\n",
              "      <th>passage</th>\n",
              "      <th>label</th>\n",
              "      <th>tokenized_question</th>\n",
              "      <th>tokenized_passage</th>\n",
              "      <th>question_cnt_sent</th>\n",
              "      <th>question_cnt_tokens</th>\n",
              "      <th>passage_cnt_sent</th>\n",
              "      <th>passage_cnt_tokens</th>\n",
              "    </tr>\n",
              "    <tr>\n",
              "      <th>idx</th>\n",
              "      <th></th>\n",
              "      <th></th>\n",
              "      <th></th>\n",
              "      <th></th>\n",
              "      <th></th>\n",
              "      <th></th>\n",
              "      <th></th>\n",
              "      <th></th>\n",
              "      <th></th>\n",
              "    </tr>\n",
              "  </thead>\n",
              "  <tbody>\n",
              "    <tr>\n",
              "      <th>0</th>\n",
              "      <td>Вднх - это выставочный центр?</td>\n",
              "      <td>«Вы́ставочный центр» — станция Московского мон...</td>\n",
              "      <td>True</td>\n",
              "      <td>[[вднх, выставочный, центр]]</td>\n",
              "      <td>[[вы́ставочный, центр, станция, московского, м...</td>\n",
              "      <td>1</td>\n",
              "      <td>3</td>\n",
              "      <td>5</td>\n",
              "      <td>50</td>\n",
              "    </tr>\n",
              "    <tr>\n",
              "      <th>1</th>\n",
              "      <td>Вднх - это выставочный центр?</td>\n",
              "      <td>Вы́ставка достиже́ний наро́дного хозя́йства  ,...</td>\n",
              "      <td>True</td>\n",
              "      <td>[[вднх, выставочный, центр]]</td>\n",
              "      <td>[[вы́ставка, достиже́ний, наро́дного, хозя́йст...</td>\n",
              "      <td>1</td>\n",
              "      <td>3</td>\n",
              "      <td>6</td>\n",
              "      <td>100</td>\n",
              "    </tr>\n",
              "  </tbody>\n",
              "</table>\n",
              "</div>"
            ],
            "text/plain": [
              "                          question  ... passage_cnt_tokens\n",
              "idx                                 ...                   \n",
              "0    Вднх - это выставочный центр?  ...                 50\n",
              "1    Вднх - это выставочный центр?  ...                100\n",
              "\n",
              "[2 rows x 9 columns]"
            ]
          },
          "metadata": {},
          "execution_count": 8
        }
      ]
    },
    {
      "cell_type": "code",
      "metadata": {
        "colab": {
          "base_uri": "https://localhost:8080/",
          "height": 128
        },
        "id": "Ps8NkgquxOVH",
        "outputId": "ab94a75b-4d4e-4e02-8b70-845b0267f218"
      },
      "source": [
        "# Statistics of tokens and sentences in question && passge records\n",
        "# like in the paper (https://arxiv.org/pdf/2010.02605.pdf) page 4\n",
        "\n",
        "q_data = train_df['question_cnt_tokens']\n",
        "p_data = train_df['passage_cnt_tokens']\n",
        "\n",
        "stat_df = pd.DataFrame(\n",
        "    {'Count': [q_data.sum(), p_data.sum()], \n",
        "     'Mean': [round(q_data.mean(), 2), round(p_data.mean(), 2)],\n",
        "     'Min': [q_data.min(), p_data.min()], \n",
        "     '25%': [q_data.quantile(q=0.25), p_data.quantile(q=0.25)],\n",
        "     '50%': [q_data.quantile(q=0.5), p_data.quantile(q=0.5)],\n",
        "     '75%': [q_data.quantile(q=0.75), p_data.quantile(q=0.75)],\n",
        "     '95%': [q_data.quantile(q=0.95), p_data.quantile(q=0.95)],\n",
        "     'Max': [q_data.max(), p_data.max()]},\n",
        "     index=['Questions', 'Paragraphs']\n",
        ")\n",
        "\n",
        "print('Descriptive statistics of collected question/paragraph pairs (in tokens)')\n",
        "stat_df"
      ],
      "execution_count": 9,
      "outputs": [
        {
          "output_type": "stream",
          "text": [
            "Descriptive statistics of collected question/paragraph pairs (in tokens)\n"
          ],
          "name": "stdout"
        },
        {
          "output_type": "execute_result",
          "data": {
            "text/html": [
              "<div>\n",
              "<style scoped>\n",
              "    .dataframe tbody tr th:only-of-type {\n",
              "        vertical-align: middle;\n",
              "    }\n",
              "\n",
              "    .dataframe tbody tr th {\n",
              "        vertical-align: top;\n",
              "    }\n",
              "\n",
              "    .dataframe thead th {\n",
              "        text-align: right;\n",
              "    }\n",
              "</style>\n",
              "<table border=\"1\" class=\"dataframe\">\n",
              "  <thead>\n",
              "    <tr style=\"text-align: right;\">\n",
              "      <th></th>\n",
              "      <th>Count</th>\n",
              "      <th>Mean</th>\n",
              "      <th>Min</th>\n",
              "      <th>25%</th>\n",
              "      <th>50%</th>\n",
              "      <th>75%</th>\n",
              "      <th>95%</th>\n",
              "      <th>Max</th>\n",
              "    </tr>\n",
              "  </thead>\n",
              "  <tbody>\n",
              "    <tr>\n",
              "      <th>Questions</th>\n",
              "      <td>7874</td>\n",
              "      <td>4.50</td>\n",
              "      <td>2</td>\n",
              "      <td>3.0</td>\n",
              "      <td>4.0</td>\n",
              "      <td>5.0</td>\n",
              "      <td>9.0</td>\n",
              "      <td>21</td>\n",
              "    </tr>\n",
              "    <tr>\n",
              "      <th>Paragraphs</th>\n",
              "      <td>131102</td>\n",
              "      <td>74.96</td>\n",
              "      <td>35</td>\n",
              "      <td>56.0</td>\n",
              "      <td>68.0</td>\n",
              "      <td>84.0</td>\n",
              "      <td>130.0</td>\n",
              "      <td>346</td>\n",
              "    </tr>\n",
              "  </tbody>\n",
              "</table>\n",
              "</div>"
            ],
            "text/plain": [
              "             Count   Mean  Min   25%   50%   75%    95%  Max\n",
              "Questions     7874   4.50    2   3.0   4.0   5.0    9.0   21\n",
              "Paragraphs  131102  74.96   35  56.0  68.0  84.0  130.0  346"
            ]
          },
          "metadata": {},
          "execution_count": 9
        }
      ]
    },
    {
      "cell_type": "code",
      "metadata": {
        "colab": {
          "base_uri": "https://localhost:8080/",
          "height": 148
        },
        "id": "bpTwNHvjz9JV",
        "outputId": "7492869e-e19a-44da-c3a1-99e185684399"
      },
      "source": [
        "# Statistics of records in Train && validation Sets\n",
        "# like in the paper (https://arxiv.org/pdf/2010.02605.pdf) page 4\n",
        "\n",
        "stat_df = pd.DataFrame(\n",
        "    {'Size': [len(train_df), len(val_df)], \n",
        "     '#Yes': [\n",
        "              len(train_df[train_df['label'] == True]),\n",
        "              len(val_df[val_df['label'] == True])\n",
        "      ],\n",
        "      'Yes%': [\n",
        "               round(len(train_df[train_df['label'] == True]) /\n",
        "                     len(train_df), 2),\n",
        "               round(len(val_df[val_df['label'] == True]) /\n",
        "                     len(val_df), 2)\n",
        "      ],\n",
        "     '#No': [\n",
        "             len(train_df[train_df['label'] == False]),\n",
        "             len(val_df[val_df['label'] == False])\n",
        "      ],\n",
        "      'No%': [\n",
        "               round(len(train_df[train_df['label'] == False]) /\n",
        "                     len(train_df), 2),\n",
        "               round(len(val_df[val_df['label'] == False]) /\n",
        "                     len(val_df), 2)\n",
        "      ]},\n",
        "     index=['Train set', 'Val set']\n",
        ")\n",
        "\n",
        "print('The number of yes/no questions in Test and Val sets. Symbol # stands for the total number of yes (or no) questions and % stands for the ratio of yes (or no) questions in the dataset.')\n",
        "stat_df"
      ],
      "execution_count": 10,
      "outputs": [
        {
          "output_type": "stream",
          "text": [
            "The number of yes/no questions in Test and Val sets. Symbol # stands for the total number of yes (or no) questions and % stands for the ratio of yes (or no) questions in the dataset.\n"
          ],
          "name": "stdout"
        },
        {
          "output_type": "execute_result",
          "data": {
            "text/html": [
              "<div>\n",
              "<style scoped>\n",
              "    .dataframe tbody tr th:only-of-type {\n",
              "        vertical-align: middle;\n",
              "    }\n",
              "\n",
              "    .dataframe tbody tr th {\n",
              "        vertical-align: top;\n",
              "    }\n",
              "\n",
              "    .dataframe thead th {\n",
              "        text-align: right;\n",
              "    }\n",
              "</style>\n",
              "<table border=\"1\" class=\"dataframe\">\n",
              "  <thead>\n",
              "    <tr style=\"text-align: right;\">\n",
              "      <th></th>\n",
              "      <th>Size</th>\n",
              "      <th>#Yes</th>\n",
              "      <th>Yes%</th>\n",
              "      <th>#No</th>\n",
              "      <th>No%</th>\n",
              "    </tr>\n",
              "  </thead>\n",
              "  <tbody>\n",
              "    <tr>\n",
              "      <th>Train set</th>\n",
              "      <td>1749</td>\n",
              "      <td>1061</td>\n",
              "      <td>0.61</td>\n",
              "      <td>688</td>\n",
              "      <td>0.39</td>\n",
              "    </tr>\n",
              "    <tr>\n",
              "      <th>Val set</th>\n",
              "      <td>821</td>\n",
              "      <td>412</td>\n",
              "      <td>0.50</td>\n",
              "      <td>409</td>\n",
              "      <td>0.50</td>\n",
              "    </tr>\n",
              "  </tbody>\n",
              "</table>\n",
              "</div>"
            ],
            "text/plain": [
              "           Size  #Yes  Yes%  #No   No%\n",
              "Train set  1749  1061  0.61  688  0.39\n",
              "Val set     821   412  0.50  409  0.50"
            ]
          },
          "metadata": {},
          "execution_count": 10
        }
      ]
    },
    {
      "cell_type": "code",
      "metadata": {
        "colab": {
          "base_uri": "https://localhost:8080/",
          "height": 407
        },
        "id": "VJWyvd4SV_AI",
        "outputId": "16651c44-7631-4e81-da30-d25a690cd629"
      },
      "source": [
        "# Histogram of passgae sentences lengths\n",
        "\n",
        "import matplotlib.pyplot as plt\n",
        "\n",
        "\n",
        "def get_sentences_len_histogram(fig_size = (10,6), _class=None, color=blue):\n",
        "    f, ax = plt.subplots(figsize=fig_size)\n",
        "\n",
        "    if str(_class) == 'None':\n",
        "        text_len = train_df['passage_cnt_tokens']\n",
        "        ax.set_title('passage length')\n",
        "        ax.hist(text_len, color=color)\n",
        "    else:\n",
        "        text_len = train_df[train_df['label'] == _class]['passage_cnt_tokens']\n",
        "        ax.set_title(f'{_class} passage length ')\n",
        "        ax.hist(text_len, color=color)\n",
        "\n",
        "    return ax\n",
        "\n",
        "\n",
        "get_sentences_len_histogram()"
      ],
      "execution_count": 11,
      "outputs": [
        {
          "output_type": "execute_result",
          "data": {
            "text/plain": [
              "<matplotlib.axes._subplots.AxesSubplot at 0x7fd6fc4ba390>"
            ]
          },
          "metadata": {},
          "execution_count": 11
        },
        {
          "output_type": "display_data",
          "data": {
            "image/png": "[encoded data removed]",
            "text/plain": [
              "<Figure size 720x432 with 1 Axes>"
            ]
          },
          "metadata": {
            "needs_background": "light"
          }
        }
      ]
    },
    {
      "cell_type": "code",
      "metadata": {
        "colab": {
          "base_uri": "https://localhost:8080/",
          "height": 763
        },
        "id": "v9lThhFPbkd8",
        "outputId": "ff97a5cd-6335-4828-f1f0-6d00ddcceb9d"
      },
      "source": [
        "# Histogram of passgae sentences lengths by target value (answer)\n",
        "\n",
        "ax1 = get_sentences_len_histogram(_class=True, color=green)\n",
        "ax1 = get_sentences_len_histogram(_class=False, color=red)"
      ],
      "execution_count": 12,
      "outputs": [
        {
          "output_type": "display_data",
          "data": {
            "image/png": "[encoded data removed]",
            "text/plain": [
              "<Figure size 720x432 with 1 Axes>"
            ]
          },
          "metadata": {
            "needs_background": "light"
          }
        },
        {
          "output_type": "display_data",
          "data": {
            "image/png": "[encoded data removed]",
            "text/plain": [
              "<Figure size 720x432 with 1 Axes>"
            ]
          },
          "metadata": {
            "needs_background": "light"
          }
        }
      ]
    },
    {
      "cell_type": "code",
      "metadata": {
        "id": "UdVrDJj28bWR"
      },
      "source": [
        "# Statistics of tokens frequencies\n",
        "\n",
        "from collections import OrderedDict\n",
        "from operator import itemgetter\n",
        "\n",
        "\n",
        "dictionary = {}\n",
        "\n",
        "for _, sents in train_df['tokenized_question'].iteritems():\n",
        "    for sent in sents:\n",
        "        for token in sent:\n",
        "            cnt = dictionary.setdefault(token, 1) + 1\n",
        "            dictionary[token] = cnt\n",
        "\n",
        "sorted_dictionary = OrderedDict(sorted(dictionary.items(), key = itemgetter(1), reverse=True))"
      ],
      "execution_count": 13,
      "outputs": []
    },
    {
      "cell_type": "code",
      "metadata": {
        "colab": {
          "base_uri": "https://localhost:8080/",
          "height": 548
        },
        "id": "_E5HDn78_Wjc",
        "outputId": "07d9e997-79e1-4c2c-c1b2-030c37c49022"
      },
      "source": [
        "DICT_SIZE = 15\n",
        "VECTOR_SIZE = 300\n",
        "\n",
        "stat_df = pd.DataFrame(\n",
        "    {'Tokens': list(sorted_dictionary)[:DICT_SIZE], \n",
        "     'Frequency': list(sorted_dictionary.values())[:DICT_SIZE]}\n",
        ")\n",
        "\n",
        "print(f'Length of dictionary: {len(dictionary)}')\n",
        "print(f'TOP-{DICT_SIZE} tokens for Train set in questions && passage')\n",
        "stat_df"
      ],
      "execution_count": 14,
      "outputs": [
        {
          "output_type": "stream",
          "text": [
            "Length of dictionary: 4175\n",
            "TOP-15 tokens for Train set in questions && passage\n"
          ],
          "name": "stdout"
        },
        {
          "output_type": "execute_result",
          "data": {
            "text/html": [
              "<div>\n",
              "<style scoped>\n",
              "    .dataframe tbody tr th:only-of-type {\n",
              "        vertical-align: middle;\n",
              "    }\n",
              "\n",
              "    .dataframe tbody tr th {\n",
              "        vertical-align: top;\n",
              "    }\n",
              "\n",
              "    .dataframe thead th {\n",
              "        text-align: right;\n",
              "    }\n",
              "</style>\n",
              "<table border=\"1\" class=\"dataframe\">\n",
              "  <thead>\n",
              "    <tr style=\"text-align: right;\">\n",
              "      <th></th>\n",
              "      <th>Tokens</th>\n",
              "      <th>Frequency</th>\n",
              "    </tr>\n",
              "  </thead>\n",
              "  <tbody>\n",
              "    <tr>\n",
              "      <th>0</th>\n",
              "      <td>был</td>\n",
              "      <td>311</td>\n",
              "    </tr>\n",
              "    <tr>\n",
              "      <th>1</th>\n",
              "      <td>есть</td>\n",
              "      <td>188</td>\n",
              "    </tr>\n",
              "    <tr>\n",
              "      <th>2</th>\n",
              "      <td>была</td>\n",
              "      <td>149</td>\n",
              "    </tr>\n",
              "    <tr>\n",
              "      <th>3</th>\n",
              "      <td>были</td>\n",
              "      <td>105</td>\n",
              "    </tr>\n",
              "    <tr>\n",
              "      <th>4</th>\n",
              "      <td>входит</td>\n",
              "      <td>90</td>\n",
              "    </tr>\n",
              "    <tr>\n",
              "      <th>5</th>\n",
              "      <td>едят</td>\n",
              "      <td>49</td>\n",
              "    </tr>\n",
              "    <tr>\n",
              "      <th>6</th>\n",
              "      <td>правда</td>\n",
              "      <td>38</td>\n",
              "    </tr>\n",
              "    <tr>\n",
              "      <th>7</th>\n",
              "      <td>россии</td>\n",
              "      <td>38</td>\n",
              "    </tr>\n",
              "    <tr>\n",
              "      <th>8</th>\n",
              "      <td>ссср</td>\n",
              "      <td>35</td>\n",
              "    </tr>\n",
              "    <tr>\n",
              "      <th>9</th>\n",
              "      <td>является</td>\n",
              "      <td>33</td>\n",
              "    </tr>\n",
              "    <tr>\n",
              "      <th>10</th>\n",
              "      <td>разрешено</td>\n",
              "      <td>33</td>\n",
              "    </tr>\n",
              "    <tr>\n",
              "      <th>11</th>\n",
              "      <td>может</td>\n",
              "      <td>30</td>\n",
              "    </tr>\n",
              "    <tr>\n",
              "      <th>12</th>\n",
              "      <td>можно</td>\n",
              "      <td>29</td>\n",
              "    </tr>\n",
              "    <tr>\n",
              "      <th>13</th>\n",
              "      <td>передается</td>\n",
              "      <td>28</td>\n",
              "    </tr>\n",
              "    <tr>\n",
              "      <th>14</th>\n",
              "      <td>бывает</td>\n",
              "      <td>27</td>\n",
              "    </tr>\n",
              "  </tbody>\n",
              "</table>\n",
              "</div>"
            ],
            "text/plain": [
              "        Tokens  Frequency\n",
              "0          был        311\n",
              "1         есть        188\n",
              "2         была        149\n",
              "3         были        105\n",
              "4       входит         90\n",
              "5         едят         49\n",
              "6       правда         38\n",
              "7       россии         38\n",
              "8         ссср         35\n",
              "9     является         33\n",
              "10   разрешено         33\n",
              "11       может         30\n",
              "12       можно         29\n",
              "13  передается         28\n",
              "14      бывает         27"
            ]
          },
          "metadata": {},
          "execution_count": 14
        }
      ]
    },
    {
      "cell_type": "markdown",
      "metadata": {
        "id": "TDseRLB_7-2F"
      },
      "source": [
        "# 2. Pretrained embeddings as features for classifier"
      ]
    },
    {
      "cell_type": "markdown",
      "metadata": {
        "id": "0dN6yInUCKFT"
      },
      "source": [
        "2.1 (5%) Take pre-trained word2vec or fastText embeddings and vectorize your data using them.\n",
        "Note: you may use any pre-trained embeddings available on the Internet. For example, for English you may take GoogleNews vectors, which are available here: https://www.kaggle.com/leadbest/googlenewsvectorsnegative300 . For the Russian language you may choose one of the models from RusVectores (https://rusvectores.org/ru/models/)."
      ]
    },
    {
      "cell_type": "code",
      "metadata": {
        "id": "XbY4x67WIwQO"
      },
      "source": [
        "# Downloading pretraining model from https://rusvectores.org/ru/models/\n",
        "\n",
        "!wget -P drive/MyDrive/nlp/model http://vectors.nlpl.eu/repository/20/180.zip\n",
        "!unzip drive/MyDrive/nlp/model/180.zip -d drive/MyDrive/nlp/model"
      ],
      "execution_count": null,
      "outputs": []
    },
    {
      "cell_type": "code",
      "metadata": {
        "id": "EGpZWKXoBs-g"
      },
      "source": [
        "!pip install --upgrade gensim --user\n",
        "!pip install fasttext"
      ],
      "execution_count": null,
      "outputs": []
    },
    {
      "cell_type": "code",
      "metadata": {
        "id": "vk9RccYFHRKW"
      },
      "source": [
        "import numpy as np\n",
        "from gensim import models\n",
        "\n",
        "\n",
        "model_path = '/content/drive/MyDrive/nlp/model/model.bin'\n",
        "wv_model = models.KeyedVectors.load_word2vec_format(model_path, binary=True)"
      ],
      "execution_count": 16,
      "outputs": []
    },
    {
      "cell_type": "code",
      "metadata": {
        "id": "JMmq2EdNZonk"
      },
      "source": [
        "# Function for victorize text (list of tokens)\n",
        "\n",
        "def flatten_doc(doc):\n",
        "    flatten = [x for b in doc for x in b]\n",
        "    return flatten\n",
        "\n",
        "\n",
        "def document_vector(model, doc):\n",
        "    doc = flatten_doc(doc)\n",
        "\n",
        "    # Because word2vec model has words with postfix as part of speach,\n",
        "    # for example: 'слово_NOUN'\n",
        "    docs = [word + '_NOUN' for word in doc if word + '_NOUN' in model]\n",
        "\n",
        "    if len(docs) > 0:\n",
        "        vector = np.mean(model[docs], axis=0)\n",
        "    else:\n",
        "        vector = np.zeros(VECTOR_SIZE)\n",
        "\n",
        "    return vector"
      ],
      "execution_count": 17,
      "outputs": []
    },
    {
      "cell_type": "code",
      "metadata": {
        "id": "Hqwegp2seI55"
      },
      "source": [
        "# Convert values in label (bool-answers) from bool -> int\n",
        "\n",
        "train_df['target'] = train_df['label'].astype(int)\n",
        "val_df['target'] = val_df['label'].astype(int)"
      ],
      "execution_count": 18,
      "outputs": []
    },
    {
      "cell_type": "code",
      "metadata": {
        "colab": {
          "base_uri": "https://localhost:8080/",
          "height": 363
        },
        "id": "c5mBcxWsbMaY",
        "outputId": "b36690a8-6ce6-45a1-a931-dedc94874524"
      },
      "source": [
        "# Vectorize question and passage texts\n",
        "\n",
        "train_df['question_vector'] = train_df['tokenized_question'].apply(lambda x: document_vector(wv_model, x))\n",
        "train_df['passage_vector'] = train_df['tokenized_passage'].apply(lambda x: document_vector(wv_model, x))\n",
        "\n",
        "val_df['question_vector'] = val_df['tokenized_question'].apply(lambda x: document_vector(wv_model, x))\n",
        "val_df['passage_vector'] = val_df['tokenized_passage'].apply(lambda x: document_vector(wv_model, x))\n",
        "\n",
        "\n",
        "train_df.head(3)"
      ],
      "execution_count": 19,
      "outputs": [
        {
          "output_type": "execute_result",
          "data": {
            "text/html": [
              "<div>\n",
              "<style scoped>\n",
              "    .dataframe tbody tr th:only-of-type {\n",
              "        vertical-align: middle;\n",
              "    }\n",
              "\n",
              "    .dataframe tbody tr th {\n",
              "        vertical-align: top;\n",
              "    }\n",
              "\n",
              "    .dataframe thead th {\n",
              "        text-align: right;\n",
              "    }\n",
              "</style>\n",
              "<table border=\"1\" class=\"dataframe\">\n",
              "  <thead>\n",
              "    <tr style=\"text-align: right;\">\n",
              "      <th></th>\n",
              "      <th>question</th>\n",
              "      <th>passage</th>\n",
              "      <th>label</th>\n",
              "      <th>tokenized_question</th>\n",
              "      <th>tokenized_passage</th>\n",
              "      <th>question_cnt_sent</th>\n",
              "      <th>question_cnt_tokens</th>\n",
              "      <th>passage_cnt_sent</th>\n",
              "      <th>passage_cnt_tokens</th>\n",
              "      <th>target</th>\n",
              "      <th>question_vector</th>\n",
              "      <th>passage_vector</th>\n",
              "    </tr>\n",
              "    <tr>\n",
              "      <th>idx</th>\n",
              "      <th></th>\n",
              "      <th></th>\n",
              "      <th></th>\n",
              "      <th></th>\n",
              "      <th></th>\n",
              "      <th></th>\n",
              "      <th></th>\n",
              "      <th></th>\n",
              "      <th></th>\n",
              "      <th></th>\n",
              "      <th></th>\n",
              "      <th></th>\n",
              "    </tr>\n",
              "  </thead>\n",
              "  <tbody>\n",
              "    <tr>\n",
              "      <th>0</th>\n",
              "      <td>Вднх - это выставочный центр?</td>\n",
              "      <td>«Вы́ставочный центр» — станция Московского мон...</td>\n",
              "      <td>True</td>\n",
              "      <td>[[вднх, выставочный, центр]]</td>\n",
              "      <td>[[вы́ставочный, центр, станция, московского, м...</td>\n",
              "      <td>1</td>\n",
              "      <td>3</td>\n",
              "      <td>5</td>\n",
              "      <td>50</td>\n",
              "      <td>1</td>\n",
              "      <td>[-2.5274274, 1.4573482, -1.0101535, -0.5003862...</td>\n",
              "      <td>[-0.38997227, -0.11845597, 0.14628886, 0.20173...</td>\n",
              "    </tr>\n",
              "    <tr>\n",
              "      <th>1</th>\n",
              "      <td>Вднх - это выставочный центр?</td>\n",
              "      <td>Вы́ставка достиже́ний наро́дного хозя́йства  ,...</td>\n",
              "      <td>True</td>\n",
              "      <td>[[вднх, выставочный, центр]]</td>\n",
              "      <td>[[вы́ставка, достиже́ний, наро́дного, хозя́йст...</td>\n",
              "      <td>1</td>\n",
              "      <td>3</td>\n",
              "      <td>6</td>\n",
              "      <td>100</td>\n",
              "      <td>1</td>\n",
              "      <td>[-2.5274274, 1.4573482, -1.0101535, -0.5003862...</td>\n",
              "      <td>[-0.37122914, 0.0024830045, 0.4176636, 0.21560...</td>\n",
              "    </tr>\n",
              "    <tr>\n",
              "      <th>2</th>\n",
              "      <td>Был ли джиган в black star?</td>\n",
              "      <td>Вместе с этим треком они выступили на церемони...</td>\n",
              "      <td>True</td>\n",
              "      <td>[[был, джиган, black, star]]</td>\n",
              "      <td>[[вместе, этим, треком, выступили, церемонии, ...</td>\n",
              "      <td>1</td>\n",
              "      <td>4</td>\n",
              "      <td>5</td>\n",
              "      <td>65</td>\n",
              "      <td>1</td>\n",
              "      <td>[0.0, 0.0, 0.0, 0.0, 0.0, 0.0, 0.0, 0.0, 0.0, ...</td>\n",
              "      <td>[0.606972, -0.0048395, 0.3137106, 0.02318198, ...</td>\n",
              "    </tr>\n",
              "  </tbody>\n",
              "</table>\n",
              "</div>"
            ],
            "text/plain": [
              "                          question  ...                                     passage_vector\n",
              "idx                                 ...                                                   \n",
              "0    Вднх - это выставочный центр?  ...  [-0.38997227, -0.11845597, 0.14628886, 0.20173...\n",
              "1    Вднх - это выставочный центр?  ...  [-0.37122914, 0.0024830045, 0.4176636, 0.21560...\n",
              "2      Был ли джиган в black star?  ...  [0.606972, -0.0048395, 0.3137106, 0.02318198, ...\n",
              "\n",
              "[3 rows x 12 columns]"
            ]
          },
          "metadata": {},
          "execution_count": 19
        }
      ]
    },
    {
      "cell_type": "markdown",
      "metadata": {
        "id": "P5nDrLtIh3NS"
      },
      "source": [
        "2.2 (15%) Use pretrained embeddings as features to a classifier. Train SVM, Linear Regression or any other classification model. Describe and analyze your results (use accuracy metric and data from val.jsonl for evaluation of your results)."
      ]
    },
    {
      "cell_type": "code",
      "metadata": {
        "id": "iw8nzDCMkDJY"
      },
      "source": [
        "# Do train && test sets for LR classifier\n",
        "\n",
        "X_train = list(train_df.apply(lambda x: list(x.question_vector) + list(x.passage_vector), axis=1))\n",
        "y_train = list(train_df['target'])\n",
        "\n",
        "X_test = list(val_df.apply(lambda x: np.array(list(x.question_vector) + list(x.passage_vector)), axis=1))\n",
        "y_test = list(val_df['target'].values)"
      ],
      "execution_count": 20,
      "outputs": []
    },
    {
      "cell_type": "code",
      "metadata": {
        "id": "eHR9C-xMo4hr"
      },
      "source": [
        "# Train SVM for classification\n",
        "\n",
        "import sklearn.metrics as metrics\n",
        "import matplotlib.pyplot as plt\n",
        "\n",
        "from sklearn.svm import SVC\n",
        "\n",
        "\n",
        "svc = SVC(C=1.0, random_state=1, kernel='linear')\n",
        "svc.fit(X_train, y_train)\n",
        "\n",
        "y_pred = svc.predict(X_test)"
      ],
      "execution_count": 21,
      "outputs": []
    },
    {
      "cell_type": "code",
      "metadata": {
        "colab": {
          "base_uri": "https://localhost:8080/"
        },
        "id": "l1-Yy4ffo4pw",
        "outputId": "dec47c6d-6277-4052-96d4-47ec084ca10a"
      },
      "source": [
        "# Measure the performance\n",
        "\n",
        "accuracy = metrics.accuracy_score(y_test, y_pred)\n",
        "mse = metrics.mean_squared_error(y_test, y_pred)\n",
        "average_precision = metrics.average_precision_score(y_test, y_pred)\n",
        "\n",
        "print(f'Accuracy score {round(accuracy, 3)}')\n",
        "print(f'Mean Squared Error {round(mse, 3)}')\n",
        "print(f'Average precision-recall score: {round(average_precision, 3)}')"
      ],
      "execution_count": 22,
      "outputs": [
        {
          "output_type": "stream",
          "text": [
            "Accuracy score 0.592\n",
            "Mean Squared Error 0.408\n",
            "Average precision-recall score: 0.554\n"
          ],
          "name": "stdout"
        }
      ]
    },
    {
      "cell_type": "code",
      "metadata": {
        "colab": {
          "base_uri": "https://localhost:8080/",
          "height": 279
        },
        "id": "JbR0dP-Fs9aw",
        "outputId": "0fb62aee-54f9-400d-e894-e81d41071a75"
      },
      "source": [
        "# Calculate roc curves\n",
        "\n",
        "fpr, tpr, thresholds = metrics.roc_curve(y_test, y_pred)\n",
        "\n",
        "# plot the roc curve for the model\n",
        "plt.plot([0,1], [0,1], linestyle='--', label='No Skill')\n",
        "plt.plot(fpr, tpr, marker='.', label='Linear Regression')\n",
        "\n",
        "# axis labels\n",
        "plt.xlabel('False Positive Rate')\n",
        "plt.ylabel('True Positive Rate')\n",
        "plt.legend()\n",
        "plt.show()"
      ],
      "execution_count": 23,
      "outputs": [
        {
          "output_type": "display_data",
          "data": {
            "image/png": "[encoded data removed]",
            "text/plain": [
              "<Figure size 432x288 with 1 Axes>"
            ]
          },
          "metadata": {
            "needs_background": "light"
          }
        }
      ]
    },
    {
      "cell_type": "markdown",
      "metadata": {
        "id": "sjZIbqAOzpel"
      },
      "source": [
        "2.3 (5%) Instead of word2vec or fastText embeddings get BERT embeddings from the train dataset and vectorize your data.\n",
        "Note: you may use any of the BERT-like models from hugging face (https://huggingface.co/) library. For example, you may use bert-base-multilingual-cased (https://huggingface.co/bert-base-multilingual-cased)."
      ]
    },
    {
      "cell_type": "code",
      "metadata": {
        "id": "y3AFIaMQvmhh"
      },
      "source": [
        "# Install Torch && Transformers libs\n",
        "\n",
        "!pip install transformers\n",
        "!pip install torch torchvision"
      ],
      "execution_count": null,
      "outputs": []
    },
    {
      "cell_type": "code",
      "metadata": {
        "id": "9HmyUXrws9gn"
      },
      "source": [
        "# Model loading\n",
        "# I used this pretrained BERT-model https://huggingface.co/bert-base-multilingual-cased\n",
        "\n",
        "import torch\n",
        "import transformers\n",
        "from transformers import BertTokenizer, BertModel, BertForQuestionAnswering\n",
        "\n",
        "\n",
        "tokenizer = BertTokenizer.from_pretrained('bert-base-multilingual-cased', do_lower_case=True)\n",
        "\n",
        "device = torch.device('cuda' if torch.cuda.is_available() else 'cpu')\n",
        "\n",
        "model = BertModel.from_pretrained('bert-base-multilingual-cased')\n",
        "model.to(device)"
      ],
      "execution_count": null,
      "outputs": []
    },
    {
      "cell_type": "code",
      "metadata": {
        "colab": {
          "base_uri": "https://localhost:8080/"
        },
        "id": "K--Ga1Yg2n1Z",
        "outputId": "bf61168d-61a9-4453-cba4-637d96719a49"
      },
      "source": [
        "# Check BERT tokenizer in one simple example\n",
        "\n",
        "text_exmpl = 'Пример текста для проверки токенизации.'\n",
        "\n",
        "print('Original: ', text_exmpl)\n",
        "print('Tokenized: ', tokenizer.tokenize(text_exmpl))\n",
        "print('Token IDs: ', tokenizer.convert_tokens_to_ids(tokenizer.tokenize(text_exmpl)))"
      ],
      "execution_count": 48,
      "outputs": [
        {
          "output_type": "stream",
          "text": [
            "Original:  Пример текста для проверки токенизации.\n",
            "Tokenized:  ['пример', 'текста', 'для', 'про', '##вер', '##ки', 'ток', '##ени', '##зации', '.']\n",
            "Token IDs:  [32725, 77572, 10520, 12709, 32418, 10648, 84964, 15065, 33917, 119]\n"
          ],
          "name": "stdout"
        }
      ]
    },
    {
      "cell_type": "code",
      "metadata": {
        "id": "fs0IPW1Lm2dU"
      },
      "source": [
        "from sklearn.base import TransformerMixin, BaseEstimator\n",
        "from typing import Callable, List, Optional, Tuple\n",
        "\n",
        "\n",
        "class BertTransformer(BaseEstimator, TransformerMixin):\n",
        "    def __init__(\n",
        "            self,\n",
        "            bert_tokenizer,\n",
        "            bert_model,\n",
        "            max_length: int = 60,\n",
        "            embedding_func: Optional[Callable[[torch.tensor], torch.tensor]] = None,\n",
        "    ):\n",
        "        self.tokenizer = bert_tokenizer\n",
        "        self.model = bert_model\n",
        "        self.model.eval()\n",
        "        self.max_length = max_length\n",
        "        self.embedding_func = embedding_func\n",
        "\n",
        "        if self.embedding_func is None:\n",
        "            self.embedding_func = lambda x: x[0][:, 0, :].squeeze()\n",
        "\n",
        "    def _tokenize(self, question: str, passage: str) -> Tuple[torch.tensor, torch.tensor]:\n",
        "        # Tokenize the text with the provided tokenizer\n",
        "        encoded_data = self.tokenizer.encode_plus(question, \n",
        "                                                  passage,\n",
        "                                                  add_special_tokens=True,\n",
        "                                                  max_length=self.max_length,\n",
        "                                                  padding='max_length',\n",
        "                                                  truncation=True\n",
        "                                                  )\n",
        "        \n",
        "        encoded_pair = encoded_data['input_ids']\n",
        "        attention_mask = encoded_data['attention_mask']\n",
        "\n",
        "        # bert takes in a batch so we need to unsqueeze the rows\n",
        "        return (\n",
        "            torch.tensor(encoded_pair).unsqueeze(0),\n",
        "            torch.tensor(attention_mask).unsqueeze(0),\n",
        "        )\n",
        "\n",
        "    def _tokenize_and_predict(self, question: str, passage: str) -> torch.tensor:\n",
        "        tokenized, attention_mask = self._tokenize(question, passage)\n",
        "        embeddings = self.model(tokenized, attention_mask)\n",
        "        \n",
        "        return self.embedding_func(embeddings)\n",
        "\n",
        "    def transform(self, data: tuple):\n",
        "        with torch.no_grad():\n",
        "            return torch.stack([self._tokenize_and_predict(question, passage) for question, passage in data])\n",
        "\n",
        "    def fit(self, X, y=None):\n",
        "        \"\"\"No fitting necessary so we just return ourselves\"\"\"\n",
        "        return self"
      ],
      "execution_count": 40,
      "outputs": []
    },
    {
      "cell_type": "code",
      "metadata": {
        "id": "UiB6SHr8yVnb"
      },
      "source": [
        "# Do train && test sets for classifier\n",
        "\n",
        "X_train = zip(list(train_df['question']), list(train_df['passage']))\n",
        "y_train = list(train_df['target'])\n",
        "\n",
        "X_test = zip(list(val_df['question']), list(val_df['passage']))\n",
        "y_test = list(val_df['target'])"
      ],
      "execution_count": 41,
      "outputs": []
    },
    {
      "cell_type": "markdown",
      "metadata": {
        "id": "5r60lWgiz7PR"
      },
      "source": [
        "2.4 (15%) Similarly to 2.1, train SVM, Linear Regression or any other classification model using BERT embeddings as features for a classifier. Describe and analyze your results (use accuracy metric and data from val.jsonl for evaluation of your results)."
      ]
    },
    {
      "cell_type": "code",
      "metadata": {
        "id": "oPNumUN6nm9S"
      },
      "source": [
        "# Fit the model && predict\n",
        "\n",
        "from sklearn.pipeline import Pipeline\n",
        "from sklearn import svm\n",
        "\n",
        "\n",
        "bert_transformer = BertTransformer(tokenizer, model)\n",
        "\n",
        "classifier = svm.LinearSVC(C=1.0, class_weight='balanced')\n",
        "\n",
        "model = Pipeline(\n",
        "    [\n",
        "        (\"vectorizer\", bert_transformer),\n",
        "        (\"classifier\", classifier),\n",
        "    ]\n",
        ")"
      ],
      "execution_count": 42,
      "outputs": []
    },
    {
      "cell_type": "code",
      "metadata": {
        "id": "7yqozdvmzIyV"
      },
      "source": [
        "model.fit(X_train, y_train)"
      ],
      "execution_count": null,
      "outputs": []
    },
    {
      "cell_type": "code",
      "metadata": {
        "id": "f1YhbqYfrkcS"
      },
      "source": [
        "y_pred = model.predict(X_test)"
      ],
      "execution_count": 45,
      "outputs": []
    },
    {
      "cell_type": "code",
      "metadata": {
        "colab": {
          "base_uri": "https://localhost:8080/"
        },
        "id": "HAA4fDtSrvaX",
        "outputId": "d3662288-cf57-42b1-d051-657fd0e44b6a"
      },
      "source": [
        "# Measure the performance\n",
        "\n",
        "accuracy = metrics.accuracy_score(y_test, y_pred)\n",
        "mse = metrics.mean_squared_error(y_test, y_pred)\n",
        "average_precision = metrics.average_precision_score(y_test, y_pred)\n",
        "\n",
        "print(f'Accuracy score {round(accuracy, 3)}')\n",
        "print(f'Mean Squared Error {round(mse, 3)}')\n",
        "print(f'Average precision-recall score: {round(average_precision, 3)}')"
      ],
      "execution_count": 46,
      "outputs": [
        {
          "output_type": "stream",
          "text": [
            "Accuracy score 0.559\n",
            "Mean Squared Error 0.441\n",
            "Average precision-recall score: 0.534\n"
          ],
          "name": "stdout"
        }
      ]
    },
    {
      "cell_type": "code",
      "metadata": {
        "colab": {
          "base_uri": "https://localhost:8080/",
          "height": 279
        },
        "id": "sh43XibrrviK",
        "outputId": "e7c2e1f0-4d4e-4f67-b50e-5556d3e24730"
      },
      "source": [
        "# Calculate roc curves\n",
        "\n",
        "fpr, tpr, thresholds = metrics.roc_curve(y_test, y_pred)\n",
        "\n",
        "# plot the roc curve for the model\n",
        "plt.plot([0,1], [0,1], linestyle='--', label='No Skill')\n",
        "plt.plot(fpr, tpr, marker='.', label='Bert SVM')\n",
        "\n",
        "# axis labels\n",
        "plt.xlabel('False Positive Rate')\n",
        "plt.ylabel('True Positive Rate')\n",
        "plt.legend()\n",
        "plt.show()"
      ],
      "execution_count": 56,
      "outputs": [
        {
          "output_type": "display_data",
          "data": {
            "image/png": "[encoded data removed]",
            "text/plain": [
              "<Figure size 432x288 with 1 Axes>"
            ]
          },
          "metadata": {
            "needs_background": "light"
          }
        }
      ]
    },
    {
      "cell_type": "markdown",
      "metadata": {
        "id": "gLv9OrgiF_uL"
      },
      "source": [
        "# [40%] 3. Fine-tune BERT"
      ]
    },
    {
      "cell_type": "markdown",
      "metadata": {
        "id": "qGCGJ328GDKY"
      },
      "source": [
        "3.1 (10%) Split the data from train.jsonl into train and dev (dev_size = 10%) . Tokenize and format the data (do not forget about the [SEP] token)."
      ]
    },
    {
      "cell_type": "code",
      "metadata": {
        "colab": {
          "base_uri": "https://localhost:8080/"
        },
        "id": "Q9lXwO3TGWtV",
        "outputId": "c6160bae-f225-4bb8-ded2-d124945a81bc"
      },
      "source": [
        "# Split the data from train.jsonl into train and dev (dev_size = 10%)\n",
        "\n",
        "from sklearn.model_selection import train_test_split\n",
        "\n",
        "\n",
        "train_data, dev_data = train_test_split(train_df, test_size=0.1)\n",
        "\n",
        "passages_train = train_data['passage'].values\n",
        "questions_train = train_data['question'].values\n",
        "answers_train = train_data['label'].values.astype(int)\n",
        "\n",
        "passages_dev = dev_data['passage'].values\n",
        "questions_dev = dev_data['question'].values\n",
        "answers_dev = dev_data['label'].values.astype(int)\n",
        "\n",
        "print(f'Size of Train set: {len(train_data)}\\nSize of Dev set: {len(dev_data)}')"
      ],
      "execution_count": 49,
      "outputs": [
        {
          "output_type": "stream",
          "text": [
            "Size of Train set: 1574\n",
            "Size of Dev set: 175\n"
          ],
          "name": "stdout"
        }
      ]
    },
    {
      "cell_type": "code",
      "metadata": {
        "id": "ZY7EfWxlJTgh"
      },
      "source": [
        "from transformers import AutoTokenizer\n",
        "\n",
        "\n",
        "tokenizer = AutoTokenizer.from_pretrained('bert-base-multilingual-cased')"
      ],
      "execution_count": 50,
      "outputs": []
    },
    {
      "cell_type": "code",
      "metadata": {
        "id": "btS7BacT3Sfp"
      },
      "source": [
        "# Encode the question/passage pairs into features than can be fed to the model\n",
        "\n",
        "def encode_data(tokenizer, questions, passages, max_length):\n",
        "    input_ids = []\n",
        "    attention_masks = []\n",
        "\n",
        "    for question, passage in zip(questions, passages):\n",
        "        encoded_data = tokenizer.encode_plus(question, passage, max_length=max_length, padding='max_length', truncation=True)\n",
        "        encoded_pair = encoded_data['input_ids']\n",
        "        attention_mask = encoded_data['attention_mask']\n",
        "\n",
        "        input_ids.append(encoded_pair)\n",
        "        attention_masks.append(attention_mask)\n",
        "\n",
        "    return np.array(input_ids), np.array(attention_masks)"
      ],
      "execution_count": 51,
      "outputs": []
    },
    {
      "cell_type": "code",
      "metadata": {
        "id": "DSbmyUQiJoCd"
      },
      "source": [
        "# Vectorize data\n",
        "\n",
        "max_seq_length = 128 #256\n",
        "\n",
        "input_ids_train, attention_masks_train = encode_data(tokenizer, questions_train, passages_train, max_seq_length)\n",
        "input_ids_dev, attention_masks_dev = encode_data(tokenizer, questions_dev, passages_dev, max_seq_length)\n",
        "\n",
        "train_features = (input_ids_train, attention_masks_train, answers_train)\n",
        "dev_features = (input_ids_dev, attention_masks_dev, answers_dev)"
      ],
      "execution_count": 52,
      "outputs": []
    },
    {
      "cell_type": "markdown",
      "metadata": {
        "id": "GzvpDpIXGITn"
      },
      "source": [
        "3.2 (10%) Initialize the model, optimizer and learning rate scheduler. Explain your choice of the parameters."
      ]
    },
    {
      "cell_type": "code",
      "metadata": {
        "id": "HHGsQ7WUGXcR"
      },
      "source": [
        "from transformers import AutoModelForSequenceClassification, AdamW\n",
        "\n",
        "\n",
        "device = torch.device('cuda' if torch.cuda.is_available() else 'cpu')\n",
        "\n",
        "model = AutoModelForSequenceClassification.from_pretrained('bert-base-multilingual-cased')\n",
        "model.to(device)\n",
        "\n",
        "epochs = 3\n",
        "grad_acc_steps = 1\n",
        "train_loss_values = []\n",
        "dev_acc_values = []\n",
        "\n",
        "learning_rate = 1e-5\n",
        "optimizer = AdamW(model.parameters(), lr=learning_rate, eps=1e-8)"
      ],
      "execution_count": null,
      "outputs": []
    },
    {
      "cell_type": "markdown",
      "metadata": {
        "id": "cWi2NParGKCJ"
      },
      "source": [
        "3.3 (10%) Write a training loop and fine-tune BERT. Do to forget about evaluation on dev set created in 3.1.\n",
        "Note: you may use one of the tutorials for fine-tuning BERT, but you have to provide a link to it. For example, you may use this one: https://mccormickml.com/2019/07/22/BERT-fine-tuning/"
      ]
    },
    {
      "cell_type": "code",
      "metadata": {
        "id": "dhJdfBNvKp70"
      },
      "source": [
        "# Building Dataloaders\n",
        "# One more tutorial: https://medium.com/illuin/deep-learning-has-almost-all-the-answers-yes-no-question-answering-with-transformers-223bebb70189\n",
        "\n",
        "from tqdm import tqdm\n",
        "from torch.utils.data import TensorDataset, DataLoader, RandomSampler, SequentialSampler\n",
        "\n",
        "\n",
        "batch_size = 32\n",
        "\n",
        "train_features_tensors = [torch.tensor(feature, dtype=torch.long) for feature in train_features]\n",
        "dev_features_tensors = [torch.tensor(feature, dtype=torch.long) for feature in dev_features]\n",
        "\n",
        "train_dataset = TensorDataset(*train_features_tensors)\n",
        "dev_dataset = TensorDataset(*dev_features_tensors)\n",
        "\n",
        "train_sampler = RandomSampler(train_dataset)\n",
        "dev_sampler = SequentialSampler(dev_dataset)\n",
        "\n",
        "train_dataloader = DataLoader(train_dataset, sampler=train_sampler, batch_size=batch_size)\n",
        "dev_dataloader = DataLoader(dev_dataset, sampler=dev_sampler, batch_size=batch_size)"
      ],
      "execution_count": 54,
      "outputs": []
    },
    {
      "cell_type": "code",
      "metadata": {
        "colab": {
          "base_uri": "https://localhost:8080/"
        },
        "id": "uzKr_Xj_GaSt",
        "outputId": "94773fb6-3a2f-49ea-d4c1-1531cc894559"
      },
      "source": [
        "# Training the model\n",
        "\n",
        "for _ in tqdm(range(epochs), desc='Epoch'):\n",
        "    # Training\n",
        "    epoch_train_loss = 0\n",
        "    model.train()\n",
        "    model.zero_grad()\n",
        "    \n",
        "    for step, batch in enumerate(train_dataloader):\n",
        "      \n",
        "        input_ids = batch[0].to(device)\n",
        "        attention_masks = batch[1].to(device)\n",
        "        labels = batch[2].to(device)\n",
        "        \n",
        "        outputs = model(input_ids, token_type_ids=None, attention_mask=attention_masks, labels=labels)\n",
        "        \n",
        "        loss = outputs[0]\n",
        "        loss = loss / grad_acc_steps\n",
        "        epoch_train_loss += loss.item()\n",
        "        \n",
        "        loss.backward()\n",
        "        \n",
        "        if (step+1) % grad_acc_steps == 0:\n",
        "            torch.nn.utils.clip_grad_norm_(model.parameters(), 1.0)\n",
        "            optimizer.step()\n",
        "            model.zero_grad()\n",
        "            \n",
        "    epoch_train_loss = epoch_train_loss / len(train_dataloader)\n",
        "    train_loss_values.append(epoch_train_loss)\n",
        "    \n",
        "    # Evaluation\n",
        "    epoch_dev_accuracy = 0 # Cumulative accuracy\n",
        "    model.eval()\n",
        "    \n",
        "    for batch in dev_dataloader:\n",
        "      \n",
        "        input_ids = batch[0].to(device)\n",
        "        attention_masks = batch[1].to(device)\n",
        "        labels = batch[2]\n",
        "\n",
        "        with torch.no_grad():        \n",
        "            outputs = model(input_ids, token_type_ids=None, attention_mask=attention_masks)\n",
        "                        \n",
        "        logits = outputs[0]\n",
        "        logits = logits.detach().cpu().numpy()\n",
        "        \n",
        "        predictions = np.argmax(logits, axis=1).flatten()\n",
        "        labels = labels.numpy().flatten()\n",
        "    \n",
        "        epoch_dev_accuracy += np.sum(predictions == labels) / len(labels)\n",
        "\n",
        "    epoch_dev_accuracy = epoch_dev_accuracy / len(dev_dataloader)\n",
        "    dev_acc_values.append(epoch_dev_accuracy)"
      ],
      "execution_count": 55,
      "outputs": [
        {
          "output_type": "stream",
          "text": [
            "Epoch: 100%|██████████| 3/3 [1:39:59<00:00, 1999.98s/it]\n"
          ],
          "name": "stderr"
        }
      ]
    },
    {
      "cell_type": "code",
      "metadata": {
        "id": "USTxpzKtMyMW"
      },
      "source": [
        "# Save the model\n",
        "\n",
        "torch.save(model, f'{f_dir}/model')"
      ],
      "execution_count": 57,
      "outputs": []
    },
    {
      "cell_type": "code",
      "metadata": {
        "id": "Hq_yif8PNHNW"
      },
      "source": [
        "# Load the model\n",
        "\n",
        "model = torch.load(f'{f_dir}/model')"
      ],
      "execution_count": null,
      "outputs": []
    },
    {
      "cell_type": "code",
      "metadata": {
        "colab": {
          "base_uri": "https://localhost:8080/"
        },
        "id": "oNw8cYwQIjnP",
        "outputId": "c9864df2-d405-49b5-f7cb-6a2e754e5558"
      },
      "source": [
        "# Report the final accuracy for this validation run\n",
        "\n",
        "print(f'Accuracy: {round(epoch_dev_accuracy, 2)}')"
      ],
      "execution_count": 58,
      "outputs": [
        {
          "output_type": "stream",
          "text": [
            "Accuracy: 0.76\n"
          ],
          "name": "stdout"
        }
      ]
    },
    {
      "cell_type": "code",
      "metadata": {
        "id": "cLZ223tgGgH-",
        "colab": {
          "base_uri": "https://localhost:8080/",
          "height": 301
        },
        "outputId": "84b69841-3957-4617-ed2e-6443e26a3e84"
      },
      "source": [
        "sns.set()\n",
        "\n",
        "plt.plot(train_loss_values, label=\"train_loss\")\n",
        "\n",
        "plt.xlabel(\"Epoch\")\n",
        "plt.ylabel(\"Loss\")\n",
        "plt.title(\"Training Loss\")\n",
        "plt.legend()\n",
        "plt.xticks(np.arange(0, 2))\n",
        "plt.show()"
      ],
      "execution_count": 60,
      "outputs": [
        {
          "output_type": "display_data",
          "data": {
            "image/png": "[encoded data removed]",
            "text/plain": [
              "<Figure size 432x288 with 1 Axes>"
            ]
          },
          "metadata": {}
        }
      ]
    },
    {
      "cell_type": "code",
      "metadata": {
        "id": "cWNo9_v0GmJ-",
        "colab": {
          "base_uri": "https://localhost:8080/",
          "height": 301
        },
        "outputId": "56f1dca9-8019-4f05-8c24-96d09b7df705"
      },
      "source": [
        "plt.plot(dev_acc_values, label=\"dev_acc\")\n",
        "\n",
        "plt.xlabel(\"Epoch\")\n",
        "plt.ylabel(\"Accuracy\")\n",
        "plt.title(\"Evaluation Accuracy\")\n",
        "plt.legend()\n",
        "plt.xticks(np.arange(0, 2))\n",
        "plt.show()"
      ],
      "execution_count": 61,
      "outputs": [
        {
          "output_type": "display_data",
          "data": {
            "image/png": "[encoded data removed]",
            "text/plain": [
              "<Figure size 432x288 with 1 Axes>"
            ]
          },
          "metadata": {}
        }
      ]
    },
    {
      "cell_type": "markdown",
      "metadata": {
        "id": "TPR4f3LhGLhf"
      },
      "source": [
        "3.4 (10%) Make predictions for the test data (from val.jsonl), and analyze the results (use accuracy metric for scoring)."
      ]
    },
    {
      "cell_type": "code",
      "metadata": {
        "id": "fDyN-oEa_Wr1"
      },
      "source": [
        "# Vectorize val data\n",
        "\n",
        "passages_val = val_df['passage'].values\n",
        "questions_val = val_df['question'].values\n",
        "answers_val = val_df['target'].values.astype(int)\n",
        "\n",
        "input_ids_val, attention_masks_val = encode_data(tokenizer, questions_val, passages_val, max_seq_length)\n",
        "val_features = (input_ids_val, attention_masks_val, answers_val)\n",
        "\n",
        "val_features_tensors = [torch.tensor(feature, dtype=torch.long) for feature in val_features]\n",
        "val_dataset = TensorDataset(*val_features_tensors)\n",
        "val_sampler = RandomSampler(val_dataset)\n",
        "\n",
        "val_dataloader = DataLoader(val_dataset, sampler=val_sampler, batch_size=batch_size)"
      ],
      "execution_count": 62,
      "outputs": []
    },
    {
      "cell_type": "code",
      "metadata": {
        "id": "zw42SFqdJeqy"
      },
      "source": [
        "# Prediction on val set\n",
        "# I used this article https://mccormickml.com/2019/07/22/BERT-fine-tuning/ for prediction logics\n",
        "\n",
        "# Put model in evaluation mode\n",
        "model.eval()\n",
        "\n",
        "# Tracking variables \n",
        "predictions , true_labels = [], []\n",
        "\n",
        "# Predict \n",
        "for batch in val_dataloader:\n",
        "    batch = tuple(t.to(device) for t in batch)\n",
        "    \n",
        "    # Unpack the inputs from our dataloader\n",
        "    b_input_ids, b_input_mask, b_labels = batch\n",
        "    \n",
        "    # Telling the model not to compute or store gradients, saving memory and \n",
        "    # speeding up prediction\n",
        "    with torch.no_grad():\n",
        "        # Forward pass, calculate logit predictions\n",
        "        outputs = model(b_input_ids, token_type_ids=None, attention_mask=b_input_mask)\n",
        "\n",
        "    logits = outputs[0]\n",
        "\n",
        "    # Move logits and labels to CPU\n",
        "    logits = logits.detach().cpu().numpy()\n",
        "    label_ids = b_labels.to('cpu').numpy()\n",
        "    \n",
        "    # Store predictions and true labels\n",
        "    predictions.append(logits)\n",
        "    true_labels.append(label_ids)"
      ],
      "execution_count": 63,
      "outputs": []
    },
    {
      "cell_type": "code",
      "metadata": {
        "colab": {
          "base_uri": "https://localhost:8080/"
        },
        "id": "ndvwiqpfKOiZ",
        "outputId": "151699f0-12fd-4597-d51e-478b78565e4c"
      },
      "source": [
        "# We use MCC here because the classes are imbalanced:\n",
        "\n",
        "print('Positive samples: %d of %d (%.2f%%)' % (val_df['target'].sum(), len(val_df['target']), (val_df['target'].sum() / len(val_df['target']) * 100.0)))"
      ],
      "execution_count": 64,
      "outputs": [
        {
          "output_type": "stream",
          "text": [
            "Positive samples: 412 of 821 (50.18%)\n"
          ],
          "name": "stdout"
        }
      ]
    },
    {
      "cell_type": "code",
      "metadata": {
        "id": "0ZfhIKbWFIrI"
      },
      "source": [
        "from sklearn.metrics import matthews_corrcoef\n",
        "\n",
        "\n",
        "matthews_set = []\n",
        "\n",
        "# Evaluate each test batch using Matthew's correlation coefficient\n",
        "print('Calculating Matthews Corr. Coef. for each batch...')\n",
        "\n",
        "# For each input batch...\n",
        "for i in range(len(true_labels)):\n",
        "  \n",
        "  # The predictions for this batch are a 2-column ndarray (one column for \"0\" \n",
        "  # and one column for \"1\"). Pick the label with the highest value and turn this\n",
        "  # in to a list of 0s and 1s.\n",
        "  pred_labels_i = np.argmax(predictions[i], axis=1).flatten()\n",
        "  \n",
        "  # Calculate and store the coef for this batch.  \n",
        "  matthews = matthews_corrcoef(true_labels[i], pred_labels_i)                \n",
        "  matthews_set.append(matthews)"
      ],
      "execution_count": null,
      "outputs": []
    },
    {
      "cell_type": "code",
      "metadata": {
        "colab": {
          "base_uri": "https://localhost:8080/",
          "height": 301
        },
        "id": "hf85--i2LCat",
        "outputId": "99d27a3f-c092-423c-8bfe-de3aadd9ac00"
      },
      "source": [
        "# Create a barplot showing the MCC score for each batch of test samples.\n",
        "ax = sns.barplot(x=list(range(len(matthews_set))), y=matthews_set, ci=None)\n",
        "\n",
        "plt.title('MCC Score per Batch')\n",
        "plt.ylabel('MCC Score (-1 to +1)')\n",
        "plt.xlabel('Batch #')\n",
        "\n",
        "plt.show()"
      ],
      "execution_count": 66,
      "outputs": [
        {
          "output_type": "display_data",
          "data": {
            "image/png": "[encoded data removed]",
            "text/plain": [
              "<Figure size 432x288 with 1 Axes>"
            ]
          },
          "metadata": {}
        }
      ]
    },
    {
      "cell_type": "code",
      "metadata": {
        "colab": {
          "base_uri": "https://localhost:8080/"
        },
        "id": "xAcrj1Z6LDy2",
        "outputId": "2e36ac2b-aa36-49f9-dd97-162511dac269"
      },
      "source": [
        "# Combine the results across all batches. \n",
        "flat_predictions = np.concatenate(predictions, axis=0)\n",
        "\n",
        "# For each sample, pick the label (0 or 1) with the higher score.\n",
        "flat_predictions = np.argmax(flat_predictions, axis=1).flatten()\n",
        "\n",
        "# Combine the correct labels for each batch into a single list.\n",
        "flat_true_labels = np.concatenate(true_labels, axis=0)\n",
        "\n",
        "# Calculate the MCC\n",
        "mcc = matthews_corrcoef(flat_true_labels, flat_predictions)\n",
        "\n",
        "print(f'Total MCC: {round(mcc, 2)}')"
      ],
      "execution_count": 67,
      "outputs": [
        {
          "output_type": "stream",
          "text": [
            "Total MCC: 0.21\n"
          ],
          "name": "stdout"
        }
      ]
    },
    {
      "cell_type": "markdown",
      "metadata": {
        "id": "2MhRobZq_W-t"
      },
      "source": [
        "# [10%] 4. Summary & results analysis"
      ]
    },
    {
      "cell_type": "markdown",
      "metadata": {
        "id": "zNA8V_V3_dOp"
      },
      "source": [
        "I was surprised that BERT-embedded classifier showed result with low accuracy: less then simple linear regression classifier. Maybe I should have used another method for form vector for bert-model.\n",
        "\n",
        "It is so logical that the fine-tuned bert-model should return the best result among all used models, but I can't get it. But some optimization for model parameters (like Batch Size [16, 32], Epochs [2, 3, 4], Learning rate [5e-5, 3e-5, 2e-5]) can by optimized for even better results."
      ]
    }
  ]
}