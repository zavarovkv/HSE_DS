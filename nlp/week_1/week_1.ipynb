{
 "cells": [
  {
   "cell_type": "markdown",
   "metadata": {
    "id": "VVvNRcmhJIym"
   },
   "source": [
    "# Sentiment analysis of movie reviews\n"
   ]
  },
  {
   "cell_type": "markdown",
   "metadata": {},
   "source": [
    "This assignment is graded by your `submission.json` which is created by a cell below. To generate your submission file you need to fill the values of **GRADING_ANSWER** instance fields.\n",
    "\n",
    "You can press **\"Submit Assignment\"** at any time to submit partial progress."
   ]
  },
  {
   "cell_type": "code",
   "execution_count": 66,
   "metadata": {},
   "outputs": [],
   "source": [
    "from submit import Answer\n",
    "\n",
    "\n",
    "GRADING_ANSWER = Answer()\n",
    "GRADING_ANSWER.submit()"
   ]
  },
  {
   "cell_type": "markdown",
   "metadata": {},
   "source": [
    "## Tasks"
   ]
  },
  {
   "cell_type": "code",
   "execution_count": 67,
   "metadata": {
    "colab": {
     "base_uri": "https://localhost:8080/",
     "height": 206
    },
    "executionInfo": {
     "elapsed": 475,
     "status": "ok",
     "timestamp": 1623687262418,
     "user": {
      "displayName": "Karim Yusupov",
      "photoUrl": "",
      "userId": "01083797945558986906"
     },
     "user_tz": -180
    },
    "id": "SdgybQj8JIyp",
    "outputId": "81e27db7-d701-42b0-dbb1-a160ad4a345a"
   },
   "outputs": [
    {
     "data": {
      "text/html": [
       "<div>\n",
       "<style scoped>\n",
       "    .dataframe tbody tr th:only-of-type {\n",
       "        vertical-align: middle;\n",
       "    }\n",
       "\n",
       "    .dataframe tbody tr th {\n",
       "        vertical-align: top;\n",
       "    }\n",
       "\n",
       "    .dataframe thead th {\n",
       "        text-align: right;\n",
       "    }\n",
       "</style>\n",
       "<table border=\"1\" class=\"dataframe\">\n",
       "  <thead>\n",
       "    <tr style=\"text-align: right;\">\n",
       "      <th></th>\n",
       "      <th>sentiment</th>\n",
       "      <th>review</th>\n",
       "    </tr>\n",
       "  </thead>\n",
       "  <tbody>\n",
       "    <tr>\n",
       "      <th>0</th>\n",
       "      <td>1</td>\n",
       "      <td>With all this stuff going down at the moment w...</td>\n",
       "    </tr>\n",
       "    <tr>\n",
       "      <th>1</th>\n",
       "      <td>1</td>\n",
       "      <td>\\The Classic War of the Worlds\\\" by Timothy Hi...</td>\n",
       "    </tr>\n",
       "    <tr>\n",
       "      <th>2</th>\n",
       "      <td>0</td>\n",
       "      <td>The film starts with a manager (Nicholas Bell)...</td>\n",
       "    </tr>\n",
       "    <tr>\n",
       "      <th>3</th>\n",
       "      <td>0</td>\n",
       "      <td>It must be assumed that those who praised this...</td>\n",
       "    </tr>\n",
       "    <tr>\n",
       "      <th>4</th>\n",
       "      <td>1</td>\n",
       "      <td>Superbly trashy and wondrously unpretentious 8...</td>\n",
       "    </tr>\n",
       "  </tbody>\n",
       "</table>\n",
       "</div>"
      ],
      "text/plain": [
       "   sentiment                                             review\n",
       "0          1  With all this stuff going down at the moment w...\n",
       "1          1  \\The Classic War of the Worlds\\\" by Timothy Hi...\n",
       "2          0  The film starts with a manager (Nicholas Bell)...\n",
       "3          0  It must be assumed that those who praised this...\n",
       "4          1  Superbly trashy and wondrously unpretentious 8..."
      ]
     },
     "execution_count": 67,
     "metadata": {},
     "output_type": "execute_result"
    }
   ],
   "source": [
    "import pandas as pd\n",
    "import numpy as np\n",
    "\n",
    "\n",
    "data = pd.read_csv('sentiment.csv', index_col = 0)\n",
    "data.head()"
   ]
  },
  {
   "cell_type": "markdown",
   "metadata": {
    "id": "-CGHmoXeJIys"
   },
   "source": [
    "**Task 1 (1 points)**\n",
    "It seems that data contains some unnecessary HTML tags such as `<br />`, for example.\n",
    "\n",
    "Find all types of HTML tags (the types of expressions in brackets of the form `<...>`). \n",
    "\n",
    "\n",
    "How many different tag types are their in the data? What is the most frequent tag? \n",
    "\n",
    "Write your answer as a string separating tag_count and most popular tag by space. \n",
    "\n",
    "**Example answer:** `\"3 <p>\"`"
   ]
  },
  {
   "cell_type": "code",
   "execution_count": 68,
   "metadata": {},
   "outputs": [],
   "source": [
    "import re\n",
    "from collections import Counter\n",
    "\n"
   ]
  },
  {
   "cell_type": "code",
   "execution_count": 69,
   "metadata": {},
   "outputs": [],
   "source": [
    "data['tags'] = data.apply(lambda row: re.compile('<[^<>]+>').findall(row['review']), axis=1)"
   ]
  },
  {
   "cell_type": "code",
   "execution_count": 70,
   "metadata": {},
   "outputs": [],
   "source": [
    "def count_uniq(df):\n",
    "    result = {}\n",
    "\n",
    "    for _, item in df.iteritems():\n",
    "        for v in item:\n",
    "            if v in result:\n",
    "                result[v] += 1\n",
    "            else:\n",
    "                result[v] = 1\n",
    "\n",
    "    return result"
   ]
  },
  {
   "cell_type": "code",
   "execution_count": 71,
   "metadata": {},
   "outputs": [
    {
     "data": {
      "text/plain": [
       "['<br />', '<SPOILER>', '</SPOILER>']"
      ]
     },
     "execution_count": 71,
     "metadata": {},
     "output_type": "execute_result"
    }
   ],
   "source": [
    "tags = list(count_uniq(data['tags']).keys())\n",
    "tags"
   ]
  },
  {
   "cell_type": "code",
   "execution_count": 72,
   "metadata": {},
   "outputs": [],
   "source": [
    "ANSWER = '3 <br />'"
   ]
  },
  {
   "cell_type": "code",
   "execution_count": 73,
   "metadata": {
    "colab": {
     "base_uri": "https://localhost:8080/",
     "height": 36
    },
    "executionInfo": {
     "elapsed": 12,
     "status": "ok",
     "timestamp": 1623687270527,
     "user": {
      "displayName": "Karim Yusupov",
      "photoUrl": "",
      "userId": "01083797945558986906"
     },
     "user_tz": -180
    },
    "id": "BAHFqov6JIyt",
    "outputId": "695d6c34-7dd8-42e2-c5ec-1eb081c1ba94"
   },
   "outputs": [],
   "source": [
    "## GRADED PART, DO NOT CHANGE!\n",
    "GRADING_ANSWER.Q1 = ANSWER"
   ]
  },
  {
   "cell_type": "markdown",
   "metadata": {
    "id": "RKbtlmLeJIyu"
   },
   "source": [
    "**Task 2 (1 points)**\n",
    "\n",
    "Prepare your text. For this, replace tags from task 1 by spaces, remove multiple spaces (which may appear after tag removal), relace back slashes (`\\`) with zero string,  and lower the text and strip it using `text.strip()`.\n",
    "\n",
    "What is the mean number of unique characters in the review? \n",
    "\n",
    "Calculate number of unique characters in a string using `len(set(string))`.\n"
   ]
  },
  {
   "cell_type": "code",
   "execution_count": 74,
   "metadata": {},
   "outputs": [],
   "source": [
    "def clean_row(review):\n",
    "    \n",
    "    # Step 1. Replace tags from task 1 by spaces\n",
    "    r1 = review\n",
    "    for tag in tags:\n",
    "        r1 = r1.replace(tag, ' ')\n",
    "        \n",
    "    # Step 2. Remove multiple spaces\n",
    "    r2 = re.sub(' +', ' ', r1)\n",
    "    \n",
    "    # Step 3. Relace back slashes (\\) with zero string\n",
    "    r3 = r2.replace('\\\\', ' ')\n",
    "    \n",
    "    # Step 4. Lower the text\n",
    "    r4 = r3.lower()\n",
    "    \n",
    "    # Step 5. Remove spaces\n",
    "    r5 = r4.strip()\n",
    "    \n",
    "    return r5"
   ]
  },
  {
   "cell_type": "code",
   "execution_count": 75,
   "metadata": {
    "id": "TT15PjTsJIyu"
   },
   "outputs": [],
   "source": [
    "data['cleaned_reaview'] = data.apply(lambda row : clean_row(row['review']), axis = 1)"
   ]
  },
  {
   "cell_type": "code",
   "execution_count": 76,
   "metadata": {},
   "outputs": [],
   "source": [
    "total = 0\n",
    "\n",
    "for index, row in data.iterrows():\n",
    "    chars = len(set(row['cleaned_reaview']))\n",
    "    total += chars\n",
    "\n",
    "avg = total / len(data.index)"
   ]
  },
  {
   "cell_type": "code",
   "execution_count": 77,
   "metadata": {
    "colab": {
     "base_uri": "https://localhost:8080/"
    },
    "executionInfo": {
     "elapsed": 381,
     "status": "ok",
     "timestamp": 1623687280616,
     "user": {
      "displayName": "Karim Yusupov",
      "photoUrl": "",
      "userId": "01083797945558986906"
     },
     "user_tz": -180
    },
    "id": "qG0JYZTSJIyw",
    "outputId": "79905385-11c2-4d4d-c59b-9719b14c2786"
   },
   "outputs": [],
   "source": [
    "## GRADED PART, PUT YOUR ANSWER HERE\n",
    "GRADING_ANSWER.Q2 = avg"
   ]
  },
  {
   "cell_type": "markdown",
   "metadata": {
    "id": "9AY3zfS5JIyx"
   },
   "source": [
    "**Task 3 (1 point)**\n",
    "\n",
    "For sentiment analysis brackets may serve as a useful feature. Create feature counters for the number of positive smiles (opening brackets `)`) and for the negative smiles (opening brackets `(`) in the reviews. In the answer write a sum of their averages (`mean_positive + mean_negative`)."
   ]
  },
  {
   "cell_type": "code",
   "execution_count": 78,
   "metadata": {
    "id": "qbtlYDtpJIyx"
   },
   "outputs": [],
   "source": [
    "data['positive_count'] = data.apply(lambda row : row['review'].count(')'), axis = 1)\n",
    "data['negative_count'] = data.apply(lambda row : row['review'].count('('), axis = 1)"
   ]
  },
  {
   "cell_type": "code",
   "execution_count": 79,
   "metadata": {},
   "outputs": [],
   "source": [
    "mean_positive = data['positive_count'].sum(axis = 0) / len(data.index)\n",
    "mean_negative = data['negative_count'].sum(axis = 0) / len(data.index)"
   ]
  },
  {
   "cell_type": "code",
   "execution_count": 80,
   "metadata": {},
   "outputs": [],
   "source": [
    "## GRADED PART, PUT YOUR ANSWER HERE\n",
    "GRADING_ANSWER.Q3 = mean_positive + mean_negative"
   ]
  },
  {
   "cell_type": "markdown",
   "metadata": {
    "id": "sBzh5Tw6JIyy"
   },
   "source": [
    "**Task 4 (1 point)**\n",
    "Now remove all characters which are not English letters (`[a-zA-z]`) or digits (`[0-9]`) and tokenize the text splitting it by spaces. \n",
    "\n",
    "**Example:**\n",
    "`'mother+father = parents'` -> `[mother, father, parents]`\n",
    "\n",
    "Then remove stop words using nltk stopwords list for English (see cell below).\n",
    "\n",
    "What is the mean number of unique tokens in a review?"
   ]
  },
  {
   "cell_type": "code",
   "execution_count": 81,
   "metadata": {
    "colab": {
     "base_uri": "https://localhost:8080/"
    },
    "executionInfo": {
     "elapsed": 1037,
     "status": "ok",
     "timestamp": 1623687287467,
     "user": {
      "displayName": "Karim Yusupov",
      "photoUrl": "",
      "userId": "01083797945558986906"
     },
     "user_tz": -180
    },
    "id": "o2Mkk0XjJIyz",
    "outputId": "62f73413-cbca-41d2-ce4a-415a052d03d0"
   },
   "outputs": [
    {
     "name": "stderr",
     "output_type": "stream",
     "text": [
      "[nltk_data] Downloading package stopwords to /home/jovyan/nltk_data...\n",
      "[nltk_data]   Package stopwords is already up-to-date!\n"
     ]
    }
   ],
   "source": [
    "import nltk\n",
    "nltk.download('stopwords')\n",
    "\n",
    "from nltk.corpus import stopwords\n",
    "STOPWORDS = set(stopwords.words('english'))\n",
    "\n"
   ]
  },
  {
   "cell_type": "code",
   "execution_count": 82,
   "metadata": {},
   "outputs": [],
   "source": [
    "def filter_special(text):\n",
    "    # Step 1. Remove all characters which are not English letters ([a-zA-z]) or digits ([0-9])\n",
    "    text = re.sub('[^0-9a-zA-Z]+', ' ', text)\n",
    "\n",
    "    # Step 2. Remove multiple spaces\n",
    "    text = re.sub(' +', ' ', text)\n",
    "    \n",
    "    # Step 3. Remove spaces\n",
    "    text = text.strip()\n",
    "    \n",
    "    return text"
   ]
  },
  {
   "cell_type": "code",
   "execution_count": 83,
   "metadata": {},
   "outputs": [],
   "source": [
    "def filter_stopwords(tokens):\n",
    "    return [w for w in tokens if not w.lower() in STOPWORDS]"
   ]
  },
  {
   "cell_type": "code",
   "execution_count": 84,
   "metadata": {},
   "outputs": [],
   "source": [
    "def tokenize(text):\n",
    "    text = filter_special(text)\n",
    "    tokens = text.split()\n",
    "    tokens = filter_stopwords(tokens)\n",
    "    \n",
    "    return tokens"
   ]
  },
  {
   "cell_type": "code",
   "execution_count": 85,
   "metadata": {
    "id": "WW8ovBWMJIyz"
   },
   "outputs": [],
   "source": [
    "data['tokenized'] = data.apply(lambda row : tokenize(row['cleaned_reaview']), axis = 1)\n",
    "data['token_count'] = data.apply(lambda row : len(row['tokenized']), axis = 1)"
   ]
  },
  {
   "cell_type": "code",
   "execution_count": 86,
   "metadata": {},
   "outputs": [],
   "source": [
    "mean_uniq_tokens = data['token_count'].sum(axis = 0) / len(data.index)"
   ]
  },
  {
   "cell_type": "code",
   "execution_count": 87,
   "metadata": {
    "colab": {
     "base_uri": "https://localhost:8080/"
    },
    "executionInfo": {
     "elapsed": 8,
     "status": "ok",
     "timestamp": 1623687291339,
     "user": {
      "displayName": "Karim Yusupov",
      "photoUrl": "",
      "userId": "01083797945558986906"
     },
     "user_tz": -180
    },
    "id": "ZYJPqRXhJIy0",
    "outputId": "b1bd99f1-880d-4007-c3be-f078559c6e99"
   },
   "outputs": [],
   "source": [
    "## GRADED PART, PUT YOUR ANSWER HERE\n",
    "GRADING_ANSWER.Q4 = mean_uniq_tokens"
   ]
  },
  {
   "cell_type": "markdown",
   "metadata": {
    "id": "N08b-5jkJIy1"
   },
   "source": [
    "**Task 5 (1 point)**\n",
    "\n",
    "❗️Please, note, that this task may have a longer runtime.\n",
    "\n",
    "Using the same preprocessing as in task 4, tokenize the text into 3-grams. \n",
    "\n",
    "What is the most common 3-gram?\n",
    "\n",
    "**Example answer:** `\"the cat sat\"`.\n",
    "\n",
    "**Hint:** You may use `data['tokenized']` column and function `ngrams` from `nltk.util`."
   ]
  },
  {
   "cell_type": "code",
   "execution_count": 88,
   "metadata": {
    "id": "zkp25EYgJIy1"
   },
   "outputs": [],
   "source": [
    "import operator\n",
    "from nltk.util import ngrams\n",
    "\n"
   ]
  },
  {
   "cell_type": "code",
   "execution_count": 89,
   "metadata": {},
   "outputs": [],
   "source": [
    "data['3gram'] = data.apply(lambda row: [' '.join(list(v)) for v in list(ngrams(row['tokenized'], 3))], axis=1)"
   ]
  },
  {
   "cell_type": "code",
   "execution_count": 90,
   "metadata": {},
   "outputs": [],
   "source": [
    "x = count_uniq(data['3gram'])\n",
    "most_common = max(x.items(), key=operator.itemgetter(1))[0]"
   ]
  },
  {
   "cell_type": "code",
   "execution_count": 91,
   "metadata": {
    "colab": {
     "base_uri": "https://localhost:8080/",
     "height": 36
    },
    "executionInfo": {
     "elapsed": 697,
     "status": "ok",
     "timestamp": 1623687415208,
     "user": {
      "displayName": "Karim Yusupov",
      "photoUrl": "",
      "userId": "01083797945558986906"
     },
     "user_tz": -180
    },
    "id": "hZqsebqOJIy2",
    "outputId": "941e6ae5-08d2-47aa-9e12-2770e80feb27"
   },
   "outputs": [],
   "source": [
    "## GRADED PART, PUT YOUR ANSWER HERE\n",
    "GRADING_ANSWER.Q5 = most_common"
   ]
  },
  {
   "cell_type": "markdown",
   "metadata": {
    "id": "44YD1gnCJIy3"
   },
   "source": [
    "**Task 6 (1 point)**\n",
    "\n",
    "❗️Please, note, that this task may have a longer runtime.\n",
    "\n",
    "Use `WordPunctTokenizer` from `nltk` library for text tokenization. Apply it to `data['cleaned_review']`, then remove punctuation using `string.punctuation` and stopwords as before.\n",
    "\n",
    "What is top-10 most frequent tokens? (Write tokens in one string separated by spaces).\n",
    "\n",
    "**Example answer:** `'mother film cinema two good film even would really story'`"
   ]
  },
  {
   "cell_type": "code",
   "execution_count": 92,
   "metadata": {
    "id": "8aMPnmduJIy3"
   },
   "outputs": [],
   "source": [
    "import string\n",
    "from nltk import WordPunctTokenizer\n",
    "\n",
    "\n",
    "tk = WordPunctTokenizer()"
   ]
  },
  {
   "cell_type": "code",
   "execution_count": 93,
   "metadata": {},
   "outputs": [],
   "source": [
    "data['nltk_tokenized'] = data.apply(lambda row: tk.tokenize(row['cleaned_reaview']), axis=1)"
   ]
  },
  {
   "cell_type": "code",
   "execution_count": 94,
   "metadata": {},
   "outputs": [],
   "source": [
    "def filter_tokenized(words):\n",
    "    return [w for w in words if (w not in STOPWORDS and \\\n",
    "                                w not in string.punctuation)]"
   ]
  },
  {
   "cell_type": "code",
   "execution_count": 95,
   "metadata": {},
   "outputs": [],
   "source": [
    "data['nltk_tokenized'] = data.apply(lambda row: filter_tokenized(row['nltk_tokenized']), axis=1)"
   ]
  },
  {
   "cell_type": "code",
   "execution_count": 96,
   "metadata": {},
   "outputs": [],
   "source": [
    "x = count_uniq(data['nltk_tokenized'])\n",
    "fr_tokens_sorted = {k: v for k, v in sorted(x.items(), key=lambda item: item[1], reverse=True)}\n",
    "\n",
    "result = ' '.join(list(fr_tokens_sorted)[:10])"
   ]
  },
  {
   "cell_type": "code",
   "execution_count": 97,
   "metadata": {
    "colab": {
     "base_uri": "https://localhost:8080/",
     "height": 36
    },
    "executionInfo": {
     "elapsed": 27,
     "status": "ok",
     "timestamp": 1623687540417,
     "user": {
      "displayName": "Karim Yusupov",
      "photoUrl": "",
      "userId": "01083797945558986906"
     },
     "user_tz": -180
    },
    "id": "WDhLvMsOJIy4",
    "outputId": "e6b7409c-bcc7-41d3-869a-04428a9b9c86"
   },
   "outputs": [],
   "source": [
    "## GRADED PART, PUT YOUR ANSWER HERE\n",
    "GRADING_ANSWER.Q6 = result"
   ]
  },
  {
   "cell_type": "markdown",
   "metadata": {
    "id": "6N_kz4MNJIy5"
   },
   "source": [
    "**Task 7 (1 point)** \n",
    "\n",
    "❗️Please, note, that this task may have a longer runtime.\n",
    "\n",
    "Using `SnowballStemmer ` from `nltk.stem.snowball` stem first 100 lines in the data (`data.head(100)['nltk_tokenized']`). \n",
    "\n",
    "What is the number of unique stems?"
   ]
  },
  {
   "cell_type": "code",
   "execution_count": 98,
   "metadata": {
    "id": "yoBc2gMRJIy7"
   },
   "outputs": [],
   "source": [
    "from nltk.stem.snowball import SnowballStemmer \n",
    "\n",
    "\n",
    "stemmer = SnowballStemmer(\"english\")"
   ]
  },
  {
   "cell_type": "code",
   "execution_count": 99,
   "metadata": {},
   "outputs": [],
   "source": [
    "def filter_stemm(tokens):\n",
    "    stems = []\n",
    "    \n",
    "    for token in tokens:\n",
    "        token = stemmer.stem(token)\n",
    "        if token != '':\n",
    "            stems.append(token)\n",
    "    \n",
    "    return stems"
   ]
  },
  {
   "cell_type": "code",
   "execution_count": 100,
   "metadata": {},
   "outputs": [],
   "source": [
    "data['nltk_stemmed'] = data.apply(lambda row: filter_stemm(row['nltk_tokenized']), axis=1)"
   ]
  },
  {
   "cell_type": "code",
   "execution_count": 101,
   "metadata": {},
   "outputs": [],
   "source": [
    "x = count_uniq(data['nltk_stemmed'][:100])"
   ]
  },
  {
   "cell_type": "code",
   "execution_count": 102,
   "metadata": {},
   "outputs": [],
   "source": [
    "## GRADED PART, PUT YOUR ANSWER HERE\n",
    "GRADING_ANSWER.Q7 = len(x.keys())"
   ]
  },
  {
   "cell_type": "markdown",
   "metadata": {
    "id": "dM0DU6ZXJIy8"
   },
   "source": [
    "**Task 8 (1 point)** Using `nltk.stem.WordNetLemmatizer()` lemmatize first 100 lines in the data (`data.head(100)['nltk_tokenized']`). \n",
    "\n",
    "What is the number of unique lemmas?"
   ]
  },
  {
   "cell_type": "code",
   "execution_count": 103,
   "metadata": {
    "colab": {
     "base_uri": "https://localhost:8080/"
    },
    "executionInfo": {
     "elapsed": 20,
     "status": "ok",
     "timestamp": 1623687540424,
     "user": {
      "displayName": "Karim Yusupov",
      "photoUrl": "",
      "userId": "01083797945558986906"
     },
     "user_tz": -180
    },
    "id": "Lj-fB0hOJIy9",
    "outputId": "b9a089f8-ed32-465d-f133-c609cc919bf0"
   },
   "outputs": [
    {
     "name": "stderr",
     "output_type": "stream",
     "text": [
      "[nltk_data] Downloading package wordnet to /home/jovyan/nltk_data...\n",
      "[nltk_data]   Package wordnet is already up-to-date!\n"
     ]
    }
   ],
   "source": [
    "import nltk\n",
    "from nltk.stem import WordNetLemmatizer\n",
    "\n",
    "\n",
    "nltk.download('wordnet')\n",
    "lemmatizer = WordNetLemmatizer()"
   ]
  },
  {
   "cell_type": "code",
   "execution_count": 104,
   "metadata": {},
   "outputs": [],
   "source": [
    "data['nltk_lemmatized'] = data.apply(lambda row: [lemmatizer.lemmatize(w) for w in row['nltk_tokenized']], axis=1)"
   ]
  },
  {
   "cell_type": "code",
   "execution_count": 105,
   "metadata": {},
   "outputs": [],
   "source": [
    "x = count_uniq(data['nltk_lemmatized'][:100])"
   ]
  },
  {
   "cell_type": "code",
   "execution_count": 106,
   "metadata": {},
   "outputs": [],
   "source": [
    "## GRADED PART, PUT YOUR ANSWER HERE\n",
    "GRADING_ANSWER.Q8 = len(x.keys())"
   ]
  },
  {
   "cell_type": "markdown",
   "metadata": {
    "id": "4KvVVl8mJIy9"
   },
   "source": [
    "### Classification model\n",
    "\n",
    "Now it's time to solve a text classification task. First, split the data using the cell below (do not change the random state!)."
   ]
  },
  {
   "cell_type": "code",
   "execution_count": 107,
   "metadata": {
    "colab": {
     "base_uri": "https://localhost:8080/",
     "height": 380
    },
    "executionInfo": {
     "elapsed": 12,
     "status": "ok",
     "timestamp": 1623687613308,
     "user": {
      "displayName": "Karim Yusupov",
      "photoUrl": "",
      "userId": "01083797945558986906"
     },
     "user_tz": -180
    },
    "id": "rqLtpaiRJIy-",
    "outputId": "53019648-fef2-4668-e12d-41930263c96d"
   },
   "outputs": [],
   "source": [
    "from sklearn.model_selection import train_test_split\n",
    "\n"
   ]
  },
  {
   "cell_type": "markdown",
   "metadata": {
    "id": "KVuYSDMgJIy-"
   },
   "source": [
    "Compute features for `train_df` and `test_df`.\n",
    "* length of the original review\n",
    "* length of the text in tokens (use `nltk_tokenized` column)\n",
    "* length of the text in 3-grams (use `3gram` column)\n",
    "* number of unigue tokens (use `nltk_tokenized` column)\n",
    "* number of unique 3-grams (use `3gram` column)\n",
    "* positive_count and negative_count from task 3\n",
    "* counters for tokens best, worst, good, bad, excellent, horrible (use `nltk_tokenized` column and create a separate feature for each of this tokens).\n",
    "\n",
    "Thus, you obtain the following list of features: \n",
    "\n",
    "`features = ['original_length','token_length', '3gram_length', 'token_count', '3gram_count', 'best_count', 'worst_count', 'good_count', 'bad_count', 'excellent_count', 'horrible_count', 'positive_count', 'negative_count']`\n",
    "\n",
    "\n",
    "**Task 9 (1 point)** \n",
    "\n",
    "Compute **absolute** correlation between features and target variable `sentiment` in `train_df`. What is the most correlated variable?\n",
    "\n",
    "**Hint:** use `np.corrcoef` and do not forget about `abs`."
   ]
  },
  {
   "cell_type": "code",
   "execution_count": 108,
   "metadata": {
    "id": "dUN0cb7zJIy_"
   },
   "outputs": [],
   "source": [
    "from scipy.stats.stats import pearsonr\n",
    "\n",
    "\n",
    "features = ['original_length','token_length', '3gram_length', 'token_count', '3gram_count', 'best_count', 'worst_count', 'good_count', 'bad_count', 'excellent_count', 'horrible_count', 'positive_count', 'negative_count']"
   ]
  },
  {
   "cell_type": "code",
   "execution_count": 109,
   "metadata": {},
   "outputs": [],
   "source": [
    "data['original_length'] = data.apply(lambda row: len(row['review']), axis=1)\n",
    "data['token_length'] = data.apply(lambda row: len(row['nltk_tokenized']), axis=1)\n",
    "data['3gram_length'] = data.apply(lambda row: len(row['3gram']), axis=1)\n",
    "data['token_count'] = data.apply(lambda row: len(set(row['nltk_tokenized'])), axis=1)\n",
    "data['3gram_count'] = data.apply(lambda row: len(set(row['3gram'])), axis=1)"
   ]
  },
  {
   "cell_type": "code",
   "execution_count": 110,
   "metadata": {},
   "outputs": [],
   "source": [
    "data['best_count']  = data.apply(lambda row: len([w for w in row['nltk_tokenized'] if w == 'best']), axis=1)\n",
    "data['worst_count']  = data.apply(lambda row: len([w for w in row['nltk_tokenized'] if w == 'worst']), axis=1)\n",
    "data['good_count']  = data.apply(lambda row: len([w for w in row['nltk_tokenized'] if w == 'good']), axis=1)\n",
    "data['bad_count']  = data.apply(lambda row: len([w for w in row['nltk_tokenized'] if w == 'bad']), axis=1)\n",
    "data['excellent_count']  = data.apply(lambda row: len([w for w in row['nltk_tokenized'] if w == 'excellent']), axis=1)\n",
    "data['horrible_count']  = data.apply(lambda row: len([w for w in row['nltk_tokenized'] if w == 'horrible']), axis=1)"
   ]
  },
  {
   "cell_type": "code",
   "execution_count": 111,
   "metadata": {},
   "outputs": [
    {
     "data": {
      "text/html": [
       "<div>\n",
       "<style scoped>\n",
       "    .dataframe tbody tr th:only-of-type {\n",
       "        vertical-align: middle;\n",
       "    }\n",
       "\n",
       "    .dataframe tbody tr th {\n",
       "        vertical-align: top;\n",
       "    }\n",
       "\n",
       "    .dataframe thead th {\n",
       "        text-align: right;\n",
       "    }\n",
       "</style>\n",
       "<table border=\"1\" class=\"dataframe\">\n",
       "  <thead>\n",
       "    <tr style=\"text-align: right;\">\n",
       "      <th></th>\n",
       "      <th>sentiment</th>\n",
       "      <th>review</th>\n",
       "      <th>tags</th>\n",
       "      <th>cleaned_reaview</th>\n",
       "      <th>positive_count</th>\n",
       "      <th>negative_count</th>\n",
       "      <th>tokenized</th>\n",
       "      <th>token_count</th>\n",
       "      <th>3gram</th>\n",
       "      <th>nltk_tokenized</th>\n",
       "      <th>...</th>\n",
       "      <th>original_length</th>\n",
       "      <th>token_length</th>\n",
       "      <th>3gram_length</th>\n",
       "      <th>3gram_count</th>\n",
       "      <th>best_count</th>\n",
       "      <th>worst_count</th>\n",
       "      <th>good_count</th>\n",
       "      <th>bad_count</th>\n",
       "      <th>excellent_count</th>\n",
       "      <th>horrible_count</th>\n",
       "    </tr>\n",
       "  </thead>\n",
       "  <tbody>\n",
       "    <tr>\n",
       "      <th>9254</th>\n",
       "      <td>0</td>\n",
       "      <td>Actress Patty Duke wrote an insightful, funny,...</td>\n",
       "      <td>[]</td>\n",
       "      <td>actress patty duke wrote an insightful, funny,...</td>\n",
       "      <td>3</td>\n",
       "      <td>3</td>\n",
       "      <td>[actress, patty, duke, wrote, insightful, funn...</td>\n",
       "      <td>97</td>\n",
       "      <td>[actress patty duke, patty duke wrote, duke wr...</td>\n",
       "      <td>[actress, patty, duke, wrote, insightful, funn...</td>\n",
       "      <td>...</td>\n",
       "      <td>1083</td>\n",
       "      <td>107</td>\n",
       "      <td>102</td>\n",
       "      <td>102</td>\n",
       "      <td>0</td>\n",
       "      <td>0</td>\n",
       "      <td>1</td>\n",
       "      <td>0</td>\n",
       "      <td>0</td>\n",
       "      <td>0</td>\n",
       "    </tr>\n",
       "    <tr>\n",
       "      <th>1561</th>\n",
       "      <td>1</td>\n",
       "      <td>In answer to the person who made the comment a...</td>\n",
       "      <td>[&lt;br /&gt;, &lt;br /&gt;]</td>\n",
       "      <td>in answer to the person who made the comment a...</td>\n",
       "      <td>0</td>\n",
       "      <td>0</td>\n",
       "      <td>[answer, person, made, comment, film, drags, b...</td>\n",
       "      <td>57</td>\n",
       "      <td>[answer person made, person made comment, made...</td>\n",
       "      <td>[answer, person, made, comment, film, drags, b...</td>\n",
       "      <td>...</td>\n",
       "      <td>825</td>\n",
       "      <td>75</td>\n",
       "      <td>73</td>\n",
       "      <td>72</td>\n",
       "      <td>0</td>\n",
       "      <td>0</td>\n",
       "      <td>0</td>\n",
       "      <td>0</td>\n",
       "      <td>0</td>\n",
       "      <td>0</td>\n",
       "    </tr>\n",
       "    <tr>\n",
       "      <th>1670</th>\n",
       "      <td>0</td>\n",
       "      <td>Madison is not too bad-if you like simplistic...</td>\n",
       "      <td>[&lt;br /&gt;, &lt;br /&gt;, &lt;br /&gt;, &lt;br /&gt;, &lt;br /&gt;, &lt;br /...</td>\n",
       "      <td>madison is not too bad-if you like simplistic...</td>\n",
       "      <td>2</td>\n",
       "      <td>2</td>\n",
       "      <td>[madison, bad, like, simplistic, non, offensiv...</td>\n",
       "      <td>188</td>\n",
       "      <td>[madison bad like, bad like simplistic, like s...</td>\n",
       "      <td>[madison, bad, -, like, simplistic, non, offe...</td>\n",
       "      <td>...</td>\n",
       "      <td>2224</td>\n",
       "      <td>213</td>\n",
       "      <td>208</td>\n",
       "      <td>208</td>\n",
       "      <td>1</td>\n",
       "      <td>0</td>\n",
       "      <td>0</td>\n",
       "      <td>1</td>\n",
       "      <td>0</td>\n",
       "      <td>0</td>\n",
       "    </tr>\n",
       "    <tr>\n",
       "      <th>6087</th>\n",
       "      <td>0</td>\n",
       "      <td>This is a strange sex comedy because there`s v...</td>\n",
       "      <td>[&lt;br /&gt;, &lt;br /&gt;]</td>\n",
       "      <td>this is a strange sex comedy because there`s v...</td>\n",
       "      <td>0</td>\n",
       "      <td>0</td>\n",
       "      <td>[strange, sex, comedy, little, comedy, whole, ...</td>\n",
       "      <td>60</td>\n",
       "      <td>[strange sex comedy, sex comedy little, comedy...</td>\n",
       "      <td>[strange, sex, comedy, little, comedy, whole, ...</td>\n",
       "      <td>...</td>\n",
       "      <td>694</td>\n",
       "      <td>66</td>\n",
       "      <td>64</td>\n",
       "      <td>64</td>\n",
       "      <td>0</td>\n",
       "      <td>0</td>\n",
       "      <td>0</td>\n",
       "      <td>0</td>\n",
       "      <td>0</td>\n",
       "      <td>0</td>\n",
       "    </tr>\n",
       "    <tr>\n",
       "      <th>6669</th>\n",
       "      <td>1</td>\n",
       "      <td>Thats My Bush is first of all a very entertain...</td>\n",
       "      <td>[&lt;br /&gt;, &lt;br /&gt;, &lt;br /&gt;, &lt;br /&gt;, &lt;br /&gt;, &lt;br /...</td>\n",
       "      <td>thats my bush is first of all a very entertain...</td>\n",
       "      <td>0</td>\n",
       "      <td>0</td>\n",
       "      <td>[thats, bush, first, entertaining, show, parke...</td>\n",
       "      <td>179</td>\n",
       "      <td>[thats bush first, bush first entertaining, fi...</td>\n",
       "      <td>[thats, bush, first, entertaining, show, parke...</td>\n",
       "      <td>...</td>\n",
       "      <td>2980</td>\n",
       "      <td>254</td>\n",
       "      <td>251</td>\n",
       "      <td>251</td>\n",
       "      <td>0</td>\n",
       "      <td>1</td>\n",
       "      <td>1</td>\n",
       "      <td>0</td>\n",
       "      <td>0</td>\n",
       "      <td>0</td>\n",
       "    </tr>\n",
       "  </tbody>\n",
       "</table>\n",
       "<p>5 rows × 22 columns</p>\n",
       "</div>"
      ],
      "text/plain": [
       "      sentiment                                             review  \\\n",
       "9254          0  Actress Patty Duke wrote an insightful, funny,...   \n",
       "1561          1  In answer to the person who made the comment a...   \n",
       "1670          0  Madison is not too bad-if you like simplistic...   \n",
       "6087          0  This is a strange sex comedy because there`s v...   \n",
       "6669          1  Thats My Bush is first of all a very entertain...   \n",
       "\n",
       "                                                   tags  \\\n",
       "9254                                                 []   \n",
       "1561                                   [<br />, <br />]   \n",
       "1670  [<br />, <br />, <br />, <br />, <br />, <br /...   \n",
       "6087                                   [<br />, <br />]   \n",
       "6669  [<br />, <br />, <br />, <br />, <br />, <br /...   \n",
       "\n",
       "                                        cleaned_reaview  positive_count  \\\n",
       "9254  actress patty duke wrote an insightful, funny,...               3   \n",
       "1561  in answer to the person who made the comment a...               0   \n",
       "1670  madison is not too bad-if you like simplistic...               2   \n",
       "6087  this is a strange sex comedy because there`s v...               0   \n",
       "6669  thats my bush is first of all a very entertain...               0   \n",
       "\n",
       "      negative_count                                          tokenized  \\\n",
       "9254               3  [actress, patty, duke, wrote, insightful, funn...   \n",
       "1561               0  [answer, person, made, comment, film, drags, b...   \n",
       "1670               2  [madison, bad, like, simplistic, non, offensiv...   \n",
       "6087               0  [strange, sex, comedy, little, comedy, whole, ...   \n",
       "6669               0  [thats, bush, first, entertaining, show, parke...   \n",
       "\n",
       "      token_count                                              3gram  \\\n",
       "9254           97  [actress patty duke, patty duke wrote, duke wr...   \n",
       "1561           57  [answer person made, person made comment, made...   \n",
       "1670          188  [madison bad like, bad like simplistic, like s...   \n",
       "6087           60  [strange sex comedy, sex comedy little, comedy...   \n",
       "6669          179  [thats bush first, bush first entertaining, fi...   \n",
       "\n",
       "                                         nltk_tokenized  ... original_length  \\\n",
       "9254  [actress, patty, duke, wrote, insightful, funn...  ...            1083   \n",
       "1561  [answer, person, made, comment, film, drags, b...  ...             825   \n",
       "1670  [madison, bad, -, like, simplistic, non, offe...  ...            2224   \n",
       "6087  [strange, sex, comedy, little, comedy, whole, ...  ...             694   \n",
       "6669  [thats, bush, first, entertaining, show, parke...  ...            2980   \n",
       "\n",
       "     token_length  3gram_length  3gram_count  best_count  worst_count  \\\n",
       "9254          107           102          102           0            0   \n",
       "1561           75            73           72           0            0   \n",
       "1670          213           208          208           1            0   \n",
       "6087           66            64           64           0            0   \n",
       "6669          254           251          251           0            1   \n",
       "\n",
       "      good_count  bad_count  excellent_count  horrible_count  \n",
       "9254           1          0                0               0  \n",
       "1561           0          0                0               0  \n",
       "1670           0          1                0               0  \n",
       "6087           0          0                0               0  \n",
       "6669           1          0                0               0  \n",
       "\n",
       "[5 rows x 22 columns]"
      ]
     },
     "execution_count": 111,
     "metadata": {},
     "output_type": "execute_result"
    }
   ],
   "source": [
    "train_df, test_df = train_test_split(data, test_size = 0.2, random_state = 42)\n",
    "train_df = train_df.copy()\n",
    "test_df = test_df.copy()\n",
    "\n",
    "train_df.head()"
   ]
  },
  {
   "cell_type": "code",
   "execution_count": 112,
   "metadata": {},
   "outputs": [
    {
     "data": {
      "image/png": "[encoded data removed]",
      "text/plain": [
       "<Figure size 864x720 with 2 Axes>"
      ]
     },
     "metadata": {
      "needs_background": "light"
     },
     "output_type": "display_data"
    }
   ],
   "source": [
    "import matplotlib.pyplot as plt\n",
    "import seaborn as sns\n",
    "\n",
    "\n",
    "#Using Pearson Correlation\n",
    "\n",
    "plt.figure(figsize=(12,10))\n",
    "cor = train_df.corr()\n",
    "\n",
    "sns.heatmap(cor, annot=True, cmap=plt.cm.Reds)\n",
    "plt.show()"
   ]
  },
  {
   "cell_type": "code",
   "execution_count": 113,
   "metadata": {},
   "outputs": [
    {
     "name": "stdout",
     "output_type": "stream",
     "text": [
      "corr sentiment with original_length: 0.01631844812397975\n",
      "corr sentiment with token_length: 0.018608658237475487\n",
      "corr sentiment with 3gram_length: 0.020021172482531102\n",
      "corr sentiment with token_count: 0.01336065176447065\n",
      "corr sentiment with 3gram_count: 0.020062888429880195\n",
      "corr sentiment with best_count: 0.15141741713861787\n",
      "corr sentiment with worst_count: 0.23431738493554014\n",
      "corr sentiment with good_count: 0.020682821389952873\n",
      "corr sentiment with bad_count: 0.2721499998381999\n",
      "corr sentiment with excellent_count: 0.15473460802284225\n",
      "corr sentiment with horrible_count: 0.14664118806788645\n",
      "corr sentiment with positive_count: 0.037240831175317936\n",
      "corr sentiment with negative_count: 0.04300851753180155\n"
     ]
    }
   ],
   "source": [
    "for feature in features:\n",
    "    corr = abs(np.corrcoef(train_df['sentiment'], train_df[feature])[1, 0])\n",
    "    print(f'corr sentiment with {feature}: {corr}')"
   ]
  },
  {
   "cell_type": "code",
   "execution_count": 114,
   "metadata": {
    "colab": {
     "base_uri": "https://localhost:8080/",
     "height": 36
    },
    "executionInfo": {
     "elapsed": 33,
     "status": "ok",
     "timestamp": 1623687614211,
     "user": {
      "displayName": "Karim Yusupov",
      "photoUrl": "",
      "userId": "01083797945558986906"
     },
     "user_tz": -180
    },
    "id": "wcPEUpM5JIzA",
    "outputId": "c1513f51-9f90-467c-de14-d85ba4516426"
   },
   "outputs": [],
   "source": [
    "## GRADED PART, PUT YOUR ANSWER HERE\n",
    "GRADING_ANSWER.Q9 = 'bad_count'"
   ]
  },
  {
   "cell_type": "markdown",
   "metadata": {
    "id": "bR-4lNVPJIzA"
   },
   "source": [
    "**Task 10 (1 point)**\n",
    "\n",
    "Scale the data using `StandardScaler` from `sklearn` and train `LogisticRegression` with default parametes from `sklearn.linear_model`.\n",
    "\n",
    "What is F1-score for the `test_df`? Round your answer up to 4 points after the decimal point (`round(score, 4)`)."
   ]
  },
  {
   "cell_type": "code",
   "execution_count": 115,
   "metadata": {
    "id": "MM0PUCKVJIzB"
   },
   "outputs": [],
   "source": [
    "from sklearn.linear_model import LogisticRegression\n",
    "from sklearn.preprocessing import StandardScaler\n",
    "from sklearn.metrics import f1_score\n",
    "\n"
   ]
  },
  {
   "cell_type": "code",
   "execution_count": 116,
   "metadata": {},
   "outputs": [],
   "source": [
    "X_train = train_df.loc[:, features].values\n",
    "y_train = train_df.loc[:,['sentiment']].values\n",
    "\n",
    "X_test = test_df.loc[:, features].values\n",
    "y_test = test_df.loc[:,['sentiment']].values"
   ]
  },
  {
   "cell_type": "code",
   "execution_count": 117,
   "metadata": {},
   "outputs": [],
   "source": [
    "scaler = StandardScaler()\n",
    "\n",
    "X_train_scaled = scaler.fit_transform(X_train)\n",
    "X_test_scaled = scaler.fit_transform(X_test)"
   ]
  },
  {
   "cell_type": "code",
   "execution_count": 118,
   "metadata": {},
   "outputs": [],
   "source": [
    "log_reg = LogisticRegression()\n",
    "\n",
    "log_reg.fit(X_train_scaled, y_train)\n",
    "y_pred = log_reg.predict(X_test_scaled)"
   ]
  },
  {
   "cell_type": "code",
   "execution_count": 119,
   "metadata": {},
   "outputs": [
    {
     "data": {
      "text/plain": [
       "0.7162"
      ]
     },
     "execution_count": 119,
     "metadata": {},
     "output_type": "execute_result"
    }
   ],
   "source": [
    "score = f1_score(y_test, y_pred)\n",
    "round(score, 4)"
   ]
  },
  {
   "cell_type": "code",
   "execution_count": 120,
   "metadata": {
    "id": "dBOnE0CyJIzC"
   },
   "outputs": [],
   "source": [
    "## GRADED PART, PUT YOUR ANSWER HERE\n",
    "GRADING_ANSWER.Q10 = round(score, 4)"
   ]
  },
  {
   "cell_type": "markdown",
   "metadata": {},
   "source": [
    "❗️Remember to **run the first code cell again** before submitting the solution."
   ]
  }
 ],
 "metadata": {
  "colab": {
   "collapsed_sections": [],
   "name": "week1_programming_assignment_v1.1.ipynb",
   "provenance": []
  },
  "coursera": {
   "schema_names": [
    "b0WcdBdKTMyFnHQXStzMGA"
   ]
  },
  "kernelspec": {
   "display_name": "Python 3",
   "language": "python",
   "name": "python3"
  },
  "language_info": {
   "codemirror_mode": {
    "name": "ipython",
    "version": 3
   },
   "file_extension": ".py",
   "mimetype": "text/x-python",
   "name": "python",
   "nbconvert_exporter": "python",
   "pygments_lexer": "ipython3",
   "version": "3.7.6"
  }
 },
 "nbformat": 4,
 "nbformat_minor": 1
}
